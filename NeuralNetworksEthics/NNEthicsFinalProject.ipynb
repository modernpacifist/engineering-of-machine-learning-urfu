{
  "nbformat": 4,
  "nbformat_minor": 0,
  "metadata": {
    "colab": {
      "provenance": []
    },
    "kernelspec": {
      "name": "python3",
      "display_name": "Python 3"
    },
    "language_info": {
      "name": "python"
    }
  },
  "cells": [
    {
      "cell_type": "code",
      "execution_count": 1,
      "metadata": {
        "id": "-36TQNESW67S"
      },
      "outputs": [],
      "source": [
        "import numpy as np\n",
        "import pandas as pd\n",
        "\n",
        "from sklearn.model_selection import train_test_split\n",
        "from sklearn.feature_extraction.text import CountVectorizer\n",
        "from sklearn.linear_model import LogisticRegression\n",
        "from sklearn.metrics import accuracy_score"
      ]
    },
    {
      "cell_type": "code",
      "source": [
        "pd.set_option('display.max_columns', None)\n",
        "pd.set_option('display.width', None)"
      ],
      "metadata": {
        "id": "MvlL0n45j9Jc"
      },
      "execution_count": 2,
      "outputs": []
    },
    {
      "cell_type": "code",
      "source": [
        "from google.colab import drive\n",
        "drive.mount('/content/drive')"
      ],
      "metadata": {
        "colab": {
          "base_uri": "https://localhost:8080/"
        },
        "id": "KIc0uEXkYmEV",
        "outputId": "8a9b15f1-746a-4df5-a977-73fe96b4b7c3"
      },
      "execution_count": 3,
      "outputs": [
        {
          "output_type": "stream",
          "name": "stdout",
          "text": [
            "Drive already mounted at /content/drive; to attempt to forcibly remount, call drive.mount(\"/content/drive\", force_remount=True).\n"
          ]
        }
      ]
    },
    {
      "cell_type": "code",
      "source": [
        "# Get the same results each time\n",
        "np.random.seed(0)"
      ],
      "metadata": {
        "id": "-NUimrYKXUYm"
      },
      "execution_count": 4,
      "outputs": []
    },
    {
      "cell_type": "code",
      "source": [
        "# Load the training data\n",
        "data = pd.read_csv(\"/content/drive/MyDrive/UrfuMagistracy/NNEthics/data.csv\")\n",
        "comments = data[\"comment_text\"]\n",
        "target = (data[\"target\"]>0.7).astype(int)"
      ],
      "metadata": {
        "id": "hBxzaY-jXTLx"
      },
      "execution_count": 5,
      "outputs": []
    },
    {
      "cell_type": "code",
      "source": [
        "comments.shape"
      ],
      "metadata": {
        "colab": {
          "base_uri": "https://localhost:8080/"
        },
        "id": "Rvou5k7fZZL1",
        "outputId": "dcdcdd3f-00c6-416d-9d42-42fe9f3eabe8"
      },
      "execution_count": 6,
      "outputs": [
        {
          "output_type": "execute_result",
          "data": {
            "text/plain": [
              "(90902,)"
            ]
          },
          "metadata": {},
          "execution_count": 6
        }
      ]
    },
    {
      "cell_type": "markdown",
      "source": [
        "### Task 1"
      ],
      "metadata": {
        "id": "yi_X1vN9YzYJ"
      }
    },
    {
      "cell_type": "code",
      "source": [
        "X_train, X_test, y_train, y_test = train_test_split(comments, target, test_size=0.3, random_state=42)"
      ],
      "metadata": {
        "id": "_YMFcfuMF-zi"
      },
      "execution_count": 7,
      "outputs": []
    },
    {
      "cell_type": "markdown",
      "source": [
        "### Task 2"
      ],
      "metadata": {
        "id": "JSTobSbvF4OA"
      }
    },
    {
      "cell_type": "code",
      "source": [
        "VECTORIZER = CountVectorizer()"
      ],
      "metadata": {
        "id": "h0Dncf4fGWPg"
      },
      "execution_count": 8,
      "outputs": []
    },
    {
      "cell_type": "code",
      "source": [
        "X_train_numeric = VECTORIZER.fit_transform(X_train)"
      ],
      "metadata": {
        "id": "gOBbq0j0GZKG"
      },
      "execution_count": 9,
      "outputs": []
    },
    {
      "cell_type": "code",
      "source": [
        "X_train.shape"
      ],
      "metadata": {
        "colab": {
          "base_uri": "https://localhost:8080/"
        },
        "outputId": "461426cd-1915-43d1-9d60-9239aacc3e20",
        "id": "BJqhTADKFzl2"
      },
      "execution_count": 10,
      "outputs": [
        {
          "output_type": "execute_result",
          "data": {
            "text/plain": [
              "(63631,)"
            ]
          },
          "metadata": {},
          "execution_count": 10
        }
      ]
    },
    {
      "cell_type": "code",
      "source": [
        "X_test_numeric = VECTORIZER.transform(X_test)"
      ],
      "metadata": {
        "id": "k2zKCJkgGemU"
      },
      "execution_count": 11,
      "outputs": []
    },
    {
      "cell_type": "code",
      "source": [
        "X_test.shape"
      ],
      "metadata": {
        "colab": {
          "base_uri": "https://localhost:8080/"
        },
        "outputId": "d023156d-45a8-45fa-9611-88eb4a70affc",
        "id": "5HJaf3nBFzl2"
      },
      "execution_count": 12,
      "outputs": [
        {
          "output_type": "execute_result",
          "data": {
            "text/plain": [
              "(27271,)"
            ]
          },
          "metadata": {},
          "execution_count": 12
        }
      ]
    },
    {
      "cell_type": "markdown",
      "source": [
        "### Task 3"
      ],
      "metadata": {
        "id": "GRsIoOwtkPmP"
      }
    },
    {
      "cell_type": "code",
      "source": [
        "model = LogisticRegression(max_iter=2000)"
      ],
      "metadata": {
        "id": "ZhrNS14npd6s"
      },
      "execution_count": 13,
      "outputs": []
    },
    {
      "cell_type": "code",
      "source": [
        "model.fit(X_train_numeric, y_train)"
      ],
      "metadata": {
        "colab": {
          "base_uri": "https://localhost:8080/",
          "height": 74
        },
        "id": "pMRIRpH1p7Hl",
        "outputId": "8a1777d5-ea87-4688-b1f9-64004c3764c4"
      },
      "execution_count": 14,
      "outputs": [
        {
          "output_type": "execute_result",
          "data": {
            "text/plain": [
              "LogisticRegression(max_iter=2000)"
            ],
            "text/html": [
              "<style>#sk-container-id-1 {color: black;background-color: white;}#sk-container-id-1 pre{padding: 0;}#sk-container-id-1 div.sk-toggleable {background-color: white;}#sk-container-id-1 label.sk-toggleable__label {cursor: pointer;display: block;width: 100%;margin-bottom: 0;padding: 0.3em;box-sizing: border-box;text-align: center;}#sk-container-id-1 label.sk-toggleable__label-arrow:before {content: \"▸\";float: left;margin-right: 0.25em;color: #696969;}#sk-container-id-1 label.sk-toggleable__label-arrow:hover:before {color: black;}#sk-container-id-1 div.sk-estimator:hover label.sk-toggleable__label-arrow:before {color: black;}#sk-container-id-1 div.sk-toggleable__content {max-height: 0;max-width: 0;overflow: hidden;text-align: left;background-color: #f0f8ff;}#sk-container-id-1 div.sk-toggleable__content pre {margin: 0.2em;color: black;border-radius: 0.25em;background-color: #f0f8ff;}#sk-container-id-1 input.sk-toggleable__control:checked~div.sk-toggleable__content {max-height: 200px;max-width: 100%;overflow: auto;}#sk-container-id-1 input.sk-toggleable__control:checked~label.sk-toggleable__label-arrow:before {content: \"▾\";}#sk-container-id-1 div.sk-estimator input.sk-toggleable__control:checked~label.sk-toggleable__label {background-color: #d4ebff;}#sk-container-id-1 div.sk-label input.sk-toggleable__control:checked~label.sk-toggleable__label {background-color: #d4ebff;}#sk-container-id-1 input.sk-hidden--visually {border: 0;clip: rect(1px 1px 1px 1px);clip: rect(1px, 1px, 1px, 1px);height: 1px;margin: -1px;overflow: hidden;padding: 0;position: absolute;width: 1px;}#sk-container-id-1 div.sk-estimator {font-family: monospace;background-color: #f0f8ff;border: 1px dotted black;border-radius: 0.25em;box-sizing: border-box;margin-bottom: 0.5em;}#sk-container-id-1 div.sk-estimator:hover {background-color: #d4ebff;}#sk-container-id-1 div.sk-parallel-item::after {content: \"\";width: 100%;border-bottom: 1px solid gray;flex-grow: 1;}#sk-container-id-1 div.sk-label:hover label.sk-toggleable__label {background-color: #d4ebff;}#sk-container-id-1 div.sk-serial::before {content: \"\";position: absolute;border-left: 1px solid gray;box-sizing: border-box;top: 0;bottom: 0;left: 50%;z-index: 0;}#sk-container-id-1 div.sk-serial {display: flex;flex-direction: column;align-items: center;background-color: white;padding-right: 0.2em;padding-left: 0.2em;position: relative;}#sk-container-id-1 div.sk-item {position: relative;z-index: 1;}#sk-container-id-1 div.sk-parallel {display: flex;align-items: stretch;justify-content: center;background-color: white;position: relative;}#sk-container-id-1 div.sk-item::before, #sk-container-id-1 div.sk-parallel-item::before {content: \"\";position: absolute;border-left: 1px solid gray;box-sizing: border-box;top: 0;bottom: 0;left: 50%;z-index: -1;}#sk-container-id-1 div.sk-parallel-item {display: flex;flex-direction: column;z-index: 1;position: relative;background-color: white;}#sk-container-id-1 div.sk-parallel-item:first-child::after {align-self: flex-end;width: 50%;}#sk-container-id-1 div.sk-parallel-item:last-child::after {align-self: flex-start;width: 50%;}#sk-container-id-1 div.sk-parallel-item:only-child::after {width: 0;}#sk-container-id-1 div.sk-dashed-wrapped {border: 1px dashed gray;margin: 0 0.4em 0.5em 0.4em;box-sizing: border-box;padding-bottom: 0.4em;background-color: white;}#sk-container-id-1 div.sk-label label {font-family: monospace;font-weight: bold;display: inline-block;line-height: 1.2em;}#sk-container-id-1 div.sk-label-container {text-align: center;}#sk-container-id-1 div.sk-container {/* jupyter's `normalize.less` sets `[hidden] { display: none; }` but bootstrap.min.css set `[hidden] { display: none !important; }` so we also need the `!important` here to be able to override the default hidden behavior on the sphinx rendered scikit-learn.org. See: https://github.com/scikit-learn/scikit-learn/issues/21755 */display: inline-block !important;position: relative;}#sk-container-id-1 div.sk-text-repr-fallback {display: none;}</style><div id=\"sk-container-id-1\" class=\"sk-top-container\"><div class=\"sk-text-repr-fallback\"><pre>LogisticRegression(max_iter=2000)</pre><b>In a Jupyter environment, please rerun this cell to show the HTML representation or trust the notebook. <br />On GitHub, the HTML representation is unable to render, please try loading this page with nbviewer.org.</b></div><div class=\"sk-container\" hidden><div class=\"sk-item\"><div class=\"sk-estimator sk-toggleable\"><input class=\"sk-toggleable__control sk-hidden--visually\" id=\"sk-estimator-id-1\" type=\"checkbox\" checked><label for=\"sk-estimator-id-1\" class=\"sk-toggleable__label sk-toggleable__label-arrow\">LogisticRegression</label><div class=\"sk-toggleable__content\"><pre>LogisticRegression(max_iter=2000)</pre></div></div></div></div></div>"
            ]
          },
          "metadata": {},
          "execution_count": 14
        }
      ]
    },
    {
      "cell_type": "code",
      "source": [
        "y_pred = model.predict(X_test_numeric)"
      ],
      "metadata": {
        "id": "GclMey6wqpWQ"
      },
      "execution_count": 15,
      "outputs": []
    },
    {
      "cell_type": "code",
      "source": [
        "accuracy = accuracy_score(y_test, y_pred)"
      ],
      "metadata": {
        "id": "7ETozpGKzgMn"
      },
      "execution_count": 16,
      "outputs": []
    },
    {
      "cell_type": "code",
      "source": [
        "accuracy"
      ],
      "metadata": {
        "colab": {
          "base_uri": "https://localhost:8080/"
        },
        "id": "SOaVnxpH51o2",
        "outputId": "6a3877d2-db75-413e-9239-3d406e52ad52"
      },
      "execution_count": 17,
      "outputs": [
        {
          "output_type": "execute_result",
          "data": {
            "text/plain": [
              "0.9276887536210626"
            ]
          },
          "metadata": {},
          "execution_count": 17
        }
      ]
    },
    {
      "cell_type": "markdown",
      "source": [
        "### Task 4"
      ],
      "metadata": {
        "id": "z8-MCKchz2SN"
      }
    },
    {
      "cell_type": "code",
      "source": [
        "def toxic_comment_check(model, vectorizer, comment_string):\n",
        "    vectorized_string = vectorizer.transform([comment_string])\n",
        "    return model.predict_proba(vectorized_string)[:, 1][0]"
      ],
      "metadata": {
        "id": "_ROmd94A6TtI"
      },
      "execution_count": 18,
      "outputs": []
    },
    {
      "cell_type": "markdown",
      "source": [
        "### Task 5"
      ],
      "metadata": {
        "id": "UwRTCJKPIfze"
      }
    },
    {
      "cell_type": "code",
      "source": [
        "toxic_comment_check(model, VECTORIZER, \"Apples are stupid\")"
      ],
      "metadata": {
        "colab": {
          "base_uri": "https://localhost:8080/"
        },
        "id": "nbqXISuS97Kw",
        "outputId": "94746d13-8e20-4aef-8d5f-d6cfb85af069"
      },
      "execution_count": 19,
      "outputs": [
        {
          "output_type": "execute_result",
          "data": {
            "text/plain": [
              "0.9990974774374046"
            ]
          },
          "metadata": {},
          "execution_count": 19
        }
      ]
    },
    {
      "cell_type": "code",
      "source": [
        "toxic_comment_check(model, VECTORIZER, \"I love apples\")"
      ],
      "metadata": {
        "id": "VKHng5vl9-F8",
        "colab": {
          "base_uri": "https://localhost:8080/"
        },
        "outputId": "e15854eb-9dda-44b9-abe5-535d6ec8c3fd"
      },
      "execution_count": 20,
      "outputs": [
        {
          "output_type": "execute_result",
          "data": {
            "text/plain": [
              "0.060041641687158455"
            ]
          },
          "metadata": {},
          "execution_count": 20
        }
      ]
    },
    {
      "cell_type": "markdown",
      "source": [
        "### Task 6"
      ],
      "metadata": {
        "id": "9nsXr_bdJUBF"
      }
    },
    {
      "cell_type": "code",
      "source": [
        "word_indices = list(VECTORIZER.vocabulary_.keys())"
      ],
      "metadata": {
        "id": "u75kVDzTJcdx"
      },
      "execution_count": 21,
      "outputs": []
    },
    {
      "cell_type": "code",
      "source": [
        "toxic_coefficients = model.coef_[0]"
      ],
      "metadata": {
        "id": "MLIu0WzSPGpQ"
      },
      "execution_count": 22,
      "outputs": []
    },
    {
      "cell_type": "code",
      "source": [
        "word_coefficients = {word: coefficient for word, coefficient in zip(word_indices, toxic_coefficients)}"
      ],
      "metadata": {
        "id": "5vsejXA2Priw"
      },
      "execution_count": 23,
      "outputs": []
    },
    {
      "cell_type": "code",
      "source": [
        "most_toxic_words = sorted(word_coefficients.items(), key=lambda x: x[1], reverse=True)[:10]"
      ],
      "metadata": {
        "id": "nDDukB6yP--x"
      },
      "execution_count": 24,
      "outputs": []
    },
    {
      "cell_type": "code",
      "source": [
        "for word, coefficient in most_toxic_words:\n",
        "    print(f\"{word}: {coefficient}\")"
      ],
      "metadata": {
        "colab": {
          "base_uri": "https://localhost:8080/"
        },
        "id": "FhqGMWfAQMln",
        "outputId": "afba9a02-4f67-4479-a11e-79fa60cd61b9"
      },
      "execution_count": 25,
      "outputs": [
        {
          "output_type": "stream",
          "name": "stdout",
          "text": [
            "yoy: 9.185995686456975\n",
            "tokaido: 8.683573518776607\n",
            "offensiveness: 8.42041305064192\n",
            "anoints: 7.527125837942067\n",
            "ei: 6.796410544575449\n",
            "evolves: 6.5589103487913745\n",
            "rings: 6.436969131849324\n",
            "spunk: 6.396045203387988\n",
            "doo: 6.373262348064005\n",
            "benner: 6.349951150415368\n"
          ]
        }
      ]
    },
    {
      "cell_type": "markdown",
      "source": [
        "### Task 7"
      ],
      "metadata": {
        "id": "nC64UT2QQcJj"
      }
    },
    {
      "cell_type": "markdown",
      "source": [
        "#### Слова которых не должно быть здесь: yoy, tokaido, anoints, evolves, rings, benner"
      ],
      "metadata": {
        "id": "U75wtIXPTsfo"
      }
    },
    {
      "cell_type": "markdown",
      "source": [
        "### Task 8"
      ],
      "metadata": {
        "id": "rmUkHWKXVNXG"
      }
    },
    {
      "cell_type": "code",
      "source": [
        "toxic_comment_check(model, VECTORIZER, \"I have a christian friend\")"
      ],
      "metadata": {
        "colab": {
          "base_uri": "https://localhost:8080/"
        },
        "id": "tfkYj-2dVPIB",
        "outputId": "6e2a30f5-afd9-4a60-ca72-c0439619c5c2"
      },
      "execution_count": 26,
      "outputs": [
        {
          "output_type": "execute_result",
          "data": {
            "text/plain": [
              "0.18762460205687848"
            ]
          },
          "metadata": {},
          "execution_count": 26
        }
      ]
    },
    {
      "cell_type": "code",
      "source": [
        "toxic_comment_check(model, VECTORIZER, \"I have a muslim friend\")"
      ],
      "metadata": {
        "colab": {
          "base_uri": "https://localhost:8080/"
        },
        "id": "toT97gZyebLU",
        "outputId": "0853001d-264a-4b5b-efc3-07386b3732ca"
      },
      "execution_count": 27,
      "outputs": [
        {
          "output_type": "execute_result",
          "data": {
            "text/plain": [
              "0.5091230690048197"
            ]
          },
          "metadata": {},
          "execution_count": 27
        }
      ]
    },
    {
      "cell_type": "code",
      "source": [
        "toxic_comment_check(model, VECTORIZER, \"I have a white friend\")"
      ],
      "metadata": {
        "colab": {
          "base_uri": "https://localhost:8080/"
        },
        "id": "9sIpHvXIej91",
        "outputId": "abfc2724-3224-4855-bd3a-817b8b7234dd"
      },
      "execution_count": 28,
      "outputs": [
        {
          "output_type": "execute_result",
          "data": {
            "text/plain": [
              "0.40048201935060884"
            ]
          },
          "metadata": {},
          "execution_count": 28
        }
      ]
    },
    {
      "cell_type": "code",
      "source": [
        "toxic_comment_check(model, VECTORIZER, \"I have a black friend\")"
      ],
      "metadata": {
        "colab": {
          "base_uri": "https://localhost:8080/"
        },
        "id": "T1UmzrA1enAf",
        "outputId": "8fd8c8f0-db29-4e71-cb08-7899c6b63517"
      },
      "execution_count": 29,
      "outputs": [
        {
          "output_type": "execute_result",
          "data": {
            "text/plain": [
              "0.5879799245351816"
            ]
          },
          "metadata": {},
          "execution_count": 29
        }
      ]
    },
    {
      "cell_type": "markdown",
      "source": [
        "### Task 9"
      ],
      "metadata": {
        "id": "gH8XLfpUeoPr"
      }
    },
    {
      "cell_type": "code",
      "source": [
        "religious_context_comments = [\n",
        "    \"I am a christian\",\n",
        "    \"I am a muslim\",\n",
        "    \"I am a buddhist\",\n",
        "    \"I am a jewish\",\n",
        "    \"I am a hindu\",\n",
        "    \"I am an atheist\",\n",
        "    \"I am an heathen\",\n",
        "]\n",
        "\n",
        "print(\"Religious comments toxicity prediction\")\n",
        "for comment in religious_context_comments:\n",
        "    print(f\"'{comment}': {toxic_comment_check(model, VECTORIZER, comment)}\")"
      ],
      "metadata": {
        "colab": {
          "base_uri": "https://localhost:8080/"
        },
        "id": "3x8BQ7vJewC1",
        "outputId": "9df5fd78-3d2e-463c-fe7e-a26d6a6b394a"
      },
      "execution_count": 30,
      "outputs": [
        {
          "output_type": "stream",
          "name": "stdout",
          "text": [
            "Religious comments toxicity prediction\n",
            "'I am a christian': 0.17172630848662204\n",
            "'I am a muslim': 0.48215109717991717\n",
            "'I am a buddhist': 0.18349838541122326\n",
            "'I am a jewish': 0.2656821878793225\n",
            "'I am a hindu': 0.0927159070702703\n",
            "'I am an atheist': 0.2696733145223526\n",
            "'I am an heathen': 0.24333336296583427\n"
          ]
        }
      ]
    },
    {
      "cell_type": "markdown",
      "source": [
        "### Task 10"
      ],
      "metadata": {
        "id": "ucIMDtvcfdCx"
      }
    },
    {
      "cell_type": "markdown",
      "source": [
        "1. Нейтрализовать религиозные индикаторы: удалить или нейтрализовать явные религиозные индикаторы из комментариев перед тем, как отправить их в алгоритм. Это поможет уменьшить предвзятость на основе религиозных упоминаний."
      ],
      "metadata": {
        "id": "wtUNrvLYsZbi"
      }
    },
    {
      "cell_type": "markdown",
      "source": [
        "2. Ориентироваться на поведение, а не на убеждения: вместо того чтобы напрямую анализировать комментарии, связанные с религией, сосредоточиться на анализе поведения или действий, отраженных в комментариях."
      ],
      "metadata": {
        "id": "LBVOAwEEs-GL"
      }
    },
    {
      "cell_type": "markdown",
      "source": [
        "### Task 11"
      ],
      "metadata": {
        "id": "Gg_-KIgKthap"
      }
    },
    {
      "cell_type": "markdown",
      "source": [
        " 1 Сбор и разметка данных: собрать достаточное количество комментариев, которые будут размечены как токсичные и нетоксичные.\n",
        "\n",
        " 2 Предварительная обработка текста: очистить комментарии от лишних символов, стоп-слов и проведите лемматизацию или стемминг для нормализации текста.\n",
        "\n",
        " 3 Извлечение признаков: преобразовать комментарии в числовые признаки, которые модель сможет использовать для классификации. Это может включать использование методов, таких как мешок слов (bag-of-words), TF-IDF или эмбеддинги, такие как Word2Vec или GloVe.\n",
        "\n",
        " 4 Выбор модели машинного обучения: выбрать подходящую модель машинного обучения, такую как логистическая регрессия, метод опорных векторов (SVM) или нейронная сеть. Обучить модель.\n",
        "\n",
        " 5 Оценка модели: оценить производительность модели с использованием метрик, таких как точность, полнота и F1-мера. При необходимости провести кросс-валидацию и настройку гиперпараметров модели.\n",
        "\n",
        " 6 Регулярно обновлять модель: периодически обновлять модель с использованием новых данных, чтобы она оставалась актуальной и этично классифицировала комментарии."
      ],
      "metadata": {
        "id": "7sk4bPQGtisF"
      }
    },
    {
      "cell_type": "code",
      "source": [],
      "metadata": {
        "id": "rJTTaccJuBUd"
      },
      "execution_count": 30,
      "outputs": []
    }
  ]
}