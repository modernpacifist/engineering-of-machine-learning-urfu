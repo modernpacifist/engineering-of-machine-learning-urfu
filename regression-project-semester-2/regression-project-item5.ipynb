{
  "nbformat": 4,
  "nbformat_minor": 0,
  "metadata": {
    "colab": {
      "provenance": []
    },
    "kernelspec": {
      "name": "python3",
      "display_name": "Python 3"
    },
    "language_info": {
      "name": "python"
    }
  },
  "cells": [
    {
      "cell_type": "code",
      "execution_count": 1,
      "metadata": {
        "id": "SS1TSZ1AbaHl"
      },
      "outputs": [],
      "source": [
        "import sys\n",
        "import numpy as np\n",
        "import pandas as pd\n",
        "import matplotlib.pyplot as plt\n",
        "import seaborn as sns\n",
        "import plotly.express as px\n",
        "\n",
        "from scipy import stats\n",
        "from sklearn import linear_model\n",
        "from sklearn import preprocessing\n",
        "from sklearn import model_selection\n",
        "from sklearn import tree\n",
        "from sklearn import ensemble\n",
        "from sklearn import metrics\n",
        "from sklearn import cluster\n",
        "from sklearn import feature_selection"
      ]
    },
    {
      "cell_type": "code",
      "source": [
        "from google.colab import drive"
      ],
      "metadata": {
        "id": "w1sTlhPYkWxR"
      },
      "execution_count": 2,
      "outputs": []
    },
    {
      "cell_type": "code",
      "source": [
        "# get size of the variable in megabytes\n",
        "def get_variable_size(var):\n",
        "    display(sys.getsizeof(var)/ (1024**2))"
      ],
      "metadata": {
        "id": "eml70CzrJjWr"
      },
      "execution_count": 3,
      "outputs": []
    },
    {
      "cell_type": "code",
      "source": [
        "drive.mount('/content/drive')"
      ],
      "metadata": {
        "colab": {
          "base_uri": "https://localhost:8080/"
        },
        "id": "UlEAHnBikaH1",
        "outputId": "092e706d-2da6-49e9-936f-cf54a656bafc"
      },
      "execution_count": 4,
      "outputs": [
        {
          "output_type": "stream",
          "name": "stdout",
          "text": [
            "Mounted at /content/drive\n"
          ]
        }
      ]
    },
    {
      "cell_type": "code",
      "source": [
        "X_train = pd.read_csv('/content/drive/MyDrive/UrfuCsvDatasets/RegressionProject5SecondSemester/X_train_4.csv')"
      ],
      "metadata": {
        "id": "zvFxbsDqic6S"
      },
      "execution_count": 6,
      "outputs": []
    },
    {
      "cell_type": "code",
      "source": [
        "X_valid = pd.read_csv('/content/drive/MyDrive/UrfuCsvDatasets/RegressionProject5SecondSemester/X_valid_4.csv')"
      ],
      "metadata": {
        "id": "54qa8LiajxZZ"
      },
      "execution_count": 7,
      "outputs": []
    },
    {
      "cell_type": "code",
      "source": [
        "y_train_log = pd.read_csv('/content/drive/MyDrive/UrfuCsvDatasets/RegressionProject5SecondSemester/y_train_log_4.csv').squeeze(\"columns\")"
      ],
      "metadata": {
        "id": "ZipAxa_Nrlxb"
      },
      "execution_count": 23,
      "outputs": []
    },
    {
      "cell_type": "code",
      "source": [
        "y_valid_log = pd.read_csv('/content/drive/MyDrive/UrfuCsvDatasets/RegressionProject5SecondSemester/y_valid_log_4.csv').squeeze(\"columns\")"
      ],
      "metadata": {
        "id": "ier7sVQ1s6Wd"
      },
      "execution_count": 24,
      "outputs": []
    },
    {
      "cell_type": "code",
      "source": [
        "y_train_log.columns"
      ],
      "metadata": {
        "colab": {
          "base_uri": "https://localhost:8080/"
        },
        "id": "nQD2WsAtyuan",
        "outputId": "27762644-862c-4abe-b28d-0137d2191779"
      },
      "execution_count": 34,
      "outputs": [
        {
          "output_type": "execute_result",
          "data": {
            "text/plain": [
              "Index(['Unnamed: 0', 'trip_duration_log'], dtype='object')"
            ]
          },
          "metadata": {},
          "execution_count": 34
        }
      ]
    },
    {
      "cell_type": "code",
      "source": [
        "type(y_train_log)"
      ],
      "metadata": {
        "colab": {
          "base_uri": "https://localhost:8080/"
        },
        "id": "1ZDide9zxbgJ",
        "outputId": "5f93cefd-428a-4e4a-e316-8e7fd7ae9899"
      },
      "execution_count": 33,
      "outputs": [
        {
          "output_type": "execute_result",
          "data": {
            "text/plain": [
              "pandas.core.frame.DataFrame"
            ]
          },
          "metadata": {},
          "execution_count": 33
        }
      ]
    },
    {
      "cell_type": "markdown",
      "source": [
        "## 5."
      ],
      "metadata": {
        "id": "oTcFM9GWsNFH"
      }
    },
    {
      "cell_type": "markdown",
      "source": [
        "### 5.1."
      ],
      "metadata": {
        "id": "ydKQH_6RsLdH"
      }
    },
    {
      "cell_type": "code",
      "execution_count": 26,
      "metadata": {
        "id": "R1IB1yK5kBLu",
        "colab": {
          "base_uri": "https://localhost:8080/",
          "height": 74
        },
        "outputId": "aafaa4c9-d8c3-45ae-887b-77adfbc552e2"
      },
      "outputs": [
        {
          "output_type": "execute_result",
          "data": {
            "text/plain": [
              "LinearRegression()"
            ],
            "text/html": [
              "<style>#sk-container-id-2 {color: black;background-color: white;}#sk-container-id-2 pre{padding: 0;}#sk-container-id-2 div.sk-toggleable {background-color: white;}#sk-container-id-2 label.sk-toggleable__label {cursor: pointer;display: block;width: 100%;margin-bottom: 0;padding: 0.3em;box-sizing: border-box;text-align: center;}#sk-container-id-2 label.sk-toggleable__label-arrow:before {content: \"▸\";float: left;margin-right: 0.25em;color: #696969;}#sk-container-id-2 label.sk-toggleable__label-arrow:hover:before {color: black;}#sk-container-id-2 div.sk-estimator:hover label.sk-toggleable__label-arrow:before {color: black;}#sk-container-id-2 div.sk-toggleable__content {max-height: 0;max-width: 0;overflow: hidden;text-align: left;background-color: #f0f8ff;}#sk-container-id-2 div.sk-toggleable__content pre {margin: 0.2em;color: black;border-radius: 0.25em;background-color: #f0f8ff;}#sk-container-id-2 input.sk-toggleable__control:checked~div.sk-toggleable__content {max-height: 200px;max-width: 100%;overflow: auto;}#sk-container-id-2 input.sk-toggleable__control:checked~label.sk-toggleable__label-arrow:before {content: \"▾\";}#sk-container-id-2 div.sk-estimator input.sk-toggleable__control:checked~label.sk-toggleable__label {background-color: #d4ebff;}#sk-container-id-2 div.sk-label input.sk-toggleable__control:checked~label.sk-toggleable__label {background-color: #d4ebff;}#sk-container-id-2 input.sk-hidden--visually {border: 0;clip: rect(1px 1px 1px 1px);clip: rect(1px, 1px, 1px, 1px);height: 1px;margin: -1px;overflow: hidden;padding: 0;position: absolute;width: 1px;}#sk-container-id-2 div.sk-estimator {font-family: monospace;background-color: #f0f8ff;border: 1px dotted black;border-radius: 0.25em;box-sizing: border-box;margin-bottom: 0.5em;}#sk-container-id-2 div.sk-estimator:hover {background-color: #d4ebff;}#sk-container-id-2 div.sk-parallel-item::after {content: \"\";width: 100%;border-bottom: 1px solid gray;flex-grow: 1;}#sk-container-id-2 div.sk-label:hover label.sk-toggleable__label {background-color: #d4ebff;}#sk-container-id-2 div.sk-serial::before {content: \"\";position: absolute;border-left: 1px solid gray;box-sizing: border-box;top: 0;bottom: 0;left: 50%;z-index: 0;}#sk-container-id-2 div.sk-serial {display: flex;flex-direction: column;align-items: center;background-color: white;padding-right: 0.2em;padding-left: 0.2em;position: relative;}#sk-container-id-2 div.sk-item {position: relative;z-index: 1;}#sk-container-id-2 div.sk-parallel {display: flex;align-items: stretch;justify-content: center;background-color: white;position: relative;}#sk-container-id-2 div.sk-item::before, #sk-container-id-2 div.sk-parallel-item::before {content: \"\";position: absolute;border-left: 1px solid gray;box-sizing: border-box;top: 0;bottom: 0;left: 50%;z-index: -1;}#sk-container-id-2 div.sk-parallel-item {display: flex;flex-direction: column;z-index: 1;position: relative;background-color: white;}#sk-container-id-2 div.sk-parallel-item:first-child::after {align-self: flex-end;width: 50%;}#sk-container-id-2 div.sk-parallel-item:last-child::after {align-self: flex-start;width: 50%;}#sk-container-id-2 div.sk-parallel-item:only-child::after {width: 0;}#sk-container-id-2 div.sk-dashed-wrapped {border: 1px dashed gray;margin: 0 0.4em 0.5em 0.4em;box-sizing: border-box;padding-bottom: 0.4em;background-color: white;}#sk-container-id-2 div.sk-label label {font-family: monospace;font-weight: bold;display: inline-block;line-height: 1.2em;}#sk-container-id-2 div.sk-label-container {text-align: center;}#sk-container-id-2 div.sk-container {/* jupyter's `normalize.less` sets `[hidden] { display: none; }` but bootstrap.min.css set `[hidden] { display: none !important; }` so we also need the `!important` here to be able to override the default hidden behavior on the sphinx rendered scikit-learn.org. See: https://github.com/scikit-learn/scikit-learn/issues/21755 */display: inline-block !important;position: relative;}#sk-container-id-2 div.sk-text-repr-fallback {display: none;}</style><div id=\"sk-container-id-2\" class=\"sk-top-container\"><div class=\"sk-text-repr-fallback\"><pre>LinearRegression()</pre><b>In a Jupyter environment, please rerun this cell to show the HTML representation or trust the notebook. <br />On GitHub, the HTML representation is unable to render, please try loading this page with nbviewer.org.</b></div><div class=\"sk-container\" hidden><div class=\"sk-item\"><div class=\"sk-estimator sk-toggleable\"><input class=\"sk-toggleable__control sk-hidden--visually\" id=\"sk-estimator-id-2\" type=\"checkbox\" checked><label for=\"sk-estimator-id-2\" class=\"sk-toggleable__label sk-toggleable__label-arrow\">LinearRegression</label><div class=\"sk-toggleable__content\"><pre>LinearRegression()</pre></div></div></div></div></div>"
            ]
          },
          "metadata": {},
          "execution_count": 26
        }
      ],
      "source": [
        "model = linear_model.LinearRegression()\n",
        "model.fit(X_train, y_train_log)"
      ]
    },
    {
      "cell_type": "code",
      "source": [
        "y_train_predict = model.predict(X_train)\n",
        "display(y_train_predict)"
      ],
      "metadata": {
        "colab": {
          "base_uri": "https://localhost:8080/",
          "height": 143
        },
        "id": "tmoU0XoWAkWp",
        "outputId": "ba13476e-b267-4a96-de92-2c054db3f784"
      },
      "execution_count": 27,
      "outputs": [
        {
          "output_type": "display_data",
          "data": {
            "text/plain": [
              "array([[7.28531674e+05, 6.25623088e+00],\n",
              "       [7.27505932e+05, 5.86520156e+00],\n",
              "       [7.26408833e+05, 5.77635568e+00],\n",
              "       ...,\n",
              "       [7.27447310e+05, 6.15504219e+00],\n",
              "       [7.30000763e+05, 5.53020005e+00],\n",
              "       [7.29490889e+05, 6.19938915e+00]])"
            ]
          },
          "metadata": {}
        }
      ]
    },
    {
      "cell_type": "code",
      "source": [
        "y_valid_predict = model.predict(X_valid)\n",
        "display(y_valid_predict)"
      ],
      "metadata": {
        "colab": {
          "base_uri": "https://localhost:8080/",
          "height": 143
        },
        "id": "MW6NPLaQAt0v",
        "outputId": "550c6a69-e604-4a2a-d047-08bb0e6c51e9"
      },
      "execution_count": 28,
      "outputs": [
        {
          "output_type": "display_data",
          "data": {
            "text/plain": [
              "array([[7.28678266e+05, 5.99976557e+00],\n",
              "       [7.27947103e+05, 5.70736869e+00],\n",
              "       [7.28833040e+05, 6.19622123e+00],\n",
              "       ...,\n",
              "       [7.29947484e+05, 6.45579266e+00],\n",
              "       [7.29781419e+05, 6.60420998e+00],\n",
              "       [7.31097890e+05, 6.22865283e+00]])"
            ]
          },
          "metadata": {}
        }
      ]
    },
    {
      "cell_type": "code",
      "source": [
        "def calculate_rmsle(y_true, y_pred):\n",
        "    return round(metrics.mean_squared_error(y_true, y_pred, squared=False), 2)"
      ],
      "metadata": {
        "id": "XlcUCV2nCEtL"
      },
      "execution_count": 29,
      "outputs": []
    },
    {
      "cell_type": "code",
      "source": [
        "calculate_rmsle(y_train_log, y_train_predict)"
      ],
      "metadata": {
        "colab": {
          "base_uri": "https://localhost:8080/"
        },
        "id": "j0U6KdiVCFTG",
        "outputId": "be811227-5431-4e34-b313-ef60eda41c1c"
      },
      "execution_count": 30,
      "outputs": [
        {
          "output_type": "execute_result",
          "data": {
            "text/plain": [
              "210480.22"
            ]
          },
          "metadata": {},
          "execution_count": 30
        }
      ]
    },
    {
      "cell_type": "code",
      "source": [
        "calculate_rmsle(y_valid_log, y_valid_predict)"
      ],
      "metadata": {
        "colab": {
          "base_uri": "https://localhost:8080/"
        },
        "id": "sWgBnpqFCG3N",
        "outputId": "52be168b-262f-426c-8083-aee381d87bcf"
      },
      "execution_count": 31,
      "outputs": [
        {
          "output_type": "execute_result",
          "data": {
            "text/plain": [
              "210470.3"
            ]
          },
          "metadata": {},
          "execution_count": 31
        }
      ]
    },
    {
      "cell_type": "markdown",
      "source": [
        "### 5.2."
      ],
      "metadata": {
        "id": "_x48uBSBgf3Z"
      }
    },
    {
      "cell_type": "code",
      "source": [
        "poly_features = preprocessing.PolynomialFeatures(degree=2, include_bias=False)\n",
        "\n",
        "X_train_poly = poly_features.fit_transform(X_train)\n",
        "X_valid_poly = poly_features.fit_transform(X_valid)\n",
        "\n",
        "linear_reg_poly = linear_model.LinearRegression()\n",
        "linear_reg_poly.fit(X_train_poly, y_train_log)\n",
        "\n",
        "y_train_poly_predict = linear_reg_poly.predict(X_train_poly)\n",
        "print(f\"y_train_poly_predict: {y_train_poly_predict}\")\n",
        "y_valid_poly_predict = linear_reg_poly.predict(X_valid_poly)\n",
        "print(f\"y_valid_poly_predict: {y_valid_poly_predict}\")\n",
        "\n",
        "print(\"RMSLE train_poly:\", calculate_rmsle(y_train_log, y_train_poly_predict))\n",
        "print(\"RMSLE train:\", calculate_rmsle(y_valid_log, y_valid_poly_predict))"
      ],
      "metadata": {
        "id": "9MlGBdIcghC5",
        "colab": {
          "base_uri": "https://localhost:8080/"
        },
        "outputId": "7bb7aade-3e1d-45d1-f79a-638a64ecc0e3"
      },
      "execution_count": 16,
      "outputs": [
        {
          "output_type": "stream",
          "name": "stdout",
          "text": [
            "y_train_poly_predict: [[7.29664188e+05 6.12466230e+00]\n",
            " [7.24034211e+05 5.80877225e+00]\n",
            " [7.13490536e+05 5.62098888e+00]\n",
            " ...\n",
            " [7.28042320e+05 5.91285271e+00]\n",
            " [7.26961981e+05 5.22358627e+00]\n",
            " [7.31913297e+05 6.27398546e+00]]\n",
            "y_valid_poly_predict: [[7.28646657e+05 5.86037059e+00]\n",
            " [7.28269132e+05 5.39682444e+00]\n",
            " [7.20994794e+05 5.80252699e+00]\n",
            " ...\n",
            " [7.28830771e+05 6.47661560e+00]\n",
            " [7.28717381e+05 6.86568538e+00]\n",
            " [7.30812333e+05 6.29690244e+00]]\n",
            "RMSLE train_poly: 210446.94\n",
            "RMSLE train: 210529.01\n"
          ]
        }
      ]
    },
    {
      "cell_type": "markdown",
      "source": [
        "### 5.3."
      ],
      "metadata": {
        "id": "oc_TJX-8u05k"
      }
    },
    {
      "cell_type": "code",
      "source": [],
      "metadata": {
        "id": "k0t6USSSu4bv"
      },
      "execution_count": null,
      "outputs": []
    }
  ]
}