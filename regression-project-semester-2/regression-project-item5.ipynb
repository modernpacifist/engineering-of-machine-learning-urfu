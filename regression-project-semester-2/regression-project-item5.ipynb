{
 "cells": [
  {
   "cell_type": "code",
   "execution_count": 1,
   "metadata": {
    "id": "SS1TSZ1AbaHl"
   },
   "outputs": [],
   "source": [
    "import sys\n",
    "import numpy as np\n",
    "import pandas as pd\n",
    "import matplotlib.pyplot as plt\n",
    "import seaborn as sns\n",
    "import plotly.express as px\n",
    "\n",
    "from scipy import stats\n",
    "from sklearn import linear_model\n",
    "from sklearn import preprocessing\n",
    "from sklearn import model_selection\n",
    "from sklearn import tree\n",
    "from sklearn import ensemble\n",
    "from sklearn import metrics\n",
    "from sklearn import cluster\n",
    "from sklearn import feature_selection"
   ]
  },
  {
   "cell_type": "code",
   "execution_count": 2,
   "metadata": {
    "id": "w1sTlhPYkWxR"
   },
   "outputs": [],
   "source": [
    "#from google.colab import drive"
   ]
  },
  {
   "cell_type": "code",
   "execution_count": 3,
   "metadata": {
    "id": "eml70CzrJjWr"
   },
   "outputs": [],
   "source": [
    "# get size of the variable in megabytes\n",
    "def get_variable_size(var):\n",
    "    display(sys.getsizeof(var)/ (1024**2))"
   ]
  },
  {
   "cell_type": "code",
   "execution_count": 4,
   "metadata": {
    "colab": {
     "base_uri": "https://localhost:8080/"
    },
    "id": "UlEAHnBikaH1",
    "outputId": "700d7906-7a3b-4079-96f0-b6857b51ed67"
   },
   "outputs": [],
   "source": [
    "#drive.mount('/content/drive')"
   ]
  },
  {
   "cell_type": "code",
   "execution_count": 5,
   "metadata": {
    "id": "VfyxGiSJ0LYR"
   },
   "outputs": [],
   "source": [
    "#train_data = pd.read_csv('/content/drive/MyDrive/UrfuCsvDatasets/RegressionProject5SecondSemester/train_data_4.csv')\n",
    "train_data = pd.read_csv('~/Documents/github-repositories/engineering-of-machine-learning-urfu/regression-project-semester-2/train_data_4.csv')"
   ]
  },
  {
   "cell_type": "code",
   "execution_count": 6,
   "metadata": {
    "id": "ry9vWjKHz8QL"
   },
   "outputs": [],
   "source": [
    "X = train_data.drop(['trip_duration', 'trip_duration_log', 'visibility', 'wind speed', 'precip'], axis=1)\n",
    "y = train_data['trip_duration']\n",
    "y_log = train_data['trip_duration_log']"
   ]
  },
  {
   "cell_type": "code",
   "execution_count": 7,
   "metadata": {
    "id": "wsEjX0Un1RdG"
   },
   "outputs": [],
   "source": [
    "X_train, X_valid, y_train_log, y_valid_log = model_selection.train_test_split(\n",
    "    X,\n",
    "    y_log,\n",
    "    test_size=0.33,\n",
    "    random_state=42\n",
    ")"
   ]
  },
  {
   "cell_type": "markdown",
   "metadata": {
    "id": "oTcFM9GWsNFH"
   },
   "source": [
    "## 5."
   ]
  },
  {
   "cell_type": "markdown",
   "metadata": {
    "id": "ydKQH_6RsLdH"
   },
   "source": [
    "### 5.1."
   ]
  },
  {
   "cell_type": "code",
   "execution_count": 8,
   "metadata": {
    "colab": {
     "base_uri": "https://localhost:8080/",
     "height": 74
    },
    "id": "R1IB1yK5kBLu",
    "outputId": "55724627-9055-44f4-b284-815ecd2f68cf"
   },
   "outputs": [
    {
     "data": {
      "text/html": [
       "<style>#sk-container-id-1 {color: black;background-color: white;}#sk-container-id-1 pre{padding: 0;}#sk-container-id-1 div.sk-toggleable {background-color: white;}#sk-container-id-1 label.sk-toggleable__label {cursor: pointer;display: block;width: 100%;margin-bottom: 0;padding: 0.3em;box-sizing: border-box;text-align: center;}#sk-container-id-1 label.sk-toggleable__label-arrow:before {content: \"▸\";float: left;margin-right: 0.25em;color: #696969;}#sk-container-id-1 label.sk-toggleable__label-arrow:hover:before {color: black;}#sk-container-id-1 div.sk-estimator:hover label.sk-toggleable__label-arrow:before {color: black;}#sk-container-id-1 div.sk-toggleable__content {max-height: 0;max-width: 0;overflow: hidden;text-align: left;background-color: #f0f8ff;}#sk-container-id-1 div.sk-toggleable__content pre {margin: 0.2em;color: black;border-radius: 0.25em;background-color: #f0f8ff;}#sk-container-id-1 input.sk-toggleable__control:checked~div.sk-toggleable__content {max-height: 200px;max-width: 100%;overflow: auto;}#sk-container-id-1 input.sk-toggleable__control:checked~label.sk-toggleable__label-arrow:before {content: \"▾\";}#sk-container-id-1 div.sk-estimator input.sk-toggleable__control:checked~label.sk-toggleable__label {background-color: #d4ebff;}#sk-container-id-1 div.sk-label input.sk-toggleable__control:checked~label.sk-toggleable__label {background-color: #d4ebff;}#sk-container-id-1 input.sk-hidden--visually {border: 0;clip: rect(1px 1px 1px 1px);clip: rect(1px, 1px, 1px, 1px);height: 1px;margin: -1px;overflow: hidden;padding: 0;position: absolute;width: 1px;}#sk-container-id-1 div.sk-estimator {font-family: monospace;background-color: #f0f8ff;border: 1px dotted black;border-radius: 0.25em;box-sizing: border-box;margin-bottom: 0.5em;}#sk-container-id-1 div.sk-estimator:hover {background-color: #d4ebff;}#sk-container-id-1 div.sk-parallel-item::after {content: \"\";width: 100%;border-bottom: 1px solid gray;flex-grow: 1;}#sk-container-id-1 div.sk-label:hover label.sk-toggleable__label {background-color: #d4ebff;}#sk-container-id-1 div.sk-serial::before {content: \"\";position: absolute;border-left: 1px solid gray;box-sizing: border-box;top: 0;bottom: 0;left: 50%;z-index: 0;}#sk-container-id-1 div.sk-serial {display: flex;flex-direction: column;align-items: center;background-color: white;padding-right: 0.2em;padding-left: 0.2em;position: relative;}#sk-container-id-1 div.sk-item {position: relative;z-index: 1;}#sk-container-id-1 div.sk-parallel {display: flex;align-items: stretch;justify-content: center;background-color: white;position: relative;}#sk-container-id-1 div.sk-item::before, #sk-container-id-1 div.sk-parallel-item::before {content: \"\";position: absolute;border-left: 1px solid gray;box-sizing: border-box;top: 0;bottom: 0;left: 50%;z-index: -1;}#sk-container-id-1 div.sk-parallel-item {display: flex;flex-direction: column;z-index: 1;position: relative;background-color: white;}#sk-container-id-1 div.sk-parallel-item:first-child::after {align-self: flex-end;width: 50%;}#sk-container-id-1 div.sk-parallel-item:last-child::after {align-self: flex-start;width: 50%;}#sk-container-id-1 div.sk-parallel-item:only-child::after {width: 0;}#sk-container-id-1 div.sk-dashed-wrapped {border: 1px dashed gray;margin: 0 0.4em 0.5em 0.4em;box-sizing: border-box;padding-bottom: 0.4em;background-color: white;}#sk-container-id-1 div.sk-label label {font-family: monospace;font-weight: bold;display: inline-block;line-height: 1.2em;}#sk-container-id-1 div.sk-label-container {text-align: center;}#sk-container-id-1 div.sk-container {/* jupyter's `normalize.less` sets `[hidden] { display: none; }` but bootstrap.min.css set `[hidden] { display: none !important; }` so we also need the `!important` here to be able to override the default hidden behavior on the sphinx rendered scikit-learn.org. See: https://github.com/scikit-learn/scikit-learn/issues/21755 */display: inline-block !important;position: relative;}#sk-container-id-1 div.sk-text-repr-fallback {display: none;}</style><div id=\"sk-container-id-1\" class=\"sk-top-container\"><div class=\"sk-text-repr-fallback\"><pre>LinearRegression()</pre><b>In a Jupyter environment, please rerun this cell to show the HTML representation or trust the notebook. <br />On GitHub, the HTML representation is unable to render, please try loading this page with nbviewer.org.</b></div><div class=\"sk-container\" hidden><div class=\"sk-item\"><div class=\"sk-estimator sk-toggleable\"><input class=\"sk-toggleable__control sk-hidden--visually\" id=\"sk-estimator-id-1\" type=\"checkbox\" checked><label for=\"sk-estimator-id-1\" class=\"sk-toggleable__label sk-toggleable__label-arrow\">LinearRegression</label><div class=\"sk-toggleable__content\"><pre>LinearRegression()</pre></div></div></div></div></div>"
      ],
      "text/plain": [
       "LinearRegression()"
      ]
     },
     "execution_count": 8,
     "metadata": {},
     "output_type": "execute_result"
    }
   ],
   "source": [
    "model = linear_model.LinearRegression()\n",
    "model.fit(X_train, y_train_log)"
   ]
  },
  {
   "cell_type": "code",
   "execution_count": 9,
   "metadata": {
    "colab": {
     "base_uri": "https://localhost:8080/",
     "height": 53
    },
    "id": "tmoU0XoWAkWp",
    "outputId": "9d382cba-f4f3-4d37-f701-f3af570ade21"
   },
   "outputs": [
    {
     "data": {
      "text/plain": [
       "array([5.9435091 , 6.13063595, 5.88069925, ..., 6.319771  , 5.95769349,\n",
       "       6.18071586])"
      ]
     },
     "metadata": {},
     "output_type": "display_data"
    }
   ],
   "source": [
    "y_train_predict = model.predict(X_train)\n",
    "display(y_train_predict)"
   ]
  },
  {
   "cell_type": "code",
   "execution_count": 10,
   "metadata": {
    "colab": {
     "base_uri": "https://localhost:8080/",
     "height": 53
    },
    "id": "MW6NPLaQAt0v",
    "outputId": "f9c2dba6-8051-4963-f09c-77eb80a877ac"
   },
   "outputs": [
    {
     "data": {
      "text/plain": [
       "array([5.91199795, 5.85517319, 5.57018352, ..., 6.35315793, 6.4821051 ,\n",
       "       6.04526939])"
      ]
     },
     "metadata": {},
     "output_type": "display_data"
    }
   ],
   "source": [
    "y_valid_predict = model.predict(X_valid)\n",
    "display(y_valid_predict)"
   ]
  },
  {
   "cell_type": "code",
   "execution_count": 11,
   "metadata": {
    "id": "XlcUCV2nCEtL"
   },
   "outputs": [],
   "source": [
    "def calculate_rmsle(y_true, y_pred):\n",
    "    return round(metrics.mean_squared_error(y_true, y_pred, squared=False), 2)"
   ]
  },
  {
   "cell_type": "code",
   "execution_count": 12,
   "metadata": {
    "colab": {
     "base_uri": "https://localhost:8080/"
    },
    "id": "j0U6KdiVCFTG",
    "outputId": "340100a0-4c8d-49ac-cc4c-462eb264411e"
   },
   "outputs": [
    {
     "data": {
      "text/plain": [
       "0.53"
      ]
     },
     "execution_count": 12,
     "metadata": {},
     "output_type": "execute_result"
    }
   ],
   "source": [
    "calculate_rmsle(y_train_log, y_train_predict)"
   ]
  },
  {
   "cell_type": "code",
   "execution_count": 13,
   "metadata": {
    "colab": {
     "base_uri": "https://localhost:8080/"
    },
    "id": "sWgBnpqFCG3N",
    "outputId": "2e9b48e0-8712-437f-c82d-c61512eb9bfa"
   },
   "outputs": [
    {
     "data": {
      "text/plain": [
       "0.53"
      ]
     },
     "execution_count": 13,
     "metadata": {},
     "output_type": "execute_result"
    }
   ],
   "source": [
    "calculate_rmsle(y_valid_log, y_valid_predict)"
   ]
  },
  {
   "cell_type": "markdown",
   "metadata": {
    "id": "_x48uBSBgf3Z"
   },
   "source": [
    "### 5.2."
   ]
  },
  {
   "cell_type": "code",
   "execution_count": null,
   "metadata": {
    "id": "9MlGBdIcghC5"
   },
   "outputs": [],
   "source": [
    "poly_features = preprocessing.PolynomialFeatures(degree=2, include_bias=False)\n",
    "\n",
    "X_train_poly = poly_features.fit_transform(X_train)\n",
    "X_valid_poly = poly_features.fit_transform(X_valid)\n",
    "\n",
    "linear_reg_poly = linear_model.LinearRegression()\n",
    "linear_reg_poly.fit(X_train_poly, y_train_log)\n",
    "\n",
    "y_train_poly_predict = linear_reg_poly.predict(X_train_poly)\n",
    "print(f\"y_train_poly_predict: {y_train_poly_predict}\")\n",
    "y_valid_poly_predict = linear_reg_poly.predict(X_valid_poly)\n",
    "print(f\"y_valid_poly_predict: {y_valid_poly_predict}\")\n",
    "\n",
    "print(\"RMSLE train_poly:\", calculate_rmsle(y_train_log, y_train_poly_predict))\n",
    "print(\"RMSLE train:\", calculate_rmsle(y_valid_log, y_valid_poly_predict))"
   ]
  },
  {
   "cell_type": "markdown",
   "metadata": {
    "id": "oc_TJX-8u05k"
   },
   "source": [
    "### 5.3."
   ]
  },
  {
   "cell_type": "code",
   "execution_count": 14,
   "metadata": {
    "id": "k0t6USSSu4bv",
    "scrolled": true
   },
   "outputs": [
    {
     "name": "stderr",
     "output_type": "stream",
     "text": [
      "/home/modernpacifist/.local/lib/python3.9/site-packages/sklearn/linear_model/_ridge.py:216: LinAlgWarning: Ill-conditioned matrix (rcond=1.22006e-30): result may not be accurate.\n",
      "  return linalg.solve(A, Xy, assume_a=\"pos\", overwrite_a=True).T\n"
     ]
    },
    {
     "name": "stdout",
     "output_type": "stream",
     "text": [
      "y_train_ridge_predict: [5.73412669 6.15909514 6.0028165  ... 5.97225973 5.7959112  6.37342246]\n",
      "y_valid_ridge_predict: [5.80237715 5.35580186 4.80790507 ... 6.16292605 6.73529053 6.07015043]\n",
      "RMSLE train_ridge: 0.46\n",
      "RMSLE valid_ridge: 1.43\n"
     ]
    }
   ],
   "source": [
    "ridge = linear_model.Ridge(alpha=1)\n",
    "ridge.fit(X_train_poly, y_train_log)\n",
    "\n",
    "y_train_ridge_predict = ridge.predict(X_train_poly)\n",
    "print(f\"y_train_ridge_predict: {y_train_ridge_predict}\")\n",
    "y_valid_ridge_predict = ridge.predict(X_valid_poly)\n",
    "print(f\"y_valid_ridge_predict: {y_valid_ridge_predict}\")\n",
    "\n",
    "print(\"RMSLE train_ridge:\", calculate_rmsle(y_train_log, y_train_ridge_predict))\n",
    "print(\"RMSLE valid_ridge:\", calculate_rmsle(y_valid_log, y_valid_ridge_predict))"
   ]
  },
  {
   "cell_type": "markdown",
   "metadata": {},
   "source": [
    "### 5.4."
   ]
  },
  {
   "cell_type": "code",
   "execution_count": 16,
   "metadata": {
    "scrolled": true
   },
   "outputs": [
    {
     "name": "stdout",
     "output_type": "stream",
     "text": [
      "y_train_detrreg_predict: [6.2441669  6.03308622 5.56068163 ... 5.97635091 5.12989871 6.3851944 ]\n",
      "y_valid_ridge_predict: [5.7365723  5.27299956 6.2126061  ... 6.34913899 6.56667243 6.80903931]\n",
      "\n",
      "RMSLE train_detrreg: 0.0\n",
      "RMSLE valid_detrreg: 0.56\n"
     ]
    }
   ],
   "source": [
    "detrreg = tree.DecisionTreeRegressor()\n",
    "detrreg.fit(X_train, y_train_log)\n",
    "\n",
    "\n",
    "y_train_detrreg_predict = detrreg.predict(X_train)\n",
    "print(f\"y_train_detrreg_predict: {y_train_detrreg_predict}\")\n",
    "y_valid_detrreg_predict = detrreg.predict(X_valid)\n",
    "print(f\"y_valid_ridge_predict: {y_valid_detrreg_predict}\")\n",
    "\n",
    "\n",
    "print()\n",
    "print(\"RMSLE train_detrreg:\", calculate_rmsle(y_train_log, y_train_detrreg_predict))\n",
    "print(\"RMSLE valid_detrreg:\", calculate_rmsle(y_valid_log, y_valid_detrreg_predict))"
   ]
  },
  {
   "cell_type": "markdown",
   "metadata": {},
   "source": [
    "### 5.5."
   ]
  },
  {
   "cell_type": "code",
   "execution_count": 18,
   "metadata": {},
   "outputs": [],
   "source": [
    "def rmsle_calculate_lists(max_depths, X_train, y_train_log, X_valid, y_valid_log,  y_train_detrreg_predict, y_valid_detrreg_predict):\n",
    "    rmsle_train_list = []\n",
    "    rmsle_valid_list = []\n",
    "\n",
    "    for max_depth in max_depths:\n",
    "      detrreg = tree.DecisionTreeRegressor(max_depth=max_depth)\n",
    "      detrreg.fit(X_train, y_train_log)\n",
    "\n",
    "      y_train_detrreg_predict = detrreg.predict(X_train)\n",
    "      y_valid_detrreg_predict = detrreg.predict(X_valid)\n",
    "\n",
    "      rmsle_detrreg_train = metrics.mean_squared_error(\n",
    "          y_train_log,\n",
    "          y_train_detrreg_predict,\n",
    "          squared=False\n",
    "      )\n",
    "\n",
    "      rmsle_detrreg_valid = metrics.mean_squared_error(\n",
    "          y_valid_log,\n",
    "          y_valid_detrreg_predict,\n",
    "          squared=False\n",
    "      )\n",
    "\n",
    "      rmsle_train_list.append(rmsle_detrreg_train)\n",
    "      rmsle_valid_list.append(rmsle_detrreg_valid)\n",
    "\n",
    "    return rmsle_train_list, rmsle_valid_list"
   ]
  },
  {
   "cell_type": "code",
   "execution_count": 19,
   "metadata": {},
   "outputs": [],
   "source": [
    "max_depths = range(7, 20)\n",
    "\n",
    "rmsle_train_list, rmsle_valid_list = rmsle_calculate_lists(\n",
    "    max_depths,\n",
    "    X_train, y_train_log, X_valid, y_valid_log,\n",
    "    y_train_detrreg_predict, y_valid_detrreg_predict\n",
    ")"
   ]
  },
  {
   "cell_type": "code",
   "execution_count": 20,
   "metadata": {},
   "outputs": [
    {
     "name": "stdout",
     "output_type": "stream",
     "text": [
      "[0.44470076134062336, 0.43666234355467043, 0.42918553451678215, 0.4212244299039339, 0.4128554998505746]\n",
      "[0.44706084918473254, 0.4406845202366969, 0.4352221093514347, 0.431065887792251, 0.42867220114442484]\n"
     ]
    }
   ],
   "source": [
    "print(rmsle_train_list[0:5])\n",
    "print(rmsle_valid_list[0:5])"
   ]
  },
  {
   "cell_type": "code",
   "execution_count": 21,
   "metadata": {},
   "outputs": [
    {
     "data": {
      "image/png": "[encoded data removed]",
      "text/plain": [
       "<Figure size 1000x1000 with 1 Axes>"
      ]
     },
     "metadata": {},
     "output_type": "display_data"
    }
   ],
   "source": [
    "fig, ax = plt.subplots(figsize=(10, 10))\n",
    "ax.set_xlabel(\"Tree depth\")\n",
    "ax.set_ylabel(\"RMSLE\")\n",
    "ax.grid()\n",
    "\n",
    "plt.plot(max_depths, rmsle_valid_list, label=\"Valid\")\n",
    "plt.plot(max_depths, rmsle_train_list, label=\"Train\")\n",
    "\n",
    "\n",
    "plt.legend()\n",
    "plt.show()"
   ]
  },
  {
   "cell_type": "code",
   "execution_count": null,
   "metadata": {},
   "outputs": [],
   "source": []
  }
 ],
 "metadata": {
  "colab": {
   "provenance": []
  },
  "kernelspec": {
   "display_name": "Python 3 (ipykernel)",
   "language": "python",
   "name": "python3"
  },
  "language_info": {
   "codemirror_mode": {
    "name": "ipython",
    "version": 3
   },
   "file_extension": ".py",
   "mimetype": "text/x-python",
   "name": "python",
   "nbconvert_exporter": "python",
   "pygments_lexer": "ipython3",
   "version": "3.9.2"
  }
 },
 "nbformat": 4,
 "nbformat_minor": 1
}
