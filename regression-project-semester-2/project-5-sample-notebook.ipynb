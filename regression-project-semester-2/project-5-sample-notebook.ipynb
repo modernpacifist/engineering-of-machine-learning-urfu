{
  "cells": [
    {
      "cell_type": "markdown",
      "metadata": {
        "tags": [],
        "id": "F6EDfWQLkBLX"
      },
      "source": [
        "## 1. Постановка задачи"
      ]
    },
    {
      "cell_type": "markdown",
      "metadata": {
        "id": "G3NPCLzmkBLa"
      },
      "source": [
        "<center> <img src=https://storage.googleapis.com/kaggle-competitions/kaggle/3333/media/taxi_meter.png align=\"right\" width=\"300\"/> </center>\n",
        "\n",
        "Вам предстоит решить настоящую задачу машинного обучения, направленную на автоматизацию бизнес процессов. Мы построим модель, которая будет предсказывать общую продолжительность поездки такси в Нью-Йорке.\n",
        "\n",
        "Представьте вы заказываете такси из одной точки Нью-Йорка в другую, причем не обязательно конечная точка должна находиться в пределах города. Сколько вы должны будете за нее заплатить? Известно, что стоимость такси в США  рассчитывается на основе фиксированной ставки + тарифная стоимость, величина которой зависит от времени и расстояния. Тарифы варьируются в зависимости от города.\n",
        "\n",
        "В свою очередь время поездки зависит от множества факторов таких как, откуда и куда вы едете, в какое время суток вы совершаете вашу поездку, погодных условий и так далее.\n",
        "\n",
        "Таким образом, если мы разработаем алгоритм, способный определять длительность поездки, мы сможем прогнозировать ее стоимость самым тривиальным образом, например, просто умножая стоимость на заданный тариф.\n",
        "Сервисы такси хранят огромные объёмы информации о поездках, включая такие данные как конечная, начальная точка маршрута, дата поездки и ее длительность. Эти данные можно использовать для того, чтобы прогнозировать длительность поездки в автоматическом режиме с привлечением искусственного интеллекта.\n",
        "\n",
        "**Бизнес-задача:** определить характеристики и с их помощью спрогнозировать длительность поездки такси.\n",
        "\n",
        "**Техническая задача для вас как для специалиста в Data Science:** построить модель машинного обучения, которая на основе предложенных характеристик клиента будет предсказывать числовой признак - время поездки такси. То есть решить задачу регрессии.\n",
        "\n",
        "**Основные цели проекта:**\n",
        "1. Сформировать набор данных на основе нескольких источников информации\n",
        "2. Спроектировать новые признаки с помощью Feature Engineering и выявить наиболее значимые при построении модели\n",
        "3. Исследовать предоставленные данные и выявить закономерности\n",
        "4. Построить несколько моделей и выбрать из них наилучшую по заданной метрике\n",
        "5. Спроектировать процесс предсказания времени длительности поездки для новых данных\n",
        "\n",
        "Загрузить свое решение на платформу Kaggle, тем самым поучаствовав в настоящем Data Science соревновании.\n",
        "Во время выполнения проекта вы отработаете навыки работы с несколькими источниками данных, генерации признаков, разведывательного анализа и визуализации данных, отбора признаков и, конечно же, построения моделей машинного обучения!\n"
      ]
    },
    {
      "cell_type": "markdown",
      "metadata": {
        "tags": [],
        "id": "4Up0IUABkBLc"
      },
      "source": [
        "## 2. Знакомство с данными, базовый анализ и расширение данных"
      ]
    },
    {
      "cell_type": "markdown",
      "metadata": {
        "id": "7W9mZPhWkBLd"
      },
      "source": [
        "Начнём наше исследование со знакомства с предоставленными данными. А также подгрузим дополнительные источники данных и расширим наш исходный датасет.\n"
      ]
    },
    {
      "cell_type": "markdown",
      "metadata": {
        "id": "UTIxJupXkBLd"
      },
      "source": [
        "Заранее импортируем модули, которые нам понадобятся для решения задачи:"
      ]
    },
    {
      "cell_type": "code",
      "execution_count": null,
      "metadata": {
        "id": "yeC12P0hkBLe"
      },
      "outputs": [],
      "source": [
        "import numpy as np\n",
        "import pandas as pd\n",
        "import matplotlib.pyplot as plt\n",
        "import seaborn as sns\n",
        "import plotly.express as px\n",
        "\n",
        "from scipy import stats\n",
        "from sklearn import linear_model\n",
        "from sklearn import preprocessing\n",
        "from sklearn import model_selection\n",
        "from sklearn import tree\n",
        "from sklearn import ensemble\n",
        "from sklearn import metrics\n",
        "from sklearn import cluster\n",
        "from sklearn import feature_selection"
      ]
    },
    {
      "cell_type": "code",
      "source": [
        "from google.colab import drive"
      ],
      "metadata": {
        "id": "w1sTlhPYkWxR"
      },
      "execution_count": null,
      "outputs": []
    },
    {
      "cell_type": "code",
      "source": [
        "drive.mount('/content/drive')"
      ],
      "metadata": {
        "colab": {
          "base_uri": "https://localhost:8080/"
        },
        "id": "UlEAHnBikaH1",
        "outputId": "2c640865-049b-4552-e7d3-6d161cd8e49b"
      },
      "execution_count": null,
      "outputs": [
        {
          "output_type": "stream",
          "name": "stdout",
          "text": [
            "Mounted at /content/drive\n"
          ]
        }
      ]
    },
    {
      "cell_type": "markdown",
      "metadata": {
        "id": "kk5-kjqikBLf"
      },
      "source": [
        "Прочитаем наш файл с исходными данными:"
      ]
    },
    {
      "cell_type": "code",
      "execution_count": null,
      "metadata": {
        "_cell_guid": "79c7e3d0-c299-4dcb-8224-4455121ee9b0",
        "_uuid": "d629ff2d2480ee46fbb7e2d37f6b5fab8052498a",
        "tags": [],
        "id": "hMQnRJwdkBLg",
        "colab": {
          "base_uri": "https://localhost:8080/",
          "height": 375
        },
        "outputId": "7c00c383-2f4c-47d1-d6ee-1f2f2a45b5d4"
      },
      "outputs": [
        {
          "output_type": "stream",
          "name": "stdout",
          "text": [
            "Train data shape: (1458644, 11)\n"
          ]
        },
        {
          "output_type": "execute_result",
          "data": {
            "text/plain": [
              "          id  vendor_id      pickup_datetime     dropoff_datetime  \\\n",
              "0  id2875421          2  2016-03-14 17:24:55  2016-03-14 17:32:30   \n",
              "1  id2377394          1  2016-06-12 00:43:35  2016-06-12 00:54:38   \n",
              "2  id3858529          2  2016-01-19 11:35:24  2016-01-19 12:10:48   \n",
              "3  id3504673          2  2016-04-06 19:32:31  2016-04-06 19:39:40   \n",
              "4  id2181028          2  2016-03-26 13:30:55  2016-03-26 13:38:10   \n",
              "\n",
              "   passenger_count  pickup_longitude  pickup_latitude  dropoff_longitude  \\\n",
              "0                1        -73.982155        40.767937         -73.964630   \n",
              "1                1        -73.980415        40.738564         -73.999481   \n",
              "2                1        -73.979027        40.763939         -74.005333   \n",
              "3                1        -74.010040        40.719971         -74.012268   \n",
              "4                1        -73.973053        40.793209         -73.972923   \n",
              "\n",
              "   dropoff_latitude store_and_fwd_flag  trip_duration  \n",
              "0         40.765602                  N            455  \n",
              "1         40.731152                  N            663  \n",
              "2         40.710087                  N           2124  \n",
              "3         40.706718                  N            429  \n",
              "4         40.782520                  N            435  "
            ],
            "text/html": [
              "\n",
              "  <div id=\"df-f1ff98e4-c5e3-4767-ba92-0fe3155c470a\">\n",
              "    <div class=\"colab-df-container\">\n",
              "      <div>\n",
              "<style scoped>\n",
              "    .dataframe tbody tr th:only-of-type {\n",
              "        vertical-align: middle;\n",
              "    }\n",
              "\n",
              "    .dataframe tbody tr th {\n",
              "        vertical-align: top;\n",
              "    }\n",
              "\n",
              "    .dataframe thead th {\n",
              "        text-align: right;\n",
              "    }\n",
              "</style>\n",
              "<table border=\"1\" class=\"dataframe\">\n",
              "  <thead>\n",
              "    <tr style=\"text-align: right;\">\n",
              "      <th></th>\n",
              "      <th>id</th>\n",
              "      <th>vendor_id</th>\n",
              "      <th>pickup_datetime</th>\n",
              "      <th>dropoff_datetime</th>\n",
              "      <th>passenger_count</th>\n",
              "      <th>pickup_longitude</th>\n",
              "      <th>pickup_latitude</th>\n",
              "      <th>dropoff_longitude</th>\n",
              "      <th>dropoff_latitude</th>\n",
              "      <th>store_and_fwd_flag</th>\n",
              "      <th>trip_duration</th>\n",
              "    </tr>\n",
              "  </thead>\n",
              "  <tbody>\n",
              "    <tr>\n",
              "      <th>0</th>\n",
              "      <td>id2875421</td>\n",
              "      <td>2</td>\n",
              "      <td>2016-03-14 17:24:55</td>\n",
              "      <td>2016-03-14 17:32:30</td>\n",
              "      <td>1</td>\n",
              "      <td>-73.982155</td>\n",
              "      <td>40.767937</td>\n",
              "      <td>-73.964630</td>\n",
              "      <td>40.765602</td>\n",
              "      <td>N</td>\n",
              "      <td>455</td>\n",
              "    </tr>\n",
              "    <tr>\n",
              "      <th>1</th>\n",
              "      <td>id2377394</td>\n",
              "      <td>1</td>\n",
              "      <td>2016-06-12 00:43:35</td>\n",
              "      <td>2016-06-12 00:54:38</td>\n",
              "      <td>1</td>\n",
              "      <td>-73.980415</td>\n",
              "      <td>40.738564</td>\n",
              "      <td>-73.999481</td>\n",
              "      <td>40.731152</td>\n",
              "      <td>N</td>\n",
              "      <td>663</td>\n",
              "    </tr>\n",
              "    <tr>\n",
              "      <th>2</th>\n",
              "      <td>id3858529</td>\n",
              "      <td>2</td>\n",
              "      <td>2016-01-19 11:35:24</td>\n",
              "      <td>2016-01-19 12:10:48</td>\n",
              "      <td>1</td>\n",
              "      <td>-73.979027</td>\n",
              "      <td>40.763939</td>\n",
              "      <td>-74.005333</td>\n",
              "      <td>40.710087</td>\n",
              "      <td>N</td>\n",
              "      <td>2124</td>\n",
              "    </tr>\n",
              "    <tr>\n",
              "      <th>3</th>\n",
              "      <td>id3504673</td>\n",
              "      <td>2</td>\n",
              "      <td>2016-04-06 19:32:31</td>\n",
              "      <td>2016-04-06 19:39:40</td>\n",
              "      <td>1</td>\n",
              "      <td>-74.010040</td>\n",
              "      <td>40.719971</td>\n",
              "      <td>-74.012268</td>\n",
              "      <td>40.706718</td>\n",
              "      <td>N</td>\n",
              "      <td>429</td>\n",
              "    </tr>\n",
              "    <tr>\n",
              "      <th>4</th>\n",
              "      <td>id2181028</td>\n",
              "      <td>2</td>\n",
              "      <td>2016-03-26 13:30:55</td>\n",
              "      <td>2016-03-26 13:38:10</td>\n",
              "      <td>1</td>\n",
              "      <td>-73.973053</td>\n",
              "      <td>40.793209</td>\n",
              "      <td>-73.972923</td>\n",
              "      <td>40.782520</td>\n",
              "      <td>N</td>\n",
              "      <td>435</td>\n",
              "    </tr>\n",
              "  </tbody>\n",
              "</table>\n",
              "</div>\n",
              "      <button class=\"colab-df-convert\" onclick=\"convertToInteractive('df-f1ff98e4-c5e3-4767-ba92-0fe3155c470a')\"\n",
              "              title=\"Convert this dataframe to an interactive table.\"\n",
              "              style=\"display:none;\">\n",
              "        \n",
              "  <svg xmlns=\"http://www.w3.org/2000/svg\" height=\"24px\"viewBox=\"0 0 24 24\"\n",
              "       width=\"24px\">\n",
              "    <path d=\"M0 0h24v24H0V0z\" fill=\"none\"/>\n",
              "    <path d=\"M18.56 5.44l.94 2.06.94-2.06 2.06-.94-2.06-.94-.94-2.06-.94 2.06-2.06.94zm-11 1L8.5 8.5l.94-2.06 2.06-.94-2.06-.94L8.5 2.5l-.94 2.06-2.06.94zm10 10l.94 2.06.94-2.06 2.06-.94-2.06-.94-.94-2.06-.94 2.06-2.06.94z\"/><path d=\"M17.41 7.96l-1.37-1.37c-.4-.4-.92-.59-1.43-.59-.52 0-1.04.2-1.43.59L10.3 9.45l-7.72 7.72c-.78.78-.78 2.05 0 2.83L4 21.41c.39.39.9.59 1.41.59.51 0 1.02-.2 1.41-.59l7.78-7.78 2.81-2.81c.8-.78.8-2.07 0-2.86zM5.41 20L4 18.59l7.72-7.72 1.47 1.35L5.41 20z\"/>\n",
              "  </svg>\n",
              "      </button>\n",
              "      \n",
              "  <style>\n",
              "    .colab-df-container {\n",
              "      display:flex;\n",
              "      flex-wrap:wrap;\n",
              "      gap: 12px;\n",
              "    }\n",
              "\n",
              "    .colab-df-convert {\n",
              "      background-color: #E8F0FE;\n",
              "      border: none;\n",
              "      border-radius: 50%;\n",
              "      cursor: pointer;\n",
              "      display: none;\n",
              "      fill: #1967D2;\n",
              "      height: 32px;\n",
              "      padding: 0 0 0 0;\n",
              "      width: 32px;\n",
              "    }\n",
              "\n",
              "    .colab-df-convert:hover {\n",
              "      background-color: #E2EBFA;\n",
              "      box-shadow: 0px 1px 2px rgba(60, 64, 67, 0.3), 0px 1px 3px 1px rgba(60, 64, 67, 0.15);\n",
              "      fill: #174EA6;\n",
              "    }\n",
              "\n",
              "    [theme=dark] .colab-df-convert {\n",
              "      background-color: #3B4455;\n",
              "      fill: #D2E3FC;\n",
              "    }\n",
              "\n",
              "    [theme=dark] .colab-df-convert:hover {\n",
              "      background-color: #434B5C;\n",
              "      box-shadow: 0px 1px 3px 1px rgba(0, 0, 0, 0.15);\n",
              "      filter: drop-shadow(0px 1px 2px rgba(0, 0, 0, 0.3));\n",
              "      fill: #FFFFFF;\n",
              "    }\n",
              "  </style>\n",
              "\n",
              "      <script>\n",
              "        const buttonEl =\n",
              "          document.querySelector('#df-f1ff98e4-c5e3-4767-ba92-0fe3155c470a button.colab-df-convert');\n",
              "        buttonEl.style.display =\n",
              "          google.colab.kernel.accessAllowed ? 'block' : 'none';\n",
              "\n",
              "        async function convertToInteractive(key) {\n",
              "          const element = document.querySelector('#df-f1ff98e4-c5e3-4767-ba92-0fe3155c470a');\n",
              "          const dataTable =\n",
              "            await google.colab.kernel.invokeFunction('convertToInteractive',\n",
              "                                                     [key], {});\n",
              "          if (!dataTable) return;\n",
              "\n",
              "          const docLinkHtml = 'Like what you see? Visit the ' +\n",
              "            '<a target=\"_blank\" href=https://colab.research.google.com/notebooks/data_table.ipynb>data table notebook</a>'\n",
              "            + ' to learn more about interactive tables.';\n",
              "          element.innerHTML = '';\n",
              "          dataTable['output_type'] = 'display_data';\n",
              "          await google.colab.output.renderOutput(dataTable, element);\n",
              "          const docLink = document.createElement('div');\n",
              "          docLink.innerHTML = docLinkHtml;\n",
              "          element.appendChild(docLink);\n",
              "        }\n",
              "      </script>\n",
              "    </div>\n",
              "  </div>\n",
              "  "
            ]
          },
          "metadata": {},
          "execution_count": 4
        }
      ],
      "source": [
        "taxi_data = pd.read_csv(\"/content/drive/MyDrive/UrfuCsvDatasets/RegressionProject5SecondSemester/train.csv\")\n",
        "print('Train data shape: {}'.format(taxi_data.shape))\n",
        "taxi_data.head()"
      ]
    },
    {
      "cell_type": "code",
      "source": [
        "taxi_data.info()"
      ],
      "metadata": {
        "colab": {
          "base_uri": "https://localhost:8080/"
        },
        "id": "3OVmm5wNmA6f",
        "outputId": "caeb8f18-a653-4524-8325-2c228105f5c1"
      },
      "execution_count": null,
      "outputs": [
        {
          "output_type": "stream",
          "name": "stdout",
          "text": [
            "<class 'pandas.core.frame.DataFrame'>\n",
            "RangeIndex: 1458644 entries, 0 to 1458643\n",
            "Data columns (total 11 columns):\n",
            " #   Column              Non-Null Count    Dtype  \n",
            "---  ------              --------------    -----  \n",
            " 0   id                  1458644 non-null  object \n",
            " 1   vendor_id           1458644 non-null  int64  \n",
            " 2   pickup_datetime     1458644 non-null  object \n",
            " 3   dropoff_datetime    1458644 non-null  object \n",
            " 4   passenger_count     1458644 non-null  int64  \n",
            " 5   pickup_longitude    1458644 non-null  float64\n",
            " 6   pickup_latitude     1458644 non-null  float64\n",
            " 7   dropoff_longitude   1458644 non-null  float64\n",
            " 8   dropoff_latitude    1458644 non-null  float64\n",
            " 9   store_and_fwd_flag  1458644 non-null  object \n",
            " 10  trip_duration       1458644 non-null  int64  \n",
            "dtypes: float64(4), int64(3), object(4)\n",
            "memory usage: 122.4+ MB\n"
          ]
        }
      ]
    },
    {
      "cell_type": "markdown",
      "metadata": {
        "id": "xhaxNt0XkBLh"
      },
      "source": [
        "Итак, у нас с вами есть данные о почти 1.5 миллионах поездок и 11 характеристиках, которые описывают каждую из поездок."
      ]
    },
    {
      "cell_type": "markdown",
      "metadata": {
        "id": "tXufvADjkBLi"
      },
      "source": [
        "Мы условно разделили признаки нескольких групп. Каждой из групп мы в дальнейшем уделим отдельное внимание.\n",
        "\n",
        "**Данные о клиенте и таксопарке:**\n",
        "* id - уникальный идентификатор поездки\n",
        "* vendor_id - уникальный идентификатор поставщика (таксопарка), связанного с записью поездки\n",
        "\n",
        "**Временные характеристики:**\n",
        "* pickup_datetime - дата и время, когда был включен счетчик поездки\n",
        "* dropoff_datetime - дата и время, когда счетчик был отключен\n",
        "\n",
        "**Географическая информация:**\n",
        "* pickup_longitude -  долгота, на которой был включен счетчик\n",
        "* pickup_latitude - широта, на которой был включен счетчик\n",
        "* dropoff_longitude - долгота, на которой счетчик был отключен\n",
        "* dropoff_latitude - широта, на которой счетчик был отключен\n",
        "\n",
        "**Прочие признаки:**\n",
        "* passenger_count - количество пассажиров в транспортном средстве (введенное водителем значение)\n",
        "* store_and_fwd_flag - флаг, который указывает, сохранилась ли запись о поездке в памяти транспортного средства перед отправкой поставщику. Y - хранить и пересылать, N - не хранить и не пересылать поездку.\n",
        "\n",
        "**Целевой признак:**\n",
        "* trip_duration - продолжительность поездки в секундах\n"
      ]
    },
    {
      "cell_type": "markdown",
      "metadata": {
        "id": "VvrcGynTkBLi"
      },
      "source": [
        "Для начала мы проведем базовый анализ того, насколько данные готовы к дальнейшей предобработке и анализу."
      ]
    },
    {
      "cell_type": "markdown",
      "metadata": {
        "id": "33rsP7rTkBLj"
      },
      "source": [
        "### Задание 2.1\n",
        "Для начала посмотрим на временные рамки, в которых мы работаем с данными.\n",
        "\n",
        "Переведите признак pickup_datetime в тип данных datetime с форматом год-месяц-день час:минута:секунда (в функции pd.to_datetime() параметр format='%Y-%m-%d %H:%M:%S').\n",
        "\n",
        "Определите временные рамки (без учета времени), за которые представлены данные."
      ]
    },
    {
      "cell_type": "code",
      "execution_count": null,
      "metadata": {
        "id": "cIVxwqW1kBLj"
      },
      "outputs": [],
      "source": [
        "taxi_data['pickup_datetime'] = pd.to_datetime(taxi_data['pickup_datetime'], format='%Y-%m-%d %H:%M:%S')"
      ]
    },
    {
      "cell_type": "code",
      "source": [
        "taxi_data['pickup_datetime'].dtype"
      ],
      "metadata": {
        "colab": {
          "base_uri": "https://localhost:8080/"
        },
        "id": "5TRvX1vBmhOI",
        "outputId": "793ac87a-0149-48cb-dfc3-54ae6c6cda7a"
      },
      "execution_count": null,
      "outputs": [
        {
          "output_type": "execute_result",
          "data": {
            "text/plain": [
              "dtype('<M8[ns]')"
            ]
          },
          "metadata": {},
          "execution_count": 7
        }
      ]
    },
    {
      "cell_type": "code",
      "source": [
        "print(taxi_data['pickup_datetime'].min())\n",
        "print(taxi_data['pickup_datetime'].max())"
      ],
      "metadata": {
        "colab": {
          "base_uri": "https://localhost:8080/"
        },
        "id": "kQnZdQCkmxtz",
        "outputId": "f1be7bc4-6d2f-4bc6-b674-0701778e97bc"
      },
      "execution_count": null,
      "outputs": [
        {
          "output_type": "stream",
          "name": "stdout",
          "text": [
            "2016-01-01 00:00:17\n",
            "2016-06-30 23:59:39\n"
          ]
        }
      ]
    },
    {
      "cell_type": "markdown",
      "metadata": {
        "id": "prw5RhKnkBLj"
      },
      "source": [
        "### Задание 2.2\n",
        "Посмотрим на пропуски.\n",
        "Сколько пропущенных значений присутствует в данных (суммарно по всем столбцам таблицы)?"
      ]
    },
    {
      "cell_type": "code",
      "execution_count": null,
      "metadata": {
        "id": "ug16JoZDkBLk",
        "colab": {
          "base_uri": "https://localhost:8080/"
        },
        "outputId": "49f74977-3653-47ec-9342-0297dbfd9872"
      },
      "outputs": [
        {
          "output_type": "execute_result",
          "data": {
            "text/plain": [
              "0"
            ]
          },
          "metadata": {},
          "execution_count": 9
        }
      ],
      "source": [
        "taxi_data.isnull().sum().sum()"
      ]
    },
    {
      "cell_type": "markdown",
      "metadata": {
        "id": "ZMMIyT1skBLk"
      },
      "source": [
        "### Задание 2.3\n",
        "Посмотрим на статистические характеристики некоторых признаков.\n",
        "\n",
        "а) Сколько уникальных таксопарков присутствует в данных?\n",
        "\n",
        "б) Каково максимальное количество пассажиров?\n",
        "\n",
        "в) Чему равна средняя и медианная длительность поездки? Ответ приведите в секундах и округлите до целого.\n",
        "\n",
        "г) Чему равно минимальное и максимальное время поездки (в секундах)?\n"
      ]
    },
    {
      "cell_type": "markdown",
      "source": [
        "#### 2.3 a"
      ],
      "metadata": {
        "id": "fmg2-wRTntLg"
      }
    },
    {
      "cell_type": "code",
      "source": [
        "taxi_data['vendor_id'].nunique()"
      ],
      "metadata": {
        "colab": {
          "base_uri": "https://localhost:8080/"
        },
        "id": "4qggkJ_5nay2",
        "outputId": "78b138f3-35be-4111-99e4-c5d1964b9985"
      },
      "execution_count": null,
      "outputs": [
        {
          "output_type": "execute_result",
          "data": {
            "text/plain": [
              "2"
            ]
          },
          "metadata": {},
          "execution_count": 10
        }
      ]
    },
    {
      "cell_type": "markdown",
      "source": [
        "#### 2.3 b"
      ],
      "metadata": {
        "id": "BMlDMS5fnvhJ"
      }
    },
    {
      "cell_type": "code",
      "source": [
        "taxi_data['passenger_count'].max()"
      ],
      "metadata": {
        "colab": {
          "base_uri": "https://localhost:8080/"
        },
        "id": "UkMrmV4wnmHJ",
        "outputId": "a0b37205-3681-4c37-ade1-93e9db903f97"
      },
      "execution_count": null,
      "outputs": [
        {
          "output_type": "execute_result",
          "data": {
            "text/plain": [
              "9"
            ]
          },
          "metadata": {},
          "execution_count": 11
        }
      ]
    },
    {
      "cell_type": "markdown",
      "source": [
        "#### 2.3 c"
      ],
      "metadata": {
        "id": "f971X7f_nyN9"
      }
    },
    {
      "cell_type": "code",
      "source": [
        "taxi_data['trip_duration'].mean()"
      ],
      "metadata": {
        "colab": {
          "base_uri": "https://localhost:8080/"
        },
        "id": "Brrp6CYinq15",
        "outputId": "2c7ed4c2-3bea-4a4a-db7f-0fae1e799724"
      },
      "execution_count": null,
      "outputs": [
        {
          "output_type": "execute_result",
          "data": {
            "text/plain": [
              "959.4922729603659"
            ]
          },
          "metadata": {},
          "execution_count": 12
        }
      ]
    },
    {
      "cell_type": "code",
      "source": [
        "taxi_data['trip_duration'].median()"
      ],
      "metadata": {
        "colab": {
          "base_uri": "https://localhost:8080/"
        },
        "id": "sjUaZFAen6wU",
        "outputId": "d628fd55-830d-4e03-9d8a-6f66c34812b1"
      },
      "execution_count": null,
      "outputs": [
        {
          "output_type": "execute_result",
          "data": {
            "text/plain": [
              "662.0"
            ]
          },
          "metadata": {},
          "execution_count": 13
        }
      ]
    },
    {
      "cell_type": "markdown",
      "source": [
        "#### 2.3 d"
      ],
      "metadata": {
        "id": "8rCTS1aZn9jt"
      }
    },
    {
      "cell_type": "code",
      "source": [
        "taxi_data['trip_duration'].min()"
      ],
      "metadata": {
        "colab": {
          "base_uri": "https://localhost:8080/"
        },
        "id": "urduyaoan_-N",
        "outputId": "845b3027-2f6e-4806-ecb2-89d2ba07b256"
      },
      "execution_count": null,
      "outputs": [
        {
          "output_type": "execute_result",
          "data": {
            "text/plain": [
              "1"
            ]
          },
          "metadata": {},
          "execution_count": 14
        }
      ]
    },
    {
      "cell_type": "code",
      "source": [
        "taxi_data['trip_duration'].max()"
      ],
      "metadata": {
        "colab": {
          "base_uri": "https://localhost:8080/"
        },
        "id": "nnVQRImOoFRo",
        "outputId": "eb831088-f4b1-43b1-881e-6c696ccb68e3"
      },
      "execution_count": null,
      "outputs": [
        {
          "output_type": "execute_result",
          "data": {
            "text/plain": [
              "3526282"
            ]
          },
          "metadata": {},
          "execution_count": 15
        }
      ]
    },
    {
      "cell_type": "markdown",
      "metadata": {
        "id": "JhUgalQSkBLk"
      },
      "source": [
        "Займемся расширением исходного набора данных как с помощью внешних источников, так и с помощью манипуляций над имеющимися в данных признаками.\n"
      ]
    },
    {
      "cell_type": "markdown",
      "metadata": {
        "id": "riVyyTGRkBLk"
      },
      "source": [
        "### Задание 2.4\n",
        "Реализуйте функцию add_datetime_features(), которая принимает на вход таблицу с данными о поездках (DataFrame) и возвращает ту же таблицу с добавленными в нее 3 столбцами:\n",
        "* pickup_date - дата включения счетчика - начала поездки (без времени);\n",
        "* pickup_hour - час дня включения счетчика;\n",
        "* pickup_day_of_week - наименование дня недели, в который был включен счетчик.\n",
        "\n",
        "а) Сколько поездок было совершено в субботу?\n",
        "\n",
        "б) Сколько поездок в среднем совершается в день? Ответ округлите до целого"
      ]
    },
    {
      "cell_type": "code",
      "execution_count": null,
      "metadata": {
        "id": "2987aTUAkBLl"
      },
      "outputs": [],
      "source": [
        "def add_datetime_features(df):\n",
        "    df['pickup_date'] = df['pickup_datetime'].dt.date\n",
        "    df['pickup_hour'] = df['pickup_datetime'].dt.hour\n",
        "    df['pickup_day_of_week'] = df['pickup_datetime'].dt.dayofweek\n",
        "\n",
        "    return  df"
      ]
    },
    {
      "cell_type": "code",
      "source": [
        "taxi_data = add_datetime_features(taxi_data)"
      ],
      "metadata": {
        "id": "H23NllEqQzX1"
      },
      "execution_count": null,
      "outputs": []
    },
    {
      "cell_type": "code",
      "source": [
        "taxi_data.head()"
      ],
      "metadata": {
        "colab": {
          "base_uri": "https://localhost:8080/",
          "height": 357
        },
        "id": "k_JbY3d2Q5ik",
        "outputId": "5c78f804-d03e-4cf0-a242-69b59bcf57e6"
      },
      "execution_count": null,
      "outputs": [
        {
          "output_type": "execute_result",
          "data": {
            "text/plain": [
              "          id  vendor_id     pickup_datetime     dropoff_datetime  \\\n",
              "0  id2875421          2 2016-03-14 17:24:55  2016-03-14 17:32:30   \n",
              "1  id2377394          1 2016-06-12 00:43:35  2016-06-12 00:54:38   \n",
              "2  id3858529          2 2016-01-19 11:35:24  2016-01-19 12:10:48   \n",
              "3  id3504673          2 2016-04-06 19:32:31  2016-04-06 19:39:40   \n",
              "4  id2181028          2 2016-03-26 13:30:55  2016-03-26 13:38:10   \n",
              "\n",
              "   passenger_count  pickup_longitude  pickup_latitude  dropoff_longitude  \\\n",
              "0                1        -73.982155        40.767937         -73.964630   \n",
              "1                1        -73.980415        40.738564         -73.999481   \n",
              "2                1        -73.979027        40.763939         -74.005333   \n",
              "3                1        -74.010040        40.719971         -74.012268   \n",
              "4                1        -73.973053        40.793209         -73.972923   \n",
              "\n",
              "   dropoff_latitude store_and_fwd_flag  trip_duration pickup_date  \\\n",
              "0         40.765602                  N            455  2016-03-14   \n",
              "1         40.731152                  N            663  2016-06-12   \n",
              "2         40.710087                  N           2124  2016-01-19   \n",
              "3         40.706718                  N            429  2016-04-06   \n",
              "4         40.782520                  N            435  2016-03-26   \n",
              "\n",
              "   pickup_hour  pickup_day_of_week  \n",
              "0           17                   0  \n",
              "1            0                   6  \n",
              "2           11                   1  \n",
              "3           19                   2  \n",
              "4           13                   5  "
            ],
            "text/html": [
              "\n",
              "  <div id=\"df-e66f199e-3ec9-4bfd-ac05-76468644325e\">\n",
              "    <div class=\"colab-df-container\">\n",
              "      <div>\n",
              "<style scoped>\n",
              "    .dataframe tbody tr th:only-of-type {\n",
              "        vertical-align: middle;\n",
              "    }\n",
              "\n",
              "    .dataframe tbody tr th {\n",
              "        vertical-align: top;\n",
              "    }\n",
              "\n",
              "    .dataframe thead th {\n",
              "        text-align: right;\n",
              "    }\n",
              "</style>\n",
              "<table border=\"1\" class=\"dataframe\">\n",
              "  <thead>\n",
              "    <tr style=\"text-align: right;\">\n",
              "      <th></th>\n",
              "      <th>id</th>\n",
              "      <th>vendor_id</th>\n",
              "      <th>pickup_datetime</th>\n",
              "      <th>dropoff_datetime</th>\n",
              "      <th>passenger_count</th>\n",
              "      <th>pickup_longitude</th>\n",
              "      <th>pickup_latitude</th>\n",
              "      <th>dropoff_longitude</th>\n",
              "      <th>dropoff_latitude</th>\n",
              "      <th>store_and_fwd_flag</th>\n",
              "      <th>trip_duration</th>\n",
              "      <th>pickup_date</th>\n",
              "      <th>pickup_hour</th>\n",
              "      <th>pickup_day_of_week</th>\n",
              "    </tr>\n",
              "  </thead>\n",
              "  <tbody>\n",
              "    <tr>\n",
              "      <th>0</th>\n",
              "      <td>id2875421</td>\n",
              "      <td>2</td>\n",
              "      <td>2016-03-14 17:24:55</td>\n",
              "      <td>2016-03-14 17:32:30</td>\n",
              "      <td>1</td>\n",
              "      <td>-73.982155</td>\n",
              "      <td>40.767937</td>\n",
              "      <td>-73.964630</td>\n",
              "      <td>40.765602</td>\n",
              "      <td>N</td>\n",
              "      <td>455</td>\n",
              "      <td>2016-03-14</td>\n",
              "      <td>17</td>\n",
              "      <td>0</td>\n",
              "    </tr>\n",
              "    <tr>\n",
              "      <th>1</th>\n",
              "      <td>id2377394</td>\n",
              "      <td>1</td>\n",
              "      <td>2016-06-12 00:43:35</td>\n",
              "      <td>2016-06-12 00:54:38</td>\n",
              "      <td>1</td>\n",
              "      <td>-73.980415</td>\n",
              "      <td>40.738564</td>\n",
              "      <td>-73.999481</td>\n",
              "      <td>40.731152</td>\n",
              "      <td>N</td>\n",
              "      <td>663</td>\n",
              "      <td>2016-06-12</td>\n",
              "      <td>0</td>\n",
              "      <td>6</td>\n",
              "    </tr>\n",
              "    <tr>\n",
              "      <th>2</th>\n",
              "      <td>id3858529</td>\n",
              "      <td>2</td>\n",
              "      <td>2016-01-19 11:35:24</td>\n",
              "      <td>2016-01-19 12:10:48</td>\n",
              "      <td>1</td>\n",
              "      <td>-73.979027</td>\n",
              "      <td>40.763939</td>\n",
              "      <td>-74.005333</td>\n",
              "      <td>40.710087</td>\n",
              "      <td>N</td>\n",
              "      <td>2124</td>\n",
              "      <td>2016-01-19</td>\n",
              "      <td>11</td>\n",
              "      <td>1</td>\n",
              "    </tr>\n",
              "    <tr>\n",
              "      <th>3</th>\n",
              "      <td>id3504673</td>\n",
              "      <td>2</td>\n",
              "      <td>2016-04-06 19:32:31</td>\n",
              "      <td>2016-04-06 19:39:40</td>\n",
              "      <td>1</td>\n",
              "      <td>-74.010040</td>\n",
              "      <td>40.719971</td>\n",
              "      <td>-74.012268</td>\n",
              "      <td>40.706718</td>\n",
              "      <td>N</td>\n",
              "      <td>429</td>\n",
              "      <td>2016-04-06</td>\n",
              "      <td>19</td>\n",
              "      <td>2</td>\n",
              "    </tr>\n",
              "    <tr>\n",
              "      <th>4</th>\n",
              "      <td>id2181028</td>\n",
              "      <td>2</td>\n",
              "      <td>2016-03-26 13:30:55</td>\n",
              "      <td>2016-03-26 13:38:10</td>\n",
              "      <td>1</td>\n",
              "      <td>-73.973053</td>\n",
              "      <td>40.793209</td>\n",
              "      <td>-73.972923</td>\n",
              "      <td>40.782520</td>\n",
              "      <td>N</td>\n",
              "      <td>435</td>\n",
              "      <td>2016-03-26</td>\n",
              "      <td>13</td>\n",
              "      <td>5</td>\n",
              "    </tr>\n",
              "  </tbody>\n",
              "</table>\n",
              "</div>\n",
              "      <button class=\"colab-df-convert\" onclick=\"convertToInteractive('df-e66f199e-3ec9-4bfd-ac05-76468644325e')\"\n",
              "              title=\"Convert this dataframe to an interactive table.\"\n",
              "              style=\"display:none;\">\n",
              "        \n",
              "  <svg xmlns=\"http://www.w3.org/2000/svg\" height=\"24px\"viewBox=\"0 0 24 24\"\n",
              "       width=\"24px\">\n",
              "    <path d=\"M0 0h24v24H0V0z\" fill=\"none\"/>\n",
              "    <path d=\"M18.56 5.44l.94 2.06.94-2.06 2.06-.94-2.06-.94-.94-2.06-.94 2.06-2.06.94zm-11 1L8.5 8.5l.94-2.06 2.06-.94-2.06-.94L8.5 2.5l-.94 2.06-2.06.94zm10 10l.94 2.06.94-2.06 2.06-.94-2.06-.94-.94-2.06-.94 2.06-2.06.94z\"/><path d=\"M17.41 7.96l-1.37-1.37c-.4-.4-.92-.59-1.43-.59-.52 0-1.04.2-1.43.59L10.3 9.45l-7.72 7.72c-.78.78-.78 2.05 0 2.83L4 21.41c.39.39.9.59 1.41.59.51 0 1.02-.2 1.41-.59l7.78-7.78 2.81-2.81c.8-.78.8-2.07 0-2.86zM5.41 20L4 18.59l7.72-7.72 1.47 1.35L5.41 20z\"/>\n",
              "  </svg>\n",
              "      </button>\n",
              "      \n",
              "  <style>\n",
              "    .colab-df-container {\n",
              "      display:flex;\n",
              "      flex-wrap:wrap;\n",
              "      gap: 12px;\n",
              "    }\n",
              "\n",
              "    .colab-df-convert {\n",
              "      background-color: #E8F0FE;\n",
              "      border: none;\n",
              "      border-radius: 50%;\n",
              "      cursor: pointer;\n",
              "      display: none;\n",
              "      fill: #1967D2;\n",
              "      height: 32px;\n",
              "      padding: 0 0 0 0;\n",
              "      width: 32px;\n",
              "    }\n",
              "\n",
              "    .colab-df-convert:hover {\n",
              "      background-color: #E2EBFA;\n",
              "      box-shadow: 0px 1px 2px rgba(60, 64, 67, 0.3), 0px 1px 3px 1px rgba(60, 64, 67, 0.15);\n",
              "      fill: #174EA6;\n",
              "    }\n",
              "\n",
              "    [theme=dark] .colab-df-convert {\n",
              "      background-color: #3B4455;\n",
              "      fill: #D2E3FC;\n",
              "    }\n",
              "\n",
              "    [theme=dark] .colab-df-convert:hover {\n",
              "      background-color: #434B5C;\n",
              "      box-shadow: 0px 1px 3px 1px rgba(0, 0, 0, 0.15);\n",
              "      filter: drop-shadow(0px 1px 2px rgba(0, 0, 0, 0.3));\n",
              "      fill: #FFFFFF;\n",
              "    }\n",
              "  </style>\n",
              "\n",
              "      <script>\n",
              "        const buttonEl =\n",
              "          document.querySelector('#df-e66f199e-3ec9-4bfd-ac05-76468644325e button.colab-df-convert');\n",
              "        buttonEl.style.display =\n",
              "          google.colab.kernel.accessAllowed ? 'block' : 'none';\n",
              "\n",
              "        async function convertToInteractive(key) {\n",
              "          const element = document.querySelector('#df-e66f199e-3ec9-4bfd-ac05-76468644325e');\n",
              "          const dataTable =\n",
              "            await google.colab.kernel.invokeFunction('convertToInteractive',\n",
              "                                                     [key], {});\n",
              "          if (!dataTable) return;\n",
              "\n",
              "          const docLinkHtml = 'Like what you see? Visit the ' +\n",
              "            '<a target=\"_blank\" href=https://colab.research.google.com/notebooks/data_table.ipynb>data table notebook</a>'\n",
              "            + ' to learn more about interactive tables.';\n",
              "          element.innerHTML = '';\n",
              "          dataTable['output_type'] = 'display_data';\n",
              "          await google.colab.output.renderOutput(dataTable, element);\n",
              "          const docLink = document.createElement('div');\n",
              "          docLink.innerHTML = docLinkHtml;\n",
              "          element.appendChild(docLink);\n",
              "        }\n",
              "      </script>\n",
              "    </div>\n",
              "  </div>\n",
              "  "
            ]
          },
          "metadata": {},
          "execution_count": 19
        }
      ]
    },
    {
      "cell_type": "code",
      "source": [
        "taxi_data['pickup_day_of_week'].value_counts()"
      ],
      "metadata": {
        "colab": {
          "base_uri": "https://localhost:8080/"
        },
        "id": "8GNyf8hRQ9l6",
        "outputId": "43eb60bd-cc90-4d9e-d352-172eadc60de9"
      },
      "execution_count": null,
      "outputs": [
        {
          "output_type": "execute_result",
          "data": {
            "text/plain": [
              "4    223533\n",
              "5    220868\n",
              "3    218574\n",
              "2    210136\n",
              "1    202749\n",
              "6    195366\n",
              "0    187418\n",
              "Name: pickup_day_of_week, dtype: int64"
            ]
          },
          "metadata": {},
          "execution_count": 20
        }
      ]
    },
    {
      "cell_type": "code",
      "source": [
        "taxi_data.groupby('pickup_date').size().mean()"
      ],
      "metadata": {
        "colab": {
          "base_uri": "https://localhost:8080/"
        },
        "id": "JAlGJv2uRYM7",
        "outputId": "36a05b81-2baa-4f37-9964-db798269d255"
      },
      "execution_count": null,
      "outputs": [
        {
          "output_type": "execute_result",
          "data": {
            "text/plain": [
              "8014.527472527472"
            ]
          },
          "metadata": {},
          "execution_count": 22
        }
      ]
    },
    {
      "cell_type": "markdown",
      "metadata": {
        "id": "5rCk6lyTkBLl"
      },
      "source": [
        "### Задание 2.5\n",
        "Реализуйте функцию add_holiday_features(), которая принимает на вход две таблицы:\n",
        "* таблицу с данными о поездках;\n",
        "* таблицу с данными о праздничных днях;\n",
        "\n",
        "и возвращает обновленную таблицу с данными о поездках с добавленным в нее столбцом pickup_holiday - бинарным признаком того, начата ли поездка в праздничный день или нет (1 - да, 0 - нет).\n",
        "\n",
        "Чему равна медианная длительность поездки на такси в праздничные дни? Ответ приведите в секундах, округлив до целого.\n"
      ]
    },
    {
      "cell_type": "code",
      "execution_count": null,
      "metadata": {
        "id": "ZnPWsSMukBLl"
      },
      "outputs": [],
      "source": [
        "holiday_data = pd.read_csv('/content/drive/MyDrive/UrfuCsvDatasets/RegressionProject5SecondSemester/holiday_data.csv', sep=';')"
      ]
    },
    {
      "cell_type": "code",
      "source": [
        "holiday_data.head()"
      ],
      "metadata": {
        "colab": {
          "base_uri": "https://localhost:8080/",
          "height": 206
        },
        "id": "iApgPtI9ToXn",
        "outputId": "db8def08-6623-43c5-f8db-0d7bcd07180d"
      },
      "execution_count": null,
      "outputs": [
        {
          "output_type": "execute_result",
          "data": {
            "text/plain": [
              "      day        date                     holiday\n",
              "0  Friday  2016-01-01               New Years Day\n",
              "1  Monday  2016-01-18  Martin Luther King Jr. Day\n",
              "2  Friday  2016-02-12          Lincoln's Birthday\n",
              "3  Monday  2016-02-15             Presidents' Day\n",
              "4  Sunday  2016-05-08                Mother's Day"
            ],
            "text/html": [
              "\n",
              "  <div id=\"df-80f4e80a-451c-4cf6-bebf-f63486bba765\">\n",
              "    <div class=\"colab-df-container\">\n",
              "      <div>\n",
              "<style scoped>\n",
              "    .dataframe tbody tr th:only-of-type {\n",
              "        vertical-align: middle;\n",
              "    }\n",
              "\n",
              "    .dataframe tbody tr th {\n",
              "        vertical-align: top;\n",
              "    }\n",
              "\n",
              "    .dataframe thead th {\n",
              "        text-align: right;\n",
              "    }\n",
              "</style>\n",
              "<table border=\"1\" class=\"dataframe\">\n",
              "  <thead>\n",
              "    <tr style=\"text-align: right;\">\n",
              "      <th></th>\n",
              "      <th>day</th>\n",
              "      <th>date</th>\n",
              "      <th>holiday</th>\n",
              "    </tr>\n",
              "  </thead>\n",
              "  <tbody>\n",
              "    <tr>\n",
              "      <th>0</th>\n",
              "      <td>Friday</td>\n",
              "      <td>2016-01-01</td>\n",
              "      <td>New Years Day</td>\n",
              "    </tr>\n",
              "    <tr>\n",
              "      <th>1</th>\n",
              "      <td>Monday</td>\n",
              "      <td>2016-01-18</td>\n",
              "      <td>Martin Luther King Jr. Day</td>\n",
              "    </tr>\n",
              "    <tr>\n",
              "      <th>2</th>\n",
              "      <td>Friday</td>\n",
              "      <td>2016-02-12</td>\n",
              "      <td>Lincoln's Birthday</td>\n",
              "    </tr>\n",
              "    <tr>\n",
              "      <th>3</th>\n",
              "      <td>Monday</td>\n",
              "      <td>2016-02-15</td>\n",
              "      <td>Presidents' Day</td>\n",
              "    </tr>\n",
              "    <tr>\n",
              "      <th>4</th>\n",
              "      <td>Sunday</td>\n",
              "      <td>2016-05-08</td>\n",
              "      <td>Mother's Day</td>\n",
              "    </tr>\n",
              "  </tbody>\n",
              "</table>\n",
              "</div>\n",
              "      <button class=\"colab-df-convert\" onclick=\"convertToInteractive('df-80f4e80a-451c-4cf6-bebf-f63486bba765')\"\n",
              "              title=\"Convert this dataframe to an interactive table.\"\n",
              "              style=\"display:none;\">\n",
              "        \n",
              "  <svg xmlns=\"http://www.w3.org/2000/svg\" height=\"24px\"viewBox=\"0 0 24 24\"\n",
              "       width=\"24px\">\n",
              "    <path d=\"M0 0h24v24H0V0z\" fill=\"none\"/>\n",
              "    <path d=\"M18.56 5.44l.94 2.06.94-2.06 2.06-.94-2.06-.94-.94-2.06-.94 2.06-2.06.94zm-11 1L8.5 8.5l.94-2.06 2.06-.94-2.06-.94L8.5 2.5l-.94 2.06-2.06.94zm10 10l.94 2.06.94-2.06 2.06-.94-2.06-.94-.94-2.06-.94 2.06-2.06.94z\"/><path d=\"M17.41 7.96l-1.37-1.37c-.4-.4-.92-.59-1.43-.59-.52 0-1.04.2-1.43.59L10.3 9.45l-7.72 7.72c-.78.78-.78 2.05 0 2.83L4 21.41c.39.39.9.59 1.41.59.51 0 1.02-.2 1.41-.59l7.78-7.78 2.81-2.81c.8-.78.8-2.07 0-2.86zM5.41 20L4 18.59l7.72-7.72 1.47 1.35L5.41 20z\"/>\n",
              "  </svg>\n",
              "      </button>\n",
              "      \n",
              "  <style>\n",
              "    .colab-df-container {\n",
              "      display:flex;\n",
              "      flex-wrap:wrap;\n",
              "      gap: 12px;\n",
              "    }\n",
              "\n",
              "    .colab-df-convert {\n",
              "      background-color: #E8F0FE;\n",
              "      border: none;\n",
              "      border-radius: 50%;\n",
              "      cursor: pointer;\n",
              "      display: none;\n",
              "      fill: #1967D2;\n",
              "      height: 32px;\n",
              "      padding: 0 0 0 0;\n",
              "      width: 32px;\n",
              "    }\n",
              "\n",
              "    .colab-df-convert:hover {\n",
              "      background-color: #E2EBFA;\n",
              "      box-shadow: 0px 1px 2px rgba(60, 64, 67, 0.3), 0px 1px 3px 1px rgba(60, 64, 67, 0.15);\n",
              "      fill: #174EA6;\n",
              "    }\n",
              "\n",
              "    [theme=dark] .colab-df-convert {\n",
              "      background-color: #3B4455;\n",
              "      fill: #D2E3FC;\n",
              "    }\n",
              "\n",
              "    [theme=dark] .colab-df-convert:hover {\n",
              "      background-color: #434B5C;\n",
              "      box-shadow: 0px 1px 3px 1px rgba(0, 0, 0, 0.15);\n",
              "      filter: drop-shadow(0px 1px 2px rgba(0, 0, 0, 0.3));\n",
              "      fill: #FFFFFF;\n",
              "    }\n",
              "  </style>\n",
              "\n",
              "      <script>\n",
              "        const buttonEl =\n",
              "          document.querySelector('#df-80f4e80a-451c-4cf6-bebf-f63486bba765 button.colab-df-convert');\n",
              "        buttonEl.style.display =\n",
              "          google.colab.kernel.accessAllowed ? 'block' : 'none';\n",
              "\n",
              "        async function convertToInteractive(key) {\n",
              "          const element = document.querySelector('#df-80f4e80a-451c-4cf6-bebf-f63486bba765');\n",
              "          const dataTable =\n",
              "            await google.colab.kernel.invokeFunction('convertToInteractive',\n",
              "                                                     [key], {});\n",
              "          if (!dataTable) return;\n",
              "\n",
              "          const docLinkHtml = 'Like what you see? Visit the ' +\n",
              "            '<a target=\"_blank\" href=https://colab.research.google.com/notebooks/data_table.ipynb>data table notebook</a>'\n",
              "            + ' to learn more about interactive tables.';\n",
              "          element.innerHTML = '';\n",
              "          dataTable['output_type'] = 'display_data';\n",
              "          await google.colab.output.renderOutput(dataTable, element);\n",
              "          const docLink = document.createElement('div');\n",
              "          docLink.innerHTML = docLinkHtml;\n",
              "          element.appendChild(docLink);\n",
              "        }\n",
              "      </script>\n",
              "    </div>\n",
              "  </div>\n",
              "  "
            ]
          },
          "metadata": {},
          "execution_count": 24
        }
      ]
    },
    {
      "cell_type": "code",
      "source": [
        "holiday_data['holiday'].unique()"
      ],
      "metadata": {
        "colab": {
          "base_uri": "https://localhost:8080/"
        },
        "id": "yVwEjqrDd8aI",
        "outputId": "6d0c022f-5169-4d49-fecb-483d975f9ec2"
      },
      "execution_count": null,
      "outputs": [
        {
          "output_type": "execute_result",
          "data": {
            "text/plain": [
              "array(['New Years Day', 'Martin Luther King Jr. Day',\n",
              "       \"Lincoln's Birthday\", \"Presidents' Day\", \"Mother's Day\",\n",
              "       'Memorial Day', \"Father's Day\", 'Independence Day', 'Labor Day',\n",
              "       'Columbus Day', 'Veterans Day', 'Thanksgiving',\n",
              "       'Christmas Day (in lieu)', 'Election Day'], dtype=object)"
            ]
          },
          "metadata": {},
          "execution_count": 35
        }
      ]
    },
    {
      "cell_type": "code",
      "source": [
        "holiday_data['date'] = pd.to_datetime(holiday_data['date'])\n",
        "holiday_data['date'] = holiday_data['date'].dt.date"
      ],
      "metadata": {
        "id": "hicXwQjMfRpZ"
      },
      "execution_count": null,
      "outputs": []
    },
    {
      "cell_type": "code",
      "source": [
        "def add_holiday_features(df, holidays):\n",
        "    merged = pd.merge(df, holidays, left_on='pickup_date', right_on='date', how='left')\n",
        "    merged['pickup_holiday'] = merged['holiday'].notnull().astype(int)\n",
        "    merged = merged.drop(['date', 'holiday', 'day'], axis=1)\n",
        "    return merged"
      ],
      "metadata": {
        "id": "PT-aN9QoTqUj"
      },
      "execution_count": null,
      "outputs": []
    },
    {
      "cell_type": "code",
      "source": [
        "taxi_data = add_holiday_features(taxi_data, holiday_data)"
      ],
      "metadata": {
        "id": "N8bXzONcVce9"
      },
      "execution_count": null,
      "outputs": []
    },
    {
      "cell_type": "code",
      "source": [
        "taxi_data['pickup_holiday'].value_counts()"
      ],
      "metadata": {
        "colab": {
          "base_uri": "https://localhost:8080/"
        },
        "id": "bafphxd1VjgM",
        "outputId": "8fa219d8-4ece-46b7-f67f-71cbd1bd5016"
      },
      "execution_count": null,
      "outputs": [
        {
          "output_type": "execute_result",
          "data": {
            "text/plain": [
              "0    1407522\n",
              "1      51122\n",
              "Name: pickup_holiday, dtype: int64"
            ]
          },
          "metadata": {},
          "execution_count": 39
        }
      ]
    },
    {
      "cell_type": "code",
      "source": [
        "taxi_data.groupby('pickup_holiday')['trip_duration'].median()"
      ],
      "metadata": {
        "colab": {
          "base_uri": "https://localhost:8080/"
        },
        "id": "JptqbwX-V1_I",
        "outputId": "b7c9afbe-3878-4058-e45d-8712585e6f21"
      },
      "execution_count": null,
      "outputs": [
        {
          "output_type": "execute_result",
          "data": {
            "text/plain": [
              "pickup_holiday\n",
              "0    665.0\n",
              "1    585.0\n",
              "Name: trip_duration, dtype: float64"
            ]
          },
          "metadata": {},
          "execution_count": 40
        }
      ]
    },
    {
      "cell_type": "markdown",
      "metadata": {
        "id": "YPxMlVMAkBLl"
      },
      "source": [
        "### Задание 2.6\n",
        "Реализуйте функцию add_osrm_features(), которая принимает на вход две таблицы:\n",
        "* таблицу с данными о поездках;\n",
        "* таблицу с данными из OSRM;\n",
        "\n",
        "и возвращает обновленную таблицу с данными о поездках с добавленными в нее 3 столбцами:\n",
        "* total_distance;\n",
        "* total_travel_time;\n",
        "* number_of_steps.\n",
        "\n",
        "а) Чему равна разница (в секундах) между медианной длительностью поездки в данных и медианной длительностью поездки, полученной из OSRM?\n",
        "\n",
        "В результате объединения таблиц у вас должны были получиться пропуски в столбцах с информацией из OSRM API. Это связано с тем, что для некоторых поездок не удалось выгрузить данные из веб источника.\n",
        "\n",
        "б) Сколько пропусков содержится в столбцах с информацией из OSRM API после объединения таблиц?"
      ]
    },
    {
      "cell_type": "code",
      "execution_count": null,
      "metadata": {
        "id": "uey_zFbwkBLm"
      },
      "outputs": [],
      "source": [
        "osrm_data = pd.read_csv('/content/drive/MyDrive/UrfuCsvDatasets/RegressionProject5SecondSemester/osrm_data_train.csv')"
      ]
    },
    {
      "cell_type": "code",
      "source": [
        "osrm_data.head(5)"
      ],
      "metadata": {
        "colab": {
          "base_uri": "https://localhost:8080/",
          "height": 409
        },
        "id": "EoxQXNYQifPb",
        "outputId": "b39ea38a-8bac-42f6-b177-6387b13eeafd"
      },
      "execution_count": null,
      "outputs": [
        {
          "output_type": "execute_result",
          "data": {
            "text/plain": [
              "          id   starting_street              end_street  total_distance  \\\n",
              "0  id2875421   Columbus Circle        East 65th Street          2009.1   \n",
              "1  id2377394        2nd Avenue  Washington Square West          2513.2   \n",
              "2  id3504673  Greenwich Street                Broadway          1779.4   \n",
              "3  id2181028          Broadway        West 81st Street          1614.9   \n",
              "4  id0801584  Lexington Avenue        West 31st Street          1393.5   \n",
              "\n",
              "   total_travel_time  number_of_steps  \\\n",
              "0              164.9                5   \n",
              "1              332.0                6   \n",
              "2              235.8                4   \n",
              "3              140.1                5   \n",
              "4              189.4                5   \n",
              "\n",
              "                                street_for_each_step  \\\n",
              "0  Columbus Circle|Central Park West|65th Street ...   \n",
              "1  2nd Avenue|East 13th Street|5th Avenue|Washing...   \n",
              "2      Greenwich Street|Park Place|Broadway|Broadway   \n",
              "3  Broadway|West 86th Street|Columbus Avenue|West...   \n",
              "4  Lexington Avenue|East 27th Street|Madison Aven...   \n",
              "\n",
              "                 distance_per_step        travel_time_per_step  \\\n",
              "0            0|576.4|885.6|547.1|0          0|61.1|60.1|43.7|0   \n",
              "1  877.3|836.5|496.1|164.2|139.1|0  111.7|109|69.9|25.8|15.6|0   \n",
              "2              644.2|379.9|755.3|0           80.5|50.8|104.5|0   \n",
              "3          617|427.4|412.2|158.3|0           56|36|37.8|10.3|0   \n",
              "4         18.9|311.9|313.3|749.4|0        6.3|42.9|48.4|91.8|0   \n",
              "\n",
              "                                 step_maneuvers  \\\n",
              "0            depart|rotary|turn|new name|arrive   \n",
              "1  depart|turn|turn|end of road|continue|arrive   \n",
              "2                depart|turn|end of road|arrive   \n",
              "3                  depart|turn|turn|turn|arrive   \n",
              "4                  depart|turn|turn|turn|arrive   \n",
              "\n",
              "                        step_direction  \\\n",
              "0  left|straight|right|straight|arrive   \n",
              "1    none|right|left|right|left|arrive   \n",
              "2               left|left|right|arrive   \n",
              "3         right|left|right|left|arrive   \n",
              "4        right|right|right|left|arrive   \n",
              "\n",
              "                                  step_location_list  \n",
              "0  -73.982316,40.767869|-73.981997,40.767688|-73....  \n",
              "1  -73.980429,40.73857|-73.985444,40.731658|-73.9...  \n",
              "2  -74.010145,40.719982|-74.011527,40.714294|-74....  \n",
              "3  -73.972998,40.793187|-73.976607,40.788361|-73....  \n",
              "4  -73.982805,40.742173|-73.982914,40.742024|-73....  "
            ],
            "text/html": [
              "\n",
              "  <div id=\"df-7f9d41c2-e748-4662-9ed0-55bf9d6b0fd4\">\n",
              "    <div class=\"colab-df-container\">\n",
              "      <div>\n",
              "<style scoped>\n",
              "    .dataframe tbody tr th:only-of-type {\n",
              "        vertical-align: middle;\n",
              "    }\n",
              "\n",
              "    .dataframe tbody tr th {\n",
              "        vertical-align: top;\n",
              "    }\n",
              "\n",
              "    .dataframe thead th {\n",
              "        text-align: right;\n",
              "    }\n",
              "</style>\n",
              "<table border=\"1\" class=\"dataframe\">\n",
              "  <thead>\n",
              "    <tr style=\"text-align: right;\">\n",
              "      <th></th>\n",
              "      <th>id</th>\n",
              "      <th>starting_street</th>\n",
              "      <th>end_street</th>\n",
              "      <th>total_distance</th>\n",
              "      <th>total_travel_time</th>\n",
              "      <th>number_of_steps</th>\n",
              "      <th>street_for_each_step</th>\n",
              "      <th>distance_per_step</th>\n",
              "      <th>travel_time_per_step</th>\n",
              "      <th>step_maneuvers</th>\n",
              "      <th>step_direction</th>\n",
              "      <th>step_location_list</th>\n",
              "    </tr>\n",
              "  </thead>\n",
              "  <tbody>\n",
              "    <tr>\n",
              "      <th>0</th>\n",
              "      <td>id2875421</td>\n",
              "      <td>Columbus Circle</td>\n",
              "      <td>East 65th Street</td>\n",
              "      <td>2009.1</td>\n",
              "      <td>164.9</td>\n",
              "      <td>5</td>\n",
              "      <td>Columbus Circle|Central Park West|65th Street ...</td>\n",
              "      <td>0|576.4|885.6|547.1|0</td>\n",
              "      <td>0|61.1|60.1|43.7|0</td>\n",
              "      <td>depart|rotary|turn|new name|arrive</td>\n",
              "      <td>left|straight|right|straight|arrive</td>\n",
              "      <td>-73.982316,40.767869|-73.981997,40.767688|-73....</td>\n",
              "    </tr>\n",
              "    <tr>\n",
              "      <th>1</th>\n",
              "      <td>id2377394</td>\n",
              "      <td>2nd Avenue</td>\n",
              "      <td>Washington Square West</td>\n",
              "      <td>2513.2</td>\n",
              "      <td>332.0</td>\n",
              "      <td>6</td>\n",
              "      <td>2nd Avenue|East 13th Street|5th Avenue|Washing...</td>\n",
              "      <td>877.3|836.5|496.1|164.2|139.1|0</td>\n",
              "      <td>111.7|109|69.9|25.8|15.6|0</td>\n",
              "      <td>depart|turn|turn|end of road|continue|arrive</td>\n",
              "      <td>none|right|left|right|left|arrive</td>\n",
              "      <td>-73.980429,40.73857|-73.985444,40.731658|-73.9...</td>\n",
              "    </tr>\n",
              "    <tr>\n",
              "      <th>2</th>\n",
              "      <td>id3504673</td>\n",
              "      <td>Greenwich Street</td>\n",
              "      <td>Broadway</td>\n",
              "      <td>1779.4</td>\n",
              "      <td>235.8</td>\n",
              "      <td>4</td>\n",
              "      <td>Greenwich Street|Park Place|Broadway|Broadway</td>\n",
              "      <td>644.2|379.9|755.3|0</td>\n",
              "      <td>80.5|50.8|104.5|0</td>\n",
              "      <td>depart|turn|end of road|arrive</td>\n",
              "      <td>left|left|right|arrive</td>\n",
              "      <td>-74.010145,40.719982|-74.011527,40.714294|-74....</td>\n",
              "    </tr>\n",
              "    <tr>\n",
              "      <th>3</th>\n",
              "      <td>id2181028</td>\n",
              "      <td>Broadway</td>\n",
              "      <td>West 81st Street</td>\n",
              "      <td>1614.9</td>\n",
              "      <td>140.1</td>\n",
              "      <td>5</td>\n",
              "      <td>Broadway|West 86th Street|Columbus Avenue|West...</td>\n",
              "      <td>617|427.4|412.2|158.3|0</td>\n",
              "      <td>56|36|37.8|10.3|0</td>\n",
              "      <td>depart|turn|turn|turn|arrive</td>\n",
              "      <td>right|left|right|left|arrive</td>\n",
              "      <td>-73.972998,40.793187|-73.976607,40.788361|-73....</td>\n",
              "    </tr>\n",
              "    <tr>\n",
              "      <th>4</th>\n",
              "      <td>id0801584</td>\n",
              "      <td>Lexington Avenue</td>\n",
              "      <td>West 31st Street</td>\n",
              "      <td>1393.5</td>\n",
              "      <td>189.4</td>\n",
              "      <td>5</td>\n",
              "      <td>Lexington Avenue|East 27th Street|Madison Aven...</td>\n",
              "      <td>18.9|311.9|313.3|749.4|0</td>\n",
              "      <td>6.3|42.9|48.4|91.8|0</td>\n",
              "      <td>depart|turn|turn|turn|arrive</td>\n",
              "      <td>right|right|right|left|arrive</td>\n",
              "      <td>-73.982805,40.742173|-73.982914,40.742024|-73....</td>\n",
              "    </tr>\n",
              "  </tbody>\n",
              "</table>\n",
              "</div>\n",
              "      <button class=\"colab-df-convert\" onclick=\"convertToInteractive('df-7f9d41c2-e748-4662-9ed0-55bf9d6b0fd4')\"\n",
              "              title=\"Convert this dataframe to an interactive table.\"\n",
              "              style=\"display:none;\">\n",
              "        \n",
              "  <svg xmlns=\"http://www.w3.org/2000/svg\" height=\"24px\"viewBox=\"0 0 24 24\"\n",
              "       width=\"24px\">\n",
              "    <path d=\"M0 0h24v24H0V0z\" fill=\"none\"/>\n",
              "    <path d=\"M18.56 5.44l.94 2.06.94-2.06 2.06-.94-2.06-.94-.94-2.06-.94 2.06-2.06.94zm-11 1L8.5 8.5l.94-2.06 2.06-.94-2.06-.94L8.5 2.5l-.94 2.06-2.06.94zm10 10l.94 2.06.94-2.06 2.06-.94-2.06-.94-.94-2.06-.94 2.06-2.06.94z\"/><path d=\"M17.41 7.96l-1.37-1.37c-.4-.4-.92-.59-1.43-.59-.52 0-1.04.2-1.43.59L10.3 9.45l-7.72 7.72c-.78.78-.78 2.05 0 2.83L4 21.41c.39.39.9.59 1.41.59.51 0 1.02-.2 1.41-.59l7.78-7.78 2.81-2.81c.8-.78.8-2.07 0-2.86zM5.41 20L4 18.59l7.72-7.72 1.47 1.35L5.41 20z\"/>\n",
              "  </svg>\n",
              "      </button>\n",
              "      \n",
              "  <style>\n",
              "    .colab-df-container {\n",
              "      display:flex;\n",
              "      flex-wrap:wrap;\n",
              "      gap: 12px;\n",
              "    }\n",
              "\n",
              "    .colab-df-convert {\n",
              "      background-color: #E8F0FE;\n",
              "      border: none;\n",
              "      border-radius: 50%;\n",
              "      cursor: pointer;\n",
              "      display: none;\n",
              "      fill: #1967D2;\n",
              "      height: 32px;\n",
              "      padding: 0 0 0 0;\n",
              "      width: 32px;\n",
              "    }\n",
              "\n",
              "    .colab-df-convert:hover {\n",
              "      background-color: #E2EBFA;\n",
              "      box-shadow: 0px 1px 2px rgba(60, 64, 67, 0.3), 0px 1px 3px 1px rgba(60, 64, 67, 0.15);\n",
              "      fill: #174EA6;\n",
              "    }\n",
              "\n",
              "    [theme=dark] .colab-df-convert {\n",
              "      background-color: #3B4455;\n",
              "      fill: #D2E3FC;\n",
              "    }\n",
              "\n",
              "    [theme=dark] .colab-df-convert:hover {\n",
              "      background-color: #434B5C;\n",
              "      box-shadow: 0px 1px 3px 1px rgba(0, 0, 0, 0.15);\n",
              "      filter: drop-shadow(0px 1px 2px rgba(0, 0, 0, 0.3));\n",
              "      fill: #FFFFFF;\n",
              "    }\n",
              "  </style>\n",
              "\n",
              "      <script>\n",
              "        const buttonEl =\n",
              "          document.querySelector('#df-7f9d41c2-e748-4662-9ed0-55bf9d6b0fd4 button.colab-df-convert');\n",
              "        buttonEl.style.display =\n",
              "          google.colab.kernel.accessAllowed ? 'block' : 'none';\n",
              "\n",
              "        async function convertToInteractive(key) {\n",
              "          const element = document.querySelector('#df-7f9d41c2-e748-4662-9ed0-55bf9d6b0fd4');\n",
              "          const dataTable =\n",
              "            await google.colab.kernel.invokeFunction('convertToInteractive',\n",
              "                                                     [key], {});\n",
              "          if (!dataTable) return;\n",
              "\n",
              "          const docLinkHtml = 'Like what you see? Visit the ' +\n",
              "            '<a target=\"_blank\" href=https://colab.research.google.com/notebooks/data_table.ipynb>data table notebook</a>'\n",
              "            + ' to learn more about interactive tables.';\n",
              "          element.innerHTML = '';\n",
              "          dataTable['output_type'] = 'display_data';\n",
              "          await google.colab.output.renderOutput(dataTable, element);\n",
              "          const docLink = document.createElement('div');\n",
              "          docLink.innerHTML = docLinkHtml;\n",
              "          element.appendChild(docLink);\n",
              "        }\n",
              "      </script>\n",
              "    </div>\n",
              "  </div>\n",
              "  "
            ]
          },
          "metadata": {},
          "execution_count": 44
        }
      ]
    },
    {
      "cell_type": "code",
      "source": [
        "def add_osrm_features(l, r, list_col):\n",
        "    r_table = r[list_col]\n",
        "    merged = pd.merge(l, r_table, on='id', how='left')\n",
        "    return merged"
      ],
      "metadata": {
        "id": "s0kYLVzUix6s"
      },
      "execution_count": null,
      "outputs": []
    },
    {
      "cell_type": "code",
      "source": [
        "columns = ['id', 'total_distance', 'total_travel_time', 'number_of_steps']"
      ],
      "metadata": {
        "id": "UJinjuRkjvYu"
      },
      "execution_count": null,
      "outputs": []
    },
    {
      "cell_type": "code",
      "source": [
        "taxi_data = add_osrm_features(taxi_data, osrm_data, columns)"
      ],
      "metadata": {
        "id": "EuEkbRa2j2FX"
      },
      "execution_count": null,
      "outputs": []
    },
    {
      "cell_type": "code",
      "source": [
        "print(taxi_data.loc[:, columns])"
      ],
      "metadata": {
        "colab": {
          "base_uri": "https://localhost:8080/"
        },
        "id": "fUwiZ8e6j7Qf",
        "outputId": "e0347684-b496-4187-e03c-b76d0bd9bfb8"
      },
      "execution_count": null,
      "outputs": [
        {
          "output_type": "stream",
          "name": "stdout",
          "text": [
            "                id  total_distance  total_travel_time  number_of_steps\n",
            "0        id2875421          2009.1              164.9              5.0\n",
            "1        id2377394          2513.2              332.0              6.0\n",
            "2        id3858529         11060.8              767.6             16.0\n",
            "3        id3504673          1779.4              235.8              4.0\n",
            "4        id2181028          1614.9              140.1              5.0\n",
            "...            ...             ...                ...              ...\n",
            "1458639  id2376096          2234.6              311.7              8.0\n",
            "1458640  id1049543          7638.0              589.6             11.0\n",
            "1458641  id2304944          9871.5              642.9             10.0\n",
            "1458642  id2714485          1628.3              161.6              7.0\n",
            "1458643  id1209952          1134.2               90.7              2.0\n",
            "\n",
            "[1458644 rows x 4 columns]\n"
          ]
        }
      ]
    },
    {
      "cell_type": "code",
      "source": [
        "trip_duration_median = taxi_data['trip_duration'].median()"
      ],
      "metadata": {
        "id": "7tYuLzKbkFKO"
      },
      "execution_count": null,
      "outputs": []
    },
    {
      "cell_type": "code",
      "source": [
        "total_travel_median = taxi_data['total_travel_time'].median()"
      ],
      "metadata": {
        "id": "8tK7i8isnORP"
      },
      "execution_count": null,
      "outputs": []
    },
    {
      "cell_type": "code",
      "source": [
        "round(abs(trip_duration_median-total_travel_median))"
      ],
      "metadata": {
        "colab": {
          "base_uri": "https://localhost:8080/"
        },
        "id": "fCagjx-LnT_J",
        "outputId": "12055f47-b955-4ac4-857a-0c2af0211190"
      },
      "execution_count": null,
      "outputs": [
        {
          "output_type": "execute_result",
          "data": {
            "text/plain": [
              "372"
            ]
          },
          "metadata": {},
          "execution_count": 52
        }
      ]
    },
    {
      "cell_type": "code",
      "source": [
        "taxi_data.isnull().any(axis=1).sum()"
      ],
      "metadata": {
        "colab": {
          "base_uri": "https://localhost:8080/"
        },
        "id": "8nTbFcjqoT3v",
        "outputId": "c0ae30de-735a-4b5a-d70c-18a20ccd65da"
      },
      "execution_count": null,
      "outputs": [
        {
          "output_type": "execute_result",
          "data": {
            "text/plain": [
              "1"
            ]
          },
          "metadata": {},
          "execution_count": 53
        }
      ]
    },
    {
      "cell_type": "markdown",
      "metadata": {
        "tags": [],
        "id": "lGQpi4erkBLm"
      },
      "source": [
        "### Задание 2.7.\n",
        "Реализуйте функцию add_geographical_features(), которая принимает на вход таблицу с данными о поездках и возвращает обновленную таблицу с добавленными в нее 2 столбцами:\n",
        "* haversine_distance - расстояние Хаверсина между точкой, в которой был включен счетчик, и точкой, в которой счетчик был выключен;\n",
        "* direction - направление движения из точки, в которой был включен счетчик, в точку, в которой счетчик был выключен.\n",
        "\n",
        "Чему равно медианное расстояние Хаверсина поездок (в киллометрах)? Ответ округлите до сотых.\n"
      ]
    },
    {
      "cell_type": "code",
      "execution_count": null,
      "metadata": {
        "id": "ti1rljMGkBLm"
      },
      "outputs": [],
      "source": [
        "def get_haversine_distance(lat1, lng1, lat2, lng2):\n",
        "    # переводим углы в радианы\n",
        "    lat1, lng1, lat2, lng2 = map(np.radians, (lat1, lng1, lat2, lng2))\n",
        "    # радиус земли в километрах\n",
        "    EARTH_RADIUS = 6371\n",
        "    # считаем кратчайшее расстояние h по формуле Хаверсина\n",
        "    lat_delta = lat2 - lat1\n",
        "    lng_delta = lng2 - lng1\n",
        "    d = np.sin(lat_delta * 0.5) ** 2 + np.cos(lat1) * np.cos(lat2) * np.sin(lng_delta * 0.5) ** 2\n",
        "    h = 2 * EARTH_RADIUS * np.arcsin(np.sqrt(d))\n",
        "    return h\n",
        "\n",
        "def get_angle_direction(lat1, lng1, lat2, lng2):\n",
        "    # переводим углы в радианы\n",
        "    lat1, lng1, lat2, lng2 = map(np.radians, (lat1, lng1, lat2, lng2))\n",
        "    # считаем угол направления движения alpha по формуле угла пеленга\n",
        "    lng_delta_rad = lng2 - lng1\n",
        "    y = np.sin(lng_delta_rad) * np.cos(lat2)\n",
        "    x = np.cos(lat1) * np.sin(lat2) - np.sin(lat1) * np.cos(lat2) * np.cos(lng_delta_rad)\n",
        "    alpha = np.degrees(np.arctan2(y, x))\n",
        "    return alpha"
      ]
    },
    {
      "cell_type": "code",
      "execution_count": null,
      "metadata": {
        "id": "zqIZyeHmkBLm"
      },
      "outputs": [],
      "source": [
        "def add_geographical_features(df):\n",
        "    pickup_latitude = df['pickup_latitude']\n",
        "    pickup_longitude = df['pickup_longitude']\n",
        "    dropoff_latitude = df['dropoff_latitude']\n",
        "    dropoff_longitude = df['dropoff_longitude']\n",
        "    df['haversine_distance'] = get_haversine_distance(pickup_latitude, pickup_longitude, dropoff_latitude, dropoff_longitude)\n",
        "    df['direction'] = get_angle_direction(pickup_latitude, pickup_longitude, dropoff_latitude, dropoff_longitude)\n",
        "    return df"
      ]
    },
    {
      "cell_type": "code",
      "source": [
        "taxi_data = add_geographical_features(taxi_data)"
      ],
      "metadata": {
        "id": "f8Yk986ZpGLE"
      },
      "execution_count": null,
      "outputs": []
    },
    {
      "cell_type": "code",
      "source": [
        "taxi_data.head(1)"
      ],
      "metadata": {
        "colab": {
          "base_uri": "https://localhost:8080/",
          "height": 162
        },
        "id": "3edzHkyzpK8I",
        "outputId": "265a6abe-61f9-4264-e799-13d65dd2328f"
      },
      "execution_count": null,
      "outputs": [
        {
          "output_type": "execute_result",
          "data": {
            "text/plain": [
              "          id  vendor_id     pickup_datetime     dropoff_datetime  \\\n",
              "0  id2875421          2 2016-03-14 17:24:55  2016-03-14 17:32:30   \n",
              "\n",
              "   passenger_count  pickup_longitude  pickup_latitude  dropoff_longitude  \\\n",
              "0                1        -73.982155        40.767937          -73.96463   \n",
              "\n",
              "   dropoff_latitude store_and_fwd_flag  trip_duration pickup_date  \\\n",
              "0         40.765602                  N            455  2016-03-14   \n",
              "\n",
              "   pickup_hour  pickup_day_of_week  pickup_holiday  total_distance  \\\n",
              "0           17                   0               0          2009.1   \n",
              "\n",
              "   total_travel_time  number_of_steps  haversine_distance  direction  \n",
              "0              164.9              5.0            1.498521  99.970196  "
            ],
            "text/html": [
              "\n",
              "  <div id=\"df-7a00a467-9984-48ca-9ffb-888358db3ed0\">\n",
              "    <div class=\"colab-df-container\">\n",
              "      <div>\n",
              "<style scoped>\n",
              "    .dataframe tbody tr th:only-of-type {\n",
              "        vertical-align: middle;\n",
              "    }\n",
              "\n",
              "    .dataframe tbody tr th {\n",
              "        vertical-align: top;\n",
              "    }\n",
              "\n",
              "    .dataframe thead th {\n",
              "        text-align: right;\n",
              "    }\n",
              "</style>\n",
              "<table border=\"1\" class=\"dataframe\">\n",
              "  <thead>\n",
              "    <tr style=\"text-align: right;\">\n",
              "      <th></th>\n",
              "      <th>id</th>\n",
              "      <th>vendor_id</th>\n",
              "      <th>pickup_datetime</th>\n",
              "      <th>dropoff_datetime</th>\n",
              "      <th>passenger_count</th>\n",
              "      <th>pickup_longitude</th>\n",
              "      <th>pickup_latitude</th>\n",
              "      <th>dropoff_longitude</th>\n",
              "      <th>dropoff_latitude</th>\n",
              "      <th>store_and_fwd_flag</th>\n",
              "      <th>trip_duration</th>\n",
              "      <th>pickup_date</th>\n",
              "      <th>pickup_hour</th>\n",
              "      <th>pickup_day_of_week</th>\n",
              "      <th>pickup_holiday</th>\n",
              "      <th>total_distance</th>\n",
              "      <th>total_travel_time</th>\n",
              "      <th>number_of_steps</th>\n",
              "      <th>haversine_distance</th>\n",
              "      <th>direction</th>\n",
              "    </tr>\n",
              "  </thead>\n",
              "  <tbody>\n",
              "    <tr>\n",
              "      <th>0</th>\n",
              "      <td>id2875421</td>\n",
              "      <td>2</td>\n",
              "      <td>2016-03-14 17:24:55</td>\n",
              "      <td>2016-03-14 17:32:30</td>\n",
              "      <td>1</td>\n",
              "      <td>-73.982155</td>\n",
              "      <td>40.767937</td>\n",
              "      <td>-73.96463</td>\n",
              "      <td>40.765602</td>\n",
              "      <td>N</td>\n",
              "      <td>455</td>\n",
              "      <td>2016-03-14</td>\n",
              "      <td>17</td>\n",
              "      <td>0</td>\n",
              "      <td>0</td>\n",
              "      <td>2009.1</td>\n",
              "      <td>164.9</td>\n",
              "      <td>5.0</td>\n",
              "      <td>1.498521</td>\n",
              "      <td>99.970196</td>\n",
              "    </tr>\n",
              "  </tbody>\n",
              "</table>\n",
              "</div>\n",
              "      <button class=\"colab-df-convert\" onclick=\"convertToInteractive('df-7a00a467-9984-48ca-9ffb-888358db3ed0')\"\n",
              "              title=\"Convert this dataframe to an interactive table.\"\n",
              "              style=\"display:none;\">\n",
              "        \n",
              "  <svg xmlns=\"http://www.w3.org/2000/svg\" height=\"24px\"viewBox=\"0 0 24 24\"\n",
              "       width=\"24px\">\n",
              "    <path d=\"M0 0h24v24H0V0z\" fill=\"none\"/>\n",
              "    <path d=\"M18.56 5.44l.94 2.06.94-2.06 2.06-.94-2.06-.94-.94-2.06-.94 2.06-2.06.94zm-11 1L8.5 8.5l.94-2.06 2.06-.94-2.06-.94L8.5 2.5l-.94 2.06-2.06.94zm10 10l.94 2.06.94-2.06 2.06-.94-2.06-.94-.94-2.06-.94 2.06-2.06.94z\"/><path d=\"M17.41 7.96l-1.37-1.37c-.4-.4-.92-.59-1.43-.59-.52 0-1.04.2-1.43.59L10.3 9.45l-7.72 7.72c-.78.78-.78 2.05 0 2.83L4 21.41c.39.39.9.59 1.41.59.51 0 1.02-.2 1.41-.59l7.78-7.78 2.81-2.81c.8-.78.8-2.07 0-2.86zM5.41 20L4 18.59l7.72-7.72 1.47 1.35L5.41 20z\"/>\n",
              "  </svg>\n",
              "      </button>\n",
              "      \n",
              "  <style>\n",
              "    .colab-df-container {\n",
              "      display:flex;\n",
              "      flex-wrap:wrap;\n",
              "      gap: 12px;\n",
              "    }\n",
              "\n",
              "    .colab-df-convert {\n",
              "      background-color: #E8F0FE;\n",
              "      border: none;\n",
              "      border-radius: 50%;\n",
              "      cursor: pointer;\n",
              "      display: none;\n",
              "      fill: #1967D2;\n",
              "      height: 32px;\n",
              "      padding: 0 0 0 0;\n",
              "      width: 32px;\n",
              "    }\n",
              "\n",
              "    .colab-df-convert:hover {\n",
              "      background-color: #E2EBFA;\n",
              "      box-shadow: 0px 1px 2px rgba(60, 64, 67, 0.3), 0px 1px 3px 1px rgba(60, 64, 67, 0.15);\n",
              "      fill: #174EA6;\n",
              "    }\n",
              "\n",
              "    [theme=dark] .colab-df-convert {\n",
              "      background-color: #3B4455;\n",
              "      fill: #D2E3FC;\n",
              "    }\n",
              "\n",
              "    [theme=dark] .colab-df-convert:hover {\n",
              "      background-color: #434B5C;\n",
              "      box-shadow: 0px 1px 3px 1px rgba(0, 0, 0, 0.15);\n",
              "      filter: drop-shadow(0px 1px 2px rgba(0, 0, 0, 0.3));\n",
              "      fill: #FFFFFF;\n",
              "    }\n",
              "  </style>\n",
              "\n",
              "      <script>\n",
              "        const buttonEl =\n",
              "          document.querySelector('#df-7a00a467-9984-48ca-9ffb-888358db3ed0 button.colab-df-convert');\n",
              "        buttonEl.style.display =\n",
              "          google.colab.kernel.accessAllowed ? 'block' : 'none';\n",
              "\n",
              "        async function convertToInteractive(key) {\n",
              "          const element = document.querySelector('#df-7a00a467-9984-48ca-9ffb-888358db3ed0');\n",
              "          const dataTable =\n",
              "            await google.colab.kernel.invokeFunction('convertToInteractive',\n",
              "                                                     [key], {});\n",
              "          if (!dataTable) return;\n",
              "\n",
              "          const docLinkHtml = 'Like what you see? Visit the ' +\n",
              "            '<a target=\"_blank\" href=https://colab.research.google.com/notebooks/data_table.ipynb>data table notebook</a>'\n",
              "            + ' to learn more about interactive tables.';\n",
              "          element.innerHTML = '';\n",
              "          dataTable['output_type'] = 'display_data';\n",
              "          await google.colab.output.renderOutput(dataTable, element);\n",
              "          const docLink = document.createElement('div');\n",
              "          docLink.innerHTML = docLinkHtml;\n",
              "          element.appendChild(docLink);\n",
              "        }\n",
              "      </script>\n",
              "    </div>\n",
              "  </div>\n",
              "  "
            ]
          },
          "metadata": {},
          "execution_count": 57
        }
      ]
    },
    {
      "cell_type": "code",
      "source": [
        "round(taxi_data['haversine_distance'].median(), 2)"
      ],
      "metadata": {
        "colab": {
          "base_uri": "https://localhost:8080/"
        },
        "id": "xOMuWjPKqAEi",
        "outputId": "0df9f64b-dd91-4b06-c2ad-3c76f1c562b2"
      },
      "execution_count": null,
      "outputs": [
        {
          "output_type": "execute_result",
          "data": {
            "text/plain": [
              "2.09"
            ]
          },
          "metadata": {},
          "execution_count": 58
        }
      ]
    },
    {
      "cell_type": "markdown",
      "metadata": {
        "id": "_WWydgB2kBLm"
      },
      "source": [
        "### Задание 2.8.\n",
        "Реализуйте функцию add_cluster_features(), которая принимает на вход таблицу с данными о поездках и обученный алгоритм кластеризации. Функция должна возвращать обновленную таблицу с добавленными в нее столбцом geo_cluster - географический кластер, к которому относится поездка.\n",
        "\n",
        "Сколько поездок содержится в наименьшем по размеру географическом кластере?\n"
      ]
    },
    {
      "cell_type": "code",
      "execution_count": null,
      "metadata": {
        "id": "YxpWNYfakBLn",
        "colab": {
          "base_uri": "https://localhost:8080/",
          "height": 130
        },
        "outputId": "6e751a94-ad54-4377-9506-62be86238365"
      },
      "outputs": [
        {
          "output_type": "stream",
          "name": "stderr",
          "text": [
            "/usr/local/lib/python3.10/dist-packages/sklearn/cluster/_kmeans.py:870: FutureWarning: The default value of `n_init` will change from 10 to 'auto' in 1.4. Set the value of `n_init` explicitly to suppress the warning\n",
            "  warnings.warn(\n"
          ]
        },
        {
          "output_type": "execute_result",
          "data": {
            "text/plain": [
              "KMeans(n_clusters=10, random_state=42)"
            ],
            "text/html": [
              "<style>#sk-container-id-1 {color: black;background-color: white;}#sk-container-id-1 pre{padding: 0;}#sk-container-id-1 div.sk-toggleable {background-color: white;}#sk-container-id-1 label.sk-toggleable__label {cursor: pointer;display: block;width: 100%;margin-bottom: 0;padding: 0.3em;box-sizing: border-box;text-align: center;}#sk-container-id-1 label.sk-toggleable__label-arrow:before {content: \"▸\";float: left;margin-right: 0.25em;color: #696969;}#sk-container-id-1 label.sk-toggleable__label-arrow:hover:before {color: black;}#sk-container-id-1 div.sk-estimator:hover label.sk-toggleable__label-arrow:before {color: black;}#sk-container-id-1 div.sk-toggleable__content {max-height: 0;max-width: 0;overflow: hidden;text-align: left;background-color: #f0f8ff;}#sk-container-id-1 div.sk-toggleable__content pre {margin: 0.2em;color: black;border-radius: 0.25em;background-color: #f0f8ff;}#sk-container-id-1 input.sk-toggleable__control:checked~div.sk-toggleable__content {max-height: 200px;max-width: 100%;overflow: auto;}#sk-container-id-1 input.sk-toggleable__control:checked~label.sk-toggleable__label-arrow:before {content: \"▾\";}#sk-container-id-1 div.sk-estimator input.sk-toggleable__control:checked~label.sk-toggleable__label {background-color: #d4ebff;}#sk-container-id-1 div.sk-label input.sk-toggleable__control:checked~label.sk-toggleable__label {background-color: #d4ebff;}#sk-container-id-1 input.sk-hidden--visually {border: 0;clip: rect(1px 1px 1px 1px);clip: rect(1px, 1px, 1px, 1px);height: 1px;margin: -1px;overflow: hidden;padding: 0;position: absolute;width: 1px;}#sk-container-id-1 div.sk-estimator {font-family: monospace;background-color: #f0f8ff;border: 1px dotted black;border-radius: 0.25em;box-sizing: border-box;margin-bottom: 0.5em;}#sk-container-id-1 div.sk-estimator:hover {background-color: #d4ebff;}#sk-container-id-1 div.sk-parallel-item::after {content: \"\";width: 100%;border-bottom: 1px solid gray;flex-grow: 1;}#sk-container-id-1 div.sk-label:hover label.sk-toggleable__label {background-color: #d4ebff;}#sk-container-id-1 div.sk-serial::before {content: \"\";position: absolute;border-left: 1px solid gray;box-sizing: border-box;top: 0;bottom: 0;left: 50%;z-index: 0;}#sk-container-id-1 div.sk-serial {display: flex;flex-direction: column;align-items: center;background-color: white;padding-right: 0.2em;padding-left: 0.2em;position: relative;}#sk-container-id-1 div.sk-item {position: relative;z-index: 1;}#sk-container-id-1 div.sk-parallel {display: flex;align-items: stretch;justify-content: center;background-color: white;position: relative;}#sk-container-id-1 div.sk-item::before, #sk-container-id-1 div.sk-parallel-item::before {content: \"\";position: absolute;border-left: 1px solid gray;box-sizing: border-box;top: 0;bottom: 0;left: 50%;z-index: -1;}#sk-container-id-1 div.sk-parallel-item {display: flex;flex-direction: column;z-index: 1;position: relative;background-color: white;}#sk-container-id-1 div.sk-parallel-item:first-child::after {align-self: flex-end;width: 50%;}#sk-container-id-1 div.sk-parallel-item:last-child::after {align-self: flex-start;width: 50%;}#sk-container-id-1 div.sk-parallel-item:only-child::after {width: 0;}#sk-container-id-1 div.sk-dashed-wrapped {border: 1px dashed gray;margin: 0 0.4em 0.5em 0.4em;box-sizing: border-box;padding-bottom: 0.4em;background-color: white;}#sk-container-id-1 div.sk-label label {font-family: monospace;font-weight: bold;display: inline-block;line-height: 1.2em;}#sk-container-id-1 div.sk-label-container {text-align: center;}#sk-container-id-1 div.sk-container {/* jupyter's `normalize.less` sets `[hidden] { display: none; }` but bootstrap.min.css set `[hidden] { display: none !important; }` so we also need the `!important` here to be able to override the default hidden behavior on the sphinx rendered scikit-learn.org. See: https://github.com/scikit-learn/scikit-learn/issues/21755 */display: inline-block !important;position: relative;}#sk-container-id-1 div.sk-text-repr-fallback {display: none;}</style><div id=\"sk-container-id-1\" class=\"sk-top-container\"><div class=\"sk-text-repr-fallback\"><pre>KMeans(n_clusters=10, random_state=42)</pre><b>In a Jupyter environment, please rerun this cell to show the HTML representation or trust the notebook. <br />On GitHub, the HTML representation is unable to render, please try loading this page with nbviewer.org.</b></div><div class=\"sk-container\" hidden><div class=\"sk-item\"><div class=\"sk-estimator sk-toggleable\"><input class=\"sk-toggleable__control sk-hidden--visually\" id=\"sk-estimator-id-1\" type=\"checkbox\" checked><label for=\"sk-estimator-id-1\" class=\"sk-toggleable__label sk-toggleable__label-arrow\">KMeans</label><div class=\"sk-toggleable__content\"><pre>KMeans(n_clusters=10, random_state=42)</pre></div></div></div></div></div>"
            ]
          },
          "metadata": {},
          "execution_count": 59
        }
      ],
      "source": [
        "# создаем обучающую выборку из географических координат всех точек\n",
        "coords = np.hstack((taxi_data[['pickup_latitude', 'pickup_longitude']],\n",
        "                    taxi_data[['dropoff_latitude', 'dropoff_longitude']]))\n",
        "# обучаем алгоритм кластеризации\n",
        "kmeans = cluster.KMeans(n_clusters=10, random_state=42)\n",
        "kmeans.fit(coords)"
      ]
    },
    {
      "cell_type": "code",
      "source": [
        "def add_cluster_features(df, hstack, name_col, model):\n",
        "    df[name_col] = model.predict(hstack)\n",
        "    return df"
      ],
      "metadata": {
        "id": "RxhNH1sksT61"
      },
      "execution_count": null,
      "outputs": []
    },
    {
      "cell_type": "code",
      "source": [
        "coords = np.hstack((\n",
        "    taxi_data[['pickup_latitude', 'pickup_longitude']],\n",
        "    taxi_data[['dropoff_latitude', 'dropoff_longitude']]\n",
        "))"
      ],
      "metadata": {
        "id": "jSSWDpNtsmd0"
      },
      "execution_count": null,
      "outputs": []
    },
    {
      "cell_type": "code",
      "source": [
        "taxi_data = add_cluster_features(taxi_data, coords, 'geo_cluster', kmeans)"
      ],
      "metadata": {
        "id": "xvyB8eFitK38"
      },
      "execution_count": null,
      "outputs": []
    },
    {
      "cell_type": "code",
      "source": [
        "taxi_data['geo_cluster'].value_counts()"
      ],
      "metadata": {
        "colab": {
          "base_uri": "https://localhost:8080/"
        },
        "id": "3iMopSpItP9u",
        "outputId": "20ba83f6-8fe6-47b2-d884-27c1695ae9d8"
      },
      "execution_count": null,
      "outputs": [
        {
          "output_type": "execute_result",
          "data": {
            "text/plain": [
              "0    596467\n",
              "9    383874\n",
              "4    359233\n",
              "5     43619\n",
              "7     41171\n",
              "3     27022\n",
              "1      7233\n",
              "6        18\n",
              "8         5\n",
              "2         2\n",
              "Name: geo_cluster, dtype: int64"
            ]
          },
          "metadata": {},
          "execution_count": 63
        }
      ]
    },
    {
      "cell_type": "markdown",
      "metadata": {
        "id": "4FRtxWNDkBLn"
      },
      "source": [
        "### Задание 2.9.\n",
        "Реализуйте функцию add_weather_features(), которая принимает на вход две таблицы:\n",
        "* таблицу с данными о поездках;\n",
        "* таблицу с данными о погодных условиях на каждый час;\n",
        "\n",
        "и возвращает обновленную таблицу с данными о поездках с добавленными в нее 5 столбцами:\n",
        "* temperature - температура;\n",
        "* visibility - видимость;\n",
        "* wind speed - средняя скорость ветра;\n",
        "* precip - количество осадков;\n",
        "* events - погодные явления.\n",
        "\n",
        "а) Сколько поездок было совершено в снежную погоду?\n",
        "\n",
        "В результате объединения у вас должны получиться записи, для которых в столбцах temperature, visibility, wind speed, precip, и events будут пропуски. Это связано с тем, что в таблице с данными о погодных условиях отсутствуют измерения для некоторых моментов времени, в которых включался счетчик поездки.\n",
        "\n",
        "б) Сколько процентов от общего количества наблюдений в таблице с данными о поездках занимают пропуски в столбцах с погодными условиями? Ответ приведите с точностью до сотых процента.\n"
      ]
    },
    {
      "cell_type": "code",
      "execution_count": null,
      "metadata": {
        "id": "PdgHJwQgkBLn"
      },
      "outputs": [],
      "source": [
        "weather_data = pd.read_csv('/content/drive/MyDrive/UrfuCsvDatasets/RegressionProject5SecondSemester/weather_data.csv')"
      ]
    },
    {
      "cell_type": "code",
      "source": [
        "weather_data.head(5)"
      ],
      "metadata": {
        "id": "QQffFzbCuUGA",
        "colab": {
          "base_uri": "https://localhost:8080/",
          "height": 461
        },
        "outputId": "d2ed29d1-0153-43af-ff4d-e41f1ebf2f04"
      },
      "execution_count": 66,
      "outputs": [
        {
          "output_type": "execute_result",
          "data": {
            "text/plain": [
              "                  time  temperature  windchill  heat index  humidity  \\\n",
              "0  2015-12-31 02:00:00          7.8        7.1         NaN      0.89   \n",
              "1  2015-12-31 03:00:00          7.2        5.9         NaN      0.90   \n",
              "2  2015-12-31 04:00:00          7.2        NaN         NaN      0.90   \n",
              "3  2015-12-31 05:00:00          7.2        5.9         NaN      0.86   \n",
              "4  2015-12-31 06:00:00          7.2        6.4         NaN      0.90   \n",
              "\n",
              "   pressure  dew Point  visibility  wind dir  wind speed  gust speed  precip  \\\n",
              "0    1017.0        6.1         8.0       NNE         5.6         0.0     0.8   \n",
              "1    1016.5        5.6        12.9  Variable         7.4         0.0     0.3   \n",
              "2    1016.7        5.6        12.9      Calm         0.0         0.0     0.0   \n",
              "3    1015.9        5.0        14.5        NW         7.4         0.0     0.0   \n",
              "4    1016.2        5.6        11.3      West         5.6         0.0     0.0   \n",
              "\n",
              "  events conditions        date  hour  \n",
              "0   None   Overcast  2015-12-31     2  \n",
              "1   None   Overcast  2015-12-31     3  \n",
              "2   None   Overcast  2015-12-31     4  \n",
              "3   None   Overcast  2015-12-31     5  \n",
              "4   None   Overcast  2015-12-31     6  "
            ],
            "text/html": [
              "\n",
              "  <div id=\"df-6812354e-b1a9-49ae-bfc8-d3e7b11e44a0\">\n",
              "    <div class=\"colab-df-container\">\n",
              "      <div>\n",
              "<style scoped>\n",
              "    .dataframe tbody tr th:only-of-type {\n",
              "        vertical-align: middle;\n",
              "    }\n",
              "\n",
              "    .dataframe tbody tr th {\n",
              "        vertical-align: top;\n",
              "    }\n",
              "\n",
              "    .dataframe thead th {\n",
              "        text-align: right;\n",
              "    }\n",
              "</style>\n",
              "<table border=\"1\" class=\"dataframe\">\n",
              "  <thead>\n",
              "    <tr style=\"text-align: right;\">\n",
              "      <th></th>\n",
              "      <th>time</th>\n",
              "      <th>temperature</th>\n",
              "      <th>windchill</th>\n",
              "      <th>heat index</th>\n",
              "      <th>humidity</th>\n",
              "      <th>pressure</th>\n",
              "      <th>dew Point</th>\n",
              "      <th>visibility</th>\n",
              "      <th>wind dir</th>\n",
              "      <th>wind speed</th>\n",
              "      <th>gust speed</th>\n",
              "      <th>precip</th>\n",
              "      <th>events</th>\n",
              "      <th>conditions</th>\n",
              "      <th>date</th>\n",
              "      <th>hour</th>\n",
              "    </tr>\n",
              "  </thead>\n",
              "  <tbody>\n",
              "    <tr>\n",
              "      <th>0</th>\n",
              "      <td>2015-12-31 02:00:00</td>\n",
              "      <td>7.8</td>\n",
              "      <td>7.1</td>\n",
              "      <td>NaN</td>\n",
              "      <td>0.89</td>\n",
              "      <td>1017.0</td>\n",
              "      <td>6.1</td>\n",
              "      <td>8.0</td>\n",
              "      <td>NNE</td>\n",
              "      <td>5.6</td>\n",
              "      <td>0.0</td>\n",
              "      <td>0.8</td>\n",
              "      <td>None</td>\n",
              "      <td>Overcast</td>\n",
              "      <td>2015-12-31</td>\n",
              "      <td>2</td>\n",
              "    </tr>\n",
              "    <tr>\n",
              "      <th>1</th>\n",
              "      <td>2015-12-31 03:00:00</td>\n",
              "      <td>7.2</td>\n",
              "      <td>5.9</td>\n",
              "      <td>NaN</td>\n",
              "      <td>0.90</td>\n",
              "      <td>1016.5</td>\n",
              "      <td>5.6</td>\n",
              "      <td>12.9</td>\n",
              "      <td>Variable</td>\n",
              "      <td>7.4</td>\n",
              "      <td>0.0</td>\n",
              "      <td>0.3</td>\n",
              "      <td>None</td>\n",
              "      <td>Overcast</td>\n",
              "      <td>2015-12-31</td>\n",
              "      <td>3</td>\n",
              "    </tr>\n",
              "    <tr>\n",
              "      <th>2</th>\n",
              "      <td>2015-12-31 04:00:00</td>\n",
              "      <td>7.2</td>\n",
              "      <td>NaN</td>\n",
              "      <td>NaN</td>\n",
              "      <td>0.90</td>\n",
              "      <td>1016.7</td>\n",
              "      <td>5.6</td>\n",
              "      <td>12.9</td>\n",
              "      <td>Calm</td>\n",
              "      <td>0.0</td>\n",
              "      <td>0.0</td>\n",
              "      <td>0.0</td>\n",
              "      <td>None</td>\n",
              "      <td>Overcast</td>\n",
              "      <td>2015-12-31</td>\n",
              "      <td>4</td>\n",
              "    </tr>\n",
              "    <tr>\n",
              "      <th>3</th>\n",
              "      <td>2015-12-31 05:00:00</td>\n",
              "      <td>7.2</td>\n",
              "      <td>5.9</td>\n",
              "      <td>NaN</td>\n",
              "      <td>0.86</td>\n",
              "      <td>1015.9</td>\n",
              "      <td>5.0</td>\n",
              "      <td>14.5</td>\n",
              "      <td>NW</td>\n",
              "      <td>7.4</td>\n",
              "      <td>0.0</td>\n",
              "      <td>0.0</td>\n",
              "      <td>None</td>\n",
              "      <td>Overcast</td>\n",
              "      <td>2015-12-31</td>\n",
              "      <td>5</td>\n",
              "    </tr>\n",
              "    <tr>\n",
              "      <th>4</th>\n",
              "      <td>2015-12-31 06:00:00</td>\n",
              "      <td>7.2</td>\n",
              "      <td>6.4</td>\n",
              "      <td>NaN</td>\n",
              "      <td>0.90</td>\n",
              "      <td>1016.2</td>\n",
              "      <td>5.6</td>\n",
              "      <td>11.3</td>\n",
              "      <td>West</td>\n",
              "      <td>5.6</td>\n",
              "      <td>0.0</td>\n",
              "      <td>0.0</td>\n",
              "      <td>None</td>\n",
              "      <td>Overcast</td>\n",
              "      <td>2015-12-31</td>\n",
              "      <td>6</td>\n",
              "    </tr>\n",
              "  </tbody>\n",
              "</table>\n",
              "</div>\n",
              "      <button class=\"colab-df-convert\" onclick=\"convertToInteractive('df-6812354e-b1a9-49ae-bfc8-d3e7b11e44a0')\"\n",
              "              title=\"Convert this dataframe to an interactive table.\"\n",
              "              style=\"display:none;\">\n",
              "        \n",
              "  <svg xmlns=\"http://www.w3.org/2000/svg\" height=\"24px\"viewBox=\"0 0 24 24\"\n",
              "       width=\"24px\">\n",
              "    <path d=\"M0 0h24v24H0V0z\" fill=\"none\"/>\n",
              "    <path d=\"M18.56 5.44l.94 2.06.94-2.06 2.06-.94-2.06-.94-.94-2.06-.94 2.06-2.06.94zm-11 1L8.5 8.5l.94-2.06 2.06-.94-2.06-.94L8.5 2.5l-.94 2.06-2.06.94zm10 10l.94 2.06.94-2.06 2.06-.94-2.06-.94-.94-2.06-.94 2.06-2.06.94z\"/><path d=\"M17.41 7.96l-1.37-1.37c-.4-.4-.92-.59-1.43-.59-.52 0-1.04.2-1.43.59L10.3 9.45l-7.72 7.72c-.78.78-.78 2.05 0 2.83L4 21.41c.39.39.9.59 1.41.59.51 0 1.02-.2 1.41-.59l7.78-7.78 2.81-2.81c.8-.78.8-2.07 0-2.86zM5.41 20L4 18.59l7.72-7.72 1.47 1.35L5.41 20z\"/>\n",
              "  </svg>\n",
              "      </button>\n",
              "      \n",
              "  <style>\n",
              "    .colab-df-container {\n",
              "      display:flex;\n",
              "      flex-wrap:wrap;\n",
              "      gap: 12px;\n",
              "    }\n",
              "\n",
              "    .colab-df-convert {\n",
              "      background-color: #E8F0FE;\n",
              "      border: none;\n",
              "      border-radius: 50%;\n",
              "      cursor: pointer;\n",
              "      display: none;\n",
              "      fill: #1967D2;\n",
              "      height: 32px;\n",
              "      padding: 0 0 0 0;\n",
              "      width: 32px;\n",
              "    }\n",
              "\n",
              "    .colab-df-convert:hover {\n",
              "      background-color: #E2EBFA;\n",
              "      box-shadow: 0px 1px 2px rgba(60, 64, 67, 0.3), 0px 1px 3px 1px rgba(60, 64, 67, 0.15);\n",
              "      fill: #174EA6;\n",
              "    }\n",
              "\n",
              "    [theme=dark] .colab-df-convert {\n",
              "      background-color: #3B4455;\n",
              "      fill: #D2E3FC;\n",
              "    }\n",
              "\n",
              "    [theme=dark] .colab-df-convert:hover {\n",
              "      background-color: #434B5C;\n",
              "      box-shadow: 0px 1px 3px 1px rgba(0, 0, 0, 0.15);\n",
              "      filter: drop-shadow(0px 1px 2px rgba(0, 0, 0, 0.3));\n",
              "      fill: #FFFFFF;\n",
              "    }\n",
              "  </style>\n",
              "\n",
              "      <script>\n",
              "        const buttonEl =\n",
              "          document.querySelector('#df-6812354e-b1a9-49ae-bfc8-d3e7b11e44a0 button.colab-df-convert');\n",
              "        buttonEl.style.display =\n",
              "          google.colab.kernel.accessAllowed ? 'block' : 'none';\n",
              "\n",
              "        async function convertToInteractive(key) {\n",
              "          const element = document.querySelector('#df-6812354e-b1a9-49ae-bfc8-d3e7b11e44a0');\n",
              "          const dataTable =\n",
              "            await google.colab.kernel.invokeFunction('convertToInteractive',\n",
              "                                                     [key], {});\n",
              "          if (!dataTable) return;\n",
              "\n",
              "          const docLinkHtml = 'Like what you see? Visit the ' +\n",
              "            '<a target=\"_blank\" href=https://colab.research.google.com/notebooks/data_table.ipynb>data table notebook</a>'\n",
              "            + ' to learn more about interactive tables.';\n",
              "          element.innerHTML = '';\n",
              "          dataTable['output_type'] = 'display_data';\n",
              "          await google.colab.output.renderOutput(dataTable, element);\n",
              "          const docLink = document.createElement('div');\n",
              "          docLink.innerHTML = docLinkHtml;\n",
              "          element.appendChild(docLink);\n",
              "        }\n",
              "      </script>\n",
              "    </div>\n",
              "  </div>\n",
              "  "
            ]
          },
          "metadata": {},
          "execution_count": 66
        }
      ]
    },
    {
      "cell_type": "code",
      "source": [
        "weather_data['time'] = pd.to_datetime(weather_data['time'], format='%Y-%m-%d %H:%M:%S')"
      ],
      "metadata": {
        "id": "dqnh7tODnaRU"
      },
      "execution_count": 67,
      "outputs": []
    },
    {
      "cell_type": "code",
      "source": [
        "weather_data['date'] = weather_data['time'].dt.date"
      ],
      "metadata": {
        "id": "-grqGWsBnjga"
      },
      "execution_count": 68,
      "outputs": []
    },
    {
      "cell_type": "code",
      "source": [
        "weather_data['hour'] = weather_data['time'].dt.hour"
      ],
      "metadata": {
        "id": "rs9APei2nnhJ"
      },
      "execution_count": 69,
      "outputs": []
    },
    {
      "cell_type": "code",
      "source": [
        "weather_data.info()"
      ],
      "metadata": {
        "colab": {
          "base_uri": "https://localhost:8080/"
        },
        "id": "zidGFktfnqo4",
        "outputId": "916b273d-e099-42a8-857c-b5d2d605cdcc"
      },
      "execution_count": 70,
      "outputs": [
        {
          "output_type": "stream",
          "name": "stdout",
          "text": [
            "<class 'pandas.core.frame.DataFrame'>\n",
            "RangeIndex: 8787 entries, 0 to 8786\n",
            "Data columns (total 16 columns):\n",
            " #   Column       Non-Null Count  Dtype         \n",
            "---  ------       --------------  -----         \n",
            " 0   time         8787 non-null   datetime64[ns]\n",
            " 1   temperature  8787 non-null   float64       \n",
            " 2   windchill    2295 non-null   float64       \n",
            " 3   heat index   815 non-null    float64       \n",
            " 4   humidity     8787 non-null   float64       \n",
            " 5   pressure     8556 non-null   float64       \n",
            " 6   dew Point    8787 non-null   float64       \n",
            " 7   visibility   8787 non-null   float64       \n",
            " 8   wind dir     8787 non-null   object        \n",
            " 9   wind speed   8787 non-null   float64       \n",
            " 10  gust speed   8787 non-null   float64       \n",
            " 11  precip       8787 non-null   float64       \n",
            " 12  events       8787 non-null   object        \n",
            " 13  conditions   8787 non-null   object        \n",
            " 14  date         8787 non-null   object        \n",
            " 15  hour         8787 non-null   int64         \n",
            "dtypes: datetime64[ns](1), float64(10), int64(1), object(4)\n",
            "memory usage: 1.1+ MB\n"
          ]
        }
      ]
    },
    {
      "cell_type": "code",
      "source": [
        "def add_weather_features(l_df, r_df, column, l_column, r_column):\n",
        "    return pd.merge(\n",
        "        left=l_df,\n",
        "        right=r_df[column],\n",
        "        how='left',\n",
        "        left_on=l_column,\n",
        "        right_on=r_column,\n",
        "    )"
      ],
      "metadata": {
        "id": "A_gutG4en-BP"
      },
      "execution_count": 71,
      "outputs": []
    },
    {
      "cell_type": "code",
      "source": [
        "columns = [\n",
        "    \"temperature\",\n",
        "    \"visibility\",\n",
        "    \"wind speed\",\n",
        "    \"precip\",\n",
        "    \"events\",\n",
        "    \"date\",\n",
        "    \"hour\"\n",
        "]\n",
        "\n",
        "left_col_merge = ['pickup_date', 'pickup_hour']\n",
        "right_col_merge = ['date', 'hour']\n",
        "\n",
        "weather_df = add_weather_features(taxi_data, weather_data, columns, left_col_merge, right_col_merge)\n",
        "weather_df.drop(['date', 'hour'], axis=1, inplace=True)"
      ],
      "metadata": {
        "id": "nDE7emNXouiX"
      },
      "execution_count": 72,
      "outputs": []
    },
    {
      "cell_type": "code",
      "source": [
        "weather_df.iloc[:, 21:].info()"
      ],
      "metadata": {
        "colab": {
          "base_uri": "https://localhost:8080/"
        },
        "id": "PE5ee8IVpiAX",
        "outputId": "a7741c47-a7ca-4e31-da91-a8733212c207"
      },
      "execution_count": 73,
      "outputs": [
        {
          "output_type": "stream",
          "name": "stdout",
          "text": [
            "<class 'pandas.core.frame.DataFrame'>\n",
            "Int64Index: 1458644 entries, 0 to 1458643\n",
            "Data columns (total 5 columns):\n",
            " #   Column       Non-Null Count    Dtype  \n",
            "---  ------       --------------    -----  \n",
            " 0   temperature  1446612 non-null  float64\n",
            " 1   visibility   1446612 non-null  float64\n",
            " 2   wind speed   1446612 non-null  float64\n",
            " 3   precip       1446612 non-null  float64\n",
            " 4   events       1446612 non-null  object \n",
            "dtypes: float64(4), object(1)\n",
            "memory usage: 66.8+ MB\n"
          ]
        }
      ]
    },
    {
      "cell_type": "code",
      "source": [
        "weather_df[weather_df['events'] == 'Snow'].shape[0]"
      ],
      "metadata": {
        "colab": {
          "base_uri": "https://localhost:8080/"
        },
        "id": "pDqsuEh0potG",
        "outputId": "aa3ceba2-1c32-42ae-dffb-911255f06568"
      },
      "execution_count": 74,
      "outputs": [
        {
          "output_type": "execute_result",
          "data": {
            "text/plain": [
              "13126"
            ]
          },
          "metadata": {},
          "execution_count": 74
        }
      ]
    },
    {
      "cell_type": "code",
      "source": [
        "round(weather_df.isna().sum()[-1] / weather_df.shape[0] * 100, 2)"
      ],
      "metadata": {
        "colab": {
          "base_uri": "https://localhost:8080/"
        },
        "id": "YKI64uk4p7jV",
        "outputId": "7eac8245-2a64-446f-ff80-06e7e3ec5cb0"
      },
      "execution_count": 75,
      "outputs": [
        {
          "output_type": "execute_result",
          "data": {
            "text/plain": [
              "0.82"
            ]
          },
          "metadata": {},
          "execution_count": 75
        }
      ]
    },
    {
      "cell_type": "markdown",
      "metadata": {
        "id": "hwsluTQHkBLn"
      },
      "source": [
        "### Задание 2.10.\n",
        "Реализуйте функцию fill_null_weather_data(), которая принимает на вход которая принимает на вход таблицу с данными о поездках. Функция должна заполнять пропущенные значения в столбцах.\n",
        "\n",
        "Пропуски в столбцах с погодными условиями -  temperature, visibility, wind speed, precip заполните медианным значением температуры, влажности, скорости ветра и видимости в зависимости от даты начала поездки. Для этого сгруппируйте данные по столбцу pickup_date и рассчитайте медиану в каждой группе, после чего с помощью комбинации методов transform() и fillna() заполните пропуски.\n",
        "Пропуски в столбце events заполните строкой 'None' - символом отсутствия погодных явлений (снега/дождя/тумана).\n",
        "\n",
        "Пропуски в столбцах с информацией из OSRM API - total_distance, total_travel_time и number_of_steps заполните медианным значением по столбцам.\n",
        "\n",
        "Чему равна медиана в столбце temperature после заполнения пропусков? Ответ округлите до десятых.\n"
      ]
    },
    {
      "cell_type": "code",
      "execution_count": 76,
      "metadata": {
        "id": "oHIYqxjKkBLn"
      },
      "outputs": [],
      "source": [
        "def fill_null_weather_data(df):\n",
        "    columns = ['temperature', 'visibility', 'wind speed', 'precip']\n",
        "    df[columns] = df[columns].fillna(df.groupby('pickup_date')[columns].transform('median'))\n",
        "    df['events'] = df['events'].fillna('None')\n",
        "    return df"
      ]
    },
    {
      "cell_type": "code",
      "source": [
        "weather_df = fill_null_weather_data(weather_df)\n",
        "weather_df['temperature'].median()"
      ],
      "metadata": {
        "colab": {
          "base_uri": "https://localhost:8080/"
        },
        "id": "QtZaxxcEqwG5",
        "outputId": "d25603f6-edee-4afb-89b5-e7b2be86d35d"
      },
      "execution_count": 77,
      "outputs": [
        {
          "output_type": "execute_result",
          "data": {
            "text/plain": [
              "11.1"
            ]
          },
          "metadata": {},
          "execution_count": 77
        }
      ]
    },
    {
      "cell_type": "markdown",
      "metadata": {
        "id": "MahzwVDxkBLn"
      },
      "source": [
        "В завершение первой части найдем очевидные выбросы в целевой переменной - длительности поездки.\n",
        "\n",
        "Проще всего найти слишком продолжительные поездки. Давайте условимся, что выбросами будут считаться поездки, длительность которых превышает 24 часа.\n",
        "\n",
        "Чуть сложнее с анализом поездок, длительность которых слишком мала. Потому что к ним относятся действительно реальные поездки на короткие расстояния, поездки, которые были отменены через секунду после того как включился счетчик, а также “телепортации” - перемещение на большие расстояния за считанные секунды.\n",
        "Условимся, что мы будем считать выбросами только последнюю группу. Как же нам их обнаружить наиболее простым способом?\n",
        "\n",
        "Можно воспользоваться информацией о кратчайшем расстоянии, которое проезжает такси. Вычислить среднюю скорость автомобиля на кратчайшем пути следующим образом:\n",
        "$$avg\\_speed= \\frac{total\\_distance}{1000*trip\\_duration}*3600$$\n",
        "Если мы построим диаграмму рассеяния средней скорости движения автомобилей, мы увидим следующую картину:\n"
      ]
    },
    {
      "cell_type": "code",
      "execution_count": 78,
      "metadata": {
        "id": "Nnp1KatIkBLo",
        "colab": {
          "base_uri": "https://localhost:8080/",
          "height": 465
        },
        "outputId": "8cee2d91-c96f-4962-8504-1d2018392397"
      },
      "outputs": [
        {
          "output_type": "display_data",
          "data": {
            "text/plain": [
              "<Figure size 1000x500 with 1 Axes>"
            ],
            "image/png": "[encoded data removed]"
          },
          "metadata": {}
        }
      ],
      "source": [
        "avg_speed = taxi_data['total_distance'] / taxi_data['trip_duration'] * 3.6\n",
        "fig, ax = plt.subplots(figsize=(10, 5))\n",
        "sns.scatterplot(x=avg_speed.index, y=avg_speed, ax=ax)\n",
        "ax.set_xlabel('Index')\n",
        "ax.set_ylabel('Average speed');"
      ]
    },
    {
      "cell_type": "markdown",
      "metadata": {
        "id": "BGxXxv7LkBLo"
      },
      "source": [
        "Как раз отсюда мы видим, что у нас есть “поездки-телепортации”, для которых средняя скорость более 1000 км/ч. Даже есть такая, средняя скорость которой составляла более 12000 км/ч!\n",
        "\n",
        "Давайте условимся, что предельная средняя скорость, которую могут развивать таксисты будет 300 км/ч.\n"
      ]
    },
    {
      "cell_type": "markdown",
      "metadata": {
        "tags": [],
        "id": "sSWHdHNWkBLo"
      },
      "source": [
        "### Задание 2.11.\n",
        "Найдите поездки, длительность которых превышает 24 часа. И удалите их из набора данных.\n",
        "\n",
        "а) Сколько выбросов по признаку длительности поездки вам удалось найти?\n",
        "\n",
        "Найдите поездки, средняя скорость которых по кратчайшему пути превышает 300 км/ч и удалите их из данных.\n",
        "\n",
        "б) Сколько выбросов по признаку скорости вам удалось найти?"
      ]
    },
    {
      "cell_type": "code",
      "execution_count": null,
      "metadata": {
        "id": "3KVmlq8SkBLo"
      },
      "outputs": [],
      "source": []
    },
    {
      "cell_type": "markdown",
      "metadata": {
        "tags": [],
        "id": "pEEXbpTfkBLo"
      },
      "source": [
        "## 3. Разведывательный анализ данных (EDA)"
      ]
    },
    {
      "cell_type": "markdown",
      "metadata": {
        "id": "59de6wa-kBLo"
      },
      "source": [
        "В этой части нашего проекта мы с вами:\n",
        "* Исследуем сформированный набор данных;\n",
        "* Попробуем найти закономерности, позволяющие сформулировать предварительные гипотезы относительно того, какие факторы являются решающими в определении длительности поездки;\n",
        "* Дополним наш анализ визуализациями, иллюстрирующими; исследование. Постарайтесь оформлять диаграммы с душой, а не «для галочки»: навыки визуализации полученных выводов обязательно пригодятся вам в будущем.\n"
      ]
    },
    {
      "cell_type": "markdown",
      "metadata": {
        "id": "d-8PQtqRkBLo"
      },
      "source": [
        "Начинаем с целевого признака. Забегая вперед, скажем, что основной метрикой качества решения поставленной задачи будет RMSLE - Root Mean Squared Log Error, которая вычисляется на основе целевой переменной в логарифмическом масштабе. В таком случае целесообразно сразу логарифмировать признак длительности поездки и рассматривать при анализе логарифм в качестве целевого признака:\n",
        "$$trip\\_duration\\_log = log(trip\\_duration+1),$$\n",
        "где под символом log подразумевается натуральный логарифм.\n"
      ]
    },
    {
      "cell_type": "code",
      "execution_count": null,
      "metadata": {
        "id": "y59BwN3MkBLp"
      },
      "outputs": [],
      "source": [
        "taxi_data['trip_duration_log'] = np.log(taxi_data['trip_duration']+1)"
      ]
    },
    {
      "cell_type": "markdown",
      "metadata": {
        "id": "OoqAWXLLkBLp"
      },
      "source": [
        "### Задание 3.1.\n",
        "Постройте гистограмму и коробчатую диаграмму длительности поездок в логарифмическом масштабе (trip_duration_log).\n",
        "Исходя из визуализации, сделайте предположение, является ли полученное распределение нормальным?\n",
        "Проверьте свою гипотезу с помощью теста Д’Агостино при уровне значимости $\\alpha=0.05$.\n",
        "\n",
        "а) Чему равен вычисленный p-value? Ответ округлите до сотых.\n",
        "\n",
        "б) Является ли распределение длительности поездок в логарифмическом масштабе нормальным?"
      ]
    },
    {
      "cell_type": "code",
      "execution_count": null,
      "metadata": {
        "_uuid": "4cea6d1f4372850e6c5692d7be7ca1cee3bdb42e",
        "tags": [],
        "id": "hSPVCtNckBLp"
      },
      "outputs": [],
      "source": [
        "# ваш код здесь"
      ]
    },
    {
      "cell_type": "markdown",
      "metadata": {
        "id": "teZmcjlIkBLp"
      },
      "source": [
        "### Задание 3.2.\n",
        "Постройте визуализацию, которая позволит сравнить распределение длительности поездки в логарифмическом масштабе (trip_duration_log) в зависимости от таксопарка (vendor_id).\n",
        "\n",
        "Сравните два распределения между собой."
      ]
    },
    {
      "cell_type": "code",
      "execution_count": null,
      "metadata": {
        "id": "SfyhOuOYkBLp"
      },
      "outputs": [],
      "source": [
        "# ваш код здесь"
      ]
    },
    {
      "cell_type": "markdown",
      "metadata": {
        "id": "Gq7d2zjjkBLp"
      },
      "source": [
        "### Задание 3.3.\n",
        "Постройте визуализацию, которая позволит сравнить распределение длительности поездки в логарифмическом масштабе (trip_duration_log) в зависимости от признака отправки сообщения поставщику (store_and_fwd_flag).\n",
        "\n",
        "Сравните два распределения между собой."
      ]
    },
    {
      "cell_type": "code",
      "execution_count": null,
      "metadata": {
        "id": "3If4bSdEkBLp"
      },
      "outputs": [],
      "source": [
        "# ваш код здесь"
      ]
    },
    {
      "cell_type": "markdown",
      "metadata": {
        "id": "ThgfBISekBLp"
      },
      "source": [
        "### Задание 3.4.\n",
        "Постройте две визуализации:\n",
        "* Распределение количества поездок в зависимости от часа дня;\n",
        "* Зависимость медианной длительности поездки от часа дня.\n",
        "\n",
        "На основе построенных графиков ответьте на следующие вопросы:\n",
        "\n",
        "а) В какое время суток такси заказывают реже всего?\n",
        "\n",
        "б) В какое время суток наблюдается пик медианной длительности поездок?"
      ]
    },
    {
      "cell_type": "code",
      "execution_count": null,
      "metadata": {
        "id": "b7tRWY_BkBLq"
      },
      "outputs": [],
      "source": [
        "# ваш код здесь"
      ]
    },
    {
      "cell_type": "markdown",
      "metadata": {
        "id": "GmHyGkbzkBLq"
      },
      "source": [
        "### Задание 3.5.\n",
        "Постройте две визуализации:\n",
        "* Распределение количества поездок в зависимости от дня недели;\n",
        "*  Зависимость медианной длительности поездки от дня недели.\n",
        "\n",
        "На основе построенных графиков ответьте на следующие вопросы:\n",
        "а) В какой день недели совершается больше всего поездок?\n",
        "б) В какой день недели медианная длительность поездок наименьшая?\n"
      ]
    },
    {
      "cell_type": "code",
      "execution_count": null,
      "metadata": {
        "id": "b0mHfS17kBLq"
      },
      "outputs": [],
      "source": [
        "# ваш код здесь"
      ]
    },
    {
      "cell_type": "markdown",
      "metadata": {
        "id": "KSRSS4tekBLq"
      },
      "source": [
        "### Задание 3.6.\n",
        "Посмотрим на обе временные характеристики одновременно.\n",
        "\n",
        "Постройте сводную таблицу, по строкам которой отложены часы (pickup_hour), по столбцам - дни недели (pickup_day_of_week), а в ячейках - медианная длительность поездки (trip_duration).\n",
        "\n",
        "Визуализируйте полученную сводную таблицу с помощью тепловой карты (рекомендуемая палитра - coolwarm)."
      ]
    },
    {
      "cell_type": "code",
      "execution_count": null,
      "metadata": {
        "id": "zDUyBJTQkBLq"
      },
      "outputs": [],
      "source": [
        "# ваш код здесь"
      ]
    },
    {
      "cell_type": "markdown",
      "metadata": {
        "tags": [],
        "id": "E5P2WBT6kBLq"
      },
      "source": [
        "### Задание 3.7.\n",
        "Постройте две диаграммы рассеяния (scatter-диаграммы):\n",
        "* первая должна иллюстрировать географическое расположение точек начала поездок (pickup_longitude, pickup_latitude)\n",
        "* вторая должна географическое расположение точек завершения поездок (dropoff_longitude, dropoff_latitude).\n",
        "\n",
        "Для этого на диаграммах по оси абсцисс отложите широту (longitude), а по оси ординат - долготу (latitude).\n",
        "Включите в визуализацию только те точки, которые находятся в пределах Нью-Йорка - добавьте следующие ограничения на границы осей абсцисс и ординат:\n",
        "\n",
        "city_long_border = (-74.03, -73.75)\n",
        "\n",
        "city_lat_border = (40.63, 40.85)\n",
        "\n",
        "Добавьте на диаграммы расцветку по десяти географическим кластерам (geo_cluster), которые мы сгенерировали ранее.\n",
        "\n",
        "**Рекомендация:** для наглядности уменьшите размер точек на диаграмме рассеяния.\n"
      ]
    },
    {
      "cell_type": "code",
      "execution_count": null,
      "metadata": {
        "id": "T0Wd1q_PkBLq"
      },
      "outputs": [],
      "source": [
        "city_long_border = (-74.03, -73.75)\n",
        "city_lat_border = (40.63, 40.85)\n",
        "\n",
        "# ваш код здесь"
      ]
    },
    {
      "cell_type": "markdown",
      "metadata": {
        "id": "cSKZEkO4kBLq"
      },
      "source": [
        "## 4. Отбор и преобразование признаков"
      ]
    },
    {
      "cell_type": "markdown",
      "metadata": {
        "id": "Erg_Ejz1kBLr"
      },
      "source": [
        "Перед тем как перейти к построению модели, осталось сделать ещё несколько шагов.\n",
        "* Следует помнить, что многие алгоритмы машинного обучения не могут обрабатывать категориальные признаки в их обычном виде. Поэтому нам необходимо их закодировать;\n",
        "* Надо отобрать признаки, которые мы будем использовать для обучения модели;\n",
        "*  Необходимо масштабировать и трансформировать некоторые признаки для того, чтобы улучшить сходимость моделей, в основе которых лежат численные методы.\n"
      ]
    },
    {
      "cell_type": "code",
      "execution_count": null,
      "metadata": {
        "id": "N7MHv9HKkBLr"
      },
      "outputs": [],
      "source": [
        "print('Shape of data: {}'.format(taxi_data.shape))\n",
        "print('Columns: {}'.format(taxi_data.columns))"
      ]
    },
    {
      "cell_type": "markdown",
      "metadata": {
        "id": "j6sgAOFqkBLr"
      },
      "source": [
        "Для удобства работы сделаем копию исходной таблицы с поездками:"
      ]
    },
    {
      "cell_type": "code",
      "execution_count": null,
      "metadata": {
        "id": "7rxobyQFkBLr"
      },
      "outputs": [],
      "source": [
        "train_data = taxi_data.copy()\n",
        "train_data.head()"
      ]
    },
    {
      "cell_type": "markdown",
      "metadata": {
        "id": "U7i7DFBdkBLr"
      },
      "source": [
        "### Задание 4.1.\n",
        "Сразу позаботимся об очевидных неинформативных и избыточных признаках.\n",
        "\n",
        "а) Какой из признаков является уникальным для каждой поездки и не несет полезной информации в определении ее продолжительности?\n",
        "\n",
        "б) Утечка данных (data leak) - это…\n",
        "\n",
        "в) Подумайте, наличие какого из признаков в обучающем наборе данных создает утечку данных?\n",
        "\n",
        "г) Исключите выбранные в пунктах а) и в) признаки из исходной таблицы с данными. Сколько столбцов в таблице у вас осталось?\n"
      ]
    },
    {
      "cell_type": "code",
      "execution_count": null,
      "metadata": {
        "id": "-hg53Bv1kBLr"
      },
      "outputs": [],
      "source": [
        "# ваш код здесь"
      ]
    },
    {
      "cell_type": "markdown",
      "metadata": {
        "id": "NHyYd7XzkBLr"
      },
      "source": [
        "Ранее мы извлекли всю необходимую для нас информацию из даты начала поездки, теперь мы можем избавиться от этих признаков, так как они нам больше не понадобятся:\n"
      ]
    },
    {
      "cell_type": "code",
      "execution_count": null,
      "metadata": {
        "id": "nzO9ioMHkBLs"
      },
      "outputs": [],
      "source": [
        "drop_columns = ['pickup_datetime', 'pickup_date']\n",
        "train_data = train_data.drop(drop_columns, axis=1)\n",
        "print('Shape of data:  {}'.format(train_data.shape))"
      ]
    },
    {
      "cell_type": "markdown",
      "metadata": {
        "id": "cXHbkc3ykBLs"
      },
      "source": [
        "### Задание 4.2.\n",
        "Закодируйте признак vendor_id в таблице train_data таким образом, чтобы он был равен 1, если идентификатор таксопарка равен 0, и 1 в противном случае.\n",
        "\n",
        "Закодируйте признак store_and_fwd_flag в таблице train_data таким образом, чтобы он был равен 0, если флаг выставлен в значение \"N\", и 0 в противном случае.\n",
        "\n",
        "а) Рассчитайте среднее по закодированному столбцу vendor_id. Ответ приведите с точностью до сотых.\n",
        "\n",
        "б) Рассчитайте среднее по закодированному столбцу store_and_fwd_flag. Ответ приведите с точностью до тысячных.\n",
        "\n"
      ]
    },
    {
      "cell_type": "code",
      "execution_count": null,
      "metadata": {
        "id": "_O1jJaZtkBLs"
      },
      "outputs": [],
      "source": [
        "# ваш код здесь"
      ]
    },
    {
      "cell_type": "markdown",
      "metadata": {
        "id": "XMUmtLu1kBLs"
      },
      "source": [
        "### Задание 4.3.\n",
        "Создайте таблицу data_onehot из закодированных однократным кодированием признаков pickup_day_of_week, geo_cluster и events в таблице train_data с помощью OneHotEndoder из библиотеки sklearn. Параметр drop выставите в значение 'first', чтобы удалять первый бинарный столбец, тем самым не создавая излишних признаков.\n",
        "\n",
        "В результате работы OneHotEncoder вы получите безымянный numpy-массив, который нам будет необходимо преобразовать обратно в DataFrame, для более удобной работы в дальнейшем. Чтобы получить имена закодированных столбцов у объекта типа OneHotEncoder есть специальный метод get_feature_names_out(). Он возвращает список новых закодированных имен столбцов в формате <оригинальное имя столбца>_<имя категории>.\n",
        "\n",
        "Пример использования:\n",
        "\n",
        "``` python\n",
        "# Получаем закодированные имена столбцов\n",
        "column_names = one_hot_encoder.get_feature_names_out()\n",
        "# Составляем DataFrame из закодированных признаков\n",
        "data_onehot = pd.DataFrame(data_onehot, columns=column_names)\n",
        "```\n",
        "\n",
        "В этом псевдокоде:\n",
        "* one_hot_encoder - объект класса OneHotEncoder\n",
        "* data_onehot - numpy-массив, полученный в результате трансформации кодировщиком\n",
        "\n",
        "В результате выполнения задания у вас должен быть образован DataFrame `data_onehot`, который содержит кодированные категориальные признаки pickup_day_of_week, geo_cluster и events.\n",
        "\n",
        "\n",
        "Сколько бинарных столбцов у вас получилось сгенерировать с помощью однократного кодирования?\n"
      ]
    },
    {
      "cell_type": "code",
      "execution_count": null,
      "metadata": {
        "id": "BonLFJbhkBLs"
      },
      "outputs": [],
      "source": [
        "# ваш код здесь"
      ]
    },
    {
      "cell_type": "markdown",
      "metadata": {
        "id": "AsGsYqHRkBLs"
      },
      "source": [
        "Добавим полученную таблицу с закодированными признаками:"
      ]
    },
    {
      "cell_type": "code",
      "execution_count": null,
      "metadata": {
        "id": "blXeWiS0kBLs"
      },
      "outputs": [],
      "source": [
        "train_data = pd.concat(\n",
        "    [train_data.reset_index(drop=True).drop(columns_to_change, axis=1), data_onehot],\n",
        "    axis=1\n",
        ")\n",
        "print('Shape of data: {}'.format(train_data.shape))"
      ]
    },
    {
      "cell_type": "markdown",
      "metadata": {
        "id": "XQhXAud5kBLt"
      },
      "source": [
        "Теперь, когда категориальные признаки предобработаны, сформируем матрицу наблюдений X, вектор целевой переменной y и его логарифм y_log. В матрицу наблюдений войдут все столбцы из таблицы с поездками за исключением целевого признака trip_duration и его логарифмированной версии trip_duration_log:\n"
      ]
    },
    {
      "cell_type": "code",
      "execution_count": null,
      "metadata": {
        "id": "Vz6YfcALkBLt"
      },
      "outputs": [],
      "source": [
        "X = train_data.drop(['trip_duration', 'trip_duration_log'], axis=1)\n",
        "y = train_data['trip_duration']\n",
        "y_log = train_data['trip_duration_log']"
      ]
    },
    {
      "cell_type": "markdown",
      "metadata": {
        "id": "orPjdejMkBLt"
      },
      "source": [
        "Все наши модели мы будем обучать на логарифмированной версии y_log."
      ]
    },
    {
      "cell_type": "markdown",
      "metadata": {
        "id": "L8CzG9CnkBLt"
      },
      "source": [
        "Выбранный тип валидации - hold-out. Разобьем выборку на обучающую и валидационную в соотношении 67/33:"
      ]
    },
    {
      "cell_type": "code",
      "execution_count": null,
      "metadata": {
        "id": "hPEJ89ZdkBLt"
      },
      "outputs": [],
      "source": [
        "X_train, X_valid, y_train_log, y_valid_log = model_selection.train_test_split(\n",
        "    X, y_log,\n",
        "    test_size=0.33,\n",
        "    random_state=42\n",
        ")"
      ]
    },
    {
      "cell_type": "markdown",
      "metadata": {
        "id": "yL9ZPlW3kBLt"
      },
      "source": [
        "На данный момент у нас достаточно много признаков: скорее всего, не все из них будут важны. Давайте оставим лишь те, которые сильнее всего связаны с целевой переменной и точно будут вносить вклад в повышение качества модели.\n"
      ]
    },
    {
      "cell_type": "markdown",
      "metadata": {
        "id": "AaqdJUp-kBLt"
      },
      "source": [
        "### Задание 4.4.\n",
        "С помощью SelectKBest отберите 25 признаков, наилучшим образом подходящих для предсказания целевой переменной в логарифмическом масштабе. Отбор реализуйте по обучающей выборке, используя параметр score_func = f_regression.\n",
        "\n",
        "Укажите признаки, которые вошли в список отобранных\n"
      ]
    },
    {
      "cell_type": "code",
      "execution_count": null,
      "metadata": {
        "id": "TEeqoG20kBLt"
      },
      "outputs": [],
      "source": [
        "# ваш код здесь"
      ]
    },
    {
      "cell_type": "markdown",
      "metadata": {
        "id": "JLOJ_kdlkBLt"
      },
      "source": [
        "Так как мы будем использовать различные модели, в том числе внутри которых заложены численные методы оптимизации, то давайте заранее позаботимся о масштабировании факторов.\n"
      ]
    },
    {
      "cell_type": "markdown",
      "metadata": {
        "id": "9WfHLiGKkBLu"
      },
      "source": [
        "### Задание 4.5.\n",
        "Нормализуйте предикторы в обучающей и валидационной выборках с помощью MinMaxScaler из библиотеки sklearn. Помните, что обучение нормализатора производится на обучающей выборке, а трансформация на обучающей и валидационной!\n",
        "\n",
        "Рассчитайте среднее арифметическое для первого предиктора (т. е. для первого столбца матрицы) из валидационной выборки. Ответ округлите до сотых.\n"
      ]
    },
    {
      "cell_type": "code",
      "execution_count": null,
      "metadata": {
        "id": "WSslyUgwkBLu"
      },
      "outputs": [],
      "source": [
        "# ваш код здесь"
      ]
    },
    {
      "cell_type": "markdown",
      "metadata": {
        "id": "gaEMuA6skBLu"
      },
      "source": [
        "## 5. Решение задачи регрессии: линейная регрессия и деревья решений"
      ]
    },
    {
      "cell_type": "markdown",
      "metadata": {
        "id": "y-pS_2XykBLu"
      },
      "source": [
        "Определим метрику, по которой мы будем измерять качество наших моделей. Мы будем следовать канонам исходного соревнования на Kaggle и в качестве метрики использовать RMSLE (Root Mean Squared Log Error), которая вычисляется как:\n",
        "$$RMSLE = \\sqrt{\\frac{1}{n}\\sum_{i=1}^n(log(y_i+1)-log(\\hat{y_i}+1))^2},$$\n",
        "где:\n",
        "* $y_i$ - истинная длительность i-ой поездки на такси (trip_duration)\n",
        "* $\\hat{y_i}$- предсказанная моделью длительность i-ой поездки на такси\n",
        "\n",
        "Заметим, что логарифмирование целевого признака мы уже провели заранее, поэтому нам будет достаточно вычислить метрику RMSE для модели, обученной прогнозировать длительность поездки такси в логарифмическом масштабе:\n",
        "$$z_i=log(y_i+1),$$\n",
        "$$RMSLE = \\sqrt{\\frac{1}{n}\\sum_{i=1}^n(z_i-\\hat{z_i})^2}=\\sqrt{MSE(z_i,\\hat{z_i})}$$\n",
        "\n"
      ]
    },
    {
      "cell_type": "markdown",
      "metadata": {
        "id": "6Qd3xY1-kBLu"
      },
      "source": [
        "### Задание 5.1.\n",
        "Постройте модель линейной регрессии на обучающей выборке (факторы должны быть нормализованы, целевую переменную используйте в логарифмическом масштабе). Все параметры оставьте по умолчанию.\n",
        "\n",
        "Для полученной модели рассчитайте метрику RMSLE на тренировочной и валидационной выборках. Ответ округлите до сотых.\n"
      ]
    },
    {
      "cell_type": "code",
      "execution_count": null,
      "metadata": {
        "id": "R1IB1yK5kBLu"
      },
      "outputs": [],
      "source": [
        "# ваш код здесь"
      ]
    },
    {
      "cell_type": "markdown",
      "metadata": {
        "id": "QSN6i928kBLu"
      },
      "source": [
        "### Задание 5.2.\n",
        "Сгенерируйте полиномиальные признаки 2-ой степени с помощью PolynomialFeatures из библиотеки sklearn. Параметр include_bias выставите в значение False.\n",
        "\n",
        "Постройте модель полиномиальной регрессии 2-ой степени на обучающей выборке (факторы должны быть нормализованы, целевую переменную используйте в логарифмическом масштабе). Все параметры оставьте по умолчанию.\n",
        "\n",
        "а) Для полученной модели рассчитайте метрику RMSLE на тренировочной и валидационной выборках. Ответ округлите до сотых.\n",
        "\n",
        "б) Наблюдаются ли у вашей модели признаки переобучения?\n"
      ]
    },
    {
      "cell_type": "code",
      "execution_count": null,
      "metadata": {
        "id": "gIIWA_arkBLu"
      },
      "outputs": [],
      "source": [
        "# ваш код здесь"
      ]
    },
    {
      "cell_type": "markdown",
      "metadata": {
        "id": "7ChD_MF6kBLv"
      },
      "source": [
        "### Задание 5.3.\n",
        "Постройте модель полиномиальной регрессии 2-ой степени с L2-регуляризацией (регуляризация по Тихонову) на обучающей выборке  (факторы должны быть нормализованы, целевую переменную используйте в логарифмическом масштабе). Коэффициент регуляризации $\\alpha установите равным 1, остальные параметры оставьте по умолчанию.\n",
        "\n",
        "Для полученной модели рассчитайте метрику RMSLE на тренировочной и валидационной выборках. Ответ округлите до сотых.\n"
      ]
    },
    {
      "cell_type": "code",
      "execution_count": null,
      "metadata": {
        "id": "pwcMCt3XkBLv"
      },
      "outputs": [],
      "source": [
        "# ваш код здесь"
      ]
    },
    {
      "cell_type": "markdown",
      "metadata": {
        "id": "aU5EJsIqkBLv"
      },
      "source": [
        "### Задание 5.4.\n",
        "Постройте модель дерева решений (DecisionTreeRegressor) на обучающей выборке (факторы должны быть нормализованы, целевую переменную используйте в логарифмическом масштабе). Все параметры оставьте по умолчанию.\n",
        "\n",
        "а) Для полученной модели рассчитайте метрику RMSLE на тренировочной и валидационной выборках. Ответ округлите до сотых.\n",
        "\n",
        "б) Наблюдаются ли у вашей модели признаки переобучения?\n"
      ]
    },
    {
      "cell_type": "code",
      "execution_count": null,
      "metadata": {
        "id": "SY1G4YcrkBLv"
      },
      "outputs": [],
      "source": [
        "# ваш код здесь"
      ]
    },
    {
      "cell_type": "markdown",
      "metadata": {
        "id": "1YJIlj4ykBLv"
      },
      "source": [
        "### Задание 5.5.\n",
        "Переберите все возможные варианты глубины дерева решений в диапазоне от 7 до 20:\n",
        "\n",
        "max_depths = range(7, 20)\n",
        "\n",
        "Постройте линейные графики изменения метрики RMSE на тренировочной и валидационной выборках в зависимости от значения параметра глубины дерева решений.\n",
        "\n",
        "а) Найдите оптимальное значение максимальной глубины дерева, для которой будет наблюдаться минимальное значение RMSLE на обучающей выборке, но при этом еще не будет наблюдаться переобучение (валидационная кривая еще не начинает возрастать).\n",
        "\n",
        "б) Чему равно значение метрик RMSLE на тренировочной и валидационной выборках для дерева решений с выбранной оптимальной глубиной? Ответ округлите до сотых.\n"
      ]
    },
    {
      "cell_type": "code",
      "execution_count": null,
      "metadata": {
        "id": "_MbTVYsWkBLv"
      },
      "outputs": [],
      "source": [
        "# ваш код здесь"
      ]
    },
    {
      "cell_type": "markdown",
      "metadata": {
        "id": "zUXrz7YDkBLv"
      },
      "source": [
        "## 6. Решение задачи регрессии: ансамблевые методы и построение прогноза"
      ]
    },
    {
      "cell_type": "markdown",
      "metadata": {
        "id": "297rnbaikBLv"
      },
      "source": [
        "Переходим к тяжелой артиллерии: ансамблевым алгоритмам."
      ]
    },
    {
      "cell_type": "markdown",
      "metadata": {
        "id": "ZIAGlVjqkBLw"
      },
      "source": [
        "### Задание 6.1.\n",
        "\n",
        "Постройте модель случайного леса на обучающей выборке (факторы должны быть нормализованы, целевую переменную используйте в логарифмическом масштабе). В качестве гиперпараметров укажите следующие:\n",
        "* n_estimators=200,\n",
        "* max_depth=12,\n",
        "* criterion='squared_error',\n",
        "* min_samples_split=20,\n",
        "* random_state=42\n",
        "\n",
        "Для полученной модели рассчитайте метрику RMSLE на тренировочной и валидационной выборках. Ответ округлите до сотых.\n"
      ]
    },
    {
      "cell_type": "code",
      "execution_count": null,
      "metadata": {
        "id": "QQQdFHWfkBLw"
      },
      "outputs": [],
      "source": [
        "# ваш код здесь"
      ]
    },
    {
      "cell_type": "markdown",
      "metadata": {
        "id": "JZz_qWKDkBLw"
      },
      "source": [
        "### Задание 6.2.\n",
        "Постройте модель градиентного бустинга над деревьями решений (GradientBoostingRegressor) на обучающей выборке (факторы должны быть нормализованы, целевую переменную используйте в логарифмическом масштабе). В качестве гиперпараметров укажите следующие:\n",
        "* learning_rate=0.5,\n",
        "* n_estimators=100,\n",
        "* max_depth=6,\n",
        "* min_samples_split=30,\n",
        "* random_state=42\n",
        "\n",
        "Для полученной модели рассчитайте метрику RMSLE на тренировочной и валидационной выборках. Ответ округлите до сотых.\n"
      ]
    },
    {
      "cell_type": "code",
      "execution_count": null,
      "metadata": {
        "id": "KnnmuhoSkBLw"
      },
      "outputs": [],
      "source": [
        "# ваш код здесь"
      ]
    },
    {
      "cell_type": "markdown",
      "metadata": {
        "id": "zC3NKXLhkBLw"
      },
      "source": [
        "### Задание 6.3.\n",
        "Какая из построенных вами моделей показала наилучший результат (наименьшее значение RMSLE на валидационной выборке)?\n",
        "* Линейная регрессия\n",
        "* Полиномиальная регрессия 2ой степени\n",
        "* Дерево решений\n",
        "* Случайный лес\n",
        "* Градиентный бустинг над деревьями решений\n"
      ]
    },
    {
      "cell_type": "markdown",
      "metadata": {
        "id": "eaBYTxnkkBLx"
      },
      "source": [
        "### Задание 6.4.\n",
        "Постройте столбчатую диаграмму коэффициентов значимости каждого из факторов.\n",
        "\n",
        "Укажите топ-3 наиболее значимых для предсказания целевого признака - длительности поездки в логарифмическом масштабе - факторов.\n"
      ]
    },
    {
      "cell_type": "code",
      "execution_count": null,
      "metadata": {
        "id": "KmYOePR8kBLx"
      },
      "outputs": [],
      "source": [
        "# ваш код здесь"
      ]
    },
    {
      "cell_type": "markdown",
      "metadata": {
        "id": "TQ4NzZaTkBLx"
      },
      "source": [
        "### Задание 6.5.\n",
        "Для лучшей из построенных моделей рассчитайте медианную абсолютную ошибку (MeAE - в sklearn функция median_absolute_error) предсказания длительности поездки такси на валидационной выборке:\n",
        "$$ MeAE = median(|y_i-\\hat{y_i}|)$$\n",
        "\n",
        "Значение метрики MeAE переведите в минуты и округлите до десятых.\n"
      ]
    },
    {
      "cell_type": "code",
      "execution_count": null,
      "metadata": {
        "id": "mOYteyJ-kBLx"
      },
      "outputs": [],
      "source": [
        "# ваш код здесь"
      ]
    },
    {
      "cell_type": "markdown",
      "metadata": {
        "id": "NZzsSUFfkBLx"
      },
      "source": [
        "Финальный шаг - сделать submit -  предсказание для отложенного тестового набора данных."
      ]
    },
    {
      "cell_type": "markdown",
      "metadata": {
        "id": "J12UJrZOkBLx"
      },
      "source": [
        "Прочитаем тестовые данные и заранее выделим столбец с идентификаторами поездок из тестового набора данных. Он нам еще пригодится:\n"
      ]
    },
    {
      "cell_type": "code",
      "execution_count": null,
      "metadata": {
        "id": "5KAzvZidkBLx"
      },
      "outputs": [],
      "source": [
        "test_data = pd.read_csv(\"data/test.csv\")\n",
        "osrm_data_test = pd.read_csv(\"data/osrm_data_test.csv\")\n",
        "test_id = test_data['id']"
      ]
    },
    {
      "cell_type": "markdown",
      "metadata": {
        "id": "sdrR42JrkBLy"
      },
      "source": [
        "Перед созданием прогноза для тестовой выборки необходимо произвести все манипуляции с данными, которые мы производили с тренировочной выборкой, а именно:\n",
        "* Перевести признак pickup_datetime в формат datetime;\n",
        "* Добавить новые признаки (временные, географические, погодные и другие факторы);\n",
        "* Произвести очистку данных от пропусков;\n",
        "* Произвести кодировку категориальных признаков:\n",
        "    * Закодировать бинарные признаки;\n",
        "    * Закодировать номинальные признаки с помощью обученного на тренировочной выборке OneHotEncoder’а;\n",
        "* Сформировать матрицу наблюдений, оставив в таблице только те признаки, которые были отобраны с помощью SelectKBest;\n",
        "* Нормализовать данные с помощью обученного на тренировочной выборке MinMaxScaler’а.\n"
      ]
    },
    {
      "cell_type": "code",
      "execution_count": null,
      "metadata": {
        "id": "nqWQbqhGkBLy"
      },
      "outputs": [],
      "source": [
        "test_data['pickup_datetime']=pd.to_datetime(test_data['pickup_datetime'],format='%Y-%m-%d %H:%M:%S')\n",
        "test_data = add_datetime_features(test_data)\n",
        "test_data = add_holiday_features(test_data, holiday_data)\n",
        "test_data = add_osrm_features(test_data, osrm_data_test)\n",
        "test_data = add_geographical_features(test_data)\n",
        "test_data = add_cluster_features(test_data, kmeans)\n",
        "test_data = add_weather_features(test_data, weather_data)\n",
        "test_data = fill_null_weather_data(test_data)\n",
        "\n",
        "test_data['vendor_id'] = test_data['vendor_id'].apply(lambda x: 0 if x == 1 else 1)\n",
        "test_data['store_and_fwd_flag'] = test_data['store_and_fwd_flag'].apply(lambda x: 0 if x == 'N' else 1)\n",
        "test_data_onehot = one_hot_encoder.fit_transform(test_data[columns_to_change]).toarray()\n",
        "column_names = one_hot_encoder.get_feature_names_out(columns_to_change)\n",
        "test_data_onehot = pd.DataFrame(test_data_onehot, columns=column_names)\n",
        "\n",
        "test_data = pd.concat(\n",
        "    [test_data.reset_index(drop=True).drop(columns_to_change, axis=1), test_data_onehot],\n",
        "    axis=1\n",
        ")\n",
        "X_test = test_data[best_features]\n",
        "X_test_scaled = scaler.transform(X_test)\n",
        "print('Shape of data: {}'.format(X_test.shape))"
      ]
    },
    {
      "cell_type": "markdown",
      "metadata": {
        "id": "24JJ64T4kBLy"
      },
      "source": [
        "Только после выполнения всех этих шагов можно сделать предсказание длительности поездки для тестовой выборки. Не забудьте перевести предсказания из логарифмического масштаба в истинный, используя формулу:\n",
        "$$y_i=exp(z_i)-1$$\n",
        "\n",
        "После того, как вы сформируете предсказание длительности поездок на тестовой выборке вам необходимо будет создать submission-файл в формате csv, отправить его на платформу Kaggle и посмотреть на результирующее значение метрики RMSLE на тестовой выборке.\n",
        "\n",
        "Код для создания submission-файла:\n"
      ]
    },
    {
      "cell_type": "code",
      "execution_count": null,
      "metadata": {
        "id": "JeMAzrHHkBLy"
      },
      "outputs": [],
      "source": [
        "# ваш код здесь\n",
        "submission = pd.DataFrame({'id': test_id, 'trip_duration': y_test_predict})\n",
        "submission.to_csv('data/submission_gb.csv', index=False)"
      ]
    },
    {
      "cell_type": "markdown",
      "metadata": {
        "id": "iU5BA_XDkBLy"
      },
      "source": [
        "### **В качестве бонуса**\n",
        "\n",
        "В завершение по ансамблевым мы предлагаем вам попробовать улучшить свое предсказание, воспользовавшись моделью экстремального градиентного бустинга (XGBoost) из библиотеки xgboost.\n",
        "\n",
        "**XGBoost** - современная модель машинного обучения, которая является продолжением идеи градиентного бустинга Фридмана. У нее есть несколько преимуществ по сравнению с классической моделью градиентного бустинга из библиотеки sklearn: повышенная производительность путем параллелизации процесса обучения, повышенное качество решения за счет усовершенствования алгоритма бустинга, меньшая склонность к переобучению и широкий функционал возможности управления параметрами модели.\n"
      ]
    },
    {
      "cell_type": "markdown",
      "metadata": {
        "id": "_FARWLbakBLy"
      },
      "source": [
        "Для ее использования необходимо для начала установить пакет xgboost:"
      ]
    },
    {
      "cell_type": "code",
      "execution_count": null,
      "metadata": {
        "id": "h8KXUhyGkBLy"
      },
      "outputs": [],
      "source": [
        "#!pip install xgboost"
      ]
    },
    {
      "cell_type": "markdown",
      "metadata": {
        "id": "urka0597kBLz"
      },
      "source": [
        "После чего модуль можно импортировать:"
      ]
    },
    {
      "cell_type": "code",
      "execution_count": null,
      "metadata": {
        "id": "kpLIalxfkBLz"
      },
      "outputs": [],
      "source": [
        "import xgboost as xgb"
      ]
    },
    {
      "cell_type": "markdown",
      "metadata": {
        "id": "CwJ80NU7kBLz"
      },
      "source": [
        "Перед обучением модели необходимо перевести наборы данных в тип данных xgboost.DMatrix:"
      ]
    },
    {
      "cell_type": "code",
      "execution_count": null,
      "metadata": {
        "id": "ehrdmZJekBLz"
      },
      "outputs": [],
      "source": [
        "# Создание матриц наблюдений в формате DMatrix\n",
        "dtrain = xgb.DMatrix(X_train_scaled, label=y_train_log, feature_names=best_features)\n",
        "dvalid = xgb.DMatrix(X_valid_scaled, label=y_valid_log, feature_names=best_features)\n",
        "dtest = xgb.DMatrix(X_test_scaled, feature_names=best_features)"
      ]
    },
    {
      "cell_type": "markdown",
      "metadata": {
        "id": "kW0LAucxkBLz"
      },
      "source": [
        "Обучение модели XGBoost происходит с помощью метода train, в который необходимо передать параметры модели, набор данных, количество базовых моделей в ансамбле, а также дополнительные параметры:\n"
      ]
    },
    {
      "cell_type": "code",
      "execution_count": null,
      "metadata": {
        "id": "u0uDs1YakBLz"
      },
      "outputs": [],
      "source": [
        "# Гиперпараметры модели\n",
        "xgb_pars = {'min_child_weight': 20, 'eta': 0.1, 'colsample_bytree': 0.9,\n",
        "            'max_depth': 6, 'subsample': 0.9, 'lambda': 1, 'nthread': -1,\n",
        "            'booster' : 'gbtree', 'eval_metric': 'rmse', 'objective': 'reg:squarederror'\n",
        "           }\n",
        "# Тренировочная и валидационная выборка\n",
        "watchlist = [(dtrain, 'train'), (dvalid, 'valid')]\n",
        "# Обучаем модель XGBoost\n",
        "model = xgb.train(\n",
        "    params=xgb_pars, #гиперпараметры модели\n",
        "    dtrain=dtrain, #обучающая выборка\n",
        "    num_boost_round=300, #количество моделей в ансамбле\n",
        "    evals=watchlist, #выборки, на которых считается матрица\n",
        "    early_stopping_rounds=20, #раняя остановка\n",
        "    maximize=False, #смена поиска максимума на минимум\n",
        "    verbose_eval=10 #шаг, через который происходит отображение метрик\n",
        ")"
      ]
    },
    {
      "cell_type": "markdown",
      "metadata": {
        "id": "nDiMljt5kBLz"
      },
      "source": [
        "Предсказать целевой признак на новых данных можно с помощью метода predict():"
      ]
    },
    {
      "cell_type": "code",
      "execution_count": null,
      "metadata": {
        "id": "XYBTeO7UkBLz"
      },
      "outputs": [],
      "source": [
        "#Делаем предсказание на тестовом наборе данных\n",
        "y_test_predict = np.exp(model.predict(dtest)) - 1\n",
        "print('Modeling RMSLE %.5f' % model.best_score)"
      ]
    },
    {
      "cell_type": "markdown",
      "metadata": {
        "id": "jgBn4xmikBLz"
      },
      "source": [
        "Также как и все модели, основанные на использовании деревьев решений в качестве базовых моделей, XGBoost имеет возможность определения коэффициентов важности факторов. Более того, в библиотеку встроена возможность визуализации важность факторов в виде столбчатой диаграммы. За эту возможность отвечает функция plot_importance():\n"
      ]
    },
    {
      "cell_type": "code",
      "execution_count": null,
      "metadata": {
        "id": "FEvlaqz4kBLz"
      },
      "outputs": [],
      "source": [
        "fig, ax = plt.subplots(figsize = (15,15))\n",
        "xgb.plot_importance(model, ax = ax, height=0.5)"
      ]
    }
  ],
  "metadata": {
    "kernelspec": {
      "display_name": "Python 3 (ipykernel)",
      "language": "python",
      "name": "python3"
    },
    "language_info": {
      "codemirror_mode": {
        "name": "ipython",
        "version": 3
      },
      "file_extension": ".py",
      "mimetype": "text/x-python",
      "name": "python",
      "nbconvert_exporter": "python",
      "pygments_lexer": "ipython3",
      "version": "3.9.7"
    },
    "colab": {
      "provenance": []
    }
  },
  "nbformat": 4,
  "nbformat_minor": 0
}