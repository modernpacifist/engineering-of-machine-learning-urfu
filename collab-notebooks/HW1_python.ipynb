{
  "nbformat": 4,
  "nbformat_minor": 0,
  "metadata": {
    "colab": {
      "provenance": [],
      "collapsed_sections": []
    },
    "kernelspec": {
      "name": "python3",
      "display_name": "Python 3"
    },
    "language_info": {
      "name": "python"
    }
  },
  "cells": [
    {
      "cell_type": "code",
      "execution_count": null,
      "metadata": {
        "colab": {
          "base_uri": "https://localhost:8080/"
        },
        "id": "_aYjJdIiCXqZ",
        "outputId": "f2f328ae-9b92-4b4b-8e9d-6806f1ad18a9"
      },
      "outputs": [
        {
          "output_type": "stream",
          "name": "stdout",
          "text": [
            "Python 3.7.15\n"
          ]
        }
      ],
      "source": [
        "!python3 -V"
      ]
    },
    {
      "cell_type": "markdown",
      "source": [
        "****\n",
        "**Задание 1.**\n",
        "\n",
        "Студент магистратуры обычно спит ночью XX часов и устраивает себе днем тихий час на YY минут. Определите, сколько всего студент спит в сутки (если вообще спит). Программа должна принимать значения XX и YY из стандартного потока ввода (функция input), результат надо выводить в стандартный поток вывода (функция print).\n",
        "\n",
        "\n",
        "```\n",
        "Sample Input 1:\n",
        "7\n",
        "30\n",
        "Sample Output 1:\n",
        "450\n",
        "\n",
        "Sample Input 2:\n",
        "0\n",
        "42\n",
        "Sample Output 2:\n",
        "42\n",
        "```\n"
      ],
      "metadata": {
        "id": "7a_LLXLjCeMS"
      }
    },
    {
      "cell_type": "code",
      "source": [
        "#Решение задания 1\n",
        "XX = int(input(\"Input quantity of night hours sleep: \"))\n",
        "YY = int(input(\"Input quantity of day minutes nap: \"))\n",
        "\n",
        "overall_sleep_minutes = XX * 60 + YY\n",
        "print(overall_sleep_minutes)"
      ],
      "metadata": {
        "id": "gWyFoGkrDGhi",
        "outputId": "053028e9-a8c6-42f9-e273-950d5879555c",
        "colab": {
          "base_uri": "https://localhost:8080/"
        }
      },
      "execution_count": null,
      "outputs": [
        {
          "output_type": "stream",
          "name": "stdout",
          "text": [
            "Input quantity of night hours sleep:7\n",
            "Input quantity of day minutes nap:30\n",
            "450\n"
          ]
        }
      ]
    },
    {
      "cell_type": "markdown",
      "source": [
        "****\n",
        "**Задание 2**\n",
        "\n",
        "Студент МФТИ каждый день ложится спать ровно в полночь и недавно узнал, что оптимальное время для его сна составляет XX минут. Он хочет поставить себе будильник так, чтобы он прозвенел ровно через XX минут после полуночи, однако для этого необходимо указать время сигнала в формате часы, минуты. Помогите студенту определить, на какое время завести будильник.\n",
        "Часы и минуты в выводе программы должны располагаться на разных строках\n",
        "\n",
        "```\n",
        "Sample Input 1:\n",
        "480\n",
        "Sample Output 1:\n",
        "8\n",
        "0\n",
        "\n",
        "Sample Input 2:\n",
        "512\n",
        "Sample Output 2:\n",
        "8\n",
        "32\n",
        "```\n"
      ],
      "metadata": {
        "id": "v_npn-j3C8jg"
      }
    },
    {
      "cell_type": "code",
      "source": [
        "#Решение задания 2\n",
        "quantity_of_minutes = int(input(\"Input quantity of minutes: \"))\n",
        "\n",
        "full_hours = quantity_of_minutes // 60\n",
        "rest_minutes = quantity_of_minutes - (full_hours * 60)\n",
        "print(full_hours)\n",
        "print(rest_minutes)"
      ],
      "metadata": {
        "id": "6jRyzamrCall",
        "outputId": "365009b2-f48f-4226-a5f2-9b33b79dae59",
        "colab": {
          "base_uri": "https://localhost:8080/"
        }
      },
      "execution_count": null,
      "outputs": [
        {
          "output_type": "stream",
          "name": "stdout",
          "text": [
            "Input quantity of minutes:512\n",
            "8\n",
            "32\n"
          ]
        }
      ]
    },
    {
      "cell_type": "markdown",
      "source": [
        "****\n",
        "**Задание 3**\n",
        "\n",
        "Студент программы “Анализ данных в медицине” узнал, что ему для сна надо XX минут. В отличие от студента МФТИ, наш студент ложится спать после полуночи в HH часов и MM минут. Помогите определить, на какое время ему поставить будильник, чтобы он прозвенел ровно через XX минут после того, как он ляжет спать.\n",
        "На стандартный ввод, каждое в своей строке, подаются значения XX, HH и MM. Гарантируется, что студент программы “Fнализ данных в медицине” должен проснуться в тот же день, что и заснуть. Программа должна выводить время, на которое нужно поставить будильник: в первой строке часы, во второй — минуты.\n",
        "\n",
        "```\n",
        "Sample Input 1:\n",
        "480\n",
        "1\n",
        "2\n",
        "Sample Output 1:\n",
        "9\n",
        "2\n",
        "Sample Input 2:\n",
        "475\n",
        "1\n",
        "55\n",
        "Sample Output 2:\n",
        "9\n",
        "50\n",
        "\n",
        "```"
      ],
      "metadata": {
        "id": "Vxj4YJbkDMu7"
      }
    },
    {
      "cell_type": "code",
      "source": [
        "#Решение задания 3\n",
        "XX = int(input(\"Input quantity of sleep minutes: \"))\n",
        "HH = int(input(\"Input quantity of hours bed time: \"))\n",
        "MM = int(input(\"Input quantity of minutes bed timep : \"))\n",
        "\n",
        "total_minutes = XX + MM\n",
        "wake_up_hours = total_minutes//60\n",
        "rest_minutes = total_minutes - (wake_up_hours * 60)\n",
        "\n",
        "print(wake_up_hours + HH)\n",
        "print(rest_minutes)"
      ],
      "metadata": {
        "id": "gjcewJX3DesJ",
        "colab": {
          "base_uri": "https://localhost:8080/"
        },
        "outputId": "dff44bed-0360-4be4-a23f-c793d0a88646"
      },
      "execution_count": null,
      "outputs": [
        {
          "output_type": "stream",
          "name": "stdout",
          "text": [
            "Input quantity of sleep minutes: 475\n",
            "Input quantity of hours bed time: 1\n",
            "Input quantity of minutes bed timep : 55\n",
            "9\n",
            "50\n"
          ]
        }
      ]
    },
    {
      "cell_type": "markdown",
      "source": [
        "****\n",
        "**Задание 4**\n",
        "\n",
        "Напишите программу, на вход которой подается список чисел одной строкой. Программа должна для каждого элемента этого списка вывести сумму двух его соседей. Для элементов списка, являющихся крайними, одним из соседей считается элемент, находящийся на противоположном конце этого списка. Например, если на вход подаётся список \"1 3 5 6 10\", то на выход ожидается список \"13 6 9 15 7\" (без кавычек).\n",
        "\n",
        "Если на вход пришло только одно число, надо вывести его же.\n",
        "Вывод должен содержать одну строку с числами нового списка, разделенными пробелом.\n",
        "\n",
        "\n",
        "```\n",
        "Sample Input 1:\n",
        "1 3 5 6 10\n",
        "Sample Output 1:\n",
        "13 6 9 15 7\n",
        "Sample Input 2:\n",
        "10\n",
        "Sample Output 2:\n",
        "10\n",
        "```\n"
      ],
      "metadata": {
        "id": "7g7d57UYDgj5"
      }
    },
    {
      "cell_type": "code",
      "source": [
        "#Решение задания 4\n",
        "# num_list = list(map(int, input(\"Input numbers separated by space: \").split(\" \")))\n",
        "smpl_input_1 = [1, 3, 5, 6, 10]\n",
        "smpl_input_2 = [10]\n",
        "\n"
      ],
      "metadata": {
        "id": "lZuiLojnDpDI",
        "colab": {
          "base_uri": "https://localhost:8080/"
        },
        "outputId": "e46e1674-431f-41c9-b8d3-c777d0b12a1a"
      },
      "execution_count": 70,
      "outputs": [
        {
          "name": "stdout",
          "output_type": "stream",
          "text": [
            "Input numbers separated by space: 1 2 3 4\n"
          ]
        }
      ]
    },
    {
      "cell_type": "markdown",
      "source": [
        "****\n",
        "**Задание 5**\n",
        "\n",
        "Напишите программу, которая принимает на вход список чисел в одной строке и выводит на экран в одну строку значения, которые встречаются в нём более одного раза.\n",
        "\n",
        "Для решения задачи может пригодиться метод sort списка (а может и не пригодиться).\n",
        "\n",
        "Выводимые числа не должны повторяться, порядок их вывода может быть произвольным. Разделитель чисел - пробел\n"
      ],
      "metadata": {
        "id": "C9DdzDwdDvlG"
      }
    },
    {
      "cell_type": "code",
      "source": [
        "#Решение задания 5\n",
        "from collections import Counter\n",
        "\n",
        "num_list = list(map(int, input(\"Input numbers separated by space: \").split(\" \")))\n",
        "\n",
        "occurences_dict = Counter(num_list)\n",
        "\n",
        "res = \"\"\n",
        "for i in occurences_dict.items():\n",
        "    if i[1] > 1:\n",
        "        res += f\"{i[0]} \"\n",
        "\n",
        "print(res)"
      ],
      "metadata": {
        "id": "7DJQuzktD8xZ",
        "colab": {
          "base_uri": "https://localhost:8080/"
        },
        "outputId": "79088805-cea4-41eb-fae1-447e6631853b"
      },
      "execution_count": 37,
      "outputs": [
        {
          "output_type": "stream",
          "name": "stdout",
          "text": [
            "Input numbers separated by space: 1 1 2 2 3 3 4 5 12312 12312\n",
            "1 2 3 12312 \n"
          ]
        }
      ]
    },
    {
      "cell_type": "markdown",
      "source": [
        "****\n",
        "**Задание 6**\n",
        "\n",
        "GC-состав является важной характеристикой геномных последовательностей и определяется как процентное соотношение суммы всех гуанинов и цитозинов к общему числу нуклеиновых оснований в геномной последовательности.\n",
        "\n",
        "Напишите программу, которая вычисляет процентное содержание символов G (гуанин) и C (цитозин) в введенной строке (программа не должна зависеть от регистра вводимых символов).\n",
        "Например, в строке \"acggtgttat\" процентное содержание символов G и C равно 4*0.1 * 100 = 40.0, где 4 - это количество символов G и C, а 10 - это длина строки.\n",
        "\n",
        "```\n",
        "Sample Input:\n",
        "acggtgttat\n",
        "Sample Output:\n",
        "40.0\n",
        "```\n"
      ],
      "metadata": {
        "id": "g1S48qv6EHjC"
      }
    },
    {
      "cell_type": "code",
      "source": [
        "#Решение задания 6\n",
        "input_genome = input()\n",
        "\n",
        "gc_counter = 0\n",
        "for i in input_genome:\n",
        "    if i.lower() in ['g', 'c']:\n",
        "        gc_counter += 1\n",
        "\n",
        "res = gc_counter/len(input_genome) * 100\n",
        "print(res)"
      ],
      "metadata": {
        "id": "UmyyLKDlEMAb",
        "colab": {
          "base_uri": "https://localhost:8080/"
        },
        "outputId": "418d8c28-17d2-465e-d7ee-78b95eb44a01"
      },
      "execution_count": null,
      "outputs": [
        {
          "output_type": "stream",
          "name": "stdout",
          "text": [
            "acggtgttat\n",
            "40.0\n"
          ]
        }
      ]
    },
    {
      "cell_type": "markdown",
      "source": [
        "****\n",
        "**Задание 7**\n",
        "\n",
        "Узнав, что ДНК не является случайной строкой, только что поступившие в МФТИ студенты группы аналитиков данных предложили использовать алгоритм сжатия, который сжимает повторяющиеся символы в строке.\n",
        "Кодирование осуществляется следующим образом:\n",
        "s = 'aaaabbсaa' преобразуется в 'a4b2с1a2', то есть группы одинаковых символов исходной строки заменяются на этот символ и количество его повторений в этой позиции строки.\n",
        "\n",
        "Напишите программу, которая считывает строку, кодирует её предложенным алгоритмом и выводит закодированную последовательность на стандартный вывод. Кодирование должно учитывать регистр символов.\n",
        "\n",
        "\n",
        "```\n",
        "Sample Input 1:\n",
        "aaaabbcaa\n",
        "Sample Output 1:\n",
        "a4b2c1a2\n",
        "Sample Input 2:\n",
        "abc\n",
        "Sample Output 2:\n",
        "a1b1c1\n",
        "Sample Input 3:\n",
        "AaAaBBBbbbCCc\n",
        "Sample Output 3:\n",
        "A1a1A1a1B3b3C2c1\n",
        "```\n"
      ],
      "metadata": {
        "id": "Hm7d16upETUx"
      }
    },
    {
      "cell_type": "code",
      "source": [
        "#Решение задания 7\n",
        "input_dna = input()\n",
        "\n",
        "res = \"\"\n",
        "counter = 0\n",
        "for index, current_char in enumerate(input_dna):\n",
        "    counter += 1\n",
        "    if index == len(input_dna) - 1:\n",
        "        res += f\"{current_char}{counter}\"\n",
        "        break\n",
        "\n",
        "    if input_dna[index+1] != current_char:\n",
        "        res += f\"{current_char}{counter}\"\n",
        "        counter = 0\n",
        "        continue\n",
        "\n",
        "print(res)"
      ],
      "metadata": {
        "id": "Gu7FS9kAEe2Q",
        "colab": {
          "base_uri": "https://localhost:8080/"
        },
        "outputId": "3adfe151-17bb-4d95-dd54-918d7532b388"
      },
      "execution_count": 61,
      "outputs": [
        {
          "output_type": "stream",
          "name": "stdout",
          "text": [
            "a4b2c1a2\n"
          ]
        }
      ]
    },
    {
      "cell_type": "markdown",
      "source": [
        "****\n",
        "**Задание 8**\n",
        "\n",
        "Напишите программу, которая считывает с консоли числа (по одному в строке) до тех пор, пока сумма введённых чисел не будет равна 0 и сразу после этого выводит сумму квадратов всех считанных чисел.\n",
        "Гарантируется, что в какой-то момент сумма введённых чисел окажется равной 0, после этого считывание продолжать не нужно.\n",
        "В примере мы считываем числа 1, -3, 5, -6, -10, 13; в этот момент замечаем, что сумма этих чисел равна нулю и выводим сумму их квадратов, не обращая внимания на то, что остались ещё не прочитанные значения.\n",
        "\n",
        "\n",
        "```\n",
        "Sample Input:\n",
        "1\n",
        "-3\n",
        "5\n",
        "-6\n",
        "-10\n",
        "13\n",
        "4\n",
        "-8\n",
        "Sample Output:\n",
        "340\n",
        "```"
      ],
      "metadata": {
        "id": "Ky16NUTNEpr-"
      }
    },
    {
      "cell_type": "code",
      "source": [
        "#Решение задания 8\n",
        "n = int(input())\n",
        "res = n\n",
        "square_list = [n**2]\n",
        "while res != 0:\n",
        "   n = int(input())\n",
        "   res += n\n",
        "   square_list.append(n**2)\n",
        "\n",
        "print(sum(square_list))"
      ],
      "metadata": {
        "id": "gSs8AHixFMwU",
        "colab": {
          "base_uri": "https://localhost:8080/"
        },
        "outputId": "d0cebc0e-ebb5-44f5-c6fc-dd646bd5c82f"
      },
      "execution_count": 38,
      "outputs": [
        {
          "output_type": "stream",
          "name": "stdout",
          "text": [
            "1\n",
            "-3\n",
            "5\n",
            "-6\n",
            "10\n",
            "13\n",
            "-10\n",
            "-10\n",
            "540\n"
          ]
        }
      ]
    },
    {
      "cell_type": "markdown",
      "source": [
        "****\n",
        "**Задание 9**\n",
        "\n",
        "Самое время использовать математику. Вы поднимаетесь по лестнице. Количество ступенек в ней = n.\n",
        "\n",
        "На каждом этапе вы можете переступить либо одну, либо две ступеньки. Как много уникальных способов добраться до верха существует?\n",
        "\n",
        "*1<=n<=45*\n",
        "\n",
        "\n",
        "\n",
        "```\n",
        "Input: n = 2\n",
        "Output: 2\n",
        "Explanation: There are two ways to climb to the top.\n",
        "1. 1 step + 1 step\n",
        "2. 2 steps\n",
        "\n",
        "Input: n = 3\n",
        "Output: 3\n",
        "Explanation: There are three ways to climb to the top.\n",
        "1. 1 step + 1 step + 1 step\n",
        "2. 1 step + 2 steps\n",
        "3. 2 steps + 1 step\n",
        "```\n",
        "\n"
      ],
      "metadata": {
        "id": "bPeSnwt4F73y"
      }
    },
    {
      "cell_type": "code",
      "source": [
        "#Решение задания 9\n"
      ],
      "metadata": {
        "id": "HNhjOQZ7GdI5"
      },
      "execution_count": null,
      "outputs": []
    },
    {
      "cell_type": "markdown",
      "source": [
        "****\n",
        "**Задание 10**\n",
        "\n",
        "Напишите функцию, чтобы найти самый длинный префикс в листе, составленном из строк.\n",
        "\n",
        "Если общего префикса нет - верните пустую строку.\n",
        "\n",
        "\n",
        "\n",
        "```\n",
        "Input 1: strs = [\"flower\",\"flow\",\"flight\"]\n",
        "Output 1: \"fl\"\n",
        "\n",
        "Input 2: strs = [\"dog\",\"racecar\",\"car\"]\n",
        "Output 2: \"\"\n",
        "Explanation: There is no common prefix among the input strings.\n",
        "```\n",
        "\n"
      ],
      "metadata": {
        "id": "T8A0EHJTG03s"
      }
    },
    {
      "cell_type": "code",
      "source": [
        "#Решение задания 10\n",
        "import os\n",
        "\n",
        "def find_prefix(word_list):\n",
        "    return os.path.commonprefix(word_list)\n",
        "\n",
        "listA = [\"flower\", \"flow\", \"flight\"]\n",
        "listB = [\"dog\", \"racecar\", \"car\"]\n",
        "\n",
        "print(find_prefix(listA))\n",
        "print(find_prefix(listB))"
      ],
      "metadata": {
        "id": "T-TeO2QoHIMR",
        "colab": {
          "base_uri": "https://localhost:8080/"
        },
        "outputId": "c0bded3b-b96f-463a-d5ae-9a2755f7bac6"
      },
      "execution_count": 69,
      "outputs": [
        {
          "output_type": "stream",
          "name": "stdout",
          "text": [
            "fl\n",
            "\n"
          ]
        }
      ]
    }
  ]
}