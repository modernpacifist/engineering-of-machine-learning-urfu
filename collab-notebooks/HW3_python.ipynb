{
  "nbformat": 4,
  "nbformat_minor": 0,
  "metadata": {
    "kernelspec": {
      "display_name": "Python 3",
      "language": "python",
      "name": "python3"
    },
    "language_info": {
      "codemirror_mode": {
        "name": "ipython",
        "version": 3
      },
      "file_extension": ".py",
      "mimetype": "text/x-python",
      "name": "python",
      "nbconvert_exporter": "python",
      "pygments_lexer": "ipython3",
      "version": "3.7.3"
    },
    "colab": {
      "provenance": [],
      "collapsed_sections": []
    }
  },
  "cells": [
    {
      "cell_type": "markdown",
      "source": [
        "#Reversed integer"
      ],
      "metadata": {
        "id": "2GJcyIoN4arc"
      }
    },
    {
      "cell_type": "markdown",
      "source": [
        "Вам дано число целого типа ``a``. Вам необходимо написать функцию, которая принимает это число на вход, а на выход выдает целое число, цифры в котором записаны в обратном порядке.\n",
        "\n",
        "\n",
        "**Sample Input 1:**\n",
        "\n",
        "``\n",
        "a = 123\n",
        "``\n",
        "\n",
        "**Sample Output 1:**\n",
        "\n",
        "``321``\n",
        "\n",
        "**Sample Input 2:**\n",
        "\n",
        "``\n",
        "a = 120\n",
        "``\n",
        "\n",
        "**Sample Output 2:**\n",
        "\n",
        "``21``\n",
        "\n",
        "**Sample Input 3:**\n",
        "\n",
        "``\n",
        "-123\n",
        "``\n",
        "\n",
        "**Sample Output 3:**\n",
        "\n",
        "``321``"
      ],
      "metadata": {
        "id": "nDpM0sXf4dv5"
      }
    },
    {
      "cell_type": "code",
      "source": [
        "def reverse_number(a):\n",
        "    return int((str(abs(a))[::-1]))\n",
        "\n",
        "print(reverse_number(123))\n",
        "print(reverse_number(120))\n",
        "print(reverse_number(-123))\n",
        "print(reverse_number(-12123413))\n",
        "print(reverse_number(12123413))"
      ],
      "metadata": {
        "id": "zy1TNSPU6ARi",
        "colab": {
          "base_uri": "https://localhost:8080/"
        },
        "outputId": "64c1ef7b-487e-41c5-b016-8239af4cf392"
      },
      "execution_count": null,
      "outputs": [
        {
          "output_type": "stream",
          "name": "stdout",
          "text": [
            "321\n",
            "21\n",
            "321\n",
            "31432121\n",
            "31432121\n"
          ]
        }
      ]
    },
    {
      "cell_type": "markdown",
      "source": [
        "#Выколотый квадрат\n"
      ],
      "metadata": {
        "id": "GT_lUMYz5YfQ"
      }
    },
    {
      "cell_type": "markdown",
      "source": [
        "Напишите функцию, которая принимает единственное число ``n: int``. Это число определяет длину стороны квадрата. Функция должна нарисовать квадрат из звездочек, при этом звездочки должны быть только на ребрах квадрата, центр должен быть выколот.\n",
        "\n",
        "**Sample Input 1:**\n",
        "\n",
        "``\n",
        "n = 5\n",
        "``\n",
        "\n",
        "**Sample Output 1:**\n",
        "```\n",
        "* * * * *\n",
        "*       *\n",
        "*       *\n",
        "*       *\n",
        "* * * * *\n",
        "\n",
        "```"
      ],
      "metadata": {
        "id": "fHOx6Dnu5cEQ"
      }
    },
    {
      "cell_type": "code",
      "source": [
        "def make_square(n):\n",
        "    for i in range(n):\n",
        "        for j in range(n):\n",
        "            if j < 1 or i < 1 or j == n - 1 or i == n - 1:\n",
        "                print('*', end=' ')\n",
        "            else:\n",
        "                print(' ', end=' ')\n",
        "        print()\n",
        "\n",
        "\n",
        "make_square(5)\n",
        "make_square(10)\n",
        "make_square(15)"
      ],
      "metadata": {
        "id": "JUMn7OVK5_r0",
        "colab": {
          "base_uri": "https://localhost:8080/"
        },
        "outputId": "9f574f87-b04d-421a-c81a-161a9e7b9d89"
      },
      "execution_count": null,
      "outputs": [
        {
          "output_type": "stream",
          "name": "stdout",
          "text": [
            "* * * * * \n",
            "*       * \n",
            "*       * \n",
            "*       * \n",
            "* * * * * \n",
            "* * * * * * * * * * \n",
            "*                 * \n",
            "*                 * \n",
            "*                 * \n",
            "*                 * \n",
            "*                 * \n",
            "*                 * \n",
            "*                 * \n",
            "*                 * \n",
            "* * * * * * * * * * \n",
            "* * * * * * * * * * * * * * * \n",
            "*                           * \n",
            "*                           * \n",
            "*                           * \n",
            "*                           * \n",
            "*                           * \n",
            "*                           * \n",
            "*                           * \n",
            "*                           * \n",
            "*                           * \n",
            "*                           * \n",
            "*                           * \n",
            "*                           * \n",
            "*                           * \n",
            "* * * * * * * * * * * * * * * \n"
          ]
        }
      ]
    },
    {
      "cell_type": "markdown",
      "source": [
        "#Пермутации"
      ],
      "metadata": {
        "id": "8oZaq3fE6f79"
      }
    },
    {
      "cell_type": "markdown",
      "source": [
        "Вам дан массив с целыми числами ``nums``. Напишите функцию, которая принимает на вход данный массив и возвращает все возможные пермутации с данными числами. Возвращать массивы можно в любом порядке.\n",
        "\n",
        "**Sample Input 1:**\n",
        "\n",
        "``\n",
        "nums = [1,2,3]\n",
        "``\n",
        "\n",
        "**Sample Output 1:**\n",
        "\n",
        "``[[1,2,3],[1,3,2],[2,1,3],[2,3,1],[3,1,2],[3,2,1]]``\n",
        "\n",
        "**Sample Input 2:**\n",
        "\n",
        "``\n",
        "nums = [0,1]\n",
        "``\n",
        "\n",
        "**Sample Output 2:**\n",
        "\n",
        "``[[0,1],[1,0]]``\n",
        "\n",
        "**Sample Input 3:**\n",
        "\n",
        "``\n",
        "nums = [1]\n",
        "``\n",
        "\n",
        "**Sample Output 3:**\n",
        "\n",
        "``[[1]]``"
      ],
      "metadata": {
        "id": "ylJnUpIk6jrX"
      }
    },
    {
      "cell_type": "code",
      "source": [
        "import itertools\n",
        "\n",
        "def permutations(a):\n",
        "    return [list(i) for i in itertools.permutations(a)]\n",
        "\n",
        "\n",
        "print(permutations([1, 2, 3]))\n",
        "print(permutations([0, 1]))\n",
        "print(permutations([1]))\n",
        "print(permutations([23, 123, 1241, 2314, 231]))"
      ],
      "metadata": {
        "id": "AzhJABzn7GYR",
        "colab": {
          "base_uri": "https://localhost:8080/"
        },
        "outputId": "d06388df-df41-49a8-dfb0-345b25be92ce"
      },
      "execution_count": 8,
      "outputs": [
        {
          "output_type": "stream",
          "name": "stdout",
          "text": [
            "[[1, 2, 3], [1, 3, 2], [2, 1, 3], [2, 3, 1], [3, 1, 2], [3, 2, 1]]\n",
            "[[0, 1], [1, 0]]\n",
            "[[1]]\n",
            "[[23, 123, 1241, 2314, 231], [23, 123, 1241, 231, 2314], [23, 123, 2314, 1241, 231], [23, 123, 2314, 231, 1241], [23, 123, 231, 1241, 2314], [23, 123, 231, 2314, 1241], [23, 1241, 123, 2314, 231], [23, 1241, 123, 231, 2314], [23, 1241, 2314, 123, 231], [23, 1241, 2314, 231, 123], [23, 1241, 231, 123, 2314], [23, 1241, 231, 2314, 123], [23, 2314, 123, 1241, 231], [23, 2314, 123, 231, 1241], [23, 2314, 1241, 123, 231], [23, 2314, 1241, 231, 123], [23, 2314, 231, 123, 1241], [23, 2314, 231, 1241, 123], [23, 231, 123, 1241, 2314], [23, 231, 123, 2314, 1241], [23, 231, 1241, 123, 2314], [23, 231, 1241, 2314, 123], [23, 231, 2314, 123, 1241], [23, 231, 2314, 1241, 123], [123, 23, 1241, 2314, 231], [123, 23, 1241, 231, 2314], [123, 23, 2314, 1241, 231], [123, 23, 2314, 231, 1241], [123, 23, 231, 1241, 2314], [123, 23, 231, 2314, 1241], [123, 1241, 23, 2314, 231], [123, 1241, 23, 231, 2314], [123, 1241, 2314, 23, 231], [123, 1241, 2314, 231, 23], [123, 1241, 231, 23, 2314], [123, 1241, 231, 2314, 23], [123, 2314, 23, 1241, 231], [123, 2314, 23, 231, 1241], [123, 2314, 1241, 23, 231], [123, 2314, 1241, 231, 23], [123, 2314, 231, 23, 1241], [123, 2314, 231, 1241, 23], [123, 231, 23, 1241, 2314], [123, 231, 23, 2314, 1241], [123, 231, 1241, 23, 2314], [123, 231, 1241, 2314, 23], [123, 231, 2314, 23, 1241], [123, 231, 2314, 1241, 23], [1241, 23, 123, 2314, 231], [1241, 23, 123, 231, 2314], [1241, 23, 2314, 123, 231], [1241, 23, 2314, 231, 123], [1241, 23, 231, 123, 2314], [1241, 23, 231, 2314, 123], [1241, 123, 23, 2314, 231], [1241, 123, 23, 231, 2314], [1241, 123, 2314, 23, 231], [1241, 123, 2314, 231, 23], [1241, 123, 231, 23, 2314], [1241, 123, 231, 2314, 23], [1241, 2314, 23, 123, 231], [1241, 2314, 23, 231, 123], [1241, 2314, 123, 23, 231], [1241, 2314, 123, 231, 23], [1241, 2314, 231, 23, 123], [1241, 2314, 231, 123, 23], [1241, 231, 23, 123, 2314], [1241, 231, 23, 2314, 123], [1241, 231, 123, 23, 2314], [1241, 231, 123, 2314, 23], [1241, 231, 2314, 23, 123], [1241, 231, 2314, 123, 23], [2314, 23, 123, 1241, 231], [2314, 23, 123, 231, 1241], [2314, 23, 1241, 123, 231], [2314, 23, 1241, 231, 123], [2314, 23, 231, 123, 1241], [2314, 23, 231, 1241, 123], [2314, 123, 23, 1241, 231], [2314, 123, 23, 231, 1241], [2314, 123, 1241, 23, 231], [2314, 123, 1241, 231, 23], [2314, 123, 231, 23, 1241], [2314, 123, 231, 1241, 23], [2314, 1241, 23, 123, 231], [2314, 1241, 23, 231, 123], [2314, 1241, 123, 23, 231], [2314, 1241, 123, 231, 23], [2314, 1241, 231, 23, 123], [2314, 1241, 231, 123, 23], [2314, 231, 23, 123, 1241], [2314, 231, 23, 1241, 123], [2314, 231, 123, 23, 1241], [2314, 231, 123, 1241, 23], [2314, 231, 1241, 23, 123], [2314, 231, 1241, 123, 23], [231, 23, 123, 1241, 2314], [231, 23, 123, 2314, 1241], [231, 23, 1241, 123, 2314], [231, 23, 1241, 2314, 123], [231, 23, 2314, 123, 1241], [231, 23, 2314, 1241, 123], [231, 123, 23, 1241, 2314], [231, 123, 23, 2314, 1241], [231, 123, 1241, 23, 2314], [231, 123, 1241, 2314, 23], [231, 123, 2314, 23, 1241], [231, 123, 2314, 1241, 23], [231, 1241, 23, 123, 2314], [231, 1241, 23, 2314, 123], [231, 1241, 123, 23, 2314], [231, 1241, 123, 2314, 23], [231, 1241, 2314, 23, 123], [231, 1241, 2314, 123, 23], [231, 2314, 23, 123, 1241], [231, 2314, 23, 1241, 123], [231, 2314, 123, 23, 1241], [231, 2314, 123, 1241, 23], [231, 2314, 1241, 23, 123], [231, 2314, 1241, 123, 23]]\n"
          ]
        }
      ]
    },
    {
      "cell_type": "markdown",
      "metadata": {
        "id": "MDEu6tZQYATy"
      },
      "source": [
        "### Почти двойной факториал\n",
        "Дано натуральное $N \\leqslant 100$.  Выведите произведение всех чётных натуральных чисел, не превосходящих $N$."
      ]
    },
    {
      "cell_type": "code",
      "source": [
        "def almost_double_factorial(n):\n",
        "    if n <= 1:\n",
        "        return 1\n",
        "    if n % 2 == 1:\n",
        "        n -= 1\n",
        "    return n * almost_double_factorial(n - 1)\n",
        "\n",
        "print(almost_double_factorial(5))\n",
        "print(almost_double_factorial(6))\n",
        "print(almost_double_factorial(7))\n",
        "print(almost_double_factorial(8))\n",
        "print(almost_double_factorial(25))"
      ],
      "metadata": {
        "id": "fjCKZc4Q6aId",
        "colab": {
          "base_uri": "https://localhost:8080/"
        },
        "outputId": "84472c60-5800-4636-f527-681ff5ec81d0"
      },
      "execution_count": 30,
      "outputs": [
        {
          "output_type": "stream",
          "name": "stdout",
          "text": [
            "8\n",
            "48\n",
            "48\n",
            "384\n",
            "1961990553600\n"
          ]
        }
      ]
    },
    {
      "cell_type": "code",
      "metadata": {
        "id": "5GgcNVy1YAT0"
      },
      "source": [
        "N = 25\n",
        "#YOUR CODE\n",
        "N_double_fact = almost_double_factorial(N)\n",
        "\n",
        "assert N_double_fact == 1961990553600, \"Something is wrong! Please try again\"\n",
        "\n",
        "N = 100\n",
        "N_double_fact = almost_double_factorial(N)\n",
        "assert N_double_fact == 34243224702511976248246432895208185975118675053719198827915654463488000000000000, \"Something is wrong! Please try again\""
      ],
      "execution_count": 31,
      "outputs": []
    },
    {
      "cell_type": "markdown",
      "metadata": {
        "id": "A57_204nYAT3"
      },
      "source": [
        "### Хитрая сортировка\n",
        "\n",
        "Пусть у нас есть следующий список, в котором элементы -- tuple из строк:\n",
        "\n",
        "``items = [('one', 'two'), ('three', 'four'), ('five', 'six'), ('string', 'a')]``\n",
        "\n",
        "Мы хотим отсортировать этот список по последней букве второго элемента каждого ``tuple``, т.е. получить такой список:\n",
        "\n",
        "``sorted_items = [('string', 'a'), ('one', 'two'), ('three', 'four'), ('five', 'six')]``.\n",
        "Что нужно вставить вместо \"###\" в следующем выражении, чтобы получить сортировку?\n",
        "\n",
        "``sorted_items = sorted(items, key=lambda x: ###)``"
      ]
    },
    {
      "cell_type": "code",
      "metadata": {
        "id": "SnIk7m_8YAT4"
      },
      "source": [
        "from operator import itemgetter\n",
        "\n",
        "items = [('one', 'two'), ('three', 'four'), ('five', 'six'), ('string', 'a')]\n",
        "\n",
        "sorted_items = sorted(items, key=lambda x: x[1][-1])\n",
        "                      \n",
        "assert sorted_items == [('string', 'a'), ('one', 'two'), ('three', 'four'), ('five', 'six')], \\\n",
        "\"Something is wrong! Please try again\""
      ],
      "execution_count": 42,
      "outputs": []
    },
    {
      "cell_type": "markdown",
      "metadata": {
        "id": "f_ggknIxYAT7"
      },
      "source": [
        "### Еще строки\n",
        "\n",
        "Вашей программе на вход подаются три строки ``s, a, b``, состоящие из строчных латинских букв.\n",
        "За одну операцию вы можете заменить все вхождения строки ``a`` в строку ``s`` на строку ``b``.\n",
        "\n",
        "Например, ``s = \"abab\", a = \"ab\", b = \"ba\"``, тогда после выполнения одной операции строка ``s`` перейдет в строку ``\"baba\"``, после выполнения двух и операций – в строку ``\"bbaa\"``, и дальнейшие операции не будут изменять строку ``s``.\n",
        "\n",
        "Необходимо узнать, после какого минимального количества операций в строке ``s`` не останется вхождений строки ``a``. Если операций потребуется более 1000, выведите ``Impossible``.\n",
        "\n",
        "Выведите одно число – минимальное число операций, после применения которых в строке ``s`` не останется вхождений строки ``a``, или ``Impossible``, если операций потребуется более 1000.\n",
        "\n",
        "**Sample Input 1:**\n",
        "\n",
        "``\n",
        "ababa\n",
        "a\n",
        "b\n",
        "``\n",
        "\n",
        "**Sample Output 1:**\n",
        "\n",
        "``1``\n",
        "\n",
        "**Sample Input 2:**\n",
        "\n",
        "``ababa\n",
        "b\n",
        "a``\n",
        "\n",
        "**Sample Output 2:**\n",
        "\n",
        "``1``\n",
        "\n",
        "**Sample Input 3:**\n",
        "\n",
        "``ababa\n",
        "c\n",
        "c``\n",
        "\n",
        "**Sample Output 3:**\n",
        "\n",
        "``0``\n",
        "\n",
        "**Sample Input 4:**\n",
        "\n",
        "``ababac\n",
        "c\n",
        "c``\n",
        "\n",
        "**Sample Output 4:**\n",
        "\n",
        "``Impossible``\n"
      ]
    },
    {
      "cell_type": "code",
      "metadata": {
        "id": "JcLMmkF6YAT8",
        "colab": {
          "base_uri": "https://localhost:8080/"
        },
        "outputId": "541fd08f-4487-45b5-8c6d-cdd391a6d438"
      },
      "source": [
        "def my_func(s, a, b):\n",
        "    op_counter = 0\n",
        "\n",
        "    while a in s:\n",
        "        s = s.replace(a, b)\n",
        "        op_counter += 1\n",
        "\n",
        "        if op_counter > 1000:\n",
        "            print(\"Impossible\")\n",
        "            return\n",
        "    \n",
        "    print(op_counter)\n",
        "\n",
        "my_func(\"abab\", \"ab\", \"ba\")\n",
        "my_func(\"ababa\", \"a\", \"b\")\n",
        "my_func(\"ababa\", \"b\", \"a\")\n",
        "my_func(\"ababa\", \"c\", \"c\")\n",
        "my_func(\"ababac\", \"c\", \"c\")\n",
        "\n",
        "my_func(\"hehexd\", \"he\", \"xd\")"
      ],
      "execution_count": 58,
      "outputs": [
        {
          "output_type": "stream",
          "name": "stdout",
          "text": [
            "2\n",
            "1\n",
            "1\n",
            "0\n",
            "Impossible\n",
            "1\n"
          ]
        }
      ]
    },
    {
      "cell_type": "markdown",
      "metadata": {
        "id": "3QOrzr1_YAT_"
      },
      "source": [
        "### Создание массивов\n",
        "Дан массив $A[0,\\ldots,N-1]$. Напишите функцию, принимающую один обязательный аргумент A и один опциональный аргумент ``erase``, по умолчанию равный 1. Возвратите массив $B[0,\\ldots, N-1]$, где $B_i = A_0 + \\ldots + A_{i}$ --- массив частичных сумм массива $A$, предварительно удалив из массива $B$ все элементы, равные erase. Постарайтесь сделать это за линейное время без использования Numpy."
      ]
    },
    {
      "cell_type": "code",
      "metadata": {
        "id": "GSeVXF-xYAUA"
      },
      "source": [
        "def cumsum_and_erase(<YOUR CODE>):\n",
        "    #YOUR CODE\n",
        "    \n",
        "    B = #YOUR CODE\n",
        "    return B\n",
        "\n",
        "A = [5, 1, 4, 5, 14]\n",
        "B = cumsum_and_erase(A, erase=10)\n",
        "\n",
        "assert B == [5, 6, 15, 29], \"Something is wrong! Please try again\""
      ],
      "execution_count": null,
      "outputs": []
    },
    {
      "cell_type": "markdown",
      "metadata": {
        "id": "xvOBFjavYAUD"
      },
      "source": [
        "### Обработка текста\n",
        "Дан список текстов, слова в которых разделены пробелами (можно считать, что знаков препинания нет). Часть слов является \"мусорными\": в них присутствуют цифры и спецсимволы. Отфильтруйте такие слова из каждого текста. Используйте функции ``str.split``, ``str.isalpha``, ``str.join``, а также [генератор filter](http://pythonicway.com/python-functinal-programming)."
      ]
    },
    {
      "cell_type": "code",
      "metadata": {
        "id": "GBzS-UHZYAUE"
      },
      "source": [
        "sentences = ['1 thousand devils', 'My name is 9Pasha', 'Room #125 costs $100']\n",
        "\n",
        "def process(sentences):\n",
        "    #YOUR CODE\n",
        "    \n",
        "    result = #YOUR CODE\n",
        "    return result\n",
        "\n",
        "assert process(sentences) == ['thousand devils', 'My name is', 'Room costs'], \\\n",
        "\"Something is wrong! Please try again\""
      ],
      "execution_count": null,
      "outputs": []
    },
    {
      "cell_type": "markdown",
      "source": [
        "#Расстояние Хэмминга"
      ],
      "metadata": {
        "id": "lNCcTYSRow1j"
      }
    },
    {
      "cell_type": "markdown",
      "source": [
        "Вам даны две строки, ``a`` и ``b`` одинаковой длины. Необходимо посчитать расстояние Хэмминга между ними, которое определяется как количество символов, которые не совпадают между двумя строками в одинаковой позиции.\n",
        "\n",
        "**Sample Input 1:**\n",
        "\n",
        "```\n",
        "a = 'AGCT'\n",
        "b = 'ACGT'\n",
        "hamming(a, b)\n",
        "```\n",
        "\n",
        "**Sample Output 1:**\n",
        "\n",
        "``2``"
      ],
      "metadata": {
        "id": "8jfcOp6ckl30"
      }
    },
    {
      "cell_type": "code",
      "source": [
        "def hamming(str1, str2):\n",
        "    counter = 0\n",
        "    for i in range(len(str1)):\n",
        "        if str1[i] != str2[i]:\n",
        "            counter += 1\n",
        "    return counter\n",
        "\n",
        "assert hamming(\"AGCT\", \"ACGT\") == 2\n",
        "\n",
        "assert hamming(\"helloworld\", \"hellokorld\") == 1\n",
        "assert hamming(\"car\", \"bar\") == 1\n",
        "assert hamming(\"stringone\", \"stringtwo\") == 3"
      ],
      "metadata": {
        "id": "d_IYhoPcg3Ru"
      },
      "execution_count": 71,
      "outputs": []
    },
    {
      "cell_type": "markdown",
      "source": [
        "### Numpy"
      ],
      "metadata": {
        "id": "iA7EQgga9OB-"
      }
    },
    {
      "cell_type": "code",
      "source": [
        "import numpy as np\n",
        "import random\n",
        "import scipy.stats as sps"
      ],
      "metadata": {
        "id": "HEFAaMjP9CRh"
      },
      "execution_count": null,
      "outputs": []
    },
    {
      "cell_type": "markdown",
      "source": [
        "### Задание 1\n",
        "В первой задаче вам предлагается перемножить две квадратные матрицы двумя способами -- без использования пакета ***numpy*** и с ним."
      ],
      "metadata": {
        "id": "6Bul4Uue9Ww9"
      }
    },
    {
      "cell_type": "code",
      "source": [
        "# Для генерации матриц используем фукнцию random -- она используется для генерации случайных объектов \n",
        "# функция sample создает случайную выборку. В качестве аргумента ей передается кортеж (i,j),  \n",
        "# здесь i -- число строк, j -- число столбцов.\n",
        "a = np.random.sample((100, 100))\n",
        "b = np.random.sample((100, 100))\n",
        "\n",
        "# Выведите размерность (ранг) каждой матрицы с помощью функции ndim.\n",
        "# Используйте функцию shape, что она вывела?\n",
        "\n",
        "# ========\n",
        "# Ваш код здесь\n",
        "# ========\n",
        "print(a)\n",
        "print(b)"
      ],
      "metadata": {
        "id": "ClrydYj59XPc"
      },
      "execution_count": null,
      "outputs": []
    },
    {
      "cell_type": "code",
      "source": [
        "def mult(a, b):\n",
        "    \"\"\"  \n",
        "    a: list of \"size\" lists, each contains \"size\" floats --- первая матрица-аргумент\n",
        "    b: list of \"size\" lists, each contains \"size\" floats --- вторая матрица-аргумент\n",
        "    return c: list of \"size\" lists, each contains \"size\" floats --- матрица, являющаяся результатом умножения матриц a и b\n",
        "    \n",
        "    Функция принимает на вход две матрицы: a и b размерностью size x size\n",
        "    Возвращает матрицу их произведения a * b = c \n",
        "\n",
        "    Реализуйте умножение матриц без использования функций из пакета numpy (может помочь функция zip)\n",
        "    \"\"\"\n",
        "    pass"
      ],
      "metadata": {
        "id": "yeejqk_z9aXD"
      },
      "execution_count": null,
      "outputs": []
    },
    {
      "cell_type": "code",
      "source": [
        "def np_mult(a, b):\n",
        "    \"\"\"  \n",
        "    a: np.array[size, size]             --- первая матрица-аргумент\n",
        "    b: np.array[size, size] --- вторая матрица-аргумент\n",
        "    return c: np.array[size, size]       --- матрица, являющаяся результатом умножения матриц a и b\n",
        "    \n",
        "    Функция принимает на вход две матрицы: a и b размерностью size x size\n",
        "    Возвращает матрицу их произведения a * b = c \n",
        "\n",
        "    Реализуйте умножение матриц, используя функции из пакета numpy\n",
        "    \"\"\"\n",
        "    pass"
      ],
      "metadata": {
        "id": "ul0QaXni9cAq"
      },
      "execution_count": null,
      "outputs": []
    },
    {
      "cell_type": "code",
      "source": [
        "%%time\n",
        "# засечем время работы функции без NumPy\n",
        "M1 = mult(a, b)"
      ],
      "metadata": {
        "id": "gFdt-Kbe9gWi"
      },
      "execution_count": null,
      "outputs": []
    },
    {
      "cell_type": "code",
      "source": [
        "%%time\n",
        "# засечем время работы функции с NumPy\n",
        "M2 = np_mult(a, b)"
      ],
      "metadata": {
        "id": "F5QOtMj19h4n"
      },
      "execution_count": null,
      "outputs": []
    },
    {
      "cell_type": "code",
      "source": [
        "# проверим корректность\n",
        "assert np.allclose(np.array(M1), M2)"
      ],
      "metadata": {
        "id": "BTDTjNjk9i3s"
      },
      "execution_count": null,
      "outputs": []
    },
    {
      "cell_type": "code",
      "source": [],
      "metadata": {
        "id": "bLQ-E_mC9j6D"
      },
      "execution_count": null,
      "outputs": []
    }
  ]
}