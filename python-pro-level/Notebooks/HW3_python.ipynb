{
  "cells": [
    {
      "cell_type": "markdown",
      "id": "40e0ed0d-50b8-4e8d-9609-b73dab4172e5",
      "metadata": {
        "id": "40e0ed0d-50b8-4e8d-9609-b73dab4172e5"
      },
      "source": [
        "# Разогрев"
      ]
    },
    {
      "cell_type": "markdown",
      "id": "74094422-038c-48f2-ae6e-96897c473b4c",
      "metadata": {
        "id": "74094422-038c-48f2-ae6e-96897c473b4c"
      },
      "source": [
        "## Задание 1"
      ]
    },
    {
      "cell_type": "markdown",
      "id": "4d598c4c-9fa7-4cce-a972-352008b78691",
      "metadata": {
        "id": "4d598c4c-9fa7-4cce-a972-352008b78691"
      },
      "source": [
        "Иногда, когда нужно создавать много однотипных лямбда функций, еще удобнее будет создать функцию, которая будет их генерировать.\n",
        "\n",
        "Реализуйте функцию ``mod_checker(x, mod=0)``, которая будет **возвращать лямбда функцию** от одного аргумента ``y``, которая будет возвращать ``True``, если остаток от деления ``y`` на ``x`` равен ``mod``, и ``False`` иначе.\n",
        "\n",
        "Если в ``return`` вашей функции написано выражение, отличное от лямбда функции - задание считается проваленным\n",
        "\n",
        "**Sample:**\n",
        "\n",
        "```python\n",
        "mod_3 = mod_checker(3)\n",
        "\n",
        "print(mod_3(3)) # True\n",
        "print(mod_3(4)) # False\n",
        "\n",
        "mod_3_1 = mod_checker(3, 1)\n",
        "print(mod_3_1(4)) # True\n",
        "```"
      ]
    },
    {
      "cell_type": "code",
      "execution_count": 61,
      "id": "113b22cc-5ce8-42b5-a733-89a7411c780f",
      "metadata": {
        "id": "113b22cc-5ce8-42b5-a733-89a7411c780f",
        "colab": {
          "base_uri": "https://localhost:8080/"
        },
        "outputId": "1029d1ae-0a98-45cd-a20f-84299a84507a"
      },
      "outputs": [
        {
          "output_type": "stream",
          "name": "stdout",
          "text": [
            "True\n",
            "False\n",
            "True\n"
          ]
        }
      ],
      "source": [
        "def mod_checker(x, mod=0):\n",
        "    return lambda y: y % x == mod\n",
        "\n",
        "mod_3 = mod_checker(3)\n",
        "\n",
        "print(mod_3(3))\n",
        "print(mod_3(4))\n",
        "\n",
        "mod_3_1 = mod_checker(3, 1)\n",
        "print(mod_3_1(4))"
      ]
    },
    {
      "cell_type": "markdown",
      "id": "d46cfa4e-1517-4444-a31b-b39f96beca3e",
      "metadata": {
        "id": "d46cfa4e-1517-4444-a31b-b39f96beca3e"
      },
      "source": [
        "# Numpy"
      ]
    },
    {
      "cell_type": "code",
      "execution_count": 62,
      "id": "bec93b3e-f079-4e70-914f-6b19862fc68b",
      "metadata": {
        "id": "bec93b3e-f079-4e70-914f-6b19862fc68b"
      },
      "outputs": [],
      "source": [
        "import numpy as np"
      ]
    },
    {
      "cell_type": "markdown",
      "id": "e065e248-1900-4a4a-8c52-590ef71980b2",
      "metadata": {
        "id": "e065e248-1900-4a4a-8c52-590ef71980b2"
      },
      "source": [
        "## Задание 2\n",
        "Напишите функцию, которая принимает один аргумент - ``n``. Функция должна создать нампаевскую матрицу размером ``(n, n)`` и залить ее шахматным узором. Порядок узора не имеет значения, важен общий паттерн.\n",
        "\n",
        "**Sample:**\n",
        "```python\n",
        "chess_maze(8)\n",
        "\n",
        "[[0 1 0 1 0 1 0 1]\n",
        " [1 0 1 0 1 0 1 0]\n",
        " [0 1 0 1 0 1 0 1]\n",
        " [1 0 1 0 1 0 1 0]\n",
        " [0 1 0 1 0 1 0 1]\n",
        " [1 0 1 0 1 0 1 0]\n",
        " [0 1 0 1 0 1 0 1]\n",
        " [1 0 1 0 1 0 1 0]]\n",
        "```\n",
        "\n"
      ]
    },
    {
      "cell_type": "code",
      "execution_count": 63,
      "id": "12de4c2f-9de4-4a57-8e68-27f8125ca7e9",
      "metadata": {
        "id": "12de4c2f-9de4-4a57-8e68-27f8125ca7e9",
        "colab": {
          "base_uri": "https://localhost:8080/"
        },
        "outputId": "a94c172a-9b6a-4956-c96c-75488ee102ec"
      },
      "outputs": [
        {
          "output_type": "stream",
          "name": "stdout",
          "text": [
            "[[0 1 0 1]\n",
            " [1 0 1 0]\n",
            " [0 1 0 1]\n",
            " [1 0 1 0]]\n",
            "\n",
            "[[0 1 0 1 0 1 0 1]\n",
            " [1 0 1 0 1 0 1 0]\n",
            " [0 1 0 1 0 1 0 1]\n",
            " [1 0 1 0 1 0 1 0]\n",
            " [0 1 0 1 0 1 0 1]\n",
            " [1 0 1 0 1 0 1 0]\n",
            " [0 1 0 1 0 1 0 1]\n",
            " [1 0 1 0 1 0 1 0]]\n",
            "\n",
            "[[0 1 0 1 0 1 0 1 0 1 0 1 0 1 0 1]\n",
            " [1 0 1 0 1 0 1 0 1 0 1 0 1 0 1 0]\n",
            " [0 1 0 1 0 1 0 1 0 1 0 1 0 1 0 1]\n",
            " [1 0 1 0 1 0 1 0 1 0 1 0 1 0 1 0]\n",
            " [0 1 0 1 0 1 0 1 0 1 0 1 0 1 0 1]\n",
            " [1 0 1 0 1 0 1 0 1 0 1 0 1 0 1 0]\n",
            " [0 1 0 1 0 1 0 1 0 1 0 1 0 1 0 1]\n",
            " [1 0 1 0 1 0 1 0 1 0 1 0 1 0 1 0]\n",
            " [0 1 0 1 0 1 0 1 0 1 0 1 0 1 0 1]\n",
            " [1 0 1 0 1 0 1 0 1 0 1 0 1 0 1 0]\n",
            " [0 1 0 1 0 1 0 1 0 1 0 1 0 1 0 1]\n",
            " [1 0 1 0 1 0 1 0 1 0 1 0 1 0 1 0]\n",
            " [0 1 0 1 0 1 0 1 0 1 0 1 0 1 0 1]\n",
            " [1 0 1 0 1 0 1 0 1 0 1 0 1 0 1 0]\n",
            " [0 1 0 1 0 1 0 1 0 1 0 1 0 1 0 1]\n",
            " [1 0 1 0 1 0 1 0 1 0 1 0 1 0 1 0]]\n"
          ]
        }
      ],
      "source": [
        "def chess_maze(n):\n",
        "    res = np.zeros((n, n), int)\n",
        "    flag = True\n",
        "    for row, el in enumerate(res):\n",
        "        for element, position in enumerate(el):\n",
        "            res[row][element] = np.invert(flag)\n",
        "            flag = not flag\n",
        "        flag = not flag\n",
        "\n",
        "    return res\n",
        "\n",
        "print(chess_maze(4))\n",
        "\n",
        "print()\n",
        "\n",
        "print(chess_maze(8))\n",
        "\n",
        "print()\n",
        "\n",
        "print(chess_maze(16))"
      ]
    },
    {
      "cell_type": "markdown",
      "id": "ff71edfc-ecba-48b9-ab5e-db17021e7b30",
      "metadata": {
        "id": "ff71edfc-ecba-48b9-ab5e-db17021e7b30"
      },
      "source": [
        "## Задание 3\n",
        "Напишите функцию, которая принимает 2 аргумента ``arr`` и ``exclude_values``. ``arr`` - это одномерный нампаевский массив, в котором необходимо поменять знак всем числам (инвертировать), которые есть в массиве ``exclude_values``. Действия необходимо делать прямо в исходном массиве, не создавая копий.\n",
        "\n",
        "**Sample:**\n",
        "```python\n",
        "#Исходный вектор \n",
        "arr = np.arange(10+1)\n",
        "exclude_values = np.arange(4, 8)\n",
        " \n",
        "my_func(arr, exclude_values)\n",
        "array([ 0  1  2  3 -4 -5 -6 -7  8  9 10])\n",
        "```"
      ]
    },
    {
      "cell_type": "code",
      "execution_count": 64,
      "id": "28e738e2-a873-4e3d-bdd0-222506090674",
      "metadata": {
        "id": "28e738e2-a873-4e3d-bdd0-222506090674"
      },
      "outputs": [],
      "source": [
        "def exclude_values(arr, exclude_values):\n",
        "    for i, val in enumerate(arr):\n",
        "        if val in exclude_values:\n",
        "            arr[i] *= -1\n",
        "    return arr"
      ]
    },
    {
      "cell_type": "code",
      "source": [
        "## Задание 3\n",
        "arr = np.arange(10+1)\n",
        "values = np.arange(4, 8)\n",
        "\n",
        "print(exclude_values(arr, values))\n",
        "print()\n",
        "\n",
        "arr = np.arange(100+1)\n",
        "values = np.arange(4, 80)\n",
        "\n",
        "print(exclude_values(arr, values))\n",
        "print()\n",
        "\n",
        "arr = np.arange(25+1)\n",
        "values = np.arange(20, 40)\n",
        "\n",
        "print(exclude_values(arr, values))"
      ],
      "metadata": {
        "colab": {
          "base_uri": "https://localhost:8080/"
        },
        "id": "4PnLMjY22jor",
        "outputId": "702f1755-4b26-4dab-fd47-9c277b71577f"
      },
      "id": "4PnLMjY22jor",
      "execution_count": 65,
      "outputs": [
        {
          "output_type": "stream",
          "name": "stdout",
          "text": [
            "[ 0  1  2  3 -4 -5 -6 -7  8  9 10]\n",
            "\n",
            "[  0   1   2   3  -4  -5  -6  -7  -8  -9 -10 -11 -12 -13 -14 -15 -16 -17\n",
            " -18 -19 -20 -21 -22 -23 -24 -25 -26 -27 -28 -29 -30 -31 -32 -33 -34 -35\n",
            " -36 -37 -38 -39 -40 -41 -42 -43 -44 -45 -46 -47 -48 -49 -50 -51 -52 -53\n",
            " -54 -55 -56 -57 -58 -59 -60 -61 -62 -63 -64 -65 -66 -67 -68 -69 -70 -71\n",
            " -72 -73 -74 -75 -76 -77 -78 -79  80  81  82  83  84  85  86  87  88  89\n",
            "  90  91  92  93  94  95  96  97  98  99 100]\n",
            "\n",
            "[  0   1   2   3   4   5   6   7   8   9  10  11  12  13  14  15  16  17\n",
            "  18  19 -20 -21 -22 -23 -24 -25]\n"
          ]
        }
      ]
    },
    {
      "cell_type": "markdown",
      "id": "50fd92a7-30b5-42a1-aed4-a222132496cd",
      "metadata": {
        "id": "50fd92a7-30b5-42a1-aed4-a222132496cd"
      },
      "source": [
        "## Задание 4\n",
        "Напишите функцию, которая принимает одномерный положительный нампаевский массив и минимум 4 раза выводит на экран (функция ``print``) этот же массив, в котором у элементов оставлена только целая часть. Все >= 4 раза функция должна использовать разные методы для извлечения целой части.\n",
        "\n",
        "**Sample:**\n",
        "```python\n",
        "#Исходный вектор \n",
        "arr = np.random.uniform(low=10, high=100,size=20)\n",
        "#Исходный вектор arr:\n",
        "arr\n",
        "[99.54707368 49.26237526 80.50565073 10.10998238 16.39378916 60.64633657\n",
        " 25.49637622 31.06574268 94.48636127 73.41204506 75.70638137 70.43830146\n",
        " 72.28607422 40.59319738 57.85802554 35.39428061 55.25707514 48.00020145\n",
        " 38.39449991 26.19085017]\n",
        " \n",
        "my_func(arr)\n",
        "\n",
        "[99. 49. 80. 10. 16. 60. 25. 31. 94. 73. 75. 70. 72. 40. 57. 35. 55. 48.\n",
        " 38. 26.]\n",
        "[99. 49. 80. 10. 16. 60. 25. 31. 94. 73. 75. 70. 72. 40. 57. 35. 55. 48.\n",
        " 38. 26.]\n",
        "[99. 49. 80. 10. 16. 60. 25. 31. 94. 73. 75. 70. 72. 40. 57. 35. 55. 48.\n",
        " 38. 26.]\n",
        "[99 49 80 10 16 60 25 31 94 73 75 70 72 40 57 35 55 48 38 26]\n",
        "[99. 49. 80. 10. 16. 60. 25. 31. 94. 73. 75. 70. 72. 40. 57. 35. 55. 48.\n",
        " 38. 26.]\n",
        "```\n",
        "\n",
        "В примере 5 выводов print из функции, просто чтобы были :)"
      ]
    },
    {
      "cell_type": "code",
      "source": [
        "import math"
      ],
      "metadata": {
        "id": "sLpTGaze6LbQ"
      },
      "id": "sLpTGaze6LbQ",
      "execution_count": 66,
      "outputs": []
    },
    {
      "cell_type": "code",
      "execution_count": 67,
      "id": "d988e6d5-1e23-411c-a2d0-f5b9f5960b47",
      "metadata": {
        "id": "d988e6d5-1e23-411c-a2d0-f5b9f5960b47"
      },
      "outputs": [],
      "source": [
        "def print_integer_fraction(arr):\n",
        "    # using int\n",
        "    for val in arr:\n",
        "        print(int(val), end=\" \")\n",
        "    print()\n",
        "\n",
        "    # using math.floor\n",
        "    for val in arr:\n",
        "        print(math.floor(val), end=\" \")\n",
        "    print()\n",
        "\n",
        "    # using math.trunc\n",
        "    for val in arr:\n",
        "        print(math.trunc(val), end=\" \")\n",
        "    print()\n",
        "\n",
        "    # using // 1\n",
        "    for val in arr:\n",
        "        print(f\"{(val // 1):.0f}\", end=\" \")\n",
        "    print()"
      ]
    },
    {
      "cell_type": "code",
      "source": [
        "arr = np.random.uniform(low=10, high=100,size=20)\n",
        "# Исходный вектор arr:\n",
        "print(arr)\n",
        "\n",
        "print_integer_fraction(arr)"
      ],
      "metadata": {
        "colab": {
          "base_uri": "https://localhost:8080/"
        },
        "id": "udKnlYaC5Sex",
        "outputId": "3682e125-8635-4062-bc5c-136b86d23c28"
      },
      "id": "udKnlYaC5Sex",
      "execution_count": 68,
      "outputs": [
        {
          "output_type": "stream",
          "name": "stdout",
          "text": [
            "[14.61048251 34.64013985 20.51646644 11.46610869 31.14308876 78.28878668\n",
            " 57.22254657 99.43628639 27.23192358 90.07749527 32.67006561 62.36784339\n",
            " 28.94040898 96.96518833 18.14942803 18.95747344 90.58072098 35.72166982\n",
            " 21.08367228 86.63810473]\n",
            "14 34 20 11 31 78 57 99 27 90 32 62 28 96 18 18 90 35 21 86 \n",
            "14 34 20 11 31 78 57 99 27 90 32 62 28 96 18 18 90 35 21 86 \n",
            "14 34 20 11 31 78 57 99 27 90 32 62 28 96 18 18 90 35 21 86 \n",
            "14 34 20 11 31 78 57 99 27 90 32 62 28 96 18 18 90 35 21 86 \n"
          ]
        }
      ]
    },
    {
      "cell_type": "markdown",
      "id": "e19786ad-aede-4f06-96b8-fb6f60e7bcf7",
      "metadata": {
        "id": "e19786ad-aede-4f06-96b8-fb6f60e7bcf7"
      },
      "source": [
        "## Задание 5\n",
        "Напишите функцию, которая принимает два числа - ``N`` и ``p``. ``N`` - это размер стороны квадратной матрицы np.zeros, ``p`` - это количество индексов в матрице (p не превышает N*N), которые нужно заменить на случайные числа. Индексы и числа нужно выбирать случайно. Функция должна возвращать квадратную матрицу со стороной ``N``, в которой ровно ``p`` чисел заменены на случайные.\n",
        "\n",
        "```python\n",
        "my_func(N=6, p=4)\n",
        "\n",
        "[[56.   0.   0.   0.   0.   0.]\n",
        " [  0.   0.   0.   0.   0.   0.]\n",
        " [99.   0.   0.   0.   0.   0.]\n",
        " [  0.   0.   0. 83.   0.   0.]\n",
        " [  0.   0.   0.   0.   0.   0.]\n",
        " [  0.   0.   0.   0.   1.   0.]]\n",
        "```"
      ]
    },
    {
      "cell_type": "code",
      "source": [
        "import random"
      ],
      "metadata": {
        "id": "rrD_KwFT9o1g"
      },
      "id": "rrD_KwFT9o1g",
      "execution_count": 69,
      "outputs": []
    },
    {
      "cell_type": "code",
      "source": [
        "def change_p_indices(N, p):\n",
        "    if p > N**2:\n",
        "        return None\n",
        "\n",
        "    square_matrix = np.zeros((N, N))\n",
        "    indices = random.sample(range(N**2), p)\n",
        "    rand_values = [random.random() for _ in range(p)]\n",
        "\n",
        "    for i, value in zip(indices, rand_values):\n",
        "        square_matrix[i // N][i % N] = value\n",
        "\n",
        "    return square_matrix"
      ],
      "metadata": {
        "id": "3PDuypv08BhC"
      },
      "id": "3PDuypv08BhC",
      "execution_count": 70,
      "outputs": []
    },
    {
      "cell_type": "code",
      "source": [
        "print(change_p_indices(N=6, p=4))"
      ],
      "metadata": {
        "colab": {
          "base_uri": "https://localhost:8080/"
        },
        "id": "GNDMixPY9ad6",
        "outputId": "949f5985-068f-44dd-954e-9397c497c028"
      },
      "id": "GNDMixPY9ad6",
      "execution_count": 71,
      "outputs": [
        {
          "output_type": "stream",
          "name": "stdout",
          "text": [
            "[[0.         0.         0.         0.         0.         0.        ]\n",
            " [0.         0.         0.         0.         0.         0.        ]\n",
            " [0.15003068 0.59147199 0.         0.         0.         0.        ]\n",
            " [0.86498418 0.         0.         0.         0.         0.        ]\n",
            " [0.         0.         0.         0.         0.         0.        ]\n",
            " [0.         0.         0.         0.         0.         0.68845538]]\n"
          ]
        }
      ]
    },
    {
      "cell_type": "code",
      "source": [
        "print(change_p_indices(N=6, p=34))"
      ],
      "metadata": {
        "colab": {
          "base_uri": "https://localhost:8080/"
        },
        "id": "01c3BYn1-6NZ",
        "outputId": "26923954-3afd-4520-9106-13b6cc0febe8"
      },
      "id": "01c3BYn1-6NZ",
      "execution_count": 72,
      "outputs": [
        {
          "output_type": "stream",
          "name": "stdout",
          "text": [
            "[[0.17466033 0.25171966 0.93708288 0.38048154 0.32417949 0.36790261]\n",
            " [0.94176043 0.66677806 0.13152656 0.         0.34655027 0.54477173]\n",
            " [0.82870815 0.03733991 0.12093129 0.16159998 0.85877971 0.        ]\n",
            " [0.1964861  0.11360603 0.07133268 0.96467203 0.88501072 0.19426088]\n",
            " [0.48508444 0.88575031 0.68384931 0.58494323 0.7515559  0.59083603]\n",
            " [0.30603076 0.63649712 0.56286652 0.22297928 0.49392301 0.63846365]]\n"
          ]
        }
      ]
    },
    {
      "cell_type": "code",
      "source": [
        "print(change_p_indices(N=6, p=37))"
      ],
      "metadata": {
        "colab": {
          "base_uri": "https://localhost:8080/"
        },
        "id": "nBh89cxT-tOk",
        "outputId": "a163ab73-24bf-4b4f-df97-a7254e9636d1"
      },
      "id": "nBh89cxT-tOk",
      "execution_count": 73,
      "outputs": [
        {
          "output_type": "stream",
          "name": "stdout",
          "text": [
            "None\n"
          ]
        }
      ]
    },
    {
      "cell_type": "markdown",
      "id": "ea6147b4-ea16-48e8-86f9-20bc90849b68",
      "metadata": {
        "id": "ea6147b4-ea16-48e8-86f9-20bc90849b68"
      },
      "source": [
        "# Pandas"
      ]
    },
    {
      "cell_type": "code",
      "execution_count": 74,
      "id": "036794bd-1340-4341-93f2-4c7eda7e011c",
      "metadata": {
        "id": "036794bd-1340-4341-93f2-4c7eda7e011c"
      },
      "outputs": [],
      "source": [
        "import pandas as pd"
      ]
    },
    {
      "cell_type": "markdown",
      "id": "feed93bf-9c0e-443e-9812-f3d88f526be4",
      "metadata": {
        "id": "feed93bf-9c0e-443e-9812-f3d88f526be4"
      },
      "source": [
        "# Задание 6\n",
        "\n",
        "Любым удобным для вас способом создайте ``dataframe`` c именем ``my_data``, в котором две колонки c именами (``type`` - строки, ``value`` - числа с плавающей точкой) и четыре наблюдения в каждой колонке:\n",
        "\n",
        "```\n",
        "type value\n",
        "B    18.\n",
        "\n",
        "B    20.\n",
        "\n",
        "C    10.\n",
        "\n",
        "C    -10.\n",
        "```\n",
        "\n",
        "Какой размер созданного вами датафрейма? (Подумайте, что лучше использовать - информацию из метода df.info() или информацию из метода df.memory_usage()?)\n",
        "1) Измените тип данных колонки type на category. Как изменился размер датафрейма?\n",
        "2) Измените тип данных колонки value на менее жадный. Как изменился размер датафрейма?"
      ]
    },
    {
      "cell_type": "code",
      "execution_count": 89,
      "id": "55453b06-c034-4ad4-9350-c9bfdeb5acef",
      "metadata": {
        "id": "55453b06-c034-4ad4-9350-c9bfdeb5acef",
        "colab": {
          "base_uri": "https://localhost:8080/"
        },
        "outputId": "6ac79a6e-8bf4-4a7e-ec60-f0e29aa2c6c6"
      },
      "outputs": [
        {
          "output_type": "stream",
          "name": "stdout",
          "text": [
            "<class 'pandas.core.frame.DataFrame'>\n",
            "RangeIndex: 4 entries, 0 to 3\n",
            "Data columns (total 2 columns):\n",
            " #   Column  Non-Null Count  Dtype  \n",
            "---  ------  --------------  -----  \n",
            " 0   type    4 non-null      object \n",
            " 1   value   4 non-null      float64\n",
            "dtypes: float64(1), object(1)\n",
            "memory usage: 192.0+ bytes\n"
          ]
        }
      ],
      "source": [
        "my_data = pd.DataFrame({'type': ['B', 'B', 'C', 'C'], 'value': [18, 20, 10, -10]})\n",
        "my_data['type'] = my_data['type'].astype(str)\n",
        "my_data['value'] = my_data['value'].astype(float)\n",
        "my_data.info()"
      ]
    },
    {
      "cell_type": "code",
      "source": [
        "my_data['type'] = my_data['type'].astype('category')\n",
        "my_data.info()"
      ],
      "metadata": {
        "colab": {
          "base_uri": "https://localhost:8080/"
        },
        "id": "FX13dBrtWOiP",
        "outputId": "dd648fcb-ecf2-47ea-d982-96fa52ac311e"
      },
      "id": "FX13dBrtWOiP",
      "execution_count": 91,
      "outputs": [
        {
          "output_type": "stream",
          "name": "stdout",
          "text": [
            "<class 'pandas.core.frame.DataFrame'>\n",
            "RangeIndex: 4 entries, 0 to 3\n",
            "Data columns (total 2 columns):\n",
            " #   Column  Non-Null Count  Dtype   \n",
            "---  ------  --------------  -----   \n",
            " 0   type    4 non-null      category\n",
            " 1   value   4 non-null      float64 \n",
            "dtypes: category(1), float64(1)\n",
            "memory usage: 288.0 bytes\n"
          ]
        }
      ]
    },
    {
      "cell_type": "code",
      "source": [
        "my_data['value'] = my_data['value'].astype('float16')\n",
        "my_data.info()"
      ],
      "metadata": {
        "colab": {
          "base_uri": "https://localhost:8080/"
        },
        "id": "lgrJ82MbWgcj",
        "outputId": "3403e215-3bb5-4fc8-8473-91cf1b392fc9"
      },
      "id": "lgrJ82MbWgcj",
      "execution_count": 96,
      "outputs": [
        {
          "output_type": "stream",
          "name": "stdout",
          "text": [
            "<class 'pandas.core.frame.DataFrame'>\n",
            "RangeIndex: 4 entries, 0 to 3\n",
            "Data columns (total 2 columns):\n",
            " #   Column  Non-Null Count  Dtype   \n",
            "---  ------  --------------  -----   \n",
            " 0   type    4 non-null      category\n",
            " 1   value   4 non-null      float16 \n",
            "dtypes: category(1), float16(1)\n",
            "memory usage: 264.0 bytes\n"
          ]
        }
      ]
    },
    {
      "cell_type": "code",
      "source": [
        "my_data"
      ],
      "metadata": {
        "colab": {
          "base_uri": "https://localhost:8080/",
          "height": 175
        },
        "id": "Oqg9sVyAXZ0w",
        "outputId": "4b53aec5-ccbc-47af-d42c-404ba5dfe386"
      },
      "id": "Oqg9sVyAXZ0w",
      "execution_count": 97,
      "outputs": [
        {
          "output_type": "execute_result",
          "data": {
            "text/plain": [
              "  type  value\n",
              "0    B   18.0\n",
              "1    B   20.0\n",
              "2    C   10.0\n",
              "3    C  -10.0"
            ],
            "text/html": [
              "\n",
              "  <div id=\"df-18f8d3e0-7473-4e40-82b9-157393fa2a04\">\n",
              "    <div class=\"colab-df-container\">\n",
              "      <div>\n",
              "<style scoped>\n",
              "    .dataframe tbody tr th:only-of-type {\n",
              "        vertical-align: middle;\n",
              "    }\n",
              "\n",
              "    .dataframe tbody tr th {\n",
              "        vertical-align: top;\n",
              "    }\n",
              "\n",
              "    .dataframe thead th {\n",
              "        text-align: right;\n",
              "    }\n",
              "</style>\n",
              "<table border=\"1\" class=\"dataframe\">\n",
              "  <thead>\n",
              "    <tr style=\"text-align: right;\">\n",
              "      <th></th>\n",
              "      <th>type</th>\n",
              "      <th>value</th>\n",
              "    </tr>\n",
              "  </thead>\n",
              "  <tbody>\n",
              "    <tr>\n",
              "      <th>0</th>\n",
              "      <td>B</td>\n",
              "      <td>18.0</td>\n",
              "    </tr>\n",
              "    <tr>\n",
              "      <th>1</th>\n",
              "      <td>B</td>\n",
              "      <td>20.0</td>\n",
              "    </tr>\n",
              "    <tr>\n",
              "      <th>2</th>\n",
              "      <td>C</td>\n",
              "      <td>10.0</td>\n",
              "    </tr>\n",
              "    <tr>\n",
              "      <th>3</th>\n",
              "      <td>C</td>\n",
              "      <td>-10.0</td>\n",
              "    </tr>\n",
              "  </tbody>\n",
              "</table>\n",
              "</div>\n",
              "      <button class=\"colab-df-convert\" onclick=\"convertToInteractive('df-18f8d3e0-7473-4e40-82b9-157393fa2a04')\"\n",
              "              title=\"Convert this dataframe to an interactive table.\"\n",
              "              style=\"display:none;\">\n",
              "        \n",
              "  <svg xmlns=\"http://www.w3.org/2000/svg\" height=\"24px\"viewBox=\"0 0 24 24\"\n",
              "       width=\"24px\">\n",
              "    <path d=\"M0 0h24v24H0V0z\" fill=\"none\"/>\n",
              "    <path d=\"M18.56 5.44l.94 2.06.94-2.06 2.06-.94-2.06-.94-.94-2.06-.94 2.06-2.06.94zm-11 1L8.5 8.5l.94-2.06 2.06-.94-2.06-.94L8.5 2.5l-.94 2.06-2.06.94zm10 10l.94 2.06.94-2.06 2.06-.94-2.06-.94-.94-2.06-.94 2.06-2.06.94z\"/><path d=\"M17.41 7.96l-1.37-1.37c-.4-.4-.92-.59-1.43-.59-.52 0-1.04.2-1.43.59L10.3 9.45l-7.72 7.72c-.78.78-.78 2.05 0 2.83L4 21.41c.39.39.9.59 1.41.59.51 0 1.02-.2 1.41-.59l7.78-7.78 2.81-2.81c.8-.78.8-2.07 0-2.86zM5.41 20L4 18.59l7.72-7.72 1.47 1.35L5.41 20z\"/>\n",
              "  </svg>\n",
              "      </button>\n",
              "      \n",
              "  <style>\n",
              "    .colab-df-container {\n",
              "      display:flex;\n",
              "      flex-wrap:wrap;\n",
              "      gap: 12px;\n",
              "    }\n",
              "\n",
              "    .colab-df-convert {\n",
              "      background-color: #E8F0FE;\n",
              "      border: none;\n",
              "      border-radius: 50%;\n",
              "      cursor: pointer;\n",
              "      display: none;\n",
              "      fill: #1967D2;\n",
              "      height: 32px;\n",
              "      padding: 0 0 0 0;\n",
              "      width: 32px;\n",
              "    }\n",
              "\n",
              "    .colab-df-convert:hover {\n",
              "      background-color: #E2EBFA;\n",
              "      box-shadow: 0px 1px 2px rgba(60, 64, 67, 0.3), 0px 1px 3px 1px rgba(60, 64, 67, 0.15);\n",
              "      fill: #174EA6;\n",
              "    }\n",
              "\n",
              "    [theme=dark] .colab-df-convert {\n",
              "      background-color: #3B4455;\n",
              "      fill: #D2E3FC;\n",
              "    }\n",
              "\n",
              "    [theme=dark] .colab-df-convert:hover {\n",
              "      background-color: #434B5C;\n",
              "      box-shadow: 0px 1px 3px 1px rgba(0, 0, 0, 0.15);\n",
              "      filter: drop-shadow(0px 1px 2px rgba(0, 0, 0, 0.3));\n",
              "      fill: #FFFFFF;\n",
              "    }\n",
              "  </style>\n",
              "\n",
              "      <script>\n",
              "        const buttonEl =\n",
              "          document.querySelector('#df-18f8d3e0-7473-4e40-82b9-157393fa2a04 button.colab-df-convert');\n",
              "        buttonEl.style.display =\n",
              "          google.colab.kernel.accessAllowed ? 'block' : 'none';\n",
              "\n",
              "        async function convertToInteractive(key) {\n",
              "          const element = document.querySelector('#df-18f8d3e0-7473-4e40-82b9-157393fa2a04');\n",
              "          const dataTable =\n",
              "            await google.colab.kernel.invokeFunction('convertToInteractive',\n",
              "                                                     [key], {});\n",
              "          if (!dataTable) return;\n",
              "\n",
              "          const docLinkHtml = 'Like what you see? Visit the ' +\n",
              "            '<a target=\"_blank\" href=https://colab.research.google.com/notebooks/data_table.ipynb>data table notebook</a>'\n",
              "            + ' to learn more about interactive tables.';\n",
              "          element.innerHTML = '';\n",
              "          dataTable['output_type'] = 'display_data';\n",
              "          await google.colab.output.renderOutput(dataTable, element);\n",
              "          const docLink = document.createElement('div');\n",
              "          docLink.innerHTML = docLinkHtml;\n",
              "          element.appendChild(docLink);\n",
              "        }\n",
              "      </script>\n",
              "    </div>\n",
              "  </div>\n",
              "  "
            ]
          },
          "metadata": {},
          "execution_count": 97
        }
      ]
    },
    {
      "cell_type": "markdown",
      "id": "b5c49f07-2954-43af-89e4-2df23e216af8",
      "metadata": {
        "id": "b5c49f07-2954-43af-89e4-2df23e216af8"
      },
      "source": [
        "# Задание 7\n",
        "Любым удобным для вас способом создайте ``dataframe`` c именем ``my_data``, в котором две колонки c именами (``type`` - строки, ``value`` - числа с плавающей точкой) и десять тысяч (10 000) наблюдений в каждой колонке. В колонке ``type`` должно быть 10 уникальных значений.\n",
        "\n",
        "```python\n",
        "my_data.shape\n",
        "____________\n",
        "(10000, 2)\n",
        "```\n",
        "\n",
        "Какой размер созданного вами датафрейма? (Подумайте, что лучше использовать - информацию из метода df.info() или информацию из метода df.memory_usage()?)\n",
        "1) Измените тип данных колонки type на category. Как изменился размер датафрейма?\n",
        "2) Измените тип данных колонки value на менее жадный. Как изменился размер датафрейма?\n",
        "\n",
        "Во сколько раз уменьшился размер исходного датафрейма после выполнения этих двух операций?"
      ]
    },
    {
      "cell_type": "code",
      "execution_count": null,
      "id": "7ce31b7d-7367-4c4a-b7ca-e7b837fda604",
      "metadata": {
        "id": "7ce31b7d-7367-4c4a-b7ca-e7b837fda604"
      },
      "outputs": [],
      "source": []
    },
    {
      "cell_type": "markdown",
      "id": "d1614009-c31c-494c-9b7e-010b3fca3adc",
      "metadata": {
        "id": "d1614009-c31c-494c-9b7e-010b3fca3adc"
      },
      "source": [
        "#### Для решения дальнейших задач мы будем использовать следующий датасет, загрузите его с помощью команды:"
      ]
    },
    {
      "cell_type": "code",
      "execution_count": null,
      "id": "9de2ceb8-28bf-4f4f-a67c-5c3cf17d09e9",
      "metadata": {
        "id": "9de2ceb8-28bf-4f4f-a67c-5c3cf17d09e9"
      },
      "outputs": [],
      "source": [
        "df = pd.read_csv('https://stepik.org/media/attachments/course/4852/my_stat.csv')"
      ]
    },
    {
      "cell_type": "code",
      "execution_count": null,
      "id": "bcf8eca6-4c68-43a9-a250-7b2b0aba6a92",
      "metadata": {
        "id": "bcf8eca6-4c68-43a9-a250-7b2b0aba6a92",
        "outputId": "e5d60c6b-8d9e-462b-df7e-797f0ad693ad",
        "colab": {
          "base_uri": "https://localhost:8080/",
          "height": 424
        }
      },
      "outputs": [
        {
          "output_type": "execute_result",
          "data": {
            "text/plain": [
              "     V1    V2 V3   V4\n",
              "0     2  13.0  B  1.0\n",
              "1    -1   7.0  B  1.0\n",
              "2     0  11.0  A  0.0\n",
              "3     2  11.0  A  2.0\n",
              "4     0  10.0  B -1.0\n",
              "..   ..   ... ..  ...\n",
              "495   1   8.0  A -1.0\n",
              "496   3   8.0  A  1.0\n",
              "497  -1  11.0  B  2.0\n",
              "498   1  11.0  A  2.0\n",
              "499   0   8.0  B  1.0\n",
              "\n",
              "[500 rows x 4 columns]"
            ],
            "text/html": [
              "\n",
              "  <div id=\"df-4669d24d-95c5-4ea1-9ded-8df54278ba51\">\n",
              "    <div class=\"colab-df-container\">\n",
              "      <div>\n",
              "<style scoped>\n",
              "    .dataframe tbody tr th:only-of-type {\n",
              "        vertical-align: middle;\n",
              "    }\n",
              "\n",
              "    .dataframe tbody tr th {\n",
              "        vertical-align: top;\n",
              "    }\n",
              "\n",
              "    .dataframe thead th {\n",
              "        text-align: right;\n",
              "    }\n",
              "</style>\n",
              "<table border=\"1\" class=\"dataframe\">\n",
              "  <thead>\n",
              "    <tr style=\"text-align: right;\">\n",
              "      <th></th>\n",
              "      <th>V1</th>\n",
              "      <th>V2</th>\n",
              "      <th>V3</th>\n",
              "      <th>V4</th>\n",
              "    </tr>\n",
              "  </thead>\n",
              "  <tbody>\n",
              "    <tr>\n",
              "      <th>0</th>\n",
              "      <td>2</td>\n",
              "      <td>13.0</td>\n",
              "      <td>B</td>\n",
              "      <td>1.0</td>\n",
              "    </tr>\n",
              "    <tr>\n",
              "      <th>1</th>\n",
              "      <td>-1</td>\n",
              "      <td>7.0</td>\n",
              "      <td>B</td>\n",
              "      <td>1.0</td>\n",
              "    </tr>\n",
              "    <tr>\n",
              "      <th>2</th>\n",
              "      <td>0</td>\n",
              "      <td>11.0</td>\n",
              "      <td>A</td>\n",
              "      <td>0.0</td>\n",
              "    </tr>\n",
              "    <tr>\n",
              "      <th>3</th>\n",
              "      <td>2</td>\n",
              "      <td>11.0</td>\n",
              "      <td>A</td>\n",
              "      <td>2.0</td>\n",
              "    </tr>\n",
              "    <tr>\n",
              "      <th>4</th>\n",
              "      <td>0</td>\n",
              "      <td>10.0</td>\n",
              "      <td>B</td>\n",
              "      <td>-1.0</td>\n",
              "    </tr>\n",
              "    <tr>\n",
              "      <th>...</th>\n",
              "      <td>...</td>\n",
              "      <td>...</td>\n",
              "      <td>...</td>\n",
              "      <td>...</td>\n",
              "    </tr>\n",
              "    <tr>\n",
              "      <th>495</th>\n",
              "      <td>1</td>\n",
              "      <td>8.0</td>\n",
              "      <td>A</td>\n",
              "      <td>-1.0</td>\n",
              "    </tr>\n",
              "    <tr>\n",
              "      <th>496</th>\n",
              "      <td>3</td>\n",
              "      <td>8.0</td>\n",
              "      <td>A</td>\n",
              "      <td>1.0</td>\n",
              "    </tr>\n",
              "    <tr>\n",
              "      <th>497</th>\n",
              "      <td>-1</td>\n",
              "      <td>11.0</td>\n",
              "      <td>B</td>\n",
              "      <td>2.0</td>\n",
              "    </tr>\n",
              "    <tr>\n",
              "      <th>498</th>\n",
              "      <td>1</td>\n",
              "      <td>11.0</td>\n",
              "      <td>A</td>\n",
              "      <td>2.0</td>\n",
              "    </tr>\n",
              "    <tr>\n",
              "      <th>499</th>\n",
              "      <td>0</td>\n",
              "      <td>8.0</td>\n",
              "      <td>B</td>\n",
              "      <td>1.0</td>\n",
              "    </tr>\n",
              "  </tbody>\n",
              "</table>\n",
              "<p>500 rows × 4 columns</p>\n",
              "</div>\n",
              "      <button class=\"colab-df-convert\" onclick=\"convertToInteractive('df-4669d24d-95c5-4ea1-9ded-8df54278ba51')\"\n",
              "              title=\"Convert this dataframe to an interactive table.\"\n",
              "              style=\"display:none;\">\n",
              "        \n",
              "  <svg xmlns=\"http://www.w3.org/2000/svg\" height=\"24px\"viewBox=\"0 0 24 24\"\n",
              "       width=\"24px\">\n",
              "    <path d=\"M0 0h24v24H0V0z\" fill=\"none\"/>\n",
              "    <path d=\"M18.56 5.44l.94 2.06.94-2.06 2.06-.94-2.06-.94-.94-2.06-.94 2.06-2.06.94zm-11 1L8.5 8.5l.94-2.06 2.06-.94-2.06-.94L8.5 2.5l-.94 2.06-2.06.94zm10 10l.94 2.06.94-2.06 2.06-.94-2.06-.94-.94-2.06-.94 2.06-2.06.94z\"/><path d=\"M17.41 7.96l-1.37-1.37c-.4-.4-.92-.59-1.43-.59-.52 0-1.04.2-1.43.59L10.3 9.45l-7.72 7.72c-.78.78-.78 2.05 0 2.83L4 21.41c.39.39.9.59 1.41.59.51 0 1.02-.2 1.41-.59l7.78-7.78 2.81-2.81c.8-.78.8-2.07 0-2.86zM5.41 20L4 18.59l7.72-7.72 1.47 1.35L5.41 20z\"/>\n",
              "  </svg>\n",
              "      </button>\n",
              "      \n",
              "  <style>\n",
              "    .colab-df-container {\n",
              "      display:flex;\n",
              "      flex-wrap:wrap;\n",
              "      gap: 12px;\n",
              "    }\n",
              "\n",
              "    .colab-df-convert {\n",
              "      background-color: #E8F0FE;\n",
              "      border: none;\n",
              "      border-radius: 50%;\n",
              "      cursor: pointer;\n",
              "      display: none;\n",
              "      fill: #1967D2;\n",
              "      height: 32px;\n",
              "      padding: 0 0 0 0;\n",
              "      width: 32px;\n",
              "    }\n",
              "\n",
              "    .colab-df-convert:hover {\n",
              "      background-color: #E2EBFA;\n",
              "      box-shadow: 0px 1px 2px rgba(60, 64, 67, 0.3), 0px 1px 3px 1px rgba(60, 64, 67, 0.15);\n",
              "      fill: #174EA6;\n",
              "    }\n",
              "\n",
              "    [theme=dark] .colab-df-convert {\n",
              "      background-color: #3B4455;\n",
              "      fill: #D2E3FC;\n",
              "    }\n",
              "\n",
              "    [theme=dark] .colab-df-convert:hover {\n",
              "      background-color: #434B5C;\n",
              "      box-shadow: 0px 1px 3px 1px rgba(0, 0, 0, 0.15);\n",
              "      filter: drop-shadow(0px 1px 2px rgba(0, 0, 0, 0.3));\n",
              "      fill: #FFFFFF;\n",
              "    }\n",
              "  </style>\n",
              "\n",
              "      <script>\n",
              "        const buttonEl =\n",
              "          document.querySelector('#df-4669d24d-95c5-4ea1-9ded-8df54278ba51 button.colab-df-convert');\n",
              "        buttonEl.style.display =\n",
              "          google.colab.kernel.accessAllowed ? 'block' : 'none';\n",
              "\n",
              "        async function convertToInteractive(key) {\n",
              "          const element = document.querySelector('#df-4669d24d-95c5-4ea1-9ded-8df54278ba51');\n",
              "          const dataTable =\n",
              "            await google.colab.kernel.invokeFunction('convertToInteractive',\n",
              "                                                     [key], {});\n",
              "          if (!dataTable) return;\n",
              "\n",
              "          const docLinkHtml = 'Like what you see? Visit the ' +\n",
              "            '<a target=\"_blank\" href=https://colab.research.google.com/notebooks/data_table.ipynb>data table notebook</a>'\n",
              "            + ' to learn more about interactive tables.';\n",
              "          element.innerHTML = '';\n",
              "          dataTable['output_type'] = 'display_data';\n",
              "          await google.colab.output.renderOutput(dataTable, element);\n",
              "          const docLink = document.createElement('div');\n",
              "          docLink.innerHTML = docLinkHtml;\n",
              "          element.appendChild(docLink);\n",
              "        }\n",
              "      </script>\n",
              "    </div>\n",
              "  </div>\n",
              "  "
            ]
          },
          "metadata": {},
          "execution_count": 11
        }
      ],
      "source": [
        "df"
      ]
    },
    {
      "cell_type": "markdown",
      "id": "02e37431-e600-4bf5-bfcf-5641bfcaccd8",
      "metadata": {
        "id": "02e37431-e600-4bf5-bfcf-5641bfcaccd8"
      },
      "source": [
        "Примечание: все операции с исходным датафреймом должны быть ``inplace``. То есть исходный датафрейм в переменной ``df`` **должен** измениться"
      ]
    },
    {
      "cell_type": "markdown",
      "id": "25499d55-3c26-4f2e-b642-e05f94341d69",
      "metadata": {
        "id": "25499d55-3c26-4f2e-b642-e05f94341d69"
      },
      "source": [
        "# Задание 8\n",
        "\n",
        "В переменную с именем subset_1 сохраните только первые 19 строк и только 1 и 3 колонку.\n",
        "\n",
        "В переменную с именем subset_2 сохраните все строки кроме 2, 3 и 18 и только 2 и 4 колонку."
      ]
    },
    {
      "cell_type": "code",
      "execution_count": null,
      "id": "0e4b85c0-946b-4d65-a2f4-9940f5149cc7",
      "metadata": {
        "id": "0e4b85c0-946b-4d65-a2f4-9940f5149cc7",
        "colab": {
          "base_uri": "https://localhost:8080/",
          "height": 131
        },
        "outputId": "71bdfecc-6860-419e-87dd-0b6eaf1bf7d5"
      },
      "outputs": [
        {
          "output_type": "error",
          "ename": "SyntaxError",
          "evalue": "ignored",
          "traceback": [
            "\u001b[0;36m  File \u001b[0;32m\"<ipython-input-12-a90bf48dc133>\"\u001b[0;36m, line \u001b[0;32m1\u001b[0m\n\u001b[0;31m    subset_1 =\u001b[0m\n\u001b[0m               ^\u001b[0m\n\u001b[0;31mSyntaxError\u001b[0m\u001b[0;31m:\u001b[0m invalid syntax\n"
          ]
        }
      ],
      "source": [
        "subset_1 = \n",
        "subset_2 = "
      ]
    },
    {
      "cell_type": "markdown",
      "id": "57db07ab-f016-4340-880b-cd640e789407",
      "metadata": {
        "id": "57db07ab-f016-4340-880b-cd640e789407"
      },
      "source": [
        "# Задание 9\n",
        "\n",
        "В переменную subset_3 сохраните только те наблюдения, у которых значения переменной V1 строго больше 0, и значение переменной V3  равняется 'A'.\n",
        "\n",
        "В переменную  subset_4  сохраните только те наблюдения, у которых значения переменной V2  не равняются 10, или значения переменной V4 больше или равно 1."
      ]
    },
    {
      "cell_type": "code",
      "execution_count": null,
      "id": "a9a7558d-14f9-4a64-9b1f-9a77ab52304c",
      "metadata": {
        "id": "a9a7558d-14f9-4a64-9b1f-9a77ab52304c"
      },
      "outputs": [],
      "source": [
        "subset_3 = \n",
        "subset_4 = "
      ]
    },
    {
      "cell_type": "markdown",
      "id": "002c85bb-122e-47c0-8016-64afd80ce988",
      "metadata": {
        "id": "002c85bb-122e-47c0-8016-64afd80ce988"
      },
      "source": [
        "# Задание 10\n",
        "Добавьте следующие колонки в df:\n",
        "\n",
        "1) V5 = V1 + V4\n",
        "2) V6 = **натуральный** логарифм переменной V2"
      ]
    },
    {
      "cell_type": "code",
      "execution_count": null,
      "id": "d99e49b2-3213-4a6b-9eb8-97118175d9b1",
      "metadata": {
        "id": "d99e49b2-3213-4a6b-9eb8-97118175d9b1"
      },
      "outputs": [],
      "source": []
    },
    {
      "cell_type": "markdown",
      "id": "68231357-e61c-4cd8-aa11-81cde18b856c",
      "metadata": {
        "id": "68231357-e61c-4cd8-aa11-81cde18b856c"
      },
      "source": [
        "# Задание 11\n",
        "\n",
        "Переименуйте колонки в df.\n",
        "\n",
        "1) V1 -> session_value\n",
        "\n",
        "2) V2 -> group\n",
        "\n",
        "3) V3 -> time\n",
        "\n",
        "4) V4 -> n_users"
      ]
    },
    {
      "cell_type": "code",
      "execution_count": null,
      "id": "d92e15a0-8cf7-4f99-bb84-3b45b36d6c8d",
      "metadata": {
        "id": "d92e15a0-8cf7-4f99-bb84-3b45b36d6c8d"
      },
      "outputs": [],
      "source": []
    },
    {
      "cell_type": "markdown",
      "id": "855d8eb1-d7b2-4908-a404-cfeac1dcf3c0",
      "metadata": {
        "id": "855d8eb1-d7b2-4908-a404-cfeac1dcf3c0"
      },
      "source": [
        "# Задание 12\n",
        "В датафрейме ``my_stat`` в колонке ``session_value`` замените все пропущенные значения на нули.\n",
        "\n",
        "В колонке ``n_users`` замените все отрицательные значения на медианное значение переменной ``n_users`` (без учета отрицательных значений, разумеется)."
      ]
    },
    {
      "cell_type": "code",
      "execution_count": null,
      "id": "aa82b450-9804-44f0-8c37-7d1247850132",
      "metadata": {
        "id": "aa82b450-9804-44f0-8c37-7d1247850132"
      },
      "outputs": [],
      "source": [
        "my_stat = pd.read_csv('https://stepik.org/media/attachments/course/4852/my_stat_1.csv')"
      ]
    },
    {
      "cell_type": "code",
      "execution_count": null,
      "id": "0ce858ba-5a46-4355-8e02-4051d1c7bf92",
      "metadata": {
        "id": "0ce858ba-5a46-4355-8e02-4051d1c7bf92"
      },
      "outputs": [],
      "source": [
        "my_stat"
      ]
    }
  ],
  "metadata": {
    "kernelspec": {
      "display_name": "python10",
      "language": "python",
      "name": "python10"
    },
    "language_info": {
      "codemirror_mode": {
        "name": "ipython",
        "version": 3
      },
      "file_extension": ".py",
      "mimetype": "text/x-python",
      "name": "python",
      "nbconvert_exporter": "python",
      "pygments_lexer": "ipython3",
      "version": "3.10.7"
    },
    "colab": {
      "provenance": []
    }
  },
  "nbformat": 4,
  "nbformat_minor": 5
}