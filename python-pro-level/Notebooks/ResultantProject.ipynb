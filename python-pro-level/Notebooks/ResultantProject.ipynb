{
  "nbformat": 4,
  "nbformat_minor": 0,
  "metadata": {
    "anaconda-cloud": {},
    "kernelspec": {
      "display_name": "Python 3",
      "language": "python",
      "name": "python3"
    },
    "language_info": {
      "codemirror_mode": {
        "name": "ipython",
        "version": 3
      },
      "file_extension": ".py",
      "mimetype": "text/x-python",
      "name": "python",
      "nbconvert_exporter": "python",
      "pygments_lexer": "ipython3",
      "version": "3.7.6"
    },
    "colab": {
      "provenance": []
    }
  },
  "cells": [
    {
      "cell_type": "markdown",
      "metadata": {
        "id": "CXsKzXe_x-t4"
      },
      "source": [
        "**Импорт всех необходимых библиотек**"
      ]
    },
    {
      "cell_type": "code",
      "metadata": {
        "id": "RrSo2OJzx-Pw"
      },
      "source": [
        "import pandas as pd\n",
        "import numpy as np\n",
        "import matplotlib.pyplot as plt\n",
        "import seaborn as sns\n",
        "import re\n",
        "pd.set_option(\"display.max_rows\", 20)\n",
        "pd.set_option(\"display.max_columns\", 40)\n",
        "pd.set_option(\"display.precision\", 4)\n",
        "pd.set_option(\"plotting.backend\", \"matplotlib\")"
      ],
      "execution_count": 72,
      "outputs": []
    },
    {
      "cell_type": "markdown",
      "metadata": {
        "id": "UTKVH3sMutTM"
      },
      "source": [
        "# 1. Исследовательский анализ данных (exploratory data analysis - EDA)"
      ]
    },
    {
      "cell_type": "markdown",
      "metadata": {
        "id": "tiFgQjEcxnu2"
      },
      "source": [
        "## 1.1 Словесное описание признаков"
      ]
    },
    {
      "cell_type": "markdown",
      "source": [
        "<b><p>data.csv</p></b>\n",
        "<ul>\n",
        "<li>id: id транзакции </li>\n",
        "<li>timestamp: дата продажи (транзакции) </li>\n",
        "<li>full_sq: общая площадь  </li>\n",
        "<li>life_sq: жилая площадь  </li>\n",
        "<li>floor: этаж  </li>\n",
        "<li>max_floor: количество этажей в здании </li>\n",
        "<li>material: материал, из которого изговолены стены  </li>\n",
        "<li>build_year: год строительства </li>\n",
        "<li>num_room: количество жилых комнат </li>\n",
        "<li>kitch_sq: площадь кухни </li>\n",
        "<li>full_all: количество населения в регионе </li>\n",
        "<li> state: жилищные условия </li>\n",
        "<li>sub_area: название территории </li>\n",
        "<li>price_doc: цена квартиры (целевая переменная) </li>\n",
        "</ul>\n",
        "\n",
        "<b><p>macro.csv</p></b>\n",
        "<ul>\n",
        "<li>timestamp : дата, на которую актуальны макроэкономические показатели </li>\n",
        "<li>salary : средняя зарплата в регионе </li>\n",
        "<li>fixed_basket: стоимость потребительской корзины </li>\n",
        "<li>rent_price_3room_eco: стоимость аренды 3-х комнатного жилья эконом-класса </li>\n",
        "<li>rent_price_2room_eco: стоимость аренды 2-х комнатного жилья эконом-класса </li>\n",
        "<li>rent_price_1room_eco: стоимость аренды 1-но комнатного жилья эконом-класса </li>\n",
        "<li>average_life_exp: средняя продолжительность жизни в регионе </li>\n",
        "</ul>"
      ],
      "metadata": {
        "id": "5_Jpw5OmX6Oe"
      }
    },
    {
      "cell_type": "markdown",
      "metadata": {
        "id": "qy4yj--r07RL"
      },
      "source": [
        "## 1.2 Загрузка данных общее описание набора данных"
      ]
    },
    {
      "cell_type": "code",
      "metadata": {
        "id": "SJ3LbaoiutTT"
      },
      "source": [
        "df = pd.read_csv(\"https://raw.githubusercontent.com/aksenov7/Kaggle_competition_group/master/data.csv\")\n",
        "macro = pd.read_csv(\"https://raw.githubusercontent.com/aksenov7/Kaggle_competition_group/master/data_macro.csv\")\n",
        "\n",
        "df_backup = df.copy()\n",
        "macro_backup = macro.copy()"
      ],
      "execution_count": 2,
      "outputs": []
    },
    {
      "cell_type": "markdown",
      "source": [
        "### 1.2.1 Базовый датасет"
      ],
      "metadata": {
        "id": "Nz8wzZ6XdD9T"
      }
    },
    {
      "cell_type": "markdown",
      "source": [
        "Вывести пример данных (первые строки и случайные строки)"
      ],
      "metadata": {
        "id": "R_TdSpL5dlJy"
      }
    },
    {
      "cell_type": "code",
      "source": [
        "df.head(10)"
      ],
      "metadata": {
        "id": "gDzP8l3mdlgz",
        "colab": {
          "base_uri": "https://localhost:8080/",
          "height": 363
        },
        "outputId": "54d1a7c7-f060-4925-c221-4ebf8a232b88"
      },
      "execution_count": 3,
      "outputs": [
        {
          "output_type": "execute_result",
          "data": {
            "text/plain": [
              "     id   timestamp  full_sq  life_sq  floor  state  max_floor  material  \\\n",
              "0  8059  2013-05-21       11     11.0    2.0    3.0        5.0       2.0   \n",
              "1  8138  2013-05-25       53     30.0   10.0    3.0       16.0       1.0   \n",
              "2  8156  2013-05-27       77     41.0    2.0    1.0       17.0       6.0   \n",
              "3  8157  2013-05-27       45     27.0    6.0    3.0        9.0       1.0   \n",
              "4  8178  2013-05-28       38     20.0   15.0    NaN       16.0       1.0   \n",
              "5  8189  2013-05-28       63      NaN   17.0    1.0       17.0       4.0   \n",
              "6  8258  2013-05-30       74     46.0   12.0    3.0       24.0       1.0   \n",
              "7  8271  2013-05-31       93     93.0    3.0    1.0        1.0       1.0   \n",
              "8  8285  2013-06-01       51     30.0    7.0    3.0       17.0       1.0   \n",
              "9  8290  2013-06-03       77     50.0    3.0    2.0        5.0       2.0   \n",
              "\n",
              "  build_year  num_room  kitch_sq  full_all                 sub_area  price_doc  \n",
              "0     1907.0       1.0      12.0     75377                Hamovniki    2750000  \n",
              "1     1980.0       2.0       8.0     68630                Lianozovo    9000000  \n",
              "2     2014.0       3.0      12.0      9553  Poselenie Voskresenskoe    7011550  \n",
              "3     1970.0       2.0       6.0     78616          Severnoe Butovo    7100000  \n",
              "4     1982.0       1.0       8.0    112804           Filevskij Park    6450000  \n",
              "5     2013.0       2.0       1.0    247469               Nekrasovka    5903808  \n",
              "6     2004.0       3.0       9.0     27992       Juzhnoe Medvedkovo   12100000  \n",
              "7     2013.0       3.0       1.0      5740   Poselenie Pervomajskoe    5427640  \n",
              "8     2003.0       2.0       9.0    125111                 Solncevo    7700000  \n",
              "9     1957.0       3.0       8.0   1100773                Ajeroport   11700000  "
            ],
            "text/html": [
              "\n",
              "  <div id=\"df-e7e9e698-738c-48fd-b6bc-38f0033f28a0\">\n",
              "    <div class=\"colab-df-container\">\n",
              "      <div>\n",
              "<style scoped>\n",
              "    .dataframe tbody tr th:only-of-type {\n",
              "        vertical-align: middle;\n",
              "    }\n",
              "\n",
              "    .dataframe tbody tr th {\n",
              "        vertical-align: top;\n",
              "    }\n",
              "\n",
              "    .dataframe thead th {\n",
              "        text-align: right;\n",
              "    }\n",
              "</style>\n",
              "<table border=\"1\" class=\"dataframe\">\n",
              "  <thead>\n",
              "    <tr style=\"text-align: right;\">\n",
              "      <th></th>\n",
              "      <th>id</th>\n",
              "      <th>timestamp</th>\n",
              "      <th>full_sq</th>\n",
              "      <th>life_sq</th>\n",
              "      <th>floor</th>\n",
              "      <th>state</th>\n",
              "      <th>max_floor</th>\n",
              "      <th>material</th>\n",
              "      <th>build_year</th>\n",
              "      <th>num_room</th>\n",
              "      <th>kitch_sq</th>\n",
              "      <th>full_all</th>\n",
              "      <th>sub_area</th>\n",
              "      <th>price_doc</th>\n",
              "    </tr>\n",
              "  </thead>\n",
              "  <tbody>\n",
              "    <tr>\n",
              "      <th>0</th>\n",
              "      <td>8059</td>\n",
              "      <td>2013-05-21</td>\n",
              "      <td>11</td>\n",
              "      <td>11.0</td>\n",
              "      <td>2.0</td>\n",
              "      <td>3.0</td>\n",
              "      <td>5.0</td>\n",
              "      <td>2.0</td>\n",
              "      <td>1907.0</td>\n",
              "      <td>1.0</td>\n",
              "      <td>12.0</td>\n",
              "      <td>75377</td>\n",
              "      <td>Hamovniki</td>\n",
              "      <td>2750000</td>\n",
              "    </tr>\n",
              "    <tr>\n",
              "      <th>1</th>\n",
              "      <td>8138</td>\n",
              "      <td>2013-05-25</td>\n",
              "      <td>53</td>\n",
              "      <td>30.0</td>\n",
              "      <td>10.0</td>\n",
              "      <td>3.0</td>\n",
              "      <td>16.0</td>\n",
              "      <td>1.0</td>\n",
              "      <td>1980.0</td>\n",
              "      <td>2.0</td>\n",
              "      <td>8.0</td>\n",
              "      <td>68630</td>\n",
              "      <td>Lianozovo</td>\n",
              "      <td>9000000</td>\n",
              "    </tr>\n",
              "    <tr>\n",
              "      <th>2</th>\n",
              "      <td>8156</td>\n",
              "      <td>2013-05-27</td>\n",
              "      <td>77</td>\n",
              "      <td>41.0</td>\n",
              "      <td>2.0</td>\n",
              "      <td>1.0</td>\n",
              "      <td>17.0</td>\n",
              "      <td>6.0</td>\n",
              "      <td>2014.0</td>\n",
              "      <td>3.0</td>\n",
              "      <td>12.0</td>\n",
              "      <td>9553</td>\n",
              "      <td>Poselenie Voskresenskoe</td>\n",
              "      <td>7011550</td>\n",
              "    </tr>\n",
              "    <tr>\n",
              "      <th>3</th>\n",
              "      <td>8157</td>\n",
              "      <td>2013-05-27</td>\n",
              "      <td>45</td>\n",
              "      <td>27.0</td>\n",
              "      <td>6.0</td>\n",
              "      <td>3.0</td>\n",
              "      <td>9.0</td>\n",
              "      <td>1.0</td>\n",
              "      <td>1970.0</td>\n",
              "      <td>2.0</td>\n",
              "      <td>6.0</td>\n",
              "      <td>78616</td>\n",
              "      <td>Severnoe Butovo</td>\n",
              "      <td>7100000</td>\n",
              "    </tr>\n",
              "    <tr>\n",
              "      <th>4</th>\n",
              "      <td>8178</td>\n",
              "      <td>2013-05-28</td>\n",
              "      <td>38</td>\n",
              "      <td>20.0</td>\n",
              "      <td>15.0</td>\n",
              "      <td>NaN</td>\n",
              "      <td>16.0</td>\n",
              "      <td>1.0</td>\n",
              "      <td>1982.0</td>\n",
              "      <td>1.0</td>\n",
              "      <td>8.0</td>\n",
              "      <td>112804</td>\n",
              "      <td>Filevskij Park</td>\n",
              "      <td>6450000</td>\n",
              "    </tr>\n",
              "    <tr>\n",
              "      <th>5</th>\n",
              "      <td>8189</td>\n",
              "      <td>2013-05-28</td>\n",
              "      <td>63</td>\n",
              "      <td>NaN</td>\n",
              "      <td>17.0</td>\n",
              "      <td>1.0</td>\n",
              "      <td>17.0</td>\n",
              "      <td>4.0</td>\n",
              "      <td>2013.0</td>\n",
              "      <td>2.0</td>\n",
              "      <td>1.0</td>\n",
              "      <td>247469</td>\n",
              "      <td>Nekrasovka</td>\n",
              "      <td>5903808</td>\n",
              "    </tr>\n",
              "    <tr>\n",
              "      <th>6</th>\n",
              "      <td>8258</td>\n",
              "      <td>2013-05-30</td>\n",
              "      <td>74</td>\n",
              "      <td>46.0</td>\n",
              "      <td>12.0</td>\n",
              "      <td>3.0</td>\n",
              "      <td>24.0</td>\n",
              "      <td>1.0</td>\n",
              "      <td>2004.0</td>\n",
              "      <td>3.0</td>\n",
              "      <td>9.0</td>\n",
              "      <td>27992</td>\n",
              "      <td>Juzhnoe Medvedkovo</td>\n",
              "      <td>12100000</td>\n",
              "    </tr>\n",
              "    <tr>\n",
              "      <th>7</th>\n",
              "      <td>8271</td>\n",
              "      <td>2013-05-31</td>\n",
              "      <td>93</td>\n",
              "      <td>93.0</td>\n",
              "      <td>3.0</td>\n",
              "      <td>1.0</td>\n",
              "      <td>1.0</td>\n",
              "      <td>1.0</td>\n",
              "      <td>2013.0</td>\n",
              "      <td>3.0</td>\n",
              "      <td>1.0</td>\n",
              "      <td>5740</td>\n",
              "      <td>Poselenie Pervomajskoe</td>\n",
              "      <td>5427640</td>\n",
              "    </tr>\n",
              "    <tr>\n",
              "      <th>8</th>\n",
              "      <td>8285</td>\n",
              "      <td>2013-06-01</td>\n",
              "      <td>51</td>\n",
              "      <td>30.0</td>\n",
              "      <td>7.0</td>\n",
              "      <td>3.0</td>\n",
              "      <td>17.0</td>\n",
              "      <td>1.0</td>\n",
              "      <td>2003.0</td>\n",
              "      <td>2.0</td>\n",
              "      <td>9.0</td>\n",
              "      <td>125111</td>\n",
              "      <td>Solncevo</td>\n",
              "      <td>7700000</td>\n",
              "    </tr>\n",
              "    <tr>\n",
              "      <th>9</th>\n",
              "      <td>8290</td>\n",
              "      <td>2013-06-03</td>\n",
              "      <td>77</td>\n",
              "      <td>50.0</td>\n",
              "      <td>3.0</td>\n",
              "      <td>2.0</td>\n",
              "      <td>5.0</td>\n",
              "      <td>2.0</td>\n",
              "      <td>1957.0</td>\n",
              "      <td>3.0</td>\n",
              "      <td>8.0</td>\n",
              "      <td>1100773</td>\n",
              "      <td>Ajeroport</td>\n",
              "      <td>11700000</td>\n",
              "    </tr>\n",
              "  </tbody>\n",
              "</table>\n",
              "</div>\n",
              "      <button class=\"colab-df-convert\" onclick=\"convertToInteractive('df-e7e9e698-738c-48fd-b6bc-38f0033f28a0')\"\n",
              "              title=\"Convert this dataframe to an interactive table.\"\n",
              "              style=\"display:none;\">\n",
              "        \n",
              "  <svg xmlns=\"http://www.w3.org/2000/svg\" height=\"24px\"viewBox=\"0 0 24 24\"\n",
              "       width=\"24px\">\n",
              "    <path d=\"M0 0h24v24H0V0z\" fill=\"none\"/>\n",
              "    <path d=\"M18.56 5.44l.94 2.06.94-2.06 2.06-.94-2.06-.94-.94-2.06-.94 2.06-2.06.94zm-11 1L8.5 8.5l.94-2.06 2.06-.94-2.06-.94L8.5 2.5l-.94 2.06-2.06.94zm10 10l.94 2.06.94-2.06 2.06-.94-2.06-.94-.94-2.06-.94 2.06-2.06.94z\"/><path d=\"M17.41 7.96l-1.37-1.37c-.4-.4-.92-.59-1.43-.59-.52 0-1.04.2-1.43.59L10.3 9.45l-7.72 7.72c-.78.78-.78 2.05 0 2.83L4 21.41c.39.39.9.59 1.41.59.51 0 1.02-.2 1.41-.59l7.78-7.78 2.81-2.81c.8-.78.8-2.07 0-2.86zM5.41 20L4 18.59l7.72-7.72 1.47 1.35L5.41 20z\"/>\n",
              "  </svg>\n",
              "      </button>\n",
              "      \n",
              "  <style>\n",
              "    .colab-df-container {\n",
              "      display:flex;\n",
              "      flex-wrap:wrap;\n",
              "      gap: 12px;\n",
              "    }\n",
              "\n",
              "    .colab-df-convert {\n",
              "      background-color: #E8F0FE;\n",
              "      border: none;\n",
              "      border-radius: 50%;\n",
              "      cursor: pointer;\n",
              "      display: none;\n",
              "      fill: #1967D2;\n",
              "      height: 32px;\n",
              "      padding: 0 0 0 0;\n",
              "      width: 32px;\n",
              "    }\n",
              "\n",
              "    .colab-df-convert:hover {\n",
              "      background-color: #E2EBFA;\n",
              "      box-shadow: 0px 1px 2px rgba(60, 64, 67, 0.3), 0px 1px 3px 1px rgba(60, 64, 67, 0.15);\n",
              "      fill: #174EA6;\n",
              "    }\n",
              "\n",
              "    [theme=dark] .colab-df-convert {\n",
              "      background-color: #3B4455;\n",
              "      fill: #D2E3FC;\n",
              "    }\n",
              "\n",
              "    [theme=dark] .colab-df-convert:hover {\n",
              "      background-color: #434B5C;\n",
              "      box-shadow: 0px 1px 3px 1px rgba(0, 0, 0, 0.15);\n",
              "      filter: drop-shadow(0px 1px 2px rgba(0, 0, 0, 0.3));\n",
              "      fill: #FFFFFF;\n",
              "    }\n",
              "  </style>\n",
              "\n",
              "      <script>\n",
              "        const buttonEl =\n",
              "          document.querySelector('#df-e7e9e698-738c-48fd-b6bc-38f0033f28a0 button.colab-df-convert');\n",
              "        buttonEl.style.display =\n",
              "          google.colab.kernel.accessAllowed ? 'block' : 'none';\n",
              "\n",
              "        async function convertToInteractive(key) {\n",
              "          const element = document.querySelector('#df-e7e9e698-738c-48fd-b6bc-38f0033f28a0');\n",
              "          const dataTable =\n",
              "            await google.colab.kernel.invokeFunction('convertToInteractive',\n",
              "                                                     [key], {});\n",
              "          if (!dataTable) return;\n",
              "\n",
              "          const docLinkHtml = 'Like what you see? Visit the ' +\n",
              "            '<a target=\"_blank\" href=https://colab.research.google.com/notebooks/data_table.ipynb>data table notebook</a>'\n",
              "            + ' to learn more about interactive tables.';\n",
              "          element.innerHTML = '';\n",
              "          dataTable['output_type'] = 'display_data';\n",
              "          await google.colab.output.renderOutput(dataTable, element);\n",
              "          const docLink = document.createElement('div');\n",
              "          docLink.innerHTML = docLinkHtml;\n",
              "          element.appendChild(docLink);\n",
              "        }\n",
              "      </script>\n",
              "    </div>\n",
              "  </div>\n",
              "  "
            ]
          },
          "metadata": {},
          "execution_count": 3
        }
      ]
    },
    {
      "cell_type": "code",
      "source": [
        "df.sample(10)"
      ],
      "metadata": {
        "colab": {
          "base_uri": "https://localhost:8080/",
          "height": 363
        },
        "id": "7i18ZzHttlJ9",
        "outputId": "1d69af15-ba4f-40b7-a321-7c2aa78d0c2c"
      },
      "execution_count": 4,
      "outputs": [
        {
          "output_type": "execute_result",
          "data": {
            "text/plain": [
              "          id   timestamp  full_sq  life_sq  floor  state  max_floor  material  \\\n",
              "2525   12711  2013-12-02       60     48.0    2.0    1.0       15.0       2.0   \n",
              "6946   18065  2014-04-30       42      1.0    5.0    1.0        1.0       1.0   \n",
              "18856   7731  2013-04-30       38      NaN    9.0    NaN        NaN       NaN   \n",
              "8658   20167  2014-06-26       99     99.0   17.0    1.0       17.0       6.0   \n",
              "7373   18600  2014-05-19       60     44.0    7.0    3.0        9.0       1.0   \n",
              "13948  26789  2014-12-18       37     22.0    8.0    3.0        8.0       1.0   \n",
              "1571   11545  2013-10-24       41     20.0    8.0    2.0       12.0       1.0   \n",
              "8325   19744  2014-06-17      127     68.0    6.0    3.0       27.0       6.0   \n",
              "11027  23058  2014-09-29       53     30.0   10.0    3.0       12.0       1.0   \n",
              "2374   12533  2013-11-27       39     38.0    8.0    3.0        9.0       2.0   \n",
              "\n",
              "      build_year  num_room  kitch_sq  full_all              sub_area  \\\n",
              "2525      2014.0       2.0      10.0    116742              Tverskoe   \n",
              "6946         1.0       1.0       1.0    221709              Krjukovo   \n",
              "18856        NaN       NaN       NaN    247469            Nekrasovka   \n",
              "8658      2017.0       3.0       0.0     61039               Ramenki   \n",
              "7373      1972.0       3.0       6.0   1362363        Akademicheskoe   \n",
              "13948     1963.0       2.0       7.0    130396           Cheremushki   \n",
              "1571      1978.0       1.0       8.0    105663       Juzhnoe Tushino   \n",
              "8325      2011.0       4.0      10.0    155427    Horoshevo-Mnevniki   \n",
              "11027     1983.0       2.0       8.0   1716730  Birjulevo Vostochnoe   \n",
              "2374      1974.0       2.0       6.0   1452550           Bogorodskoe   \n",
              "\n",
              "       price_doc  \n",
              "2525     5154704  \n",
              "6946     4643400  \n",
              "18856    4384594  \n",
              "8658    17016210  \n",
              "7373     8500000  \n",
              "13948    6900000  \n",
              "1571     6500000  \n",
              "8325     9840000  \n",
              "11027    7400000  \n",
              "2374     7200000  "
            ],
            "text/html": [
              "\n",
              "  <div id=\"df-932d9d66-50cc-4ea6-a18f-f4d4592728fe\">\n",
              "    <div class=\"colab-df-container\">\n",
              "      <div>\n",
              "<style scoped>\n",
              "    .dataframe tbody tr th:only-of-type {\n",
              "        vertical-align: middle;\n",
              "    }\n",
              "\n",
              "    .dataframe tbody tr th {\n",
              "        vertical-align: top;\n",
              "    }\n",
              "\n",
              "    .dataframe thead th {\n",
              "        text-align: right;\n",
              "    }\n",
              "</style>\n",
              "<table border=\"1\" class=\"dataframe\">\n",
              "  <thead>\n",
              "    <tr style=\"text-align: right;\">\n",
              "      <th></th>\n",
              "      <th>id</th>\n",
              "      <th>timestamp</th>\n",
              "      <th>full_sq</th>\n",
              "      <th>life_sq</th>\n",
              "      <th>floor</th>\n",
              "      <th>state</th>\n",
              "      <th>max_floor</th>\n",
              "      <th>material</th>\n",
              "      <th>build_year</th>\n",
              "      <th>num_room</th>\n",
              "      <th>kitch_sq</th>\n",
              "      <th>full_all</th>\n",
              "      <th>sub_area</th>\n",
              "      <th>price_doc</th>\n",
              "    </tr>\n",
              "  </thead>\n",
              "  <tbody>\n",
              "    <tr>\n",
              "      <th>2525</th>\n",
              "      <td>12711</td>\n",
              "      <td>2013-12-02</td>\n",
              "      <td>60</td>\n",
              "      <td>48.0</td>\n",
              "      <td>2.0</td>\n",
              "      <td>1.0</td>\n",
              "      <td>15.0</td>\n",
              "      <td>2.0</td>\n",
              "      <td>2014.0</td>\n",
              "      <td>2.0</td>\n",
              "      <td>10.0</td>\n",
              "      <td>116742</td>\n",
              "      <td>Tverskoe</td>\n",
              "      <td>5154704</td>\n",
              "    </tr>\n",
              "    <tr>\n",
              "      <th>6946</th>\n",
              "      <td>18065</td>\n",
              "      <td>2014-04-30</td>\n",
              "      <td>42</td>\n",
              "      <td>1.0</td>\n",
              "      <td>5.0</td>\n",
              "      <td>1.0</td>\n",
              "      <td>1.0</td>\n",
              "      <td>1.0</td>\n",
              "      <td>1.0</td>\n",
              "      <td>1.0</td>\n",
              "      <td>1.0</td>\n",
              "      <td>221709</td>\n",
              "      <td>Krjukovo</td>\n",
              "      <td>4643400</td>\n",
              "    </tr>\n",
              "    <tr>\n",
              "      <th>18856</th>\n",
              "      <td>7731</td>\n",
              "      <td>2013-04-30</td>\n",
              "      <td>38</td>\n",
              "      <td>NaN</td>\n",
              "      <td>9.0</td>\n",
              "      <td>NaN</td>\n",
              "      <td>NaN</td>\n",
              "      <td>NaN</td>\n",
              "      <td>NaN</td>\n",
              "      <td>NaN</td>\n",
              "      <td>NaN</td>\n",
              "      <td>247469</td>\n",
              "      <td>Nekrasovka</td>\n",
              "      <td>4384594</td>\n",
              "    </tr>\n",
              "    <tr>\n",
              "      <th>8658</th>\n",
              "      <td>20167</td>\n",
              "      <td>2014-06-26</td>\n",
              "      <td>99</td>\n",
              "      <td>99.0</td>\n",
              "      <td>17.0</td>\n",
              "      <td>1.0</td>\n",
              "      <td>17.0</td>\n",
              "      <td>6.0</td>\n",
              "      <td>2017.0</td>\n",
              "      <td>3.0</td>\n",
              "      <td>0.0</td>\n",
              "      <td>61039</td>\n",
              "      <td>Ramenki</td>\n",
              "      <td>17016210</td>\n",
              "    </tr>\n",
              "    <tr>\n",
              "      <th>7373</th>\n",
              "      <td>18600</td>\n",
              "      <td>2014-05-19</td>\n",
              "      <td>60</td>\n",
              "      <td>44.0</td>\n",
              "      <td>7.0</td>\n",
              "      <td>3.0</td>\n",
              "      <td>9.0</td>\n",
              "      <td>1.0</td>\n",
              "      <td>1972.0</td>\n",
              "      <td>3.0</td>\n",
              "      <td>6.0</td>\n",
              "      <td>1362363</td>\n",
              "      <td>Akademicheskoe</td>\n",
              "      <td>8500000</td>\n",
              "    </tr>\n",
              "    <tr>\n",
              "      <th>13948</th>\n",
              "      <td>26789</td>\n",
              "      <td>2014-12-18</td>\n",
              "      <td>37</td>\n",
              "      <td>22.0</td>\n",
              "      <td>8.0</td>\n",
              "      <td>3.0</td>\n",
              "      <td>8.0</td>\n",
              "      <td>1.0</td>\n",
              "      <td>1963.0</td>\n",
              "      <td>2.0</td>\n",
              "      <td>7.0</td>\n",
              "      <td>130396</td>\n",
              "      <td>Cheremushki</td>\n",
              "      <td>6900000</td>\n",
              "    </tr>\n",
              "    <tr>\n",
              "      <th>1571</th>\n",
              "      <td>11545</td>\n",
              "      <td>2013-10-24</td>\n",
              "      <td>41</td>\n",
              "      <td>20.0</td>\n",
              "      <td>8.0</td>\n",
              "      <td>2.0</td>\n",
              "      <td>12.0</td>\n",
              "      <td>1.0</td>\n",
              "      <td>1978.0</td>\n",
              "      <td>1.0</td>\n",
              "      <td>8.0</td>\n",
              "      <td>105663</td>\n",
              "      <td>Juzhnoe Tushino</td>\n",
              "      <td>6500000</td>\n",
              "    </tr>\n",
              "    <tr>\n",
              "      <th>8325</th>\n",
              "      <td>19744</td>\n",
              "      <td>2014-06-17</td>\n",
              "      <td>127</td>\n",
              "      <td>68.0</td>\n",
              "      <td>6.0</td>\n",
              "      <td>3.0</td>\n",
              "      <td>27.0</td>\n",
              "      <td>6.0</td>\n",
              "      <td>2011.0</td>\n",
              "      <td>4.0</td>\n",
              "      <td>10.0</td>\n",
              "      <td>155427</td>\n",
              "      <td>Horoshevo-Mnevniki</td>\n",
              "      <td>9840000</td>\n",
              "    </tr>\n",
              "    <tr>\n",
              "      <th>11027</th>\n",
              "      <td>23058</td>\n",
              "      <td>2014-09-29</td>\n",
              "      <td>53</td>\n",
              "      <td>30.0</td>\n",
              "      <td>10.0</td>\n",
              "      <td>3.0</td>\n",
              "      <td>12.0</td>\n",
              "      <td>1.0</td>\n",
              "      <td>1983.0</td>\n",
              "      <td>2.0</td>\n",
              "      <td>8.0</td>\n",
              "      <td>1716730</td>\n",
              "      <td>Birjulevo Vostochnoe</td>\n",
              "      <td>7400000</td>\n",
              "    </tr>\n",
              "    <tr>\n",
              "      <th>2374</th>\n",
              "      <td>12533</td>\n",
              "      <td>2013-11-27</td>\n",
              "      <td>39</td>\n",
              "      <td>38.0</td>\n",
              "      <td>8.0</td>\n",
              "      <td>3.0</td>\n",
              "      <td>9.0</td>\n",
              "      <td>2.0</td>\n",
              "      <td>1974.0</td>\n",
              "      <td>2.0</td>\n",
              "      <td>6.0</td>\n",
              "      <td>1452550</td>\n",
              "      <td>Bogorodskoe</td>\n",
              "      <td>7200000</td>\n",
              "    </tr>\n",
              "  </tbody>\n",
              "</table>\n",
              "</div>\n",
              "      <button class=\"colab-df-convert\" onclick=\"convertToInteractive('df-932d9d66-50cc-4ea6-a18f-f4d4592728fe')\"\n",
              "              title=\"Convert this dataframe to an interactive table.\"\n",
              "              style=\"display:none;\">\n",
              "        \n",
              "  <svg xmlns=\"http://www.w3.org/2000/svg\" height=\"24px\"viewBox=\"0 0 24 24\"\n",
              "       width=\"24px\">\n",
              "    <path d=\"M0 0h24v24H0V0z\" fill=\"none\"/>\n",
              "    <path d=\"M18.56 5.44l.94 2.06.94-2.06 2.06-.94-2.06-.94-.94-2.06-.94 2.06-2.06.94zm-11 1L8.5 8.5l.94-2.06 2.06-.94-2.06-.94L8.5 2.5l-.94 2.06-2.06.94zm10 10l.94 2.06.94-2.06 2.06-.94-2.06-.94-.94-2.06-.94 2.06-2.06.94z\"/><path d=\"M17.41 7.96l-1.37-1.37c-.4-.4-.92-.59-1.43-.59-.52 0-1.04.2-1.43.59L10.3 9.45l-7.72 7.72c-.78.78-.78 2.05 0 2.83L4 21.41c.39.39.9.59 1.41.59.51 0 1.02-.2 1.41-.59l7.78-7.78 2.81-2.81c.8-.78.8-2.07 0-2.86zM5.41 20L4 18.59l7.72-7.72 1.47 1.35L5.41 20z\"/>\n",
              "  </svg>\n",
              "      </button>\n",
              "      \n",
              "  <style>\n",
              "    .colab-df-container {\n",
              "      display:flex;\n",
              "      flex-wrap:wrap;\n",
              "      gap: 12px;\n",
              "    }\n",
              "\n",
              "    .colab-df-convert {\n",
              "      background-color: #E8F0FE;\n",
              "      border: none;\n",
              "      border-radius: 50%;\n",
              "      cursor: pointer;\n",
              "      display: none;\n",
              "      fill: #1967D2;\n",
              "      height: 32px;\n",
              "      padding: 0 0 0 0;\n",
              "      width: 32px;\n",
              "    }\n",
              "\n",
              "    .colab-df-convert:hover {\n",
              "      background-color: #E2EBFA;\n",
              "      box-shadow: 0px 1px 2px rgba(60, 64, 67, 0.3), 0px 1px 3px 1px rgba(60, 64, 67, 0.15);\n",
              "      fill: #174EA6;\n",
              "    }\n",
              "\n",
              "    [theme=dark] .colab-df-convert {\n",
              "      background-color: #3B4455;\n",
              "      fill: #D2E3FC;\n",
              "    }\n",
              "\n",
              "    [theme=dark] .colab-df-convert:hover {\n",
              "      background-color: #434B5C;\n",
              "      box-shadow: 0px 1px 3px 1px rgba(0, 0, 0, 0.15);\n",
              "      filter: drop-shadow(0px 1px 2px rgba(0, 0, 0, 0.3));\n",
              "      fill: #FFFFFF;\n",
              "    }\n",
              "  </style>\n",
              "\n",
              "      <script>\n",
              "        const buttonEl =\n",
              "          document.querySelector('#df-932d9d66-50cc-4ea6-a18f-f4d4592728fe button.colab-df-convert');\n",
              "        buttonEl.style.display =\n",
              "          google.colab.kernel.accessAllowed ? 'block' : 'none';\n",
              "\n",
              "        async function convertToInteractive(key) {\n",
              "          const element = document.querySelector('#df-932d9d66-50cc-4ea6-a18f-f4d4592728fe');\n",
              "          const dataTable =\n",
              "            await google.colab.kernel.invokeFunction('convertToInteractive',\n",
              "                                                     [key], {});\n",
              "          if (!dataTable) return;\n",
              "\n",
              "          const docLinkHtml = 'Like what you see? Visit the ' +\n",
              "            '<a target=\"_blank\" href=https://colab.research.google.com/notebooks/data_table.ipynb>data table notebook</a>'\n",
              "            + ' to learn more about interactive tables.';\n",
              "          element.innerHTML = '';\n",
              "          dataTable['output_type'] = 'display_data';\n",
              "          await google.colab.output.renderOutput(dataTable, element);\n",
              "          const docLink = document.createElement('div');\n",
              "          docLink.innerHTML = docLinkHtml;\n",
              "          element.appendChild(docLink);\n",
              "        }\n",
              "      </script>\n",
              "    </div>\n",
              "  </div>\n",
              "  "
            ]
          },
          "metadata": {},
          "execution_count": 4
        }
      ]
    },
    {
      "cell_type": "markdown",
      "source": [
        "Размер набора данных"
      ],
      "metadata": {
        "id": "5bIgx3BZWb7W"
      }
    },
    {
      "cell_type": "code",
      "metadata": {
        "id": "8YtRZ5qi0epJ",
        "colab": {
          "base_uri": "https://localhost:8080/"
        },
        "outputId": "18a1c641-56af-42ec-c43d-3d18f2df759d"
      },
      "source": [
        "df.shape"
      ],
      "execution_count": 5,
      "outputs": [
        {
          "output_type": "execute_result",
          "data": {
            "text/plain": [
              "(18866, 14)"
            ]
          },
          "metadata": {},
          "execution_count": 5
        }
      ]
    },
    {
      "cell_type": "code",
      "source": [
        "df.size"
      ],
      "metadata": {
        "colab": {
          "base_uri": "https://localhost:8080/"
        },
        "id": "IimpNHYxPd2h",
        "outputId": "dd6f5dbe-ae1a-463c-931c-5a8a4e733f69"
      },
      "execution_count": 6,
      "outputs": [
        {
          "output_type": "execute_result",
          "data": {
            "text/plain": [
              "264124"
            ]
          },
          "metadata": {},
          "execution_count": 6
        }
      ]
    },
    {
      "cell_type": "markdown",
      "source": [
        "Описание типов данных по признакам"
      ],
      "metadata": {
        "id": "hw0FkRPTT4LQ"
      }
    },
    {
      "cell_type": "markdown",
      "source": [
        "##### TODO: maybe simplify later"
      ],
      "metadata": {
        "id": "Bm5SllwPmfen"
      }
    },
    {
      "cell_type": "code",
      "source": [
        "df['timestamp'] = pd.to_datetime(df['timestamp'])"
      ],
      "metadata": {
        "id": "Nd4dHl_bRkQS"
      },
      "execution_count": 7,
      "outputs": []
    },
    {
      "cell_type": "code",
      "source": [
        "pattern = re.compile(\"^[0-9]{4}\\.[0-9]$\")\n",
        "df['build_year'] = df['build_year'].apply(lambda x: x[:4] if isinstance(x, str) and pattern.match(x) else np.nan)"
      ],
      "metadata": {
        "id": "Pl_gn2TuYwuQ"
      },
      "execution_count": 8,
      "outputs": []
    },
    {
      "cell_type": "code",
      "source": [
        "df['build_year'] = pd.to_numeric(df['build_year'], downcast='integer')"
      ],
      "metadata": {
        "id": "m0a_nI_zjINs"
      },
      "execution_count": 9,
      "outputs": []
    },
    {
      "cell_type": "code",
      "source": [
        "df['build_year'] = pd.to_datetime(df['build_year'], format='%Y', errors='coerce')"
      ],
      "metadata": {
        "id": "leCx6IAymCvO"
      },
      "execution_count": 10,
      "outputs": []
    },
    {
      "cell_type": "code",
      "source": [
        "df.head()"
      ],
      "metadata": {
        "colab": {
          "base_uri": "https://localhost:8080/",
          "height": 206
        },
        "id": "ulgTGK7igU4D",
        "outputId": "ce24e541-e07c-4910-8ee3-8c102264782a"
      },
      "execution_count": 11,
      "outputs": [
        {
          "output_type": "execute_result",
          "data": {
            "text/plain": [
              "     id  timestamp  full_sq  life_sq  floor  state  max_floor  material  \\\n",
              "0  8059 2013-05-21       11     11.0    2.0    3.0        5.0       2.0   \n",
              "1  8138 2013-05-25       53     30.0   10.0    3.0       16.0       1.0   \n",
              "2  8156 2013-05-27       77     41.0    2.0    1.0       17.0       6.0   \n",
              "3  8157 2013-05-27       45     27.0    6.0    3.0        9.0       1.0   \n",
              "4  8178 2013-05-28       38     20.0   15.0    NaN       16.0       1.0   \n",
              "\n",
              "  build_year  num_room  kitch_sq  full_all                 sub_area  price_doc  \n",
              "0 1907-01-01       1.0      12.0     75377                Hamovniki    2750000  \n",
              "1 1980-01-01       2.0       8.0     68630                Lianozovo    9000000  \n",
              "2 2014-01-01       3.0      12.0      9553  Poselenie Voskresenskoe    7011550  \n",
              "3 1970-01-01       2.0       6.0     78616          Severnoe Butovo    7100000  \n",
              "4 1982-01-01       1.0       8.0    112804           Filevskij Park    6450000  "
            ],
            "text/html": [
              "\n",
              "  <div id=\"df-ab1bc302-80fd-41c4-896a-908e540f712f\">\n",
              "    <div class=\"colab-df-container\">\n",
              "      <div>\n",
              "<style scoped>\n",
              "    .dataframe tbody tr th:only-of-type {\n",
              "        vertical-align: middle;\n",
              "    }\n",
              "\n",
              "    .dataframe tbody tr th {\n",
              "        vertical-align: top;\n",
              "    }\n",
              "\n",
              "    .dataframe thead th {\n",
              "        text-align: right;\n",
              "    }\n",
              "</style>\n",
              "<table border=\"1\" class=\"dataframe\">\n",
              "  <thead>\n",
              "    <tr style=\"text-align: right;\">\n",
              "      <th></th>\n",
              "      <th>id</th>\n",
              "      <th>timestamp</th>\n",
              "      <th>full_sq</th>\n",
              "      <th>life_sq</th>\n",
              "      <th>floor</th>\n",
              "      <th>state</th>\n",
              "      <th>max_floor</th>\n",
              "      <th>material</th>\n",
              "      <th>build_year</th>\n",
              "      <th>num_room</th>\n",
              "      <th>kitch_sq</th>\n",
              "      <th>full_all</th>\n",
              "      <th>sub_area</th>\n",
              "      <th>price_doc</th>\n",
              "    </tr>\n",
              "  </thead>\n",
              "  <tbody>\n",
              "    <tr>\n",
              "      <th>0</th>\n",
              "      <td>8059</td>\n",
              "      <td>2013-05-21</td>\n",
              "      <td>11</td>\n",
              "      <td>11.0</td>\n",
              "      <td>2.0</td>\n",
              "      <td>3.0</td>\n",
              "      <td>5.0</td>\n",
              "      <td>2.0</td>\n",
              "      <td>1907-01-01</td>\n",
              "      <td>1.0</td>\n",
              "      <td>12.0</td>\n",
              "      <td>75377</td>\n",
              "      <td>Hamovniki</td>\n",
              "      <td>2750000</td>\n",
              "    </tr>\n",
              "    <tr>\n",
              "      <th>1</th>\n",
              "      <td>8138</td>\n",
              "      <td>2013-05-25</td>\n",
              "      <td>53</td>\n",
              "      <td>30.0</td>\n",
              "      <td>10.0</td>\n",
              "      <td>3.0</td>\n",
              "      <td>16.0</td>\n",
              "      <td>1.0</td>\n",
              "      <td>1980-01-01</td>\n",
              "      <td>2.0</td>\n",
              "      <td>8.0</td>\n",
              "      <td>68630</td>\n",
              "      <td>Lianozovo</td>\n",
              "      <td>9000000</td>\n",
              "    </tr>\n",
              "    <tr>\n",
              "      <th>2</th>\n",
              "      <td>8156</td>\n",
              "      <td>2013-05-27</td>\n",
              "      <td>77</td>\n",
              "      <td>41.0</td>\n",
              "      <td>2.0</td>\n",
              "      <td>1.0</td>\n",
              "      <td>17.0</td>\n",
              "      <td>6.0</td>\n",
              "      <td>2014-01-01</td>\n",
              "      <td>3.0</td>\n",
              "      <td>12.0</td>\n",
              "      <td>9553</td>\n",
              "      <td>Poselenie Voskresenskoe</td>\n",
              "      <td>7011550</td>\n",
              "    </tr>\n",
              "    <tr>\n",
              "      <th>3</th>\n",
              "      <td>8157</td>\n",
              "      <td>2013-05-27</td>\n",
              "      <td>45</td>\n",
              "      <td>27.0</td>\n",
              "      <td>6.0</td>\n",
              "      <td>3.0</td>\n",
              "      <td>9.0</td>\n",
              "      <td>1.0</td>\n",
              "      <td>1970-01-01</td>\n",
              "      <td>2.0</td>\n",
              "      <td>6.0</td>\n",
              "      <td>78616</td>\n",
              "      <td>Severnoe Butovo</td>\n",
              "      <td>7100000</td>\n",
              "    </tr>\n",
              "    <tr>\n",
              "      <th>4</th>\n",
              "      <td>8178</td>\n",
              "      <td>2013-05-28</td>\n",
              "      <td>38</td>\n",
              "      <td>20.0</td>\n",
              "      <td>15.0</td>\n",
              "      <td>NaN</td>\n",
              "      <td>16.0</td>\n",
              "      <td>1.0</td>\n",
              "      <td>1982-01-01</td>\n",
              "      <td>1.0</td>\n",
              "      <td>8.0</td>\n",
              "      <td>112804</td>\n",
              "      <td>Filevskij Park</td>\n",
              "      <td>6450000</td>\n",
              "    </tr>\n",
              "  </tbody>\n",
              "</table>\n",
              "</div>\n",
              "      <button class=\"colab-df-convert\" onclick=\"convertToInteractive('df-ab1bc302-80fd-41c4-896a-908e540f712f')\"\n",
              "              title=\"Convert this dataframe to an interactive table.\"\n",
              "              style=\"display:none;\">\n",
              "        \n",
              "  <svg xmlns=\"http://www.w3.org/2000/svg\" height=\"24px\"viewBox=\"0 0 24 24\"\n",
              "       width=\"24px\">\n",
              "    <path d=\"M0 0h24v24H0V0z\" fill=\"none\"/>\n",
              "    <path d=\"M18.56 5.44l.94 2.06.94-2.06 2.06-.94-2.06-.94-.94-2.06-.94 2.06-2.06.94zm-11 1L8.5 8.5l.94-2.06 2.06-.94-2.06-.94L8.5 2.5l-.94 2.06-2.06.94zm10 10l.94 2.06.94-2.06 2.06-.94-2.06-.94-.94-2.06-.94 2.06-2.06.94z\"/><path d=\"M17.41 7.96l-1.37-1.37c-.4-.4-.92-.59-1.43-.59-.52 0-1.04.2-1.43.59L10.3 9.45l-7.72 7.72c-.78.78-.78 2.05 0 2.83L4 21.41c.39.39.9.59 1.41.59.51 0 1.02-.2 1.41-.59l7.78-7.78 2.81-2.81c.8-.78.8-2.07 0-2.86zM5.41 20L4 18.59l7.72-7.72 1.47 1.35L5.41 20z\"/>\n",
              "  </svg>\n",
              "      </button>\n",
              "      \n",
              "  <style>\n",
              "    .colab-df-container {\n",
              "      display:flex;\n",
              "      flex-wrap:wrap;\n",
              "      gap: 12px;\n",
              "    }\n",
              "\n",
              "    .colab-df-convert {\n",
              "      background-color: #E8F0FE;\n",
              "      border: none;\n",
              "      border-radius: 50%;\n",
              "      cursor: pointer;\n",
              "      display: none;\n",
              "      fill: #1967D2;\n",
              "      height: 32px;\n",
              "      padding: 0 0 0 0;\n",
              "      width: 32px;\n",
              "    }\n",
              "\n",
              "    .colab-df-convert:hover {\n",
              "      background-color: #E2EBFA;\n",
              "      box-shadow: 0px 1px 2px rgba(60, 64, 67, 0.3), 0px 1px 3px 1px rgba(60, 64, 67, 0.15);\n",
              "      fill: #174EA6;\n",
              "    }\n",
              "\n",
              "    [theme=dark] .colab-df-convert {\n",
              "      background-color: #3B4455;\n",
              "      fill: #D2E3FC;\n",
              "    }\n",
              "\n",
              "    [theme=dark] .colab-df-convert:hover {\n",
              "      background-color: #434B5C;\n",
              "      box-shadow: 0px 1px 3px 1px rgba(0, 0, 0, 0.15);\n",
              "      filter: drop-shadow(0px 1px 2px rgba(0, 0, 0, 0.3));\n",
              "      fill: #FFFFFF;\n",
              "    }\n",
              "  </style>\n",
              "\n",
              "      <script>\n",
              "        const buttonEl =\n",
              "          document.querySelector('#df-ab1bc302-80fd-41c4-896a-908e540f712f button.colab-df-convert');\n",
              "        buttonEl.style.display =\n",
              "          google.colab.kernel.accessAllowed ? 'block' : 'none';\n",
              "\n",
              "        async function convertToInteractive(key) {\n",
              "          const element = document.querySelector('#df-ab1bc302-80fd-41c4-896a-908e540f712f');\n",
              "          const dataTable =\n",
              "            await google.colab.kernel.invokeFunction('convertToInteractive',\n",
              "                                                     [key], {});\n",
              "          if (!dataTable) return;\n",
              "\n",
              "          const docLinkHtml = 'Like what you see? Visit the ' +\n",
              "            '<a target=\"_blank\" href=https://colab.research.google.com/notebooks/data_table.ipynb>data table notebook</a>'\n",
              "            + ' to learn more about interactive tables.';\n",
              "          element.innerHTML = '';\n",
              "          dataTable['output_type'] = 'display_data';\n",
              "          await google.colab.output.renderOutput(dataTable, element);\n",
              "          const docLink = document.createElement('div');\n",
              "          docLink.innerHTML = docLinkHtml;\n",
              "          element.appendChild(docLink);\n",
              "        }\n",
              "      </script>\n",
              "    </div>\n",
              "  </div>\n",
              "  "
            ]
          },
          "metadata": {},
          "execution_count": 11
        }
      ]
    },
    {
      "cell_type": "code",
      "source": [
        "df.info()"
      ],
      "metadata": {
        "colab": {
          "base_uri": "https://localhost:8080/"
        },
        "id": "5lbdE3zgRF6W",
        "outputId": "b7d0f8cc-9664-4d49-8965-8210841f83e3"
      },
      "execution_count": 12,
      "outputs": [
        {
          "output_type": "stream",
          "name": "stdout",
          "text": [
            "<class 'pandas.core.frame.DataFrame'>\n",
            "RangeIndex: 18866 entries, 0 to 18865\n",
            "Data columns (total 14 columns):\n",
            " #   Column      Non-Null Count  Dtype         \n",
            "---  ------      --------------  -----         \n",
            " 0   id          18866 non-null  int64         \n",
            " 1   timestamp   18866 non-null  datetime64[ns]\n",
            " 2   full_sq     18866 non-null  int64         \n",
            " 3   life_sq     17291 non-null  float64       \n",
            " 4   floor       18838 non-null  float64       \n",
            " 5   state       15505 non-null  float64       \n",
            " 6   max_floor   17445 non-null  float64       \n",
            " 7   material    17445 non-null  float64       \n",
            " 8   build_year  15961 non-null  datetime64[ns]\n",
            " 9   num_room    17445 non-null  float64       \n",
            " 10  kitch_sq    17445 non-null  float64       \n",
            " 11  full_all    18866 non-null  int64         \n",
            " 12  sub_area    18866 non-null  object        \n",
            " 13  price_doc   18866 non-null  int64         \n",
            "dtypes: datetime64[ns](2), float64(7), int64(4), object(1)\n",
            "memory usage: 2.0+ MB\n"
          ]
        }
      ]
    },
    {
      "cell_type": "code",
      "source": [
        "df.head()"
      ],
      "metadata": {
        "colab": {
          "base_uri": "https://localhost:8080/",
          "height": 206
        },
        "id": "ZIS4FRwvYdi2",
        "outputId": "dd7e3681-542f-4216-929a-653bee456b1e"
      },
      "execution_count": 13,
      "outputs": [
        {
          "output_type": "execute_result",
          "data": {
            "text/plain": [
              "     id  timestamp  full_sq  life_sq  floor  state  max_floor  material  \\\n",
              "0  8059 2013-05-21       11     11.0    2.0    3.0        5.0       2.0   \n",
              "1  8138 2013-05-25       53     30.0   10.0    3.0       16.0       1.0   \n",
              "2  8156 2013-05-27       77     41.0    2.0    1.0       17.0       6.0   \n",
              "3  8157 2013-05-27       45     27.0    6.0    3.0        9.0       1.0   \n",
              "4  8178 2013-05-28       38     20.0   15.0    NaN       16.0       1.0   \n",
              "\n",
              "  build_year  num_room  kitch_sq  full_all                 sub_area  price_doc  \n",
              "0 1907-01-01       1.0      12.0     75377                Hamovniki    2750000  \n",
              "1 1980-01-01       2.0       8.0     68630                Lianozovo    9000000  \n",
              "2 2014-01-01       3.0      12.0      9553  Poselenie Voskresenskoe    7011550  \n",
              "3 1970-01-01       2.0       6.0     78616          Severnoe Butovo    7100000  \n",
              "4 1982-01-01       1.0       8.0    112804           Filevskij Park    6450000  "
            ],
            "text/html": [
              "\n",
              "  <div id=\"df-a5b6af9d-fa58-4b07-9d36-2d97a8101239\">\n",
              "    <div class=\"colab-df-container\">\n",
              "      <div>\n",
              "<style scoped>\n",
              "    .dataframe tbody tr th:only-of-type {\n",
              "        vertical-align: middle;\n",
              "    }\n",
              "\n",
              "    .dataframe tbody tr th {\n",
              "        vertical-align: top;\n",
              "    }\n",
              "\n",
              "    .dataframe thead th {\n",
              "        text-align: right;\n",
              "    }\n",
              "</style>\n",
              "<table border=\"1\" class=\"dataframe\">\n",
              "  <thead>\n",
              "    <tr style=\"text-align: right;\">\n",
              "      <th></th>\n",
              "      <th>id</th>\n",
              "      <th>timestamp</th>\n",
              "      <th>full_sq</th>\n",
              "      <th>life_sq</th>\n",
              "      <th>floor</th>\n",
              "      <th>state</th>\n",
              "      <th>max_floor</th>\n",
              "      <th>material</th>\n",
              "      <th>build_year</th>\n",
              "      <th>num_room</th>\n",
              "      <th>kitch_sq</th>\n",
              "      <th>full_all</th>\n",
              "      <th>sub_area</th>\n",
              "      <th>price_doc</th>\n",
              "    </tr>\n",
              "  </thead>\n",
              "  <tbody>\n",
              "    <tr>\n",
              "      <th>0</th>\n",
              "      <td>8059</td>\n",
              "      <td>2013-05-21</td>\n",
              "      <td>11</td>\n",
              "      <td>11.0</td>\n",
              "      <td>2.0</td>\n",
              "      <td>3.0</td>\n",
              "      <td>5.0</td>\n",
              "      <td>2.0</td>\n",
              "      <td>1907-01-01</td>\n",
              "      <td>1.0</td>\n",
              "      <td>12.0</td>\n",
              "      <td>75377</td>\n",
              "      <td>Hamovniki</td>\n",
              "      <td>2750000</td>\n",
              "    </tr>\n",
              "    <tr>\n",
              "      <th>1</th>\n",
              "      <td>8138</td>\n",
              "      <td>2013-05-25</td>\n",
              "      <td>53</td>\n",
              "      <td>30.0</td>\n",
              "      <td>10.0</td>\n",
              "      <td>3.0</td>\n",
              "      <td>16.0</td>\n",
              "      <td>1.0</td>\n",
              "      <td>1980-01-01</td>\n",
              "      <td>2.0</td>\n",
              "      <td>8.0</td>\n",
              "      <td>68630</td>\n",
              "      <td>Lianozovo</td>\n",
              "      <td>9000000</td>\n",
              "    </tr>\n",
              "    <tr>\n",
              "      <th>2</th>\n",
              "      <td>8156</td>\n",
              "      <td>2013-05-27</td>\n",
              "      <td>77</td>\n",
              "      <td>41.0</td>\n",
              "      <td>2.0</td>\n",
              "      <td>1.0</td>\n",
              "      <td>17.0</td>\n",
              "      <td>6.0</td>\n",
              "      <td>2014-01-01</td>\n",
              "      <td>3.0</td>\n",
              "      <td>12.0</td>\n",
              "      <td>9553</td>\n",
              "      <td>Poselenie Voskresenskoe</td>\n",
              "      <td>7011550</td>\n",
              "    </tr>\n",
              "    <tr>\n",
              "      <th>3</th>\n",
              "      <td>8157</td>\n",
              "      <td>2013-05-27</td>\n",
              "      <td>45</td>\n",
              "      <td>27.0</td>\n",
              "      <td>6.0</td>\n",
              "      <td>3.0</td>\n",
              "      <td>9.0</td>\n",
              "      <td>1.0</td>\n",
              "      <td>1970-01-01</td>\n",
              "      <td>2.0</td>\n",
              "      <td>6.0</td>\n",
              "      <td>78616</td>\n",
              "      <td>Severnoe Butovo</td>\n",
              "      <td>7100000</td>\n",
              "    </tr>\n",
              "    <tr>\n",
              "      <th>4</th>\n",
              "      <td>8178</td>\n",
              "      <td>2013-05-28</td>\n",
              "      <td>38</td>\n",
              "      <td>20.0</td>\n",
              "      <td>15.0</td>\n",
              "      <td>NaN</td>\n",
              "      <td>16.0</td>\n",
              "      <td>1.0</td>\n",
              "      <td>1982-01-01</td>\n",
              "      <td>1.0</td>\n",
              "      <td>8.0</td>\n",
              "      <td>112804</td>\n",
              "      <td>Filevskij Park</td>\n",
              "      <td>6450000</td>\n",
              "    </tr>\n",
              "  </tbody>\n",
              "</table>\n",
              "</div>\n",
              "      <button class=\"colab-df-convert\" onclick=\"convertToInteractive('df-a5b6af9d-fa58-4b07-9d36-2d97a8101239')\"\n",
              "              title=\"Convert this dataframe to an interactive table.\"\n",
              "              style=\"display:none;\">\n",
              "        \n",
              "  <svg xmlns=\"http://www.w3.org/2000/svg\" height=\"24px\"viewBox=\"0 0 24 24\"\n",
              "       width=\"24px\">\n",
              "    <path d=\"M0 0h24v24H0V0z\" fill=\"none\"/>\n",
              "    <path d=\"M18.56 5.44l.94 2.06.94-2.06 2.06-.94-2.06-.94-.94-2.06-.94 2.06-2.06.94zm-11 1L8.5 8.5l.94-2.06 2.06-.94-2.06-.94L8.5 2.5l-.94 2.06-2.06.94zm10 10l.94 2.06.94-2.06 2.06-.94-2.06-.94-.94-2.06-.94 2.06-2.06.94z\"/><path d=\"M17.41 7.96l-1.37-1.37c-.4-.4-.92-.59-1.43-.59-.52 0-1.04.2-1.43.59L10.3 9.45l-7.72 7.72c-.78.78-.78 2.05 0 2.83L4 21.41c.39.39.9.59 1.41.59.51 0 1.02-.2 1.41-.59l7.78-7.78 2.81-2.81c.8-.78.8-2.07 0-2.86zM5.41 20L4 18.59l7.72-7.72 1.47 1.35L5.41 20z\"/>\n",
              "  </svg>\n",
              "      </button>\n",
              "      \n",
              "  <style>\n",
              "    .colab-df-container {\n",
              "      display:flex;\n",
              "      flex-wrap:wrap;\n",
              "      gap: 12px;\n",
              "    }\n",
              "\n",
              "    .colab-df-convert {\n",
              "      background-color: #E8F0FE;\n",
              "      border: none;\n",
              "      border-radius: 50%;\n",
              "      cursor: pointer;\n",
              "      display: none;\n",
              "      fill: #1967D2;\n",
              "      height: 32px;\n",
              "      padding: 0 0 0 0;\n",
              "      width: 32px;\n",
              "    }\n",
              "\n",
              "    .colab-df-convert:hover {\n",
              "      background-color: #E2EBFA;\n",
              "      box-shadow: 0px 1px 2px rgba(60, 64, 67, 0.3), 0px 1px 3px 1px rgba(60, 64, 67, 0.15);\n",
              "      fill: #174EA6;\n",
              "    }\n",
              "\n",
              "    [theme=dark] .colab-df-convert {\n",
              "      background-color: #3B4455;\n",
              "      fill: #D2E3FC;\n",
              "    }\n",
              "\n",
              "    [theme=dark] .colab-df-convert:hover {\n",
              "      background-color: #434B5C;\n",
              "      box-shadow: 0px 1px 3px 1px rgba(0, 0, 0, 0.15);\n",
              "      filter: drop-shadow(0px 1px 2px rgba(0, 0, 0, 0.3));\n",
              "      fill: #FFFFFF;\n",
              "    }\n",
              "  </style>\n",
              "\n",
              "      <script>\n",
              "        const buttonEl =\n",
              "          document.querySelector('#df-a5b6af9d-fa58-4b07-9d36-2d97a8101239 button.colab-df-convert');\n",
              "        buttonEl.style.display =\n",
              "          google.colab.kernel.accessAllowed ? 'block' : 'none';\n",
              "\n",
              "        async function convertToInteractive(key) {\n",
              "          const element = document.querySelector('#df-a5b6af9d-fa58-4b07-9d36-2d97a8101239');\n",
              "          const dataTable =\n",
              "            await google.colab.kernel.invokeFunction('convertToInteractive',\n",
              "                                                     [key], {});\n",
              "          if (!dataTable) return;\n",
              "\n",
              "          const docLinkHtml = 'Like what you see? Visit the ' +\n",
              "            '<a target=\"_blank\" href=https://colab.research.google.com/notebooks/data_table.ipynb>data table notebook</a>'\n",
              "            + ' to learn more about interactive tables.';\n",
              "          element.innerHTML = '';\n",
              "          dataTable['output_type'] = 'display_data';\n",
              "          await google.colab.output.renderOutput(dataTable, element);\n",
              "          const docLink = document.createElement('div');\n",
              "          docLink.innerHTML = docLinkHtml;\n",
              "          element.appendChild(docLink);\n",
              "        }\n",
              "      </script>\n",
              "    </div>\n",
              "  </div>\n",
              "  "
            ]
          },
          "metadata": {},
          "execution_count": 13
        }
      ]
    },
    {
      "cell_type": "markdown",
      "source": [
        "Базовые статистики по признакам"
      ],
      "metadata": {
        "id": "mgmwOM0EZApF"
      }
    },
    {
      "cell_type": "code",
      "source": [
        "df.describe()"
      ],
      "metadata": {
        "id": "owM-qoo0ZBe9",
        "colab": {
          "base_uri": "https://localhost:8080/",
          "height": 300
        },
        "outputId": "1a2402e1-f8e8-47fe-b143-f196c6b50b2f"
      },
      "execution_count": 14,
      "outputs": [
        {
          "output_type": "execute_result",
          "data": {
            "text/plain": [
              "               id     full_sq     life_sq       floor       state   max_floor  \\\n",
              "count  18866.0000  18866.0000  17291.0000  18838.0000  15505.0000  17445.0000   \n",
              "mean   18799.7886     53.9409     34.2592      7.2937      2.2013     12.4233   \n",
              "std     7082.4287     44.1162     59.9446      5.1912      0.8528      6.2798   \n",
              "min        9.0000      0.0000      0.0000      0.0000      1.0000      0.0000   \n",
              "25%    13513.2500     38.0000     20.0000      3.0000      2.0000      9.0000   \n",
              "50%    19043.5000     49.0000     30.0000      6.0000      2.0000     12.0000   \n",
              "75%    24748.7500     63.0000     43.0000     10.0000      3.0000     17.0000   \n",
              "max    30473.0000   5326.0000   7478.0000     77.0000     33.0000     57.0000   \n",
              "\n",
              "         material    num_room    kitch_sq    full_all   price_doc  \n",
              "count  17445.0000  17445.0000  17445.0000  1.8866e+04  1.8866e+04  \n",
              "mean       1.8901      1.9348      7.2064  1.5972e+05  7.5824e+06  \n",
              "std        1.5061      0.8642     26.9816  3.0435e+05  4.9838e+06  \n",
              "min        1.0000      0.0000      0.0000  2.5460e+03  1.0000e+05  \n",
              "25%        1.0000      1.0000      5.0000  4.8439e+04  5.1000e+06  \n",
              "50%        1.0000      2.0000      7.0000  8.7713e+04  6.6855e+06  \n",
              "75%        2.0000      3.0000      9.0000  1.2535e+05  8.9000e+06  \n",
              "max        6.0000     19.0000   2014.0000  1.7167e+06  9.5122e+07  "
            ],
            "text/html": [
              "\n",
              "  <div id=\"df-953d81c1-4962-4d77-b643-7c2492027f5e\">\n",
              "    <div class=\"colab-df-container\">\n",
              "      <div>\n",
              "<style scoped>\n",
              "    .dataframe tbody tr th:only-of-type {\n",
              "        vertical-align: middle;\n",
              "    }\n",
              "\n",
              "    .dataframe tbody tr th {\n",
              "        vertical-align: top;\n",
              "    }\n",
              "\n",
              "    .dataframe thead th {\n",
              "        text-align: right;\n",
              "    }\n",
              "</style>\n",
              "<table border=\"1\" class=\"dataframe\">\n",
              "  <thead>\n",
              "    <tr style=\"text-align: right;\">\n",
              "      <th></th>\n",
              "      <th>id</th>\n",
              "      <th>full_sq</th>\n",
              "      <th>life_sq</th>\n",
              "      <th>floor</th>\n",
              "      <th>state</th>\n",
              "      <th>max_floor</th>\n",
              "      <th>material</th>\n",
              "      <th>num_room</th>\n",
              "      <th>kitch_sq</th>\n",
              "      <th>full_all</th>\n",
              "      <th>price_doc</th>\n",
              "    </tr>\n",
              "  </thead>\n",
              "  <tbody>\n",
              "    <tr>\n",
              "      <th>count</th>\n",
              "      <td>18866.0000</td>\n",
              "      <td>18866.0000</td>\n",
              "      <td>17291.0000</td>\n",
              "      <td>18838.0000</td>\n",
              "      <td>15505.0000</td>\n",
              "      <td>17445.0000</td>\n",
              "      <td>17445.0000</td>\n",
              "      <td>17445.0000</td>\n",
              "      <td>17445.0000</td>\n",
              "      <td>1.8866e+04</td>\n",
              "      <td>1.8866e+04</td>\n",
              "    </tr>\n",
              "    <tr>\n",
              "      <th>mean</th>\n",
              "      <td>18799.7886</td>\n",
              "      <td>53.9409</td>\n",
              "      <td>34.2592</td>\n",
              "      <td>7.2937</td>\n",
              "      <td>2.2013</td>\n",
              "      <td>12.4233</td>\n",
              "      <td>1.8901</td>\n",
              "      <td>1.9348</td>\n",
              "      <td>7.2064</td>\n",
              "      <td>1.5972e+05</td>\n",
              "      <td>7.5824e+06</td>\n",
              "    </tr>\n",
              "    <tr>\n",
              "      <th>std</th>\n",
              "      <td>7082.4287</td>\n",
              "      <td>44.1162</td>\n",
              "      <td>59.9446</td>\n",
              "      <td>5.1912</td>\n",
              "      <td>0.8528</td>\n",
              "      <td>6.2798</td>\n",
              "      <td>1.5061</td>\n",
              "      <td>0.8642</td>\n",
              "      <td>26.9816</td>\n",
              "      <td>3.0435e+05</td>\n",
              "      <td>4.9838e+06</td>\n",
              "    </tr>\n",
              "    <tr>\n",
              "      <th>min</th>\n",
              "      <td>9.0000</td>\n",
              "      <td>0.0000</td>\n",
              "      <td>0.0000</td>\n",
              "      <td>0.0000</td>\n",
              "      <td>1.0000</td>\n",
              "      <td>0.0000</td>\n",
              "      <td>1.0000</td>\n",
              "      <td>0.0000</td>\n",
              "      <td>0.0000</td>\n",
              "      <td>2.5460e+03</td>\n",
              "      <td>1.0000e+05</td>\n",
              "    </tr>\n",
              "    <tr>\n",
              "      <th>25%</th>\n",
              "      <td>13513.2500</td>\n",
              "      <td>38.0000</td>\n",
              "      <td>20.0000</td>\n",
              "      <td>3.0000</td>\n",
              "      <td>2.0000</td>\n",
              "      <td>9.0000</td>\n",
              "      <td>1.0000</td>\n",
              "      <td>1.0000</td>\n",
              "      <td>5.0000</td>\n",
              "      <td>4.8439e+04</td>\n",
              "      <td>5.1000e+06</td>\n",
              "    </tr>\n",
              "    <tr>\n",
              "      <th>50%</th>\n",
              "      <td>19043.5000</td>\n",
              "      <td>49.0000</td>\n",
              "      <td>30.0000</td>\n",
              "      <td>6.0000</td>\n",
              "      <td>2.0000</td>\n",
              "      <td>12.0000</td>\n",
              "      <td>1.0000</td>\n",
              "      <td>2.0000</td>\n",
              "      <td>7.0000</td>\n",
              "      <td>8.7713e+04</td>\n",
              "      <td>6.6855e+06</td>\n",
              "    </tr>\n",
              "    <tr>\n",
              "      <th>75%</th>\n",
              "      <td>24748.7500</td>\n",
              "      <td>63.0000</td>\n",
              "      <td>43.0000</td>\n",
              "      <td>10.0000</td>\n",
              "      <td>3.0000</td>\n",
              "      <td>17.0000</td>\n",
              "      <td>2.0000</td>\n",
              "      <td>3.0000</td>\n",
              "      <td>9.0000</td>\n",
              "      <td>1.2535e+05</td>\n",
              "      <td>8.9000e+06</td>\n",
              "    </tr>\n",
              "    <tr>\n",
              "      <th>max</th>\n",
              "      <td>30473.0000</td>\n",
              "      <td>5326.0000</td>\n",
              "      <td>7478.0000</td>\n",
              "      <td>77.0000</td>\n",
              "      <td>33.0000</td>\n",
              "      <td>57.0000</td>\n",
              "      <td>6.0000</td>\n",
              "      <td>19.0000</td>\n",
              "      <td>2014.0000</td>\n",
              "      <td>1.7167e+06</td>\n",
              "      <td>9.5122e+07</td>\n",
              "    </tr>\n",
              "  </tbody>\n",
              "</table>\n",
              "</div>\n",
              "      <button class=\"colab-df-convert\" onclick=\"convertToInteractive('df-953d81c1-4962-4d77-b643-7c2492027f5e')\"\n",
              "              title=\"Convert this dataframe to an interactive table.\"\n",
              "              style=\"display:none;\">\n",
              "        \n",
              "  <svg xmlns=\"http://www.w3.org/2000/svg\" height=\"24px\"viewBox=\"0 0 24 24\"\n",
              "       width=\"24px\">\n",
              "    <path d=\"M0 0h24v24H0V0z\" fill=\"none\"/>\n",
              "    <path d=\"M18.56 5.44l.94 2.06.94-2.06 2.06-.94-2.06-.94-.94-2.06-.94 2.06-2.06.94zm-11 1L8.5 8.5l.94-2.06 2.06-.94-2.06-.94L8.5 2.5l-.94 2.06-2.06.94zm10 10l.94 2.06.94-2.06 2.06-.94-2.06-.94-.94-2.06-.94 2.06-2.06.94z\"/><path d=\"M17.41 7.96l-1.37-1.37c-.4-.4-.92-.59-1.43-.59-.52 0-1.04.2-1.43.59L10.3 9.45l-7.72 7.72c-.78.78-.78 2.05 0 2.83L4 21.41c.39.39.9.59 1.41.59.51 0 1.02-.2 1.41-.59l7.78-7.78 2.81-2.81c.8-.78.8-2.07 0-2.86zM5.41 20L4 18.59l7.72-7.72 1.47 1.35L5.41 20z\"/>\n",
              "  </svg>\n",
              "      </button>\n",
              "      \n",
              "  <style>\n",
              "    .colab-df-container {\n",
              "      display:flex;\n",
              "      flex-wrap:wrap;\n",
              "      gap: 12px;\n",
              "    }\n",
              "\n",
              "    .colab-df-convert {\n",
              "      background-color: #E8F0FE;\n",
              "      border: none;\n",
              "      border-radius: 50%;\n",
              "      cursor: pointer;\n",
              "      display: none;\n",
              "      fill: #1967D2;\n",
              "      height: 32px;\n",
              "      padding: 0 0 0 0;\n",
              "      width: 32px;\n",
              "    }\n",
              "\n",
              "    .colab-df-convert:hover {\n",
              "      background-color: #E2EBFA;\n",
              "      box-shadow: 0px 1px 2px rgba(60, 64, 67, 0.3), 0px 1px 3px 1px rgba(60, 64, 67, 0.15);\n",
              "      fill: #174EA6;\n",
              "    }\n",
              "\n",
              "    [theme=dark] .colab-df-convert {\n",
              "      background-color: #3B4455;\n",
              "      fill: #D2E3FC;\n",
              "    }\n",
              "\n",
              "    [theme=dark] .colab-df-convert:hover {\n",
              "      background-color: #434B5C;\n",
              "      box-shadow: 0px 1px 3px 1px rgba(0, 0, 0, 0.15);\n",
              "      filter: drop-shadow(0px 1px 2px rgba(0, 0, 0, 0.3));\n",
              "      fill: #FFFFFF;\n",
              "    }\n",
              "  </style>\n",
              "\n",
              "      <script>\n",
              "        const buttonEl =\n",
              "          document.querySelector('#df-953d81c1-4962-4d77-b643-7c2492027f5e button.colab-df-convert');\n",
              "        buttonEl.style.display =\n",
              "          google.colab.kernel.accessAllowed ? 'block' : 'none';\n",
              "\n",
              "        async function convertToInteractive(key) {\n",
              "          const element = document.querySelector('#df-953d81c1-4962-4d77-b643-7c2492027f5e');\n",
              "          const dataTable =\n",
              "            await google.colab.kernel.invokeFunction('convertToInteractive',\n",
              "                                                     [key], {});\n",
              "          if (!dataTable) return;\n",
              "\n",
              "          const docLinkHtml = 'Like what you see? Visit the ' +\n",
              "            '<a target=\"_blank\" href=https://colab.research.google.com/notebooks/data_table.ipynb>data table notebook</a>'\n",
              "            + ' to learn more about interactive tables.';\n",
              "          element.innerHTML = '';\n",
              "          dataTable['output_type'] = 'display_data';\n",
              "          await google.colab.output.renderOutput(dataTable, element);\n",
              "          const docLink = document.createElement('div');\n",
              "          docLink.innerHTML = docLinkHtml;\n",
              "          element.appendChild(docLink);\n",
              "        }\n",
              "      </script>\n",
              "    </div>\n",
              "  </div>\n",
              "  "
            ]
          },
          "metadata": {},
          "execution_count": 14
        }
      ]
    },
    {
      "cell_type": "markdown",
      "source": [
        "Выводы текстом, что вы можете сказать по каждому признаку, на основе базовых статистик"
      ],
      "metadata": {
        "id": "cOAB67VhZGfe"
      }
    },
    {
      "cell_type": "markdown",
      "source": [
        "- Примерно четверть объектов имеют одну жилую комнату, 9 этажей в здании, третий этаж\n",
        "- Самое высокое здание имеет 77 этажей"
      ],
      "metadata": {
        "id": "UgN6nT-aZGfe"
      }
    },
    {
      "cell_type": "markdown",
      "source": [
        "Какие признаки вы считаете полезными для предсказания цены квартиры, а какие по вашему мнению можно убрать. Почему?"
      ],
      "metadata": {
        "id": "H6wWguuMZGof"
      }
    },
    {
      "cell_type": "markdown",
      "source": [
        "- full_sq, life_sq, num_room, floor, kitch_sq, sub_area, max_floor - наиболее подходят для предсказания цены квартиры, именно данными параметрами задается \"престижность\" жилья\n",
        "- sub_area район жилья может влиять на цену, например если район находится в центре города или близок с объектами логистики"
      ],
      "metadata": {
        "id": "GAb01bgZZGof"
      }
    },
    {
      "cell_type": "markdown",
      "source": [
        "Есть ли пропуски в данных? В каких столбцах? Какой процент по каждому столбцу?"
      ],
      "metadata": {
        "id": "oywwEALWZGs2"
      }
    },
    {
      "cell_type": "code",
      "source": [
        "missing_values_quantity = df.isna().sum()\n",
        "missing_values_quantity"
      ],
      "metadata": {
        "id": "oI5jSvEsZGs2",
        "colab": {
          "base_uri": "https://localhost:8080/"
        },
        "outputId": "91c696c2-33d3-426e-cc8b-56c18f0d41d2"
      },
      "execution_count": 15,
      "outputs": [
        {
          "output_type": "execute_result",
          "data": {
            "text/plain": [
              "id               0\n",
              "timestamp        0\n",
              "full_sq          0\n",
              "life_sq       1575\n",
              "floor           28\n",
              "state         3361\n",
              "max_floor     1421\n",
              "material      1421\n",
              "build_year    2905\n",
              "num_room      1421\n",
              "kitch_sq      1421\n",
              "full_all         0\n",
              "sub_area         0\n",
              "price_doc        0\n",
              "dtype: int64"
            ]
          },
          "metadata": {},
          "execution_count": 15
        }
      ]
    },
    {
      "cell_type": "code",
      "source": [
        "missing_data_percent_ratio = round(df.isna().mean() * 100, 2)\n",
        "missing_data_percent_ratio"
      ],
      "metadata": {
        "colab": {
          "base_uri": "https://localhost:8080/"
        },
        "id": "xLL7Glz_xJSU",
        "outputId": "ecc23c14-81ca-4eaf-c5b8-fa572ab10978"
      },
      "execution_count": 16,
      "outputs": [
        {
          "output_type": "execute_result",
          "data": {
            "text/plain": [
              "id             0.00\n",
              "timestamp      0.00\n",
              "full_sq        0.00\n",
              "life_sq        8.35\n",
              "floor          0.15\n",
              "state         17.82\n",
              "max_floor      7.53\n",
              "material       7.53\n",
              "build_year    15.40\n",
              "num_room       7.53\n",
              "kitch_sq       7.53\n",
              "full_all       0.00\n",
              "sub_area       0.00\n",
              "price_doc      0.00\n",
              "dtype: float64"
            ]
          },
          "metadata": {},
          "execution_count": 16
        }
      ]
    },
    {
      "cell_type": "markdown",
      "source": [
        "Есть ли аномальные данные в столбцах? Если да, то укажите на них и объясните, почему считаете аномальными"
      ],
      "metadata": {
        "id": "Sc6aZZnsZGvX"
      }
    },
    {
      "cell_type": "markdown",
      "source": [
        "- 0.0 - минимальная общая площадь, жилая площадь, этаж, количество этажей в здании, количество жилых комнат, площадь кухни скорее всего говорит о том что эти данные нужно опустить из таблицы при дальнейшем анализе\n",
        "- Написано что max_floor - количество этажей в здании и floor - этаж на котором находится единица, но в таблице явно видно что max_floor - 57, а floor - 77, похоже что где-то пропуск, или ошибка если единица находится в данном здании\n",
        "- state - максимальное значение 33 похоже на выброс, учитывая то что среднее значение равно 2.2\n",
        "- build_year - некоторые данные были в неправильном формате, много пропусков по отношению с другими столбцами, не стоит учитывать пропуски в дальнейшем анализе, и год не может быть равен нулю\n",
        "- kitch_sq - максимальное значение похоже на выброс"
      ],
      "metadata": {
        "id": "pOVsn-ONbuBM"
      }
    },
    {
      "cell_type": "markdown",
      "source": [
        "### 1.2.2 Макро показатели"
      ],
      "metadata": {
        "id": "G1kXOjYDdRui"
      }
    },
    {
      "cell_type": "markdown",
      "source": [
        "Вывести пример данных (первые строки и случайные строки)"
      ],
      "metadata": {
        "id": "DnZc-rypdvUy"
      }
    },
    {
      "cell_type": "code",
      "source": [
        "macro.head(10)"
      ],
      "metadata": {
        "id": "4AIWc_yWdvUz",
        "colab": {
          "base_uri": "https://localhost:8080/",
          "height": 363
        },
        "outputId": "b9f94eb9-3599-4bcc-f3df-6fd1afa89585"
      },
      "execution_count": 17,
      "outputs": [
        {
          "output_type": "execute_result",
          "data": {
            "text/plain": [
              "    timestamp   salary  fixed_basket  rent_price_3room_eco  \\\n",
              "0  2010-01-01  38410.5      11443.63                   NaN   \n",
              "1  2010-01-02  38410.5      11443.63                   NaN   \n",
              "2  2010-01-03  38410.5      11443.63                   NaN   \n",
              "3  2010-01-04  38410.5      11443.63                   NaN   \n",
              "4  2010-01-05  38410.5      11443.63                   NaN   \n",
              "5  2010-01-06  38410.5      11443.63                   NaN   \n",
              "6  2010-01-07  38410.5      11443.63                   NaN   \n",
              "7  2010-01-08  38410.5      11443.63                   NaN   \n",
              "8  2010-01-09  38410.5      11443.63                   NaN   \n",
              "9  2010-01-10  38410.5      11443.63                   NaN   \n",
              "\n",
              "   rent_price_2room_eco  rent_price_1room_eco  average_life_exp  \n",
              "0                   NaN                   NaN              74.2  \n",
              "1                   NaN                   NaN              74.2  \n",
              "2                   NaN                   NaN              74.2  \n",
              "3                   NaN                   NaN              74.2  \n",
              "4                   NaN                   NaN              74.2  \n",
              "5                   NaN                   NaN              74.2  \n",
              "6                   NaN                   NaN              74.2  \n",
              "7                   NaN                   NaN              74.2  \n",
              "8                   NaN                   NaN              74.2  \n",
              "9                   NaN                   NaN              74.2  "
            ],
            "text/html": [
              "\n",
              "  <div id=\"df-1f83fde1-74e0-4714-912d-424acc2bedf4\">\n",
              "    <div class=\"colab-df-container\">\n",
              "      <div>\n",
              "<style scoped>\n",
              "    .dataframe tbody tr th:only-of-type {\n",
              "        vertical-align: middle;\n",
              "    }\n",
              "\n",
              "    .dataframe tbody tr th {\n",
              "        vertical-align: top;\n",
              "    }\n",
              "\n",
              "    .dataframe thead th {\n",
              "        text-align: right;\n",
              "    }\n",
              "</style>\n",
              "<table border=\"1\" class=\"dataframe\">\n",
              "  <thead>\n",
              "    <tr style=\"text-align: right;\">\n",
              "      <th></th>\n",
              "      <th>timestamp</th>\n",
              "      <th>salary</th>\n",
              "      <th>fixed_basket</th>\n",
              "      <th>rent_price_3room_eco</th>\n",
              "      <th>rent_price_2room_eco</th>\n",
              "      <th>rent_price_1room_eco</th>\n",
              "      <th>average_life_exp</th>\n",
              "    </tr>\n",
              "  </thead>\n",
              "  <tbody>\n",
              "    <tr>\n",
              "      <th>0</th>\n",
              "      <td>2010-01-01</td>\n",
              "      <td>38410.5</td>\n",
              "      <td>11443.63</td>\n",
              "      <td>NaN</td>\n",
              "      <td>NaN</td>\n",
              "      <td>NaN</td>\n",
              "      <td>74.2</td>\n",
              "    </tr>\n",
              "    <tr>\n",
              "      <th>1</th>\n",
              "      <td>2010-01-02</td>\n",
              "      <td>38410.5</td>\n",
              "      <td>11443.63</td>\n",
              "      <td>NaN</td>\n",
              "      <td>NaN</td>\n",
              "      <td>NaN</td>\n",
              "      <td>74.2</td>\n",
              "    </tr>\n",
              "    <tr>\n",
              "      <th>2</th>\n",
              "      <td>2010-01-03</td>\n",
              "      <td>38410.5</td>\n",
              "      <td>11443.63</td>\n",
              "      <td>NaN</td>\n",
              "      <td>NaN</td>\n",
              "      <td>NaN</td>\n",
              "      <td>74.2</td>\n",
              "    </tr>\n",
              "    <tr>\n",
              "      <th>3</th>\n",
              "      <td>2010-01-04</td>\n",
              "      <td>38410.5</td>\n",
              "      <td>11443.63</td>\n",
              "      <td>NaN</td>\n",
              "      <td>NaN</td>\n",
              "      <td>NaN</td>\n",
              "      <td>74.2</td>\n",
              "    </tr>\n",
              "    <tr>\n",
              "      <th>4</th>\n",
              "      <td>2010-01-05</td>\n",
              "      <td>38410.5</td>\n",
              "      <td>11443.63</td>\n",
              "      <td>NaN</td>\n",
              "      <td>NaN</td>\n",
              "      <td>NaN</td>\n",
              "      <td>74.2</td>\n",
              "    </tr>\n",
              "    <tr>\n",
              "      <th>5</th>\n",
              "      <td>2010-01-06</td>\n",
              "      <td>38410.5</td>\n",
              "      <td>11443.63</td>\n",
              "      <td>NaN</td>\n",
              "      <td>NaN</td>\n",
              "      <td>NaN</td>\n",
              "      <td>74.2</td>\n",
              "    </tr>\n",
              "    <tr>\n",
              "      <th>6</th>\n",
              "      <td>2010-01-07</td>\n",
              "      <td>38410.5</td>\n",
              "      <td>11443.63</td>\n",
              "      <td>NaN</td>\n",
              "      <td>NaN</td>\n",
              "      <td>NaN</td>\n",
              "      <td>74.2</td>\n",
              "    </tr>\n",
              "    <tr>\n",
              "      <th>7</th>\n",
              "      <td>2010-01-08</td>\n",
              "      <td>38410.5</td>\n",
              "      <td>11443.63</td>\n",
              "      <td>NaN</td>\n",
              "      <td>NaN</td>\n",
              "      <td>NaN</td>\n",
              "      <td>74.2</td>\n",
              "    </tr>\n",
              "    <tr>\n",
              "      <th>8</th>\n",
              "      <td>2010-01-09</td>\n",
              "      <td>38410.5</td>\n",
              "      <td>11443.63</td>\n",
              "      <td>NaN</td>\n",
              "      <td>NaN</td>\n",
              "      <td>NaN</td>\n",
              "      <td>74.2</td>\n",
              "    </tr>\n",
              "    <tr>\n",
              "      <th>9</th>\n",
              "      <td>2010-01-10</td>\n",
              "      <td>38410.5</td>\n",
              "      <td>11443.63</td>\n",
              "      <td>NaN</td>\n",
              "      <td>NaN</td>\n",
              "      <td>NaN</td>\n",
              "      <td>74.2</td>\n",
              "    </tr>\n",
              "  </tbody>\n",
              "</table>\n",
              "</div>\n",
              "      <button class=\"colab-df-convert\" onclick=\"convertToInteractive('df-1f83fde1-74e0-4714-912d-424acc2bedf4')\"\n",
              "              title=\"Convert this dataframe to an interactive table.\"\n",
              "              style=\"display:none;\">\n",
              "        \n",
              "  <svg xmlns=\"http://www.w3.org/2000/svg\" height=\"24px\"viewBox=\"0 0 24 24\"\n",
              "       width=\"24px\">\n",
              "    <path d=\"M0 0h24v24H0V0z\" fill=\"none\"/>\n",
              "    <path d=\"M18.56 5.44l.94 2.06.94-2.06 2.06-.94-2.06-.94-.94-2.06-.94 2.06-2.06.94zm-11 1L8.5 8.5l.94-2.06 2.06-.94-2.06-.94L8.5 2.5l-.94 2.06-2.06.94zm10 10l.94 2.06.94-2.06 2.06-.94-2.06-.94-.94-2.06-.94 2.06-2.06.94z\"/><path d=\"M17.41 7.96l-1.37-1.37c-.4-.4-.92-.59-1.43-.59-.52 0-1.04.2-1.43.59L10.3 9.45l-7.72 7.72c-.78.78-.78 2.05 0 2.83L4 21.41c.39.39.9.59 1.41.59.51 0 1.02-.2 1.41-.59l7.78-7.78 2.81-2.81c.8-.78.8-2.07 0-2.86zM5.41 20L4 18.59l7.72-7.72 1.47 1.35L5.41 20z\"/>\n",
              "  </svg>\n",
              "      </button>\n",
              "      \n",
              "  <style>\n",
              "    .colab-df-container {\n",
              "      display:flex;\n",
              "      flex-wrap:wrap;\n",
              "      gap: 12px;\n",
              "    }\n",
              "\n",
              "    .colab-df-convert {\n",
              "      background-color: #E8F0FE;\n",
              "      border: none;\n",
              "      border-radius: 50%;\n",
              "      cursor: pointer;\n",
              "      display: none;\n",
              "      fill: #1967D2;\n",
              "      height: 32px;\n",
              "      padding: 0 0 0 0;\n",
              "      width: 32px;\n",
              "    }\n",
              "\n",
              "    .colab-df-convert:hover {\n",
              "      background-color: #E2EBFA;\n",
              "      box-shadow: 0px 1px 2px rgba(60, 64, 67, 0.3), 0px 1px 3px 1px rgba(60, 64, 67, 0.15);\n",
              "      fill: #174EA6;\n",
              "    }\n",
              "\n",
              "    [theme=dark] .colab-df-convert {\n",
              "      background-color: #3B4455;\n",
              "      fill: #D2E3FC;\n",
              "    }\n",
              "\n",
              "    [theme=dark] .colab-df-convert:hover {\n",
              "      background-color: #434B5C;\n",
              "      box-shadow: 0px 1px 3px 1px rgba(0, 0, 0, 0.15);\n",
              "      filter: drop-shadow(0px 1px 2px rgba(0, 0, 0, 0.3));\n",
              "      fill: #FFFFFF;\n",
              "    }\n",
              "  </style>\n",
              "\n",
              "      <script>\n",
              "        const buttonEl =\n",
              "          document.querySelector('#df-1f83fde1-74e0-4714-912d-424acc2bedf4 button.colab-df-convert');\n",
              "        buttonEl.style.display =\n",
              "          google.colab.kernel.accessAllowed ? 'block' : 'none';\n",
              "\n",
              "        async function convertToInteractive(key) {\n",
              "          const element = document.querySelector('#df-1f83fde1-74e0-4714-912d-424acc2bedf4');\n",
              "          const dataTable =\n",
              "            await google.colab.kernel.invokeFunction('convertToInteractive',\n",
              "                                                     [key], {});\n",
              "          if (!dataTable) return;\n",
              "\n",
              "          const docLinkHtml = 'Like what you see? Visit the ' +\n",
              "            '<a target=\"_blank\" href=https://colab.research.google.com/notebooks/data_table.ipynb>data table notebook</a>'\n",
              "            + ' to learn more about interactive tables.';\n",
              "          element.innerHTML = '';\n",
              "          dataTable['output_type'] = 'display_data';\n",
              "          await google.colab.output.renderOutput(dataTable, element);\n",
              "          const docLink = document.createElement('div');\n",
              "          docLink.innerHTML = docLinkHtml;\n",
              "          element.appendChild(docLink);\n",
              "        }\n",
              "      </script>\n",
              "    </div>\n",
              "  </div>\n",
              "  "
            ]
          },
          "metadata": {},
          "execution_count": 17
        }
      ]
    },
    {
      "cell_type": "code",
      "metadata": {
        "id": "XZVhRUZQdaZc",
        "colab": {
          "base_uri": "https://localhost:8080/",
          "height": 363
        },
        "outputId": "950f7f46-be2f-45d7-ed9f-84d614943c76"
      },
      "source": [
        "macro.sample(10)"
      ],
      "execution_count": 18,
      "outputs": [
        {
          "output_type": "execute_result",
          "data": {
            "text/plain": [
              "       timestamp   salary  fixed_basket  rent_price_3room_eco  \\\n",
              "409   2011-02-14  44898.7      12790.55                 44.41   \n",
              "1468  2014-01-08  61208.0      15608.27                 47.04   \n",
              "886   2012-06-05  48830.4      13494.23                 46.29   \n",
              "1886  2015-03-02  64310.0      18557.88                 50.41   \n",
              "1409  2013-11-10  55485.2      15367.58                 49.29   \n",
              "1856  2015-01-31  64310.0      17817.40                 52.64   \n",
              "881   2012-05-31  48830.4      13350.32                 44.57   \n",
              "2166  2015-12-07  64310.0      19274.42                 49.42   \n",
              "1     2010-01-02  38410.5      11443.63                   NaN   \n",
              "1577  2014-04-27  61208.0      16041.58                 49.32   \n",
              "\n",
              "      rent_price_2room_eco  rent_price_1room_eco  average_life_exp  \n",
              "409                  35.48                 28.28             75.79  \n",
              "1468                 41.44                 33.49             76.70  \n",
              "886                  39.00                 30.48             75.74  \n",
              "1886                 40.49                 31.35             76.77  \n",
              "1409                 42.02                 34.55             76.37  \n",
              "1856                 43.29                 33.88             76.77  \n",
              "881                  37.96                 30.67             75.74  \n",
              "2166                 40.09                 30.37             76.77  \n",
              "1                      NaN                   NaN             74.20  \n",
              "1577                 40.95                 32.96             76.70  "
            ],
            "text/html": [
              "\n",
              "  <div id=\"df-8e44ffe1-5e75-4b46-8992-bf293349bd66\">\n",
              "    <div class=\"colab-df-container\">\n",
              "      <div>\n",
              "<style scoped>\n",
              "    .dataframe tbody tr th:only-of-type {\n",
              "        vertical-align: middle;\n",
              "    }\n",
              "\n",
              "    .dataframe tbody tr th {\n",
              "        vertical-align: top;\n",
              "    }\n",
              "\n",
              "    .dataframe thead th {\n",
              "        text-align: right;\n",
              "    }\n",
              "</style>\n",
              "<table border=\"1\" class=\"dataframe\">\n",
              "  <thead>\n",
              "    <tr style=\"text-align: right;\">\n",
              "      <th></th>\n",
              "      <th>timestamp</th>\n",
              "      <th>salary</th>\n",
              "      <th>fixed_basket</th>\n",
              "      <th>rent_price_3room_eco</th>\n",
              "      <th>rent_price_2room_eco</th>\n",
              "      <th>rent_price_1room_eco</th>\n",
              "      <th>average_life_exp</th>\n",
              "    </tr>\n",
              "  </thead>\n",
              "  <tbody>\n",
              "    <tr>\n",
              "      <th>409</th>\n",
              "      <td>2011-02-14</td>\n",
              "      <td>44898.7</td>\n",
              "      <td>12790.55</td>\n",
              "      <td>44.41</td>\n",
              "      <td>35.48</td>\n",
              "      <td>28.28</td>\n",
              "      <td>75.79</td>\n",
              "    </tr>\n",
              "    <tr>\n",
              "      <th>1468</th>\n",
              "      <td>2014-01-08</td>\n",
              "      <td>61208.0</td>\n",
              "      <td>15608.27</td>\n",
              "      <td>47.04</td>\n",
              "      <td>41.44</td>\n",
              "      <td>33.49</td>\n",
              "      <td>76.70</td>\n",
              "    </tr>\n",
              "    <tr>\n",
              "      <th>886</th>\n",
              "      <td>2012-06-05</td>\n",
              "      <td>48830.4</td>\n",
              "      <td>13494.23</td>\n",
              "      <td>46.29</td>\n",
              "      <td>39.00</td>\n",
              "      <td>30.48</td>\n",
              "      <td>75.74</td>\n",
              "    </tr>\n",
              "    <tr>\n",
              "      <th>1886</th>\n",
              "      <td>2015-03-02</td>\n",
              "      <td>64310.0</td>\n",
              "      <td>18557.88</td>\n",
              "      <td>50.41</td>\n",
              "      <td>40.49</td>\n",
              "      <td>31.35</td>\n",
              "      <td>76.77</td>\n",
              "    </tr>\n",
              "    <tr>\n",
              "      <th>1409</th>\n",
              "      <td>2013-11-10</td>\n",
              "      <td>55485.2</td>\n",
              "      <td>15367.58</td>\n",
              "      <td>49.29</td>\n",
              "      <td>42.02</td>\n",
              "      <td>34.55</td>\n",
              "      <td>76.37</td>\n",
              "    </tr>\n",
              "    <tr>\n",
              "      <th>1856</th>\n",
              "      <td>2015-01-31</td>\n",
              "      <td>64310.0</td>\n",
              "      <td>17817.40</td>\n",
              "      <td>52.64</td>\n",
              "      <td>43.29</td>\n",
              "      <td>33.88</td>\n",
              "      <td>76.77</td>\n",
              "    </tr>\n",
              "    <tr>\n",
              "      <th>881</th>\n",
              "      <td>2012-05-31</td>\n",
              "      <td>48830.4</td>\n",
              "      <td>13350.32</td>\n",
              "      <td>44.57</td>\n",
              "      <td>37.96</td>\n",
              "      <td>30.67</td>\n",
              "      <td>75.74</td>\n",
              "    </tr>\n",
              "    <tr>\n",
              "      <th>2166</th>\n",
              "      <td>2015-12-07</td>\n",
              "      <td>64310.0</td>\n",
              "      <td>19274.42</td>\n",
              "      <td>49.42</td>\n",
              "      <td>40.09</td>\n",
              "      <td>30.37</td>\n",
              "      <td>76.77</td>\n",
              "    </tr>\n",
              "    <tr>\n",
              "      <th>1</th>\n",
              "      <td>2010-01-02</td>\n",
              "      <td>38410.5</td>\n",
              "      <td>11443.63</td>\n",
              "      <td>NaN</td>\n",
              "      <td>NaN</td>\n",
              "      <td>NaN</td>\n",
              "      <td>74.20</td>\n",
              "    </tr>\n",
              "    <tr>\n",
              "      <th>1577</th>\n",
              "      <td>2014-04-27</td>\n",
              "      <td>61208.0</td>\n",
              "      <td>16041.58</td>\n",
              "      <td>49.32</td>\n",
              "      <td>40.95</td>\n",
              "      <td>32.96</td>\n",
              "      <td>76.70</td>\n",
              "    </tr>\n",
              "  </tbody>\n",
              "</table>\n",
              "</div>\n",
              "      <button class=\"colab-df-convert\" onclick=\"convertToInteractive('df-8e44ffe1-5e75-4b46-8992-bf293349bd66')\"\n",
              "              title=\"Convert this dataframe to an interactive table.\"\n",
              "              style=\"display:none;\">\n",
              "        \n",
              "  <svg xmlns=\"http://www.w3.org/2000/svg\" height=\"24px\"viewBox=\"0 0 24 24\"\n",
              "       width=\"24px\">\n",
              "    <path d=\"M0 0h24v24H0V0z\" fill=\"none\"/>\n",
              "    <path d=\"M18.56 5.44l.94 2.06.94-2.06 2.06-.94-2.06-.94-.94-2.06-.94 2.06-2.06.94zm-11 1L8.5 8.5l.94-2.06 2.06-.94-2.06-.94L8.5 2.5l-.94 2.06-2.06.94zm10 10l.94 2.06.94-2.06 2.06-.94-2.06-.94-.94-2.06-.94 2.06-2.06.94z\"/><path d=\"M17.41 7.96l-1.37-1.37c-.4-.4-.92-.59-1.43-.59-.52 0-1.04.2-1.43.59L10.3 9.45l-7.72 7.72c-.78.78-.78 2.05 0 2.83L4 21.41c.39.39.9.59 1.41.59.51 0 1.02-.2 1.41-.59l7.78-7.78 2.81-2.81c.8-.78.8-2.07 0-2.86zM5.41 20L4 18.59l7.72-7.72 1.47 1.35L5.41 20z\"/>\n",
              "  </svg>\n",
              "      </button>\n",
              "      \n",
              "  <style>\n",
              "    .colab-df-container {\n",
              "      display:flex;\n",
              "      flex-wrap:wrap;\n",
              "      gap: 12px;\n",
              "    }\n",
              "\n",
              "    .colab-df-convert {\n",
              "      background-color: #E8F0FE;\n",
              "      border: none;\n",
              "      border-radius: 50%;\n",
              "      cursor: pointer;\n",
              "      display: none;\n",
              "      fill: #1967D2;\n",
              "      height: 32px;\n",
              "      padding: 0 0 0 0;\n",
              "      width: 32px;\n",
              "    }\n",
              "\n",
              "    .colab-df-convert:hover {\n",
              "      background-color: #E2EBFA;\n",
              "      box-shadow: 0px 1px 2px rgba(60, 64, 67, 0.3), 0px 1px 3px 1px rgba(60, 64, 67, 0.15);\n",
              "      fill: #174EA6;\n",
              "    }\n",
              "\n",
              "    [theme=dark] .colab-df-convert {\n",
              "      background-color: #3B4455;\n",
              "      fill: #D2E3FC;\n",
              "    }\n",
              "\n",
              "    [theme=dark] .colab-df-convert:hover {\n",
              "      background-color: #434B5C;\n",
              "      box-shadow: 0px 1px 3px 1px rgba(0, 0, 0, 0.15);\n",
              "      filter: drop-shadow(0px 1px 2px rgba(0, 0, 0, 0.3));\n",
              "      fill: #FFFFFF;\n",
              "    }\n",
              "  </style>\n",
              "\n",
              "      <script>\n",
              "        const buttonEl =\n",
              "          document.querySelector('#df-8e44ffe1-5e75-4b46-8992-bf293349bd66 button.colab-df-convert');\n",
              "        buttonEl.style.display =\n",
              "          google.colab.kernel.accessAllowed ? 'block' : 'none';\n",
              "\n",
              "        async function convertToInteractive(key) {\n",
              "          const element = document.querySelector('#df-8e44ffe1-5e75-4b46-8992-bf293349bd66');\n",
              "          const dataTable =\n",
              "            await google.colab.kernel.invokeFunction('convertToInteractive',\n",
              "                                                     [key], {});\n",
              "          if (!dataTable) return;\n",
              "\n",
              "          const docLinkHtml = 'Like what you see? Visit the ' +\n",
              "            '<a target=\"_blank\" href=https://colab.research.google.com/notebooks/data_table.ipynb>data table notebook</a>'\n",
              "            + ' to learn more about interactive tables.';\n",
              "          element.innerHTML = '';\n",
              "          dataTable['output_type'] = 'display_data';\n",
              "          await google.colab.output.renderOutput(dataTable, element);\n",
              "          const docLink = document.createElement('div');\n",
              "          docLink.innerHTML = docLinkHtml;\n",
              "          element.appendChild(docLink);\n",
              "        }\n",
              "      </script>\n",
              "    </div>\n",
              "  </div>\n",
              "  "
            ]
          },
          "metadata": {},
          "execution_count": 18
        }
      ]
    },
    {
      "cell_type": "markdown",
      "source": [
        "Размер набора данных"
      ],
      "metadata": {
        "id": "__V4xxQJdaZb"
      }
    },
    {
      "cell_type": "code",
      "source": [
        "macro.shape"
      ],
      "metadata": {
        "colab": {
          "base_uri": "https://localhost:8080/"
        },
        "id": "e6mHqYiBusj0",
        "outputId": "7a465a7a-3f35-48d0-c472-29aa23a280b1"
      },
      "execution_count": 19,
      "outputs": [
        {
          "output_type": "execute_result",
          "data": {
            "text/plain": [
              "(2484, 7)"
            ]
          },
          "metadata": {},
          "execution_count": 19
        }
      ]
    },
    {
      "cell_type": "code",
      "source": [
        "macro.size"
      ],
      "metadata": {
        "colab": {
          "base_uri": "https://localhost:8080/"
        },
        "id": "RRt0Y2p7uukX",
        "outputId": "b30de2bb-80b4-41d4-9e07-f00fe5430b6e"
      },
      "execution_count": 20,
      "outputs": [
        {
          "output_type": "execute_result",
          "data": {
            "text/plain": [
              "17388"
            ]
          },
          "metadata": {},
          "execution_count": 20
        }
      ]
    },
    {
      "cell_type": "markdown",
      "source": [
        "Описание типов данных по признакам"
      ],
      "metadata": {
        "id": "V8nJDzrqdaZc"
      }
    },
    {
      "cell_type": "code",
      "source": [
        "macro.info()"
      ],
      "metadata": {
        "colab": {
          "base_uri": "https://localhost:8080/"
        },
        "id": "PYyqxi03tHPf",
        "outputId": "d8ab05f2-65c0-4557-f787-0ca3bd1e02da"
      },
      "execution_count": 21,
      "outputs": [
        {
          "output_type": "stream",
          "name": "stdout",
          "text": [
            "<class 'pandas.core.frame.DataFrame'>\n",
            "RangeIndex: 2484 entries, 0 to 2483\n",
            "Data columns (total 7 columns):\n",
            " #   Column                Non-Null Count  Dtype  \n",
            "---  ------                --------------  -----  \n",
            " 0   timestamp             2484 non-null   object \n",
            " 1   salary                2191 non-null   float64\n",
            " 2   fixed_basket          2484 non-null   float64\n",
            " 3   rent_price_3room_eco  2211 non-null   float64\n",
            " 4   rent_price_2room_eco  2211 non-null   float64\n",
            " 5   rent_price_1room_eco  2211 non-null   float64\n",
            " 6   average_life_exp      2191 non-null   float64\n",
            "dtypes: float64(6), object(1)\n",
            "memory usage: 136.0+ KB\n"
          ]
        }
      ]
    },
    {
      "cell_type": "markdown",
      "source": [
        "Базовые статистики по признакам"
      ],
      "metadata": {
        "id": "r9KdYUIJdaZc"
      }
    },
    {
      "cell_type": "code",
      "source": [
        "macro['timestamp'] = pd.to_datetime(macro['timestamp'])"
      ],
      "metadata": {
        "id": "m7gBqhedtD1O"
      },
      "execution_count": 22,
      "outputs": []
    },
    {
      "cell_type": "code",
      "source": [
        "macro.describe()"
      ],
      "metadata": {
        "id": "NMVdTHxrdaZc",
        "colab": {
          "base_uri": "https://localhost:8080/",
          "height": 300
        },
        "outputId": "519958e0-f349-4c06-8e0c-446fa071bd3a"
      },
      "execution_count": 23,
      "outputs": [
        {
          "output_type": "execute_result",
          "data": {
            "text/plain": [
              "           salary  fixed_basket  rent_price_3room_eco  rent_price_2room_eco  \\\n",
              "count   2191.0000     2484.0000             2211.0000             2211.0000   \n",
              "mean   52188.9331    15331.4980               47.2997               38.8954   \n",
              "std     9068.5590     2789.1363                3.0702                5.0352   \n",
              "min    38410.5000    11443.6300               37.5400                0.1000   \n",
              "25%    44898.7000    12992.4400               45.5300               37.9300   \n",
              "50%    48830.4000    14983.9200               47.3500               39.4700   \n",
              "75%    61208.0000    18295.0700               49.3500               41.3000   \n",
              "max    64310.0000    20422.5000               53.2100               43.8500   \n",
              "\n",
              "       rent_price_1room_eco  average_life_exp  \n",
              "count             2211.0000         2191.0000  \n",
              "mean                31.0024           75.9282  \n",
              "std                  3.9841            0.8699  \n",
              "min                  2.3100           74.2000  \n",
              "25%                 29.7800           75.7400  \n",
              "50%                 31.1100           75.7900  \n",
              "75%                 33.0600           76.7000  \n",
              "max                 35.3700           76.7700  "
            ],
            "text/html": [
              "\n",
              "  <div id=\"df-7694877e-df64-4e54-b8ba-1e2572980a4e\">\n",
              "    <div class=\"colab-df-container\">\n",
              "      <div>\n",
              "<style scoped>\n",
              "    .dataframe tbody tr th:only-of-type {\n",
              "        vertical-align: middle;\n",
              "    }\n",
              "\n",
              "    .dataframe tbody tr th {\n",
              "        vertical-align: top;\n",
              "    }\n",
              "\n",
              "    .dataframe thead th {\n",
              "        text-align: right;\n",
              "    }\n",
              "</style>\n",
              "<table border=\"1\" class=\"dataframe\">\n",
              "  <thead>\n",
              "    <tr style=\"text-align: right;\">\n",
              "      <th></th>\n",
              "      <th>salary</th>\n",
              "      <th>fixed_basket</th>\n",
              "      <th>rent_price_3room_eco</th>\n",
              "      <th>rent_price_2room_eco</th>\n",
              "      <th>rent_price_1room_eco</th>\n",
              "      <th>average_life_exp</th>\n",
              "    </tr>\n",
              "  </thead>\n",
              "  <tbody>\n",
              "    <tr>\n",
              "      <th>count</th>\n",
              "      <td>2191.0000</td>\n",
              "      <td>2484.0000</td>\n",
              "      <td>2211.0000</td>\n",
              "      <td>2211.0000</td>\n",
              "      <td>2211.0000</td>\n",
              "      <td>2191.0000</td>\n",
              "    </tr>\n",
              "    <tr>\n",
              "      <th>mean</th>\n",
              "      <td>52188.9331</td>\n",
              "      <td>15331.4980</td>\n",
              "      <td>47.2997</td>\n",
              "      <td>38.8954</td>\n",
              "      <td>31.0024</td>\n",
              "      <td>75.9282</td>\n",
              "    </tr>\n",
              "    <tr>\n",
              "      <th>std</th>\n",
              "      <td>9068.5590</td>\n",
              "      <td>2789.1363</td>\n",
              "      <td>3.0702</td>\n",
              "      <td>5.0352</td>\n",
              "      <td>3.9841</td>\n",
              "      <td>0.8699</td>\n",
              "    </tr>\n",
              "    <tr>\n",
              "      <th>min</th>\n",
              "      <td>38410.5000</td>\n",
              "      <td>11443.6300</td>\n",
              "      <td>37.5400</td>\n",
              "      <td>0.1000</td>\n",
              "      <td>2.3100</td>\n",
              "      <td>74.2000</td>\n",
              "    </tr>\n",
              "    <tr>\n",
              "      <th>25%</th>\n",
              "      <td>44898.7000</td>\n",
              "      <td>12992.4400</td>\n",
              "      <td>45.5300</td>\n",
              "      <td>37.9300</td>\n",
              "      <td>29.7800</td>\n",
              "      <td>75.7400</td>\n",
              "    </tr>\n",
              "    <tr>\n",
              "      <th>50%</th>\n",
              "      <td>48830.4000</td>\n",
              "      <td>14983.9200</td>\n",
              "      <td>47.3500</td>\n",
              "      <td>39.4700</td>\n",
              "      <td>31.1100</td>\n",
              "      <td>75.7900</td>\n",
              "    </tr>\n",
              "    <tr>\n",
              "      <th>75%</th>\n",
              "      <td>61208.0000</td>\n",
              "      <td>18295.0700</td>\n",
              "      <td>49.3500</td>\n",
              "      <td>41.3000</td>\n",
              "      <td>33.0600</td>\n",
              "      <td>76.7000</td>\n",
              "    </tr>\n",
              "    <tr>\n",
              "      <th>max</th>\n",
              "      <td>64310.0000</td>\n",
              "      <td>20422.5000</td>\n",
              "      <td>53.2100</td>\n",
              "      <td>43.8500</td>\n",
              "      <td>35.3700</td>\n",
              "      <td>76.7700</td>\n",
              "    </tr>\n",
              "  </tbody>\n",
              "</table>\n",
              "</div>\n",
              "      <button class=\"colab-df-convert\" onclick=\"convertToInteractive('df-7694877e-df64-4e54-b8ba-1e2572980a4e')\"\n",
              "              title=\"Convert this dataframe to an interactive table.\"\n",
              "              style=\"display:none;\">\n",
              "        \n",
              "  <svg xmlns=\"http://www.w3.org/2000/svg\" height=\"24px\"viewBox=\"0 0 24 24\"\n",
              "       width=\"24px\">\n",
              "    <path d=\"M0 0h24v24H0V0z\" fill=\"none\"/>\n",
              "    <path d=\"M18.56 5.44l.94 2.06.94-2.06 2.06-.94-2.06-.94-.94-2.06-.94 2.06-2.06.94zm-11 1L8.5 8.5l.94-2.06 2.06-.94-2.06-.94L8.5 2.5l-.94 2.06-2.06.94zm10 10l.94 2.06.94-2.06 2.06-.94-2.06-.94-.94-2.06-.94 2.06-2.06.94z\"/><path d=\"M17.41 7.96l-1.37-1.37c-.4-.4-.92-.59-1.43-.59-.52 0-1.04.2-1.43.59L10.3 9.45l-7.72 7.72c-.78.78-.78 2.05 0 2.83L4 21.41c.39.39.9.59 1.41.59.51 0 1.02-.2 1.41-.59l7.78-7.78 2.81-2.81c.8-.78.8-2.07 0-2.86zM5.41 20L4 18.59l7.72-7.72 1.47 1.35L5.41 20z\"/>\n",
              "  </svg>\n",
              "      </button>\n",
              "      \n",
              "  <style>\n",
              "    .colab-df-container {\n",
              "      display:flex;\n",
              "      flex-wrap:wrap;\n",
              "      gap: 12px;\n",
              "    }\n",
              "\n",
              "    .colab-df-convert {\n",
              "      background-color: #E8F0FE;\n",
              "      border: none;\n",
              "      border-radius: 50%;\n",
              "      cursor: pointer;\n",
              "      display: none;\n",
              "      fill: #1967D2;\n",
              "      height: 32px;\n",
              "      padding: 0 0 0 0;\n",
              "      width: 32px;\n",
              "    }\n",
              "\n",
              "    .colab-df-convert:hover {\n",
              "      background-color: #E2EBFA;\n",
              "      box-shadow: 0px 1px 2px rgba(60, 64, 67, 0.3), 0px 1px 3px 1px rgba(60, 64, 67, 0.15);\n",
              "      fill: #174EA6;\n",
              "    }\n",
              "\n",
              "    [theme=dark] .colab-df-convert {\n",
              "      background-color: #3B4455;\n",
              "      fill: #D2E3FC;\n",
              "    }\n",
              "\n",
              "    [theme=dark] .colab-df-convert:hover {\n",
              "      background-color: #434B5C;\n",
              "      box-shadow: 0px 1px 3px 1px rgba(0, 0, 0, 0.15);\n",
              "      filter: drop-shadow(0px 1px 2px rgba(0, 0, 0, 0.3));\n",
              "      fill: #FFFFFF;\n",
              "    }\n",
              "  </style>\n",
              "\n",
              "      <script>\n",
              "        const buttonEl =\n",
              "          document.querySelector('#df-7694877e-df64-4e54-b8ba-1e2572980a4e button.colab-df-convert');\n",
              "        buttonEl.style.display =\n",
              "          google.colab.kernel.accessAllowed ? 'block' : 'none';\n",
              "\n",
              "        async function convertToInteractive(key) {\n",
              "          const element = document.querySelector('#df-7694877e-df64-4e54-b8ba-1e2572980a4e');\n",
              "          const dataTable =\n",
              "            await google.colab.kernel.invokeFunction('convertToInteractive',\n",
              "                                                     [key], {});\n",
              "          if (!dataTable) return;\n",
              "\n",
              "          const docLinkHtml = 'Like what you see? Visit the ' +\n",
              "            '<a target=\"_blank\" href=https://colab.research.google.com/notebooks/data_table.ipynb>data table notebook</a>'\n",
              "            + ' to learn more about interactive tables.';\n",
              "          element.innerHTML = '';\n",
              "          dataTable['output_type'] = 'display_data';\n",
              "          await google.colab.output.renderOutput(dataTable, element);\n",
              "          const docLink = document.createElement('div');\n",
              "          docLink.innerHTML = docLinkHtml;\n",
              "          element.appendChild(docLink);\n",
              "        }\n",
              "      </script>\n",
              "    </div>\n",
              "  </div>\n",
              "  "
            ]
          },
          "metadata": {},
          "execution_count": 23
        }
      ]
    },
    {
      "cell_type": "markdown",
      "source": [
        "Выводы текстом, что вы можете сказать по каждому признаку, на основе базовых статистик"
      ],
      "metadata": {
        "id": "kUF1P7mTdaZc"
      }
    },
    {
      "cell_type": "markdown",
      "source": [
        "- Чем меньше комнат в арендуемом жилье, тем дешевле его арендовать\n",
        "- В жилье в котором две комнаты, сильнее разбрасываются цены за счет наивысшего стандартного отклонения, относительно других арендуемых единиц\n",
        "- Общние показатели не сильно влияют на ожидаемую продолжительность жизни - малое стандартное отклонение"
      ],
      "metadata": {
        "id": "YpRRQQrxdaZc"
      }
    },
    {
      "cell_type": "markdown",
      "source": [
        "Какие признаки вы считаете полезными для предсказания цены квартиры, а какие по вашему мнению можно убрать. Почему?"
      ],
      "metadata": {
        "id": "-fu8HSzAdaZc"
      }
    },
    {
      "cell_type": "markdown",
      "source": [
        "- Количество комнат (rent_price_3room_eco, rent_price_2room_eco, rent_price_1room_eco) - наиболее весомый показатель для предсказания цены арендуемого жилья\n",
        "- timestamp - в зависимости от ситуации в мире и экономики на данный момент цены могут изменяться\n",
        "- average_life_exp - в некоторых случаях может влиять на цену, в зависимости от района и условий жизни, больше average_life_exp - больше цена из-за более благополучных условий проживания"
      ],
      "metadata": {
        "id": "lZxDNxO8daZd"
      }
    },
    {
      "cell_type": "markdown",
      "source": [
        "Есть ли пропуски в данных? В каких столбцах? Какой процент по каждому столбцу?"
      ],
      "metadata": {
        "id": "P1CmjZ2XdaZd"
      }
    },
    {
      "cell_type": "code",
      "source": [
        "# Missing data in units\n",
        "missing_values_quantity = macro.isna().sum()\n",
        "missing_values_quantity"
      ],
      "metadata": {
        "id": "B8DGEnOtdaZd",
        "colab": {
          "base_uri": "https://localhost:8080/"
        },
        "outputId": "eb53d7e4-aab8-4918-fb01-f87d4f45ba88"
      },
      "execution_count": 24,
      "outputs": [
        {
          "output_type": "execute_result",
          "data": {
            "text/plain": [
              "timestamp                 0\n",
              "salary                  293\n",
              "fixed_basket              0\n",
              "rent_price_3room_eco    273\n",
              "rent_price_2room_eco    273\n",
              "rent_price_1room_eco    273\n",
              "average_life_exp        293\n",
              "dtype: int64"
            ]
          },
          "metadata": {},
          "execution_count": 24
        }
      ]
    },
    {
      "cell_type": "code",
      "source": [
        "# Missing data in percentage\n",
        "missing_data_percent_ratio = round(macro.isna().mean() * 100, 2)\n",
        "missing_data_percent_ratio"
      ],
      "metadata": {
        "colab": {
          "base_uri": "https://localhost:8080/"
        },
        "id": "6PYZSxZB2QDc",
        "outputId": "89f35708-4dea-40ae-85f7-8e03db969716"
      },
      "execution_count": 25,
      "outputs": [
        {
          "output_type": "execute_result",
          "data": {
            "text/plain": [
              "timestamp                0.00\n",
              "salary                  11.80\n",
              "fixed_basket             0.00\n",
              "rent_price_3room_eco    10.99\n",
              "rent_price_2room_eco    10.99\n",
              "rent_price_1room_eco    10.99\n",
              "average_life_exp        11.80\n",
              "dtype: float64"
            ]
          },
          "metadata": {},
          "execution_count": 25
        }
      ]
    },
    {
      "cell_type": "markdown",
      "source": [
        "Есть ли аномальные данные в стoлбцах? Если да, то укажите на них и объясните, почему считаете аномальными\n"
      ],
      "metadata": {
        "id": "ovjCyA8YdaZd"
      }
    },
    {
      "cell_type": "markdown",
      "source": [
        "- Минимальное значение цены аренды rent_price_2room_eco - 0.1\n",
        "- Минимальное значение цены аренды rent_price_1room_eco - 2.3100"
      ],
      "metadata": {
        "id": "Z33oobHSdaZd"
      }
    },
    {
      "cell_type": "markdown",
      "source": [
        "## 1.3 Замените все ранее найденные ошибочные данные на None. Заполните все пропуски в данных: которые были и которые появились. Используйте как стратегии изученные на занятии, так и логику, которая вытекает из самих данных"
      ],
      "metadata": {
        "id": "ac-Ie6LNMsbG"
      }
    },
    {
      "cell_type": "markdown",
      "source": [
        "### 1.3.1 Главный набор данных"
      ],
      "metadata": {
        "id": "YCZtD33vNSjd"
      }
    },
    {
      "cell_type": "markdown",
      "source": [
        "- Решил провизуализировать данные, глазами в таблицу сложно смотреть"
      ],
      "metadata": {
        "id": "7dTJy-KxFj7v"
      }
    },
    {
      "cell_type": "code",
      "source": [
        "def visualize_dataframe(dataframe, ignore_types=['datetime64[ns]', 'object'], ignore_columns=['id']):\n",
        "    column_names = dataframe.columns.values\n",
        "    for column_name in column_names:\n",
        "        if dataframe[column_name].dtypes in ignore_types or column_name in ignore_columns:\n",
        "            continue\n",
        "        sns.boxplot(x = dataframe[column_name])\n",
        "        plt.show()"
      ],
      "metadata": {
        "id": "d2FmAW3yqsnN"
      },
      "execution_count": 26,
      "outputs": []
    },
    {
      "cell_type": "code",
      "source": [
        "visualize_dataframe(df)"
      ],
      "metadata": {
        "colab": {
          "base_uri": "https://localhost:8080/",
          "height": 1000
        },
        "id": "NPGi5gEwx9-2",
        "outputId": "a3bafd0b-7847-4037-a8ae-d466d6ae2fb5"
      },
      "execution_count": 27,
      "outputs": [
        {
          "output_type": "display_data",
          "data": {
            "text/plain": [
              "<Figure size 432x288 with 1 Axes>"
            ],
            "image/png": "[encoded data removed]"
          },
          "metadata": {
            "needs_background": "light"
          }
        },
        {
          "output_type": "display_data",
          "data": {
            "text/plain": [
              "<Figure size 432x288 with 1 Axes>"
            ],
            "image/png": "[encoded data removed]"
          },
          "metadata": {
            "needs_background": "light"
          }
        },
        {
          "output_type": "display_data",
          "data": {
            "text/plain": [
              "<Figure size 432x288 with 1 Axes>"
            ],
            "image/png": "[encoded data removed]"
          },
          "metadata": {
            "needs_background": "light"
          }
        },
        {
          "output_type": "display_data",
          "data": {
            "text/plain": [
              "<Figure size 432x288 with 1 Axes>"
            ],
            "image/png": "[encoded data removed]"
          },
          "metadata": {
            "needs_background": "light"
          }
        },
        {
          "output_type": "display_data",
          "data": {
            "text/plain": [
              "<Figure size 432x288 with 1 Axes>"
            ],
            "image/png": "[encoded data removed]"
          },
          "metadata": {
            "needs_background": "light"
          }
        },
        {
          "output_type": "display_data",
          "data": {
            "text/plain": [
              "<Figure size 432x288 with 1 Axes>"
            ],
            "image/png": "[encoded data removed]"
          },
          "metadata": {
            "needs_background": "light"
          }
        },
        {
          "output_type": "display_data",
          "data": {
            "text/plain": [
              "<Figure size 432x288 with 1 Axes>"
            ],
            "image/png": "[encoded data removed]"
          },
          "metadata": {
            "needs_background": "light"
          }
        },
        {
          "output_type": "display_data",
          "data": {
            "text/plain": [
              "<Figure size 432x288 with 1 Axes>"
            ],
            "image/png": "[encoded data removed]"
          },
          "metadata": {
            "needs_background": "light"
          }
        },
        {
          "output_type": "display_data",
          "data": {
            "text/plain": [
              "<Figure size 432x288 with 1 Axes>"
            ],
            "image/png": "[encoded data removed]"
          },
          "metadata": {
            "needs_background": "light"
          }
        },
        {
          "output_type": "display_data",
          "data": {
            "text/plain": [
              "<Figure size 432x288 with 1 Axes>"
            ],
            "image/png": "[encoded data removed]"
          },
          "metadata": {
            "needs_background": "light"
          }
        }
      ]
    },
    {
      "cell_type": "markdown",
      "source": [
        "- Явно видно что есть выбросы в full_sq, life_sq, floor, state, kitch_sq, остальное выглядит в общей мере адекватно"
      ],
      "metadata": {
        "id": "HKPKLx3Q7hn-"
      }
    },
    {
      "cell_type": "markdown",
      "source": [
        "- Функция которая будет обнулять выбросы, выходящие за 99.99% процентиль\n",
        "- Помимо чего добавлю аргумент в функцию roll_num переменный, чтобы обнуление можно было делать несколько разa, некоторые выбросы например в колонне kitch_sq, обнуляются только после второго раза вызова функции"
      ],
      "metadata": {
        "id": "rdQK1OT0EXFA"
      }
    },
    {
      "cell_type": "code",
      "source": [
        "def clear_outliers(dataframe, roll_num=1, high_quantile=0.99, low_quantile=0.01, ignore_types=['datetime64[ns]', 'object'], ignore_columns=['id']):\n",
        "    column_names = dataframe.columns.values\n",
        "    for column_name in column_names:\n",
        "        if dataframe[column_name].dtypes in ignore_types or column_name in ignore_columns:\n",
        "            continue\n",
        "        for i in range(roll_num):\n",
        "            # 99.99% high percentile\n",
        "            # percentile_high = dataframe[column_name].quantile(0.9999)\n",
        "            percentile_high = dataframe[column_name].quantile(high_quantile)\n",
        "            # 0.001% low percentile\n",
        "            percentile_low = dataframe[column_name].quantile(low_quantile)\n",
        "            # making outliers obsolete \n",
        "            dataframe[column_name] = dataframe[column_name].apply(lambda x: np.nan if x > percentile_high else x)\n",
        "            dataframe[column_name] = dataframe[column_name].apply(lambda x: np.nan if x < percentile_low else x)\n",
        "\n",
        "    return dataframe"
      ],
      "metadata": {
        "id": "U5eg_IbqgwPN"
      },
      "execution_count": 28,
      "outputs": []
    },
    {
      "cell_type": "code",
      "source": [
        "df = clear_outliers(df, high_quantile=0.9999, low_quantile=0.0001, roll_num=2)"
      ],
      "metadata": {
        "id": "lR8RuEGpg_w3"
      },
      "execution_count": 29,
      "outputs": []
    },
    {
      "cell_type": "markdown",
      "source": [
        "- Собственно выбрал 99.99% процентиль потому что выбросов у нас не так много и при этом они больше среднего показателя в 100+ раз"
      ],
      "metadata": {
        "id": "nLeuiYIABcJr"
      }
    },
    {
      "cell_type": "code",
      "source": [
        "visualize_dataframe(df)"
      ],
      "metadata": {
        "colab": {
          "base_uri": "https://localhost:8080/",
          "height": 1000
        },
        "id": "lB2XhyaaAo35",
        "outputId": "c932b4df-1c9b-464f-89b6-9f3737e1feb5"
      },
      "execution_count": 30,
      "outputs": [
        {
          "output_type": "display_data",
          "data": {
            "text/plain": [
              "<Figure size 432x288 with 1 Axes>"
            ],
            "image/png": "[encoded data removed]"
          },
          "metadata": {
            "needs_background": "light"
          }
        },
        {
          "output_type": "display_data",
          "data": {
            "text/plain": [
              "<Figure size 432x288 with 1 Axes>"
            ],
            "image/png": "[encoded data removed]"
          },
          "metadata": {
            "needs_background": "light"
          }
        },
        {
          "output_type": "display_data",
          "data": {
            "text/plain": [
              "<Figure size 432x288 with 1 Axes>"
            ],
            "image/png": "[encoded data removed]"
          },
          "metadata": {
            "needs_background": "light"
          }
        },
        {
          "output_type": "display_data",
          "data": {
            "text/plain": [
              "<Figure size 432x288 with 1 Axes>"
            ],
            "image/png": "[encoded data removed]"
          },
          "metadata": {
            "needs_background": "light"
          }
        },
        {
          "output_type": "display_data",
          "data": {
            "text/plain": [
              "<Figure size 432x288 with 1 Axes>"
            ],
            "image/png": "[encoded data removed]"
          },
          "metadata": {
            "needs_background": "light"
          }
        },
        {
          "output_type": "display_data",
          "data": {
            "text/plain": [
              "<Figure size 432x288 with 1 Axes>"
            ],
            "image/png": "[encoded data removed]"
          },
          "metadata": {
            "needs_background": "light"
          }
        },
        {
          "output_type": "display_data",
          "data": {
            "text/plain": [
              "<Figure size 432x288 with 1 Axes>"
            ],
            "image/png": "[encoded data removed]"
          },
          "metadata": {
            "needs_background": "light"
          }
        },
        {
          "output_type": "display_data",
          "data": {
            "text/plain": [
              "<Figure size 432x288 with 1 Axes>"
            ],
            "image/png": "[encoded data removed]"
          },
          "metadata": {
            "needs_background": "light"
          }
        },
        {
          "output_type": "display_data",
          "data": {
            "text/plain": [
              "<Figure size 432x288 with 1 Axes>"
            ],
            "image/png": "[encoded data removed]"
          },
          "metadata": {
            "needs_background": "light"
          }
        },
        {
          "output_type": "display_data",
          "data": {
            "text/plain": [
              "<Figure size 432x288 with 1 Axes>"
            ],
            "image/png": "[encoded data removed]"
          },
          "metadata": {
            "needs_background": "light"
          }
        }
      ]
    },
    {
      "cell_type": "markdown",
      "source": [
        "- После обнуления выбросов, собственно видно что данные стали более стабильными, если можно так сказать и более сгруппированы вокруг среднего значения"
      ],
      "metadata": {
        "id": "EkS0gh2cCLXN"
      }
    },
    {
      "cell_type": "code",
      "source": [
        "def count_nan(dataframe):\n",
        "    column_names = dataframe.columns.values\n",
        "    for column_name in column_names:\n",
        "        print(f'{column_name}: {dataframe[column_name].isna().sum()}')"
      ],
      "metadata": {
        "id": "L0rJBRLvQUbM"
      },
      "execution_count": 31,
      "outputs": []
    },
    {
      "cell_type": "code",
      "source": [
        "count_nan(df)"
      ],
      "metadata": {
        "colab": {
          "base_uri": "https://localhost:8080/"
        },
        "id": "kgO7vcDmFd_O",
        "outputId": "f4c208b3-52dc-4c2a-c081-fa277f0daf30"
      },
      "execution_count": 32,
      "outputs": [
        {
          "output_type": "stream",
          "name": "stdout",
          "text": [
            "id: 0\n",
            "timestamp: 0\n",
            "full_sq: 6\n",
            "life_sq: 1579\n",
            "floor: 31\n",
            "state: 3362\n",
            "max_floor: 1422\n",
            "material: 1421\n",
            "build_year: 2905\n",
            "num_room: 1425\n",
            "kitch_sq: 1425\n",
            "full_all: 1\n",
            "sub_area: 0\n",
            "price_doc: 7\n"
          ]
        }
      ]
    },
    {
      "cell_type": "markdown",
      "source": [
        "- Замена пустых значений на среднее значение конкретной колонны"
      ],
      "metadata": {
        "id": "nlGX-Q34UGtE"
      }
    },
    {
      "cell_type": "code",
      "source": [
        "def fill_nan_data(dataframe, ignore_types=['datetime64[ns]', 'object'], ignore_columns=['id']):\n",
        "    column_names = dataframe.columns.values\n",
        "    for column_name in column_names:\n",
        "        if dataframe[column_name].dtypes in ignore_types or column_name in ignore_columns:\n",
        "            continue\n",
        "        column_mean = dataframe[column_name].mean()\n",
        "        dataframe[column_name].fillna(column_mean, inplace=True)\n",
        "    return dataframe"
      ],
      "metadata": {
        "id": "Zr9cQmj6Q3SI"
      },
      "execution_count": 33,
      "outputs": []
    },
    {
      "cell_type": "code",
      "source": [
        "df = fill_nan_data(df, ignore_columns=['sub_area'])\n",
        "df.sample(15)"
      ],
      "metadata": {
        "colab": {
          "base_uri": "https://localhost:8080/",
          "height": 520
        },
        "id": "mb87h3D8R6Pf",
        "outputId": "8e2ed55e-56cd-44b2-96e9-5f11b14f1b52"
      },
      "execution_count": 34,
      "outputs": [
        {
          "output_type": "execute_result",
          "data": {
            "text/plain": [
              "          id  timestamp  full_sq  life_sq  floor   state  max_floor  material  \\\n",
              "760    10490 2013-09-13     32.0   16.000    5.0  2.0000     5.0000    2.0000   \n",
              "18203   2665 2012-06-27     76.0   45.000    7.0  2.1993    12.4208    1.8901   \n",
              "16747  30312 2015-06-18     53.0   53.000    1.0  1.0000     3.0000    2.0000   \n",
              "8980   20581 2014-07-04     76.0    1.000    1.0  1.0000     1.0000    1.0000   \n",
              "9106   20745 2014-07-10     36.0   18.000    6.0  3.0000     9.0000    1.0000   \n",
              "5923   16836 2014-04-01     69.0   69.000    2.0  1.0000     3.0000    1.0000   \n",
              "8820   20389 2014-06-30     83.0   33.746   15.0  1.0000    20.0000    1.0000   \n",
              "16727  30284 2015-06-16     62.0    1.000   14.0  1.0000    25.0000    1.0000   \n",
              "11756  23994 2014-10-27     40.0   18.000   13.0  3.0000    23.0000    1.0000   \n",
              "11175  23236 2014-10-03     37.0   22.000    2.0  2.0000     9.0000    5.0000   \n",
              "14198  27087 2014-12-24     38.0   18.000    4.0  3.0000    17.0000    1.0000   \n",
              "4833   15488 2014-02-27     38.0   19.000   16.0  2.0000    16.0000    5.0000   \n",
              "10409  22279 2014-09-06     34.0   19.000    7.0  2.0000    16.0000    1.0000   \n",
              "7523   18785 2014-05-23     31.0   17.000    4.0  2.1993     5.0000    1.0000   \n",
              "315     9727 2013-08-08     80.0   80.000    7.0  1.0000     1.0000    1.0000   \n",
              "\n",
              "      build_year  num_room  kitch_sq   full_all                   sub_area  \\\n",
              "760   1958-01-01    1.0000    5.0000    80917.0                    Marfino   \n",
              "18203        NaT    1.9321    6.8285   165727.0                    Mar'ino   \n",
              "16747        NaT    2.0000    1.0000     8384.0  Poselenie Novofedorovskoe   \n",
              "8980         NaT    1.0000    1.0000   247469.0                 Nekrasovka   \n",
              "9106  1967-01-01    1.0000    6.0000   123000.0                   Kon'kovo   \n",
              "5923  2017-01-01    3.0000    0.0000     8384.0  Poselenie Novofedorovskoe   \n",
              "8820         NaT    3.0000   10.0000    21155.0                     Mitino   \n",
              "16727        NaT    2.0000    1.0000    21155.0                     Mitino   \n",
              "11756 2006-01-01    1.0000    9.0000    87713.0          Zapadnoe Degunino   \n",
              "11175 1963-01-01    2.0000    7.0000  1452550.0                Bogorodskoe   \n",
              "14198 1985-01-01    1.0000    8.0000    61039.0                    Ramenki   \n",
              "4833  1982-01-01    1.0000   10.0000    78810.0                    Koptevo   \n",
              "10409 1979-01-01    1.0000    9.0000     3521.0                Savelovskoe   \n",
              "7523  1966-01-01    1.0000    5.0000   125111.0                   Solncevo   \n",
              "315   2013-01-01    2.0000    1.0000   156377.0                   Strogino   \n",
              "\n",
              "        price_doc  \n",
              "760    5.5000e+06  \n",
              "18203  1.0800e+07  \n",
              "16747  3.0801e+06  \n",
              "8980   7.8204e+06  \n",
              "9106   6.5000e+06  \n",
              "5923   3.7487e+06  \n",
              "8820   8.3090e+06  \n",
              "16727  8.9213e+06  \n",
              "11756  7.1000e+06  \n",
              "11175  1.0000e+06  \n",
              "14198  8.0000e+06  \n",
              "4833   2.0000e+06  \n",
              "10409  7.1000e+06  \n",
              "7523   4.9000e+06  \n",
              "315    1.3719e+07  "
            ],
            "text/html": [
              "\n",
              "  <div id=\"df-3cd2d0e5-70ef-4f69-996e-4eb72453f93d\">\n",
              "    <div class=\"colab-df-container\">\n",
              "      <div>\n",
              "<style scoped>\n",
              "    .dataframe tbody tr th:only-of-type {\n",
              "        vertical-align: middle;\n",
              "    }\n",
              "\n",
              "    .dataframe tbody tr th {\n",
              "        vertical-align: top;\n",
              "    }\n",
              "\n",
              "    .dataframe thead th {\n",
              "        text-align: right;\n",
              "    }\n",
              "</style>\n",
              "<table border=\"1\" class=\"dataframe\">\n",
              "  <thead>\n",
              "    <tr style=\"text-align: right;\">\n",
              "      <th></th>\n",
              "      <th>id</th>\n",
              "      <th>timestamp</th>\n",
              "      <th>full_sq</th>\n",
              "      <th>life_sq</th>\n",
              "      <th>floor</th>\n",
              "      <th>state</th>\n",
              "      <th>max_floor</th>\n",
              "      <th>material</th>\n",
              "      <th>build_year</th>\n",
              "      <th>num_room</th>\n",
              "      <th>kitch_sq</th>\n",
              "      <th>full_all</th>\n",
              "      <th>sub_area</th>\n",
              "      <th>price_doc</th>\n",
              "    </tr>\n",
              "  </thead>\n",
              "  <tbody>\n",
              "    <tr>\n",
              "      <th>760</th>\n",
              "      <td>10490</td>\n",
              "      <td>2013-09-13</td>\n",
              "      <td>32.0</td>\n",
              "      <td>16.000</td>\n",
              "      <td>5.0</td>\n",
              "      <td>2.0000</td>\n",
              "      <td>5.0000</td>\n",
              "      <td>2.0000</td>\n",
              "      <td>1958-01-01</td>\n",
              "      <td>1.0000</td>\n",
              "      <td>5.0000</td>\n",
              "      <td>80917.0</td>\n",
              "      <td>Marfino</td>\n",
              "      <td>5.5000e+06</td>\n",
              "    </tr>\n",
              "    <tr>\n",
              "      <th>18203</th>\n",
              "      <td>2665</td>\n",
              "      <td>2012-06-27</td>\n",
              "      <td>76.0</td>\n",
              "      <td>45.000</td>\n",
              "      <td>7.0</td>\n",
              "      <td>2.1993</td>\n",
              "      <td>12.4208</td>\n",
              "      <td>1.8901</td>\n",
              "      <td>NaT</td>\n",
              "      <td>1.9321</td>\n",
              "      <td>6.8285</td>\n",
              "      <td>165727.0</td>\n",
              "      <td>Mar'ino</td>\n",
              "      <td>1.0800e+07</td>\n",
              "    </tr>\n",
              "    <tr>\n",
              "      <th>16747</th>\n",
              "      <td>30312</td>\n",
              "      <td>2015-06-18</td>\n",
              "      <td>53.0</td>\n",
              "      <td>53.000</td>\n",
              "      <td>1.0</td>\n",
              "      <td>1.0000</td>\n",
              "      <td>3.0000</td>\n",
              "      <td>2.0000</td>\n",
              "      <td>NaT</td>\n",
              "      <td>2.0000</td>\n",
              "      <td>1.0000</td>\n",
              "      <td>8384.0</td>\n",
              "      <td>Poselenie Novofedorovskoe</td>\n",
              "      <td>3.0801e+06</td>\n",
              "    </tr>\n",
              "    <tr>\n",
              "      <th>8980</th>\n",
              "      <td>20581</td>\n",
              "      <td>2014-07-04</td>\n",
              "      <td>76.0</td>\n",
              "      <td>1.000</td>\n",
              "      <td>1.0</td>\n",
              "      <td>1.0000</td>\n",
              "      <td>1.0000</td>\n",
              "      <td>1.0000</td>\n",
              "      <td>NaT</td>\n",
              "      <td>1.0000</td>\n",
              "      <td>1.0000</td>\n",
              "      <td>247469.0</td>\n",
              "      <td>Nekrasovka</td>\n",
              "      <td>7.8204e+06</td>\n",
              "    </tr>\n",
              "    <tr>\n",
              "      <th>9106</th>\n",
              "      <td>20745</td>\n",
              "      <td>2014-07-10</td>\n",
              "      <td>36.0</td>\n",
              "      <td>18.000</td>\n",
              "      <td>6.0</td>\n",
              "      <td>3.0000</td>\n",
              "      <td>9.0000</td>\n",
              "      <td>1.0000</td>\n",
              "      <td>1967-01-01</td>\n",
              "      <td>1.0000</td>\n",
              "      <td>6.0000</td>\n",
              "      <td>123000.0</td>\n",
              "      <td>Kon'kovo</td>\n",
              "      <td>6.5000e+06</td>\n",
              "    </tr>\n",
              "    <tr>\n",
              "      <th>5923</th>\n",
              "      <td>16836</td>\n",
              "      <td>2014-04-01</td>\n",
              "      <td>69.0</td>\n",
              "      <td>69.000</td>\n",
              "      <td>2.0</td>\n",
              "      <td>1.0000</td>\n",
              "      <td>3.0000</td>\n",
              "      <td>1.0000</td>\n",
              "      <td>2017-01-01</td>\n",
              "      <td>3.0000</td>\n",
              "      <td>0.0000</td>\n",
              "      <td>8384.0</td>\n",
              "      <td>Poselenie Novofedorovskoe</td>\n",
              "      <td>3.7487e+06</td>\n",
              "    </tr>\n",
              "    <tr>\n",
              "      <th>8820</th>\n",
              "      <td>20389</td>\n",
              "      <td>2014-06-30</td>\n",
              "      <td>83.0</td>\n",
              "      <td>33.746</td>\n",
              "      <td>15.0</td>\n",
              "      <td>1.0000</td>\n",
              "      <td>20.0000</td>\n",
              "      <td>1.0000</td>\n",
              "      <td>NaT</td>\n",
              "      <td>3.0000</td>\n",
              "      <td>10.0000</td>\n",
              "      <td>21155.0</td>\n",
              "      <td>Mitino</td>\n",
              "      <td>8.3090e+06</td>\n",
              "    </tr>\n",
              "    <tr>\n",
              "      <th>16727</th>\n",
              "      <td>30284</td>\n",
              "      <td>2015-06-16</td>\n",
              "      <td>62.0</td>\n",
              "      <td>1.000</td>\n",
              "      <td>14.0</td>\n",
              "      <td>1.0000</td>\n",
              "      <td>25.0000</td>\n",
              "      <td>1.0000</td>\n",
              "      <td>NaT</td>\n",
              "      <td>2.0000</td>\n",
              "      <td>1.0000</td>\n",
              "      <td>21155.0</td>\n",
              "      <td>Mitino</td>\n",
              "      <td>8.9213e+06</td>\n",
              "    </tr>\n",
              "    <tr>\n",
              "      <th>11756</th>\n",
              "      <td>23994</td>\n",
              "      <td>2014-10-27</td>\n",
              "      <td>40.0</td>\n",
              "      <td>18.000</td>\n",
              "      <td>13.0</td>\n",
              "      <td>3.0000</td>\n",
              "      <td>23.0000</td>\n",
              "      <td>1.0000</td>\n",
              "      <td>2006-01-01</td>\n",
              "      <td>1.0000</td>\n",
              "      <td>9.0000</td>\n",
              "      <td>87713.0</td>\n",
              "      <td>Zapadnoe Degunino</td>\n",
              "      <td>7.1000e+06</td>\n",
              "    </tr>\n",
              "    <tr>\n",
              "      <th>11175</th>\n",
              "      <td>23236</td>\n",
              "      <td>2014-10-03</td>\n",
              "      <td>37.0</td>\n",
              "      <td>22.000</td>\n",
              "      <td>2.0</td>\n",
              "      <td>2.0000</td>\n",
              "      <td>9.0000</td>\n",
              "      <td>5.0000</td>\n",
              "      <td>1963-01-01</td>\n",
              "      <td>2.0000</td>\n",
              "      <td>7.0000</td>\n",
              "      <td>1452550.0</td>\n",
              "      <td>Bogorodskoe</td>\n",
              "      <td>1.0000e+06</td>\n",
              "    </tr>\n",
              "    <tr>\n",
              "      <th>14198</th>\n",
              "      <td>27087</td>\n",
              "      <td>2014-12-24</td>\n",
              "      <td>38.0</td>\n",
              "      <td>18.000</td>\n",
              "      <td>4.0</td>\n",
              "      <td>3.0000</td>\n",
              "      <td>17.0000</td>\n",
              "      <td>1.0000</td>\n",
              "      <td>1985-01-01</td>\n",
              "      <td>1.0000</td>\n",
              "      <td>8.0000</td>\n",
              "      <td>61039.0</td>\n",
              "      <td>Ramenki</td>\n",
              "      <td>8.0000e+06</td>\n",
              "    </tr>\n",
              "    <tr>\n",
              "      <th>4833</th>\n",
              "      <td>15488</td>\n",
              "      <td>2014-02-27</td>\n",
              "      <td>38.0</td>\n",
              "      <td>19.000</td>\n",
              "      <td>16.0</td>\n",
              "      <td>2.0000</td>\n",
              "      <td>16.0000</td>\n",
              "      <td>5.0000</td>\n",
              "      <td>1982-01-01</td>\n",
              "      <td>1.0000</td>\n",
              "      <td>10.0000</td>\n",
              "      <td>78810.0</td>\n",
              "      <td>Koptevo</td>\n",
              "      <td>2.0000e+06</td>\n",
              "    </tr>\n",
              "    <tr>\n",
              "      <th>10409</th>\n",
              "      <td>22279</td>\n",
              "      <td>2014-09-06</td>\n",
              "      <td>34.0</td>\n",
              "      <td>19.000</td>\n",
              "      <td>7.0</td>\n",
              "      <td>2.0000</td>\n",
              "      <td>16.0000</td>\n",
              "      <td>1.0000</td>\n",
              "      <td>1979-01-01</td>\n",
              "      <td>1.0000</td>\n",
              "      <td>9.0000</td>\n",
              "      <td>3521.0</td>\n",
              "      <td>Savelovskoe</td>\n",
              "      <td>7.1000e+06</td>\n",
              "    </tr>\n",
              "    <tr>\n",
              "      <th>7523</th>\n",
              "      <td>18785</td>\n",
              "      <td>2014-05-23</td>\n",
              "      <td>31.0</td>\n",
              "      <td>17.000</td>\n",
              "      <td>4.0</td>\n",
              "      <td>2.1993</td>\n",
              "      <td>5.0000</td>\n",
              "      <td>1.0000</td>\n",
              "      <td>1966-01-01</td>\n",
              "      <td>1.0000</td>\n",
              "      <td>5.0000</td>\n",
              "      <td>125111.0</td>\n",
              "      <td>Solncevo</td>\n",
              "      <td>4.9000e+06</td>\n",
              "    </tr>\n",
              "    <tr>\n",
              "      <th>315</th>\n",
              "      <td>9727</td>\n",
              "      <td>2013-08-08</td>\n",
              "      <td>80.0</td>\n",
              "      <td>80.000</td>\n",
              "      <td>7.0</td>\n",
              "      <td>1.0000</td>\n",
              "      <td>1.0000</td>\n",
              "      <td>1.0000</td>\n",
              "      <td>2013-01-01</td>\n",
              "      <td>2.0000</td>\n",
              "      <td>1.0000</td>\n",
              "      <td>156377.0</td>\n",
              "      <td>Strogino</td>\n",
              "      <td>1.3719e+07</td>\n",
              "    </tr>\n",
              "  </tbody>\n",
              "</table>\n",
              "</div>\n",
              "      <button class=\"colab-df-convert\" onclick=\"convertToInteractive('df-3cd2d0e5-70ef-4f69-996e-4eb72453f93d')\"\n",
              "              title=\"Convert this dataframe to an interactive table.\"\n",
              "              style=\"display:none;\">\n",
              "        \n",
              "  <svg xmlns=\"http://www.w3.org/2000/svg\" height=\"24px\"viewBox=\"0 0 24 24\"\n",
              "       width=\"24px\">\n",
              "    <path d=\"M0 0h24v24H0V0z\" fill=\"none\"/>\n",
              "    <path d=\"M18.56 5.44l.94 2.06.94-2.06 2.06-.94-2.06-.94-.94-2.06-.94 2.06-2.06.94zm-11 1L8.5 8.5l.94-2.06 2.06-.94-2.06-.94L8.5 2.5l-.94 2.06-2.06.94zm10 10l.94 2.06.94-2.06 2.06-.94-2.06-.94-.94-2.06-.94 2.06-2.06.94z\"/><path d=\"M17.41 7.96l-1.37-1.37c-.4-.4-.92-.59-1.43-.59-.52 0-1.04.2-1.43.59L10.3 9.45l-7.72 7.72c-.78.78-.78 2.05 0 2.83L4 21.41c.39.39.9.59 1.41.59.51 0 1.02-.2 1.41-.59l7.78-7.78 2.81-2.81c.8-.78.8-2.07 0-2.86zM5.41 20L4 18.59l7.72-7.72 1.47 1.35L5.41 20z\"/>\n",
              "  </svg>\n",
              "      </button>\n",
              "      \n",
              "  <style>\n",
              "    .colab-df-container {\n",
              "      display:flex;\n",
              "      flex-wrap:wrap;\n",
              "      gap: 12px;\n",
              "    }\n",
              "\n",
              "    .colab-df-convert {\n",
              "      background-color: #E8F0FE;\n",
              "      border: none;\n",
              "      border-radius: 50%;\n",
              "      cursor: pointer;\n",
              "      display: none;\n",
              "      fill: #1967D2;\n",
              "      height: 32px;\n",
              "      padding: 0 0 0 0;\n",
              "      width: 32px;\n",
              "    }\n",
              "\n",
              "    .colab-df-convert:hover {\n",
              "      background-color: #E2EBFA;\n",
              "      box-shadow: 0px 1px 2px rgba(60, 64, 67, 0.3), 0px 1px 3px 1px rgba(60, 64, 67, 0.15);\n",
              "      fill: #174EA6;\n",
              "    }\n",
              "\n",
              "    [theme=dark] .colab-df-convert {\n",
              "      background-color: #3B4455;\n",
              "      fill: #D2E3FC;\n",
              "    }\n",
              "\n",
              "    [theme=dark] .colab-df-convert:hover {\n",
              "      background-color: #434B5C;\n",
              "      box-shadow: 0px 1px 3px 1px rgba(0, 0, 0, 0.15);\n",
              "      filter: drop-shadow(0px 1px 2px rgba(0, 0, 0, 0.3));\n",
              "      fill: #FFFFFF;\n",
              "    }\n",
              "  </style>\n",
              "\n",
              "      <script>\n",
              "        const buttonEl =\n",
              "          document.querySelector('#df-3cd2d0e5-70ef-4f69-996e-4eb72453f93d button.colab-df-convert');\n",
              "        buttonEl.style.display =\n",
              "          google.colab.kernel.accessAllowed ? 'block' : 'none';\n",
              "\n",
              "        async function convertToInteractive(key) {\n",
              "          const element = document.querySelector('#df-3cd2d0e5-70ef-4f69-996e-4eb72453f93d');\n",
              "          const dataTable =\n",
              "            await google.colab.kernel.invokeFunction('convertToInteractive',\n",
              "                                                     [key], {});\n",
              "          if (!dataTable) return;\n",
              "\n",
              "          const docLinkHtml = 'Like what you see? Visit the ' +\n",
              "            '<a target=\"_blank\" href=https://colab.research.google.com/notebooks/data_table.ipynb>data table notebook</a>'\n",
              "            + ' to learn more about interactive tables.';\n",
              "          element.innerHTML = '';\n",
              "          dataTable['output_type'] = 'display_data';\n",
              "          await google.colab.output.renderOutput(dataTable, element);\n",
              "          const docLink = document.createElement('div');\n",
              "          docLink.innerHTML = docLinkHtml;\n",
              "          element.appendChild(docLink);\n",
              "        }\n",
              "      </script>\n",
              "    </div>\n",
              "  </div>\n",
              "  "
            ]
          },
          "metadata": {},
          "execution_count": 34
        }
      ]
    },
    {
      "cell_type": "markdown",
      "source": [
        "- Количество пустых значений после замены nan на среднее значение конкретной колонны"
      ],
      "metadata": {
        "id": "1PZfKeZ5UdaI"
      }
    },
    {
      "cell_type": "code",
      "source": [
        "count_nan(df)"
      ],
      "metadata": {
        "colab": {
          "base_uri": "https://localhost:8080/"
        },
        "id": "2HiEub2zTQJL",
        "outputId": "54df0242-3386-4286-85e9-b330e568753f"
      },
      "execution_count": 35,
      "outputs": [
        {
          "output_type": "stream",
          "name": "stdout",
          "text": [
            "id: 0\n",
            "timestamp: 0\n",
            "full_sq: 0\n",
            "life_sq: 0\n",
            "floor: 0\n",
            "state: 0\n",
            "max_floor: 0\n",
            "material: 0\n",
            "build_year: 2905\n",
            "num_room: 0\n",
            "kitch_sq: 0\n",
            "full_all: 0\n",
            "sub_area: 0\n",
            "price_doc: 0\n"
          ]
        }
      ]
    },
    {
      "cell_type": "markdown",
      "source": [
        "- Визуализируем датафрейм еще раз"
      ],
      "metadata": {
        "id": "JTGmqBWwU17E"
      }
    },
    {
      "cell_type": "code",
      "source": [
        "visualize_dataframe(df)"
      ],
      "metadata": {
        "colab": {
          "base_uri": "https://localhost:8080/",
          "height": 1000
        },
        "id": "1Z2LugWQUxPf",
        "outputId": "e64307c6-5069-433e-94b5-2077271b9041"
      },
      "execution_count": 36,
      "outputs": [
        {
          "output_type": "display_data",
          "data": {
            "text/plain": [
              "<Figure size 432x288 with 1 Axes>"
            ],
            "image/png": "[encoded data removed]"
          },
          "metadata": {
            "needs_background": "light"
          }
        },
        {
          "output_type": "display_data",
          "data": {
            "text/plain": [
              "<Figure size 432x288 with 1 Axes>"
            ],
            "image/png": "[encoded data removed]"
          },
          "metadata": {
            "needs_background": "light"
          }
        },
        {
          "output_type": "display_data",
          "data": {
            "text/plain": [
              "<Figure size 432x288 with 1 Axes>"
            ],
            "image/png": "[encoded data removed]"
          },
          "metadata": {
            "needs_background": "light"
          }
        },
        {
          "output_type": "display_data",
          "data": {
            "text/plain": [
              "<Figure size 432x288 with 1 Axes>"
            ],
            "image/png": "[encoded data removed]"
          },
          "metadata": {
            "needs_background": "light"
          }
        },
        {
          "output_type": "display_data",
          "data": {
            "text/plain": [
              "<Figure size 432x288 with 1 Axes>"
            ],
            "image/png": "[encoded data removed]"
          },
          "metadata": {
            "needs_background": "light"
          }
        },
        {
          "output_type": "display_data",
          "data": {
            "text/plain": [
              "<Figure size 432x288 with 1 Axes>"
            ],
            "image/png": "[encoded data removed]"
          },
          "metadata": {
            "needs_background": "light"
          }
        },
        {
          "output_type": "display_data",
          "data": {
            "text/plain": [
              "<Figure size 432x288 with 1 Axes>"
            ],
            "image/png": "[encoded data removed]"
          },
          "metadata": {
            "needs_background": "light"
          }
        },
        {
          "output_type": "display_data",
          "data": {
            "text/plain": [
              "<Figure size 432x288 with 1 Axes>"
            ],
            "image/png": "[encoded data removed]"
          },
          "metadata": {
            "needs_background": "light"
          }
        },
        {
          "output_type": "display_data",
          "data": {
            "text/plain": [
              "<Figure size 432x288 with 1 Axes>"
            ],
            "image/png": "[encoded data removed]"
          },
          "metadata": {
            "needs_background": "light"
          }
        },
        {
          "output_type": "display_data",
          "data": {
            "text/plain": [
              "<Figure size 432x288 with 1 Axes>"
            ],
            "image/png": "[encoded data removed]"
          },
          "metadata": {
            "needs_background": "light"
          }
        }
      ]
    },
    {
      "cell_type": "markdown",
      "source": [
        "### 1.3.2 Набор с макропоказателями"
      ],
      "metadata": {
        "id": "IzqxQKoTNbNV"
      }
    },
    {
      "cell_type": "markdown",
      "source": [
        "- В визуализации видно что есть небольшое количество выборосов, но ситуация явно лучше чем в первом датасете"
      ],
      "metadata": {
        "id": "CZX5NS8eVJ9K"
      }
    },
    {
      "cell_type": "code",
      "source": [
        "visualize_dataframe(macro)"
      ],
      "metadata": {
        "id": "j3du90RSNSM5",
        "colab": {
          "base_uri": "https://localhost:8080/",
          "height": 1000
        },
        "outputId": "dd2212f8-8904-4894-9a9d-902679cb4806"
      },
      "execution_count": 37,
      "outputs": [
        {
          "output_type": "display_data",
          "data": {
            "text/plain": [
              "<Figure size 432x288 with 1 Axes>"
            ],
            "image/png": "[encoded data removed]"
          },
          "metadata": {
            "needs_background": "light"
          }
        },
        {
          "output_type": "display_data",
          "data": {
            "text/plain": [
              "<Figure size 432x288 with 1 Axes>"
            ],
            "image/png": "[encoded data removed]"
          },
          "metadata": {
            "needs_background": "light"
          }
        },
        {
          "output_type": "display_data",
          "data": {
            "text/plain": [
              "<Figure size 432x288 with 1 Axes>"
            ],
            "image/png": "[encoded data removed]"
          },
          "metadata": {
            "needs_background": "light"
          }
        },
        {
          "output_type": "display_data",
          "data": {
            "text/plain": [
              "<Figure size 432x288 with 1 Axes>"
            ],
            "image/png": "[encoded data removed]"
          },
          "metadata": {
            "needs_background": "light"
          }
        },
        {
          "output_type": "display_data",
          "data": {
            "text/plain": [
              "<Figure size 432x288 with 1 Axes>"
            ],
            "image/png": "[encoded data removed]"
          },
          "metadata": {
            "needs_background": "light"
          }
        },
        {
          "output_type": "display_data",
          "data": {
            "text/plain": [
              "<Figure size 432x288 with 1 Axes>"
            ],
            "image/png": "[encoded data removed]"
          },
          "metadata": {
            "needs_background": "light"
          }
        }
      ]
    },
    {
      "cell_type": "markdown",
      "source": [
        "- Уберем некоторые очевидные выбросы, проигнорируя некоторые колонны в которых максимальные значения адекватные"
      ],
      "metadata": {
        "id": "zJwMimseYP5l"
      }
    },
    {
      "cell_type": "code",
      "source": [
        "macro = clear_outliers(macro, low_quantile=0.2, ignore_columns=['rent_price_3room_eco', 'average_life_exp'])"
      ],
      "metadata": {
        "id": "jRPyd7cnVT45"
      },
      "execution_count": 38,
      "outputs": []
    },
    {
      "cell_type": "code",
      "source": [
        "visualize_dataframe(macro)"
      ],
      "metadata": {
        "colab": {
          "base_uri": "https://localhost:8080/",
          "height": 1000
        },
        "id": "QXUk1-1YVqfU",
        "outputId": "c0d1ef6c-45f3-41e9-8607-bb828bdb32c6"
      },
      "execution_count": 39,
      "outputs": [
        {
          "output_type": "display_data",
          "data": {
            "text/plain": [
              "<Figure size 432x288 with 1 Axes>"
            ],
            "image/png": "[encoded data removed]"
          },
          "metadata": {
            "needs_background": "light"
          }
        },
        {
          "output_type": "display_data",
          "data": {
            "text/plain": [
              "<Figure size 432x288 with 1 Axes>"
            ],
            "image/png": "[encoded data removed]"
          },
          "metadata": {
            "needs_background": "light"
          }
        },
        {
          "output_type": "display_data",
          "data": {
            "text/plain": [
              "<Figure size 432x288 with 1 Axes>"
            ],
            "image/png": "[encoded data removed]"
          },
          "metadata": {
            "needs_background": "light"
          }
        },
        {
          "output_type": "display_data",
          "data": {
            "text/plain": [
              "<Figure size 432x288 with 1 Axes>"
            ],
            "image/png": "[encoded data removed]"
          },
          "metadata": {
            "needs_background": "light"
          }
        },
        {
          "output_type": "display_data",
          "data": {
            "text/plain": [
              "<Figure size 432x288 with 1 Axes>"
            ],
            "image/png": "[encoded data removed]"
          },
          "metadata": {
            "needs_background": "light"
          }
        },
        {
          "output_type": "display_data",
          "data": {
            "text/plain": [
              "<Figure size 432x288 with 1 Axes>"
            ],
            "image/png": "[encoded data removed]"
          },
          "metadata": {
            "needs_background": "light"
          }
        }
      ]
    },
    {
      "cell_type": "code",
      "source": [
        "count_nan(macro)"
      ],
      "metadata": {
        "colab": {
          "base_uri": "https://localhost:8080/"
        },
        "id": "6i7zjCfUYVQV",
        "outputId": "7d29d1e5-cef4-4b92-eb57-604798ac2be1"
      },
      "execution_count": 40,
      "outputs": [
        {
          "output_type": "stream",
          "name": "stdout",
          "text": [
            "timestamp: 0\n",
            "salary: 658\n",
            "fixed_basket: 485\n",
            "rent_price_3room_eco: 273\n",
            "rent_price_2room_eco: 697\n",
            "rent_price_1room_eco: 700\n",
            "average_life_exp: 293\n"
          ]
        }
      ]
    },
    {
      "cell_type": "code",
      "source": [
        "macro = fill_nan_data(macro)\n",
        "macro.sample(15)"
      ],
      "metadata": {
        "colab": {
          "base_uri": "https://localhost:8080/",
          "height": 520
        },
        "id": "8HV3xP1pYbLi",
        "outputId": "190bffca-83c4-46dd-f68a-9340d822b20f"
      },
      "execution_count": 41,
      "outputs": [
        {
          "output_type": "execute_result",
          "data": {
            "text/plain": [
              "      timestamp      salary  fixed_basket  rent_price_3room_eco  \\\n",
              "1516 2014-02-25  61208.0000    15730.8100               49.2400   \n",
              "662  2011-10-25  44898.7000    12922.9700               43.4600   \n",
              "218  2010-08-07  54943.1106    16131.2946               47.2997   \n",
              "917  2012-07-06  48830.4000    13762.4700               43.4200   \n",
              "228  2010-08-17  54943.1106    16131.2946               47.2997   \n",
              "1768 2014-11-04  61208.0000    16648.7000               53.2100   \n",
              "1691 2014-08-19  61208.0000    16134.3900               52.8100   \n",
              "2279 2016-03-29  54943.1106    19807.4300               47.0500   \n",
              "2457 2016-09-23  54943.1106    20354.7800               45.7100   \n",
              "1914 2015-03-30  64310.0000    18557.8800               50.4100   \n",
              "681  2011-11-13  44898.7000    12959.4900               46.5000   \n",
              "903  2012-06-22  48830.4000    13494.2300               46.2900   \n",
              "2005 2015-06-29  64310.0000    18720.6500               49.0100   \n",
              "1598 2014-05-18  61208.0000    16205.2500               50.2400   \n",
              "378  2011-01-14  44898.7000    16131.2946               41.7600   \n",
              "\n",
              "      rent_price_2room_eco  rent_price_1room_eco  average_life_exp  \n",
              "1516               41.7900               33.6500           76.7000  \n",
              "662                38.1000               31.1100           75.7900  \n",
              "218                40.2572               32.0755           74.2000  \n",
              "917                38.2500               31.1000           75.7400  \n",
              "228                40.2572               32.0755           74.2000  \n",
              "1768               43.2300               34.3000           76.7000  \n",
              "1691               43.1100               34.8300           76.7000  \n",
              "2279               38.0600               29.6700           75.9282  \n",
              "2457               38.4000               29.7800           75.9282  \n",
              "1914               40.4900               31.3500           76.7700  \n",
              "681                38.6200               31.5300           75.7900  \n",
              "903                39.0000               30.4800           75.7400  \n",
              "2005               38.9100               30.2900           76.7700  \n",
              "1598               41.1700               32.8700           76.7000  \n",
              "378                40.2572               32.0755           75.7900  "
            ],
            "text/html": [
              "\n",
              "  <div id=\"df-6727592f-58ee-4d84-88c9-22818eedd54d\">\n",
              "    <div class=\"colab-df-container\">\n",
              "      <div>\n",
              "<style scoped>\n",
              "    .dataframe tbody tr th:only-of-type {\n",
              "        vertical-align: middle;\n",
              "    }\n",
              "\n",
              "    .dataframe tbody tr th {\n",
              "        vertical-align: top;\n",
              "    }\n",
              "\n",
              "    .dataframe thead th {\n",
              "        text-align: right;\n",
              "    }\n",
              "</style>\n",
              "<table border=\"1\" class=\"dataframe\">\n",
              "  <thead>\n",
              "    <tr style=\"text-align: right;\">\n",
              "      <th></th>\n",
              "      <th>timestamp</th>\n",
              "      <th>salary</th>\n",
              "      <th>fixed_basket</th>\n",
              "      <th>rent_price_3room_eco</th>\n",
              "      <th>rent_price_2room_eco</th>\n",
              "      <th>rent_price_1room_eco</th>\n",
              "      <th>average_life_exp</th>\n",
              "    </tr>\n",
              "  </thead>\n",
              "  <tbody>\n",
              "    <tr>\n",
              "      <th>1516</th>\n",
              "      <td>2014-02-25</td>\n",
              "      <td>61208.0000</td>\n",
              "      <td>15730.8100</td>\n",
              "      <td>49.2400</td>\n",
              "      <td>41.7900</td>\n",
              "      <td>33.6500</td>\n",
              "      <td>76.7000</td>\n",
              "    </tr>\n",
              "    <tr>\n",
              "      <th>662</th>\n",
              "      <td>2011-10-25</td>\n",
              "      <td>44898.7000</td>\n",
              "      <td>12922.9700</td>\n",
              "      <td>43.4600</td>\n",
              "      <td>38.1000</td>\n",
              "      <td>31.1100</td>\n",
              "      <td>75.7900</td>\n",
              "    </tr>\n",
              "    <tr>\n",
              "      <th>218</th>\n",
              "      <td>2010-08-07</td>\n",
              "      <td>54943.1106</td>\n",
              "      <td>16131.2946</td>\n",
              "      <td>47.2997</td>\n",
              "      <td>40.2572</td>\n",
              "      <td>32.0755</td>\n",
              "      <td>74.2000</td>\n",
              "    </tr>\n",
              "    <tr>\n",
              "      <th>917</th>\n",
              "      <td>2012-07-06</td>\n",
              "      <td>48830.4000</td>\n",
              "      <td>13762.4700</td>\n",
              "      <td>43.4200</td>\n",
              "      <td>38.2500</td>\n",
              "      <td>31.1000</td>\n",
              "      <td>75.7400</td>\n",
              "    </tr>\n",
              "    <tr>\n",
              "      <th>228</th>\n",
              "      <td>2010-08-17</td>\n",
              "      <td>54943.1106</td>\n",
              "      <td>16131.2946</td>\n",
              "      <td>47.2997</td>\n",
              "      <td>40.2572</td>\n",
              "      <td>32.0755</td>\n",
              "      <td>74.2000</td>\n",
              "    </tr>\n",
              "    <tr>\n",
              "      <th>1768</th>\n",
              "      <td>2014-11-04</td>\n",
              "      <td>61208.0000</td>\n",
              "      <td>16648.7000</td>\n",
              "      <td>53.2100</td>\n",
              "      <td>43.2300</td>\n",
              "      <td>34.3000</td>\n",
              "      <td>76.7000</td>\n",
              "    </tr>\n",
              "    <tr>\n",
              "      <th>1691</th>\n",
              "      <td>2014-08-19</td>\n",
              "      <td>61208.0000</td>\n",
              "      <td>16134.3900</td>\n",
              "      <td>52.8100</td>\n",
              "      <td>43.1100</td>\n",
              "      <td>34.8300</td>\n",
              "      <td>76.7000</td>\n",
              "    </tr>\n",
              "    <tr>\n",
              "      <th>2279</th>\n",
              "      <td>2016-03-29</td>\n",
              "      <td>54943.1106</td>\n",
              "      <td>19807.4300</td>\n",
              "      <td>47.0500</td>\n",
              "      <td>38.0600</td>\n",
              "      <td>29.6700</td>\n",
              "      <td>75.9282</td>\n",
              "    </tr>\n",
              "    <tr>\n",
              "      <th>2457</th>\n",
              "      <td>2016-09-23</td>\n",
              "      <td>54943.1106</td>\n",
              "      <td>20354.7800</td>\n",
              "      <td>45.7100</td>\n",
              "      <td>38.4000</td>\n",
              "      <td>29.7800</td>\n",
              "      <td>75.9282</td>\n",
              "    </tr>\n",
              "    <tr>\n",
              "      <th>1914</th>\n",
              "      <td>2015-03-30</td>\n",
              "      <td>64310.0000</td>\n",
              "      <td>18557.8800</td>\n",
              "      <td>50.4100</td>\n",
              "      <td>40.4900</td>\n",
              "      <td>31.3500</td>\n",
              "      <td>76.7700</td>\n",
              "    </tr>\n",
              "    <tr>\n",
              "      <th>681</th>\n",
              "      <td>2011-11-13</td>\n",
              "      <td>44898.7000</td>\n",
              "      <td>12959.4900</td>\n",
              "      <td>46.5000</td>\n",
              "      <td>38.6200</td>\n",
              "      <td>31.5300</td>\n",
              "      <td>75.7900</td>\n",
              "    </tr>\n",
              "    <tr>\n",
              "      <th>903</th>\n",
              "      <td>2012-06-22</td>\n",
              "      <td>48830.4000</td>\n",
              "      <td>13494.2300</td>\n",
              "      <td>46.2900</td>\n",
              "      <td>39.0000</td>\n",
              "      <td>30.4800</td>\n",
              "      <td>75.7400</td>\n",
              "    </tr>\n",
              "    <tr>\n",
              "      <th>2005</th>\n",
              "      <td>2015-06-29</td>\n",
              "      <td>64310.0000</td>\n",
              "      <td>18720.6500</td>\n",
              "      <td>49.0100</td>\n",
              "      <td>38.9100</td>\n",
              "      <td>30.2900</td>\n",
              "      <td>76.7700</td>\n",
              "    </tr>\n",
              "    <tr>\n",
              "      <th>1598</th>\n",
              "      <td>2014-05-18</td>\n",
              "      <td>61208.0000</td>\n",
              "      <td>16205.2500</td>\n",
              "      <td>50.2400</td>\n",
              "      <td>41.1700</td>\n",
              "      <td>32.8700</td>\n",
              "      <td>76.7000</td>\n",
              "    </tr>\n",
              "    <tr>\n",
              "      <th>378</th>\n",
              "      <td>2011-01-14</td>\n",
              "      <td>44898.7000</td>\n",
              "      <td>16131.2946</td>\n",
              "      <td>41.7600</td>\n",
              "      <td>40.2572</td>\n",
              "      <td>32.0755</td>\n",
              "      <td>75.7900</td>\n",
              "    </tr>\n",
              "  </tbody>\n",
              "</table>\n",
              "</div>\n",
              "      <button class=\"colab-df-convert\" onclick=\"convertToInteractive('df-6727592f-58ee-4d84-88c9-22818eedd54d')\"\n",
              "              title=\"Convert this dataframe to an interactive table.\"\n",
              "              style=\"display:none;\">\n",
              "        \n",
              "  <svg xmlns=\"http://www.w3.org/2000/svg\" height=\"24px\"viewBox=\"0 0 24 24\"\n",
              "       width=\"24px\">\n",
              "    <path d=\"M0 0h24v24H0V0z\" fill=\"none\"/>\n",
              "    <path d=\"M18.56 5.44l.94 2.06.94-2.06 2.06-.94-2.06-.94-.94-2.06-.94 2.06-2.06.94zm-11 1L8.5 8.5l.94-2.06 2.06-.94-2.06-.94L8.5 2.5l-.94 2.06-2.06.94zm10 10l.94 2.06.94-2.06 2.06-.94-2.06-.94-.94-2.06-.94 2.06-2.06.94z\"/><path d=\"M17.41 7.96l-1.37-1.37c-.4-.4-.92-.59-1.43-.59-.52 0-1.04.2-1.43.59L10.3 9.45l-7.72 7.72c-.78.78-.78 2.05 0 2.83L4 21.41c.39.39.9.59 1.41.59.51 0 1.02-.2 1.41-.59l7.78-7.78 2.81-2.81c.8-.78.8-2.07 0-2.86zM5.41 20L4 18.59l7.72-7.72 1.47 1.35L5.41 20z\"/>\n",
              "  </svg>\n",
              "      </button>\n",
              "      \n",
              "  <style>\n",
              "    .colab-df-container {\n",
              "      display:flex;\n",
              "      flex-wrap:wrap;\n",
              "      gap: 12px;\n",
              "    }\n",
              "\n",
              "    .colab-df-convert {\n",
              "      background-color: #E8F0FE;\n",
              "      border: none;\n",
              "      border-radius: 50%;\n",
              "      cursor: pointer;\n",
              "      display: none;\n",
              "      fill: #1967D2;\n",
              "      height: 32px;\n",
              "      padding: 0 0 0 0;\n",
              "      width: 32px;\n",
              "    }\n",
              "\n",
              "    .colab-df-convert:hover {\n",
              "      background-color: #E2EBFA;\n",
              "      box-shadow: 0px 1px 2px rgba(60, 64, 67, 0.3), 0px 1px 3px 1px rgba(60, 64, 67, 0.15);\n",
              "      fill: #174EA6;\n",
              "    }\n",
              "\n",
              "    [theme=dark] .colab-df-convert {\n",
              "      background-color: #3B4455;\n",
              "      fill: #D2E3FC;\n",
              "    }\n",
              "\n",
              "    [theme=dark] .colab-df-convert:hover {\n",
              "      background-color: #434B5C;\n",
              "      box-shadow: 0px 1px 3px 1px rgba(0, 0, 0, 0.15);\n",
              "      filter: drop-shadow(0px 1px 2px rgba(0, 0, 0, 0.3));\n",
              "      fill: #FFFFFF;\n",
              "    }\n",
              "  </style>\n",
              "\n",
              "      <script>\n",
              "        const buttonEl =\n",
              "          document.querySelector('#df-6727592f-58ee-4d84-88c9-22818eedd54d button.colab-df-convert');\n",
              "        buttonEl.style.display =\n",
              "          google.colab.kernel.accessAllowed ? 'block' : 'none';\n",
              "\n",
              "        async function convertToInteractive(key) {\n",
              "          const element = document.querySelector('#df-6727592f-58ee-4d84-88c9-22818eedd54d');\n",
              "          const dataTable =\n",
              "            await google.colab.kernel.invokeFunction('convertToInteractive',\n",
              "                                                     [key], {});\n",
              "          if (!dataTable) return;\n",
              "\n",
              "          const docLinkHtml = 'Like what you see? Visit the ' +\n",
              "            '<a target=\"_blank\" href=https://colab.research.google.com/notebooks/data_table.ipynb>data table notebook</a>'\n",
              "            + ' to learn more about interactive tables.';\n",
              "          element.innerHTML = '';\n",
              "          dataTable['output_type'] = 'display_data';\n",
              "          await google.colab.output.renderOutput(dataTable, element);\n",
              "          const docLink = document.createElement('div');\n",
              "          docLink.innerHTML = docLinkHtml;\n",
              "          element.appendChild(docLink);\n",
              "        }\n",
              "      </script>\n",
              "    </div>\n",
              "  </div>\n",
              "  "
            ]
          },
          "metadata": {},
          "execution_count": 41
        }
      ]
    },
    {
      "cell_type": "code",
      "source": [
        "count_nan(macro)"
      ],
      "metadata": {
        "colab": {
          "base_uri": "https://localhost:8080/"
        },
        "id": "Qa1KQkOCYgCw",
        "outputId": "a2b42572-8f86-41ed-ed14-ab5c399727cc"
      },
      "execution_count": 42,
      "outputs": [
        {
          "output_type": "stream",
          "name": "stdout",
          "text": [
            "timestamp: 0\n",
            "salary: 0\n",
            "fixed_basket: 0\n",
            "rent_price_3room_eco: 0\n",
            "rent_price_2room_eco: 0\n",
            "rent_price_1room_eco: 0\n",
            "average_life_exp: 0\n"
          ]
        }
      ]
    },
    {
      "cell_type": "code",
      "source": [
        "visualize_dataframe(macro)"
      ],
      "metadata": {
        "colab": {
          "base_uri": "https://localhost:8080/",
          "height": 1000
        },
        "id": "RdXDBkOWYiLY",
        "outputId": "ec326a03-4f63-4663-d77b-b4291ca573e6"
      },
      "execution_count": 43,
      "outputs": [
        {
          "output_type": "display_data",
          "data": {
            "text/plain": [
              "<Figure size 432x288 with 1 Axes>"
            ],
            "image/png": "[encoded data removed]"
          },
          "metadata": {
            "needs_background": "light"
          }
        },
        {
          "output_type": "display_data",
          "data": {
            "text/plain": [
              "<Figure size 432x288 with 1 Axes>"
            ],
            "image/png": "[encoded data removed]"
          },
          "metadata": {
            "needs_background": "light"
          }
        },
        {
          "output_type": "display_data",
          "data": {
            "text/plain": [
              "<Figure size 432x288 with 1 Axes>"
            ],
            "image/png": "[encoded data removed]"
          },
          "metadata": {
            "needs_background": "light"
          }
        },
        {
          "output_type": "display_data",
          "data": {
            "text/plain": [
              "<Figure size 432x288 with 1 Axes>"
            ],
            "image/png": "[encoded data removed]"
          },
          "metadata": {
            "needs_background": "light"
          }
        },
        {
          "output_type": "display_data",
          "data": {
            "text/plain": [
              "<Figure size 432x288 with 1 Axes>"
            ],
            "image/png": "[encoded data removed]"
          },
          "metadata": {
            "needs_background": "light"
          }
        },
        {
          "output_type": "display_data",
          "data": {
            "text/plain": [
              "<Figure size 432x288 with 1 Axes>"
            ],
            "image/png": "[encoded data removed]"
          },
          "metadata": {
            "needs_background": "light"
          }
        }
      ]
    },
    {
      "cell_type": "markdown",
      "source": [
        "- После махинаций со средними и пустыми значениями почти ничего не изменилось, только ушли аномальные выбросы"
      ],
      "metadata": {
        "id": "zm0uEhsjYmP3"
      }
    },
    {
      "cell_type": "markdown",
      "source": [
        "## 1.4 Обогатите основной набор данных данными из макропоказателей и поместите в переменную `df_full`"
      ],
      "metadata": {
        "id": "E1ic1LZoSWNx"
      }
    },
    {
      "cell_type": "code",
      "source": [
        "df.head(5)"
      ],
      "metadata": {
        "id": "Q8jFXRrGSlKp",
        "colab": {
          "base_uri": "https://localhost:8080/",
          "height": 206
        },
        "outputId": "1d8153fa-c15f-4c18-8da8-b3acef18f380"
      },
      "execution_count": 44,
      "outputs": [
        {
          "output_type": "execute_result",
          "data": {
            "text/plain": [
              "     id  timestamp  full_sq  life_sq  floor   state  max_floor  material  \\\n",
              "0  8059 2013-05-21     11.0     11.0    2.0  3.0000        5.0       2.0   \n",
              "1  8138 2013-05-25     53.0     30.0   10.0  3.0000       16.0       1.0   \n",
              "2  8156 2013-05-27     77.0     41.0    2.0  1.0000       17.0       6.0   \n",
              "3  8157 2013-05-27     45.0     27.0    6.0  3.0000        9.0       1.0   \n",
              "4  8178 2013-05-28     38.0     20.0   15.0  2.1993       16.0       1.0   \n",
              "\n",
              "  build_year  num_room  kitch_sq  full_all                 sub_area  price_doc  \n",
              "0 1907-01-01       1.0      12.0   75377.0                Hamovniki  2750000.0  \n",
              "1 1980-01-01       2.0       8.0   68630.0                Lianozovo  9000000.0  \n",
              "2 2014-01-01       3.0      12.0    9553.0  Poselenie Voskresenskoe  7011550.0  \n",
              "3 1970-01-01       2.0       6.0   78616.0          Severnoe Butovo  7100000.0  \n",
              "4 1982-01-01       1.0       8.0  112804.0           Filevskij Park  6450000.0  "
            ],
            "text/html": [
              "\n",
              "  <div id=\"df-88b26e47-25f5-4c97-bb19-0efb3a470a13\">\n",
              "    <div class=\"colab-df-container\">\n",
              "      <div>\n",
              "<style scoped>\n",
              "    .dataframe tbody tr th:only-of-type {\n",
              "        vertical-align: middle;\n",
              "    }\n",
              "\n",
              "    .dataframe tbody tr th {\n",
              "        vertical-align: top;\n",
              "    }\n",
              "\n",
              "    .dataframe thead th {\n",
              "        text-align: right;\n",
              "    }\n",
              "</style>\n",
              "<table border=\"1\" class=\"dataframe\">\n",
              "  <thead>\n",
              "    <tr style=\"text-align: right;\">\n",
              "      <th></th>\n",
              "      <th>id</th>\n",
              "      <th>timestamp</th>\n",
              "      <th>full_sq</th>\n",
              "      <th>life_sq</th>\n",
              "      <th>floor</th>\n",
              "      <th>state</th>\n",
              "      <th>max_floor</th>\n",
              "      <th>material</th>\n",
              "      <th>build_year</th>\n",
              "      <th>num_room</th>\n",
              "      <th>kitch_sq</th>\n",
              "      <th>full_all</th>\n",
              "      <th>sub_area</th>\n",
              "      <th>price_doc</th>\n",
              "    </tr>\n",
              "  </thead>\n",
              "  <tbody>\n",
              "    <tr>\n",
              "      <th>0</th>\n",
              "      <td>8059</td>\n",
              "      <td>2013-05-21</td>\n",
              "      <td>11.0</td>\n",
              "      <td>11.0</td>\n",
              "      <td>2.0</td>\n",
              "      <td>3.0000</td>\n",
              "      <td>5.0</td>\n",
              "      <td>2.0</td>\n",
              "      <td>1907-01-01</td>\n",
              "      <td>1.0</td>\n",
              "      <td>12.0</td>\n",
              "      <td>75377.0</td>\n",
              "      <td>Hamovniki</td>\n",
              "      <td>2750000.0</td>\n",
              "    </tr>\n",
              "    <tr>\n",
              "      <th>1</th>\n",
              "      <td>8138</td>\n",
              "      <td>2013-05-25</td>\n",
              "      <td>53.0</td>\n",
              "      <td>30.0</td>\n",
              "      <td>10.0</td>\n",
              "      <td>3.0000</td>\n",
              "      <td>16.0</td>\n",
              "      <td>1.0</td>\n",
              "      <td>1980-01-01</td>\n",
              "      <td>2.0</td>\n",
              "      <td>8.0</td>\n",
              "      <td>68630.0</td>\n",
              "      <td>Lianozovo</td>\n",
              "      <td>9000000.0</td>\n",
              "    </tr>\n",
              "    <tr>\n",
              "      <th>2</th>\n",
              "      <td>8156</td>\n",
              "      <td>2013-05-27</td>\n",
              "      <td>77.0</td>\n",
              "      <td>41.0</td>\n",
              "      <td>2.0</td>\n",
              "      <td>1.0000</td>\n",
              "      <td>17.0</td>\n",
              "      <td>6.0</td>\n",
              "      <td>2014-01-01</td>\n",
              "      <td>3.0</td>\n",
              "      <td>12.0</td>\n",
              "      <td>9553.0</td>\n",
              "      <td>Poselenie Voskresenskoe</td>\n",
              "      <td>7011550.0</td>\n",
              "    </tr>\n",
              "    <tr>\n",
              "      <th>3</th>\n",
              "      <td>8157</td>\n",
              "      <td>2013-05-27</td>\n",
              "      <td>45.0</td>\n",
              "      <td>27.0</td>\n",
              "      <td>6.0</td>\n",
              "      <td>3.0000</td>\n",
              "      <td>9.0</td>\n",
              "      <td>1.0</td>\n",
              "      <td>1970-01-01</td>\n",
              "      <td>2.0</td>\n",
              "      <td>6.0</td>\n",
              "      <td>78616.0</td>\n",
              "      <td>Severnoe Butovo</td>\n",
              "      <td>7100000.0</td>\n",
              "    </tr>\n",
              "    <tr>\n",
              "      <th>4</th>\n",
              "      <td>8178</td>\n",
              "      <td>2013-05-28</td>\n",
              "      <td>38.0</td>\n",
              "      <td>20.0</td>\n",
              "      <td>15.0</td>\n",
              "      <td>2.1993</td>\n",
              "      <td>16.0</td>\n",
              "      <td>1.0</td>\n",
              "      <td>1982-01-01</td>\n",
              "      <td>1.0</td>\n",
              "      <td>8.0</td>\n",
              "      <td>112804.0</td>\n",
              "      <td>Filevskij Park</td>\n",
              "      <td>6450000.0</td>\n",
              "    </tr>\n",
              "  </tbody>\n",
              "</table>\n",
              "</div>\n",
              "      <button class=\"colab-df-convert\" onclick=\"convertToInteractive('df-88b26e47-25f5-4c97-bb19-0efb3a470a13')\"\n",
              "              title=\"Convert this dataframe to an interactive table.\"\n",
              "              style=\"display:none;\">\n",
              "        \n",
              "  <svg xmlns=\"http://www.w3.org/2000/svg\" height=\"24px\"viewBox=\"0 0 24 24\"\n",
              "       width=\"24px\">\n",
              "    <path d=\"M0 0h24v24H0V0z\" fill=\"none\"/>\n",
              "    <path d=\"M18.56 5.44l.94 2.06.94-2.06 2.06-.94-2.06-.94-.94-2.06-.94 2.06-2.06.94zm-11 1L8.5 8.5l.94-2.06 2.06-.94-2.06-.94L8.5 2.5l-.94 2.06-2.06.94zm10 10l.94 2.06.94-2.06 2.06-.94-2.06-.94-.94-2.06-.94 2.06-2.06.94z\"/><path d=\"M17.41 7.96l-1.37-1.37c-.4-.4-.92-.59-1.43-.59-.52 0-1.04.2-1.43.59L10.3 9.45l-7.72 7.72c-.78.78-.78 2.05 0 2.83L4 21.41c.39.39.9.59 1.41.59.51 0 1.02-.2 1.41-.59l7.78-7.78 2.81-2.81c.8-.78.8-2.07 0-2.86zM5.41 20L4 18.59l7.72-7.72 1.47 1.35L5.41 20z\"/>\n",
              "  </svg>\n",
              "      </button>\n",
              "      \n",
              "  <style>\n",
              "    .colab-df-container {\n",
              "      display:flex;\n",
              "      flex-wrap:wrap;\n",
              "      gap: 12px;\n",
              "    }\n",
              "\n",
              "    .colab-df-convert {\n",
              "      background-color: #E8F0FE;\n",
              "      border: none;\n",
              "      border-radius: 50%;\n",
              "      cursor: pointer;\n",
              "      display: none;\n",
              "      fill: #1967D2;\n",
              "      height: 32px;\n",
              "      padding: 0 0 0 0;\n",
              "      width: 32px;\n",
              "    }\n",
              "\n",
              "    .colab-df-convert:hover {\n",
              "      background-color: #E2EBFA;\n",
              "      box-shadow: 0px 1px 2px rgba(60, 64, 67, 0.3), 0px 1px 3px 1px rgba(60, 64, 67, 0.15);\n",
              "      fill: #174EA6;\n",
              "    }\n",
              "\n",
              "    [theme=dark] .colab-df-convert {\n",
              "      background-color: #3B4455;\n",
              "      fill: #D2E3FC;\n",
              "    }\n",
              "\n",
              "    [theme=dark] .colab-df-convert:hover {\n",
              "      background-color: #434B5C;\n",
              "      box-shadow: 0px 1px 3px 1px rgba(0, 0, 0, 0.15);\n",
              "      filter: drop-shadow(0px 1px 2px rgba(0, 0, 0, 0.3));\n",
              "      fill: #FFFFFF;\n",
              "    }\n",
              "  </style>\n",
              "\n",
              "      <script>\n",
              "        const buttonEl =\n",
              "          document.querySelector('#df-88b26e47-25f5-4c97-bb19-0efb3a470a13 button.colab-df-convert');\n",
              "        buttonEl.style.display =\n",
              "          google.colab.kernel.accessAllowed ? 'block' : 'none';\n",
              "\n",
              "        async function convertToInteractive(key) {\n",
              "          const element = document.querySelector('#df-88b26e47-25f5-4c97-bb19-0efb3a470a13');\n",
              "          const dataTable =\n",
              "            await google.colab.kernel.invokeFunction('convertToInteractive',\n",
              "                                                     [key], {});\n",
              "          if (!dataTable) return;\n",
              "\n",
              "          const docLinkHtml = 'Like what you see? Visit the ' +\n",
              "            '<a target=\"_blank\" href=https://colab.research.google.com/notebooks/data_table.ipynb>data table notebook</a>'\n",
              "            + ' to learn more about interactive tables.';\n",
              "          element.innerHTML = '';\n",
              "          dataTable['output_type'] = 'display_data';\n",
              "          await google.colab.output.renderOutput(dataTable, element);\n",
              "          const docLink = document.createElement('div');\n",
              "          docLink.innerHTML = docLinkHtml;\n",
              "          element.appendChild(docLink);\n",
              "        }\n",
              "      </script>\n",
              "    </div>\n",
              "  </div>\n",
              "  "
            ]
          },
          "metadata": {},
          "execution_count": 44
        }
      ]
    },
    {
      "cell_type": "code",
      "source": [
        "df.shape"
      ],
      "metadata": {
        "colab": {
          "base_uri": "https://localhost:8080/"
        },
        "id": "Z2Q-qY3ip3kF",
        "outputId": "8a6887a3-d69d-42ca-8cc6-747e41459f02"
      },
      "execution_count": 45,
      "outputs": [
        {
          "output_type": "execute_result",
          "data": {
            "text/plain": [
              "(18866, 14)"
            ]
          },
          "metadata": {},
          "execution_count": 45
        }
      ]
    },
    {
      "cell_type": "code",
      "source": [
        "macro.head(5)"
      ],
      "metadata": {
        "colab": {
          "base_uri": "https://localhost:8080/",
          "height": 206
        },
        "id": "LYNxsZkypISQ",
        "outputId": "4b82d42a-4b6f-45db-a57a-f3162b3571b4"
      },
      "execution_count": 46,
      "outputs": [
        {
          "output_type": "execute_result",
          "data": {
            "text/plain": [
              "   timestamp      salary  fixed_basket  rent_price_3room_eco  \\\n",
              "0 2010-01-01  54943.1106    16131.2946               47.2997   \n",
              "1 2010-01-02  54943.1106    16131.2946               47.2997   \n",
              "2 2010-01-03  54943.1106    16131.2946               47.2997   \n",
              "3 2010-01-04  54943.1106    16131.2946               47.2997   \n",
              "4 2010-01-05  54943.1106    16131.2946               47.2997   \n",
              "\n",
              "   rent_price_2room_eco  rent_price_1room_eco  average_life_exp  \n",
              "0               40.2572               32.0755              74.2  \n",
              "1               40.2572               32.0755              74.2  \n",
              "2               40.2572               32.0755              74.2  \n",
              "3               40.2572               32.0755              74.2  \n",
              "4               40.2572               32.0755              74.2  "
            ],
            "text/html": [
              "\n",
              "  <div id=\"df-59764574-5c5d-4e8d-9d22-accea0a1a15b\">\n",
              "    <div class=\"colab-df-container\">\n",
              "      <div>\n",
              "<style scoped>\n",
              "    .dataframe tbody tr th:only-of-type {\n",
              "        vertical-align: middle;\n",
              "    }\n",
              "\n",
              "    .dataframe tbody tr th {\n",
              "        vertical-align: top;\n",
              "    }\n",
              "\n",
              "    .dataframe thead th {\n",
              "        text-align: right;\n",
              "    }\n",
              "</style>\n",
              "<table border=\"1\" class=\"dataframe\">\n",
              "  <thead>\n",
              "    <tr style=\"text-align: right;\">\n",
              "      <th></th>\n",
              "      <th>timestamp</th>\n",
              "      <th>salary</th>\n",
              "      <th>fixed_basket</th>\n",
              "      <th>rent_price_3room_eco</th>\n",
              "      <th>rent_price_2room_eco</th>\n",
              "      <th>rent_price_1room_eco</th>\n",
              "      <th>average_life_exp</th>\n",
              "    </tr>\n",
              "  </thead>\n",
              "  <tbody>\n",
              "    <tr>\n",
              "      <th>0</th>\n",
              "      <td>2010-01-01</td>\n",
              "      <td>54943.1106</td>\n",
              "      <td>16131.2946</td>\n",
              "      <td>47.2997</td>\n",
              "      <td>40.2572</td>\n",
              "      <td>32.0755</td>\n",
              "      <td>74.2</td>\n",
              "    </tr>\n",
              "    <tr>\n",
              "      <th>1</th>\n",
              "      <td>2010-01-02</td>\n",
              "      <td>54943.1106</td>\n",
              "      <td>16131.2946</td>\n",
              "      <td>47.2997</td>\n",
              "      <td>40.2572</td>\n",
              "      <td>32.0755</td>\n",
              "      <td>74.2</td>\n",
              "    </tr>\n",
              "    <tr>\n",
              "      <th>2</th>\n",
              "      <td>2010-01-03</td>\n",
              "      <td>54943.1106</td>\n",
              "      <td>16131.2946</td>\n",
              "      <td>47.2997</td>\n",
              "      <td>40.2572</td>\n",
              "      <td>32.0755</td>\n",
              "      <td>74.2</td>\n",
              "    </tr>\n",
              "    <tr>\n",
              "      <th>3</th>\n",
              "      <td>2010-01-04</td>\n",
              "      <td>54943.1106</td>\n",
              "      <td>16131.2946</td>\n",
              "      <td>47.2997</td>\n",
              "      <td>40.2572</td>\n",
              "      <td>32.0755</td>\n",
              "      <td>74.2</td>\n",
              "    </tr>\n",
              "    <tr>\n",
              "      <th>4</th>\n",
              "      <td>2010-01-05</td>\n",
              "      <td>54943.1106</td>\n",
              "      <td>16131.2946</td>\n",
              "      <td>47.2997</td>\n",
              "      <td>40.2572</td>\n",
              "      <td>32.0755</td>\n",
              "      <td>74.2</td>\n",
              "    </tr>\n",
              "  </tbody>\n",
              "</table>\n",
              "</div>\n",
              "      <button class=\"colab-df-convert\" onclick=\"convertToInteractive('df-59764574-5c5d-4e8d-9d22-accea0a1a15b')\"\n",
              "              title=\"Convert this dataframe to an interactive table.\"\n",
              "              style=\"display:none;\">\n",
              "        \n",
              "  <svg xmlns=\"http://www.w3.org/2000/svg\" height=\"24px\"viewBox=\"0 0 24 24\"\n",
              "       width=\"24px\">\n",
              "    <path d=\"M0 0h24v24H0V0z\" fill=\"none\"/>\n",
              "    <path d=\"M18.56 5.44l.94 2.06.94-2.06 2.06-.94-2.06-.94-.94-2.06-.94 2.06-2.06.94zm-11 1L8.5 8.5l.94-2.06 2.06-.94-2.06-.94L8.5 2.5l-.94 2.06-2.06.94zm10 10l.94 2.06.94-2.06 2.06-.94-2.06-.94-.94-2.06-.94 2.06-2.06.94z\"/><path d=\"M17.41 7.96l-1.37-1.37c-.4-.4-.92-.59-1.43-.59-.52 0-1.04.2-1.43.59L10.3 9.45l-7.72 7.72c-.78.78-.78 2.05 0 2.83L4 21.41c.39.39.9.59 1.41.59.51 0 1.02-.2 1.41-.59l7.78-7.78 2.81-2.81c.8-.78.8-2.07 0-2.86zM5.41 20L4 18.59l7.72-7.72 1.47 1.35L5.41 20z\"/>\n",
              "  </svg>\n",
              "      </button>\n",
              "      \n",
              "  <style>\n",
              "    .colab-df-container {\n",
              "      display:flex;\n",
              "      flex-wrap:wrap;\n",
              "      gap: 12px;\n",
              "    }\n",
              "\n",
              "    .colab-df-convert {\n",
              "      background-color: #E8F0FE;\n",
              "      border: none;\n",
              "      border-radius: 50%;\n",
              "      cursor: pointer;\n",
              "      display: none;\n",
              "      fill: #1967D2;\n",
              "      height: 32px;\n",
              "      padding: 0 0 0 0;\n",
              "      width: 32px;\n",
              "    }\n",
              "\n",
              "    .colab-df-convert:hover {\n",
              "      background-color: #E2EBFA;\n",
              "      box-shadow: 0px 1px 2px rgba(60, 64, 67, 0.3), 0px 1px 3px 1px rgba(60, 64, 67, 0.15);\n",
              "      fill: #174EA6;\n",
              "    }\n",
              "\n",
              "    [theme=dark] .colab-df-convert {\n",
              "      background-color: #3B4455;\n",
              "      fill: #D2E3FC;\n",
              "    }\n",
              "\n",
              "    [theme=dark] .colab-df-convert:hover {\n",
              "      background-color: #434B5C;\n",
              "      box-shadow: 0px 1px 3px 1px rgba(0, 0, 0, 0.15);\n",
              "      filter: drop-shadow(0px 1px 2px rgba(0, 0, 0, 0.3));\n",
              "      fill: #FFFFFF;\n",
              "    }\n",
              "  </style>\n",
              "\n",
              "      <script>\n",
              "        const buttonEl =\n",
              "          document.querySelector('#df-59764574-5c5d-4e8d-9d22-accea0a1a15b button.colab-df-convert');\n",
              "        buttonEl.style.display =\n",
              "          google.colab.kernel.accessAllowed ? 'block' : 'none';\n",
              "\n",
              "        async function convertToInteractive(key) {\n",
              "          const element = document.querySelector('#df-59764574-5c5d-4e8d-9d22-accea0a1a15b');\n",
              "          const dataTable =\n",
              "            await google.colab.kernel.invokeFunction('convertToInteractive',\n",
              "                                                     [key], {});\n",
              "          if (!dataTable) return;\n",
              "\n",
              "          const docLinkHtml = 'Like what you see? Visit the ' +\n",
              "            '<a target=\"_blank\" href=https://colab.research.google.com/notebooks/data_table.ipynb>data table notebook</a>'\n",
              "            + ' to learn more about interactive tables.';\n",
              "          element.innerHTML = '';\n",
              "          dataTable['output_type'] = 'display_data';\n",
              "          await google.colab.output.renderOutput(dataTable, element);\n",
              "          const docLink = document.createElement('div');\n",
              "          docLink.innerHTML = docLinkHtml;\n",
              "          element.appendChild(docLink);\n",
              "        }\n",
              "      </script>\n",
              "    </div>\n",
              "  </div>\n",
              "  "
            ]
          },
          "metadata": {},
          "execution_count": 46
        }
      ]
    },
    {
      "cell_type": "code",
      "source": [
        "macro.shape"
      ],
      "metadata": {
        "colab": {
          "base_uri": "https://localhost:8080/"
        },
        "id": "KHKcFSPup5eF",
        "outputId": "24e60c55-977f-47be-8799-e8ac10a56504"
      },
      "execution_count": 47,
      "outputs": [
        {
          "output_type": "execute_result",
          "data": {
            "text/plain": [
              "(2484, 7)"
            ]
          },
          "metadata": {},
          "execution_count": 47
        }
      ]
    },
    {
      "cell_type": "code",
      "source": [
        "df_full = df.merge(macro, on='timestamp', how='left')"
      ],
      "metadata": {
        "id": "8eFFD39QpL8L"
      },
      "execution_count": 48,
      "outputs": []
    },
    {
      "cell_type": "code",
      "source": [
        "df_full.head(5)"
      ],
      "metadata": {
        "colab": {
          "base_uri": "https://localhost:8080/",
          "height": 357
        },
        "id": "3bjxgd0EprZb",
        "outputId": "c7f2579d-1822-4a71-b1ee-7910b9b439f2"
      },
      "execution_count": 49,
      "outputs": [
        {
          "output_type": "execute_result",
          "data": {
            "text/plain": [
              "     id  timestamp  full_sq  life_sq  floor   state  max_floor  material  \\\n",
              "0  8059 2013-05-21     11.0     11.0    2.0  3.0000        5.0       2.0   \n",
              "1  8138 2013-05-25     53.0     30.0   10.0  3.0000       16.0       1.0   \n",
              "2  8156 2013-05-27     77.0     41.0    2.0  1.0000       17.0       6.0   \n",
              "3  8157 2013-05-27     45.0     27.0    6.0  3.0000        9.0       1.0   \n",
              "4  8178 2013-05-28     38.0     20.0   15.0  2.1993       16.0       1.0   \n",
              "\n",
              "  build_year  num_room  kitch_sq  full_all                 sub_area  \\\n",
              "0 1907-01-01       1.0      12.0   75377.0                Hamovniki   \n",
              "1 1980-01-01       2.0       8.0   68630.0                Lianozovo   \n",
              "2 2014-01-01       3.0      12.0    9553.0  Poselenie Voskresenskoe   \n",
              "3 1970-01-01       2.0       6.0   78616.0          Severnoe Butovo   \n",
              "4 1982-01-01       1.0       8.0  112804.0           Filevskij Park   \n",
              "\n",
              "   price_doc   salary  fixed_basket  rent_price_3room_eco  \\\n",
              "0  2750000.0  55485.2      14983.92                 47.35   \n",
              "1  9000000.0  55485.2      14983.92                 47.35   \n",
              "2  7011550.0  55485.2      14983.92                 47.35   \n",
              "3  7100000.0  55485.2      14983.92                 47.35   \n",
              "4  6450000.0  55485.2      14983.92                 47.35   \n",
              "\n",
              "   rent_price_2room_eco  rent_price_1room_eco  average_life_exp  \n",
              "0                 40.77               32.0755             76.37  \n",
              "1                 40.77               32.0755             76.37  \n",
              "2                 40.77               32.0755             76.37  \n",
              "3                 40.77               32.0755             76.37  \n",
              "4                 40.77               32.0755             76.37  "
            ],
            "text/html": [
              "\n",
              "  <div id=\"df-a8286623-57f6-422a-b2f5-34f646c8bb73\">\n",
              "    <div class=\"colab-df-container\">\n",
              "      <div>\n",
              "<style scoped>\n",
              "    .dataframe tbody tr th:only-of-type {\n",
              "        vertical-align: middle;\n",
              "    }\n",
              "\n",
              "    .dataframe tbody tr th {\n",
              "        vertical-align: top;\n",
              "    }\n",
              "\n",
              "    .dataframe thead th {\n",
              "        text-align: right;\n",
              "    }\n",
              "</style>\n",
              "<table border=\"1\" class=\"dataframe\">\n",
              "  <thead>\n",
              "    <tr style=\"text-align: right;\">\n",
              "      <th></th>\n",
              "      <th>id</th>\n",
              "      <th>timestamp</th>\n",
              "      <th>full_sq</th>\n",
              "      <th>life_sq</th>\n",
              "      <th>floor</th>\n",
              "      <th>state</th>\n",
              "      <th>max_floor</th>\n",
              "      <th>material</th>\n",
              "      <th>build_year</th>\n",
              "      <th>num_room</th>\n",
              "      <th>kitch_sq</th>\n",
              "      <th>full_all</th>\n",
              "      <th>sub_area</th>\n",
              "      <th>price_doc</th>\n",
              "      <th>salary</th>\n",
              "      <th>fixed_basket</th>\n",
              "      <th>rent_price_3room_eco</th>\n",
              "      <th>rent_price_2room_eco</th>\n",
              "      <th>rent_price_1room_eco</th>\n",
              "      <th>average_life_exp</th>\n",
              "    </tr>\n",
              "  </thead>\n",
              "  <tbody>\n",
              "    <tr>\n",
              "      <th>0</th>\n",
              "      <td>8059</td>\n",
              "      <td>2013-05-21</td>\n",
              "      <td>11.0</td>\n",
              "      <td>11.0</td>\n",
              "      <td>2.0</td>\n",
              "      <td>3.0000</td>\n",
              "      <td>5.0</td>\n",
              "      <td>2.0</td>\n",
              "      <td>1907-01-01</td>\n",
              "      <td>1.0</td>\n",
              "      <td>12.0</td>\n",
              "      <td>75377.0</td>\n",
              "      <td>Hamovniki</td>\n",
              "      <td>2750000.0</td>\n",
              "      <td>55485.2</td>\n",
              "      <td>14983.92</td>\n",
              "      <td>47.35</td>\n",
              "      <td>40.77</td>\n",
              "      <td>32.0755</td>\n",
              "      <td>76.37</td>\n",
              "    </tr>\n",
              "    <tr>\n",
              "      <th>1</th>\n",
              "      <td>8138</td>\n",
              "      <td>2013-05-25</td>\n",
              "      <td>53.0</td>\n",
              "      <td>30.0</td>\n",
              "      <td>10.0</td>\n",
              "      <td>3.0000</td>\n",
              "      <td>16.0</td>\n",
              "      <td>1.0</td>\n",
              "      <td>1980-01-01</td>\n",
              "      <td>2.0</td>\n",
              "      <td>8.0</td>\n",
              "      <td>68630.0</td>\n",
              "      <td>Lianozovo</td>\n",
              "      <td>9000000.0</td>\n",
              "      <td>55485.2</td>\n",
              "      <td>14983.92</td>\n",
              "      <td>47.35</td>\n",
              "      <td>40.77</td>\n",
              "      <td>32.0755</td>\n",
              "      <td>76.37</td>\n",
              "    </tr>\n",
              "    <tr>\n",
              "      <th>2</th>\n",
              "      <td>8156</td>\n",
              "      <td>2013-05-27</td>\n",
              "      <td>77.0</td>\n",
              "      <td>41.0</td>\n",
              "      <td>2.0</td>\n",
              "      <td>1.0000</td>\n",
              "      <td>17.0</td>\n",
              "      <td>6.0</td>\n",
              "      <td>2014-01-01</td>\n",
              "      <td>3.0</td>\n",
              "      <td>12.0</td>\n",
              "      <td>9553.0</td>\n",
              "      <td>Poselenie Voskresenskoe</td>\n",
              "      <td>7011550.0</td>\n",
              "      <td>55485.2</td>\n",
              "      <td>14983.92</td>\n",
              "      <td>47.35</td>\n",
              "      <td>40.77</td>\n",
              "      <td>32.0755</td>\n",
              "      <td>76.37</td>\n",
              "    </tr>\n",
              "    <tr>\n",
              "      <th>3</th>\n",
              "      <td>8157</td>\n",
              "      <td>2013-05-27</td>\n",
              "      <td>45.0</td>\n",
              "      <td>27.0</td>\n",
              "      <td>6.0</td>\n",
              "      <td>3.0000</td>\n",
              "      <td>9.0</td>\n",
              "      <td>1.0</td>\n",
              "      <td>1970-01-01</td>\n",
              "      <td>2.0</td>\n",
              "      <td>6.0</td>\n",
              "      <td>78616.0</td>\n",
              "      <td>Severnoe Butovo</td>\n",
              "      <td>7100000.0</td>\n",
              "      <td>55485.2</td>\n",
              "      <td>14983.92</td>\n",
              "      <td>47.35</td>\n",
              "      <td>40.77</td>\n",
              "      <td>32.0755</td>\n",
              "      <td>76.37</td>\n",
              "    </tr>\n",
              "    <tr>\n",
              "      <th>4</th>\n",
              "      <td>8178</td>\n",
              "      <td>2013-05-28</td>\n",
              "      <td>38.0</td>\n",
              "      <td>20.0</td>\n",
              "      <td>15.0</td>\n",
              "      <td>2.1993</td>\n",
              "      <td>16.0</td>\n",
              "      <td>1.0</td>\n",
              "      <td>1982-01-01</td>\n",
              "      <td>1.0</td>\n",
              "      <td>8.0</td>\n",
              "      <td>112804.0</td>\n",
              "      <td>Filevskij Park</td>\n",
              "      <td>6450000.0</td>\n",
              "      <td>55485.2</td>\n",
              "      <td>14983.92</td>\n",
              "      <td>47.35</td>\n",
              "      <td>40.77</td>\n",
              "      <td>32.0755</td>\n",
              "      <td>76.37</td>\n",
              "    </tr>\n",
              "  </tbody>\n",
              "</table>\n",
              "</div>\n",
              "      <button class=\"colab-df-convert\" onclick=\"convertToInteractive('df-a8286623-57f6-422a-b2f5-34f646c8bb73')\"\n",
              "              title=\"Convert this dataframe to an interactive table.\"\n",
              "              style=\"display:none;\">\n",
              "        \n",
              "  <svg xmlns=\"http://www.w3.org/2000/svg\" height=\"24px\"viewBox=\"0 0 24 24\"\n",
              "       width=\"24px\">\n",
              "    <path d=\"M0 0h24v24H0V0z\" fill=\"none\"/>\n",
              "    <path d=\"M18.56 5.44l.94 2.06.94-2.06 2.06-.94-2.06-.94-.94-2.06-.94 2.06-2.06.94zm-11 1L8.5 8.5l.94-2.06 2.06-.94-2.06-.94L8.5 2.5l-.94 2.06-2.06.94zm10 10l.94 2.06.94-2.06 2.06-.94-2.06-.94-.94-2.06-.94 2.06-2.06.94z\"/><path d=\"M17.41 7.96l-1.37-1.37c-.4-.4-.92-.59-1.43-.59-.52 0-1.04.2-1.43.59L10.3 9.45l-7.72 7.72c-.78.78-.78 2.05 0 2.83L4 21.41c.39.39.9.59 1.41.59.51 0 1.02-.2 1.41-.59l7.78-7.78 2.81-2.81c.8-.78.8-2.07 0-2.86zM5.41 20L4 18.59l7.72-7.72 1.47 1.35L5.41 20z\"/>\n",
              "  </svg>\n",
              "      </button>\n",
              "      \n",
              "  <style>\n",
              "    .colab-df-container {\n",
              "      display:flex;\n",
              "      flex-wrap:wrap;\n",
              "      gap: 12px;\n",
              "    }\n",
              "\n",
              "    .colab-df-convert {\n",
              "      background-color: #E8F0FE;\n",
              "      border: none;\n",
              "      border-radius: 50%;\n",
              "      cursor: pointer;\n",
              "      display: none;\n",
              "      fill: #1967D2;\n",
              "      height: 32px;\n",
              "      padding: 0 0 0 0;\n",
              "      width: 32px;\n",
              "    }\n",
              "\n",
              "    .colab-df-convert:hover {\n",
              "      background-color: #E2EBFA;\n",
              "      box-shadow: 0px 1px 2px rgba(60, 64, 67, 0.3), 0px 1px 3px 1px rgba(60, 64, 67, 0.15);\n",
              "      fill: #174EA6;\n",
              "    }\n",
              "\n",
              "    [theme=dark] .colab-df-convert {\n",
              "      background-color: #3B4455;\n",
              "      fill: #D2E3FC;\n",
              "    }\n",
              "\n",
              "    [theme=dark] .colab-df-convert:hover {\n",
              "      background-color: #434B5C;\n",
              "      box-shadow: 0px 1px 3px 1px rgba(0, 0, 0, 0.15);\n",
              "      filter: drop-shadow(0px 1px 2px rgba(0, 0, 0, 0.3));\n",
              "      fill: #FFFFFF;\n",
              "    }\n",
              "  </style>\n",
              "\n",
              "      <script>\n",
              "        const buttonEl =\n",
              "          document.querySelector('#df-a8286623-57f6-422a-b2f5-34f646c8bb73 button.colab-df-convert');\n",
              "        buttonEl.style.display =\n",
              "          google.colab.kernel.accessAllowed ? 'block' : 'none';\n",
              "\n",
              "        async function convertToInteractive(key) {\n",
              "          const element = document.querySelector('#df-a8286623-57f6-422a-b2f5-34f646c8bb73');\n",
              "          const dataTable =\n",
              "            await google.colab.kernel.invokeFunction('convertToInteractive',\n",
              "                                                     [key], {});\n",
              "          if (!dataTable) return;\n",
              "\n",
              "          const docLinkHtml = 'Like what you see? Visit the ' +\n",
              "            '<a target=\"_blank\" href=https://colab.research.google.com/notebooks/data_table.ipynb>data table notebook</a>'\n",
              "            + ' to learn more about interactive tables.';\n",
              "          element.innerHTML = '';\n",
              "          dataTable['output_type'] = 'display_data';\n",
              "          await google.colab.output.renderOutput(dataTable, element);\n",
              "          const docLink = document.createElement('div');\n",
              "          docLink.innerHTML = docLinkHtml;\n",
              "          element.appendChild(docLink);\n",
              "        }\n",
              "      </script>\n",
              "    </div>\n",
              "  </div>\n",
              "  "
            ]
          },
          "metadata": {},
          "execution_count": 49
        }
      ]
    },
    {
      "cell_type": "code",
      "source": [
        "df_full.shape"
      ],
      "metadata": {
        "colab": {
          "base_uri": "https://localhost:8080/"
        },
        "id": "x7q1azfZp71O",
        "outputId": "e4f83103-7658-4df9-c7d6-633b7862bc1b"
      },
      "execution_count": 50,
      "outputs": [
        {
          "output_type": "execute_result",
          "data": {
            "text/plain": [
              "(18866, 20)"
            ]
          },
          "metadata": {},
          "execution_count": 50
        }
      ]
    },
    {
      "cell_type": "code",
      "source": [
        "df_full.describe()"
      ],
      "metadata": {
        "colab": {
          "base_uri": "https://localhost:8080/",
          "height": 364
        },
        "id": "-HxlAuEOp2EU",
        "outputId": "1abec414-4aee-4cda-d8a1-3b9c67b526f8"
      },
      "execution_count": 51,
      "outputs": [
        {
          "output_type": "execute_result",
          "data": {
            "text/plain": [
              "               id     full_sq     life_sq       floor       state   max_floor  \\\n",
              "count  18866.0000  18866.0000  18866.0000  18866.0000  18866.0000  18866.0000   \n",
              "mean   18799.7886     53.5985     33.7460      7.2863      2.1993     12.4208   \n",
              "std     7082.4287     21.0011     17.8515      5.1497      0.7399      6.0300   \n",
              "min        9.0000      1.0000      0.0000      0.0000      1.0000      0.0000   \n",
              "25%    13513.2500     38.0000     20.0000      3.0000      2.0000      9.0000   \n",
              "50%    19043.5000     49.0000     31.0000      6.0000      2.1993     12.4208   \n",
              "75%    24748.7500     63.0000     42.0000     10.0000      3.0000     17.0000   \n",
              "max    30473.0000    303.0000    407.0000     37.0000      4.0000     48.0000   \n",
              "\n",
              "         material    num_room    kitch_sq    full_all   price_doc      salary  \\\n",
              "count  18866.0000  18866.0000  18866.0000  1.8866e+04  1.8866e+04  18866.0000   \n",
              "mean       1.8901      1.9321      6.8285  1.5972e+05  7.5673e+06  59882.2021   \n",
              "std        1.4482      0.8100      4.6199  3.0435e+05  4.8533e+06   3718.2141   \n",
              "min        1.0000      0.0000      0.0000  2.6930e+03  5.0000e+05  44898.7000   \n",
              "25%        1.0000      1.0000      5.0000  4.8439e+04  5.1000e+06  55485.2000   \n",
              "50%        1.0000      2.0000      6.8285  8.7713e+04  6.6900e+06  61208.0000   \n",
              "75%        2.0000      2.0000      9.0000  1.2535e+05  8.9000e+06  61208.0000   \n",
              "max        6.0000      9.0000    123.0000  1.7167e+06  7.1200e+07  64310.0000   \n",
              "\n",
              "       fixed_basket  rent_price_3room_eco  rent_price_2room_eco  \\\n",
              "count    18866.0000            18866.0000            18866.0000   \n",
              "mean     16215.5343               49.8407               41.7767   \n",
              "std       1161.5241                1.8440                1.2149   \n",
              "min      12922.9700               43.4200               37.7300   \n",
              "25%      15417.3400               48.7000               41.1700   \n",
              "50%      16165.3000               49.7500               41.9100   \n",
              "75%      16648.7000               50.9300               42.6400   \n",
              "max      18745.2800               53.2100               43.8500   \n",
              "\n",
              "       rent_price_1room_eco  average_life_exp  \n",
              "count            18866.0000        18866.0000  \n",
              "mean                33.5046           76.5993  \n",
              "std                  1.1631            0.2299  \n",
              "min                 30.2900           75.7400  \n",
              "25%                 32.9600           76.3700  \n",
              "50%                 33.6500           76.7000  \n",
              "75%                 34.3500           76.7000  \n",
              "max                 35.3700           76.7700  "
            ],
            "text/html": [
              "\n",
              "  <div id=\"df-ea95f74b-4b20-4564-873b-63f821ae75f6\">\n",
              "    <div class=\"colab-df-container\">\n",
              "      <div>\n",
              "<style scoped>\n",
              "    .dataframe tbody tr th:only-of-type {\n",
              "        vertical-align: middle;\n",
              "    }\n",
              "\n",
              "    .dataframe tbody tr th {\n",
              "        vertical-align: top;\n",
              "    }\n",
              "\n",
              "    .dataframe thead th {\n",
              "        text-align: right;\n",
              "    }\n",
              "</style>\n",
              "<table border=\"1\" class=\"dataframe\">\n",
              "  <thead>\n",
              "    <tr style=\"text-align: right;\">\n",
              "      <th></th>\n",
              "      <th>id</th>\n",
              "      <th>full_sq</th>\n",
              "      <th>life_sq</th>\n",
              "      <th>floor</th>\n",
              "      <th>state</th>\n",
              "      <th>max_floor</th>\n",
              "      <th>material</th>\n",
              "      <th>num_room</th>\n",
              "      <th>kitch_sq</th>\n",
              "      <th>full_all</th>\n",
              "      <th>price_doc</th>\n",
              "      <th>salary</th>\n",
              "      <th>fixed_basket</th>\n",
              "      <th>rent_price_3room_eco</th>\n",
              "      <th>rent_price_2room_eco</th>\n",
              "      <th>rent_price_1room_eco</th>\n",
              "      <th>average_life_exp</th>\n",
              "    </tr>\n",
              "  </thead>\n",
              "  <tbody>\n",
              "    <tr>\n",
              "      <th>count</th>\n",
              "      <td>18866.0000</td>\n",
              "      <td>18866.0000</td>\n",
              "      <td>18866.0000</td>\n",
              "      <td>18866.0000</td>\n",
              "      <td>18866.0000</td>\n",
              "      <td>18866.0000</td>\n",
              "      <td>18866.0000</td>\n",
              "      <td>18866.0000</td>\n",
              "      <td>18866.0000</td>\n",
              "      <td>1.8866e+04</td>\n",
              "      <td>1.8866e+04</td>\n",
              "      <td>18866.0000</td>\n",
              "      <td>18866.0000</td>\n",
              "      <td>18866.0000</td>\n",
              "      <td>18866.0000</td>\n",
              "      <td>18866.0000</td>\n",
              "      <td>18866.0000</td>\n",
              "    </tr>\n",
              "    <tr>\n",
              "      <th>mean</th>\n",
              "      <td>18799.7886</td>\n",
              "      <td>53.5985</td>\n",
              "      <td>33.7460</td>\n",
              "      <td>7.2863</td>\n",
              "      <td>2.1993</td>\n",
              "      <td>12.4208</td>\n",
              "      <td>1.8901</td>\n",
              "      <td>1.9321</td>\n",
              "      <td>6.8285</td>\n",
              "      <td>1.5972e+05</td>\n",
              "      <td>7.5673e+06</td>\n",
              "      <td>59882.2021</td>\n",
              "      <td>16215.5343</td>\n",
              "      <td>49.8407</td>\n",
              "      <td>41.7767</td>\n",
              "      <td>33.5046</td>\n",
              "      <td>76.5993</td>\n",
              "    </tr>\n",
              "    <tr>\n",
              "      <th>std</th>\n",
              "      <td>7082.4287</td>\n",
              "      <td>21.0011</td>\n",
              "      <td>17.8515</td>\n",
              "      <td>5.1497</td>\n",
              "      <td>0.7399</td>\n",
              "      <td>6.0300</td>\n",
              "      <td>1.4482</td>\n",
              "      <td>0.8100</td>\n",
              "      <td>4.6199</td>\n",
              "      <td>3.0435e+05</td>\n",
              "      <td>4.8533e+06</td>\n",
              "      <td>3718.2141</td>\n",
              "      <td>1161.5241</td>\n",
              "      <td>1.8440</td>\n",
              "      <td>1.2149</td>\n",
              "      <td>1.1631</td>\n",
              "      <td>0.2299</td>\n",
              "    </tr>\n",
              "    <tr>\n",
              "      <th>min</th>\n",
              "      <td>9.0000</td>\n",
              "      <td>1.0000</td>\n",
              "      <td>0.0000</td>\n",
              "      <td>0.0000</td>\n",
              "      <td>1.0000</td>\n",
              "      <td>0.0000</td>\n",
              "      <td>1.0000</td>\n",
              "      <td>0.0000</td>\n",
              "      <td>0.0000</td>\n",
              "      <td>2.6930e+03</td>\n",
              "      <td>5.0000e+05</td>\n",
              "      <td>44898.7000</td>\n",
              "      <td>12922.9700</td>\n",
              "      <td>43.4200</td>\n",
              "      <td>37.7300</td>\n",
              "      <td>30.2900</td>\n",
              "      <td>75.7400</td>\n",
              "    </tr>\n",
              "    <tr>\n",
              "      <th>25%</th>\n",
              "      <td>13513.2500</td>\n",
              "      <td>38.0000</td>\n",
              "      <td>20.0000</td>\n",
              "      <td>3.0000</td>\n",
              "      <td>2.0000</td>\n",
              "      <td>9.0000</td>\n",
              "      <td>1.0000</td>\n",
              "      <td>1.0000</td>\n",
              "      <td>5.0000</td>\n",
              "      <td>4.8439e+04</td>\n",
              "      <td>5.1000e+06</td>\n",
              "      <td>55485.2000</td>\n",
              "      <td>15417.3400</td>\n",
              "      <td>48.7000</td>\n",
              "      <td>41.1700</td>\n",
              "      <td>32.9600</td>\n",
              "      <td>76.3700</td>\n",
              "    </tr>\n",
              "    <tr>\n",
              "      <th>50%</th>\n",
              "      <td>19043.5000</td>\n",
              "      <td>49.0000</td>\n",
              "      <td>31.0000</td>\n",
              "      <td>6.0000</td>\n",
              "      <td>2.1993</td>\n",
              "      <td>12.4208</td>\n",
              "      <td>1.0000</td>\n",
              "      <td>2.0000</td>\n",
              "      <td>6.8285</td>\n",
              "      <td>8.7713e+04</td>\n",
              "      <td>6.6900e+06</td>\n",
              "      <td>61208.0000</td>\n",
              "      <td>16165.3000</td>\n",
              "      <td>49.7500</td>\n",
              "      <td>41.9100</td>\n",
              "      <td>33.6500</td>\n",
              "      <td>76.7000</td>\n",
              "    </tr>\n",
              "    <tr>\n",
              "      <th>75%</th>\n",
              "      <td>24748.7500</td>\n",
              "      <td>63.0000</td>\n",
              "      <td>42.0000</td>\n",
              "      <td>10.0000</td>\n",
              "      <td>3.0000</td>\n",
              "      <td>17.0000</td>\n",
              "      <td>2.0000</td>\n",
              "      <td>2.0000</td>\n",
              "      <td>9.0000</td>\n",
              "      <td>1.2535e+05</td>\n",
              "      <td>8.9000e+06</td>\n",
              "      <td>61208.0000</td>\n",
              "      <td>16648.7000</td>\n",
              "      <td>50.9300</td>\n",
              "      <td>42.6400</td>\n",
              "      <td>34.3500</td>\n",
              "      <td>76.7000</td>\n",
              "    </tr>\n",
              "    <tr>\n",
              "      <th>max</th>\n",
              "      <td>30473.0000</td>\n",
              "      <td>303.0000</td>\n",
              "      <td>407.0000</td>\n",
              "      <td>37.0000</td>\n",
              "      <td>4.0000</td>\n",
              "      <td>48.0000</td>\n",
              "      <td>6.0000</td>\n",
              "      <td>9.0000</td>\n",
              "      <td>123.0000</td>\n",
              "      <td>1.7167e+06</td>\n",
              "      <td>7.1200e+07</td>\n",
              "      <td>64310.0000</td>\n",
              "      <td>18745.2800</td>\n",
              "      <td>53.2100</td>\n",
              "      <td>43.8500</td>\n",
              "      <td>35.3700</td>\n",
              "      <td>76.7700</td>\n",
              "    </tr>\n",
              "  </tbody>\n",
              "</table>\n",
              "</div>\n",
              "      <button class=\"colab-df-convert\" onclick=\"convertToInteractive('df-ea95f74b-4b20-4564-873b-63f821ae75f6')\"\n",
              "              title=\"Convert this dataframe to an interactive table.\"\n",
              "              style=\"display:none;\">\n",
              "        \n",
              "  <svg xmlns=\"http://www.w3.org/2000/svg\" height=\"24px\"viewBox=\"0 0 24 24\"\n",
              "       width=\"24px\">\n",
              "    <path d=\"M0 0h24v24H0V0z\" fill=\"none\"/>\n",
              "    <path d=\"M18.56 5.44l.94 2.06.94-2.06 2.06-.94-2.06-.94-.94-2.06-.94 2.06-2.06.94zm-11 1L8.5 8.5l.94-2.06 2.06-.94-2.06-.94L8.5 2.5l-.94 2.06-2.06.94zm10 10l.94 2.06.94-2.06 2.06-.94-2.06-.94-.94-2.06-.94 2.06-2.06.94z\"/><path d=\"M17.41 7.96l-1.37-1.37c-.4-.4-.92-.59-1.43-.59-.52 0-1.04.2-1.43.59L10.3 9.45l-7.72 7.72c-.78.78-.78 2.05 0 2.83L4 21.41c.39.39.9.59 1.41.59.51 0 1.02-.2 1.41-.59l7.78-7.78 2.81-2.81c.8-.78.8-2.07 0-2.86zM5.41 20L4 18.59l7.72-7.72 1.47 1.35L5.41 20z\"/>\n",
              "  </svg>\n",
              "      </button>\n",
              "      \n",
              "  <style>\n",
              "    .colab-df-container {\n",
              "      display:flex;\n",
              "      flex-wrap:wrap;\n",
              "      gap: 12px;\n",
              "    }\n",
              "\n",
              "    .colab-df-convert {\n",
              "      background-color: #E8F0FE;\n",
              "      border: none;\n",
              "      border-radius: 50%;\n",
              "      cursor: pointer;\n",
              "      display: none;\n",
              "      fill: #1967D2;\n",
              "      height: 32px;\n",
              "      padding: 0 0 0 0;\n",
              "      width: 32px;\n",
              "    }\n",
              "\n",
              "    .colab-df-convert:hover {\n",
              "      background-color: #E2EBFA;\n",
              "      box-shadow: 0px 1px 2px rgba(60, 64, 67, 0.3), 0px 1px 3px 1px rgba(60, 64, 67, 0.15);\n",
              "      fill: #174EA6;\n",
              "    }\n",
              "\n",
              "    [theme=dark] .colab-df-convert {\n",
              "      background-color: #3B4455;\n",
              "      fill: #D2E3FC;\n",
              "    }\n",
              "\n",
              "    [theme=dark] .colab-df-convert:hover {\n",
              "      background-color: #434B5C;\n",
              "      box-shadow: 0px 1px 3px 1px rgba(0, 0, 0, 0.15);\n",
              "      filter: drop-shadow(0px 1px 2px rgba(0, 0, 0, 0.3));\n",
              "      fill: #FFFFFF;\n",
              "    }\n",
              "  </style>\n",
              "\n",
              "      <script>\n",
              "        const buttonEl =\n",
              "          document.querySelector('#df-ea95f74b-4b20-4564-873b-63f821ae75f6 button.colab-df-convert');\n",
              "        buttonEl.style.display =\n",
              "          google.colab.kernel.accessAllowed ? 'block' : 'none';\n",
              "\n",
              "        async function convertToInteractive(key) {\n",
              "          const element = document.querySelector('#df-ea95f74b-4b20-4564-873b-63f821ae75f6');\n",
              "          const dataTable =\n",
              "            await google.colab.kernel.invokeFunction('convertToInteractive',\n",
              "                                                     [key], {});\n",
              "          if (!dataTable) return;\n",
              "\n",
              "          const docLinkHtml = 'Like what you see? Visit the ' +\n",
              "            '<a target=\"_blank\" href=https://colab.research.google.com/notebooks/data_table.ipynb>data table notebook</a>'\n",
              "            + ' to learn more about interactive tables.';\n",
              "          element.innerHTML = '';\n",
              "          dataTable['output_type'] = 'display_data';\n",
              "          await google.colab.output.renderOutput(dataTable, element);\n",
              "          const docLink = document.createElement('div');\n",
              "          docLink.innerHTML = docLinkHtml;\n",
              "          element.appendChild(docLink);\n",
              "        }\n",
              "      </script>\n",
              "    </div>\n",
              "  </div>\n",
              "  "
            ]
          },
          "metadata": {},
          "execution_count": 51
        }
      ]
    },
    {
      "cell_type": "markdown",
      "source": [
        "## 1.5 Проверьте данные на наличие выбросов. По каждому столбцу. Напишите своё мнение: нужно ли в каждой из ситуаций обрабатывать выбросы, или можно оставить. Если нужно обработать, то примените один из изученных подходов, либо предложите свой"
      ],
      "metadata": {
        "id": "BfJc-PiVinUp"
      }
    },
    {
      "cell_type": "markdown",
      "source": [
        "### 1.5.1 Главный набор данных"
      ],
      "metadata": {
        "id": "_LkLQxltjEbx"
      }
    },
    {
      "cell_type": "markdown",
      "source": [
        "- С выбросами было уже немного работы до этого, но можно на всякий случай посчитать процентное количество информации которая может считаться выбросом"
      ],
      "metadata": {
        "id": "1mr564bIw2Td"
      }
    },
    {
      "cell_type": "code",
      "source": [
        "def iqr_percent_detection(dataframe):\n",
        "    num_column_names = dataframe.select_dtypes('number').columns.values\n",
        "    for col_name in num_column_names:\n",
        "        # skipping id column\n",
        "        if col_name in ['id']:\n",
        "            continue\n",
        "        q1 = dataframe[col_name].quantile(0.25)\n",
        "        q3 = dataframe[col_name].quantile(0.75)\n",
        "        iqr = q3 - q1\n",
        "        outliers = np.where((dataframe[col_name] < (q1 - 1.5 * iqr)) | (dataframe[col_name] > (q3 + 1.5 * iqr)))\n",
        "        print(f\"{col_name} column outliers percent ratio: {len(outliers[0]) / dataframe[col_name].shape[0] * 100}\")"
      ],
      "metadata": {
        "id": "mA32pzU-xvrb"
      },
      "execution_count": 52,
      "outputs": []
    },
    {
      "cell_type": "code",
      "source": [
        "iqr_percent_detection(df)"
      ],
      "metadata": {
        "id": "zj9a1fd0insh",
        "colab": {
          "base_uri": "https://localhost:8080/"
        },
        "outputId": "b56f3327-42e2-4475-9eaa-68d6b8dafe22"
      },
      "execution_count": 53,
      "outputs": [
        {
          "output_type": "stream",
          "name": "stdout",
          "text": [
            "full_sq column outliers percent ratio: 2.963002226227075\n",
            "life_sq column outliers percent ratio: 3.0743135799851586\n",
            "floor column outliers percent ratio: 2.0990140994381425\n",
            "state column outliers percent ratio: 0.0\n",
            "max_floor column outliers percent ratio: 0.6148627159970317\n",
            "material column outliers percent ratio: 17.338068482985264\n",
            "num_room column outliers percent ratio: 2.332237888264603\n",
            "kitch_sq column outliers percent ratio: 1.3728400296830277\n",
            "full_all column outliers percent ratio: 8.645181808544471\n",
            "price_doc column outliers percent ratio: 5.941906074419591\n"
          ]
        }
      ]
    },
    {
      "cell_type": "markdown",
      "source": [
        "- Сильных выбросов не наблюдается"
      ],
      "metadata": {
        "id": "LWMJ7pGhcsu4"
      }
    },
    {
      "cell_type": "markdown",
      "source": [
        "### 1.5.2 Набор с макропоказателями"
      ],
      "metadata": {
        "id": "rm7JYv4jjE_I"
      }
    },
    {
      "cell_type": "code",
      "source": [
        "iqr_percent_detection(macro)"
      ],
      "metadata": {
        "id": "c1zA1r5mjFTg",
        "colab": {
          "base_uri": "https://localhost:8080/"
        },
        "outputId": "979b609f-6406-4a02-dbc6-e79bab01bd5c"
      },
      "execution_count": 54,
      "outputs": [
        {
          "output_type": "stream",
          "name": "stdout",
          "text": [
            "salary column outliers percent ratio: 0.0\n",
            "fixed_basket column outliers percent ratio: 0.0\n",
            "rent_price_3room_eco column outliers percent ratio: 1.247987117552335\n",
            "rent_price_2room_eco column outliers percent ratio: 0.0\n",
            "rent_price_1room_eco column outliers percent ratio: 0.0\n",
            "average_life_exp column outliers percent ratio: 14.69404186795491\n"
          ]
        }
      ]
    },
    {
      "cell_type": "markdown",
      "source": [
        "- Также как и до этого, данный датасет был более чистым по сравнению с первым df, так что проблем не наблюдается\n",
        "- Только в колонне average_life_exp есть что-то похожее на выброс, но как видно из предыдущей визуализации, данное значение в принципе адекватное"
      ],
      "metadata": {
        "id": "7tu4YqzBc1kH"
      }
    },
    {
      "cell_type": "markdown",
      "source": [
        "## 1.6 Создайте не менее 5 новых признаков на основе существующих данных. Опишите текстом обоснование создания каждой. Признаки должны привносить некую новую информацию для понимания цены квартиры"
      ],
      "metadata": {
        "id": "ZfLAbkV5jpxZ"
      }
    },
    {
      "cell_type": "code",
      "source": [
        "df_full_backup = df_full.copy()"
      ],
      "metadata": {
        "id": "-iqgDoSx6qmZ"
      },
      "execution_count": 55,
      "outputs": []
    },
    {
      "cell_type": "code",
      "source": [
        "# df_full = df_full_backup.copy()"
      ],
      "metadata": {
        "id": "EdZJvNlEDx8M"
      },
      "execution_count": 56,
      "outputs": []
    },
    {
      "cell_type": "code",
      "source": [
        "df_full.info()"
      ],
      "metadata": {
        "id": "o3Rv6-XcjqJI",
        "colab": {
          "base_uri": "https://localhost:8080/"
        },
        "outputId": "0d576e62-3432-4c40-e201-4a457d2c35ad"
      },
      "execution_count": 57,
      "outputs": [
        {
          "output_type": "stream",
          "name": "stdout",
          "text": [
            "<class 'pandas.core.frame.DataFrame'>\n",
            "Int64Index: 18866 entries, 0 to 18865\n",
            "Data columns (total 20 columns):\n",
            " #   Column                Non-Null Count  Dtype         \n",
            "---  ------                --------------  -----         \n",
            " 0   id                    18866 non-null  int64         \n",
            " 1   timestamp             18866 non-null  datetime64[ns]\n",
            " 2   full_sq               18866 non-null  float64       \n",
            " 3   life_sq               18866 non-null  float64       \n",
            " 4   floor                 18866 non-null  float64       \n",
            " 5   state                 18866 non-null  float64       \n",
            " 6   max_floor             18866 non-null  float64       \n",
            " 7   material              18866 non-null  float64       \n",
            " 8   build_year            15961 non-null  datetime64[ns]\n",
            " 9   num_room              18866 non-null  float64       \n",
            " 10  kitch_sq              18866 non-null  float64       \n",
            " 11  full_all              18866 non-null  float64       \n",
            " 12  sub_area              18866 non-null  object        \n",
            " 13  price_doc             18866 non-null  float64       \n",
            " 14  salary                18866 non-null  float64       \n",
            " 15  fixed_basket          18866 non-null  float64       \n",
            " 16  rent_price_3room_eco  18866 non-null  float64       \n",
            " 17  rent_price_2room_eco  18866 non-null  float64       \n",
            " 18  rent_price_1room_eco  18866 non-null  float64       \n",
            " 19  average_life_exp      18866 non-null  float64       \n",
            "dtypes: datetime64[ns](2), float64(16), int64(1), object(1)\n",
            "memory usage: 3.0+ MB\n"
          ]
        }
      ]
    },
    {
      "cell_type": "code",
      "source": [
        "df_full.describe()"
      ],
      "metadata": {
        "colab": {
          "base_uri": "https://localhost:8080/",
          "height": 364
        },
        "id": "NN_5a12Ndd34",
        "outputId": "63d1379c-b688-4536-faf7-278324c58079"
      },
      "execution_count": 58,
      "outputs": [
        {
          "output_type": "execute_result",
          "data": {
            "text/plain": [
              "               id     full_sq     life_sq       floor       state   max_floor  \\\n",
              "count  18866.0000  18866.0000  18866.0000  18866.0000  18866.0000  18866.0000   \n",
              "mean   18799.7886     53.5985     33.7460      7.2863      2.1993     12.4208   \n",
              "std     7082.4287     21.0011     17.8515      5.1497      0.7399      6.0300   \n",
              "min        9.0000      1.0000      0.0000      0.0000      1.0000      0.0000   \n",
              "25%    13513.2500     38.0000     20.0000      3.0000      2.0000      9.0000   \n",
              "50%    19043.5000     49.0000     31.0000      6.0000      2.1993     12.4208   \n",
              "75%    24748.7500     63.0000     42.0000     10.0000      3.0000     17.0000   \n",
              "max    30473.0000    303.0000    407.0000     37.0000      4.0000     48.0000   \n",
              "\n",
              "         material    num_room    kitch_sq    full_all   price_doc      salary  \\\n",
              "count  18866.0000  18866.0000  18866.0000  1.8866e+04  1.8866e+04  18866.0000   \n",
              "mean       1.8901      1.9321      6.8285  1.5972e+05  7.5673e+06  59882.2021   \n",
              "std        1.4482      0.8100      4.6199  3.0435e+05  4.8533e+06   3718.2141   \n",
              "min        1.0000      0.0000      0.0000  2.6930e+03  5.0000e+05  44898.7000   \n",
              "25%        1.0000      1.0000      5.0000  4.8439e+04  5.1000e+06  55485.2000   \n",
              "50%        1.0000      2.0000      6.8285  8.7713e+04  6.6900e+06  61208.0000   \n",
              "75%        2.0000      2.0000      9.0000  1.2535e+05  8.9000e+06  61208.0000   \n",
              "max        6.0000      9.0000    123.0000  1.7167e+06  7.1200e+07  64310.0000   \n",
              "\n",
              "       fixed_basket  rent_price_3room_eco  rent_price_2room_eco  \\\n",
              "count    18866.0000            18866.0000            18866.0000   \n",
              "mean     16215.5343               49.8407               41.7767   \n",
              "std       1161.5241                1.8440                1.2149   \n",
              "min      12922.9700               43.4200               37.7300   \n",
              "25%      15417.3400               48.7000               41.1700   \n",
              "50%      16165.3000               49.7500               41.9100   \n",
              "75%      16648.7000               50.9300               42.6400   \n",
              "max      18745.2800               53.2100               43.8500   \n",
              "\n",
              "       rent_price_1room_eco  average_life_exp  \n",
              "count            18866.0000        18866.0000  \n",
              "mean                33.5046           76.5993  \n",
              "std                  1.1631            0.2299  \n",
              "min                 30.2900           75.7400  \n",
              "25%                 32.9600           76.3700  \n",
              "50%                 33.6500           76.7000  \n",
              "75%                 34.3500           76.7000  \n",
              "max                 35.3700           76.7700  "
            ],
            "text/html": [
              "\n",
              "  <div id=\"df-60455218-6f3b-4d6c-851d-e523bc1e7d3a\">\n",
              "    <div class=\"colab-df-container\">\n",
              "      <div>\n",
              "<style scoped>\n",
              "    .dataframe tbody tr th:only-of-type {\n",
              "        vertical-align: middle;\n",
              "    }\n",
              "\n",
              "    .dataframe tbody tr th {\n",
              "        vertical-align: top;\n",
              "    }\n",
              "\n",
              "    .dataframe thead th {\n",
              "        text-align: right;\n",
              "    }\n",
              "</style>\n",
              "<table border=\"1\" class=\"dataframe\">\n",
              "  <thead>\n",
              "    <tr style=\"text-align: right;\">\n",
              "      <th></th>\n",
              "      <th>id</th>\n",
              "      <th>full_sq</th>\n",
              "      <th>life_sq</th>\n",
              "      <th>floor</th>\n",
              "      <th>state</th>\n",
              "      <th>max_floor</th>\n",
              "      <th>material</th>\n",
              "      <th>num_room</th>\n",
              "      <th>kitch_sq</th>\n",
              "      <th>full_all</th>\n",
              "      <th>price_doc</th>\n",
              "      <th>salary</th>\n",
              "      <th>fixed_basket</th>\n",
              "      <th>rent_price_3room_eco</th>\n",
              "      <th>rent_price_2room_eco</th>\n",
              "      <th>rent_price_1room_eco</th>\n",
              "      <th>average_life_exp</th>\n",
              "    </tr>\n",
              "  </thead>\n",
              "  <tbody>\n",
              "    <tr>\n",
              "      <th>count</th>\n",
              "      <td>18866.0000</td>\n",
              "      <td>18866.0000</td>\n",
              "      <td>18866.0000</td>\n",
              "      <td>18866.0000</td>\n",
              "      <td>18866.0000</td>\n",
              "      <td>18866.0000</td>\n",
              "      <td>18866.0000</td>\n",
              "      <td>18866.0000</td>\n",
              "      <td>18866.0000</td>\n",
              "      <td>1.8866e+04</td>\n",
              "      <td>1.8866e+04</td>\n",
              "      <td>18866.0000</td>\n",
              "      <td>18866.0000</td>\n",
              "      <td>18866.0000</td>\n",
              "      <td>18866.0000</td>\n",
              "      <td>18866.0000</td>\n",
              "      <td>18866.0000</td>\n",
              "    </tr>\n",
              "    <tr>\n",
              "      <th>mean</th>\n",
              "      <td>18799.7886</td>\n",
              "      <td>53.5985</td>\n",
              "      <td>33.7460</td>\n",
              "      <td>7.2863</td>\n",
              "      <td>2.1993</td>\n",
              "      <td>12.4208</td>\n",
              "      <td>1.8901</td>\n",
              "      <td>1.9321</td>\n",
              "      <td>6.8285</td>\n",
              "      <td>1.5972e+05</td>\n",
              "      <td>7.5673e+06</td>\n",
              "      <td>59882.2021</td>\n",
              "      <td>16215.5343</td>\n",
              "      <td>49.8407</td>\n",
              "      <td>41.7767</td>\n",
              "      <td>33.5046</td>\n",
              "      <td>76.5993</td>\n",
              "    </tr>\n",
              "    <tr>\n",
              "      <th>std</th>\n",
              "      <td>7082.4287</td>\n",
              "      <td>21.0011</td>\n",
              "      <td>17.8515</td>\n",
              "      <td>5.1497</td>\n",
              "      <td>0.7399</td>\n",
              "      <td>6.0300</td>\n",
              "      <td>1.4482</td>\n",
              "      <td>0.8100</td>\n",
              "      <td>4.6199</td>\n",
              "      <td>3.0435e+05</td>\n",
              "      <td>4.8533e+06</td>\n",
              "      <td>3718.2141</td>\n",
              "      <td>1161.5241</td>\n",
              "      <td>1.8440</td>\n",
              "      <td>1.2149</td>\n",
              "      <td>1.1631</td>\n",
              "      <td>0.2299</td>\n",
              "    </tr>\n",
              "    <tr>\n",
              "      <th>min</th>\n",
              "      <td>9.0000</td>\n",
              "      <td>1.0000</td>\n",
              "      <td>0.0000</td>\n",
              "      <td>0.0000</td>\n",
              "      <td>1.0000</td>\n",
              "      <td>0.0000</td>\n",
              "      <td>1.0000</td>\n",
              "      <td>0.0000</td>\n",
              "      <td>0.0000</td>\n",
              "      <td>2.6930e+03</td>\n",
              "      <td>5.0000e+05</td>\n",
              "      <td>44898.7000</td>\n",
              "      <td>12922.9700</td>\n",
              "      <td>43.4200</td>\n",
              "      <td>37.7300</td>\n",
              "      <td>30.2900</td>\n",
              "      <td>75.7400</td>\n",
              "    </tr>\n",
              "    <tr>\n",
              "      <th>25%</th>\n",
              "      <td>13513.2500</td>\n",
              "      <td>38.0000</td>\n",
              "      <td>20.0000</td>\n",
              "      <td>3.0000</td>\n",
              "      <td>2.0000</td>\n",
              "      <td>9.0000</td>\n",
              "      <td>1.0000</td>\n",
              "      <td>1.0000</td>\n",
              "      <td>5.0000</td>\n",
              "      <td>4.8439e+04</td>\n",
              "      <td>5.1000e+06</td>\n",
              "      <td>55485.2000</td>\n",
              "      <td>15417.3400</td>\n",
              "      <td>48.7000</td>\n",
              "      <td>41.1700</td>\n",
              "      <td>32.9600</td>\n",
              "      <td>76.3700</td>\n",
              "    </tr>\n",
              "    <tr>\n",
              "      <th>50%</th>\n",
              "      <td>19043.5000</td>\n",
              "      <td>49.0000</td>\n",
              "      <td>31.0000</td>\n",
              "      <td>6.0000</td>\n",
              "      <td>2.1993</td>\n",
              "      <td>12.4208</td>\n",
              "      <td>1.0000</td>\n",
              "      <td>2.0000</td>\n",
              "      <td>6.8285</td>\n",
              "      <td>8.7713e+04</td>\n",
              "      <td>6.6900e+06</td>\n",
              "      <td>61208.0000</td>\n",
              "      <td>16165.3000</td>\n",
              "      <td>49.7500</td>\n",
              "      <td>41.9100</td>\n",
              "      <td>33.6500</td>\n",
              "      <td>76.7000</td>\n",
              "    </tr>\n",
              "    <tr>\n",
              "      <th>75%</th>\n",
              "      <td>24748.7500</td>\n",
              "      <td>63.0000</td>\n",
              "      <td>42.0000</td>\n",
              "      <td>10.0000</td>\n",
              "      <td>3.0000</td>\n",
              "      <td>17.0000</td>\n",
              "      <td>2.0000</td>\n",
              "      <td>2.0000</td>\n",
              "      <td>9.0000</td>\n",
              "      <td>1.2535e+05</td>\n",
              "      <td>8.9000e+06</td>\n",
              "      <td>61208.0000</td>\n",
              "      <td>16648.7000</td>\n",
              "      <td>50.9300</td>\n",
              "      <td>42.6400</td>\n",
              "      <td>34.3500</td>\n",
              "      <td>76.7000</td>\n",
              "    </tr>\n",
              "    <tr>\n",
              "      <th>max</th>\n",
              "      <td>30473.0000</td>\n",
              "      <td>303.0000</td>\n",
              "      <td>407.0000</td>\n",
              "      <td>37.0000</td>\n",
              "      <td>4.0000</td>\n",
              "      <td>48.0000</td>\n",
              "      <td>6.0000</td>\n",
              "      <td>9.0000</td>\n",
              "      <td>123.0000</td>\n",
              "      <td>1.7167e+06</td>\n",
              "      <td>7.1200e+07</td>\n",
              "      <td>64310.0000</td>\n",
              "      <td>18745.2800</td>\n",
              "      <td>53.2100</td>\n",
              "      <td>43.8500</td>\n",
              "      <td>35.3700</td>\n",
              "      <td>76.7700</td>\n",
              "    </tr>\n",
              "  </tbody>\n",
              "</table>\n",
              "</div>\n",
              "      <button class=\"colab-df-convert\" onclick=\"convertToInteractive('df-60455218-6f3b-4d6c-851d-e523bc1e7d3a')\"\n",
              "              title=\"Convert this dataframe to an interactive table.\"\n",
              "              style=\"display:none;\">\n",
              "        \n",
              "  <svg xmlns=\"http://www.w3.org/2000/svg\" height=\"24px\"viewBox=\"0 0 24 24\"\n",
              "       width=\"24px\">\n",
              "    <path d=\"M0 0h24v24H0V0z\" fill=\"none\"/>\n",
              "    <path d=\"M18.56 5.44l.94 2.06.94-2.06 2.06-.94-2.06-.94-.94-2.06-.94 2.06-2.06.94zm-11 1L8.5 8.5l.94-2.06 2.06-.94-2.06-.94L8.5 2.5l-.94 2.06-2.06.94zm10 10l.94 2.06.94-2.06 2.06-.94-2.06-.94-.94-2.06-.94 2.06-2.06.94z\"/><path d=\"M17.41 7.96l-1.37-1.37c-.4-.4-.92-.59-1.43-.59-.52 0-1.04.2-1.43.59L10.3 9.45l-7.72 7.72c-.78.78-.78 2.05 0 2.83L4 21.41c.39.39.9.59 1.41.59.51 0 1.02-.2 1.41-.59l7.78-7.78 2.81-2.81c.8-.78.8-2.07 0-2.86zM5.41 20L4 18.59l7.72-7.72 1.47 1.35L5.41 20z\"/>\n",
              "  </svg>\n",
              "      </button>\n",
              "      \n",
              "  <style>\n",
              "    .colab-df-container {\n",
              "      display:flex;\n",
              "      flex-wrap:wrap;\n",
              "      gap: 12px;\n",
              "    }\n",
              "\n",
              "    .colab-df-convert {\n",
              "      background-color: #E8F0FE;\n",
              "      border: none;\n",
              "      border-radius: 50%;\n",
              "      cursor: pointer;\n",
              "      display: none;\n",
              "      fill: #1967D2;\n",
              "      height: 32px;\n",
              "      padding: 0 0 0 0;\n",
              "      width: 32px;\n",
              "    }\n",
              "\n",
              "    .colab-df-convert:hover {\n",
              "      background-color: #E2EBFA;\n",
              "      box-shadow: 0px 1px 2px rgba(60, 64, 67, 0.3), 0px 1px 3px 1px rgba(60, 64, 67, 0.15);\n",
              "      fill: #174EA6;\n",
              "    }\n",
              "\n",
              "    [theme=dark] .colab-df-convert {\n",
              "      background-color: #3B4455;\n",
              "      fill: #D2E3FC;\n",
              "    }\n",
              "\n",
              "    [theme=dark] .colab-df-convert:hover {\n",
              "      background-color: #434B5C;\n",
              "      box-shadow: 0px 1px 3px 1px rgba(0, 0, 0, 0.15);\n",
              "      filter: drop-shadow(0px 1px 2px rgba(0, 0, 0, 0.3));\n",
              "      fill: #FFFFFF;\n",
              "    }\n",
              "  </style>\n",
              "\n",
              "      <script>\n",
              "        const buttonEl =\n",
              "          document.querySelector('#df-60455218-6f3b-4d6c-851d-e523bc1e7d3a button.colab-df-convert');\n",
              "        buttonEl.style.display =\n",
              "          google.colab.kernel.accessAllowed ? 'block' : 'none';\n",
              "\n",
              "        async function convertToInteractive(key) {\n",
              "          const element = document.querySelector('#df-60455218-6f3b-4d6c-851d-e523bc1e7d3a');\n",
              "          const dataTable =\n",
              "            await google.colab.kernel.invokeFunction('convertToInteractive',\n",
              "                                                     [key], {});\n",
              "          if (!dataTable) return;\n",
              "\n",
              "          const docLinkHtml = 'Like what you see? Visit the ' +\n",
              "            '<a target=\"_blank\" href=https://colab.research.google.com/notebooks/data_table.ipynb>data table notebook</a>'\n",
              "            + ' to learn more about interactive tables.';\n",
              "          element.innerHTML = '';\n",
              "          dataTable['output_type'] = 'display_data';\n",
              "          await google.colab.output.renderOutput(dataTable, element);\n",
              "          const docLink = document.createElement('div');\n",
              "          docLink.innerHTML = docLinkHtml;\n",
              "          element.appendChild(docLink);\n",
              "        }\n",
              "      </script>\n",
              "    </div>\n",
              "  </div>\n",
              "  "
            ]
          },
          "metadata": {},
          "execution_count": 58
        }
      ]
    },
    {
      "cell_type": "code",
      "source": [
        "df_full.sample(5)"
      ],
      "metadata": {
        "id": "Ee3YeJSZmxHu",
        "colab": {
          "base_uri": "https://localhost:8080/",
          "height": 357
        },
        "outputId": "38be4c8b-f490-44f4-cfc0-a05a91f1c150"
      },
      "execution_count": 59,
      "outputs": [
        {
          "output_type": "execute_result",
          "data": {
            "text/plain": [
              "          id  timestamp  full_sq  life_sq  floor  state  max_floor  material  \\\n",
              "1334   11253 2013-10-15     48.0     30.0    3.0    2.0       14.0       2.0   \n",
              "13238  25883 2014-12-05     38.0     20.0    2.0    2.0       14.0       1.0   \n",
              "708    10426 2013-09-11     58.0     34.0   11.0    2.0       22.0       1.0   \n",
              "11786  24029 2014-10-28     60.0     44.0    7.0    3.0        9.0       1.0   \n",
              "11962  24262 2014-10-31     71.0     42.0   16.0    3.0       22.0       5.0   \n",
              "\n",
              "      build_year  num_room  kitch_sq  full_all     sub_area   price_doc  \\\n",
              "1334  1974-01-01       2.0       8.0  123280.0    Taganskoe  9.2000e+06   \n",
              "13238 1992-01-01       1.0       8.0   61396.0     Otradnoe  2.0000e+06   \n",
              "708   1995-01-01       2.0      10.0   61396.0     Otradnoe  1.0300e+07   \n",
              "11786 1970-01-01       3.0       6.0  104410.0    Veshnjaki  8.7000e+06   \n",
              "11962 1981-01-01       3.0       8.0   90114.0  Teplyj Stan  1.4300e+07   \n",
              "\n",
              "        salary  fixed_basket  rent_price_3room_eco  rent_price_2room_eco  \\\n",
              "1334   55485.2      15285.65                 48.28                 41.96   \n",
              "13238  61208.0      16910.54                 49.89                 42.64   \n",
              "708    55485.2      15215.84                 49.12                 42.10   \n",
              "11786  61208.0      16269.79                 52.82                 43.85   \n",
              "11962  61208.0      16269.79                 52.82                 43.85   \n",
              "\n",
              "       rent_price_1room_eco  average_life_exp  \n",
              "1334                  34.52             76.37  \n",
              "13238                 34.33             76.70  \n",
              "708                   34.53             76.37  \n",
              "11786                 35.37             76.70  \n",
              "11962                 35.37             76.70  "
            ],
            "text/html": [
              "\n",
              "  <div id=\"df-e0d223a8-f93a-4e29-b24e-a11e65cd11ff\">\n",
              "    <div class=\"colab-df-container\">\n",
              "      <div>\n",
              "<style scoped>\n",
              "    .dataframe tbody tr th:only-of-type {\n",
              "        vertical-align: middle;\n",
              "    }\n",
              "\n",
              "    .dataframe tbody tr th {\n",
              "        vertical-align: top;\n",
              "    }\n",
              "\n",
              "    .dataframe thead th {\n",
              "        text-align: right;\n",
              "    }\n",
              "</style>\n",
              "<table border=\"1\" class=\"dataframe\">\n",
              "  <thead>\n",
              "    <tr style=\"text-align: right;\">\n",
              "      <th></th>\n",
              "      <th>id</th>\n",
              "      <th>timestamp</th>\n",
              "      <th>full_sq</th>\n",
              "      <th>life_sq</th>\n",
              "      <th>floor</th>\n",
              "      <th>state</th>\n",
              "      <th>max_floor</th>\n",
              "      <th>material</th>\n",
              "      <th>build_year</th>\n",
              "      <th>num_room</th>\n",
              "      <th>kitch_sq</th>\n",
              "      <th>full_all</th>\n",
              "      <th>sub_area</th>\n",
              "      <th>price_doc</th>\n",
              "      <th>salary</th>\n",
              "      <th>fixed_basket</th>\n",
              "      <th>rent_price_3room_eco</th>\n",
              "      <th>rent_price_2room_eco</th>\n",
              "      <th>rent_price_1room_eco</th>\n",
              "      <th>average_life_exp</th>\n",
              "    </tr>\n",
              "  </thead>\n",
              "  <tbody>\n",
              "    <tr>\n",
              "      <th>1334</th>\n",
              "      <td>11253</td>\n",
              "      <td>2013-10-15</td>\n",
              "      <td>48.0</td>\n",
              "      <td>30.0</td>\n",
              "      <td>3.0</td>\n",
              "      <td>2.0</td>\n",
              "      <td>14.0</td>\n",
              "      <td>2.0</td>\n",
              "      <td>1974-01-01</td>\n",
              "      <td>2.0</td>\n",
              "      <td>8.0</td>\n",
              "      <td>123280.0</td>\n",
              "      <td>Taganskoe</td>\n",
              "      <td>9.2000e+06</td>\n",
              "      <td>55485.2</td>\n",
              "      <td>15285.65</td>\n",
              "      <td>48.28</td>\n",
              "      <td>41.96</td>\n",
              "      <td>34.52</td>\n",
              "      <td>76.37</td>\n",
              "    </tr>\n",
              "    <tr>\n",
              "      <th>13238</th>\n",
              "      <td>25883</td>\n",
              "      <td>2014-12-05</td>\n",
              "      <td>38.0</td>\n",
              "      <td>20.0</td>\n",
              "      <td>2.0</td>\n",
              "      <td>2.0</td>\n",
              "      <td>14.0</td>\n",
              "      <td>1.0</td>\n",
              "      <td>1992-01-01</td>\n",
              "      <td>1.0</td>\n",
              "      <td>8.0</td>\n",
              "      <td>61396.0</td>\n",
              "      <td>Otradnoe</td>\n",
              "      <td>2.0000e+06</td>\n",
              "      <td>61208.0</td>\n",
              "      <td>16910.54</td>\n",
              "      <td>49.89</td>\n",
              "      <td>42.64</td>\n",
              "      <td>34.33</td>\n",
              "      <td>76.70</td>\n",
              "    </tr>\n",
              "    <tr>\n",
              "      <th>708</th>\n",
              "      <td>10426</td>\n",
              "      <td>2013-09-11</td>\n",
              "      <td>58.0</td>\n",
              "      <td>34.0</td>\n",
              "      <td>11.0</td>\n",
              "      <td>2.0</td>\n",
              "      <td>22.0</td>\n",
              "      <td>1.0</td>\n",
              "      <td>1995-01-01</td>\n",
              "      <td>2.0</td>\n",
              "      <td>10.0</td>\n",
              "      <td>61396.0</td>\n",
              "      <td>Otradnoe</td>\n",
              "      <td>1.0300e+07</td>\n",
              "      <td>55485.2</td>\n",
              "      <td>15215.84</td>\n",
              "      <td>49.12</td>\n",
              "      <td>42.10</td>\n",
              "      <td>34.53</td>\n",
              "      <td>76.37</td>\n",
              "    </tr>\n",
              "    <tr>\n",
              "      <th>11786</th>\n",
              "      <td>24029</td>\n",
              "      <td>2014-10-28</td>\n",
              "      <td>60.0</td>\n",
              "      <td>44.0</td>\n",
              "      <td>7.0</td>\n",
              "      <td>3.0</td>\n",
              "      <td>9.0</td>\n",
              "      <td>1.0</td>\n",
              "      <td>1970-01-01</td>\n",
              "      <td>3.0</td>\n",
              "      <td>6.0</td>\n",
              "      <td>104410.0</td>\n",
              "      <td>Veshnjaki</td>\n",
              "      <td>8.7000e+06</td>\n",
              "      <td>61208.0</td>\n",
              "      <td>16269.79</td>\n",
              "      <td>52.82</td>\n",
              "      <td>43.85</td>\n",
              "      <td>35.37</td>\n",
              "      <td>76.70</td>\n",
              "    </tr>\n",
              "    <tr>\n",
              "      <th>11962</th>\n",
              "      <td>24262</td>\n",
              "      <td>2014-10-31</td>\n",
              "      <td>71.0</td>\n",
              "      <td>42.0</td>\n",
              "      <td>16.0</td>\n",
              "      <td>3.0</td>\n",
              "      <td>22.0</td>\n",
              "      <td>5.0</td>\n",
              "      <td>1981-01-01</td>\n",
              "      <td>3.0</td>\n",
              "      <td>8.0</td>\n",
              "      <td>90114.0</td>\n",
              "      <td>Teplyj Stan</td>\n",
              "      <td>1.4300e+07</td>\n",
              "      <td>61208.0</td>\n",
              "      <td>16269.79</td>\n",
              "      <td>52.82</td>\n",
              "      <td>43.85</td>\n",
              "      <td>35.37</td>\n",
              "      <td>76.70</td>\n",
              "    </tr>\n",
              "  </tbody>\n",
              "</table>\n",
              "</div>\n",
              "      <button class=\"colab-df-convert\" onclick=\"convertToInteractive('df-e0d223a8-f93a-4e29-b24e-a11e65cd11ff')\"\n",
              "              title=\"Convert this dataframe to an interactive table.\"\n",
              "              style=\"display:none;\">\n",
              "        \n",
              "  <svg xmlns=\"http://www.w3.org/2000/svg\" height=\"24px\"viewBox=\"0 0 24 24\"\n",
              "       width=\"24px\">\n",
              "    <path d=\"M0 0h24v24H0V0z\" fill=\"none\"/>\n",
              "    <path d=\"M18.56 5.44l.94 2.06.94-2.06 2.06-.94-2.06-.94-.94-2.06-.94 2.06-2.06.94zm-11 1L8.5 8.5l.94-2.06 2.06-.94-2.06-.94L8.5 2.5l-.94 2.06-2.06.94zm10 10l.94 2.06.94-2.06 2.06-.94-2.06-.94-.94-2.06-.94 2.06-2.06.94z\"/><path d=\"M17.41 7.96l-1.37-1.37c-.4-.4-.92-.59-1.43-.59-.52 0-1.04.2-1.43.59L10.3 9.45l-7.72 7.72c-.78.78-.78 2.05 0 2.83L4 21.41c.39.39.9.59 1.41.59.51 0 1.02-.2 1.41-.59l7.78-7.78 2.81-2.81c.8-.78.8-2.07 0-2.86zM5.41 20L4 18.59l7.72-7.72 1.47 1.35L5.41 20z\"/>\n",
              "  </svg>\n",
              "      </button>\n",
              "      \n",
              "  <style>\n",
              "    .colab-df-container {\n",
              "      display:flex;\n",
              "      flex-wrap:wrap;\n",
              "      gap: 12px;\n",
              "    }\n",
              "\n",
              "    .colab-df-convert {\n",
              "      background-color: #E8F0FE;\n",
              "      border: none;\n",
              "      border-radius: 50%;\n",
              "      cursor: pointer;\n",
              "      display: none;\n",
              "      fill: #1967D2;\n",
              "      height: 32px;\n",
              "      padding: 0 0 0 0;\n",
              "      width: 32px;\n",
              "    }\n",
              "\n",
              "    .colab-df-convert:hover {\n",
              "      background-color: #E2EBFA;\n",
              "      box-shadow: 0px 1px 2px rgba(60, 64, 67, 0.3), 0px 1px 3px 1px rgba(60, 64, 67, 0.15);\n",
              "      fill: #174EA6;\n",
              "    }\n",
              "\n",
              "    [theme=dark] .colab-df-convert {\n",
              "      background-color: #3B4455;\n",
              "      fill: #D2E3FC;\n",
              "    }\n",
              "\n",
              "    [theme=dark] .colab-df-convert:hover {\n",
              "      background-color: #434B5C;\n",
              "      box-shadow: 0px 1px 3px 1px rgba(0, 0, 0, 0.15);\n",
              "      filter: drop-shadow(0px 1px 2px rgba(0, 0, 0, 0.3));\n",
              "      fill: #FFFFFF;\n",
              "    }\n",
              "  </style>\n",
              "\n",
              "      <script>\n",
              "        const buttonEl =\n",
              "          document.querySelector('#df-e0d223a8-f93a-4e29-b24e-a11e65cd11ff button.colab-df-convert');\n",
              "        buttonEl.style.display =\n",
              "          google.colab.kernel.accessAllowed ? 'block' : 'none';\n",
              "\n",
              "        async function convertToInteractive(key) {\n",
              "          const element = document.querySelector('#df-e0d223a8-f93a-4e29-b24e-a11e65cd11ff');\n",
              "          const dataTable =\n",
              "            await google.colab.kernel.invokeFunction('convertToInteractive',\n",
              "                                                     [key], {});\n",
              "          if (!dataTable) return;\n",
              "\n",
              "          const docLinkHtml = 'Like what you see? Visit the ' +\n",
              "            '<a target=\"_blank\" href=https://colab.research.google.com/notebooks/data_table.ipynb>data table notebook</a>'\n",
              "            + ' to learn more about interactive tables.';\n",
              "          element.innerHTML = '';\n",
              "          dataTable['output_type'] = 'display_data';\n",
              "          await google.colab.output.renderOutput(dataTable, element);\n",
              "          const docLink = document.createElement('div');\n",
              "          docLink.innerHTML = docLinkHtml;\n",
              "          element.appendChild(docLink);\n",
              "        }\n",
              "      </script>\n",
              "    </div>\n",
              "  </div>\n",
              "  "
            ]
          },
          "metadata": {},
          "execution_count": 59
        }
      ]
    },
    {
      "cell_type": "markdown",
      "source": [
        "- 1) признак price_per_square: цена за квадратный метр"
      ],
      "metadata": {
        "id": "vhBSCrWa7I9F"
      }
    },
    {
      "cell_type": "code",
      "source": [
        "df_full['price_per_square'] = df_full['price_doc'] / df_full['full_sq']"
      ],
      "metadata": {
        "id": "y-3tzZJs4iKW"
      },
      "execution_count": 60,
      "outputs": []
    },
    {
      "cell_type": "markdown",
      "source": [
        "- 2) признак material_worth: весомость цены материала из которого изготовлена единица"
      ],
      "metadata": {
        "id": "_HBc1k2g7sLn"
      }
    },
    {
      "cell_type": "code",
      "source": [
        "df_full['material_worth'] = df_full['price_doc'] / df_full['material']"
      ],
      "metadata": {
        "id": "gn4PupJW7Pra"
      },
      "execution_count": 61,
      "outputs": []
    },
    {
      "cell_type": "markdown",
      "source": [
        "- перевод строчного названия района в его числовой эквивалент"
      ],
      "metadata": {
        "id": "UJpkFIs4HVPd"
      }
    },
    {
      "cell_type": "code",
      "source": [
        "from sklearn.preprocessing import LabelEncoder"
      ],
      "metadata": {
        "id": "ZM9M59stEwHF"
      },
      "execution_count": 62,
      "outputs": []
    },
    {
      "cell_type": "code",
      "source": [
        "le = LabelEncoder()\n",
        "label = le.fit_transform(df_full['sub_area'])"
      ],
      "metadata": {
        "id": "MUK156qnEUHm"
      },
      "execution_count": 63,
      "outputs": []
    },
    {
      "cell_type": "code",
      "source": [
        "df_full.drop('sub_area', axis=1, inplace=True)\n",
        "df_full['sub_area'] = label"
      ],
      "metadata": {
        "id": "lPv2wnNUE9hf"
      },
      "execution_count": 64,
      "outputs": []
    },
    {
      "cell_type": "markdown",
      "source": [
        "- 3) sub_area_prestige: престижность района как отношение его локации к стоимости единицы"
      ],
      "metadata": {
        "id": "48DQNNMkIdmM"
      }
    },
    {
      "cell_type": "code",
      "source": [
        "df_full['sub_area_prestige'] = df_full['price_doc'] / df_full['sub_area']"
      ],
      "metadata": {
        "id": "rWqTVoMDIbYw"
      },
      "execution_count": 65,
      "outputs": []
    },
    {
      "cell_type": "markdown",
      "source": [
        "- 4) region_life_cost: зависимость между зарплатой и потребительской корзиной, показывающий общую стоимость проживания"
      ],
      "metadata": {
        "id": "OR4Byln1HBRr"
      }
    },
    {
      "cell_type": "code",
      "source": [
        "df_full['region_life_cost'] = df_full['salary'] / df_full['fixed_basket']"
      ],
      "metadata": {
        "id": "wnMxrzTVGa0Q"
      },
      "execution_count": 66,
      "outputs": []
    },
    {
      "cell_type": "markdown",
      "source": [
        "- 5) max_floor_price_impact: зависимость между количеством этажей в здании в котором продается квартира"
      ],
      "metadata": {
        "id": "ARGWQV2mJHz7"
      }
    },
    {
      "cell_type": "code",
      "source": [
        "df_full['max_floor_price_impact'] = df_full['max_floor'] / df_full['price_doc']"
      ],
      "metadata": {
        "id": "wx2tLn6RJJTd"
      },
      "execution_count": 67,
      "outputs": []
    },
    {
      "cell_type": "markdown",
      "source": [
        "- 6) building_novelty: предположение что здание современное исходя из года постройки"
      ],
      "metadata": {
        "id": "e9K5-SVuJ91z"
      }
    },
    {
      "cell_type": "code",
      "source": [
        "df_full['building_novelty'] = df_full['build_year'].apply(lambda x: True if x.year > 2010 else False)"
      ],
      "metadata": {
        "id": "sIYK_oxDKHol"
      },
      "execution_count": 69,
      "outputs": []
    },
    {
      "cell_type": "code",
      "source": [
        "df_full.sample(10)"
      ],
      "metadata": {
        "colab": {
          "base_uri": "https://localhost:8080/",
          "height": 601
        },
        "id": "Yewr8XiFHK7D",
        "outputId": "bfcc164d-92ed-4859-8bcc-cdf436c371f4"
      },
      "execution_count": 73,
      "outputs": [
        {
          "output_type": "execute_result",
          "data": {
            "text/plain": [
              "          id  timestamp  full_sq  life_sq  floor   state  max_floor  material  \\\n",
              "13482  26196 2014-12-10    118.0    118.0    6.0  1.0000     1.0000    1.0000   \n",
              "7977   19318 2014-06-04     45.0     28.0    4.0  2.0000    12.0000    5.0000   \n",
              "5090   15802 2014-03-06     30.0     17.0    3.0  3.0000     5.0000    2.0000   \n",
              "10912  22910 2014-09-25     48.0     24.0   10.0  3.0000    10.0000    2.0000   \n",
              "9005   20612 2014-07-05     77.0     46.0    5.0  3.0000    17.0000    1.0000   \n",
              "1533   11501 2013-10-23     38.0     22.0    4.0  4.0000     9.0000    5.0000   \n",
              "10561  22473 2014-09-12     45.0      1.0    7.0  1.0000     1.0000    1.0000   \n",
              "3073   13391 2013-12-24     57.0     54.0   25.0  1.0000    25.0000    1.0000   \n",
              "17450   7680 2013-04-27     40.0     25.0    5.0  2.1993    12.4208    1.8901   \n",
              "5136   15859 2014-03-10     34.0     21.0    8.0  3.0000     9.0000    1.0000   \n",
              "\n",
              "      build_year  num_room  kitch_sq   full_all   price_doc   salary  \\\n",
              "13482 2015-01-01    3.0000    1.0000   122862.0  2.1802e+07  61208.0   \n",
              "7977  1970-01-01    2.0000    6.0000    64931.0  6.5000e+06  61208.0   \n",
              "5090  1959-01-01    1.0000    6.0000     3521.0  6.5000e+06  61208.0   \n",
              "10912 2001-01-01    2.0000   10.0000  1452550.0  9.0000e+06  61208.0   \n",
              "9005  1989-01-01    3.0000   10.0000    80791.0  1.6000e+07  61208.0   \n",
              "1533  1963-01-01    2.0000    7.0000    57999.0  9.5000e+06  55485.2   \n",
              "10561 2015-01-01    1.0000    1.0000   178473.0  9.9426e+06  61208.0   \n",
              "3073  2014-01-01    2.0000    1.0000    21155.0  8.8068e+06  55485.2   \n",
              "17450        NaT    1.9321    6.8285    31167.0  5.4000e+06  55485.2   \n",
              "5136         NaT    1.0000    0.0000    72131.0  6.0500e+06  61208.0   \n",
              "\n",
              "       fixed_basket  rent_price_3room_eco  rent_price_2room_eco  \\\n",
              "13482      16910.54                 49.89                 42.64   \n",
              "7977       16295.00                 48.70                 41.18   \n",
              "5090       15916.88                 49.75                 41.91   \n",
              "10912      16165.30                 51.41                 43.26   \n",
              "9005       16251.41                 50.93                 41.97   \n",
              "1533       15285.65                 48.28                 41.96   \n",
              "10561      16165.30                 51.41                 43.26   \n",
              "3073       15417.34                 48.50                 42.00   \n",
              "17450      14739.33                 47.09                 41.30   \n",
              "5136       15916.88                 49.75                 41.91   \n",
              "\n",
              "       rent_price_1room_eco  average_life_exp  price_per_square  \\\n",
              "13482                 34.33             76.70       184761.0169   \n",
              "7977                  33.06             76.70       144444.4444   \n",
              "5090                  33.26             76.70       216666.6667   \n",
              "10912                 34.52             76.70       187500.0000   \n",
              "9005                  33.67             76.70       207792.2078   \n",
              "1533                  34.52             76.37       250000.0000   \n",
              "10561                 34.52             76.70       220946.6667   \n",
              "3073                  33.97             76.37       154504.4386   \n",
              "17450                 32.61             76.37       135000.0000   \n",
              "5136                  33.26             76.70       177941.1765   \n",
              "\n",
              "       material_worth  sub_area  sub_area_prestige  region_life_cost  \\\n",
              "13482      2.1802e+07        34        641229.4118            3.6195   \n",
              "7977       1.3000e+06       139         46762.5899            3.7562   \n",
              "5090       3.2500e+06       113         57522.1239            3.8455   \n",
              "10912      4.5000e+06        12        750000.0000            3.7864   \n",
              "9005       1.6000e+07        31        516129.0323            3.7663   \n",
              "1533       1.9000e+06       107         88785.0467            3.6299   \n",
              "10561      9.9426e+06        85        116971.7647            3.7864   \n",
              "3073       8.8068e+06        65        135488.5077            3.5989   \n",
              "17450      2.8570e+06        52        103846.1538            3.7644   \n",
              "5136       6.0500e+06        75         80666.6667            3.8455   \n",
              "\n",
              "       max_floor_price_impact  building_novelty  \n",
              "13482              4.5868e-08              True  \n",
              "7977               1.8462e-06             False  \n",
              "5090               7.6923e-07             False  \n",
              "10912              1.1111e-06             False  \n",
              "9005               1.0625e-06             False  \n",
              "1533               9.4737e-07             False  \n",
              "10561              1.0058e-07              True  \n",
              "3073               2.8387e-06              True  \n",
              "17450              2.3001e-06             False  \n",
              "5136               1.4876e-06             False  "
            ],
            "text/html": [
              "\n",
              "  <div id=\"df-6e2b0fca-ea76-4317-8b08-27c5a99e7dbf\">\n",
              "    <div class=\"colab-df-container\">\n",
              "      <div>\n",
              "<style scoped>\n",
              "    .dataframe tbody tr th:only-of-type {\n",
              "        vertical-align: middle;\n",
              "    }\n",
              "\n",
              "    .dataframe tbody tr th {\n",
              "        vertical-align: top;\n",
              "    }\n",
              "\n",
              "    .dataframe thead th {\n",
              "        text-align: right;\n",
              "    }\n",
              "</style>\n",
              "<table border=\"1\" class=\"dataframe\">\n",
              "  <thead>\n",
              "    <tr style=\"text-align: right;\">\n",
              "      <th></th>\n",
              "      <th>id</th>\n",
              "      <th>timestamp</th>\n",
              "      <th>full_sq</th>\n",
              "      <th>life_sq</th>\n",
              "      <th>floor</th>\n",
              "      <th>state</th>\n",
              "      <th>max_floor</th>\n",
              "      <th>material</th>\n",
              "      <th>build_year</th>\n",
              "      <th>num_room</th>\n",
              "      <th>kitch_sq</th>\n",
              "      <th>full_all</th>\n",
              "      <th>price_doc</th>\n",
              "      <th>salary</th>\n",
              "      <th>fixed_basket</th>\n",
              "      <th>rent_price_3room_eco</th>\n",
              "      <th>rent_price_2room_eco</th>\n",
              "      <th>rent_price_1room_eco</th>\n",
              "      <th>average_life_exp</th>\n",
              "      <th>price_per_square</th>\n",
              "      <th>material_worth</th>\n",
              "      <th>sub_area</th>\n",
              "      <th>sub_area_prestige</th>\n",
              "      <th>region_life_cost</th>\n",
              "      <th>max_floor_price_impact</th>\n",
              "      <th>building_novelty</th>\n",
              "    </tr>\n",
              "  </thead>\n",
              "  <tbody>\n",
              "    <tr>\n",
              "      <th>13482</th>\n",
              "      <td>26196</td>\n",
              "      <td>2014-12-10</td>\n",
              "      <td>118.0</td>\n",
              "      <td>118.0</td>\n",
              "      <td>6.0</td>\n",
              "      <td>1.0000</td>\n",
              "      <td>1.0000</td>\n",
              "      <td>1.0000</td>\n",
              "      <td>2015-01-01</td>\n",
              "      <td>3.0000</td>\n",
              "      <td>1.0000</td>\n",
              "      <td>122862.0</td>\n",
              "      <td>2.1802e+07</td>\n",
              "      <td>61208.0</td>\n",
              "      <td>16910.54</td>\n",
              "      <td>49.89</td>\n",
              "      <td>42.64</td>\n",
              "      <td>34.33</td>\n",
              "      <td>76.70</td>\n",
              "      <td>184761.0169</td>\n",
              "      <td>2.1802e+07</td>\n",
              "      <td>34</td>\n",
              "      <td>641229.4118</td>\n",
              "      <td>3.6195</td>\n",
              "      <td>4.5868e-08</td>\n",
              "      <td>True</td>\n",
              "    </tr>\n",
              "    <tr>\n",
              "      <th>7977</th>\n",
              "      <td>19318</td>\n",
              "      <td>2014-06-04</td>\n",
              "      <td>45.0</td>\n",
              "      <td>28.0</td>\n",
              "      <td>4.0</td>\n",
              "      <td>2.0000</td>\n",
              "      <td>12.0000</td>\n",
              "      <td>5.0000</td>\n",
              "      <td>1970-01-01</td>\n",
              "      <td>2.0000</td>\n",
              "      <td>6.0000</td>\n",
              "      <td>64931.0</td>\n",
              "      <td>6.5000e+06</td>\n",
              "      <td>61208.0</td>\n",
              "      <td>16295.00</td>\n",
              "      <td>48.70</td>\n",
              "      <td>41.18</td>\n",
              "      <td>33.06</td>\n",
              "      <td>76.70</td>\n",
              "      <td>144444.4444</td>\n",
              "      <td>1.3000e+06</td>\n",
              "      <td>139</td>\n",
              "      <td>46762.5899</td>\n",
              "      <td>3.7562</td>\n",
              "      <td>1.8462e-06</td>\n",
              "      <td>False</td>\n",
              "    </tr>\n",
              "    <tr>\n",
              "      <th>5090</th>\n",
              "      <td>15802</td>\n",
              "      <td>2014-03-06</td>\n",
              "      <td>30.0</td>\n",
              "      <td>17.0</td>\n",
              "      <td>3.0</td>\n",
              "      <td>3.0000</td>\n",
              "      <td>5.0000</td>\n",
              "      <td>2.0000</td>\n",
              "      <td>1959-01-01</td>\n",
              "      <td>1.0000</td>\n",
              "      <td>6.0000</td>\n",
              "      <td>3521.0</td>\n",
              "      <td>6.5000e+06</td>\n",
              "      <td>61208.0</td>\n",
              "      <td>15916.88</td>\n",
              "      <td>49.75</td>\n",
              "      <td>41.91</td>\n",
              "      <td>33.26</td>\n",
              "      <td>76.70</td>\n",
              "      <td>216666.6667</td>\n",
              "      <td>3.2500e+06</td>\n",
              "      <td>113</td>\n",
              "      <td>57522.1239</td>\n",
              "      <td>3.8455</td>\n",
              "      <td>7.6923e-07</td>\n",
              "      <td>False</td>\n",
              "    </tr>\n",
              "    <tr>\n",
              "      <th>10912</th>\n",
              "      <td>22910</td>\n",
              "      <td>2014-09-25</td>\n",
              "      <td>48.0</td>\n",
              "      <td>24.0</td>\n",
              "      <td>10.0</td>\n",
              "      <td>3.0000</td>\n",
              "      <td>10.0000</td>\n",
              "      <td>2.0000</td>\n",
              "      <td>2001-01-01</td>\n",
              "      <td>2.0000</td>\n",
              "      <td>10.0000</td>\n",
              "      <td>1452550.0</td>\n",
              "      <td>9.0000e+06</td>\n",
              "      <td>61208.0</td>\n",
              "      <td>16165.30</td>\n",
              "      <td>51.41</td>\n",
              "      <td>43.26</td>\n",
              "      <td>34.52</td>\n",
              "      <td>76.70</td>\n",
              "      <td>187500.0000</td>\n",
              "      <td>4.5000e+06</td>\n",
              "      <td>12</td>\n",
              "      <td>750000.0000</td>\n",
              "      <td>3.7864</td>\n",
              "      <td>1.1111e-06</td>\n",
              "      <td>False</td>\n",
              "    </tr>\n",
              "    <tr>\n",
              "      <th>9005</th>\n",
              "      <td>20612</td>\n",
              "      <td>2014-07-05</td>\n",
              "      <td>77.0</td>\n",
              "      <td>46.0</td>\n",
              "      <td>5.0</td>\n",
              "      <td>3.0000</td>\n",
              "      <td>17.0000</td>\n",
              "      <td>1.0000</td>\n",
              "      <td>1989-01-01</td>\n",
              "      <td>3.0000</td>\n",
              "      <td>10.0000</td>\n",
              "      <td>80791.0</td>\n",
              "      <td>1.6000e+07</td>\n",
              "      <td>61208.0</td>\n",
              "      <td>16251.41</td>\n",
              "      <td>50.93</td>\n",
              "      <td>41.97</td>\n",
              "      <td>33.67</td>\n",
              "      <td>76.70</td>\n",
              "      <td>207792.2078</td>\n",
              "      <td>1.6000e+07</td>\n",
              "      <td>31</td>\n",
              "      <td>516129.0323</td>\n",
              "      <td>3.7663</td>\n",
              "      <td>1.0625e-06</td>\n",
              "      <td>False</td>\n",
              "    </tr>\n",
              "    <tr>\n",
              "      <th>1533</th>\n",
              "      <td>11501</td>\n",
              "      <td>2013-10-23</td>\n",
              "      <td>38.0</td>\n",
              "      <td>22.0</td>\n",
              "      <td>4.0</td>\n",
              "      <td>4.0000</td>\n",
              "      <td>9.0000</td>\n",
              "      <td>5.0000</td>\n",
              "      <td>1963-01-01</td>\n",
              "      <td>2.0000</td>\n",
              "      <td>7.0000</td>\n",
              "      <td>57999.0</td>\n",
              "      <td>9.5000e+06</td>\n",
              "      <td>55485.2</td>\n",
              "      <td>15285.65</td>\n",
              "      <td>48.28</td>\n",
              "      <td>41.96</td>\n",
              "      <td>34.52</td>\n",
              "      <td>76.37</td>\n",
              "      <td>250000.0000</td>\n",
              "      <td>1.9000e+06</td>\n",
              "      <td>107</td>\n",
              "      <td>88785.0467</td>\n",
              "      <td>3.6299</td>\n",
              "      <td>9.4737e-07</td>\n",
              "      <td>False</td>\n",
              "    </tr>\n",
              "    <tr>\n",
              "      <th>10561</th>\n",
              "      <td>22473</td>\n",
              "      <td>2014-09-12</td>\n",
              "      <td>45.0</td>\n",
              "      <td>1.0</td>\n",
              "      <td>7.0</td>\n",
              "      <td>1.0000</td>\n",
              "      <td>1.0000</td>\n",
              "      <td>1.0000</td>\n",
              "      <td>2015-01-01</td>\n",
              "      <td>1.0000</td>\n",
              "      <td>1.0000</td>\n",
              "      <td>178473.0</td>\n",
              "      <td>9.9426e+06</td>\n",
              "      <td>61208.0</td>\n",
              "      <td>16165.30</td>\n",
              "      <td>51.41</td>\n",
              "      <td>43.26</td>\n",
              "      <td>34.52</td>\n",
              "      <td>76.70</td>\n",
              "      <td>220946.6667</td>\n",
              "      <td>9.9426e+06</td>\n",
              "      <td>85</td>\n",
              "      <td>116971.7647</td>\n",
              "      <td>3.7864</td>\n",
              "      <td>1.0058e-07</td>\n",
              "      <td>True</td>\n",
              "    </tr>\n",
              "    <tr>\n",
              "      <th>3073</th>\n",
              "      <td>13391</td>\n",
              "      <td>2013-12-24</td>\n",
              "      <td>57.0</td>\n",
              "      <td>54.0</td>\n",
              "      <td>25.0</td>\n",
              "      <td>1.0000</td>\n",
              "      <td>25.0000</td>\n",
              "      <td>1.0000</td>\n",
              "      <td>2014-01-01</td>\n",
              "      <td>2.0000</td>\n",
              "      <td>1.0000</td>\n",
              "      <td>21155.0</td>\n",
              "      <td>8.8068e+06</td>\n",
              "      <td>55485.2</td>\n",
              "      <td>15417.34</td>\n",
              "      <td>48.50</td>\n",
              "      <td>42.00</td>\n",
              "      <td>33.97</td>\n",
              "      <td>76.37</td>\n",
              "      <td>154504.4386</td>\n",
              "      <td>8.8068e+06</td>\n",
              "      <td>65</td>\n",
              "      <td>135488.5077</td>\n",
              "      <td>3.5989</td>\n",
              "      <td>2.8387e-06</td>\n",
              "      <td>True</td>\n",
              "    </tr>\n",
              "    <tr>\n",
              "      <th>17450</th>\n",
              "      <td>7680</td>\n",
              "      <td>2013-04-27</td>\n",
              "      <td>40.0</td>\n",
              "      <td>25.0</td>\n",
              "      <td>5.0</td>\n",
              "      <td>2.1993</td>\n",
              "      <td>12.4208</td>\n",
              "      <td>1.8901</td>\n",
              "      <td>NaT</td>\n",
              "      <td>1.9321</td>\n",
              "      <td>6.8285</td>\n",
              "      <td>31167.0</td>\n",
              "      <td>5.4000e+06</td>\n",
              "      <td>55485.2</td>\n",
              "      <td>14739.33</td>\n",
              "      <td>47.09</td>\n",
              "      <td>41.30</td>\n",
              "      <td>32.61</td>\n",
              "      <td>76.37</td>\n",
              "      <td>135000.0000</td>\n",
              "      <td>2.8570e+06</td>\n",
              "      <td>52</td>\n",
              "      <td>103846.1538</td>\n",
              "      <td>3.7644</td>\n",
              "      <td>2.3001e-06</td>\n",
              "      <td>False</td>\n",
              "    </tr>\n",
              "    <tr>\n",
              "      <th>5136</th>\n",
              "      <td>15859</td>\n",
              "      <td>2014-03-10</td>\n",
              "      <td>34.0</td>\n",
              "      <td>21.0</td>\n",
              "      <td>8.0</td>\n",
              "      <td>3.0000</td>\n",
              "      <td>9.0000</td>\n",
              "      <td>1.0000</td>\n",
              "      <td>NaT</td>\n",
              "      <td>1.0000</td>\n",
              "      <td>0.0000</td>\n",
              "      <td>72131.0</td>\n",
              "      <td>6.0500e+06</td>\n",
              "      <td>61208.0</td>\n",
              "      <td>15916.88</td>\n",
              "      <td>49.75</td>\n",
              "      <td>41.91</td>\n",
              "      <td>33.26</td>\n",
              "      <td>76.70</td>\n",
              "      <td>177941.1765</td>\n",
              "      <td>6.0500e+06</td>\n",
              "      <td>75</td>\n",
              "      <td>80666.6667</td>\n",
              "      <td>3.8455</td>\n",
              "      <td>1.4876e-06</td>\n",
              "      <td>False</td>\n",
              "    </tr>\n",
              "  </tbody>\n",
              "</table>\n",
              "</div>\n",
              "      <button class=\"colab-df-convert\" onclick=\"convertToInteractive('df-6e2b0fca-ea76-4317-8b08-27c5a99e7dbf')\"\n",
              "              title=\"Convert this dataframe to an interactive table.\"\n",
              "              style=\"display:none;\">\n",
              "        \n",
              "  <svg xmlns=\"http://www.w3.org/2000/svg\" height=\"24px\"viewBox=\"0 0 24 24\"\n",
              "       width=\"24px\">\n",
              "    <path d=\"M0 0h24v24H0V0z\" fill=\"none\"/>\n",
              "    <path d=\"M18.56 5.44l.94 2.06.94-2.06 2.06-.94-2.06-.94-.94-2.06-.94 2.06-2.06.94zm-11 1L8.5 8.5l.94-2.06 2.06-.94-2.06-.94L8.5 2.5l-.94 2.06-2.06.94zm10 10l.94 2.06.94-2.06 2.06-.94-2.06-.94-.94-2.06-.94 2.06-2.06.94z\"/><path d=\"M17.41 7.96l-1.37-1.37c-.4-.4-.92-.59-1.43-.59-.52 0-1.04.2-1.43.59L10.3 9.45l-7.72 7.72c-.78.78-.78 2.05 0 2.83L4 21.41c.39.39.9.59 1.41.59.51 0 1.02-.2 1.41-.59l7.78-7.78 2.81-2.81c.8-.78.8-2.07 0-2.86zM5.41 20L4 18.59l7.72-7.72 1.47 1.35L5.41 20z\"/>\n",
              "  </svg>\n",
              "      </button>\n",
              "      \n",
              "  <style>\n",
              "    .colab-df-container {\n",
              "      display:flex;\n",
              "      flex-wrap:wrap;\n",
              "      gap: 12px;\n",
              "    }\n",
              "\n",
              "    .colab-df-convert {\n",
              "      background-color: #E8F0FE;\n",
              "      border: none;\n",
              "      border-radius: 50%;\n",
              "      cursor: pointer;\n",
              "      display: none;\n",
              "      fill: #1967D2;\n",
              "      height: 32px;\n",
              "      padding: 0 0 0 0;\n",
              "      width: 32px;\n",
              "    }\n",
              "\n",
              "    .colab-df-convert:hover {\n",
              "      background-color: #E2EBFA;\n",
              "      box-shadow: 0px 1px 2px rgba(60, 64, 67, 0.3), 0px 1px 3px 1px rgba(60, 64, 67, 0.15);\n",
              "      fill: #174EA6;\n",
              "    }\n",
              "\n",
              "    [theme=dark] .colab-df-convert {\n",
              "      background-color: #3B4455;\n",
              "      fill: #D2E3FC;\n",
              "    }\n",
              "\n",
              "    [theme=dark] .colab-df-convert:hover {\n",
              "      background-color: #434B5C;\n",
              "      box-shadow: 0px 1px 3px 1px rgba(0, 0, 0, 0.15);\n",
              "      filter: drop-shadow(0px 1px 2px rgba(0, 0, 0, 0.3));\n",
              "      fill: #FFFFFF;\n",
              "    }\n",
              "  </style>\n",
              "\n",
              "      <script>\n",
              "        const buttonEl =\n",
              "          document.querySelector('#df-6e2b0fca-ea76-4317-8b08-27c5a99e7dbf button.colab-df-convert');\n",
              "        buttonEl.style.display =\n",
              "          google.colab.kernel.accessAllowed ? 'block' : 'none';\n",
              "\n",
              "        async function convertToInteractive(key) {\n",
              "          const element = document.querySelector('#df-6e2b0fca-ea76-4317-8b08-27c5a99e7dbf');\n",
              "          const dataTable =\n",
              "            await google.colab.kernel.invokeFunction('convertToInteractive',\n",
              "                                                     [key], {});\n",
              "          if (!dataTable) return;\n",
              "\n",
              "          const docLinkHtml = 'Like what you see? Visit the ' +\n",
              "            '<a target=\"_blank\" href=https://colab.research.google.com/notebooks/data_table.ipynb>data table notebook</a>'\n",
              "            + ' to learn more about interactive tables.';\n",
              "          element.innerHTML = '';\n",
              "          dataTable['output_type'] = 'display_data';\n",
              "          await google.colab.output.renderOutput(dataTable, element);\n",
              "          const docLink = document.createElement('div');\n",
              "          docLink.innerHTML = docLinkHtml;\n",
              "          element.appendChild(docLink);\n",
              "        }\n",
              "      </script>\n",
              "    </div>\n",
              "  </div>\n",
              "  "
            ]
          },
          "metadata": {},
          "execution_count": 73
        }
      ]
    },
    {
      "cell_type": "markdown",
      "source": [
        "## 1.7 Провести визуальный анализ всех признаков\n",
        "\n",
        "Ко всем графикам писать выводы текстом. Что вы видите, почему построили именно такую диаграмму"
      ],
      "metadata": {
        "id": "8xe_gJF1GFc-"
      }
    },
    {
      "cell_type": "markdown",
      "source": [
        "### 1.7.1 Анализ признаков по отдельности (где нужно делать группировки, преобразования категориальных типов данных к числовым, смотреть в разрезе других категориальных признаков)"
      ],
      "metadata": {
        "id": "esU3qvLVGF_-"
      }
    },
    {
      "cell_type": "code",
      "source": [],
      "metadata": {
        "id": "AEearcoFGHWH"
      },
      "execution_count": null,
      "outputs": []
    },
    {
      "cell_type": "markdown",
      "source": [
        "### 1.7.2 Анализ совместного влияния признаков и их влияния на целевой признак"
      ],
      "metadata": {
        "id": "_SXlluEpGGR2"
      }
    },
    {
      "cell_type": "code",
      "source": [],
      "metadata": {
        "id": "bSMrXZ5CGHxW"
      },
      "execution_count": null,
      "outputs": []
    }
  ]
}