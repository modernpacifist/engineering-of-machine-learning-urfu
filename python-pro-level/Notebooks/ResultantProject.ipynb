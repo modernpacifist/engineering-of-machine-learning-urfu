{
  "nbformat": 4,
  "nbformat_minor": 0,
  "metadata": {
    "anaconda-cloud": {},
    "kernelspec": {
      "display_name": "Python 3",
      "language": "python",
      "name": "python3"
    },
    "language_info": {
      "codemirror_mode": {
        "name": "ipython",
        "version": 3
      },
      "file_extension": ".py",
      "mimetype": "text/x-python",
      "name": "python",
      "nbconvert_exporter": "python",
      "pygments_lexer": "ipython3",
      "version": "3.7.6"
    },
    "colab": {
      "provenance": [],
      "collapsed_sections": [
        "ac-Ie6LNMsbG",
        "E1ic1LZoSWNx"
      ]
    }
  },
  "cells": [
    {
      "cell_type": "markdown",
      "metadata": {
        "id": "CXsKzXe_x-t4"
      },
      "source": [
        "**Импорт всех необходимых библиотек**"
      ]
    },
    {
      "cell_type": "code",
      "metadata": {
        "id": "RrSo2OJzx-Pw"
      },
      "source": [
        "import pandas as pd\n",
        "import numpy as np\n",
        "import matplotlib.pyplot as plt\n",
        "import seaborn as sns\n",
        "pd.set_option(\"display.max_rows\", 20)\n",
        "pd.set_option(\"display.max_columns\", 20)\n",
        "pd.set_option(\"display.precision\", 4)\n",
        "pd.set_option(\"plotting.backend\", \"matplotlib\")"
      ],
      "execution_count": null,
      "outputs": []
    },
    {
      "cell_type": "markdown",
      "metadata": {
        "id": "UTKVH3sMutTM"
      },
      "source": [
        "# 1. Исследовательский анализ данных (exploratory data analysis - EDA)"
      ]
    },
    {
      "cell_type": "markdown",
      "metadata": {
        "id": "tiFgQjEcxnu2"
      },
      "source": [
        "## 1.1 Словесное описание признаков"
      ]
    },
    {
      "cell_type": "markdown",
      "source": [
        "<b><p>data.csv</p></b>\n",
        "<ul>\n",
        "<li>id: id транзакции </li>\n",
        "<li>timestamp: дата продажи (транзакции) </li>\n",
        "<li>full_sq: общая площадь  </li>\n",
        "<li>life_sq: жилая площадь  </li>\n",
        "<li>floor: этаж  </li>\n",
        "<li>max_floor: количество этажей в здании </li>\n",
        "<li>material: материал, из которого изговолены стены  </li>\n",
        "<li>build_year: год строительства </li>\n",
        "<li>num_room: количество жилых комнат </li>\n",
        "<li>kitch_sq: площадь кухни </li>\n",
        "<li>full_all: количество населения в регионе </li>\n",
        "<li> state: жилищные условия </li>\n",
        "<li>sub_area: название территории </li>\n",
        "<li>price_doc: цена квартиры (целевая переменная) </li>\n",
        "</ul>\n",
        "\n",
        "<b><p>macro.csv</p></b>\n",
        "<ul>\n",
        "<li>timestamp : дата, на которую актуальны макроэкономические показатели </li>\n",
        "<li>salary : средняя зарплата в регионе </li>\n",
        "<li>fixed_basket: стоимость потребительской корзины </li>\n",
        "<li>rent_price_3room_eco: стоимость аренды 3-х комнатного жилья эконом-класса </li>\n",
        "<li>rent_price_2room_eco: стоимость аренды 2-х комнатного жилья эконом-класса </li>\n",
        "<li>rent_price_1room_eco: стоимость аренды 1-но комнатного жилья эконом-класса </li>\n",
        "<li>average_life_exp: средняя продолжительность жизни в регионе </li>\n",
        "</ul>"
      ],
      "metadata": {
        "id": "5_Jpw5OmX6Oe"
      }
    },
    {
      "cell_type": "markdown",
      "metadata": {
        "id": "qy4yj--r07RL"
      },
      "source": [
        "## 1.2 Загрузка данных общее описание набора данных"
      ]
    },
    {
      "cell_type": "code",
      "metadata": {
        "id": "SJ3LbaoiutTT"
      },
      "source": [
        "PATH_base = \"https://raw.githubusercontent.com/aksenov7/Kaggle_competition_group/master/data.csv\"\n",
        "PATH_add = \"https://raw.githubusercontent.com/aksenov7/Kaggle_competition_group/master/data_macro.csv\"\n",
        "df = # ваш код\n",
        "macro =  # ваш код"
      ],
      "execution_count": null,
      "outputs": []
    },
    {
      "cell_type": "markdown",
      "source": [
        "### 1.2.1 Базовый датасет"
      ],
      "metadata": {
        "id": "Nz8wzZ6XdD9T"
      }
    },
    {
      "cell_type": "markdown",
      "source": [
        "Вывести пример данных (первые строки и случайные строки)"
      ],
      "metadata": {
        "id": "R_TdSpL5dlJy"
      }
    },
    {
      "cell_type": "code",
      "source": [],
      "metadata": {
        "id": "gDzP8l3mdlgz"
      },
      "execution_count": null,
      "outputs": []
    },
    {
      "cell_type": "markdown",
      "source": [
        "Размер набора данных"
      ],
      "metadata": {
        "id": "5bIgx3BZWb7W"
      }
    },
    {
      "cell_type": "code",
      "metadata": {
        "id": "8YtRZ5qi0epJ"
      },
      "source": [],
      "execution_count": null,
      "outputs": []
    },
    {
      "cell_type": "markdown",
      "source": [
        "Описание типов данных по признакам"
      ],
      "metadata": {
        "id": "hw0FkRPTT4LQ"
      }
    },
    {
      "cell_type": "code",
      "metadata": {
        "id": "asswEHNi0emi"
      },
      "source": [],
      "execution_count": null,
      "outputs": []
    },
    {
      "cell_type": "markdown",
      "source": [
        "Базовые статистики по признакам"
      ],
      "metadata": {
        "id": "mgmwOM0EZApF"
      }
    },
    {
      "cell_type": "code",
      "source": [],
      "metadata": {
        "id": "owM-qoo0ZBe9"
      },
      "execution_count": null,
      "outputs": []
    },
    {
      "cell_type": "markdown",
      "source": [
        "Выводы текстом, что вы можете сказать по каждому признаку, на основе базовых статистик"
      ],
      "metadata": {
        "id": "cOAB67VhZGfe"
      }
    },
    {
      "cell_type": "code",
      "source": [],
      "metadata": {
        "id": "UgN6nT-aZGfe"
      },
      "execution_count": null,
      "outputs": []
    },
    {
      "cell_type": "markdown",
      "source": [
        "Какие признаки вы считаете полезными для предсказания цены квартиры, а какие по вашему мнению можно убрать. Почему?"
      ],
      "metadata": {
        "id": "H6wWguuMZGof"
      }
    },
    {
      "cell_type": "code",
      "source": [],
      "metadata": {
        "id": "GAb01bgZZGof"
      },
      "execution_count": null,
      "outputs": []
    },
    {
      "cell_type": "markdown",
      "source": [
        "Есть ли пропуски в данных? В каких столбцах? Какой процент по каждому столбцу?"
      ],
      "metadata": {
        "id": "oywwEALWZGs2"
      }
    },
    {
      "cell_type": "code",
      "source": [],
      "metadata": {
        "id": "oI5jSvEsZGs2"
      },
      "execution_count": null,
      "outputs": []
    },
    {
      "cell_type": "markdown",
      "source": [
        "Есть ли аномальные данные в стллбцах? Если да, то укажите на них и объясните, почему считаете аномальными"
      ],
      "metadata": {
        "id": "Sc6aZZnsZGvX"
      }
    },
    {
      "cell_type": "code",
      "source": [],
      "metadata": {
        "id": "pOVsn-ONbuBM"
      },
      "execution_count": null,
      "outputs": []
    },
    {
      "cell_type": "markdown",
      "source": [
        "### 1.2.2 Макро показатели"
      ],
      "metadata": {
        "id": "G1kXOjYDdRui"
      }
    },
    {
      "cell_type": "markdown",
      "source": [
        "Вывести пример данных (первые строки и случайные строки)"
      ],
      "metadata": {
        "id": "DnZc-rypdvUy"
      }
    },
    {
      "cell_type": "code",
      "source": [],
      "metadata": {
        "id": "4AIWc_yWdvUz"
      },
      "execution_count": null,
      "outputs": []
    },
    {
      "cell_type": "markdown",
      "source": [
        "Размер набора данных"
      ],
      "metadata": {
        "id": "__V4xxQJdaZb"
      }
    },
    {
      "cell_type": "code",
      "metadata": {
        "id": "XZVhRUZQdaZc"
      },
      "source": [],
      "execution_count": null,
      "outputs": []
    },
    {
      "cell_type": "markdown",
      "source": [
        "Описание типов данных по признакам"
      ],
      "metadata": {
        "id": "V8nJDzrqdaZc"
      }
    },
    {
      "cell_type": "code",
      "metadata": {
        "id": "aMPqdNRqdaZc"
      },
      "source": [],
      "execution_count": null,
      "outputs": []
    },
    {
      "cell_type": "markdown",
      "source": [
        "Базовые статистики по признакам"
      ],
      "metadata": {
        "id": "r9KdYUIJdaZc"
      }
    },
    {
      "cell_type": "code",
      "source": [],
      "metadata": {
        "id": "NMVdTHxrdaZc"
      },
      "execution_count": null,
      "outputs": []
    },
    {
      "cell_type": "markdown",
      "source": [
        "Выводы текстом, что вы можете сказать по каждому признаку, на основе базовых статистик"
      ],
      "metadata": {
        "id": "kUF1P7mTdaZc"
      }
    },
    {
      "cell_type": "code",
      "source": [],
      "metadata": {
        "id": "YpRRQQrxdaZc"
      },
      "execution_count": null,
      "outputs": []
    },
    {
      "cell_type": "markdown",
      "source": [
        "Какие признаки вы считаете полезными для предсказания цены квартиры, а какие по вашему мнению можно убрать. Почему?"
      ],
      "metadata": {
        "id": "-fu8HSzAdaZc"
      }
    },
    {
      "cell_type": "code",
      "source": [],
      "metadata": {
        "id": "lZxDNxO8daZd"
      },
      "execution_count": null,
      "outputs": []
    },
    {
      "cell_type": "markdown",
      "source": [
        "Есть ли пропуски в данных? В каких столбцах? Какой процент по каждому столбцу?"
      ],
      "metadata": {
        "id": "P1CmjZ2XdaZd"
      }
    },
    {
      "cell_type": "code",
      "source": [],
      "metadata": {
        "id": "B8DGEnOtdaZd"
      },
      "execution_count": null,
      "outputs": []
    },
    {
      "cell_type": "markdown",
      "source": [
        "Есть ли аномальные данные в стллбцах? Если да, то укажите на них и объясните, почему считаете аномальными"
      ],
      "metadata": {
        "id": "ovjCyA8YdaZd"
      }
    },
    {
      "cell_type": "code",
      "source": [],
      "metadata": {
        "id": "Z33oobHSdaZd"
      },
      "execution_count": null,
      "outputs": []
    },
    {
      "cell_type": "markdown",
      "source": [
        "## 1.3 Замените все ранее найденные ошибочные данные на None. Заполните все пропуски в данных: которые были и которые появились. Используйте как стратегии изученные на занятии, так и логику, которая вытекает из самих данных"
      ],
      "metadata": {
        "id": "ac-Ie6LNMsbG"
      }
    },
    {
      "cell_type": "markdown",
      "source": [
        "### 1.3.1 Главный набор данных"
      ],
      "metadata": {
        "id": "YCZtD33vNSjd"
      }
    },
    {
      "cell_type": "code",
      "source": [],
      "metadata": {
        "id": "6-g2SQ5ENSPu"
      },
      "execution_count": null,
      "outputs": []
    },
    {
      "cell_type": "markdown",
      "source": [
        "### 1.3.2 Набор с макропоказателями"
      ],
      "metadata": {
        "id": "IzqxQKoTNbNV"
      }
    },
    {
      "cell_type": "code",
      "source": [],
      "metadata": {
        "id": "j3du90RSNSM5"
      },
      "execution_count": null,
      "outputs": []
    },
    {
      "cell_type": "markdown",
      "source": [
        "## 1.4 Обогатите основной набор данных данными из макропоказателей и поместите в переменную `df_full`"
      ],
      "metadata": {
        "id": "E1ic1LZoSWNx"
      }
    },
    {
      "cell_type": "code",
      "source": [],
      "metadata": {
        "id": "Q8jFXRrGSlKp"
      },
      "execution_count": null,
      "outputs": []
    },
    {
      "cell_type": "markdown",
      "source": [
        "## 1.5 Проверьте данные на наличие выбросов. По каждому столбцу. Напишите своё мнение: нужно ли в каждой из ситуаций обрабатывать выбросы, или можно оставить. Если нужно обработать, то примените один из изученных подходов, либо предложите свой"
      ],
      "metadata": {
        "id": "BfJc-PiVinUp"
      }
    },
    {
      "cell_type": "markdown",
      "source": [
        "### 1.5.1 Главный набор данных"
      ],
      "metadata": {
        "id": "_LkLQxltjEbx"
      }
    },
    {
      "cell_type": "code",
      "source": [],
      "metadata": {
        "id": "zj9a1fd0insh"
      },
      "execution_count": null,
      "outputs": []
    },
    {
      "cell_type": "markdown",
      "source": [
        "### 1.5.2 Набор с макропоказателями"
      ],
      "metadata": {
        "id": "rm7JYv4jjE_I"
      }
    },
    {
      "cell_type": "code",
      "source": [],
      "metadata": {
        "id": "c1zA1r5mjFTg"
      },
      "execution_count": null,
      "outputs": []
    },
    {
      "cell_type": "markdown",
      "source": [
        "## 1.6 Создайте не менее 5 новых признаков на основе существующих данных. Опишите текстом обоснование создания каждой. Признаки должны привносить некую новую информацию для понимания цены квартиры"
      ],
      "metadata": {
        "id": "ZfLAbkV5jpxZ"
      }
    },
    {
      "cell_type": "code",
      "source": [],
      "metadata": {
        "id": "o3Rv6-XcjqJI"
      },
      "execution_count": null,
      "outputs": []
    },
    {
      "cell_type": "markdown",
      "source": [
        "## 1.7 Провести визуальный анализ всех признаков\n",
        "\n",
        "Ко всем графикам писать выводы текстом. Что вы видите, почему построили именно такую диаграмму"
      ],
      "metadata": {
        "id": "8xe_gJF1GFc-"
      }
    },
    {
      "cell_type": "markdown",
      "source": [
        "### 1.7.1 Анализ признаков по отдельности (где нужно делать группировки, преобразования категориальных типов данных к числовым, смотреть в разрезе других категориальных признаков)"
      ],
      "metadata": {
        "id": "esU3qvLVGF_-"
      }
    },
    {
      "cell_type": "code",
      "source": [],
      "metadata": {
        "id": "AEearcoFGHWH"
      },
      "execution_count": null,
      "outputs": []
    },
    {
      "cell_type": "markdown",
      "source": [
        "### 1.7.2 Анализ совместного влияния признаков и их влияния на целевой признак"
      ],
      "metadata": {
        "id": "_SXlluEpGGR2"
      }
    },
    {
      "cell_type": "code",
      "source": [],
      "metadata": {
        "id": "bSMrXZ5CGHxW"
      },
      "execution_count": null,
      "outputs": []
    }
  ]
}