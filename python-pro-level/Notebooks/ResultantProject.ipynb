{
  "nbformat": 4,
  "nbformat_minor": 0,
  "metadata": {
    "anaconda-cloud": {},
    "kernelspec": {
      "display_name": "Python 3",
      "language": "python",
      "name": "python3"
    },
    "language_info": {
      "codemirror_mode": {
        "name": "ipython",
        "version": 3
      },
      "file_extension": ".py",
      "mimetype": "text/x-python",
      "name": "python",
      "nbconvert_exporter": "python",
      "pygments_lexer": "ipython3",
      "version": "3.7.6"
    },
    "colab": {
      "provenance": []
    }
  },
  "cells": [
    {
      "cell_type": "markdown",
      "metadata": {
        "id": "CXsKzXe_x-t4"
      },
      "source": [
        "**Импорт всех необходимых библиотек**"
      ]
    },
    {
      "cell_type": "code",
      "metadata": {
        "id": "RrSo2OJzx-Pw"
      },
      "source": [
        "import pandas as pd\n",
        "import numpy as np\n",
        "import matplotlib.pyplot as plt\n",
        "import seaborn as sns\n",
        "import re\n",
        "pd.set_option(\"display.max_rows\", 20)\n",
        "pd.set_option(\"display.max_columns\", 40)\n",
        "pd.set_option(\"display.precision\", 4)\n",
        "pd.set_option(\"plotting.backend\", \"matplotlib\")"
      ],
      "execution_count": 1,
      "outputs": []
    },
    {
      "cell_type": "markdown",
      "metadata": {
        "id": "UTKVH3sMutTM"
      },
      "source": [
        "# 1. Исследовательский анализ данных (exploratory data analysis - EDA)"
      ]
    },
    {
      "cell_type": "markdown",
      "metadata": {
        "id": "tiFgQjEcxnu2"
      },
      "source": [
        "## 1.1 Словесное описание признаков"
      ]
    },
    {
      "cell_type": "markdown",
      "source": [
        "<b><p>data.csv</p></b>\n",
        "<ul>\n",
        "<li>id: id транзакции </li>\n",
        "<li>timestamp: дата продажи (транзакции) </li>\n",
        "<li>full_sq: общая площадь  </li>\n",
        "<li>life_sq: жилая площадь  </li>\n",
        "<li>floor: этаж  </li>\n",
        "<li>max_floor: количество этажей в здании </li>\n",
        "<li>material: материал, из которого изговолены стены  </li>\n",
        "<li>build_year: год строительства </li>\n",
        "<li>num_room: количество жилых комнат </li>\n",
        "<li>kitch_sq: площадь кухни </li>\n",
        "<li>full_all: количество населения в регионе </li>\n",
        "<li> state: жилищные условия </li>\n",
        "<li>sub_area: название территории </li>\n",
        "<li>price_doc: цена квартиры (целевая переменная) </li>\n",
        "</ul>\n",
        "\n",
        "<b><p>macro.csv</p></b>\n",
        "<ul>\n",
        "<li>timestamp : дата, на которую актуальны макроэкономические показатели </li>\n",
        "<li>salary : средняя зарплата в регионе </li>\n",
        "<li>fixed_basket: стоимость потребительской корзины </li>\n",
        "<li>rent_price_3room_eco: стоимость аренды 3-х комнатного жилья эконом-класса </li>\n",
        "<li>rent_price_2room_eco: стоимость аренды 2-х комнатного жилья эконом-класса </li>\n",
        "<li>rent_price_1room_eco: стоимость аренды 1-но комнатного жилья эконом-класса </li>\n",
        "<li>average_life_exp: средняя продолжительность жизни в регионе </li>\n",
        "</ul>"
      ],
      "metadata": {
        "id": "5_Jpw5OmX6Oe"
      }
    },
    {
      "cell_type": "markdown",
      "metadata": {
        "id": "qy4yj--r07RL"
      },
      "source": [
        "## 1.2 Загрузка данных общее описание набора данных"
      ]
    },
    {
      "cell_type": "code",
      "metadata": {
        "id": "SJ3LbaoiutTT"
      },
      "source": [
        "df = pd.read_csv(\"https://raw.githubusercontent.com/aksenov7/Kaggle_competition_group/master/data.csv\")\n",
        "macro = pd.read_csv(\"https://raw.githubusercontent.com/aksenov7/Kaggle_competition_group/master/data_macro.csv\")\n",
        "\n",
        "df_backup = df.copy()\n",
        "macro_backup = macro.copy()"
      ],
      "execution_count": 2,
      "outputs": []
    },
    {
      "cell_type": "markdown",
      "source": [
        "### 1.2.1 Базовый датасет"
      ],
      "metadata": {
        "id": "Nz8wzZ6XdD9T"
      }
    },
    {
      "cell_type": "markdown",
      "source": [
        "Вывести пример данных (первые строки и случайные строки)"
      ],
      "metadata": {
        "id": "R_TdSpL5dlJy"
      }
    },
    {
      "cell_type": "code",
      "source": [
        "df.head(10)"
      ],
      "metadata": {
        "id": "gDzP8l3mdlgz",
        "colab": {
          "base_uri": "https://localhost:8080/",
          "height": 363
        },
        "outputId": "47f5876a-7703-4410-be6b-9f02feac2161"
      },
      "execution_count": 3,
      "outputs": [
        {
          "output_type": "execute_result",
          "data": {
            "text/plain": [
              "     id   timestamp  full_sq  life_sq  floor  state  max_floor  material  \\\n",
              "0  8059  2013-05-21       11     11.0    2.0    3.0        5.0       2.0   \n",
              "1  8138  2013-05-25       53     30.0   10.0    3.0       16.0       1.0   \n",
              "2  8156  2013-05-27       77     41.0    2.0    1.0       17.0       6.0   \n",
              "3  8157  2013-05-27       45     27.0    6.0    3.0        9.0       1.0   \n",
              "4  8178  2013-05-28       38     20.0   15.0    NaN       16.0       1.0   \n",
              "5  8189  2013-05-28       63      NaN   17.0    1.0       17.0       4.0   \n",
              "6  8258  2013-05-30       74     46.0   12.0    3.0       24.0       1.0   \n",
              "7  8271  2013-05-31       93     93.0    3.0    1.0        1.0       1.0   \n",
              "8  8285  2013-06-01       51     30.0    7.0    3.0       17.0       1.0   \n",
              "9  8290  2013-06-03       77     50.0    3.0    2.0        5.0       2.0   \n",
              "\n",
              "  build_year  num_room  kitch_sq  full_all                 sub_area  price_doc  \n",
              "0     1907.0       1.0      12.0     75377                Hamovniki    2750000  \n",
              "1     1980.0       2.0       8.0     68630                Lianozovo    9000000  \n",
              "2     2014.0       3.0      12.0      9553  Poselenie Voskresenskoe    7011550  \n",
              "3     1970.0       2.0       6.0     78616          Severnoe Butovo    7100000  \n",
              "4     1982.0       1.0       8.0    112804           Filevskij Park    6450000  \n",
              "5     2013.0       2.0       1.0    247469               Nekrasovka    5903808  \n",
              "6     2004.0       3.0       9.0     27992       Juzhnoe Medvedkovo   12100000  \n",
              "7     2013.0       3.0       1.0      5740   Poselenie Pervomajskoe    5427640  \n",
              "8     2003.0       2.0       9.0    125111                 Solncevo    7700000  \n",
              "9     1957.0       3.0       8.0   1100773                Ajeroport   11700000  "
            ],
            "text/html": [
              "\n",
              "  <div id=\"df-0000ef00-8617-4acd-b5e2-4810c7ae27ca\">\n",
              "    <div class=\"colab-df-container\">\n",
              "      <div>\n",
              "<style scoped>\n",
              "    .dataframe tbody tr th:only-of-type {\n",
              "        vertical-align: middle;\n",
              "    }\n",
              "\n",
              "    .dataframe tbody tr th {\n",
              "        vertical-align: top;\n",
              "    }\n",
              "\n",
              "    .dataframe thead th {\n",
              "        text-align: right;\n",
              "    }\n",
              "</style>\n",
              "<table border=\"1\" class=\"dataframe\">\n",
              "  <thead>\n",
              "    <tr style=\"text-align: right;\">\n",
              "      <th></th>\n",
              "      <th>id</th>\n",
              "      <th>timestamp</th>\n",
              "      <th>full_sq</th>\n",
              "      <th>life_sq</th>\n",
              "      <th>floor</th>\n",
              "      <th>state</th>\n",
              "      <th>max_floor</th>\n",
              "      <th>material</th>\n",
              "      <th>build_year</th>\n",
              "      <th>num_room</th>\n",
              "      <th>kitch_sq</th>\n",
              "      <th>full_all</th>\n",
              "      <th>sub_area</th>\n",
              "      <th>price_doc</th>\n",
              "    </tr>\n",
              "  </thead>\n",
              "  <tbody>\n",
              "    <tr>\n",
              "      <th>0</th>\n",
              "      <td>8059</td>\n",
              "      <td>2013-05-21</td>\n",
              "      <td>11</td>\n",
              "      <td>11.0</td>\n",
              "      <td>2.0</td>\n",
              "      <td>3.0</td>\n",
              "      <td>5.0</td>\n",
              "      <td>2.0</td>\n",
              "      <td>1907.0</td>\n",
              "      <td>1.0</td>\n",
              "      <td>12.0</td>\n",
              "      <td>75377</td>\n",
              "      <td>Hamovniki</td>\n",
              "      <td>2750000</td>\n",
              "    </tr>\n",
              "    <tr>\n",
              "      <th>1</th>\n",
              "      <td>8138</td>\n",
              "      <td>2013-05-25</td>\n",
              "      <td>53</td>\n",
              "      <td>30.0</td>\n",
              "      <td>10.0</td>\n",
              "      <td>3.0</td>\n",
              "      <td>16.0</td>\n",
              "      <td>1.0</td>\n",
              "      <td>1980.0</td>\n",
              "      <td>2.0</td>\n",
              "      <td>8.0</td>\n",
              "      <td>68630</td>\n",
              "      <td>Lianozovo</td>\n",
              "      <td>9000000</td>\n",
              "    </tr>\n",
              "    <tr>\n",
              "      <th>2</th>\n",
              "      <td>8156</td>\n",
              "      <td>2013-05-27</td>\n",
              "      <td>77</td>\n",
              "      <td>41.0</td>\n",
              "      <td>2.0</td>\n",
              "      <td>1.0</td>\n",
              "      <td>17.0</td>\n",
              "      <td>6.0</td>\n",
              "      <td>2014.0</td>\n",
              "      <td>3.0</td>\n",
              "      <td>12.0</td>\n",
              "      <td>9553</td>\n",
              "      <td>Poselenie Voskresenskoe</td>\n",
              "      <td>7011550</td>\n",
              "    </tr>\n",
              "    <tr>\n",
              "      <th>3</th>\n",
              "      <td>8157</td>\n",
              "      <td>2013-05-27</td>\n",
              "      <td>45</td>\n",
              "      <td>27.0</td>\n",
              "      <td>6.0</td>\n",
              "      <td>3.0</td>\n",
              "      <td>9.0</td>\n",
              "      <td>1.0</td>\n",
              "      <td>1970.0</td>\n",
              "      <td>2.0</td>\n",
              "      <td>6.0</td>\n",
              "      <td>78616</td>\n",
              "      <td>Severnoe Butovo</td>\n",
              "      <td>7100000</td>\n",
              "    </tr>\n",
              "    <tr>\n",
              "      <th>4</th>\n",
              "      <td>8178</td>\n",
              "      <td>2013-05-28</td>\n",
              "      <td>38</td>\n",
              "      <td>20.0</td>\n",
              "      <td>15.0</td>\n",
              "      <td>NaN</td>\n",
              "      <td>16.0</td>\n",
              "      <td>1.0</td>\n",
              "      <td>1982.0</td>\n",
              "      <td>1.0</td>\n",
              "      <td>8.0</td>\n",
              "      <td>112804</td>\n",
              "      <td>Filevskij Park</td>\n",
              "      <td>6450000</td>\n",
              "    </tr>\n",
              "    <tr>\n",
              "      <th>5</th>\n",
              "      <td>8189</td>\n",
              "      <td>2013-05-28</td>\n",
              "      <td>63</td>\n",
              "      <td>NaN</td>\n",
              "      <td>17.0</td>\n",
              "      <td>1.0</td>\n",
              "      <td>17.0</td>\n",
              "      <td>4.0</td>\n",
              "      <td>2013.0</td>\n",
              "      <td>2.0</td>\n",
              "      <td>1.0</td>\n",
              "      <td>247469</td>\n",
              "      <td>Nekrasovka</td>\n",
              "      <td>5903808</td>\n",
              "    </tr>\n",
              "    <tr>\n",
              "      <th>6</th>\n",
              "      <td>8258</td>\n",
              "      <td>2013-05-30</td>\n",
              "      <td>74</td>\n",
              "      <td>46.0</td>\n",
              "      <td>12.0</td>\n",
              "      <td>3.0</td>\n",
              "      <td>24.0</td>\n",
              "      <td>1.0</td>\n",
              "      <td>2004.0</td>\n",
              "      <td>3.0</td>\n",
              "      <td>9.0</td>\n",
              "      <td>27992</td>\n",
              "      <td>Juzhnoe Medvedkovo</td>\n",
              "      <td>12100000</td>\n",
              "    </tr>\n",
              "    <tr>\n",
              "      <th>7</th>\n",
              "      <td>8271</td>\n",
              "      <td>2013-05-31</td>\n",
              "      <td>93</td>\n",
              "      <td>93.0</td>\n",
              "      <td>3.0</td>\n",
              "      <td>1.0</td>\n",
              "      <td>1.0</td>\n",
              "      <td>1.0</td>\n",
              "      <td>2013.0</td>\n",
              "      <td>3.0</td>\n",
              "      <td>1.0</td>\n",
              "      <td>5740</td>\n",
              "      <td>Poselenie Pervomajskoe</td>\n",
              "      <td>5427640</td>\n",
              "    </tr>\n",
              "    <tr>\n",
              "      <th>8</th>\n",
              "      <td>8285</td>\n",
              "      <td>2013-06-01</td>\n",
              "      <td>51</td>\n",
              "      <td>30.0</td>\n",
              "      <td>7.0</td>\n",
              "      <td>3.0</td>\n",
              "      <td>17.0</td>\n",
              "      <td>1.0</td>\n",
              "      <td>2003.0</td>\n",
              "      <td>2.0</td>\n",
              "      <td>9.0</td>\n",
              "      <td>125111</td>\n",
              "      <td>Solncevo</td>\n",
              "      <td>7700000</td>\n",
              "    </tr>\n",
              "    <tr>\n",
              "      <th>9</th>\n",
              "      <td>8290</td>\n",
              "      <td>2013-06-03</td>\n",
              "      <td>77</td>\n",
              "      <td>50.0</td>\n",
              "      <td>3.0</td>\n",
              "      <td>2.0</td>\n",
              "      <td>5.0</td>\n",
              "      <td>2.0</td>\n",
              "      <td>1957.0</td>\n",
              "      <td>3.0</td>\n",
              "      <td>8.0</td>\n",
              "      <td>1100773</td>\n",
              "      <td>Ajeroport</td>\n",
              "      <td>11700000</td>\n",
              "    </tr>\n",
              "  </tbody>\n",
              "</table>\n",
              "</div>\n",
              "      <button class=\"colab-df-convert\" onclick=\"convertToInteractive('df-0000ef00-8617-4acd-b5e2-4810c7ae27ca')\"\n",
              "              title=\"Convert this dataframe to an interactive table.\"\n",
              "              style=\"display:none;\">\n",
              "        \n",
              "  <svg xmlns=\"http://www.w3.org/2000/svg\" height=\"24px\"viewBox=\"0 0 24 24\"\n",
              "       width=\"24px\">\n",
              "    <path d=\"M0 0h24v24H0V0z\" fill=\"none\"/>\n",
              "    <path d=\"M18.56 5.44l.94 2.06.94-2.06 2.06-.94-2.06-.94-.94-2.06-.94 2.06-2.06.94zm-11 1L8.5 8.5l.94-2.06 2.06-.94-2.06-.94L8.5 2.5l-.94 2.06-2.06.94zm10 10l.94 2.06.94-2.06 2.06-.94-2.06-.94-.94-2.06-.94 2.06-2.06.94z\"/><path d=\"M17.41 7.96l-1.37-1.37c-.4-.4-.92-.59-1.43-.59-.52 0-1.04.2-1.43.59L10.3 9.45l-7.72 7.72c-.78.78-.78 2.05 0 2.83L4 21.41c.39.39.9.59 1.41.59.51 0 1.02-.2 1.41-.59l7.78-7.78 2.81-2.81c.8-.78.8-2.07 0-2.86zM5.41 20L4 18.59l7.72-7.72 1.47 1.35L5.41 20z\"/>\n",
              "  </svg>\n",
              "      </button>\n",
              "      \n",
              "  <style>\n",
              "    .colab-df-container {\n",
              "      display:flex;\n",
              "      flex-wrap:wrap;\n",
              "      gap: 12px;\n",
              "    }\n",
              "\n",
              "    .colab-df-convert {\n",
              "      background-color: #E8F0FE;\n",
              "      border: none;\n",
              "      border-radius: 50%;\n",
              "      cursor: pointer;\n",
              "      display: none;\n",
              "      fill: #1967D2;\n",
              "      height: 32px;\n",
              "      padding: 0 0 0 0;\n",
              "      width: 32px;\n",
              "    }\n",
              "\n",
              "    .colab-df-convert:hover {\n",
              "      background-color: #E2EBFA;\n",
              "      box-shadow: 0px 1px 2px rgba(60, 64, 67, 0.3), 0px 1px 3px 1px rgba(60, 64, 67, 0.15);\n",
              "      fill: #174EA6;\n",
              "    }\n",
              "\n",
              "    [theme=dark] .colab-df-convert {\n",
              "      background-color: #3B4455;\n",
              "      fill: #D2E3FC;\n",
              "    }\n",
              "\n",
              "    [theme=dark] .colab-df-convert:hover {\n",
              "      background-color: #434B5C;\n",
              "      box-shadow: 0px 1px 3px 1px rgba(0, 0, 0, 0.15);\n",
              "      filter: drop-shadow(0px 1px 2px rgba(0, 0, 0, 0.3));\n",
              "      fill: #FFFFFF;\n",
              "    }\n",
              "  </style>\n",
              "\n",
              "      <script>\n",
              "        const buttonEl =\n",
              "          document.querySelector('#df-0000ef00-8617-4acd-b5e2-4810c7ae27ca button.colab-df-convert');\n",
              "        buttonEl.style.display =\n",
              "          google.colab.kernel.accessAllowed ? 'block' : 'none';\n",
              "\n",
              "        async function convertToInteractive(key) {\n",
              "          const element = document.querySelector('#df-0000ef00-8617-4acd-b5e2-4810c7ae27ca');\n",
              "          const dataTable =\n",
              "            await google.colab.kernel.invokeFunction('convertToInteractive',\n",
              "                                                     [key], {});\n",
              "          if (!dataTable) return;\n",
              "\n",
              "          const docLinkHtml = 'Like what you see? Visit the ' +\n",
              "            '<a target=\"_blank\" href=https://colab.research.google.com/notebooks/data_table.ipynb>data table notebook</a>'\n",
              "            + ' to learn more about interactive tables.';\n",
              "          element.innerHTML = '';\n",
              "          dataTable['output_type'] = 'display_data';\n",
              "          await google.colab.output.renderOutput(dataTable, element);\n",
              "          const docLink = document.createElement('div');\n",
              "          docLink.innerHTML = docLinkHtml;\n",
              "          element.appendChild(docLink);\n",
              "        }\n",
              "      </script>\n",
              "    </div>\n",
              "  </div>\n",
              "  "
            ]
          },
          "metadata": {},
          "execution_count": 3
        }
      ]
    },
    {
      "cell_type": "code",
      "source": [
        "df.sample(10)"
      ],
      "metadata": {
        "colab": {
          "base_uri": "https://localhost:8080/",
          "height": 363
        },
        "id": "7i18ZzHttlJ9",
        "outputId": "6a122371-053d-4b97-9a28-4af7e9d25630"
      },
      "execution_count": 4,
      "outputs": [
        {
          "output_type": "execute_result",
          "data": {
            "text/plain": [
              "          id   timestamp  full_sq  life_sq  floor  state  max_floor  material  \\\n",
              "12741  25272  2014-11-25       55     26.0    4.0    3.0       22.0       6.0   \n",
              "16365  29834  2015-05-20       58     43.0    6.0    2.0        9.0       1.0   \n",
              "8261   19673  2014-06-16      102     69.0   14.0    4.0       22.0       4.0   \n",
              "16088  29453  2015-04-28       48     16.0    4.0    1.0       17.0       6.0   \n",
              "13991  26837  2014-12-19       39     20.0   16.0    3.0       22.0       1.0   \n",
              "1269   11174  2013-10-11       64     38.0    7.0    3.0       12.0       1.0   \n",
              "5875   16784  2014-03-31       32     18.0    7.0    2.0        9.0       1.0   \n",
              "13638  26399  2014-12-15       59     42.0    4.0    3.0        9.0       1.0   \n",
              "7938   19269  2014-06-03       37     19.0   11.0    3.0       12.0       1.0   \n",
              "6405   17408  2014-04-15       51     30.0    5.0    3.0       17.0       1.0   \n",
              "\n",
              "      build_year  num_room  kitch_sq  full_all              sub_area  \\\n",
              "12741     2006.0       1.0      12.0    111023  Ochakovo-Matveevskoe   \n",
              "16365     1975.0       3.0       6.0     90114           Teplyj Stan   \n",
              "8261      2009.0       3.0       8.0    166803              Shhukino   \n",
              "16088     2015.0       1.0      13.0      7341  Poselenie Moskovskij   \n",
              "13991     1996.0       1.0      10.0    165727               Mar'ino   \n",
              "1269      1981.0       3.0       8.0    156377              Strogino   \n",
              "5875      1969.0       1.0       6.0   1318695      Vyhino-Zhulebino   \n",
              "13638     1968.0       3.0       6.0    113897    Troparevo-Nikulino   \n",
              "7938      1981.0       1.0       8.0     86206              Bibirevo   \n",
              "6405      1983.0       2.0       8.0   1716730  Birjulevo Vostochnoe   \n",
              "\n",
              "       price_doc  \n",
              "12741   11500000  \n",
              "16365   10500000  \n",
              "8261    31500000  \n",
              "16088    6494997  \n",
              "13991    7100000  \n",
              "1269     2000000  \n",
              "5875     4600000  \n",
              "13638    4900000  \n",
              "7938     3700000  \n",
              "6405     7200000  "
            ],
            "text/html": [
              "\n",
              "  <div id=\"df-0dcac89a-f4dd-4920-b289-d9ee8983f859\">\n",
              "    <div class=\"colab-df-container\">\n",
              "      <div>\n",
              "<style scoped>\n",
              "    .dataframe tbody tr th:only-of-type {\n",
              "        vertical-align: middle;\n",
              "    }\n",
              "\n",
              "    .dataframe tbody tr th {\n",
              "        vertical-align: top;\n",
              "    }\n",
              "\n",
              "    .dataframe thead th {\n",
              "        text-align: right;\n",
              "    }\n",
              "</style>\n",
              "<table border=\"1\" class=\"dataframe\">\n",
              "  <thead>\n",
              "    <tr style=\"text-align: right;\">\n",
              "      <th></th>\n",
              "      <th>id</th>\n",
              "      <th>timestamp</th>\n",
              "      <th>full_sq</th>\n",
              "      <th>life_sq</th>\n",
              "      <th>floor</th>\n",
              "      <th>state</th>\n",
              "      <th>max_floor</th>\n",
              "      <th>material</th>\n",
              "      <th>build_year</th>\n",
              "      <th>num_room</th>\n",
              "      <th>kitch_sq</th>\n",
              "      <th>full_all</th>\n",
              "      <th>sub_area</th>\n",
              "      <th>price_doc</th>\n",
              "    </tr>\n",
              "  </thead>\n",
              "  <tbody>\n",
              "    <tr>\n",
              "      <th>12741</th>\n",
              "      <td>25272</td>\n",
              "      <td>2014-11-25</td>\n",
              "      <td>55</td>\n",
              "      <td>26.0</td>\n",
              "      <td>4.0</td>\n",
              "      <td>3.0</td>\n",
              "      <td>22.0</td>\n",
              "      <td>6.0</td>\n",
              "      <td>2006.0</td>\n",
              "      <td>1.0</td>\n",
              "      <td>12.0</td>\n",
              "      <td>111023</td>\n",
              "      <td>Ochakovo-Matveevskoe</td>\n",
              "      <td>11500000</td>\n",
              "    </tr>\n",
              "    <tr>\n",
              "      <th>16365</th>\n",
              "      <td>29834</td>\n",
              "      <td>2015-05-20</td>\n",
              "      <td>58</td>\n",
              "      <td>43.0</td>\n",
              "      <td>6.0</td>\n",
              "      <td>2.0</td>\n",
              "      <td>9.0</td>\n",
              "      <td>1.0</td>\n",
              "      <td>1975.0</td>\n",
              "      <td>3.0</td>\n",
              "      <td>6.0</td>\n",
              "      <td>90114</td>\n",
              "      <td>Teplyj Stan</td>\n",
              "      <td>10500000</td>\n",
              "    </tr>\n",
              "    <tr>\n",
              "      <th>8261</th>\n",
              "      <td>19673</td>\n",
              "      <td>2014-06-16</td>\n",
              "      <td>102</td>\n",
              "      <td>69.0</td>\n",
              "      <td>14.0</td>\n",
              "      <td>4.0</td>\n",
              "      <td>22.0</td>\n",
              "      <td>4.0</td>\n",
              "      <td>2009.0</td>\n",
              "      <td>3.0</td>\n",
              "      <td>8.0</td>\n",
              "      <td>166803</td>\n",
              "      <td>Shhukino</td>\n",
              "      <td>31500000</td>\n",
              "    </tr>\n",
              "    <tr>\n",
              "      <th>16088</th>\n",
              "      <td>29453</td>\n",
              "      <td>2015-04-28</td>\n",
              "      <td>48</td>\n",
              "      <td>16.0</td>\n",
              "      <td>4.0</td>\n",
              "      <td>1.0</td>\n",
              "      <td>17.0</td>\n",
              "      <td>6.0</td>\n",
              "      <td>2015.0</td>\n",
              "      <td>1.0</td>\n",
              "      <td>13.0</td>\n",
              "      <td>7341</td>\n",
              "      <td>Poselenie Moskovskij</td>\n",
              "      <td>6494997</td>\n",
              "    </tr>\n",
              "    <tr>\n",
              "      <th>13991</th>\n",
              "      <td>26837</td>\n",
              "      <td>2014-12-19</td>\n",
              "      <td>39</td>\n",
              "      <td>20.0</td>\n",
              "      <td>16.0</td>\n",
              "      <td>3.0</td>\n",
              "      <td>22.0</td>\n",
              "      <td>1.0</td>\n",
              "      <td>1996.0</td>\n",
              "      <td>1.0</td>\n",
              "      <td>10.0</td>\n",
              "      <td>165727</td>\n",
              "      <td>Mar'ino</td>\n",
              "      <td>7100000</td>\n",
              "    </tr>\n",
              "    <tr>\n",
              "      <th>1269</th>\n",
              "      <td>11174</td>\n",
              "      <td>2013-10-11</td>\n",
              "      <td>64</td>\n",
              "      <td>38.0</td>\n",
              "      <td>7.0</td>\n",
              "      <td>3.0</td>\n",
              "      <td>12.0</td>\n",
              "      <td>1.0</td>\n",
              "      <td>1981.0</td>\n",
              "      <td>3.0</td>\n",
              "      <td>8.0</td>\n",
              "      <td>156377</td>\n",
              "      <td>Strogino</td>\n",
              "      <td>2000000</td>\n",
              "    </tr>\n",
              "    <tr>\n",
              "      <th>5875</th>\n",
              "      <td>16784</td>\n",
              "      <td>2014-03-31</td>\n",
              "      <td>32</td>\n",
              "      <td>18.0</td>\n",
              "      <td>7.0</td>\n",
              "      <td>2.0</td>\n",
              "      <td>9.0</td>\n",
              "      <td>1.0</td>\n",
              "      <td>1969.0</td>\n",
              "      <td>1.0</td>\n",
              "      <td>6.0</td>\n",
              "      <td>1318695</td>\n",
              "      <td>Vyhino-Zhulebino</td>\n",
              "      <td>4600000</td>\n",
              "    </tr>\n",
              "    <tr>\n",
              "      <th>13638</th>\n",
              "      <td>26399</td>\n",
              "      <td>2014-12-15</td>\n",
              "      <td>59</td>\n",
              "      <td>42.0</td>\n",
              "      <td>4.0</td>\n",
              "      <td>3.0</td>\n",
              "      <td>9.0</td>\n",
              "      <td>1.0</td>\n",
              "      <td>1968.0</td>\n",
              "      <td>3.0</td>\n",
              "      <td>6.0</td>\n",
              "      <td>113897</td>\n",
              "      <td>Troparevo-Nikulino</td>\n",
              "      <td>4900000</td>\n",
              "    </tr>\n",
              "    <tr>\n",
              "      <th>7938</th>\n",
              "      <td>19269</td>\n",
              "      <td>2014-06-03</td>\n",
              "      <td>37</td>\n",
              "      <td>19.0</td>\n",
              "      <td>11.0</td>\n",
              "      <td>3.0</td>\n",
              "      <td>12.0</td>\n",
              "      <td>1.0</td>\n",
              "      <td>1981.0</td>\n",
              "      <td>1.0</td>\n",
              "      <td>8.0</td>\n",
              "      <td>86206</td>\n",
              "      <td>Bibirevo</td>\n",
              "      <td>3700000</td>\n",
              "    </tr>\n",
              "    <tr>\n",
              "      <th>6405</th>\n",
              "      <td>17408</td>\n",
              "      <td>2014-04-15</td>\n",
              "      <td>51</td>\n",
              "      <td>30.0</td>\n",
              "      <td>5.0</td>\n",
              "      <td>3.0</td>\n",
              "      <td>17.0</td>\n",
              "      <td>1.0</td>\n",
              "      <td>1983.0</td>\n",
              "      <td>2.0</td>\n",
              "      <td>8.0</td>\n",
              "      <td>1716730</td>\n",
              "      <td>Birjulevo Vostochnoe</td>\n",
              "      <td>7200000</td>\n",
              "    </tr>\n",
              "  </tbody>\n",
              "</table>\n",
              "</div>\n",
              "      <button class=\"colab-df-convert\" onclick=\"convertToInteractive('df-0dcac89a-f4dd-4920-b289-d9ee8983f859')\"\n",
              "              title=\"Convert this dataframe to an interactive table.\"\n",
              "              style=\"display:none;\">\n",
              "        \n",
              "  <svg xmlns=\"http://www.w3.org/2000/svg\" height=\"24px\"viewBox=\"0 0 24 24\"\n",
              "       width=\"24px\">\n",
              "    <path d=\"M0 0h24v24H0V0z\" fill=\"none\"/>\n",
              "    <path d=\"M18.56 5.44l.94 2.06.94-2.06 2.06-.94-2.06-.94-.94-2.06-.94 2.06-2.06.94zm-11 1L8.5 8.5l.94-2.06 2.06-.94-2.06-.94L8.5 2.5l-.94 2.06-2.06.94zm10 10l.94 2.06.94-2.06 2.06-.94-2.06-.94-.94-2.06-.94 2.06-2.06.94z\"/><path d=\"M17.41 7.96l-1.37-1.37c-.4-.4-.92-.59-1.43-.59-.52 0-1.04.2-1.43.59L10.3 9.45l-7.72 7.72c-.78.78-.78 2.05 0 2.83L4 21.41c.39.39.9.59 1.41.59.51 0 1.02-.2 1.41-.59l7.78-7.78 2.81-2.81c.8-.78.8-2.07 0-2.86zM5.41 20L4 18.59l7.72-7.72 1.47 1.35L5.41 20z\"/>\n",
              "  </svg>\n",
              "      </button>\n",
              "      \n",
              "  <style>\n",
              "    .colab-df-container {\n",
              "      display:flex;\n",
              "      flex-wrap:wrap;\n",
              "      gap: 12px;\n",
              "    }\n",
              "\n",
              "    .colab-df-convert {\n",
              "      background-color: #E8F0FE;\n",
              "      border: none;\n",
              "      border-radius: 50%;\n",
              "      cursor: pointer;\n",
              "      display: none;\n",
              "      fill: #1967D2;\n",
              "      height: 32px;\n",
              "      padding: 0 0 0 0;\n",
              "      width: 32px;\n",
              "    }\n",
              "\n",
              "    .colab-df-convert:hover {\n",
              "      background-color: #E2EBFA;\n",
              "      box-shadow: 0px 1px 2px rgba(60, 64, 67, 0.3), 0px 1px 3px 1px rgba(60, 64, 67, 0.15);\n",
              "      fill: #174EA6;\n",
              "    }\n",
              "\n",
              "    [theme=dark] .colab-df-convert {\n",
              "      background-color: #3B4455;\n",
              "      fill: #D2E3FC;\n",
              "    }\n",
              "\n",
              "    [theme=dark] .colab-df-convert:hover {\n",
              "      background-color: #434B5C;\n",
              "      box-shadow: 0px 1px 3px 1px rgba(0, 0, 0, 0.15);\n",
              "      filter: drop-shadow(0px 1px 2px rgba(0, 0, 0, 0.3));\n",
              "      fill: #FFFFFF;\n",
              "    }\n",
              "  </style>\n",
              "\n",
              "      <script>\n",
              "        const buttonEl =\n",
              "          document.querySelector('#df-0dcac89a-f4dd-4920-b289-d9ee8983f859 button.colab-df-convert');\n",
              "        buttonEl.style.display =\n",
              "          google.colab.kernel.accessAllowed ? 'block' : 'none';\n",
              "\n",
              "        async function convertToInteractive(key) {\n",
              "          const element = document.querySelector('#df-0dcac89a-f4dd-4920-b289-d9ee8983f859');\n",
              "          const dataTable =\n",
              "            await google.colab.kernel.invokeFunction('convertToInteractive',\n",
              "                                                     [key], {});\n",
              "          if (!dataTable) return;\n",
              "\n",
              "          const docLinkHtml = 'Like what you see? Visit the ' +\n",
              "            '<a target=\"_blank\" href=https://colab.research.google.com/notebooks/data_table.ipynb>data table notebook</a>'\n",
              "            + ' to learn more about interactive tables.';\n",
              "          element.innerHTML = '';\n",
              "          dataTable['output_type'] = 'display_data';\n",
              "          await google.colab.output.renderOutput(dataTable, element);\n",
              "          const docLink = document.createElement('div');\n",
              "          docLink.innerHTML = docLinkHtml;\n",
              "          element.appendChild(docLink);\n",
              "        }\n",
              "      </script>\n",
              "    </div>\n",
              "  </div>\n",
              "  "
            ]
          },
          "metadata": {},
          "execution_count": 4
        }
      ]
    },
    {
      "cell_type": "markdown",
      "source": [
        "Размер набора данных"
      ],
      "metadata": {
        "id": "5bIgx3BZWb7W"
      }
    },
    {
      "cell_type": "code",
      "metadata": {
        "id": "8YtRZ5qi0epJ",
        "colab": {
          "base_uri": "https://localhost:8080/"
        },
        "outputId": "221ab90a-e3f3-4c9b-d577-c78ac82d5678"
      },
      "source": [
        "df.shape"
      ],
      "execution_count": 5,
      "outputs": [
        {
          "output_type": "execute_result",
          "data": {
            "text/plain": [
              "(18866, 14)"
            ]
          },
          "metadata": {},
          "execution_count": 5
        }
      ]
    },
    {
      "cell_type": "code",
      "source": [
        "df.size"
      ],
      "metadata": {
        "colab": {
          "base_uri": "https://localhost:8080/"
        },
        "id": "IimpNHYxPd2h",
        "outputId": "1114f74e-ddd5-40ab-8796-eac0c06d325f"
      },
      "execution_count": 6,
      "outputs": [
        {
          "output_type": "execute_result",
          "data": {
            "text/plain": [
              "264124"
            ]
          },
          "metadata": {},
          "execution_count": 6
        }
      ]
    },
    {
      "cell_type": "markdown",
      "source": [
        "Описание типов данных по признакам"
      ],
      "metadata": {
        "id": "hw0FkRPTT4LQ"
      }
    },
    {
      "cell_type": "markdown",
      "source": [
        "##### TODO: maybe simplify later"
      ],
      "metadata": {
        "id": "Bm5SllwPmfen"
      }
    },
    {
      "cell_type": "code",
      "source": [
        "df['timestamp'] = pd.to_datetime(df['timestamp'])"
      ],
      "metadata": {
        "id": "Nd4dHl_bRkQS"
      },
      "execution_count": 7,
      "outputs": []
    },
    {
      "cell_type": "code",
      "source": [
        "pattern = re.compile(\"^[0-9]{4}\\.[0-9]$\")\n",
        "df['build_year'] = df['build_year'].apply(lambda x: x[:4] if isinstance(x, str) and pattern.match(x) else np.nan)"
      ],
      "metadata": {
        "id": "Pl_gn2TuYwuQ"
      },
      "execution_count": 8,
      "outputs": []
    },
    {
      "cell_type": "code",
      "source": [
        "df['build_year'] = pd.to_numeric(df['build_year'], downcast='integer')"
      ],
      "metadata": {
        "id": "m0a_nI_zjINs"
      },
      "execution_count": 9,
      "outputs": []
    },
    {
      "cell_type": "code",
      "source": [
        "df['build_year'] = pd.to_datetime(df['build_year'], format='%Y', errors='coerce')"
      ],
      "metadata": {
        "id": "leCx6IAymCvO"
      },
      "execution_count": 10,
      "outputs": []
    },
    {
      "cell_type": "code",
      "source": [
        "df.head()"
      ],
      "metadata": {
        "colab": {
          "base_uri": "https://localhost:8080/",
          "height": 206
        },
        "id": "ulgTGK7igU4D",
        "outputId": "0ccd0e0a-479f-4a86-e225-5bfedd879934"
      },
      "execution_count": 11,
      "outputs": [
        {
          "output_type": "execute_result",
          "data": {
            "text/plain": [
              "     id  timestamp  full_sq  life_sq  floor  state  max_floor  material  \\\n",
              "0  8059 2013-05-21       11     11.0    2.0    3.0        5.0       2.0   \n",
              "1  8138 2013-05-25       53     30.0   10.0    3.0       16.0       1.0   \n",
              "2  8156 2013-05-27       77     41.0    2.0    1.0       17.0       6.0   \n",
              "3  8157 2013-05-27       45     27.0    6.0    3.0        9.0       1.0   \n",
              "4  8178 2013-05-28       38     20.0   15.0    NaN       16.0       1.0   \n",
              "\n",
              "  build_year  num_room  kitch_sq  full_all                 sub_area  price_doc  \n",
              "0 1907-01-01       1.0      12.0     75377                Hamovniki    2750000  \n",
              "1 1980-01-01       2.0       8.0     68630                Lianozovo    9000000  \n",
              "2 2014-01-01       3.0      12.0      9553  Poselenie Voskresenskoe    7011550  \n",
              "3 1970-01-01       2.0       6.0     78616          Severnoe Butovo    7100000  \n",
              "4 1982-01-01       1.0       8.0    112804           Filevskij Park    6450000  "
            ],
            "text/html": [
              "\n",
              "  <div id=\"df-1541fdc7-5732-4366-a423-e8d2b5a7a243\">\n",
              "    <div class=\"colab-df-container\">\n",
              "      <div>\n",
              "<style scoped>\n",
              "    .dataframe tbody tr th:only-of-type {\n",
              "        vertical-align: middle;\n",
              "    }\n",
              "\n",
              "    .dataframe tbody tr th {\n",
              "        vertical-align: top;\n",
              "    }\n",
              "\n",
              "    .dataframe thead th {\n",
              "        text-align: right;\n",
              "    }\n",
              "</style>\n",
              "<table border=\"1\" class=\"dataframe\">\n",
              "  <thead>\n",
              "    <tr style=\"text-align: right;\">\n",
              "      <th></th>\n",
              "      <th>id</th>\n",
              "      <th>timestamp</th>\n",
              "      <th>full_sq</th>\n",
              "      <th>life_sq</th>\n",
              "      <th>floor</th>\n",
              "      <th>state</th>\n",
              "      <th>max_floor</th>\n",
              "      <th>material</th>\n",
              "      <th>build_year</th>\n",
              "      <th>num_room</th>\n",
              "      <th>kitch_sq</th>\n",
              "      <th>full_all</th>\n",
              "      <th>sub_area</th>\n",
              "      <th>price_doc</th>\n",
              "    </tr>\n",
              "  </thead>\n",
              "  <tbody>\n",
              "    <tr>\n",
              "      <th>0</th>\n",
              "      <td>8059</td>\n",
              "      <td>2013-05-21</td>\n",
              "      <td>11</td>\n",
              "      <td>11.0</td>\n",
              "      <td>2.0</td>\n",
              "      <td>3.0</td>\n",
              "      <td>5.0</td>\n",
              "      <td>2.0</td>\n",
              "      <td>1907-01-01</td>\n",
              "      <td>1.0</td>\n",
              "      <td>12.0</td>\n",
              "      <td>75377</td>\n",
              "      <td>Hamovniki</td>\n",
              "      <td>2750000</td>\n",
              "    </tr>\n",
              "    <tr>\n",
              "      <th>1</th>\n",
              "      <td>8138</td>\n",
              "      <td>2013-05-25</td>\n",
              "      <td>53</td>\n",
              "      <td>30.0</td>\n",
              "      <td>10.0</td>\n",
              "      <td>3.0</td>\n",
              "      <td>16.0</td>\n",
              "      <td>1.0</td>\n",
              "      <td>1980-01-01</td>\n",
              "      <td>2.0</td>\n",
              "      <td>8.0</td>\n",
              "      <td>68630</td>\n",
              "      <td>Lianozovo</td>\n",
              "      <td>9000000</td>\n",
              "    </tr>\n",
              "    <tr>\n",
              "      <th>2</th>\n",
              "      <td>8156</td>\n",
              "      <td>2013-05-27</td>\n",
              "      <td>77</td>\n",
              "      <td>41.0</td>\n",
              "      <td>2.0</td>\n",
              "      <td>1.0</td>\n",
              "      <td>17.0</td>\n",
              "      <td>6.0</td>\n",
              "      <td>2014-01-01</td>\n",
              "      <td>3.0</td>\n",
              "      <td>12.0</td>\n",
              "      <td>9553</td>\n",
              "      <td>Poselenie Voskresenskoe</td>\n",
              "      <td>7011550</td>\n",
              "    </tr>\n",
              "    <tr>\n",
              "      <th>3</th>\n",
              "      <td>8157</td>\n",
              "      <td>2013-05-27</td>\n",
              "      <td>45</td>\n",
              "      <td>27.0</td>\n",
              "      <td>6.0</td>\n",
              "      <td>3.0</td>\n",
              "      <td>9.0</td>\n",
              "      <td>1.0</td>\n",
              "      <td>1970-01-01</td>\n",
              "      <td>2.0</td>\n",
              "      <td>6.0</td>\n",
              "      <td>78616</td>\n",
              "      <td>Severnoe Butovo</td>\n",
              "      <td>7100000</td>\n",
              "    </tr>\n",
              "    <tr>\n",
              "      <th>4</th>\n",
              "      <td>8178</td>\n",
              "      <td>2013-05-28</td>\n",
              "      <td>38</td>\n",
              "      <td>20.0</td>\n",
              "      <td>15.0</td>\n",
              "      <td>NaN</td>\n",
              "      <td>16.0</td>\n",
              "      <td>1.0</td>\n",
              "      <td>1982-01-01</td>\n",
              "      <td>1.0</td>\n",
              "      <td>8.0</td>\n",
              "      <td>112804</td>\n",
              "      <td>Filevskij Park</td>\n",
              "      <td>6450000</td>\n",
              "    </tr>\n",
              "  </tbody>\n",
              "</table>\n",
              "</div>\n",
              "      <button class=\"colab-df-convert\" onclick=\"convertToInteractive('df-1541fdc7-5732-4366-a423-e8d2b5a7a243')\"\n",
              "              title=\"Convert this dataframe to an interactive table.\"\n",
              "              style=\"display:none;\">\n",
              "        \n",
              "  <svg xmlns=\"http://www.w3.org/2000/svg\" height=\"24px\"viewBox=\"0 0 24 24\"\n",
              "       width=\"24px\">\n",
              "    <path d=\"M0 0h24v24H0V0z\" fill=\"none\"/>\n",
              "    <path d=\"M18.56 5.44l.94 2.06.94-2.06 2.06-.94-2.06-.94-.94-2.06-.94 2.06-2.06.94zm-11 1L8.5 8.5l.94-2.06 2.06-.94-2.06-.94L8.5 2.5l-.94 2.06-2.06.94zm10 10l.94 2.06.94-2.06 2.06-.94-2.06-.94-.94-2.06-.94 2.06-2.06.94z\"/><path d=\"M17.41 7.96l-1.37-1.37c-.4-.4-.92-.59-1.43-.59-.52 0-1.04.2-1.43.59L10.3 9.45l-7.72 7.72c-.78.78-.78 2.05 0 2.83L4 21.41c.39.39.9.59 1.41.59.51 0 1.02-.2 1.41-.59l7.78-7.78 2.81-2.81c.8-.78.8-2.07 0-2.86zM5.41 20L4 18.59l7.72-7.72 1.47 1.35L5.41 20z\"/>\n",
              "  </svg>\n",
              "      </button>\n",
              "      \n",
              "  <style>\n",
              "    .colab-df-container {\n",
              "      display:flex;\n",
              "      flex-wrap:wrap;\n",
              "      gap: 12px;\n",
              "    }\n",
              "\n",
              "    .colab-df-convert {\n",
              "      background-color: #E8F0FE;\n",
              "      border: none;\n",
              "      border-radius: 50%;\n",
              "      cursor: pointer;\n",
              "      display: none;\n",
              "      fill: #1967D2;\n",
              "      height: 32px;\n",
              "      padding: 0 0 0 0;\n",
              "      width: 32px;\n",
              "    }\n",
              "\n",
              "    .colab-df-convert:hover {\n",
              "      background-color: #E2EBFA;\n",
              "      box-shadow: 0px 1px 2px rgba(60, 64, 67, 0.3), 0px 1px 3px 1px rgba(60, 64, 67, 0.15);\n",
              "      fill: #174EA6;\n",
              "    }\n",
              "\n",
              "    [theme=dark] .colab-df-convert {\n",
              "      background-color: #3B4455;\n",
              "      fill: #D2E3FC;\n",
              "    }\n",
              "\n",
              "    [theme=dark] .colab-df-convert:hover {\n",
              "      background-color: #434B5C;\n",
              "      box-shadow: 0px 1px 3px 1px rgba(0, 0, 0, 0.15);\n",
              "      filter: drop-shadow(0px 1px 2px rgba(0, 0, 0, 0.3));\n",
              "      fill: #FFFFFF;\n",
              "    }\n",
              "  </style>\n",
              "\n",
              "      <script>\n",
              "        const buttonEl =\n",
              "          document.querySelector('#df-1541fdc7-5732-4366-a423-e8d2b5a7a243 button.colab-df-convert');\n",
              "        buttonEl.style.display =\n",
              "          google.colab.kernel.accessAllowed ? 'block' : 'none';\n",
              "\n",
              "        async function convertToInteractive(key) {\n",
              "          const element = document.querySelector('#df-1541fdc7-5732-4366-a423-e8d2b5a7a243');\n",
              "          const dataTable =\n",
              "            await google.colab.kernel.invokeFunction('convertToInteractive',\n",
              "                                                     [key], {});\n",
              "          if (!dataTable) return;\n",
              "\n",
              "          const docLinkHtml = 'Like what you see? Visit the ' +\n",
              "            '<a target=\"_blank\" href=https://colab.research.google.com/notebooks/data_table.ipynb>data table notebook</a>'\n",
              "            + ' to learn more about interactive tables.';\n",
              "          element.innerHTML = '';\n",
              "          dataTable['output_type'] = 'display_data';\n",
              "          await google.colab.output.renderOutput(dataTable, element);\n",
              "          const docLink = document.createElement('div');\n",
              "          docLink.innerHTML = docLinkHtml;\n",
              "          element.appendChild(docLink);\n",
              "        }\n",
              "      </script>\n",
              "    </div>\n",
              "  </div>\n",
              "  "
            ]
          },
          "metadata": {},
          "execution_count": 11
        }
      ]
    },
    {
      "cell_type": "code",
      "source": [
        "# build_year_outlier_index = df['build_year'].idxmin()\n",
        "# df = df.drop([build_year_outlier_index])"
      ],
      "metadata": {
        "id": "AvDOdfye5-px"
      },
      "execution_count": 12,
      "outputs": []
    },
    {
      "cell_type": "code",
      "source": [
        "df.info()"
      ],
      "metadata": {
        "colab": {
          "base_uri": "https://localhost:8080/"
        },
        "id": "5lbdE3zgRF6W",
        "outputId": "fbeacbab-eaa9-4e3c-dc24-d71fccb88a7c"
      },
      "execution_count": 13,
      "outputs": [
        {
          "output_type": "stream",
          "name": "stdout",
          "text": [
            "<class 'pandas.core.frame.DataFrame'>\n",
            "RangeIndex: 18866 entries, 0 to 18865\n",
            "Data columns (total 14 columns):\n",
            " #   Column      Non-Null Count  Dtype         \n",
            "---  ------      --------------  -----         \n",
            " 0   id          18866 non-null  int64         \n",
            " 1   timestamp   18866 non-null  datetime64[ns]\n",
            " 2   full_sq     18866 non-null  int64         \n",
            " 3   life_sq     17291 non-null  float64       \n",
            " 4   floor       18838 non-null  float64       \n",
            " 5   state       15505 non-null  float64       \n",
            " 6   max_floor   17445 non-null  float64       \n",
            " 7   material    17445 non-null  float64       \n",
            " 8   build_year  15961 non-null  datetime64[ns]\n",
            " 9   num_room    17445 non-null  float64       \n",
            " 10  kitch_sq    17445 non-null  float64       \n",
            " 11  full_all    18866 non-null  int64         \n",
            " 12  sub_area    18866 non-null  object        \n",
            " 13  price_doc   18866 non-null  int64         \n",
            "dtypes: datetime64[ns](2), float64(7), int64(4), object(1)\n",
            "memory usage: 2.0+ MB\n"
          ]
        }
      ]
    },
    {
      "cell_type": "code",
      "source": [
        "df.head()"
      ],
      "metadata": {
        "colab": {
          "base_uri": "https://localhost:8080/",
          "height": 206
        },
        "id": "ZIS4FRwvYdi2",
        "outputId": "7d7830b6-707e-472e-a33f-c519c7e3deac"
      },
      "execution_count": 14,
      "outputs": [
        {
          "output_type": "execute_result",
          "data": {
            "text/plain": [
              "     id  timestamp  full_sq  life_sq  floor  state  max_floor  material  \\\n",
              "0  8059 2013-05-21       11     11.0    2.0    3.0        5.0       2.0   \n",
              "1  8138 2013-05-25       53     30.0   10.0    3.0       16.0       1.0   \n",
              "2  8156 2013-05-27       77     41.0    2.0    1.0       17.0       6.0   \n",
              "3  8157 2013-05-27       45     27.0    6.0    3.0        9.0       1.0   \n",
              "4  8178 2013-05-28       38     20.0   15.0    NaN       16.0       1.0   \n",
              "\n",
              "  build_year  num_room  kitch_sq  full_all                 sub_area  price_doc  \n",
              "0 1907-01-01       1.0      12.0     75377                Hamovniki    2750000  \n",
              "1 1980-01-01       2.0       8.0     68630                Lianozovo    9000000  \n",
              "2 2014-01-01       3.0      12.0      9553  Poselenie Voskresenskoe    7011550  \n",
              "3 1970-01-01       2.0       6.0     78616          Severnoe Butovo    7100000  \n",
              "4 1982-01-01       1.0       8.0    112804           Filevskij Park    6450000  "
            ],
            "text/html": [
              "\n",
              "  <div id=\"df-31840971-6c17-484c-9fd0-fea5a3db8577\">\n",
              "    <div class=\"colab-df-container\">\n",
              "      <div>\n",
              "<style scoped>\n",
              "    .dataframe tbody tr th:only-of-type {\n",
              "        vertical-align: middle;\n",
              "    }\n",
              "\n",
              "    .dataframe tbody tr th {\n",
              "        vertical-align: top;\n",
              "    }\n",
              "\n",
              "    .dataframe thead th {\n",
              "        text-align: right;\n",
              "    }\n",
              "</style>\n",
              "<table border=\"1\" class=\"dataframe\">\n",
              "  <thead>\n",
              "    <tr style=\"text-align: right;\">\n",
              "      <th></th>\n",
              "      <th>id</th>\n",
              "      <th>timestamp</th>\n",
              "      <th>full_sq</th>\n",
              "      <th>life_sq</th>\n",
              "      <th>floor</th>\n",
              "      <th>state</th>\n",
              "      <th>max_floor</th>\n",
              "      <th>material</th>\n",
              "      <th>build_year</th>\n",
              "      <th>num_room</th>\n",
              "      <th>kitch_sq</th>\n",
              "      <th>full_all</th>\n",
              "      <th>sub_area</th>\n",
              "      <th>price_doc</th>\n",
              "    </tr>\n",
              "  </thead>\n",
              "  <tbody>\n",
              "    <tr>\n",
              "      <th>0</th>\n",
              "      <td>8059</td>\n",
              "      <td>2013-05-21</td>\n",
              "      <td>11</td>\n",
              "      <td>11.0</td>\n",
              "      <td>2.0</td>\n",
              "      <td>3.0</td>\n",
              "      <td>5.0</td>\n",
              "      <td>2.0</td>\n",
              "      <td>1907-01-01</td>\n",
              "      <td>1.0</td>\n",
              "      <td>12.0</td>\n",
              "      <td>75377</td>\n",
              "      <td>Hamovniki</td>\n",
              "      <td>2750000</td>\n",
              "    </tr>\n",
              "    <tr>\n",
              "      <th>1</th>\n",
              "      <td>8138</td>\n",
              "      <td>2013-05-25</td>\n",
              "      <td>53</td>\n",
              "      <td>30.0</td>\n",
              "      <td>10.0</td>\n",
              "      <td>3.0</td>\n",
              "      <td>16.0</td>\n",
              "      <td>1.0</td>\n",
              "      <td>1980-01-01</td>\n",
              "      <td>2.0</td>\n",
              "      <td>8.0</td>\n",
              "      <td>68630</td>\n",
              "      <td>Lianozovo</td>\n",
              "      <td>9000000</td>\n",
              "    </tr>\n",
              "    <tr>\n",
              "      <th>2</th>\n",
              "      <td>8156</td>\n",
              "      <td>2013-05-27</td>\n",
              "      <td>77</td>\n",
              "      <td>41.0</td>\n",
              "      <td>2.0</td>\n",
              "      <td>1.0</td>\n",
              "      <td>17.0</td>\n",
              "      <td>6.0</td>\n",
              "      <td>2014-01-01</td>\n",
              "      <td>3.0</td>\n",
              "      <td>12.0</td>\n",
              "      <td>9553</td>\n",
              "      <td>Poselenie Voskresenskoe</td>\n",
              "      <td>7011550</td>\n",
              "    </tr>\n",
              "    <tr>\n",
              "      <th>3</th>\n",
              "      <td>8157</td>\n",
              "      <td>2013-05-27</td>\n",
              "      <td>45</td>\n",
              "      <td>27.0</td>\n",
              "      <td>6.0</td>\n",
              "      <td>3.0</td>\n",
              "      <td>9.0</td>\n",
              "      <td>1.0</td>\n",
              "      <td>1970-01-01</td>\n",
              "      <td>2.0</td>\n",
              "      <td>6.0</td>\n",
              "      <td>78616</td>\n",
              "      <td>Severnoe Butovo</td>\n",
              "      <td>7100000</td>\n",
              "    </tr>\n",
              "    <tr>\n",
              "      <th>4</th>\n",
              "      <td>8178</td>\n",
              "      <td>2013-05-28</td>\n",
              "      <td>38</td>\n",
              "      <td>20.0</td>\n",
              "      <td>15.0</td>\n",
              "      <td>NaN</td>\n",
              "      <td>16.0</td>\n",
              "      <td>1.0</td>\n",
              "      <td>1982-01-01</td>\n",
              "      <td>1.0</td>\n",
              "      <td>8.0</td>\n",
              "      <td>112804</td>\n",
              "      <td>Filevskij Park</td>\n",
              "      <td>6450000</td>\n",
              "    </tr>\n",
              "  </tbody>\n",
              "</table>\n",
              "</div>\n",
              "      <button class=\"colab-df-convert\" onclick=\"convertToInteractive('df-31840971-6c17-484c-9fd0-fea5a3db8577')\"\n",
              "              title=\"Convert this dataframe to an interactive table.\"\n",
              "              style=\"display:none;\">\n",
              "        \n",
              "  <svg xmlns=\"http://www.w3.org/2000/svg\" height=\"24px\"viewBox=\"0 0 24 24\"\n",
              "       width=\"24px\">\n",
              "    <path d=\"M0 0h24v24H0V0z\" fill=\"none\"/>\n",
              "    <path d=\"M18.56 5.44l.94 2.06.94-2.06 2.06-.94-2.06-.94-.94-2.06-.94 2.06-2.06.94zm-11 1L8.5 8.5l.94-2.06 2.06-.94-2.06-.94L8.5 2.5l-.94 2.06-2.06.94zm10 10l.94 2.06.94-2.06 2.06-.94-2.06-.94-.94-2.06-.94 2.06-2.06.94z\"/><path d=\"M17.41 7.96l-1.37-1.37c-.4-.4-.92-.59-1.43-.59-.52 0-1.04.2-1.43.59L10.3 9.45l-7.72 7.72c-.78.78-.78 2.05 0 2.83L4 21.41c.39.39.9.59 1.41.59.51 0 1.02-.2 1.41-.59l7.78-7.78 2.81-2.81c.8-.78.8-2.07 0-2.86zM5.41 20L4 18.59l7.72-7.72 1.47 1.35L5.41 20z\"/>\n",
              "  </svg>\n",
              "      </button>\n",
              "      \n",
              "  <style>\n",
              "    .colab-df-container {\n",
              "      display:flex;\n",
              "      flex-wrap:wrap;\n",
              "      gap: 12px;\n",
              "    }\n",
              "\n",
              "    .colab-df-convert {\n",
              "      background-color: #E8F0FE;\n",
              "      border: none;\n",
              "      border-radius: 50%;\n",
              "      cursor: pointer;\n",
              "      display: none;\n",
              "      fill: #1967D2;\n",
              "      height: 32px;\n",
              "      padding: 0 0 0 0;\n",
              "      width: 32px;\n",
              "    }\n",
              "\n",
              "    .colab-df-convert:hover {\n",
              "      background-color: #E2EBFA;\n",
              "      box-shadow: 0px 1px 2px rgba(60, 64, 67, 0.3), 0px 1px 3px 1px rgba(60, 64, 67, 0.15);\n",
              "      fill: #174EA6;\n",
              "    }\n",
              "\n",
              "    [theme=dark] .colab-df-convert {\n",
              "      background-color: #3B4455;\n",
              "      fill: #D2E3FC;\n",
              "    }\n",
              "\n",
              "    [theme=dark] .colab-df-convert:hover {\n",
              "      background-color: #434B5C;\n",
              "      box-shadow: 0px 1px 3px 1px rgba(0, 0, 0, 0.15);\n",
              "      filter: drop-shadow(0px 1px 2px rgba(0, 0, 0, 0.3));\n",
              "      fill: #FFFFFF;\n",
              "    }\n",
              "  </style>\n",
              "\n",
              "      <script>\n",
              "        const buttonEl =\n",
              "          document.querySelector('#df-31840971-6c17-484c-9fd0-fea5a3db8577 button.colab-df-convert');\n",
              "        buttonEl.style.display =\n",
              "          google.colab.kernel.accessAllowed ? 'block' : 'none';\n",
              "\n",
              "        async function convertToInteractive(key) {\n",
              "          const element = document.querySelector('#df-31840971-6c17-484c-9fd0-fea5a3db8577');\n",
              "          const dataTable =\n",
              "            await google.colab.kernel.invokeFunction('convertToInteractive',\n",
              "                                                     [key], {});\n",
              "          if (!dataTable) return;\n",
              "\n",
              "          const docLinkHtml = 'Like what you see? Visit the ' +\n",
              "            '<a target=\"_blank\" href=https://colab.research.google.com/notebooks/data_table.ipynb>data table notebook</a>'\n",
              "            + ' to learn more about interactive tables.';\n",
              "          element.innerHTML = '';\n",
              "          dataTable['output_type'] = 'display_data';\n",
              "          await google.colab.output.renderOutput(dataTable, element);\n",
              "          const docLink = document.createElement('div');\n",
              "          docLink.innerHTML = docLinkHtml;\n",
              "          element.appendChild(docLink);\n",
              "        }\n",
              "      </script>\n",
              "    </div>\n",
              "  </div>\n",
              "  "
            ]
          },
          "metadata": {},
          "execution_count": 14
        }
      ]
    },
    {
      "cell_type": "markdown",
      "source": [
        "Базовые статистики по признакам"
      ],
      "metadata": {
        "id": "mgmwOM0EZApF"
      }
    },
    {
      "cell_type": "code",
      "source": [
        "df.describe()"
      ],
      "metadata": {
        "id": "owM-qoo0ZBe9",
        "colab": {
          "base_uri": "https://localhost:8080/",
          "height": 300
        },
        "outputId": "d89f65d9-57db-46ba-935a-760ce90443ff"
      },
      "execution_count": 15,
      "outputs": [
        {
          "output_type": "execute_result",
          "data": {
            "text/plain": [
              "               id     full_sq     life_sq       floor       state   max_floor  \\\n",
              "count  18866.0000  18866.0000  17291.0000  18838.0000  15505.0000  17445.0000   \n",
              "mean   18799.7886     53.9409     34.2592      7.2937      2.2013     12.4233   \n",
              "std     7082.4287     44.1162     59.9446      5.1912      0.8528      6.2798   \n",
              "min        9.0000      0.0000      0.0000      0.0000      1.0000      0.0000   \n",
              "25%    13513.2500     38.0000     20.0000      3.0000      2.0000      9.0000   \n",
              "50%    19043.5000     49.0000     30.0000      6.0000      2.0000     12.0000   \n",
              "75%    24748.7500     63.0000     43.0000     10.0000      3.0000     17.0000   \n",
              "max    30473.0000   5326.0000   7478.0000     77.0000     33.0000     57.0000   \n",
              "\n",
              "         material    num_room    kitch_sq    full_all   price_doc  \n",
              "count  17445.0000  17445.0000  17445.0000  1.8866e+04  1.8866e+04  \n",
              "mean       1.8901      1.9348      7.2064  1.5972e+05  7.5824e+06  \n",
              "std        1.5061      0.8642     26.9816  3.0435e+05  4.9838e+06  \n",
              "min        1.0000      0.0000      0.0000  2.5460e+03  1.0000e+05  \n",
              "25%        1.0000      1.0000      5.0000  4.8439e+04  5.1000e+06  \n",
              "50%        1.0000      2.0000      7.0000  8.7713e+04  6.6855e+06  \n",
              "75%        2.0000      3.0000      9.0000  1.2535e+05  8.9000e+06  \n",
              "max        6.0000     19.0000   2014.0000  1.7167e+06  9.5122e+07  "
            ],
            "text/html": [
              "\n",
              "  <div id=\"df-609a3f62-73bb-4150-86f0-058031a8bbf1\">\n",
              "    <div class=\"colab-df-container\">\n",
              "      <div>\n",
              "<style scoped>\n",
              "    .dataframe tbody tr th:only-of-type {\n",
              "        vertical-align: middle;\n",
              "    }\n",
              "\n",
              "    .dataframe tbody tr th {\n",
              "        vertical-align: top;\n",
              "    }\n",
              "\n",
              "    .dataframe thead th {\n",
              "        text-align: right;\n",
              "    }\n",
              "</style>\n",
              "<table border=\"1\" class=\"dataframe\">\n",
              "  <thead>\n",
              "    <tr style=\"text-align: right;\">\n",
              "      <th></th>\n",
              "      <th>id</th>\n",
              "      <th>full_sq</th>\n",
              "      <th>life_sq</th>\n",
              "      <th>floor</th>\n",
              "      <th>state</th>\n",
              "      <th>max_floor</th>\n",
              "      <th>material</th>\n",
              "      <th>num_room</th>\n",
              "      <th>kitch_sq</th>\n",
              "      <th>full_all</th>\n",
              "      <th>price_doc</th>\n",
              "    </tr>\n",
              "  </thead>\n",
              "  <tbody>\n",
              "    <tr>\n",
              "      <th>count</th>\n",
              "      <td>18866.0000</td>\n",
              "      <td>18866.0000</td>\n",
              "      <td>17291.0000</td>\n",
              "      <td>18838.0000</td>\n",
              "      <td>15505.0000</td>\n",
              "      <td>17445.0000</td>\n",
              "      <td>17445.0000</td>\n",
              "      <td>17445.0000</td>\n",
              "      <td>17445.0000</td>\n",
              "      <td>1.8866e+04</td>\n",
              "      <td>1.8866e+04</td>\n",
              "    </tr>\n",
              "    <tr>\n",
              "      <th>mean</th>\n",
              "      <td>18799.7886</td>\n",
              "      <td>53.9409</td>\n",
              "      <td>34.2592</td>\n",
              "      <td>7.2937</td>\n",
              "      <td>2.2013</td>\n",
              "      <td>12.4233</td>\n",
              "      <td>1.8901</td>\n",
              "      <td>1.9348</td>\n",
              "      <td>7.2064</td>\n",
              "      <td>1.5972e+05</td>\n",
              "      <td>7.5824e+06</td>\n",
              "    </tr>\n",
              "    <tr>\n",
              "      <th>std</th>\n",
              "      <td>7082.4287</td>\n",
              "      <td>44.1162</td>\n",
              "      <td>59.9446</td>\n",
              "      <td>5.1912</td>\n",
              "      <td>0.8528</td>\n",
              "      <td>6.2798</td>\n",
              "      <td>1.5061</td>\n",
              "      <td>0.8642</td>\n",
              "      <td>26.9816</td>\n",
              "      <td>3.0435e+05</td>\n",
              "      <td>4.9838e+06</td>\n",
              "    </tr>\n",
              "    <tr>\n",
              "      <th>min</th>\n",
              "      <td>9.0000</td>\n",
              "      <td>0.0000</td>\n",
              "      <td>0.0000</td>\n",
              "      <td>0.0000</td>\n",
              "      <td>1.0000</td>\n",
              "      <td>0.0000</td>\n",
              "      <td>1.0000</td>\n",
              "      <td>0.0000</td>\n",
              "      <td>0.0000</td>\n",
              "      <td>2.5460e+03</td>\n",
              "      <td>1.0000e+05</td>\n",
              "    </tr>\n",
              "    <tr>\n",
              "      <th>25%</th>\n",
              "      <td>13513.2500</td>\n",
              "      <td>38.0000</td>\n",
              "      <td>20.0000</td>\n",
              "      <td>3.0000</td>\n",
              "      <td>2.0000</td>\n",
              "      <td>9.0000</td>\n",
              "      <td>1.0000</td>\n",
              "      <td>1.0000</td>\n",
              "      <td>5.0000</td>\n",
              "      <td>4.8439e+04</td>\n",
              "      <td>5.1000e+06</td>\n",
              "    </tr>\n",
              "    <tr>\n",
              "      <th>50%</th>\n",
              "      <td>19043.5000</td>\n",
              "      <td>49.0000</td>\n",
              "      <td>30.0000</td>\n",
              "      <td>6.0000</td>\n",
              "      <td>2.0000</td>\n",
              "      <td>12.0000</td>\n",
              "      <td>1.0000</td>\n",
              "      <td>2.0000</td>\n",
              "      <td>7.0000</td>\n",
              "      <td>8.7713e+04</td>\n",
              "      <td>6.6855e+06</td>\n",
              "    </tr>\n",
              "    <tr>\n",
              "      <th>75%</th>\n",
              "      <td>24748.7500</td>\n",
              "      <td>63.0000</td>\n",
              "      <td>43.0000</td>\n",
              "      <td>10.0000</td>\n",
              "      <td>3.0000</td>\n",
              "      <td>17.0000</td>\n",
              "      <td>2.0000</td>\n",
              "      <td>3.0000</td>\n",
              "      <td>9.0000</td>\n",
              "      <td>1.2535e+05</td>\n",
              "      <td>8.9000e+06</td>\n",
              "    </tr>\n",
              "    <tr>\n",
              "      <th>max</th>\n",
              "      <td>30473.0000</td>\n",
              "      <td>5326.0000</td>\n",
              "      <td>7478.0000</td>\n",
              "      <td>77.0000</td>\n",
              "      <td>33.0000</td>\n",
              "      <td>57.0000</td>\n",
              "      <td>6.0000</td>\n",
              "      <td>19.0000</td>\n",
              "      <td>2014.0000</td>\n",
              "      <td>1.7167e+06</td>\n",
              "      <td>9.5122e+07</td>\n",
              "    </tr>\n",
              "  </tbody>\n",
              "</table>\n",
              "</div>\n",
              "      <button class=\"colab-df-convert\" onclick=\"convertToInteractive('df-609a3f62-73bb-4150-86f0-058031a8bbf1')\"\n",
              "              title=\"Convert this dataframe to an interactive table.\"\n",
              "              style=\"display:none;\">\n",
              "        \n",
              "  <svg xmlns=\"http://www.w3.org/2000/svg\" height=\"24px\"viewBox=\"0 0 24 24\"\n",
              "       width=\"24px\">\n",
              "    <path d=\"M0 0h24v24H0V0z\" fill=\"none\"/>\n",
              "    <path d=\"M18.56 5.44l.94 2.06.94-2.06 2.06-.94-2.06-.94-.94-2.06-.94 2.06-2.06.94zm-11 1L8.5 8.5l.94-2.06 2.06-.94-2.06-.94L8.5 2.5l-.94 2.06-2.06.94zm10 10l.94 2.06.94-2.06 2.06-.94-2.06-.94-.94-2.06-.94 2.06-2.06.94z\"/><path d=\"M17.41 7.96l-1.37-1.37c-.4-.4-.92-.59-1.43-.59-.52 0-1.04.2-1.43.59L10.3 9.45l-7.72 7.72c-.78.78-.78 2.05 0 2.83L4 21.41c.39.39.9.59 1.41.59.51 0 1.02-.2 1.41-.59l7.78-7.78 2.81-2.81c.8-.78.8-2.07 0-2.86zM5.41 20L4 18.59l7.72-7.72 1.47 1.35L5.41 20z\"/>\n",
              "  </svg>\n",
              "      </button>\n",
              "      \n",
              "  <style>\n",
              "    .colab-df-container {\n",
              "      display:flex;\n",
              "      flex-wrap:wrap;\n",
              "      gap: 12px;\n",
              "    }\n",
              "\n",
              "    .colab-df-convert {\n",
              "      background-color: #E8F0FE;\n",
              "      border: none;\n",
              "      border-radius: 50%;\n",
              "      cursor: pointer;\n",
              "      display: none;\n",
              "      fill: #1967D2;\n",
              "      height: 32px;\n",
              "      padding: 0 0 0 0;\n",
              "      width: 32px;\n",
              "    }\n",
              "\n",
              "    .colab-df-convert:hover {\n",
              "      background-color: #E2EBFA;\n",
              "      box-shadow: 0px 1px 2px rgba(60, 64, 67, 0.3), 0px 1px 3px 1px rgba(60, 64, 67, 0.15);\n",
              "      fill: #174EA6;\n",
              "    }\n",
              "\n",
              "    [theme=dark] .colab-df-convert {\n",
              "      background-color: #3B4455;\n",
              "      fill: #D2E3FC;\n",
              "    }\n",
              "\n",
              "    [theme=dark] .colab-df-convert:hover {\n",
              "      background-color: #434B5C;\n",
              "      box-shadow: 0px 1px 3px 1px rgba(0, 0, 0, 0.15);\n",
              "      filter: drop-shadow(0px 1px 2px rgba(0, 0, 0, 0.3));\n",
              "      fill: #FFFFFF;\n",
              "    }\n",
              "  </style>\n",
              "\n",
              "      <script>\n",
              "        const buttonEl =\n",
              "          document.querySelector('#df-609a3f62-73bb-4150-86f0-058031a8bbf1 button.colab-df-convert');\n",
              "        buttonEl.style.display =\n",
              "          google.colab.kernel.accessAllowed ? 'block' : 'none';\n",
              "\n",
              "        async function convertToInteractive(key) {\n",
              "          const element = document.querySelector('#df-609a3f62-73bb-4150-86f0-058031a8bbf1');\n",
              "          const dataTable =\n",
              "            await google.colab.kernel.invokeFunction('convertToInteractive',\n",
              "                                                     [key], {});\n",
              "          if (!dataTable) return;\n",
              "\n",
              "          const docLinkHtml = 'Like what you see? Visit the ' +\n",
              "            '<a target=\"_blank\" href=https://colab.research.google.com/notebooks/data_table.ipynb>data table notebook</a>'\n",
              "            + ' to learn more about interactive tables.';\n",
              "          element.innerHTML = '';\n",
              "          dataTable['output_type'] = 'display_data';\n",
              "          await google.colab.output.renderOutput(dataTable, element);\n",
              "          const docLink = document.createElement('div');\n",
              "          docLink.innerHTML = docLinkHtml;\n",
              "          element.appendChild(docLink);\n",
              "        }\n",
              "      </script>\n",
              "    </div>\n",
              "  </div>\n",
              "  "
            ]
          },
          "metadata": {},
          "execution_count": 15
        }
      ]
    },
    {
      "cell_type": "markdown",
      "source": [
        "Выводы текстом, что вы можете сказать по каждому признаку, на основе базовых статистик"
      ],
      "metadata": {
        "id": "cOAB67VhZGfe"
      }
    },
    {
      "cell_type": "markdown",
      "source": [
        "- Примерно четверть объектов имеют одну жилую комнату, 9 этажей в здании, третий этаж\n",
        "- Самое высокое здание имеет 77 этажей"
      ],
      "metadata": {
        "id": "UgN6nT-aZGfe"
      }
    },
    {
      "cell_type": "markdown",
      "source": [
        "Какие признаки вы считаете полезными для предсказания цены квартиры, а какие по вашему мнению можно убрать. Почему?"
      ],
      "metadata": {
        "id": "H6wWguuMZGof"
      }
    },
    {
      "cell_type": "markdown",
      "source": [
        "- full_sq, life_sq, num_room, floor, kitch_sq, sub_area, max_floor - наиболее подходят для предсказания цены квартиры, именно данными параметрами задается \"престижность\" жилья\n",
        "- sub_area район жилья может влиять на цену, например если район находится в центре города или близок с объектами логистики"
      ],
      "metadata": {
        "id": "GAb01bgZZGof"
      }
    },
    {
      "cell_type": "markdown",
      "source": [
        "Есть ли пропуски в данных? В каких столбцах? Какой процент по каждому столбцу?"
      ],
      "metadata": {
        "id": "oywwEALWZGs2"
      }
    },
    {
      "cell_type": "code",
      "source": [
        "missing_values_quantity = df.isna().sum()\n",
        "missing_values_quantity"
      ],
      "metadata": {
        "id": "oI5jSvEsZGs2",
        "colab": {
          "base_uri": "https://localhost:8080/"
        },
        "outputId": "5d75bc41-40d8-414e-fb35-e7f815f333df"
      },
      "execution_count": 16,
      "outputs": [
        {
          "output_type": "execute_result",
          "data": {
            "text/plain": [
              "id               0\n",
              "timestamp        0\n",
              "full_sq          0\n",
              "life_sq       1575\n",
              "floor           28\n",
              "state         3361\n",
              "max_floor     1421\n",
              "material      1421\n",
              "build_year    2905\n",
              "num_room      1421\n",
              "kitch_sq      1421\n",
              "full_all         0\n",
              "sub_area         0\n",
              "price_doc        0\n",
              "dtype: int64"
            ]
          },
          "metadata": {},
          "execution_count": 16
        }
      ]
    },
    {
      "cell_type": "code",
      "source": [
        "missing_data_percent_ratio = round(df.isna().mean() * 100, 2)\n",
        "missing_data_percent_ratio"
      ],
      "metadata": {
        "colab": {
          "base_uri": "https://localhost:8080/"
        },
        "id": "xLL7Glz_xJSU",
        "outputId": "20922c2c-f78d-49c5-bcd4-182519ac29ca"
      },
      "execution_count": 17,
      "outputs": [
        {
          "output_type": "execute_result",
          "data": {
            "text/plain": [
              "id             0.00\n",
              "timestamp      0.00\n",
              "full_sq        0.00\n",
              "life_sq        8.35\n",
              "floor          0.15\n",
              "state         17.82\n",
              "max_floor      7.53\n",
              "material       7.53\n",
              "build_year    15.40\n",
              "num_room       7.53\n",
              "kitch_sq       7.53\n",
              "full_all       0.00\n",
              "sub_area       0.00\n",
              "price_doc      0.00\n",
              "dtype: float64"
            ]
          },
          "metadata": {},
          "execution_count": 17
        }
      ]
    },
    {
      "cell_type": "markdown",
      "source": [
        "Есть ли аномальные данные в столбцах? Если да, то укажите на них и объясните, почему считаете аномальными"
      ],
      "metadata": {
        "id": "Sc6aZZnsZGvX"
      }
    },
    {
      "cell_type": "markdown",
      "source": [
        "- 0.0 - минимальная общая площадь, жилая площадь, этаж, количество этажей в здании, количество жилых комнат, площадь кухни скорее всего говорит о том что эти данные нужно опустить из таблицы при дальнейшем анализе\n",
        "- Написано что max_floor - количество этажей в здании и floor - этаж на котором находится единица, но в таблице явно видно что max_floor - 57, а floor - 77, похоже что где-то пропуск, или ошибка если единица находится в данном здании\n",
        "- state - максимальное значение 33 похоже на выброс, учитывая то что среднее значение равно 2.2\n",
        "- build_year - некоторые данные были в неправильном формате, много пропусков по отношению с другими столбцами, не стоит учитывать пропуски в дальнейшем анализе, и год не может быть равен нулю\n",
        "- kitch_sq - максимальное значение похоже на выброс"
      ],
      "metadata": {
        "id": "pOVsn-ONbuBM"
      }
    },
    {
      "cell_type": "markdown",
      "source": [
        "### 1.2.2 Макро показатели"
      ],
      "metadata": {
        "id": "G1kXOjYDdRui"
      }
    },
    {
      "cell_type": "markdown",
      "source": [
        "Вывести пример данных (первые строки и случайные строки)"
      ],
      "metadata": {
        "id": "DnZc-rypdvUy"
      }
    },
    {
      "cell_type": "code",
      "source": [
        "macro.head(10)"
      ],
      "metadata": {
        "id": "4AIWc_yWdvUz",
        "colab": {
          "base_uri": "https://localhost:8080/",
          "height": 363
        },
        "outputId": "2d795514-d295-4542-b8d0-d9138db4cd02"
      },
      "execution_count": 18,
      "outputs": [
        {
          "output_type": "execute_result",
          "data": {
            "text/plain": [
              "    timestamp   salary  fixed_basket  rent_price_3room_eco  \\\n",
              "0  2010-01-01  38410.5      11443.63                   NaN   \n",
              "1  2010-01-02  38410.5      11443.63                   NaN   \n",
              "2  2010-01-03  38410.5      11443.63                   NaN   \n",
              "3  2010-01-04  38410.5      11443.63                   NaN   \n",
              "4  2010-01-05  38410.5      11443.63                   NaN   \n",
              "5  2010-01-06  38410.5      11443.63                   NaN   \n",
              "6  2010-01-07  38410.5      11443.63                   NaN   \n",
              "7  2010-01-08  38410.5      11443.63                   NaN   \n",
              "8  2010-01-09  38410.5      11443.63                   NaN   \n",
              "9  2010-01-10  38410.5      11443.63                   NaN   \n",
              "\n",
              "   rent_price_2room_eco  rent_price_1room_eco  average_life_exp  \n",
              "0                   NaN                   NaN              74.2  \n",
              "1                   NaN                   NaN              74.2  \n",
              "2                   NaN                   NaN              74.2  \n",
              "3                   NaN                   NaN              74.2  \n",
              "4                   NaN                   NaN              74.2  \n",
              "5                   NaN                   NaN              74.2  \n",
              "6                   NaN                   NaN              74.2  \n",
              "7                   NaN                   NaN              74.2  \n",
              "8                   NaN                   NaN              74.2  \n",
              "9                   NaN                   NaN              74.2  "
            ],
            "text/html": [
              "\n",
              "  <div id=\"df-f2a17c2f-b8cb-4bbe-966e-33dcd2cdf17c\">\n",
              "    <div class=\"colab-df-container\">\n",
              "      <div>\n",
              "<style scoped>\n",
              "    .dataframe tbody tr th:only-of-type {\n",
              "        vertical-align: middle;\n",
              "    }\n",
              "\n",
              "    .dataframe tbody tr th {\n",
              "        vertical-align: top;\n",
              "    }\n",
              "\n",
              "    .dataframe thead th {\n",
              "        text-align: right;\n",
              "    }\n",
              "</style>\n",
              "<table border=\"1\" class=\"dataframe\">\n",
              "  <thead>\n",
              "    <tr style=\"text-align: right;\">\n",
              "      <th></th>\n",
              "      <th>timestamp</th>\n",
              "      <th>salary</th>\n",
              "      <th>fixed_basket</th>\n",
              "      <th>rent_price_3room_eco</th>\n",
              "      <th>rent_price_2room_eco</th>\n",
              "      <th>rent_price_1room_eco</th>\n",
              "      <th>average_life_exp</th>\n",
              "    </tr>\n",
              "  </thead>\n",
              "  <tbody>\n",
              "    <tr>\n",
              "      <th>0</th>\n",
              "      <td>2010-01-01</td>\n",
              "      <td>38410.5</td>\n",
              "      <td>11443.63</td>\n",
              "      <td>NaN</td>\n",
              "      <td>NaN</td>\n",
              "      <td>NaN</td>\n",
              "      <td>74.2</td>\n",
              "    </tr>\n",
              "    <tr>\n",
              "      <th>1</th>\n",
              "      <td>2010-01-02</td>\n",
              "      <td>38410.5</td>\n",
              "      <td>11443.63</td>\n",
              "      <td>NaN</td>\n",
              "      <td>NaN</td>\n",
              "      <td>NaN</td>\n",
              "      <td>74.2</td>\n",
              "    </tr>\n",
              "    <tr>\n",
              "      <th>2</th>\n",
              "      <td>2010-01-03</td>\n",
              "      <td>38410.5</td>\n",
              "      <td>11443.63</td>\n",
              "      <td>NaN</td>\n",
              "      <td>NaN</td>\n",
              "      <td>NaN</td>\n",
              "      <td>74.2</td>\n",
              "    </tr>\n",
              "    <tr>\n",
              "      <th>3</th>\n",
              "      <td>2010-01-04</td>\n",
              "      <td>38410.5</td>\n",
              "      <td>11443.63</td>\n",
              "      <td>NaN</td>\n",
              "      <td>NaN</td>\n",
              "      <td>NaN</td>\n",
              "      <td>74.2</td>\n",
              "    </tr>\n",
              "    <tr>\n",
              "      <th>4</th>\n",
              "      <td>2010-01-05</td>\n",
              "      <td>38410.5</td>\n",
              "      <td>11443.63</td>\n",
              "      <td>NaN</td>\n",
              "      <td>NaN</td>\n",
              "      <td>NaN</td>\n",
              "      <td>74.2</td>\n",
              "    </tr>\n",
              "    <tr>\n",
              "      <th>5</th>\n",
              "      <td>2010-01-06</td>\n",
              "      <td>38410.5</td>\n",
              "      <td>11443.63</td>\n",
              "      <td>NaN</td>\n",
              "      <td>NaN</td>\n",
              "      <td>NaN</td>\n",
              "      <td>74.2</td>\n",
              "    </tr>\n",
              "    <tr>\n",
              "      <th>6</th>\n",
              "      <td>2010-01-07</td>\n",
              "      <td>38410.5</td>\n",
              "      <td>11443.63</td>\n",
              "      <td>NaN</td>\n",
              "      <td>NaN</td>\n",
              "      <td>NaN</td>\n",
              "      <td>74.2</td>\n",
              "    </tr>\n",
              "    <tr>\n",
              "      <th>7</th>\n",
              "      <td>2010-01-08</td>\n",
              "      <td>38410.5</td>\n",
              "      <td>11443.63</td>\n",
              "      <td>NaN</td>\n",
              "      <td>NaN</td>\n",
              "      <td>NaN</td>\n",
              "      <td>74.2</td>\n",
              "    </tr>\n",
              "    <tr>\n",
              "      <th>8</th>\n",
              "      <td>2010-01-09</td>\n",
              "      <td>38410.5</td>\n",
              "      <td>11443.63</td>\n",
              "      <td>NaN</td>\n",
              "      <td>NaN</td>\n",
              "      <td>NaN</td>\n",
              "      <td>74.2</td>\n",
              "    </tr>\n",
              "    <tr>\n",
              "      <th>9</th>\n",
              "      <td>2010-01-10</td>\n",
              "      <td>38410.5</td>\n",
              "      <td>11443.63</td>\n",
              "      <td>NaN</td>\n",
              "      <td>NaN</td>\n",
              "      <td>NaN</td>\n",
              "      <td>74.2</td>\n",
              "    </tr>\n",
              "  </tbody>\n",
              "</table>\n",
              "</div>\n",
              "      <button class=\"colab-df-convert\" onclick=\"convertToInteractive('df-f2a17c2f-b8cb-4bbe-966e-33dcd2cdf17c')\"\n",
              "              title=\"Convert this dataframe to an interactive table.\"\n",
              "              style=\"display:none;\">\n",
              "        \n",
              "  <svg xmlns=\"http://www.w3.org/2000/svg\" height=\"24px\"viewBox=\"0 0 24 24\"\n",
              "       width=\"24px\">\n",
              "    <path d=\"M0 0h24v24H0V0z\" fill=\"none\"/>\n",
              "    <path d=\"M18.56 5.44l.94 2.06.94-2.06 2.06-.94-2.06-.94-.94-2.06-.94 2.06-2.06.94zm-11 1L8.5 8.5l.94-2.06 2.06-.94-2.06-.94L8.5 2.5l-.94 2.06-2.06.94zm10 10l.94 2.06.94-2.06 2.06-.94-2.06-.94-.94-2.06-.94 2.06-2.06.94z\"/><path d=\"M17.41 7.96l-1.37-1.37c-.4-.4-.92-.59-1.43-.59-.52 0-1.04.2-1.43.59L10.3 9.45l-7.72 7.72c-.78.78-.78 2.05 0 2.83L4 21.41c.39.39.9.59 1.41.59.51 0 1.02-.2 1.41-.59l7.78-7.78 2.81-2.81c.8-.78.8-2.07 0-2.86zM5.41 20L4 18.59l7.72-7.72 1.47 1.35L5.41 20z\"/>\n",
              "  </svg>\n",
              "      </button>\n",
              "      \n",
              "  <style>\n",
              "    .colab-df-container {\n",
              "      display:flex;\n",
              "      flex-wrap:wrap;\n",
              "      gap: 12px;\n",
              "    }\n",
              "\n",
              "    .colab-df-convert {\n",
              "      background-color: #E8F0FE;\n",
              "      border: none;\n",
              "      border-radius: 50%;\n",
              "      cursor: pointer;\n",
              "      display: none;\n",
              "      fill: #1967D2;\n",
              "      height: 32px;\n",
              "      padding: 0 0 0 0;\n",
              "      width: 32px;\n",
              "    }\n",
              "\n",
              "    .colab-df-convert:hover {\n",
              "      background-color: #E2EBFA;\n",
              "      box-shadow: 0px 1px 2px rgba(60, 64, 67, 0.3), 0px 1px 3px 1px rgba(60, 64, 67, 0.15);\n",
              "      fill: #174EA6;\n",
              "    }\n",
              "\n",
              "    [theme=dark] .colab-df-convert {\n",
              "      background-color: #3B4455;\n",
              "      fill: #D2E3FC;\n",
              "    }\n",
              "\n",
              "    [theme=dark] .colab-df-convert:hover {\n",
              "      background-color: #434B5C;\n",
              "      box-shadow: 0px 1px 3px 1px rgba(0, 0, 0, 0.15);\n",
              "      filter: drop-shadow(0px 1px 2px rgba(0, 0, 0, 0.3));\n",
              "      fill: #FFFFFF;\n",
              "    }\n",
              "  </style>\n",
              "\n",
              "      <script>\n",
              "        const buttonEl =\n",
              "          document.querySelector('#df-f2a17c2f-b8cb-4bbe-966e-33dcd2cdf17c button.colab-df-convert');\n",
              "        buttonEl.style.display =\n",
              "          google.colab.kernel.accessAllowed ? 'block' : 'none';\n",
              "\n",
              "        async function convertToInteractive(key) {\n",
              "          const element = document.querySelector('#df-f2a17c2f-b8cb-4bbe-966e-33dcd2cdf17c');\n",
              "          const dataTable =\n",
              "            await google.colab.kernel.invokeFunction('convertToInteractive',\n",
              "                                                     [key], {});\n",
              "          if (!dataTable) return;\n",
              "\n",
              "          const docLinkHtml = 'Like what you see? Visit the ' +\n",
              "            '<a target=\"_blank\" href=https://colab.research.google.com/notebooks/data_table.ipynb>data table notebook</a>'\n",
              "            + ' to learn more about interactive tables.';\n",
              "          element.innerHTML = '';\n",
              "          dataTable['output_type'] = 'display_data';\n",
              "          await google.colab.output.renderOutput(dataTable, element);\n",
              "          const docLink = document.createElement('div');\n",
              "          docLink.innerHTML = docLinkHtml;\n",
              "          element.appendChild(docLink);\n",
              "        }\n",
              "      </script>\n",
              "    </div>\n",
              "  </div>\n",
              "  "
            ]
          },
          "metadata": {},
          "execution_count": 18
        }
      ]
    },
    {
      "cell_type": "code",
      "metadata": {
        "id": "XZVhRUZQdaZc",
        "colab": {
          "base_uri": "https://localhost:8080/",
          "height": 363
        },
        "outputId": "ad781bce-0aa4-4113-a6f4-68493e8b87c0"
      },
      "source": [
        "macro.sample(10)"
      ],
      "execution_count": 19,
      "outputs": [
        {
          "output_type": "execute_result",
          "data": {
            "text/plain": [
              "       timestamp   salary  fixed_basket  rent_price_3room_eco  \\\n",
              "888   2012-06-07  48830.4      13494.23                 46.29   \n",
              "756   2012-01-27  48830.4      13128.84                 47.71   \n",
              "2334  2016-05-23      NaN      20031.98                 47.57   \n",
              "404   2011-02-09  44898.7      12790.55                 44.41   \n",
              "2246  2016-02-25      NaN      19544.19                 46.89   \n",
              "220   2010-08-09  38410.5      11814.03                   NaN   \n",
              "73    2010-03-15  38410.5      11577.71                   NaN   \n",
              "2306  2016-04-25      NaN      19904.31                 47.97   \n",
              "542   2011-06-27  44898.7      13040.16                 44.16   \n",
              "382   2011-01-18  44898.7      12728.09                 41.76   \n",
              "\n",
              "      rent_price_2room_eco  rent_price_1room_eco  average_life_exp  \n",
              "888                  39.00                 30.48             75.74  \n",
              "756                  39.47                 31.25             75.74  \n",
              "2334                 36.96                 29.16               NaN  \n",
              "404                  35.48                 28.28             75.79  \n",
              "2246                 38.11                 29.85               NaN  \n",
              "220                    NaN                   NaN             74.20  \n",
              "73                     NaN                   NaN             74.20  \n",
              "2306                 37.39                 28.92               NaN  \n",
              "542                  35.22                 27.73             75.79  \n",
              "382                  34.71                 28.14             75.79  "
            ],
            "text/html": [
              "\n",
              "  <div id=\"df-ecc2800d-a3c9-4c26-b328-d3e7c48a73f9\">\n",
              "    <div class=\"colab-df-container\">\n",
              "      <div>\n",
              "<style scoped>\n",
              "    .dataframe tbody tr th:only-of-type {\n",
              "        vertical-align: middle;\n",
              "    }\n",
              "\n",
              "    .dataframe tbody tr th {\n",
              "        vertical-align: top;\n",
              "    }\n",
              "\n",
              "    .dataframe thead th {\n",
              "        text-align: right;\n",
              "    }\n",
              "</style>\n",
              "<table border=\"1\" class=\"dataframe\">\n",
              "  <thead>\n",
              "    <tr style=\"text-align: right;\">\n",
              "      <th></th>\n",
              "      <th>timestamp</th>\n",
              "      <th>salary</th>\n",
              "      <th>fixed_basket</th>\n",
              "      <th>rent_price_3room_eco</th>\n",
              "      <th>rent_price_2room_eco</th>\n",
              "      <th>rent_price_1room_eco</th>\n",
              "      <th>average_life_exp</th>\n",
              "    </tr>\n",
              "  </thead>\n",
              "  <tbody>\n",
              "    <tr>\n",
              "      <th>888</th>\n",
              "      <td>2012-06-07</td>\n",
              "      <td>48830.4</td>\n",
              "      <td>13494.23</td>\n",
              "      <td>46.29</td>\n",
              "      <td>39.00</td>\n",
              "      <td>30.48</td>\n",
              "      <td>75.74</td>\n",
              "    </tr>\n",
              "    <tr>\n",
              "      <th>756</th>\n",
              "      <td>2012-01-27</td>\n",
              "      <td>48830.4</td>\n",
              "      <td>13128.84</td>\n",
              "      <td>47.71</td>\n",
              "      <td>39.47</td>\n",
              "      <td>31.25</td>\n",
              "      <td>75.74</td>\n",
              "    </tr>\n",
              "    <tr>\n",
              "      <th>2334</th>\n",
              "      <td>2016-05-23</td>\n",
              "      <td>NaN</td>\n",
              "      <td>20031.98</td>\n",
              "      <td>47.57</td>\n",
              "      <td>36.96</td>\n",
              "      <td>29.16</td>\n",
              "      <td>NaN</td>\n",
              "    </tr>\n",
              "    <tr>\n",
              "      <th>404</th>\n",
              "      <td>2011-02-09</td>\n",
              "      <td>44898.7</td>\n",
              "      <td>12790.55</td>\n",
              "      <td>44.41</td>\n",
              "      <td>35.48</td>\n",
              "      <td>28.28</td>\n",
              "      <td>75.79</td>\n",
              "    </tr>\n",
              "    <tr>\n",
              "      <th>2246</th>\n",
              "      <td>2016-02-25</td>\n",
              "      <td>NaN</td>\n",
              "      <td>19544.19</td>\n",
              "      <td>46.89</td>\n",
              "      <td>38.11</td>\n",
              "      <td>29.85</td>\n",
              "      <td>NaN</td>\n",
              "    </tr>\n",
              "    <tr>\n",
              "      <th>220</th>\n",
              "      <td>2010-08-09</td>\n",
              "      <td>38410.5</td>\n",
              "      <td>11814.03</td>\n",
              "      <td>NaN</td>\n",
              "      <td>NaN</td>\n",
              "      <td>NaN</td>\n",
              "      <td>74.20</td>\n",
              "    </tr>\n",
              "    <tr>\n",
              "      <th>73</th>\n",
              "      <td>2010-03-15</td>\n",
              "      <td>38410.5</td>\n",
              "      <td>11577.71</td>\n",
              "      <td>NaN</td>\n",
              "      <td>NaN</td>\n",
              "      <td>NaN</td>\n",
              "      <td>74.20</td>\n",
              "    </tr>\n",
              "    <tr>\n",
              "      <th>2306</th>\n",
              "      <td>2016-04-25</td>\n",
              "      <td>NaN</td>\n",
              "      <td>19904.31</td>\n",
              "      <td>47.97</td>\n",
              "      <td>37.39</td>\n",
              "      <td>28.92</td>\n",
              "      <td>NaN</td>\n",
              "    </tr>\n",
              "    <tr>\n",
              "      <th>542</th>\n",
              "      <td>2011-06-27</td>\n",
              "      <td>44898.7</td>\n",
              "      <td>13040.16</td>\n",
              "      <td>44.16</td>\n",
              "      <td>35.22</td>\n",
              "      <td>27.73</td>\n",
              "      <td>75.79</td>\n",
              "    </tr>\n",
              "    <tr>\n",
              "      <th>382</th>\n",
              "      <td>2011-01-18</td>\n",
              "      <td>44898.7</td>\n",
              "      <td>12728.09</td>\n",
              "      <td>41.76</td>\n",
              "      <td>34.71</td>\n",
              "      <td>28.14</td>\n",
              "      <td>75.79</td>\n",
              "    </tr>\n",
              "  </tbody>\n",
              "</table>\n",
              "</div>\n",
              "      <button class=\"colab-df-convert\" onclick=\"convertToInteractive('df-ecc2800d-a3c9-4c26-b328-d3e7c48a73f9')\"\n",
              "              title=\"Convert this dataframe to an interactive table.\"\n",
              "              style=\"display:none;\">\n",
              "        \n",
              "  <svg xmlns=\"http://www.w3.org/2000/svg\" height=\"24px\"viewBox=\"0 0 24 24\"\n",
              "       width=\"24px\">\n",
              "    <path d=\"M0 0h24v24H0V0z\" fill=\"none\"/>\n",
              "    <path d=\"M18.56 5.44l.94 2.06.94-2.06 2.06-.94-2.06-.94-.94-2.06-.94 2.06-2.06.94zm-11 1L8.5 8.5l.94-2.06 2.06-.94-2.06-.94L8.5 2.5l-.94 2.06-2.06.94zm10 10l.94 2.06.94-2.06 2.06-.94-2.06-.94-.94-2.06-.94 2.06-2.06.94z\"/><path d=\"M17.41 7.96l-1.37-1.37c-.4-.4-.92-.59-1.43-.59-.52 0-1.04.2-1.43.59L10.3 9.45l-7.72 7.72c-.78.78-.78 2.05 0 2.83L4 21.41c.39.39.9.59 1.41.59.51 0 1.02-.2 1.41-.59l7.78-7.78 2.81-2.81c.8-.78.8-2.07 0-2.86zM5.41 20L4 18.59l7.72-7.72 1.47 1.35L5.41 20z\"/>\n",
              "  </svg>\n",
              "      </button>\n",
              "      \n",
              "  <style>\n",
              "    .colab-df-container {\n",
              "      display:flex;\n",
              "      flex-wrap:wrap;\n",
              "      gap: 12px;\n",
              "    }\n",
              "\n",
              "    .colab-df-convert {\n",
              "      background-color: #E8F0FE;\n",
              "      border: none;\n",
              "      border-radius: 50%;\n",
              "      cursor: pointer;\n",
              "      display: none;\n",
              "      fill: #1967D2;\n",
              "      height: 32px;\n",
              "      padding: 0 0 0 0;\n",
              "      width: 32px;\n",
              "    }\n",
              "\n",
              "    .colab-df-convert:hover {\n",
              "      background-color: #E2EBFA;\n",
              "      box-shadow: 0px 1px 2px rgba(60, 64, 67, 0.3), 0px 1px 3px 1px rgba(60, 64, 67, 0.15);\n",
              "      fill: #174EA6;\n",
              "    }\n",
              "\n",
              "    [theme=dark] .colab-df-convert {\n",
              "      background-color: #3B4455;\n",
              "      fill: #D2E3FC;\n",
              "    }\n",
              "\n",
              "    [theme=dark] .colab-df-convert:hover {\n",
              "      background-color: #434B5C;\n",
              "      box-shadow: 0px 1px 3px 1px rgba(0, 0, 0, 0.15);\n",
              "      filter: drop-shadow(0px 1px 2px rgba(0, 0, 0, 0.3));\n",
              "      fill: #FFFFFF;\n",
              "    }\n",
              "  </style>\n",
              "\n",
              "      <script>\n",
              "        const buttonEl =\n",
              "          document.querySelector('#df-ecc2800d-a3c9-4c26-b328-d3e7c48a73f9 button.colab-df-convert');\n",
              "        buttonEl.style.display =\n",
              "          google.colab.kernel.accessAllowed ? 'block' : 'none';\n",
              "\n",
              "        async function convertToInteractive(key) {\n",
              "          const element = document.querySelector('#df-ecc2800d-a3c9-4c26-b328-d3e7c48a73f9');\n",
              "          const dataTable =\n",
              "            await google.colab.kernel.invokeFunction('convertToInteractive',\n",
              "                                                     [key], {});\n",
              "          if (!dataTable) return;\n",
              "\n",
              "          const docLinkHtml = 'Like what you see? Visit the ' +\n",
              "            '<a target=\"_blank\" href=https://colab.research.google.com/notebooks/data_table.ipynb>data table notebook</a>'\n",
              "            + ' to learn more about interactive tables.';\n",
              "          element.innerHTML = '';\n",
              "          dataTable['output_type'] = 'display_data';\n",
              "          await google.colab.output.renderOutput(dataTable, element);\n",
              "          const docLink = document.createElement('div');\n",
              "          docLink.innerHTML = docLinkHtml;\n",
              "          element.appendChild(docLink);\n",
              "        }\n",
              "      </script>\n",
              "    </div>\n",
              "  </div>\n",
              "  "
            ]
          },
          "metadata": {},
          "execution_count": 19
        }
      ]
    },
    {
      "cell_type": "markdown",
      "source": [
        "Размер набора данных"
      ],
      "metadata": {
        "id": "__V4xxQJdaZb"
      }
    },
    {
      "cell_type": "code",
      "source": [
        "macro.shape"
      ],
      "metadata": {
        "colab": {
          "base_uri": "https://localhost:8080/"
        },
        "id": "e6mHqYiBusj0",
        "outputId": "570ac27d-93aa-4d58-ada5-1dedb96cd8e6"
      },
      "execution_count": 20,
      "outputs": [
        {
          "output_type": "execute_result",
          "data": {
            "text/plain": [
              "(2484, 7)"
            ]
          },
          "metadata": {},
          "execution_count": 20
        }
      ]
    },
    {
      "cell_type": "code",
      "source": [
        "macro.size"
      ],
      "metadata": {
        "colab": {
          "base_uri": "https://localhost:8080/"
        },
        "id": "RRt0Y2p7uukX",
        "outputId": "86fabf0f-e34f-46cd-a949-0973217896b3"
      },
      "execution_count": 21,
      "outputs": [
        {
          "output_type": "execute_result",
          "data": {
            "text/plain": [
              "17388"
            ]
          },
          "metadata": {},
          "execution_count": 21
        }
      ]
    },
    {
      "cell_type": "markdown",
      "source": [
        "Описание типов данных по признакам"
      ],
      "metadata": {
        "id": "V8nJDzrqdaZc"
      }
    },
    {
      "cell_type": "code",
      "source": [
        "macro.info()"
      ],
      "metadata": {
        "colab": {
          "base_uri": "https://localhost:8080/"
        },
        "id": "PYyqxi03tHPf",
        "outputId": "129811ea-c1d0-46e2-c384-915051ed40b8"
      },
      "execution_count": 22,
      "outputs": [
        {
          "output_type": "stream",
          "name": "stdout",
          "text": [
            "<class 'pandas.core.frame.DataFrame'>\n",
            "RangeIndex: 2484 entries, 0 to 2483\n",
            "Data columns (total 7 columns):\n",
            " #   Column                Non-Null Count  Dtype  \n",
            "---  ------                --------------  -----  \n",
            " 0   timestamp             2484 non-null   object \n",
            " 1   salary                2191 non-null   float64\n",
            " 2   fixed_basket          2484 non-null   float64\n",
            " 3   rent_price_3room_eco  2211 non-null   float64\n",
            " 4   rent_price_2room_eco  2211 non-null   float64\n",
            " 5   rent_price_1room_eco  2211 non-null   float64\n",
            " 6   average_life_exp      2191 non-null   float64\n",
            "dtypes: float64(6), object(1)\n",
            "memory usage: 136.0+ KB\n"
          ]
        }
      ]
    },
    {
      "cell_type": "markdown",
      "source": [
        "Базовые статистики по признакам"
      ],
      "metadata": {
        "id": "r9KdYUIJdaZc"
      }
    },
    {
      "cell_type": "code",
      "source": [
        "macro['timestamp'] = pd.to_datetime(macro['timestamp'])"
      ],
      "metadata": {
        "id": "m7gBqhedtD1O"
      },
      "execution_count": 23,
      "outputs": []
    },
    {
      "cell_type": "code",
      "source": [
        "macro.describe()"
      ],
      "metadata": {
        "id": "NMVdTHxrdaZc",
        "colab": {
          "base_uri": "https://localhost:8080/",
          "height": 300
        },
        "outputId": "95695152-5287-4f6a-b228-892e6eea17d1"
      },
      "execution_count": 24,
      "outputs": [
        {
          "output_type": "execute_result",
          "data": {
            "text/plain": [
              "           salary  fixed_basket  rent_price_3room_eco  rent_price_2room_eco  \\\n",
              "count   2191.0000     2484.0000             2211.0000             2211.0000   \n",
              "mean   52188.9331    15331.4980               47.2997               38.8954   \n",
              "std     9068.5590     2789.1363                3.0702                5.0352   \n",
              "min    38410.5000    11443.6300               37.5400                0.1000   \n",
              "25%    44898.7000    12992.4400               45.5300               37.9300   \n",
              "50%    48830.4000    14983.9200               47.3500               39.4700   \n",
              "75%    61208.0000    18295.0700               49.3500               41.3000   \n",
              "max    64310.0000    20422.5000               53.2100               43.8500   \n",
              "\n",
              "       rent_price_1room_eco  average_life_exp  \n",
              "count             2211.0000         2191.0000  \n",
              "mean                31.0024           75.9282  \n",
              "std                  3.9841            0.8699  \n",
              "min                  2.3100           74.2000  \n",
              "25%                 29.7800           75.7400  \n",
              "50%                 31.1100           75.7900  \n",
              "75%                 33.0600           76.7000  \n",
              "max                 35.3700           76.7700  "
            ],
            "text/html": [
              "\n",
              "  <div id=\"df-de2c96f3-1489-4856-a3dd-02dc8dda293b\">\n",
              "    <div class=\"colab-df-container\">\n",
              "      <div>\n",
              "<style scoped>\n",
              "    .dataframe tbody tr th:only-of-type {\n",
              "        vertical-align: middle;\n",
              "    }\n",
              "\n",
              "    .dataframe tbody tr th {\n",
              "        vertical-align: top;\n",
              "    }\n",
              "\n",
              "    .dataframe thead th {\n",
              "        text-align: right;\n",
              "    }\n",
              "</style>\n",
              "<table border=\"1\" class=\"dataframe\">\n",
              "  <thead>\n",
              "    <tr style=\"text-align: right;\">\n",
              "      <th></th>\n",
              "      <th>salary</th>\n",
              "      <th>fixed_basket</th>\n",
              "      <th>rent_price_3room_eco</th>\n",
              "      <th>rent_price_2room_eco</th>\n",
              "      <th>rent_price_1room_eco</th>\n",
              "      <th>average_life_exp</th>\n",
              "    </tr>\n",
              "  </thead>\n",
              "  <tbody>\n",
              "    <tr>\n",
              "      <th>count</th>\n",
              "      <td>2191.0000</td>\n",
              "      <td>2484.0000</td>\n",
              "      <td>2211.0000</td>\n",
              "      <td>2211.0000</td>\n",
              "      <td>2211.0000</td>\n",
              "      <td>2191.0000</td>\n",
              "    </tr>\n",
              "    <tr>\n",
              "      <th>mean</th>\n",
              "      <td>52188.9331</td>\n",
              "      <td>15331.4980</td>\n",
              "      <td>47.2997</td>\n",
              "      <td>38.8954</td>\n",
              "      <td>31.0024</td>\n",
              "      <td>75.9282</td>\n",
              "    </tr>\n",
              "    <tr>\n",
              "      <th>std</th>\n",
              "      <td>9068.5590</td>\n",
              "      <td>2789.1363</td>\n",
              "      <td>3.0702</td>\n",
              "      <td>5.0352</td>\n",
              "      <td>3.9841</td>\n",
              "      <td>0.8699</td>\n",
              "    </tr>\n",
              "    <tr>\n",
              "      <th>min</th>\n",
              "      <td>38410.5000</td>\n",
              "      <td>11443.6300</td>\n",
              "      <td>37.5400</td>\n",
              "      <td>0.1000</td>\n",
              "      <td>2.3100</td>\n",
              "      <td>74.2000</td>\n",
              "    </tr>\n",
              "    <tr>\n",
              "      <th>25%</th>\n",
              "      <td>44898.7000</td>\n",
              "      <td>12992.4400</td>\n",
              "      <td>45.5300</td>\n",
              "      <td>37.9300</td>\n",
              "      <td>29.7800</td>\n",
              "      <td>75.7400</td>\n",
              "    </tr>\n",
              "    <tr>\n",
              "      <th>50%</th>\n",
              "      <td>48830.4000</td>\n",
              "      <td>14983.9200</td>\n",
              "      <td>47.3500</td>\n",
              "      <td>39.4700</td>\n",
              "      <td>31.1100</td>\n",
              "      <td>75.7900</td>\n",
              "    </tr>\n",
              "    <tr>\n",
              "      <th>75%</th>\n",
              "      <td>61208.0000</td>\n",
              "      <td>18295.0700</td>\n",
              "      <td>49.3500</td>\n",
              "      <td>41.3000</td>\n",
              "      <td>33.0600</td>\n",
              "      <td>76.7000</td>\n",
              "    </tr>\n",
              "    <tr>\n",
              "      <th>max</th>\n",
              "      <td>64310.0000</td>\n",
              "      <td>20422.5000</td>\n",
              "      <td>53.2100</td>\n",
              "      <td>43.8500</td>\n",
              "      <td>35.3700</td>\n",
              "      <td>76.7700</td>\n",
              "    </tr>\n",
              "  </tbody>\n",
              "</table>\n",
              "</div>\n",
              "      <button class=\"colab-df-convert\" onclick=\"convertToInteractive('df-de2c96f3-1489-4856-a3dd-02dc8dda293b')\"\n",
              "              title=\"Convert this dataframe to an interactive table.\"\n",
              "              style=\"display:none;\">\n",
              "        \n",
              "  <svg xmlns=\"http://www.w3.org/2000/svg\" height=\"24px\"viewBox=\"0 0 24 24\"\n",
              "       width=\"24px\">\n",
              "    <path d=\"M0 0h24v24H0V0z\" fill=\"none\"/>\n",
              "    <path d=\"M18.56 5.44l.94 2.06.94-2.06 2.06-.94-2.06-.94-.94-2.06-.94 2.06-2.06.94zm-11 1L8.5 8.5l.94-2.06 2.06-.94-2.06-.94L8.5 2.5l-.94 2.06-2.06.94zm10 10l.94 2.06.94-2.06 2.06-.94-2.06-.94-.94-2.06-.94 2.06-2.06.94z\"/><path d=\"M17.41 7.96l-1.37-1.37c-.4-.4-.92-.59-1.43-.59-.52 0-1.04.2-1.43.59L10.3 9.45l-7.72 7.72c-.78.78-.78 2.05 0 2.83L4 21.41c.39.39.9.59 1.41.59.51 0 1.02-.2 1.41-.59l7.78-7.78 2.81-2.81c.8-.78.8-2.07 0-2.86zM5.41 20L4 18.59l7.72-7.72 1.47 1.35L5.41 20z\"/>\n",
              "  </svg>\n",
              "      </button>\n",
              "      \n",
              "  <style>\n",
              "    .colab-df-container {\n",
              "      display:flex;\n",
              "      flex-wrap:wrap;\n",
              "      gap: 12px;\n",
              "    }\n",
              "\n",
              "    .colab-df-convert {\n",
              "      background-color: #E8F0FE;\n",
              "      border: none;\n",
              "      border-radius: 50%;\n",
              "      cursor: pointer;\n",
              "      display: none;\n",
              "      fill: #1967D2;\n",
              "      height: 32px;\n",
              "      padding: 0 0 0 0;\n",
              "      width: 32px;\n",
              "    }\n",
              "\n",
              "    .colab-df-convert:hover {\n",
              "      background-color: #E2EBFA;\n",
              "      box-shadow: 0px 1px 2px rgba(60, 64, 67, 0.3), 0px 1px 3px 1px rgba(60, 64, 67, 0.15);\n",
              "      fill: #174EA6;\n",
              "    }\n",
              "\n",
              "    [theme=dark] .colab-df-convert {\n",
              "      background-color: #3B4455;\n",
              "      fill: #D2E3FC;\n",
              "    }\n",
              "\n",
              "    [theme=dark] .colab-df-convert:hover {\n",
              "      background-color: #434B5C;\n",
              "      box-shadow: 0px 1px 3px 1px rgba(0, 0, 0, 0.15);\n",
              "      filter: drop-shadow(0px 1px 2px rgba(0, 0, 0, 0.3));\n",
              "      fill: #FFFFFF;\n",
              "    }\n",
              "  </style>\n",
              "\n",
              "      <script>\n",
              "        const buttonEl =\n",
              "          document.querySelector('#df-de2c96f3-1489-4856-a3dd-02dc8dda293b button.colab-df-convert');\n",
              "        buttonEl.style.display =\n",
              "          google.colab.kernel.accessAllowed ? 'block' : 'none';\n",
              "\n",
              "        async function convertToInteractive(key) {\n",
              "          const element = document.querySelector('#df-de2c96f3-1489-4856-a3dd-02dc8dda293b');\n",
              "          const dataTable =\n",
              "            await google.colab.kernel.invokeFunction('convertToInteractive',\n",
              "                                                     [key], {});\n",
              "          if (!dataTable) return;\n",
              "\n",
              "          const docLinkHtml = 'Like what you see? Visit the ' +\n",
              "            '<a target=\"_blank\" href=https://colab.research.google.com/notebooks/data_table.ipynb>data table notebook</a>'\n",
              "            + ' to learn more about interactive tables.';\n",
              "          element.innerHTML = '';\n",
              "          dataTable['output_type'] = 'display_data';\n",
              "          await google.colab.output.renderOutput(dataTable, element);\n",
              "          const docLink = document.createElement('div');\n",
              "          docLink.innerHTML = docLinkHtml;\n",
              "          element.appendChild(docLink);\n",
              "        }\n",
              "      </script>\n",
              "    </div>\n",
              "  </div>\n",
              "  "
            ]
          },
          "metadata": {},
          "execution_count": 24
        }
      ]
    },
    {
      "cell_type": "markdown",
      "source": [
        "Выводы текстом, что вы можете сказать по каждому признаку, на основе базовых статистик"
      ],
      "metadata": {
        "id": "kUF1P7mTdaZc"
      }
    },
    {
      "cell_type": "markdown",
      "source": [
        "- Чем меньше комнат в арендуемом жилье, тем дешевле его арендовать\n",
        "- В жилье в котором две комнаты, сильнее разбрасываются цены за счет наивысшего стандартного отклонения, относительно других арендуемых единиц\n",
        "- Общние показатели не сильно влияют на ожидаемую продолжительность жизни - малое стандартное отклонение"
      ],
      "metadata": {
        "id": "YpRRQQrxdaZc"
      }
    },
    {
      "cell_type": "markdown",
      "source": [
        "Какие признаки вы считаете полезными для предсказания цены квартиры, а какие по вашему мнению можно убрать. Почему?"
      ],
      "metadata": {
        "id": "-fu8HSzAdaZc"
      }
    },
    {
      "cell_type": "markdown",
      "source": [
        "- Количество комнат (rent_price_3room_eco, rent_price_2room_eco, rent_price_1room_eco) - наиболее весомый показатель для предсказания цены арендуемого жилья\n",
        "- timestamp - в зависимости от ситуации в мире и экономики на данный момент цены могут изменяться\n",
        "- average_life_exp - в некоторых случаях может влиять на цену, в зависимости от района и условий жизни, больше average_life_exp - больше цена из-за более благополучных условий проживания"
      ],
      "metadata": {
        "id": "lZxDNxO8daZd"
      }
    },
    {
      "cell_type": "markdown",
      "source": [
        "Есть ли пропуски в данных? В каких столбцах? Какой процент по каждому столбцу?"
      ],
      "metadata": {
        "id": "P1CmjZ2XdaZd"
      }
    },
    {
      "cell_type": "code",
      "source": [
        "# Missing data in units\n",
        "missing_values_quantity = macro.isna().sum()\n",
        "missing_values_quantity"
      ],
      "metadata": {
        "id": "B8DGEnOtdaZd",
        "colab": {
          "base_uri": "https://localhost:8080/"
        },
        "outputId": "580b35c5-cf89-42a2-b3d0-646aa33d250f"
      },
      "execution_count": 25,
      "outputs": [
        {
          "output_type": "execute_result",
          "data": {
            "text/plain": [
              "timestamp                 0\n",
              "salary                  293\n",
              "fixed_basket              0\n",
              "rent_price_3room_eco    273\n",
              "rent_price_2room_eco    273\n",
              "rent_price_1room_eco    273\n",
              "average_life_exp        293\n",
              "dtype: int64"
            ]
          },
          "metadata": {},
          "execution_count": 25
        }
      ]
    },
    {
      "cell_type": "code",
      "source": [
        "# Missing data in percentage\n",
        "missing_data_percent_ratio = round(macro.isna().mean() * 100, 2)\n",
        "missing_data_percent_ratio"
      ],
      "metadata": {
        "colab": {
          "base_uri": "https://localhost:8080/"
        },
        "id": "6PYZSxZB2QDc",
        "outputId": "19a185af-f3a5-4c1f-9216-926a85ef18ee"
      },
      "execution_count": 26,
      "outputs": [
        {
          "output_type": "execute_result",
          "data": {
            "text/plain": [
              "timestamp                0.00\n",
              "salary                  11.80\n",
              "fixed_basket             0.00\n",
              "rent_price_3room_eco    10.99\n",
              "rent_price_2room_eco    10.99\n",
              "rent_price_1room_eco    10.99\n",
              "average_life_exp        11.80\n",
              "dtype: float64"
            ]
          },
          "metadata": {},
          "execution_count": 26
        }
      ]
    },
    {
      "cell_type": "markdown",
      "source": [
        "Есть ли аномальные данные в стoлбцах? Если да, то укажите на них и объясните, почему считаете аномальными\n"
      ],
      "metadata": {
        "id": "ovjCyA8YdaZd"
      }
    },
    {
      "cell_type": "markdown",
      "source": [
        "- Минимальное значение цены аренды rent_price_2room_eco - 0.1\n",
        "- Минимальное значение цены аренды rent_price_1room_eco - 2.3100"
      ],
      "metadata": {
        "id": "Z33oobHSdaZd"
      }
    },
    {
      "cell_type": "markdown",
      "source": [
        "## 1.3 Замените все ранее найденные ошибочные данные на None. Заполните все пропуски в данных: которые были и которые появились. Используйте как стратегии изученные на занятии, так и логику, которая вытекает из самих данных"
      ],
      "metadata": {
        "id": "ac-Ie6LNMsbG"
      }
    },
    {
      "cell_type": "markdown",
      "source": [
        "### 1.3.1 Главный набор данных"
      ],
      "metadata": {
        "id": "YCZtD33vNSjd"
      }
    },
    {
      "cell_type": "markdown",
      "source": [
        "- Решил провизуализировать данные, глазами в таблицу сложно смотреть"
      ],
      "metadata": {
        "id": "7dTJy-KxFj7v"
      }
    },
    {
      "cell_type": "code",
      "source": [
        "def visualize_dataframe(dataframe, ignore_types=['datetime64[ns]', 'object'], ignore_columns=['id'], method='boxplot'):\n",
        "    column_names = dataframe.columns.values\n",
        "    for column_name in column_names:\n",
        "        if dataframe[column_name].dtypes in ignore_types or column_name in ignore_columns:\n",
        "            continue\n",
        "        if method == 'boxplot':\n",
        "            sns.boxplot(x = dataframe[column_name])\n",
        "            plt.show()\n",
        "        if method == 'histplot':\n",
        "            sns.histplot(x = dataframe[column_name])\n",
        "            plt.show()"
      ],
      "metadata": {
        "id": "d2FmAW3yqsnN"
      },
      "execution_count": 27,
      "outputs": []
    },
    {
      "cell_type": "code",
      "source": [
        "visualize_dataframe(df)"
      ],
      "metadata": {
        "colab": {
          "base_uri": "https://localhost:8080/",
          "height": 1000
        },
        "id": "NPGi5gEwx9-2",
        "outputId": "706ee641-2fad-4801-8f9e-74f9f068a8f4"
      },
      "execution_count": 28,
      "outputs": [
        {
          "output_type": "display_data",
          "data": {
            "text/plain": [
              "<Figure size 432x288 with 1 Axes>"
            ],
            "image/png": "[encoded data removed]"
          },
          "metadata": {
            "needs_background": "light"
          }
        },
        {
          "output_type": "display_data",
          "data": {
            "text/plain": [
              "<Figure size 432x288 with 1 Axes>"
            ],
            "image/png": "[encoded data removed]"
          },
          "metadata": {
            "needs_background": "light"
          }
        },
        {
          "output_type": "display_data",
          "data": {
            "text/plain": [
              "<Figure size 432x288 with 1 Axes>"
            ],
            "image/png": "[encoded data removed]"
          },
          "metadata": {
            "needs_background": "light"
          }
        },
        {
          "output_type": "display_data",
          "data": {
            "text/plain": [
              "<Figure size 432x288 with 1 Axes>"
            ],
            "image/png": "[encoded data removed]"
          },
          "metadata": {
            "needs_background": "light"
          }
        },
        {
          "output_type": "display_data",
          "data": {
            "text/plain": [
              "<Figure size 432x288 with 1 Axes>"
            ],
            "image/png": "[encoded data removed]"
          },
          "metadata": {
            "needs_background": "light"
          }
        },
        {
          "output_type": "display_data",
          "data": {
            "text/plain": [
              "<Figure size 432x288 with 1 Axes>"
            ],
            "image/png": "[encoded data removed]"
          },
          "metadata": {
            "needs_background": "light"
          }
        },
        {
          "output_type": "display_data",
          "data": {
            "text/plain": [
              "<Figure size 432x288 with 1 Axes>"
            ],
            "image/png": "[encoded data removed]"
          },
          "metadata": {
            "needs_background": "light"
          }
        },
        {
          "output_type": "display_data",
          "data": {
            "text/plain": [
              "<Figure size 432x288 with 1 Axes>"
            ],
            "image/png": "[encoded data removed]"
          },
          "metadata": {
            "needs_background": "light"
          }
        },
        {
          "output_type": "display_data",
          "data": {
            "text/plain": [
              "<Figure size 432x288 with 1 Axes>"
            ],
            "image/png": "[encoded data removed]"
          },
          "metadata": {
            "needs_background": "light"
          }
        },
        {
          "output_type": "display_data",
          "data": {
            "text/plain": [
              "<Figure size 432x288 with 1 Axes>"
            ],
            "image/png": "[encoded data removed]"
          },
          "metadata": {
            "needs_background": "light"
          }
        }
      ]
    },
    {
      "cell_type": "markdown",
      "source": [
        "- Явно видно что есть выбросы в full_sq, life_sq, floor, state, kitch_sq, остальное выглядит в общей мере адекватно"
      ],
      "metadata": {
        "id": "HKPKLx3Q7hn-"
      }
    },
    {
      "cell_type": "markdown",
      "source": [
        "- Функция которая будет обнулять выбросы, выходящие за 99.99% процентиль\n",
        "- Помимо чего добавлю аргумент в функцию roll_num переменный, чтобы обнуление можно было делать несколько разa, некоторые выбросы например в колонне kitch_sq, обнуляются только после второго раза вызова функции"
      ],
      "metadata": {
        "id": "rdQK1OT0EXFA"
      }
    },
    {
      "cell_type": "code",
      "source": [
        "def clear_outliers(dataframe, roll_num=1, high_quantile=0.99, low_quantile=0.01, on_columns=None, ignore_types=['datetime64[ns]', 'object'], ignore_columns=['id']):\n",
        "    def do_clean(columns_to_clean):\n",
        "        for column_name in columns_to_clean:\n",
        "            if dataframe[column_name].dtypes in ignore_types or column_name in ignore_columns:\n",
        "                continue\n",
        "            for i in range(roll_num):\n",
        "                # 99.99% high percentile\n",
        "                # percentile_high = dataframe[column_name].quantile(0.9999)\n",
        "                percentile_high = dataframe[column_name].quantile(high_quantile)\n",
        "                # 0.001% low percentile\n",
        "                percentile_low = dataframe[column_name].quantile(low_quantile)\n",
        "                # making outliers obsolete \n",
        "                dataframe[column_name] = dataframe[column_name].apply(lambda x: np.nan if x > percentile_high else x)\n",
        "                dataframe[column_name] = dataframe[column_name].apply(lambda x: np.nan if x < percentile_low else x)\n",
        "        return dataframe\n",
        "\n",
        "    if on_columns is not None:\n",
        "        return do_clean(on_columns)\n",
        "\n",
        "    all_column_names = dataframe.columns.values\n",
        "    return do_clean(all_column_names)"
      ],
      "metadata": {
        "id": "U5eg_IbqgwPN"
      },
      "execution_count": 29,
      "outputs": []
    },
    {
      "cell_type": "code",
      "source": [
        "df = clear_outliers(df, high_quantile=0.9999, low_quantile=0.0001, roll_num=2)"
      ],
      "metadata": {
        "id": "lR8RuEGpg_w3"
      },
      "execution_count": 30,
      "outputs": []
    },
    {
      "cell_type": "markdown",
      "source": [
        "- Собственно выбрал 99.99% процентиль потому что выбросов у нас не так много и при этом они больше среднего показателя в 100+ раз"
      ],
      "metadata": {
        "id": "nLeuiYIABcJr"
      }
    },
    {
      "cell_type": "code",
      "source": [
        "visualize_dataframe(df)"
      ],
      "metadata": {
        "colab": {
          "base_uri": "https://localhost:8080/",
          "height": 1000
        },
        "id": "lB2XhyaaAo35",
        "outputId": "4d2fc212-7163-43b9-ab3c-e78987b9c14c"
      },
      "execution_count": 31,
      "outputs": [
        {
          "output_type": "display_data",
          "data": {
            "text/plain": [
              "<Figure size 432x288 with 1 Axes>"
            ],
            "image/png": "[encoded data removed]"
          },
          "metadata": {
            "needs_background": "light"
          }
        },
        {
          "output_type": "display_data",
          "data": {
            "text/plain": [
              "<Figure size 432x288 with 1 Axes>"
            ],
            "image/png": "[encoded data removed]"
          },
          "metadata": {
            "needs_background": "light"
          }
        },
        {
          "output_type": "display_data",
          "data": {
            "text/plain": [
              "<Figure size 432x288 with 1 Axes>"
            ],
            "image/png": "[encoded data removed]"
          },
          "metadata": {
            "needs_background": "light"
          }
        },
        {
          "output_type": "display_data",
          "data": {
            "text/plain": [
              "<Figure size 432x288 with 1 Axes>"
            ],
            "image/png": "[encoded data removed]"
          },
          "metadata": {
            "needs_background": "light"
          }
        },
        {
          "output_type": "display_data",
          "data": {
            "text/plain": [
              "<Figure size 432x288 with 1 Axes>"
            ],
            "image/png": "[encoded data removed]"
          },
          "metadata": {
            "needs_background": "light"
          }
        },
        {
          "output_type": "display_data",
          "data": {
            "text/plain": [
              "<Figure size 432x288 with 1 Axes>"
            ],
            "image/png": "[encoded data removed]"
          },
          "metadata": {
            "needs_background": "light"
          }
        },
        {
          "output_type": "display_data",
          "data": {
            "text/plain": [
              "<Figure size 432x288 with 1 Axes>"
            ],
            "image/png": "[encoded data removed]"
          },
          "metadata": {
            "needs_background": "light"
          }
        },
        {
          "output_type": "display_data",
          "data": {
            "text/plain": [
              "<Figure size 432x288 with 1 Axes>"
            ],
            "image/png": "[encoded data removed]"
          },
          "metadata": {
            "needs_background": "light"
          }
        },
        {
          "output_type": "display_data",
          "data": {
            "text/plain": [
              "<Figure size 432x288 with 1 Axes>"
            ],
            "image/png": "[encoded data removed]"
          },
          "metadata": {
            "needs_background": "light"
          }
        },
        {
          "output_type": "display_data",
          "data": {
            "text/plain": [
              "<Figure size 432x288 with 1 Axes>"
            ],
            "image/png": "[encoded data removed]"
          },
          "metadata": {
            "needs_background": "light"
          }
        }
      ]
    },
    {
      "cell_type": "markdown",
      "source": [
        "- После обнуления выбросов, собственно видно что данные стали более стабильными, если можно так сказать и более сгруппированы вокруг среднего значения"
      ],
      "metadata": {
        "id": "EkS0gh2cCLXN"
      }
    },
    {
      "cell_type": "code",
      "source": [
        "def count_nan(dataframe):\n",
        "    column_names = dataframe.columns.values\n",
        "    for column_name in column_names:\n",
        "        print(f'{column_name}: {dataframe[column_name].isna().sum()}')"
      ],
      "metadata": {
        "id": "L0rJBRLvQUbM"
      },
      "execution_count": 32,
      "outputs": []
    },
    {
      "cell_type": "code",
      "source": [
        "count_nan(df)"
      ],
      "metadata": {
        "colab": {
          "base_uri": "https://localhost:8080/"
        },
        "id": "kgO7vcDmFd_O",
        "outputId": "0cdb7a89-c9e7-4be0-d271-b01ca45e3872"
      },
      "execution_count": 33,
      "outputs": [
        {
          "output_type": "stream",
          "name": "stdout",
          "text": [
            "id: 0\n",
            "timestamp: 0\n",
            "full_sq: 6\n",
            "life_sq: 1579\n",
            "floor: 31\n",
            "state: 3362\n",
            "max_floor: 1422\n",
            "material: 1421\n",
            "build_year: 2905\n",
            "num_room: 1425\n",
            "kitch_sq: 1425\n",
            "full_all: 1\n",
            "sub_area: 0\n",
            "price_doc: 7\n"
          ]
        }
      ]
    },
    {
      "cell_type": "markdown",
      "source": [
        "- Замена пустых значений на среднее значение конкретной колонны"
      ],
      "metadata": {
        "id": "nlGX-Q34UGtE"
      }
    },
    {
      "cell_type": "code",
      "source": [
        "def fill_nan_data(dataframe, ignore_types=['datetime64[ns]', 'object'], ignore_columns=['id']):\n",
        "    column_names = dataframe.columns.values\n",
        "    for column_name in column_names:\n",
        "        if dataframe[column_name].dtypes in ignore_types or column_name in ignore_columns:\n",
        "            continue\n",
        "        column_mean = dataframe[column_name].mean()\n",
        "        dataframe[column_name].fillna(column_mean, inplace=True)\n",
        "    return dataframe"
      ],
      "metadata": {
        "id": "Zr9cQmj6Q3SI"
      },
      "execution_count": 34,
      "outputs": []
    },
    {
      "cell_type": "code",
      "source": [
        "df = fill_nan_data(df, ignore_columns=['sub_area'])\n",
        "df.sample(15)"
      ],
      "metadata": {
        "colab": {
          "base_uri": "https://localhost:8080/",
          "height": 520
        },
        "id": "mb87h3D8R6Pf",
        "outputId": "bbac2644-a810-4239-bd6c-5a2b8c69f238"
      },
      "execution_count": 35,
      "outputs": [
        {
          "output_type": "execute_result",
          "data": {
            "text/plain": [
              "          id  timestamp  full_sq  life_sq  floor   state  max_floor  material  \\\n",
              "6210   17179 2014-04-09     45.0   28.000    4.0  3.0000    12.0000    1.0000   \n",
              "995    10828 2013-09-30     39.0   18.000   13.0  1.0000    17.0000    1.0000   \n",
              "18204   4331 2012-10-22     61.0   33.746   18.0  2.1993    12.4208    1.8901   \n",
              "14618  27618 2015-01-30    117.0   74.000    6.0  3.0000     8.0000    2.0000   \n",
              "9394   21084 2014-07-24     36.0   19.000   14.0  2.0000    17.0000    1.0000   \n",
              "2783   13014 2013-12-12     51.0   30.000    2.0  2.0000    14.0000    1.0000   \n",
              "7050   18189 2014-05-06     58.0   41.000    5.0  2.0000     5.0000    1.0000   \n",
              "2555   12746 2013-12-03     34.0   20.000    8.0  3.0000     9.0000    1.0000   \n",
              "8704   20230 2014-06-27     40.0   20.000    7.0  3.0000    12.0000    1.0000   \n",
              "5606   16440 2014-03-24     73.0   44.000   11.0  3.0000    17.0000    1.0000   \n",
              "5579   16407 2014-03-24     68.0   44.000   12.0  3.0000    14.0000    5.0000   \n",
              "13057  25652 2014-12-02     55.0   40.000    3.0  3.0000     5.0000    2.0000   \n",
              "9460   21154 2014-07-29     38.0   19.000    9.0  3.0000    17.0000    1.0000   \n",
              "2023   12097 2013-11-13     47.0   27.000    5.0  3.0000     9.0000    1.0000   \n",
              "4536   15137 2014-02-18     60.0   30.000    8.0  3.0000    17.0000    1.0000   \n",
              "\n",
              "      build_year  num_room  kitch_sq   full_all             sub_area  \\\n",
              "6210  1966-01-01    2.0000    5.0000    76670.0              Zjuzino   \n",
              "995   2012-01-01    1.0000    9.0000    13890.0  Poselenie Sosenskoe   \n",
              "18204        NaT    1.9321    6.8285    21155.0               Mitino   \n",
              "14618 1960-01-01    5.0000   21.0000    75377.0            Hamovniki   \n",
              "9394  1999-01-01    1.0000    6.0000    60315.0  Severnoe Medvedkovo   \n",
              "2783  1985-01-01    2.0000    8.0000   142243.0            Lefortovo   \n",
              "7050  1966-01-01    3.0000    5.0000  1452550.0          Bogorodskoe   \n",
              "2555  1970-01-01    1.0000    6.0000    78507.0              Kuncevo   \n",
              "8704  2003-01-01    1.0000    8.0000    89971.0             Ljublino   \n",
              "5606  1994-01-01    3.0000   10.0000    78616.0      Severnoe Butovo   \n",
              "5579  1974-01-01    3.0000    9.0000   157010.0           Ivanovskoe   \n",
              "13057 1964-01-01    3.0000    5.0000   153248.0             Kotlovka   \n",
              "9460  1998-01-01    1.0000    8.0000    81887.0              Hovrino   \n",
              "2023  1972-01-01    2.0000    6.0000    81980.0         Jaroslavskoe   \n",
              "4536  1988-01-01    2.0000    8.0000   125354.0  Chertanovo Severnoe   \n",
              "\n",
              "        price_doc  \n",
              "6210   7.7000e+06  \n",
              "995    4.1750e+06  \n",
              "18204  8.2485e+06  \n",
              "14618  3.7000e+07  \n",
              "9394   7.5000e+06  \n",
              "2783   2.1000e+06  \n",
              "7050   7.2500e+06  \n",
              "2555   6.7000e+06  \n",
              "8704   5.8000e+06  \n",
              "5606   1.1750e+07  \n",
              "5579   9.8000e+06  \n",
              "13057  8.5000e+06  \n",
              "9460   7.2000e+06  \n",
              "2023   6.5000e+06  \n",
              "4536   9.8000e+06  "
            ],
            "text/html": [
              "\n",
              "  <div id=\"df-591772e9-90d4-4e00-bcc7-163d78b12d2d\">\n",
              "    <div class=\"colab-df-container\">\n",
              "      <div>\n",
              "<style scoped>\n",
              "    .dataframe tbody tr th:only-of-type {\n",
              "        vertical-align: middle;\n",
              "    }\n",
              "\n",
              "    .dataframe tbody tr th {\n",
              "        vertical-align: top;\n",
              "    }\n",
              "\n",
              "    .dataframe thead th {\n",
              "        text-align: right;\n",
              "    }\n",
              "</style>\n",
              "<table border=\"1\" class=\"dataframe\">\n",
              "  <thead>\n",
              "    <tr style=\"text-align: right;\">\n",
              "      <th></th>\n",
              "      <th>id</th>\n",
              "      <th>timestamp</th>\n",
              "      <th>full_sq</th>\n",
              "      <th>life_sq</th>\n",
              "      <th>floor</th>\n",
              "      <th>state</th>\n",
              "      <th>max_floor</th>\n",
              "      <th>material</th>\n",
              "      <th>build_year</th>\n",
              "      <th>num_room</th>\n",
              "      <th>kitch_sq</th>\n",
              "      <th>full_all</th>\n",
              "      <th>sub_area</th>\n",
              "      <th>price_doc</th>\n",
              "    </tr>\n",
              "  </thead>\n",
              "  <tbody>\n",
              "    <tr>\n",
              "      <th>6210</th>\n",
              "      <td>17179</td>\n",
              "      <td>2014-04-09</td>\n",
              "      <td>45.0</td>\n",
              "      <td>28.000</td>\n",
              "      <td>4.0</td>\n",
              "      <td>3.0000</td>\n",
              "      <td>12.0000</td>\n",
              "      <td>1.0000</td>\n",
              "      <td>1966-01-01</td>\n",
              "      <td>2.0000</td>\n",
              "      <td>5.0000</td>\n",
              "      <td>76670.0</td>\n",
              "      <td>Zjuzino</td>\n",
              "      <td>7.7000e+06</td>\n",
              "    </tr>\n",
              "    <tr>\n",
              "      <th>995</th>\n",
              "      <td>10828</td>\n",
              "      <td>2013-09-30</td>\n",
              "      <td>39.0</td>\n",
              "      <td>18.000</td>\n",
              "      <td>13.0</td>\n",
              "      <td>1.0000</td>\n",
              "      <td>17.0000</td>\n",
              "      <td>1.0000</td>\n",
              "      <td>2012-01-01</td>\n",
              "      <td>1.0000</td>\n",
              "      <td>9.0000</td>\n",
              "      <td>13890.0</td>\n",
              "      <td>Poselenie Sosenskoe</td>\n",
              "      <td>4.1750e+06</td>\n",
              "    </tr>\n",
              "    <tr>\n",
              "      <th>18204</th>\n",
              "      <td>4331</td>\n",
              "      <td>2012-10-22</td>\n",
              "      <td>61.0</td>\n",
              "      <td>33.746</td>\n",
              "      <td>18.0</td>\n",
              "      <td>2.1993</td>\n",
              "      <td>12.4208</td>\n",
              "      <td>1.8901</td>\n",
              "      <td>NaT</td>\n",
              "      <td>1.9321</td>\n",
              "      <td>6.8285</td>\n",
              "      <td>21155.0</td>\n",
              "      <td>Mitino</td>\n",
              "      <td>8.2485e+06</td>\n",
              "    </tr>\n",
              "    <tr>\n",
              "      <th>14618</th>\n",
              "      <td>27618</td>\n",
              "      <td>2015-01-30</td>\n",
              "      <td>117.0</td>\n",
              "      <td>74.000</td>\n",
              "      <td>6.0</td>\n",
              "      <td>3.0000</td>\n",
              "      <td>8.0000</td>\n",
              "      <td>2.0000</td>\n",
              "      <td>1960-01-01</td>\n",
              "      <td>5.0000</td>\n",
              "      <td>21.0000</td>\n",
              "      <td>75377.0</td>\n",
              "      <td>Hamovniki</td>\n",
              "      <td>3.7000e+07</td>\n",
              "    </tr>\n",
              "    <tr>\n",
              "      <th>9394</th>\n",
              "      <td>21084</td>\n",
              "      <td>2014-07-24</td>\n",
              "      <td>36.0</td>\n",
              "      <td>19.000</td>\n",
              "      <td>14.0</td>\n",
              "      <td>2.0000</td>\n",
              "      <td>17.0000</td>\n",
              "      <td>1.0000</td>\n",
              "      <td>1999-01-01</td>\n",
              "      <td>1.0000</td>\n",
              "      <td>6.0000</td>\n",
              "      <td>60315.0</td>\n",
              "      <td>Severnoe Medvedkovo</td>\n",
              "      <td>7.5000e+06</td>\n",
              "    </tr>\n",
              "    <tr>\n",
              "      <th>2783</th>\n",
              "      <td>13014</td>\n",
              "      <td>2013-12-12</td>\n",
              "      <td>51.0</td>\n",
              "      <td>30.000</td>\n",
              "      <td>2.0</td>\n",
              "      <td>2.0000</td>\n",
              "      <td>14.0000</td>\n",
              "      <td>1.0000</td>\n",
              "      <td>1985-01-01</td>\n",
              "      <td>2.0000</td>\n",
              "      <td>8.0000</td>\n",
              "      <td>142243.0</td>\n",
              "      <td>Lefortovo</td>\n",
              "      <td>2.1000e+06</td>\n",
              "    </tr>\n",
              "    <tr>\n",
              "      <th>7050</th>\n",
              "      <td>18189</td>\n",
              "      <td>2014-05-06</td>\n",
              "      <td>58.0</td>\n",
              "      <td>41.000</td>\n",
              "      <td>5.0</td>\n",
              "      <td>2.0000</td>\n",
              "      <td>5.0000</td>\n",
              "      <td>1.0000</td>\n",
              "      <td>1966-01-01</td>\n",
              "      <td>3.0000</td>\n",
              "      <td>5.0000</td>\n",
              "      <td>1452550.0</td>\n",
              "      <td>Bogorodskoe</td>\n",
              "      <td>7.2500e+06</td>\n",
              "    </tr>\n",
              "    <tr>\n",
              "      <th>2555</th>\n",
              "      <td>12746</td>\n",
              "      <td>2013-12-03</td>\n",
              "      <td>34.0</td>\n",
              "      <td>20.000</td>\n",
              "      <td>8.0</td>\n",
              "      <td>3.0000</td>\n",
              "      <td>9.0000</td>\n",
              "      <td>1.0000</td>\n",
              "      <td>1970-01-01</td>\n",
              "      <td>1.0000</td>\n",
              "      <td>6.0000</td>\n",
              "      <td>78507.0</td>\n",
              "      <td>Kuncevo</td>\n",
              "      <td>6.7000e+06</td>\n",
              "    </tr>\n",
              "    <tr>\n",
              "      <th>8704</th>\n",
              "      <td>20230</td>\n",
              "      <td>2014-06-27</td>\n",
              "      <td>40.0</td>\n",
              "      <td>20.000</td>\n",
              "      <td>7.0</td>\n",
              "      <td>3.0000</td>\n",
              "      <td>12.0000</td>\n",
              "      <td>1.0000</td>\n",
              "      <td>2003-01-01</td>\n",
              "      <td>1.0000</td>\n",
              "      <td>8.0000</td>\n",
              "      <td>89971.0</td>\n",
              "      <td>Ljublino</td>\n",
              "      <td>5.8000e+06</td>\n",
              "    </tr>\n",
              "    <tr>\n",
              "      <th>5606</th>\n",
              "      <td>16440</td>\n",
              "      <td>2014-03-24</td>\n",
              "      <td>73.0</td>\n",
              "      <td>44.000</td>\n",
              "      <td>11.0</td>\n",
              "      <td>3.0000</td>\n",
              "      <td>17.0000</td>\n",
              "      <td>1.0000</td>\n",
              "      <td>1994-01-01</td>\n",
              "      <td>3.0000</td>\n",
              "      <td>10.0000</td>\n",
              "      <td>78616.0</td>\n",
              "      <td>Severnoe Butovo</td>\n",
              "      <td>1.1750e+07</td>\n",
              "    </tr>\n",
              "    <tr>\n",
              "      <th>5579</th>\n",
              "      <td>16407</td>\n",
              "      <td>2014-03-24</td>\n",
              "      <td>68.0</td>\n",
              "      <td>44.000</td>\n",
              "      <td>12.0</td>\n",
              "      <td>3.0000</td>\n",
              "      <td>14.0000</td>\n",
              "      <td>5.0000</td>\n",
              "      <td>1974-01-01</td>\n",
              "      <td>3.0000</td>\n",
              "      <td>9.0000</td>\n",
              "      <td>157010.0</td>\n",
              "      <td>Ivanovskoe</td>\n",
              "      <td>9.8000e+06</td>\n",
              "    </tr>\n",
              "    <tr>\n",
              "      <th>13057</th>\n",
              "      <td>25652</td>\n",
              "      <td>2014-12-02</td>\n",
              "      <td>55.0</td>\n",
              "      <td>40.000</td>\n",
              "      <td>3.0</td>\n",
              "      <td>3.0000</td>\n",
              "      <td>5.0000</td>\n",
              "      <td>2.0000</td>\n",
              "      <td>1964-01-01</td>\n",
              "      <td>3.0000</td>\n",
              "      <td>5.0000</td>\n",
              "      <td>153248.0</td>\n",
              "      <td>Kotlovka</td>\n",
              "      <td>8.5000e+06</td>\n",
              "    </tr>\n",
              "    <tr>\n",
              "      <th>9460</th>\n",
              "      <td>21154</td>\n",
              "      <td>2014-07-29</td>\n",
              "      <td>38.0</td>\n",
              "      <td>19.000</td>\n",
              "      <td>9.0</td>\n",
              "      <td>3.0000</td>\n",
              "      <td>17.0000</td>\n",
              "      <td>1.0000</td>\n",
              "      <td>1998-01-01</td>\n",
              "      <td>1.0000</td>\n",
              "      <td>8.0000</td>\n",
              "      <td>81887.0</td>\n",
              "      <td>Hovrino</td>\n",
              "      <td>7.2000e+06</td>\n",
              "    </tr>\n",
              "    <tr>\n",
              "      <th>2023</th>\n",
              "      <td>12097</td>\n",
              "      <td>2013-11-13</td>\n",
              "      <td>47.0</td>\n",
              "      <td>27.000</td>\n",
              "      <td>5.0</td>\n",
              "      <td>3.0000</td>\n",
              "      <td>9.0000</td>\n",
              "      <td>1.0000</td>\n",
              "      <td>1972-01-01</td>\n",
              "      <td>2.0000</td>\n",
              "      <td>6.0000</td>\n",
              "      <td>81980.0</td>\n",
              "      <td>Jaroslavskoe</td>\n",
              "      <td>6.5000e+06</td>\n",
              "    </tr>\n",
              "    <tr>\n",
              "      <th>4536</th>\n",
              "      <td>15137</td>\n",
              "      <td>2014-02-18</td>\n",
              "      <td>60.0</td>\n",
              "      <td>30.000</td>\n",
              "      <td>8.0</td>\n",
              "      <td>3.0000</td>\n",
              "      <td>17.0000</td>\n",
              "      <td>1.0000</td>\n",
              "      <td>1988-01-01</td>\n",
              "      <td>2.0000</td>\n",
              "      <td>8.0000</td>\n",
              "      <td>125354.0</td>\n",
              "      <td>Chertanovo Severnoe</td>\n",
              "      <td>9.8000e+06</td>\n",
              "    </tr>\n",
              "  </tbody>\n",
              "</table>\n",
              "</div>\n",
              "      <button class=\"colab-df-convert\" onclick=\"convertToInteractive('df-591772e9-90d4-4e00-bcc7-163d78b12d2d')\"\n",
              "              title=\"Convert this dataframe to an interactive table.\"\n",
              "              style=\"display:none;\">\n",
              "        \n",
              "  <svg xmlns=\"http://www.w3.org/2000/svg\" height=\"24px\"viewBox=\"0 0 24 24\"\n",
              "       width=\"24px\">\n",
              "    <path d=\"M0 0h24v24H0V0z\" fill=\"none\"/>\n",
              "    <path d=\"M18.56 5.44l.94 2.06.94-2.06 2.06-.94-2.06-.94-.94-2.06-.94 2.06-2.06.94zm-11 1L8.5 8.5l.94-2.06 2.06-.94-2.06-.94L8.5 2.5l-.94 2.06-2.06.94zm10 10l.94 2.06.94-2.06 2.06-.94-2.06-.94-.94-2.06-.94 2.06-2.06.94z\"/><path d=\"M17.41 7.96l-1.37-1.37c-.4-.4-.92-.59-1.43-.59-.52 0-1.04.2-1.43.59L10.3 9.45l-7.72 7.72c-.78.78-.78 2.05 0 2.83L4 21.41c.39.39.9.59 1.41.59.51 0 1.02-.2 1.41-.59l7.78-7.78 2.81-2.81c.8-.78.8-2.07 0-2.86zM5.41 20L4 18.59l7.72-7.72 1.47 1.35L5.41 20z\"/>\n",
              "  </svg>\n",
              "      </button>\n",
              "      \n",
              "  <style>\n",
              "    .colab-df-container {\n",
              "      display:flex;\n",
              "      flex-wrap:wrap;\n",
              "      gap: 12px;\n",
              "    }\n",
              "\n",
              "    .colab-df-convert {\n",
              "      background-color: #E8F0FE;\n",
              "      border: none;\n",
              "      border-radius: 50%;\n",
              "      cursor: pointer;\n",
              "      display: none;\n",
              "      fill: #1967D2;\n",
              "      height: 32px;\n",
              "      padding: 0 0 0 0;\n",
              "      width: 32px;\n",
              "    }\n",
              "\n",
              "    .colab-df-convert:hover {\n",
              "      background-color: #E2EBFA;\n",
              "      box-shadow: 0px 1px 2px rgba(60, 64, 67, 0.3), 0px 1px 3px 1px rgba(60, 64, 67, 0.15);\n",
              "      fill: #174EA6;\n",
              "    }\n",
              "\n",
              "    [theme=dark] .colab-df-convert {\n",
              "      background-color: #3B4455;\n",
              "      fill: #D2E3FC;\n",
              "    }\n",
              "\n",
              "    [theme=dark] .colab-df-convert:hover {\n",
              "      background-color: #434B5C;\n",
              "      box-shadow: 0px 1px 3px 1px rgba(0, 0, 0, 0.15);\n",
              "      filter: drop-shadow(0px 1px 2px rgba(0, 0, 0, 0.3));\n",
              "      fill: #FFFFFF;\n",
              "    }\n",
              "  </style>\n",
              "\n",
              "      <script>\n",
              "        const buttonEl =\n",
              "          document.querySelector('#df-591772e9-90d4-4e00-bcc7-163d78b12d2d button.colab-df-convert');\n",
              "        buttonEl.style.display =\n",
              "          google.colab.kernel.accessAllowed ? 'block' : 'none';\n",
              "\n",
              "        async function convertToInteractive(key) {\n",
              "          const element = document.querySelector('#df-591772e9-90d4-4e00-bcc7-163d78b12d2d');\n",
              "          const dataTable =\n",
              "            await google.colab.kernel.invokeFunction('convertToInteractive',\n",
              "                                                     [key], {});\n",
              "          if (!dataTable) return;\n",
              "\n",
              "          const docLinkHtml = 'Like what you see? Visit the ' +\n",
              "            '<a target=\"_blank\" href=https://colab.research.google.com/notebooks/data_table.ipynb>data table notebook</a>'\n",
              "            + ' to learn more about interactive tables.';\n",
              "          element.innerHTML = '';\n",
              "          dataTable['output_type'] = 'display_data';\n",
              "          await google.colab.output.renderOutput(dataTable, element);\n",
              "          const docLink = document.createElement('div');\n",
              "          docLink.innerHTML = docLinkHtml;\n",
              "          element.appendChild(docLink);\n",
              "        }\n",
              "      </script>\n",
              "    </div>\n",
              "  </div>\n",
              "  "
            ]
          },
          "metadata": {},
          "execution_count": 35
        }
      ]
    },
    {
      "cell_type": "markdown",
      "source": [
        "- Количество пустых значений после замены nan на среднее значение конкретной колонны"
      ],
      "metadata": {
        "id": "1PZfKeZ5UdaI"
      }
    },
    {
      "cell_type": "code",
      "source": [
        "count_nan(df)"
      ],
      "metadata": {
        "colab": {
          "base_uri": "https://localhost:8080/"
        },
        "id": "2HiEub2zTQJL",
        "outputId": "3382c4d7-bba9-4cd2-c451-d43c3f62bbee"
      },
      "execution_count": 36,
      "outputs": [
        {
          "output_type": "stream",
          "name": "stdout",
          "text": [
            "id: 0\n",
            "timestamp: 0\n",
            "full_sq: 0\n",
            "life_sq: 0\n",
            "floor: 0\n",
            "state: 0\n",
            "max_floor: 0\n",
            "material: 0\n",
            "build_year: 2905\n",
            "num_room: 0\n",
            "kitch_sq: 0\n",
            "full_all: 0\n",
            "sub_area: 0\n",
            "price_doc: 0\n"
          ]
        }
      ]
    },
    {
      "cell_type": "markdown",
      "source": [
        "- Визуализируем датафрейм еще раз"
      ],
      "metadata": {
        "id": "JTGmqBWwU17E"
      }
    },
    {
      "cell_type": "code",
      "source": [
        "visualize_dataframe(df)"
      ],
      "metadata": {
        "colab": {
          "base_uri": "https://localhost:8080/",
          "height": 1000
        },
        "id": "1Z2LugWQUxPf",
        "outputId": "3313f490-5706-4519-f607-9e0c2b1659ef"
      },
      "execution_count": 37,
      "outputs": [
        {
          "output_type": "display_data",
          "data": {
            "text/plain": [
              "<Figure size 432x288 with 1 Axes>"
            ],
            "image/png": "[encoded data removed]"
          },
          "metadata": {
            "needs_background": "light"
          }
        },
        {
          "output_type": "display_data",
          "data": {
            "text/plain": [
              "<Figure size 432x288 with 1 Axes>"
            ],
            "image/png": "[encoded data removed]"
          },
          "metadata": {
            "needs_background": "light"
          }
        },
        {
          "output_type": "display_data",
          "data": {
            "text/plain": [
              "<Figure size 432x288 with 1 Axes>"
            ],
            "image/png": "[encoded data removed]"
          },
          "metadata": {
            "needs_background": "light"
          }
        },
        {
          "output_type": "display_data",
          "data": {
            "text/plain": [
              "<Figure size 432x288 with 1 Axes>"
            ],
            "image/png": "[encoded data removed]"
          },
          "metadata": {
            "needs_background": "light"
          }
        },
        {
          "output_type": "display_data",
          "data": {
            "text/plain": [
              "<Figure size 432x288 with 1 Axes>"
            ],
            "image/png": "[encoded data removed]"
          },
          "metadata": {
            "needs_background": "light"
          }
        },
        {
          "output_type": "display_data",
          "data": {
            "text/plain": [
              "<Figure size 432x288 with 1 Axes>"
            ],
            "image/png": "[encoded data removed]"
          },
          "metadata": {
            "needs_background": "light"
          }
        },
        {
          "output_type": "display_data",
          "data": {
            "text/plain": [
              "<Figure size 432x288 with 1 Axes>"
            ],
            "image/png": "[encoded data removed]"
          },
          "metadata": {
            "needs_background": "light"
          }
        },
        {
          "output_type": "display_data",
          "data": {
            "text/plain": [
              "<Figure size 432x288 with 1 Axes>"
            ],
            "image/png": "[encoded data removed]"
          },
          "metadata": {
            "needs_background": "light"
          }
        },
        {
          "output_type": "display_data",
          "data": {
            "text/plain": [
              "<Figure size 432x288 with 1 Axes>"
            ],
            "image/png": "[encoded data removed]"
          },
          "metadata": {
            "needs_background": "light"
          }
        },
        {
          "output_type": "display_data",
          "data": {
            "text/plain": [
              "<Figure size 432x288 with 1 Axes>"
            ],
            "image/png": "[encoded data removed]"
          },
          "metadata": {
            "needs_background": "light"
          }
        }
      ]
    },
    {
      "cell_type": "markdown",
      "source": [
        "### 1.3.2 Набор с макропоказателями"
      ],
      "metadata": {
        "id": "IzqxQKoTNbNV"
      }
    },
    {
      "cell_type": "markdown",
      "source": [
        "- В визуализации видно что есть небольшое количество выборосов, но ситуация явно лучше чем в первом датасете"
      ],
      "metadata": {
        "id": "CZX5NS8eVJ9K"
      }
    },
    {
      "cell_type": "code",
      "source": [
        "visualize_dataframe(macro)"
      ],
      "metadata": {
        "id": "j3du90RSNSM5",
        "colab": {
          "base_uri": "https://localhost:8080/",
          "height": 1000
        },
        "outputId": "1a7a952d-83e6-4bbf-ca97-cd150c49df2d"
      },
      "execution_count": 38,
      "outputs": [
        {
          "output_type": "display_data",
          "data": {
            "text/plain": [
              "<Figure size 432x288 with 1 Axes>"
            ],
            "image/png": "[encoded data removed]"
          },
          "metadata": {
            "needs_background": "light"
          }
        },
        {
          "output_type": "display_data",
          "data": {
            "text/plain": [
              "<Figure size 432x288 with 1 Axes>"
            ],
            "image/png": "[encoded data removed]"
          },
          "metadata": {
            "needs_background": "light"
          }
        },
        {
          "output_type": "display_data",
          "data": {
            "text/plain": [
              "<Figure size 432x288 with 1 Axes>"
            ],
            "image/png": "[encoded data removed]"
          },
          "metadata": {
            "needs_background": "light"
          }
        },
        {
          "output_type": "display_data",
          "data": {
            "text/plain": [
              "<Figure size 432x288 with 1 Axes>"
            ],
            "image/png": "[encoded data removed]"
          },
          "metadata": {
            "needs_background": "light"
          }
        },
        {
          "output_type": "display_data",
          "data": {
            "text/plain": [
              "<Figure size 432x288 with 1 Axes>"
            ],
            "image/png": "[encoded data removed]"
          },
          "metadata": {
            "needs_background": "light"
          }
        },
        {
          "output_type": "display_data",
          "data": {
            "text/plain": [
              "<Figure size 432x288 with 1 Axes>"
            ],
            "image/png": "[encoded data removed]"
          },
          "metadata": {
            "needs_background": "light"
          }
        }
      ]
    },
    {
      "cell_type": "markdown",
      "source": [
        "- Уберем некоторые очевидные выбросы, проигнорируя некоторые колонны в которых максимальные значения адекватные"
      ],
      "metadata": {
        "id": "zJwMimseYP5l"
      }
    },
    {
      "cell_type": "code",
      "source": [
        "macro = clear_outliers(macro, low_quantile=0.2, ignore_columns=['rent_price_3room_eco', 'average_life_exp'])"
      ],
      "metadata": {
        "id": "jRPyd7cnVT45"
      },
      "execution_count": 39,
      "outputs": []
    },
    {
      "cell_type": "code",
      "source": [
        "visualize_dataframe(macro)"
      ],
      "metadata": {
        "colab": {
          "base_uri": "https://localhost:8080/",
          "height": 1000
        },
        "id": "QXUk1-1YVqfU",
        "outputId": "7c0e46c8-0746-4c79-c28e-f0882976346d"
      },
      "execution_count": 40,
      "outputs": [
        {
          "output_type": "display_data",
          "data": {
            "text/plain": [
              "<Figure size 432x288 with 1 Axes>"
            ],
            "image/png": "[encoded data removed]"
          },
          "metadata": {
            "needs_background": "light"
          }
        },
        {
          "output_type": "display_data",
          "data": {
            "text/plain": [
              "<Figure size 432x288 with 1 Axes>"
            ],
            "image/png": "[encoded data removed]"
          },
          "metadata": {
            "needs_background": "light"
          }
        },
        {
          "output_type": "display_data",
          "data": {
            "text/plain": [
              "<Figure size 432x288 with 1 Axes>"
            ],
            "image/png": "[encoded data removed]"
          },
          "metadata": {
            "needs_background": "light"
          }
        },
        {
          "output_type": "display_data",
          "data": {
            "text/plain": [
              "<Figure size 432x288 with 1 Axes>"
            ],
            "image/png": "[encoded data removed]"
          },
          "metadata": {
            "needs_background": "light"
          }
        },
        {
          "output_type": "display_data",
          "data": {
            "text/plain": [
              "<Figure size 432x288 with 1 Axes>"
            ],
            "image/png": "[encoded data removed]"
          },
          "metadata": {
            "needs_background": "light"
          }
        },
        {
          "output_type": "display_data",
          "data": {
            "text/plain": [
              "<Figure size 432x288 with 1 Axes>"
            ],
            "image/png": "[encoded data removed]"
          },
          "metadata": {
            "needs_background": "light"
          }
        }
      ]
    },
    {
      "cell_type": "code",
      "source": [
        "count_nan(macro)"
      ],
      "metadata": {
        "colab": {
          "base_uri": "https://localhost:8080/"
        },
        "id": "6i7zjCfUYVQV",
        "outputId": "06ed99bd-5ba7-449e-b97b-d8663135bca0"
      },
      "execution_count": 41,
      "outputs": [
        {
          "output_type": "stream",
          "name": "stdout",
          "text": [
            "timestamp: 0\n",
            "salary: 658\n",
            "fixed_basket: 485\n",
            "rent_price_3room_eco: 273\n",
            "rent_price_2room_eco: 697\n",
            "rent_price_1room_eco: 700\n",
            "average_life_exp: 293\n"
          ]
        }
      ]
    },
    {
      "cell_type": "code",
      "source": [
        "macro = fill_nan_data(macro)\n",
        "macro.sample(15)"
      ],
      "metadata": {
        "colab": {
          "base_uri": "https://localhost:8080/",
          "height": 520
        },
        "id": "8HV3xP1pYbLi",
        "outputId": "c624900f-bc7c-46ab-e853-3763f08c8c8e"
      },
      "execution_count": 42,
      "outputs": [
        {
          "output_type": "execute_result",
          "data": {
            "text/plain": [
              "      timestamp      salary  fixed_basket  rent_price_3room_eco  \\\n",
              "2292 2016-04-11  54943.1106    19904.3100               47.9700   \n",
              "1232 2013-05-17  55485.2000    14983.9200               47.3500   \n",
              "1534 2014-03-15  61208.0000    15916.8800               49.7500   \n",
              "1860 2015-02-04  64310.0000    18295.0700               51.4900   \n",
              "2006 2015-06-30  64310.0000    18720.6500               49.0100   \n",
              "1651 2014-07-10  61208.0000    16251.4100               50.9300   \n",
              "1370 2013-10-02  55485.2000    15285.6500               48.2800   \n",
              "1061 2012-11-27  48830.4000    13872.8200               48.9700   \n",
              "789  2012-02-29  48830.4000    13166.8800               45.5300   \n",
              "866  2012-05-16  48830.4000    13350.3200               44.5700   \n",
              "2184 2015-12-25  64310.0000    19274.4200               49.4200   \n",
              "1124 2013-01-29  55485.2000    14289.4000               45.2000   \n",
              "880  2012-05-30  48830.4000    13350.3200               44.5700   \n",
              "2103 2015-10-05  64310.0000    19140.8700               49.6700   \n",
              "83   2010-03-25  54943.1106    16131.2946               47.2997   \n",
              "\n",
              "      rent_price_2room_eco  rent_price_1room_eco  average_life_exp  \n",
              "2292               40.2572               32.0755           75.9282  \n",
              "1232               40.7700               32.0755           76.3700  \n",
              "1534               41.9100               33.2600           76.7000  \n",
              "1860               41.8600               34.3500           76.7700  \n",
              "2006               38.9100               30.2900           76.7700  \n",
              "1651               41.9700               33.6700           76.7000  \n",
              "1370               41.9600               34.5200           76.3700  \n",
              "1061               40.8300               32.9300           75.7400  \n",
              "789                38.3900               31.1200           75.7400  \n",
              "866                37.9600               30.6700           75.7400  \n",
              "2184               40.0900               30.3700           76.7700  \n",
              "1124               40.2500               32.8400           76.3700  \n",
              "880                37.9600               30.6700           75.7400  \n",
              "2103               38.8400               30.4100           76.7700  \n",
              "83                 40.2572               32.0755           74.2000  "
            ],
            "text/html": [
              "\n",
              "  <div id=\"df-7afa57ab-12e6-46ac-9693-30935c0ddf42\">\n",
              "    <div class=\"colab-df-container\">\n",
              "      <div>\n",
              "<style scoped>\n",
              "    .dataframe tbody tr th:only-of-type {\n",
              "        vertical-align: middle;\n",
              "    }\n",
              "\n",
              "    .dataframe tbody tr th {\n",
              "        vertical-align: top;\n",
              "    }\n",
              "\n",
              "    .dataframe thead th {\n",
              "        text-align: right;\n",
              "    }\n",
              "</style>\n",
              "<table border=\"1\" class=\"dataframe\">\n",
              "  <thead>\n",
              "    <tr style=\"text-align: right;\">\n",
              "      <th></th>\n",
              "      <th>timestamp</th>\n",
              "      <th>salary</th>\n",
              "      <th>fixed_basket</th>\n",
              "      <th>rent_price_3room_eco</th>\n",
              "      <th>rent_price_2room_eco</th>\n",
              "      <th>rent_price_1room_eco</th>\n",
              "      <th>average_life_exp</th>\n",
              "    </tr>\n",
              "  </thead>\n",
              "  <tbody>\n",
              "    <tr>\n",
              "      <th>2292</th>\n",
              "      <td>2016-04-11</td>\n",
              "      <td>54943.1106</td>\n",
              "      <td>19904.3100</td>\n",
              "      <td>47.9700</td>\n",
              "      <td>40.2572</td>\n",
              "      <td>32.0755</td>\n",
              "      <td>75.9282</td>\n",
              "    </tr>\n",
              "    <tr>\n",
              "      <th>1232</th>\n",
              "      <td>2013-05-17</td>\n",
              "      <td>55485.2000</td>\n",
              "      <td>14983.9200</td>\n",
              "      <td>47.3500</td>\n",
              "      <td>40.7700</td>\n",
              "      <td>32.0755</td>\n",
              "      <td>76.3700</td>\n",
              "    </tr>\n",
              "    <tr>\n",
              "      <th>1534</th>\n",
              "      <td>2014-03-15</td>\n",
              "      <td>61208.0000</td>\n",
              "      <td>15916.8800</td>\n",
              "      <td>49.7500</td>\n",
              "      <td>41.9100</td>\n",
              "      <td>33.2600</td>\n",
              "      <td>76.7000</td>\n",
              "    </tr>\n",
              "    <tr>\n",
              "      <th>1860</th>\n",
              "      <td>2015-02-04</td>\n",
              "      <td>64310.0000</td>\n",
              "      <td>18295.0700</td>\n",
              "      <td>51.4900</td>\n",
              "      <td>41.8600</td>\n",
              "      <td>34.3500</td>\n",
              "      <td>76.7700</td>\n",
              "    </tr>\n",
              "    <tr>\n",
              "      <th>2006</th>\n",
              "      <td>2015-06-30</td>\n",
              "      <td>64310.0000</td>\n",
              "      <td>18720.6500</td>\n",
              "      <td>49.0100</td>\n",
              "      <td>38.9100</td>\n",
              "      <td>30.2900</td>\n",
              "      <td>76.7700</td>\n",
              "    </tr>\n",
              "    <tr>\n",
              "      <th>1651</th>\n",
              "      <td>2014-07-10</td>\n",
              "      <td>61208.0000</td>\n",
              "      <td>16251.4100</td>\n",
              "      <td>50.9300</td>\n",
              "      <td>41.9700</td>\n",
              "      <td>33.6700</td>\n",
              "      <td>76.7000</td>\n",
              "    </tr>\n",
              "    <tr>\n",
              "      <th>1370</th>\n",
              "      <td>2013-10-02</td>\n",
              "      <td>55485.2000</td>\n",
              "      <td>15285.6500</td>\n",
              "      <td>48.2800</td>\n",
              "      <td>41.9600</td>\n",
              "      <td>34.5200</td>\n",
              "      <td>76.3700</td>\n",
              "    </tr>\n",
              "    <tr>\n",
              "      <th>1061</th>\n",
              "      <td>2012-11-27</td>\n",
              "      <td>48830.4000</td>\n",
              "      <td>13872.8200</td>\n",
              "      <td>48.9700</td>\n",
              "      <td>40.8300</td>\n",
              "      <td>32.9300</td>\n",
              "      <td>75.7400</td>\n",
              "    </tr>\n",
              "    <tr>\n",
              "      <th>789</th>\n",
              "      <td>2012-02-29</td>\n",
              "      <td>48830.4000</td>\n",
              "      <td>13166.8800</td>\n",
              "      <td>45.5300</td>\n",
              "      <td>38.3900</td>\n",
              "      <td>31.1200</td>\n",
              "      <td>75.7400</td>\n",
              "    </tr>\n",
              "    <tr>\n",
              "      <th>866</th>\n",
              "      <td>2012-05-16</td>\n",
              "      <td>48830.4000</td>\n",
              "      <td>13350.3200</td>\n",
              "      <td>44.5700</td>\n",
              "      <td>37.9600</td>\n",
              "      <td>30.6700</td>\n",
              "      <td>75.7400</td>\n",
              "    </tr>\n",
              "    <tr>\n",
              "      <th>2184</th>\n",
              "      <td>2015-12-25</td>\n",
              "      <td>64310.0000</td>\n",
              "      <td>19274.4200</td>\n",
              "      <td>49.4200</td>\n",
              "      <td>40.0900</td>\n",
              "      <td>30.3700</td>\n",
              "      <td>76.7700</td>\n",
              "    </tr>\n",
              "    <tr>\n",
              "      <th>1124</th>\n",
              "      <td>2013-01-29</td>\n",
              "      <td>55485.2000</td>\n",
              "      <td>14289.4000</td>\n",
              "      <td>45.2000</td>\n",
              "      <td>40.2500</td>\n",
              "      <td>32.8400</td>\n",
              "      <td>76.3700</td>\n",
              "    </tr>\n",
              "    <tr>\n",
              "      <th>880</th>\n",
              "      <td>2012-05-30</td>\n",
              "      <td>48830.4000</td>\n",
              "      <td>13350.3200</td>\n",
              "      <td>44.5700</td>\n",
              "      <td>37.9600</td>\n",
              "      <td>30.6700</td>\n",
              "      <td>75.7400</td>\n",
              "    </tr>\n",
              "    <tr>\n",
              "      <th>2103</th>\n",
              "      <td>2015-10-05</td>\n",
              "      <td>64310.0000</td>\n",
              "      <td>19140.8700</td>\n",
              "      <td>49.6700</td>\n",
              "      <td>38.8400</td>\n",
              "      <td>30.4100</td>\n",
              "      <td>76.7700</td>\n",
              "    </tr>\n",
              "    <tr>\n",
              "      <th>83</th>\n",
              "      <td>2010-03-25</td>\n",
              "      <td>54943.1106</td>\n",
              "      <td>16131.2946</td>\n",
              "      <td>47.2997</td>\n",
              "      <td>40.2572</td>\n",
              "      <td>32.0755</td>\n",
              "      <td>74.2000</td>\n",
              "    </tr>\n",
              "  </tbody>\n",
              "</table>\n",
              "</div>\n",
              "      <button class=\"colab-df-convert\" onclick=\"convertToInteractive('df-7afa57ab-12e6-46ac-9693-30935c0ddf42')\"\n",
              "              title=\"Convert this dataframe to an interactive table.\"\n",
              "              style=\"display:none;\">\n",
              "        \n",
              "  <svg xmlns=\"http://www.w3.org/2000/svg\" height=\"24px\"viewBox=\"0 0 24 24\"\n",
              "       width=\"24px\">\n",
              "    <path d=\"M0 0h24v24H0V0z\" fill=\"none\"/>\n",
              "    <path d=\"M18.56 5.44l.94 2.06.94-2.06 2.06-.94-2.06-.94-.94-2.06-.94 2.06-2.06.94zm-11 1L8.5 8.5l.94-2.06 2.06-.94-2.06-.94L8.5 2.5l-.94 2.06-2.06.94zm10 10l.94 2.06.94-2.06 2.06-.94-2.06-.94-.94-2.06-.94 2.06-2.06.94z\"/><path d=\"M17.41 7.96l-1.37-1.37c-.4-.4-.92-.59-1.43-.59-.52 0-1.04.2-1.43.59L10.3 9.45l-7.72 7.72c-.78.78-.78 2.05 0 2.83L4 21.41c.39.39.9.59 1.41.59.51 0 1.02-.2 1.41-.59l7.78-7.78 2.81-2.81c.8-.78.8-2.07 0-2.86zM5.41 20L4 18.59l7.72-7.72 1.47 1.35L5.41 20z\"/>\n",
              "  </svg>\n",
              "      </button>\n",
              "      \n",
              "  <style>\n",
              "    .colab-df-container {\n",
              "      display:flex;\n",
              "      flex-wrap:wrap;\n",
              "      gap: 12px;\n",
              "    }\n",
              "\n",
              "    .colab-df-convert {\n",
              "      background-color: #E8F0FE;\n",
              "      border: none;\n",
              "      border-radius: 50%;\n",
              "      cursor: pointer;\n",
              "      display: none;\n",
              "      fill: #1967D2;\n",
              "      height: 32px;\n",
              "      padding: 0 0 0 0;\n",
              "      width: 32px;\n",
              "    }\n",
              "\n",
              "    .colab-df-convert:hover {\n",
              "      background-color: #E2EBFA;\n",
              "      box-shadow: 0px 1px 2px rgba(60, 64, 67, 0.3), 0px 1px 3px 1px rgba(60, 64, 67, 0.15);\n",
              "      fill: #174EA6;\n",
              "    }\n",
              "\n",
              "    [theme=dark] .colab-df-convert {\n",
              "      background-color: #3B4455;\n",
              "      fill: #D2E3FC;\n",
              "    }\n",
              "\n",
              "    [theme=dark] .colab-df-convert:hover {\n",
              "      background-color: #434B5C;\n",
              "      box-shadow: 0px 1px 3px 1px rgba(0, 0, 0, 0.15);\n",
              "      filter: drop-shadow(0px 1px 2px rgba(0, 0, 0, 0.3));\n",
              "      fill: #FFFFFF;\n",
              "    }\n",
              "  </style>\n",
              "\n",
              "      <script>\n",
              "        const buttonEl =\n",
              "          document.querySelector('#df-7afa57ab-12e6-46ac-9693-30935c0ddf42 button.colab-df-convert');\n",
              "        buttonEl.style.display =\n",
              "          google.colab.kernel.accessAllowed ? 'block' : 'none';\n",
              "\n",
              "        async function convertToInteractive(key) {\n",
              "          const element = document.querySelector('#df-7afa57ab-12e6-46ac-9693-30935c0ddf42');\n",
              "          const dataTable =\n",
              "            await google.colab.kernel.invokeFunction('convertToInteractive',\n",
              "                                                     [key], {});\n",
              "          if (!dataTable) return;\n",
              "\n",
              "          const docLinkHtml = 'Like what you see? Visit the ' +\n",
              "            '<a target=\"_blank\" href=https://colab.research.google.com/notebooks/data_table.ipynb>data table notebook</a>'\n",
              "            + ' to learn more about interactive tables.';\n",
              "          element.innerHTML = '';\n",
              "          dataTable['output_type'] = 'display_data';\n",
              "          await google.colab.output.renderOutput(dataTable, element);\n",
              "          const docLink = document.createElement('div');\n",
              "          docLink.innerHTML = docLinkHtml;\n",
              "          element.appendChild(docLink);\n",
              "        }\n",
              "      </script>\n",
              "    </div>\n",
              "  </div>\n",
              "  "
            ]
          },
          "metadata": {},
          "execution_count": 42
        }
      ]
    },
    {
      "cell_type": "code",
      "source": [
        "count_nan(macro)"
      ],
      "metadata": {
        "colab": {
          "base_uri": "https://localhost:8080/"
        },
        "id": "Qa1KQkOCYgCw",
        "outputId": "62ccb990-8a94-447c-dae5-bc5bbad0aa61"
      },
      "execution_count": 43,
      "outputs": [
        {
          "output_type": "stream",
          "name": "stdout",
          "text": [
            "timestamp: 0\n",
            "salary: 0\n",
            "fixed_basket: 0\n",
            "rent_price_3room_eco: 0\n",
            "rent_price_2room_eco: 0\n",
            "rent_price_1room_eco: 0\n",
            "average_life_exp: 0\n"
          ]
        }
      ]
    },
    {
      "cell_type": "code",
      "source": [
        "visualize_dataframe(macro)"
      ],
      "metadata": {
        "colab": {
          "base_uri": "https://localhost:8080/",
          "height": 1000
        },
        "id": "RdXDBkOWYiLY",
        "outputId": "1380d50b-e795-4fe7-b85c-1474c9dd784d"
      },
      "execution_count": 44,
      "outputs": [
        {
          "output_type": "display_data",
          "data": {
            "text/plain": [
              "<Figure size 432x288 with 1 Axes>"
            ],
            "image/png": "[encoded data removed]"
          },
          "metadata": {
            "needs_background": "light"
          }
        },
        {
          "output_type": "display_data",
          "data": {
            "text/plain": [
              "<Figure size 432x288 with 1 Axes>"
            ],
            "image/png": "[encoded data removed]"
          },
          "metadata": {
            "needs_background": "light"
          }
        },
        {
          "output_type": "display_data",
          "data": {
            "text/plain": [
              "<Figure size 432x288 with 1 Axes>"
            ],
            "image/png": "[encoded data removed]"
          },
          "metadata": {
            "needs_background": "light"
          }
        },
        {
          "output_type": "display_data",
          "data": {
            "text/plain": [
              "<Figure size 432x288 with 1 Axes>"
            ],
            "image/png": "[encoded data removed]"
          },
          "metadata": {
            "needs_background": "light"
          }
        },
        {
          "output_type": "display_data",
          "data": {
            "text/plain": [
              "<Figure size 432x288 with 1 Axes>"
            ],
            "image/png": "[encoded data removed]"
          },
          "metadata": {
            "needs_background": "light"
          }
        },
        {
          "output_type": "display_data",
          "data": {
            "text/plain": [
              "<Figure size 432x288 with 1 Axes>"
            ],
            "image/png": "[encoded data removed]"
          },
          "metadata": {
            "needs_background": "light"
          }
        }
      ]
    },
    {
      "cell_type": "markdown",
      "source": [
        "- После махинаций со средними и пустыми значениями почти ничего не изменилось, только ушли аномальные выбросы"
      ],
      "metadata": {
        "id": "zm0uEhsjYmP3"
      }
    },
    {
      "cell_type": "markdown",
      "source": [
        "## 1.4 Обогатите основной набор данных данными из макропоказателей и поместите в переменную `df_full`"
      ],
      "metadata": {
        "id": "E1ic1LZoSWNx"
      }
    },
    {
      "cell_type": "code",
      "source": [
        "df.head(5)"
      ],
      "metadata": {
        "id": "Q8jFXRrGSlKp",
        "colab": {
          "base_uri": "https://localhost:8080/",
          "height": 206
        },
        "outputId": "1adce39f-8d47-40b5-b2e7-018ddbe7ff00"
      },
      "execution_count": 45,
      "outputs": [
        {
          "output_type": "execute_result",
          "data": {
            "text/plain": [
              "     id  timestamp  full_sq  life_sq  floor   state  max_floor  material  \\\n",
              "0  8059 2013-05-21     11.0     11.0    2.0  3.0000        5.0       2.0   \n",
              "1  8138 2013-05-25     53.0     30.0   10.0  3.0000       16.0       1.0   \n",
              "2  8156 2013-05-27     77.0     41.0    2.0  1.0000       17.0       6.0   \n",
              "3  8157 2013-05-27     45.0     27.0    6.0  3.0000        9.0       1.0   \n",
              "4  8178 2013-05-28     38.0     20.0   15.0  2.1993       16.0       1.0   \n",
              "\n",
              "  build_year  num_room  kitch_sq  full_all                 sub_area  price_doc  \n",
              "0 1907-01-01       1.0      12.0   75377.0                Hamovniki  2750000.0  \n",
              "1 1980-01-01       2.0       8.0   68630.0                Lianozovo  9000000.0  \n",
              "2 2014-01-01       3.0      12.0    9553.0  Poselenie Voskresenskoe  7011550.0  \n",
              "3 1970-01-01       2.0       6.0   78616.0          Severnoe Butovo  7100000.0  \n",
              "4 1982-01-01       1.0       8.0  112804.0           Filevskij Park  6450000.0  "
            ],
            "text/html": [
              "\n",
              "  <div id=\"df-9fbf93e2-3de6-44de-8458-50ba2c19c331\">\n",
              "    <div class=\"colab-df-container\">\n",
              "      <div>\n",
              "<style scoped>\n",
              "    .dataframe tbody tr th:only-of-type {\n",
              "        vertical-align: middle;\n",
              "    }\n",
              "\n",
              "    .dataframe tbody tr th {\n",
              "        vertical-align: top;\n",
              "    }\n",
              "\n",
              "    .dataframe thead th {\n",
              "        text-align: right;\n",
              "    }\n",
              "</style>\n",
              "<table border=\"1\" class=\"dataframe\">\n",
              "  <thead>\n",
              "    <tr style=\"text-align: right;\">\n",
              "      <th></th>\n",
              "      <th>id</th>\n",
              "      <th>timestamp</th>\n",
              "      <th>full_sq</th>\n",
              "      <th>life_sq</th>\n",
              "      <th>floor</th>\n",
              "      <th>state</th>\n",
              "      <th>max_floor</th>\n",
              "      <th>material</th>\n",
              "      <th>build_year</th>\n",
              "      <th>num_room</th>\n",
              "      <th>kitch_sq</th>\n",
              "      <th>full_all</th>\n",
              "      <th>sub_area</th>\n",
              "      <th>price_doc</th>\n",
              "    </tr>\n",
              "  </thead>\n",
              "  <tbody>\n",
              "    <tr>\n",
              "      <th>0</th>\n",
              "      <td>8059</td>\n",
              "      <td>2013-05-21</td>\n",
              "      <td>11.0</td>\n",
              "      <td>11.0</td>\n",
              "      <td>2.0</td>\n",
              "      <td>3.0000</td>\n",
              "      <td>5.0</td>\n",
              "      <td>2.0</td>\n",
              "      <td>1907-01-01</td>\n",
              "      <td>1.0</td>\n",
              "      <td>12.0</td>\n",
              "      <td>75377.0</td>\n",
              "      <td>Hamovniki</td>\n",
              "      <td>2750000.0</td>\n",
              "    </tr>\n",
              "    <tr>\n",
              "      <th>1</th>\n",
              "      <td>8138</td>\n",
              "      <td>2013-05-25</td>\n",
              "      <td>53.0</td>\n",
              "      <td>30.0</td>\n",
              "      <td>10.0</td>\n",
              "      <td>3.0000</td>\n",
              "      <td>16.0</td>\n",
              "      <td>1.0</td>\n",
              "      <td>1980-01-01</td>\n",
              "      <td>2.0</td>\n",
              "      <td>8.0</td>\n",
              "      <td>68630.0</td>\n",
              "      <td>Lianozovo</td>\n",
              "      <td>9000000.0</td>\n",
              "    </tr>\n",
              "    <tr>\n",
              "      <th>2</th>\n",
              "      <td>8156</td>\n",
              "      <td>2013-05-27</td>\n",
              "      <td>77.0</td>\n",
              "      <td>41.0</td>\n",
              "      <td>2.0</td>\n",
              "      <td>1.0000</td>\n",
              "      <td>17.0</td>\n",
              "      <td>6.0</td>\n",
              "      <td>2014-01-01</td>\n",
              "      <td>3.0</td>\n",
              "      <td>12.0</td>\n",
              "      <td>9553.0</td>\n",
              "      <td>Poselenie Voskresenskoe</td>\n",
              "      <td>7011550.0</td>\n",
              "    </tr>\n",
              "    <tr>\n",
              "      <th>3</th>\n",
              "      <td>8157</td>\n",
              "      <td>2013-05-27</td>\n",
              "      <td>45.0</td>\n",
              "      <td>27.0</td>\n",
              "      <td>6.0</td>\n",
              "      <td>3.0000</td>\n",
              "      <td>9.0</td>\n",
              "      <td>1.0</td>\n",
              "      <td>1970-01-01</td>\n",
              "      <td>2.0</td>\n",
              "      <td>6.0</td>\n",
              "      <td>78616.0</td>\n",
              "      <td>Severnoe Butovo</td>\n",
              "      <td>7100000.0</td>\n",
              "    </tr>\n",
              "    <tr>\n",
              "      <th>4</th>\n",
              "      <td>8178</td>\n",
              "      <td>2013-05-28</td>\n",
              "      <td>38.0</td>\n",
              "      <td>20.0</td>\n",
              "      <td>15.0</td>\n",
              "      <td>2.1993</td>\n",
              "      <td>16.0</td>\n",
              "      <td>1.0</td>\n",
              "      <td>1982-01-01</td>\n",
              "      <td>1.0</td>\n",
              "      <td>8.0</td>\n",
              "      <td>112804.0</td>\n",
              "      <td>Filevskij Park</td>\n",
              "      <td>6450000.0</td>\n",
              "    </tr>\n",
              "  </tbody>\n",
              "</table>\n",
              "</div>\n",
              "      <button class=\"colab-df-convert\" onclick=\"convertToInteractive('df-9fbf93e2-3de6-44de-8458-50ba2c19c331')\"\n",
              "              title=\"Convert this dataframe to an interactive table.\"\n",
              "              style=\"display:none;\">\n",
              "        \n",
              "  <svg xmlns=\"http://www.w3.org/2000/svg\" height=\"24px\"viewBox=\"0 0 24 24\"\n",
              "       width=\"24px\">\n",
              "    <path d=\"M0 0h24v24H0V0z\" fill=\"none\"/>\n",
              "    <path d=\"M18.56 5.44l.94 2.06.94-2.06 2.06-.94-2.06-.94-.94-2.06-.94 2.06-2.06.94zm-11 1L8.5 8.5l.94-2.06 2.06-.94-2.06-.94L8.5 2.5l-.94 2.06-2.06.94zm10 10l.94 2.06.94-2.06 2.06-.94-2.06-.94-.94-2.06-.94 2.06-2.06.94z\"/><path d=\"M17.41 7.96l-1.37-1.37c-.4-.4-.92-.59-1.43-.59-.52 0-1.04.2-1.43.59L10.3 9.45l-7.72 7.72c-.78.78-.78 2.05 0 2.83L4 21.41c.39.39.9.59 1.41.59.51 0 1.02-.2 1.41-.59l7.78-7.78 2.81-2.81c.8-.78.8-2.07 0-2.86zM5.41 20L4 18.59l7.72-7.72 1.47 1.35L5.41 20z\"/>\n",
              "  </svg>\n",
              "      </button>\n",
              "      \n",
              "  <style>\n",
              "    .colab-df-container {\n",
              "      display:flex;\n",
              "      flex-wrap:wrap;\n",
              "      gap: 12px;\n",
              "    }\n",
              "\n",
              "    .colab-df-convert {\n",
              "      background-color: #E8F0FE;\n",
              "      border: none;\n",
              "      border-radius: 50%;\n",
              "      cursor: pointer;\n",
              "      display: none;\n",
              "      fill: #1967D2;\n",
              "      height: 32px;\n",
              "      padding: 0 0 0 0;\n",
              "      width: 32px;\n",
              "    }\n",
              "\n",
              "    .colab-df-convert:hover {\n",
              "      background-color: #E2EBFA;\n",
              "      box-shadow: 0px 1px 2px rgba(60, 64, 67, 0.3), 0px 1px 3px 1px rgba(60, 64, 67, 0.15);\n",
              "      fill: #174EA6;\n",
              "    }\n",
              "\n",
              "    [theme=dark] .colab-df-convert {\n",
              "      background-color: #3B4455;\n",
              "      fill: #D2E3FC;\n",
              "    }\n",
              "\n",
              "    [theme=dark] .colab-df-convert:hover {\n",
              "      background-color: #434B5C;\n",
              "      box-shadow: 0px 1px 3px 1px rgba(0, 0, 0, 0.15);\n",
              "      filter: drop-shadow(0px 1px 2px rgba(0, 0, 0, 0.3));\n",
              "      fill: #FFFFFF;\n",
              "    }\n",
              "  </style>\n",
              "\n",
              "      <script>\n",
              "        const buttonEl =\n",
              "          document.querySelector('#df-9fbf93e2-3de6-44de-8458-50ba2c19c331 button.colab-df-convert');\n",
              "        buttonEl.style.display =\n",
              "          google.colab.kernel.accessAllowed ? 'block' : 'none';\n",
              "\n",
              "        async function convertToInteractive(key) {\n",
              "          const element = document.querySelector('#df-9fbf93e2-3de6-44de-8458-50ba2c19c331');\n",
              "          const dataTable =\n",
              "            await google.colab.kernel.invokeFunction('convertToInteractive',\n",
              "                                                     [key], {});\n",
              "          if (!dataTable) return;\n",
              "\n",
              "          const docLinkHtml = 'Like what you see? Visit the ' +\n",
              "            '<a target=\"_blank\" href=https://colab.research.google.com/notebooks/data_table.ipynb>data table notebook</a>'\n",
              "            + ' to learn more about interactive tables.';\n",
              "          element.innerHTML = '';\n",
              "          dataTable['output_type'] = 'display_data';\n",
              "          await google.colab.output.renderOutput(dataTable, element);\n",
              "          const docLink = document.createElement('div');\n",
              "          docLink.innerHTML = docLinkHtml;\n",
              "          element.appendChild(docLink);\n",
              "        }\n",
              "      </script>\n",
              "    </div>\n",
              "  </div>\n",
              "  "
            ]
          },
          "metadata": {},
          "execution_count": 45
        }
      ]
    },
    {
      "cell_type": "code",
      "source": [
        "df.shape"
      ],
      "metadata": {
        "colab": {
          "base_uri": "https://localhost:8080/"
        },
        "id": "Z2Q-qY3ip3kF",
        "outputId": "4ed15d6e-6b1f-41d5-d3ff-964c166c7594"
      },
      "execution_count": 46,
      "outputs": [
        {
          "output_type": "execute_result",
          "data": {
            "text/plain": [
              "(18866, 14)"
            ]
          },
          "metadata": {},
          "execution_count": 46
        }
      ]
    },
    {
      "cell_type": "code",
      "source": [
        "macro.head(5)"
      ],
      "metadata": {
        "colab": {
          "base_uri": "https://localhost:8080/",
          "height": 206
        },
        "id": "LYNxsZkypISQ",
        "outputId": "a8c0188a-7fed-42b0-c596-3d676a90937d"
      },
      "execution_count": 47,
      "outputs": [
        {
          "output_type": "execute_result",
          "data": {
            "text/plain": [
              "   timestamp      salary  fixed_basket  rent_price_3room_eco  \\\n",
              "0 2010-01-01  54943.1106    16131.2946               47.2997   \n",
              "1 2010-01-02  54943.1106    16131.2946               47.2997   \n",
              "2 2010-01-03  54943.1106    16131.2946               47.2997   \n",
              "3 2010-01-04  54943.1106    16131.2946               47.2997   \n",
              "4 2010-01-05  54943.1106    16131.2946               47.2997   \n",
              "\n",
              "   rent_price_2room_eco  rent_price_1room_eco  average_life_exp  \n",
              "0               40.2572               32.0755              74.2  \n",
              "1               40.2572               32.0755              74.2  \n",
              "2               40.2572               32.0755              74.2  \n",
              "3               40.2572               32.0755              74.2  \n",
              "4               40.2572               32.0755              74.2  "
            ],
            "text/html": [
              "\n",
              "  <div id=\"df-04d768ae-1535-466c-8bcf-8f3ac4d3b4e7\">\n",
              "    <div class=\"colab-df-container\">\n",
              "      <div>\n",
              "<style scoped>\n",
              "    .dataframe tbody tr th:only-of-type {\n",
              "        vertical-align: middle;\n",
              "    }\n",
              "\n",
              "    .dataframe tbody tr th {\n",
              "        vertical-align: top;\n",
              "    }\n",
              "\n",
              "    .dataframe thead th {\n",
              "        text-align: right;\n",
              "    }\n",
              "</style>\n",
              "<table border=\"1\" class=\"dataframe\">\n",
              "  <thead>\n",
              "    <tr style=\"text-align: right;\">\n",
              "      <th></th>\n",
              "      <th>timestamp</th>\n",
              "      <th>salary</th>\n",
              "      <th>fixed_basket</th>\n",
              "      <th>rent_price_3room_eco</th>\n",
              "      <th>rent_price_2room_eco</th>\n",
              "      <th>rent_price_1room_eco</th>\n",
              "      <th>average_life_exp</th>\n",
              "    </tr>\n",
              "  </thead>\n",
              "  <tbody>\n",
              "    <tr>\n",
              "      <th>0</th>\n",
              "      <td>2010-01-01</td>\n",
              "      <td>54943.1106</td>\n",
              "      <td>16131.2946</td>\n",
              "      <td>47.2997</td>\n",
              "      <td>40.2572</td>\n",
              "      <td>32.0755</td>\n",
              "      <td>74.2</td>\n",
              "    </tr>\n",
              "    <tr>\n",
              "      <th>1</th>\n",
              "      <td>2010-01-02</td>\n",
              "      <td>54943.1106</td>\n",
              "      <td>16131.2946</td>\n",
              "      <td>47.2997</td>\n",
              "      <td>40.2572</td>\n",
              "      <td>32.0755</td>\n",
              "      <td>74.2</td>\n",
              "    </tr>\n",
              "    <tr>\n",
              "      <th>2</th>\n",
              "      <td>2010-01-03</td>\n",
              "      <td>54943.1106</td>\n",
              "      <td>16131.2946</td>\n",
              "      <td>47.2997</td>\n",
              "      <td>40.2572</td>\n",
              "      <td>32.0755</td>\n",
              "      <td>74.2</td>\n",
              "    </tr>\n",
              "    <tr>\n",
              "      <th>3</th>\n",
              "      <td>2010-01-04</td>\n",
              "      <td>54943.1106</td>\n",
              "      <td>16131.2946</td>\n",
              "      <td>47.2997</td>\n",
              "      <td>40.2572</td>\n",
              "      <td>32.0755</td>\n",
              "      <td>74.2</td>\n",
              "    </tr>\n",
              "    <tr>\n",
              "      <th>4</th>\n",
              "      <td>2010-01-05</td>\n",
              "      <td>54943.1106</td>\n",
              "      <td>16131.2946</td>\n",
              "      <td>47.2997</td>\n",
              "      <td>40.2572</td>\n",
              "      <td>32.0755</td>\n",
              "      <td>74.2</td>\n",
              "    </tr>\n",
              "  </tbody>\n",
              "</table>\n",
              "</div>\n",
              "      <button class=\"colab-df-convert\" onclick=\"convertToInteractive('df-04d768ae-1535-466c-8bcf-8f3ac4d3b4e7')\"\n",
              "              title=\"Convert this dataframe to an interactive table.\"\n",
              "              style=\"display:none;\">\n",
              "        \n",
              "  <svg xmlns=\"http://www.w3.org/2000/svg\" height=\"24px\"viewBox=\"0 0 24 24\"\n",
              "       width=\"24px\">\n",
              "    <path d=\"M0 0h24v24H0V0z\" fill=\"none\"/>\n",
              "    <path d=\"M18.56 5.44l.94 2.06.94-2.06 2.06-.94-2.06-.94-.94-2.06-.94 2.06-2.06.94zm-11 1L8.5 8.5l.94-2.06 2.06-.94-2.06-.94L8.5 2.5l-.94 2.06-2.06.94zm10 10l.94 2.06.94-2.06 2.06-.94-2.06-.94-.94-2.06-.94 2.06-2.06.94z\"/><path d=\"M17.41 7.96l-1.37-1.37c-.4-.4-.92-.59-1.43-.59-.52 0-1.04.2-1.43.59L10.3 9.45l-7.72 7.72c-.78.78-.78 2.05 0 2.83L4 21.41c.39.39.9.59 1.41.59.51 0 1.02-.2 1.41-.59l7.78-7.78 2.81-2.81c.8-.78.8-2.07 0-2.86zM5.41 20L4 18.59l7.72-7.72 1.47 1.35L5.41 20z\"/>\n",
              "  </svg>\n",
              "      </button>\n",
              "      \n",
              "  <style>\n",
              "    .colab-df-container {\n",
              "      display:flex;\n",
              "      flex-wrap:wrap;\n",
              "      gap: 12px;\n",
              "    }\n",
              "\n",
              "    .colab-df-convert {\n",
              "      background-color: #E8F0FE;\n",
              "      border: none;\n",
              "      border-radius: 50%;\n",
              "      cursor: pointer;\n",
              "      display: none;\n",
              "      fill: #1967D2;\n",
              "      height: 32px;\n",
              "      padding: 0 0 0 0;\n",
              "      width: 32px;\n",
              "    }\n",
              "\n",
              "    .colab-df-convert:hover {\n",
              "      background-color: #E2EBFA;\n",
              "      box-shadow: 0px 1px 2px rgba(60, 64, 67, 0.3), 0px 1px 3px 1px rgba(60, 64, 67, 0.15);\n",
              "      fill: #174EA6;\n",
              "    }\n",
              "\n",
              "    [theme=dark] .colab-df-convert {\n",
              "      background-color: #3B4455;\n",
              "      fill: #D2E3FC;\n",
              "    }\n",
              "\n",
              "    [theme=dark] .colab-df-convert:hover {\n",
              "      background-color: #434B5C;\n",
              "      box-shadow: 0px 1px 3px 1px rgba(0, 0, 0, 0.15);\n",
              "      filter: drop-shadow(0px 1px 2px rgba(0, 0, 0, 0.3));\n",
              "      fill: #FFFFFF;\n",
              "    }\n",
              "  </style>\n",
              "\n",
              "      <script>\n",
              "        const buttonEl =\n",
              "          document.querySelector('#df-04d768ae-1535-466c-8bcf-8f3ac4d3b4e7 button.colab-df-convert');\n",
              "        buttonEl.style.display =\n",
              "          google.colab.kernel.accessAllowed ? 'block' : 'none';\n",
              "\n",
              "        async function convertToInteractive(key) {\n",
              "          const element = document.querySelector('#df-04d768ae-1535-466c-8bcf-8f3ac4d3b4e7');\n",
              "          const dataTable =\n",
              "            await google.colab.kernel.invokeFunction('convertToInteractive',\n",
              "                                                     [key], {});\n",
              "          if (!dataTable) return;\n",
              "\n",
              "          const docLinkHtml = 'Like what you see? Visit the ' +\n",
              "            '<a target=\"_blank\" href=https://colab.research.google.com/notebooks/data_table.ipynb>data table notebook</a>'\n",
              "            + ' to learn more about interactive tables.';\n",
              "          element.innerHTML = '';\n",
              "          dataTable['output_type'] = 'display_data';\n",
              "          await google.colab.output.renderOutput(dataTable, element);\n",
              "          const docLink = document.createElement('div');\n",
              "          docLink.innerHTML = docLinkHtml;\n",
              "          element.appendChild(docLink);\n",
              "        }\n",
              "      </script>\n",
              "    </div>\n",
              "  </div>\n",
              "  "
            ]
          },
          "metadata": {},
          "execution_count": 47
        }
      ]
    },
    {
      "cell_type": "code",
      "source": [
        "macro.shape"
      ],
      "metadata": {
        "colab": {
          "base_uri": "https://localhost:8080/"
        },
        "id": "KHKcFSPup5eF",
        "outputId": "fe81102c-eb2c-4634-c1a7-3872954c3444"
      },
      "execution_count": 48,
      "outputs": [
        {
          "output_type": "execute_result",
          "data": {
            "text/plain": [
              "(2484, 7)"
            ]
          },
          "metadata": {},
          "execution_count": 48
        }
      ]
    },
    {
      "cell_type": "code",
      "source": [
        "df_full = df.merge(macro, on='timestamp', how='left')"
      ],
      "metadata": {
        "id": "8eFFD39QpL8L"
      },
      "execution_count": 49,
      "outputs": []
    },
    {
      "cell_type": "code",
      "source": [
        "df_full.head(5)"
      ],
      "metadata": {
        "colab": {
          "base_uri": "https://localhost:8080/",
          "height": 357
        },
        "id": "3bjxgd0EprZb",
        "outputId": "b6c9ad7f-be56-4f0e-cb68-dd065947beaa"
      },
      "execution_count": 50,
      "outputs": [
        {
          "output_type": "execute_result",
          "data": {
            "text/plain": [
              "     id  timestamp  full_sq  life_sq  floor   state  max_floor  material  \\\n",
              "0  8059 2013-05-21     11.0     11.0    2.0  3.0000        5.0       2.0   \n",
              "1  8138 2013-05-25     53.0     30.0   10.0  3.0000       16.0       1.0   \n",
              "2  8156 2013-05-27     77.0     41.0    2.0  1.0000       17.0       6.0   \n",
              "3  8157 2013-05-27     45.0     27.0    6.0  3.0000        9.0       1.0   \n",
              "4  8178 2013-05-28     38.0     20.0   15.0  2.1993       16.0       1.0   \n",
              "\n",
              "  build_year  num_room  kitch_sq  full_all                 sub_area  \\\n",
              "0 1907-01-01       1.0      12.0   75377.0                Hamovniki   \n",
              "1 1980-01-01       2.0       8.0   68630.0                Lianozovo   \n",
              "2 2014-01-01       3.0      12.0    9553.0  Poselenie Voskresenskoe   \n",
              "3 1970-01-01       2.0       6.0   78616.0          Severnoe Butovo   \n",
              "4 1982-01-01       1.0       8.0  112804.0           Filevskij Park   \n",
              "\n",
              "   price_doc   salary  fixed_basket  rent_price_3room_eco  \\\n",
              "0  2750000.0  55485.2      14983.92                 47.35   \n",
              "1  9000000.0  55485.2      14983.92                 47.35   \n",
              "2  7011550.0  55485.2      14983.92                 47.35   \n",
              "3  7100000.0  55485.2      14983.92                 47.35   \n",
              "4  6450000.0  55485.2      14983.92                 47.35   \n",
              "\n",
              "   rent_price_2room_eco  rent_price_1room_eco  average_life_exp  \n",
              "0                 40.77               32.0755             76.37  \n",
              "1                 40.77               32.0755             76.37  \n",
              "2                 40.77               32.0755             76.37  \n",
              "3                 40.77               32.0755             76.37  \n",
              "4                 40.77               32.0755             76.37  "
            ],
            "text/html": [
              "\n",
              "  <div id=\"df-9b982578-793c-49b5-9a4f-b7651aea9035\">\n",
              "    <div class=\"colab-df-container\">\n",
              "      <div>\n",
              "<style scoped>\n",
              "    .dataframe tbody tr th:only-of-type {\n",
              "        vertical-align: middle;\n",
              "    }\n",
              "\n",
              "    .dataframe tbody tr th {\n",
              "        vertical-align: top;\n",
              "    }\n",
              "\n",
              "    .dataframe thead th {\n",
              "        text-align: right;\n",
              "    }\n",
              "</style>\n",
              "<table border=\"1\" class=\"dataframe\">\n",
              "  <thead>\n",
              "    <tr style=\"text-align: right;\">\n",
              "      <th></th>\n",
              "      <th>id</th>\n",
              "      <th>timestamp</th>\n",
              "      <th>full_sq</th>\n",
              "      <th>life_sq</th>\n",
              "      <th>floor</th>\n",
              "      <th>state</th>\n",
              "      <th>max_floor</th>\n",
              "      <th>material</th>\n",
              "      <th>build_year</th>\n",
              "      <th>num_room</th>\n",
              "      <th>kitch_sq</th>\n",
              "      <th>full_all</th>\n",
              "      <th>sub_area</th>\n",
              "      <th>price_doc</th>\n",
              "      <th>salary</th>\n",
              "      <th>fixed_basket</th>\n",
              "      <th>rent_price_3room_eco</th>\n",
              "      <th>rent_price_2room_eco</th>\n",
              "      <th>rent_price_1room_eco</th>\n",
              "      <th>average_life_exp</th>\n",
              "    </tr>\n",
              "  </thead>\n",
              "  <tbody>\n",
              "    <tr>\n",
              "      <th>0</th>\n",
              "      <td>8059</td>\n",
              "      <td>2013-05-21</td>\n",
              "      <td>11.0</td>\n",
              "      <td>11.0</td>\n",
              "      <td>2.0</td>\n",
              "      <td>3.0000</td>\n",
              "      <td>5.0</td>\n",
              "      <td>2.0</td>\n",
              "      <td>1907-01-01</td>\n",
              "      <td>1.0</td>\n",
              "      <td>12.0</td>\n",
              "      <td>75377.0</td>\n",
              "      <td>Hamovniki</td>\n",
              "      <td>2750000.0</td>\n",
              "      <td>55485.2</td>\n",
              "      <td>14983.92</td>\n",
              "      <td>47.35</td>\n",
              "      <td>40.77</td>\n",
              "      <td>32.0755</td>\n",
              "      <td>76.37</td>\n",
              "    </tr>\n",
              "    <tr>\n",
              "      <th>1</th>\n",
              "      <td>8138</td>\n",
              "      <td>2013-05-25</td>\n",
              "      <td>53.0</td>\n",
              "      <td>30.0</td>\n",
              "      <td>10.0</td>\n",
              "      <td>3.0000</td>\n",
              "      <td>16.0</td>\n",
              "      <td>1.0</td>\n",
              "      <td>1980-01-01</td>\n",
              "      <td>2.0</td>\n",
              "      <td>8.0</td>\n",
              "      <td>68630.0</td>\n",
              "      <td>Lianozovo</td>\n",
              "      <td>9000000.0</td>\n",
              "      <td>55485.2</td>\n",
              "      <td>14983.92</td>\n",
              "      <td>47.35</td>\n",
              "      <td>40.77</td>\n",
              "      <td>32.0755</td>\n",
              "      <td>76.37</td>\n",
              "    </tr>\n",
              "    <tr>\n",
              "      <th>2</th>\n",
              "      <td>8156</td>\n",
              "      <td>2013-05-27</td>\n",
              "      <td>77.0</td>\n",
              "      <td>41.0</td>\n",
              "      <td>2.0</td>\n",
              "      <td>1.0000</td>\n",
              "      <td>17.0</td>\n",
              "      <td>6.0</td>\n",
              "      <td>2014-01-01</td>\n",
              "      <td>3.0</td>\n",
              "      <td>12.0</td>\n",
              "      <td>9553.0</td>\n",
              "      <td>Poselenie Voskresenskoe</td>\n",
              "      <td>7011550.0</td>\n",
              "      <td>55485.2</td>\n",
              "      <td>14983.92</td>\n",
              "      <td>47.35</td>\n",
              "      <td>40.77</td>\n",
              "      <td>32.0755</td>\n",
              "      <td>76.37</td>\n",
              "    </tr>\n",
              "    <tr>\n",
              "      <th>3</th>\n",
              "      <td>8157</td>\n",
              "      <td>2013-05-27</td>\n",
              "      <td>45.0</td>\n",
              "      <td>27.0</td>\n",
              "      <td>6.0</td>\n",
              "      <td>3.0000</td>\n",
              "      <td>9.0</td>\n",
              "      <td>1.0</td>\n",
              "      <td>1970-01-01</td>\n",
              "      <td>2.0</td>\n",
              "      <td>6.0</td>\n",
              "      <td>78616.0</td>\n",
              "      <td>Severnoe Butovo</td>\n",
              "      <td>7100000.0</td>\n",
              "      <td>55485.2</td>\n",
              "      <td>14983.92</td>\n",
              "      <td>47.35</td>\n",
              "      <td>40.77</td>\n",
              "      <td>32.0755</td>\n",
              "      <td>76.37</td>\n",
              "    </tr>\n",
              "    <tr>\n",
              "      <th>4</th>\n",
              "      <td>8178</td>\n",
              "      <td>2013-05-28</td>\n",
              "      <td>38.0</td>\n",
              "      <td>20.0</td>\n",
              "      <td>15.0</td>\n",
              "      <td>2.1993</td>\n",
              "      <td>16.0</td>\n",
              "      <td>1.0</td>\n",
              "      <td>1982-01-01</td>\n",
              "      <td>1.0</td>\n",
              "      <td>8.0</td>\n",
              "      <td>112804.0</td>\n",
              "      <td>Filevskij Park</td>\n",
              "      <td>6450000.0</td>\n",
              "      <td>55485.2</td>\n",
              "      <td>14983.92</td>\n",
              "      <td>47.35</td>\n",
              "      <td>40.77</td>\n",
              "      <td>32.0755</td>\n",
              "      <td>76.37</td>\n",
              "    </tr>\n",
              "  </tbody>\n",
              "</table>\n",
              "</div>\n",
              "      <button class=\"colab-df-convert\" onclick=\"convertToInteractive('df-9b982578-793c-49b5-9a4f-b7651aea9035')\"\n",
              "              title=\"Convert this dataframe to an interactive table.\"\n",
              "              style=\"display:none;\">\n",
              "        \n",
              "  <svg xmlns=\"http://www.w3.org/2000/svg\" height=\"24px\"viewBox=\"0 0 24 24\"\n",
              "       width=\"24px\">\n",
              "    <path d=\"M0 0h24v24H0V0z\" fill=\"none\"/>\n",
              "    <path d=\"M18.56 5.44l.94 2.06.94-2.06 2.06-.94-2.06-.94-.94-2.06-.94 2.06-2.06.94zm-11 1L8.5 8.5l.94-2.06 2.06-.94-2.06-.94L8.5 2.5l-.94 2.06-2.06.94zm10 10l.94 2.06.94-2.06 2.06-.94-2.06-.94-.94-2.06-.94 2.06-2.06.94z\"/><path d=\"M17.41 7.96l-1.37-1.37c-.4-.4-.92-.59-1.43-.59-.52 0-1.04.2-1.43.59L10.3 9.45l-7.72 7.72c-.78.78-.78 2.05 0 2.83L4 21.41c.39.39.9.59 1.41.59.51 0 1.02-.2 1.41-.59l7.78-7.78 2.81-2.81c.8-.78.8-2.07 0-2.86zM5.41 20L4 18.59l7.72-7.72 1.47 1.35L5.41 20z\"/>\n",
              "  </svg>\n",
              "      </button>\n",
              "      \n",
              "  <style>\n",
              "    .colab-df-container {\n",
              "      display:flex;\n",
              "      flex-wrap:wrap;\n",
              "      gap: 12px;\n",
              "    }\n",
              "\n",
              "    .colab-df-convert {\n",
              "      background-color: #E8F0FE;\n",
              "      border: none;\n",
              "      border-radius: 50%;\n",
              "      cursor: pointer;\n",
              "      display: none;\n",
              "      fill: #1967D2;\n",
              "      height: 32px;\n",
              "      padding: 0 0 0 0;\n",
              "      width: 32px;\n",
              "    }\n",
              "\n",
              "    .colab-df-convert:hover {\n",
              "      background-color: #E2EBFA;\n",
              "      box-shadow: 0px 1px 2px rgba(60, 64, 67, 0.3), 0px 1px 3px 1px rgba(60, 64, 67, 0.15);\n",
              "      fill: #174EA6;\n",
              "    }\n",
              "\n",
              "    [theme=dark] .colab-df-convert {\n",
              "      background-color: #3B4455;\n",
              "      fill: #D2E3FC;\n",
              "    }\n",
              "\n",
              "    [theme=dark] .colab-df-convert:hover {\n",
              "      background-color: #434B5C;\n",
              "      box-shadow: 0px 1px 3px 1px rgba(0, 0, 0, 0.15);\n",
              "      filter: drop-shadow(0px 1px 2px rgba(0, 0, 0, 0.3));\n",
              "      fill: #FFFFFF;\n",
              "    }\n",
              "  </style>\n",
              "\n",
              "      <script>\n",
              "        const buttonEl =\n",
              "          document.querySelector('#df-9b982578-793c-49b5-9a4f-b7651aea9035 button.colab-df-convert');\n",
              "        buttonEl.style.display =\n",
              "          google.colab.kernel.accessAllowed ? 'block' : 'none';\n",
              "\n",
              "        async function convertToInteractive(key) {\n",
              "          const element = document.querySelector('#df-9b982578-793c-49b5-9a4f-b7651aea9035');\n",
              "          const dataTable =\n",
              "            await google.colab.kernel.invokeFunction('convertToInteractive',\n",
              "                                                     [key], {});\n",
              "          if (!dataTable) return;\n",
              "\n",
              "          const docLinkHtml = 'Like what you see? Visit the ' +\n",
              "            '<a target=\"_blank\" href=https://colab.research.google.com/notebooks/data_table.ipynb>data table notebook</a>'\n",
              "            + ' to learn more about interactive tables.';\n",
              "          element.innerHTML = '';\n",
              "          dataTable['output_type'] = 'display_data';\n",
              "          await google.colab.output.renderOutput(dataTable, element);\n",
              "          const docLink = document.createElement('div');\n",
              "          docLink.innerHTML = docLinkHtml;\n",
              "          element.appendChild(docLink);\n",
              "        }\n",
              "      </script>\n",
              "    </div>\n",
              "  </div>\n",
              "  "
            ]
          },
          "metadata": {},
          "execution_count": 50
        }
      ]
    },
    {
      "cell_type": "code",
      "source": [
        "df_full.shape"
      ],
      "metadata": {
        "colab": {
          "base_uri": "https://localhost:8080/"
        },
        "id": "x7q1azfZp71O",
        "outputId": "1b2afdd1-eefb-4e25-ffe2-7eb55191d4a0"
      },
      "execution_count": 51,
      "outputs": [
        {
          "output_type": "execute_result",
          "data": {
            "text/plain": [
              "(18866, 20)"
            ]
          },
          "metadata": {},
          "execution_count": 51
        }
      ]
    },
    {
      "cell_type": "code",
      "source": [
        "df_full.describe()"
      ],
      "metadata": {
        "colab": {
          "base_uri": "https://localhost:8080/",
          "height": 364
        },
        "id": "-HxlAuEOp2EU",
        "outputId": "26271e02-9192-47c1-952a-65f559d7488d"
      },
      "execution_count": 52,
      "outputs": [
        {
          "output_type": "execute_result",
          "data": {
            "text/plain": [
              "               id     full_sq     life_sq       floor       state   max_floor  \\\n",
              "count  18866.0000  18866.0000  18866.0000  18866.0000  18866.0000  18866.0000   \n",
              "mean   18799.7886     53.5985     33.7460      7.2863      2.1993     12.4208   \n",
              "std     7082.4287     21.0011     17.8515      5.1497      0.7399      6.0300   \n",
              "min        9.0000      1.0000      0.0000      0.0000      1.0000      0.0000   \n",
              "25%    13513.2500     38.0000     20.0000      3.0000      2.0000      9.0000   \n",
              "50%    19043.5000     49.0000     31.0000      6.0000      2.1993     12.4208   \n",
              "75%    24748.7500     63.0000     42.0000     10.0000      3.0000     17.0000   \n",
              "max    30473.0000    303.0000    407.0000     37.0000      4.0000     48.0000   \n",
              "\n",
              "         material    num_room    kitch_sq    full_all   price_doc      salary  \\\n",
              "count  18866.0000  18866.0000  18866.0000  1.8866e+04  1.8866e+04  18866.0000   \n",
              "mean       1.8901      1.9321      6.8285  1.5972e+05  7.5673e+06  59882.2021   \n",
              "std        1.4482      0.8100      4.6199  3.0435e+05  4.8533e+06   3718.2141   \n",
              "min        1.0000      0.0000      0.0000  2.6930e+03  5.0000e+05  44898.7000   \n",
              "25%        1.0000      1.0000      5.0000  4.8439e+04  5.1000e+06  55485.2000   \n",
              "50%        1.0000      2.0000      6.8285  8.7713e+04  6.6900e+06  61208.0000   \n",
              "75%        2.0000      2.0000      9.0000  1.2535e+05  8.9000e+06  61208.0000   \n",
              "max        6.0000      9.0000    123.0000  1.7167e+06  7.1200e+07  64310.0000   \n",
              "\n",
              "       fixed_basket  rent_price_3room_eco  rent_price_2room_eco  \\\n",
              "count    18866.0000            18866.0000            18866.0000   \n",
              "mean     16215.5343               49.8407               41.7767   \n",
              "std       1161.5241                1.8440                1.2149   \n",
              "min      12922.9700               43.4200               37.7300   \n",
              "25%      15417.3400               48.7000               41.1700   \n",
              "50%      16165.3000               49.7500               41.9100   \n",
              "75%      16648.7000               50.9300               42.6400   \n",
              "max      18745.2800               53.2100               43.8500   \n",
              "\n",
              "       rent_price_1room_eco  average_life_exp  \n",
              "count            18866.0000        18866.0000  \n",
              "mean                33.5046           76.5993  \n",
              "std                  1.1631            0.2299  \n",
              "min                 30.2900           75.7400  \n",
              "25%                 32.9600           76.3700  \n",
              "50%                 33.6500           76.7000  \n",
              "75%                 34.3500           76.7000  \n",
              "max                 35.3700           76.7700  "
            ],
            "text/html": [
              "\n",
              "  <div id=\"df-7644cb75-af51-44b1-a80f-3bab1f00255f\">\n",
              "    <div class=\"colab-df-container\">\n",
              "      <div>\n",
              "<style scoped>\n",
              "    .dataframe tbody tr th:only-of-type {\n",
              "        vertical-align: middle;\n",
              "    }\n",
              "\n",
              "    .dataframe tbody tr th {\n",
              "        vertical-align: top;\n",
              "    }\n",
              "\n",
              "    .dataframe thead th {\n",
              "        text-align: right;\n",
              "    }\n",
              "</style>\n",
              "<table border=\"1\" class=\"dataframe\">\n",
              "  <thead>\n",
              "    <tr style=\"text-align: right;\">\n",
              "      <th></th>\n",
              "      <th>id</th>\n",
              "      <th>full_sq</th>\n",
              "      <th>life_sq</th>\n",
              "      <th>floor</th>\n",
              "      <th>state</th>\n",
              "      <th>max_floor</th>\n",
              "      <th>material</th>\n",
              "      <th>num_room</th>\n",
              "      <th>kitch_sq</th>\n",
              "      <th>full_all</th>\n",
              "      <th>price_doc</th>\n",
              "      <th>salary</th>\n",
              "      <th>fixed_basket</th>\n",
              "      <th>rent_price_3room_eco</th>\n",
              "      <th>rent_price_2room_eco</th>\n",
              "      <th>rent_price_1room_eco</th>\n",
              "      <th>average_life_exp</th>\n",
              "    </tr>\n",
              "  </thead>\n",
              "  <tbody>\n",
              "    <tr>\n",
              "      <th>count</th>\n",
              "      <td>18866.0000</td>\n",
              "      <td>18866.0000</td>\n",
              "      <td>18866.0000</td>\n",
              "      <td>18866.0000</td>\n",
              "      <td>18866.0000</td>\n",
              "      <td>18866.0000</td>\n",
              "      <td>18866.0000</td>\n",
              "      <td>18866.0000</td>\n",
              "      <td>18866.0000</td>\n",
              "      <td>1.8866e+04</td>\n",
              "      <td>1.8866e+04</td>\n",
              "      <td>18866.0000</td>\n",
              "      <td>18866.0000</td>\n",
              "      <td>18866.0000</td>\n",
              "      <td>18866.0000</td>\n",
              "      <td>18866.0000</td>\n",
              "      <td>18866.0000</td>\n",
              "    </tr>\n",
              "    <tr>\n",
              "      <th>mean</th>\n",
              "      <td>18799.7886</td>\n",
              "      <td>53.5985</td>\n",
              "      <td>33.7460</td>\n",
              "      <td>7.2863</td>\n",
              "      <td>2.1993</td>\n",
              "      <td>12.4208</td>\n",
              "      <td>1.8901</td>\n",
              "      <td>1.9321</td>\n",
              "      <td>6.8285</td>\n",
              "      <td>1.5972e+05</td>\n",
              "      <td>7.5673e+06</td>\n",
              "      <td>59882.2021</td>\n",
              "      <td>16215.5343</td>\n",
              "      <td>49.8407</td>\n",
              "      <td>41.7767</td>\n",
              "      <td>33.5046</td>\n",
              "      <td>76.5993</td>\n",
              "    </tr>\n",
              "    <tr>\n",
              "      <th>std</th>\n",
              "      <td>7082.4287</td>\n",
              "      <td>21.0011</td>\n",
              "      <td>17.8515</td>\n",
              "      <td>5.1497</td>\n",
              "      <td>0.7399</td>\n",
              "      <td>6.0300</td>\n",
              "      <td>1.4482</td>\n",
              "      <td>0.8100</td>\n",
              "      <td>4.6199</td>\n",
              "      <td>3.0435e+05</td>\n",
              "      <td>4.8533e+06</td>\n",
              "      <td>3718.2141</td>\n",
              "      <td>1161.5241</td>\n",
              "      <td>1.8440</td>\n",
              "      <td>1.2149</td>\n",
              "      <td>1.1631</td>\n",
              "      <td>0.2299</td>\n",
              "    </tr>\n",
              "    <tr>\n",
              "      <th>min</th>\n",
              "      <td>9.0000</td>\n",
              "      <td>1.0000</td>\n",
              "      <td>0.0000</td>\n",
              "      <td>0.0000</td>\n",
              "      <td>1.0000</td>\n",
              "      <td>0.0000</td>\n",
              "      <td>1.0000</td>\n",
              "      <td>0.0000</td>\n",
              "      <td>0.0000</td>\n",
              "      <td>2.6930e+03</td>\n",
              "      <td>5.0000e+05</td>\n",
              "      <td>44898.7000</td>\n",
              "      <td>12922.9700</td>\n",
              "      <td>43.4200</td>\n",
              "      <td>37.7300</td>\n",
              "      <td>30.2900</td>\n",
              "      <td>75.7400</td>\n",
              "    </tr>\n",
              "    <tr>\n",
              "      <th>25%</th>\n",
              "      <td>13513.2500</td>\n",
              "      <td>38.0000</td>\n",
              "      <td>20.0000</td>\n",
              "      <td>3.0000</td>\n",
              "      <td>2.0000</td>\n",
              "      <td>9.0000</td>\n",
              "      <td>1.0000</td>\n",
              "      <td>1.0000</td>\n",
              "      <td>5.0000</td>\n",
              "      <td>4.8439e+04</td>\n",
              "      <td>5.1000e+06</td>\n",
              "      <td>55485.2000</td>\n",
              "      <td>15417.3400</td>\n",
              "      <td>48.7000</td>\n",
              "      <td>41.1700</td>\n",
              "      <td>32.9600</td>\n",
              "      <td>76.3700</td>\n",
              "    </tr>\n",
              "    <tr>\n",
              "      <th>50%</th>\n",
              "      <td>19043.5000</td>\n",
              "      <td>49.0000</td>\n",
              "      <td>31.0000</td>\n",
              "      <td>6.0000</td>\n",
              "      <td>2.1993</td>\n",
              "      <td>12.4208</td>\n",
              "      <td>1.0000</td>\n",
              "      <td>2.0000</td>\n",
              "      <td>6.8285</td>\n",
              "      <td>8.7713e+04</td>\n",
              "      <td>6.6900e+06</td>\n",
              "      <td>61208.0000</td>\n",
              "      <td>16165.3000</td>\n",
              "      <td>49.7500</td>\n",
              "      <td>41.9100</td>\n",
              "      <td>33.6500</td>\n",
              "      <td>76.7000</td>\n",
              "    </tr>\n",
              "    <tr>\n",
              "      <th>75%</th>\n",
              "      <td>24748.7500</td>\n",
              "      <td>63.0000</td>\n",
              "      <td>42.0000</td>\n",
              "      <td>10.0000</td>\n",
              "      <td>3.0000</td>\n",
              "      <td>17.0000</td>\n",
              "      <td>2.0000</td>\n",
              "      <td>2.0000</td>\n",
              "      <td>9.0000</td>\n",
              "      <td>1.2535e+05</td>\n",
              "      <td>8.9000e+06</td>\n",
              "      <td>61208.0000</td>\n",
              "      <td>16648.7000</td>\n",
              "      <td>50.9300</td>\n",
              "      <td>42.6400</td>\n",
              "      <td>34.3500</td>\n",
              "      <td>76.7000</td>\n",
              "    </tr>\n",
              "    <tr>\n",
              "      <th>max</th>\n",
              "      <td>30473.0000</td>\n",
              "      <td>303.0000</td>\n",
              "      <td>407.0000</td>\n",
              "      <td>37.0000</td>\n",
              "      <td>4.0000</td>\n",
              "      <td>48.0000</td>\n",
              "      <td>6.0000</td>\n",
              "      <td>9.0000</td>\n",
              "      <td>123.0000</td>\n",
              "      <td>1.7167e+06</td>\n",
              "      <td>7.1200e+07</td>\n",
              "      <td>64310.0000</td>\n",
              "      <td>18745.2800</td>\n",
              "      <td>53.2100</td>\n",
              "      <td>43.8500</td>\n",
              "      <td>35.3700</td>\n",
              "      <td>76.7700</td>\n",
              "    </tr>\n",
              "  </tbody>\n",
              "</table>\n",
              "</div>\n",
              "      <button class=\"colab-df-convert\" onclick=\"convertToInteractive('df-7644cb75-af51-44b1-a80f-3bab1f00255f')\"\n",
              "              title=\"Convert this dataframe to an interactive table.\"\n",
              "              style=\"display:none;\">\n",
              "        \n",
              "  <svg xmlns=\"http://www.w3.org/2000/svg\" height=\"24px\"viewBox=\"0 0 24 24\"\n",
              "       width=\"24px\">\n",
              "    <path d=\"M0 0h24v24H0V0z\" fill=\"none\"/>\n",
              "    <path d=\"M18.56 5.44l.94 2.06.94-2.06 2.06-.94-2.06-.94-.94-2.06-.94 2.06-2.06.94zm-11 1L8.5 8.5l.94-2.06 2.06-.94-2.06-.94L8.5 2.5l-.94 2.06-2.06.94zm10 10l.94 2.06.94-2.06 2.06-.94-2.06-.94-.94-2.06-.94 2.06-2.06.94z\"/><path d=\"M17.41 7.96l-1.37-1.37c-.4-.4-.92-.59-1.43-.59-.52 0-1.04.2-1.43.59L10.3 9.45l-7.72 7.72c-.78.78-.78 2.05 0 2.83L4 21.41c.39.39.9.59 1.41.59.51 0 1.02-.2 1.41-.59l7.78-7.78 2.81-2.81c.8-.78.8-2.07 0-2.86zM5.41 20L4 18.59l7.72-7.72 1.47 1.35L5.41 20z\"/>\n",
              "  </svg>\n",
              "      </button>\n",
              "      \n",
              "  <style>\n",
              "    .colab-df-container {\n",
              "      display:flex;\n",
              "      flex-wrap:wrap;\n",
              "      gap: 12px;\n",
              "    }\n",
              "\n",
              "    .colab-df-convert {\n",
              "      background-color: #E8F0FE;\n",
              "      border: none;\n",
              "      border-radius: 50%;\n",
              "      cursor: pointer;\n",
              "      display: none;\n",
              "      fill: #1967D2;\n",
              "      height: 32px;\n",
              "      padding: 0 0 0 0;\n",
              "      width: 32px;\n",
              "    }\n",
              "\n",
              "    .colab-df-convert:hover {\n",
              "      background-color: #E2EBFA;\n",
              "      box-shadow: 0px 1px 2px rgba(60, 64, 67, 0.3), 0px 1px 3px 1px rgba(60, 64, 67, 0.15);\n",
              "      fill: #174EA6;\n",
              "    }\n",
              "\n",
              "    [theme=dark] .colab-df-convert {\n",
              "      background-color: #3B4455;\n",
              "      fill: #D2E3FC;\n",
              "    }\n",
              "\n",
              "    [theme=dark] .colab-df-convert:hover {\n",
              "      background-color: #434B5C;\n",
              "      box-shadow: 0px 1px 3px 1px rgba(0, 0, 0, 0.15);\n",
              "      filter: drop-shadow(0px 1px 2px rgba(0, 0, 0, 0.3));\n",
              "      fill: #FFFFFF;\n",
              "    }\n",
              "  </style>\n",
              "\n",
              "      <script>\n",
              "        const buttonEl =\n",
              "          document.querySelector('#df-7644cb75-af51-44b1-a80f-3bab1f00255f button.colab-df-convert');\n",
              "        buttonEl.style.display =\n",
              "          google.colab.kernel.accessAllowed ? 'block' : 'none';\n",
              "\n",
              "        async function convertToInteractive(key) {\n",
              "          const element = document.querySelector('#df-7644cb75-af51-44b1-a80f-3bab1f00255f');\n",
              "          const dataTable =\n",
              "            await google.colab.kernel.invokeFunction('convertToInteractive',\n",
              "                                                     [key], {});\n",
              "          if (!dataTable) return;\n",
              "\n",
              "          const docLinkHtml = 'Like what you see? Visit the ' +\n",
              "            '<a target=\"_blank\" href=https://colab.research.google.com/notebooks/data_table.ipynb>data table notebook</a>'\n",
              "            + ' to learn more about interactive tables.';\n",
              "          element.innerHTML = '';\n",
              "          dataTable['output_type'] = 'display_data';\n",
              "          await google.colab.output.renderOutput(dataTable, element);\n",
              "          const docLink = document.createElement('div');\n",
              "          docLink.innerHTML = docLinkHtml;\n",
              "          element.appendChild(docLink);\n",
              "        }\n",
              "      </script>\n",
              "    </div>\n",
              "  </div>\n",
              "  "
            ]
          },
          "metadata": {},
          "execution_count": 52
        }
      ]
    },
    {
      "cell_type": "markdown",
      "source": [
        "## 1.5 Проверьте данные на наличие выбросов. По каждому столбцу. Напишите своё мнение: нужно ли в каждой из ситуаций обрабатывать выбросы, или можно оставить. Если нужно обработать, то примените один из изученных подходов, либо предложите свой"
      ],
      "metadata": {
        "id": "BfJc-PiVinUp"
      }
    },
    {
      "cell_type": "markdown",
      "source": [
        "### 1.5.1 Главный набор данных"
      ],
      "metadata": {
        "id": "_LkLQxltjEbx"
      }
    },
    {
      "cell_type": "markdown",
      "source": [
        "- С выбросами было уже немного работы до этого, но можно на всякий случай посчитать процентное количество информации которая может считаться выбросом"
      ],
      "metadata": {
        "id": "1mr564bIw2Td"
      }
    },
    {
      "cell_type": "code",
      "source": [
        "def iqr_percent_detection(dataframe):\n",
        "    num_column_names = dataframe.select_dtypes('number').columns.values\n",
        "    for col_name in num_column_names:\n",
        "        # skipping id column\n",
        "        if col_name in ['id']:\n",
        "            continue\n",
        "        q1 = dataframe[col_name].quantile(0.25)\n",
        "        q3 = dataframe[col_name].quantile(0.75)\n",
        "        iqr = q3 - q1\n",
        "        outliers = np.where((dataframe[col_name] < (q1 - 1.5 * iqr)) | (dataframe[col_name] > (q3 + 1.5 * iqr)))\n",
        "        print(f\"{col_name} column outliers percent ratio: {len(outliers[0]) / dataframe[col_name].shape[0] * 100}\")"
      ],
      "metadata": {
        "id": "mA32pzU-xvrb"
      },
      "execution_count": 53,
      "outputs": []
    },
    {
      "cell_type": "code",
      "source": [
        "iqr_percent_detection(df)"
      ],
      "metadata": {
        "id": "zj9a1fd0insh",
        "colab": {
          "base_uri": "https://localhost:8080/"
        },
        "outputId": "47dee3ac-04b2-4893-c55e-887a09e53ade"
      },
      "execution_count": 54,
      "outputs": [
        {
          "output_type": "stream",
          "name": "stdout",
          "text": [
            "full_sq column outliers percent ratio: 2.963002226227075\n",
            "life_sq column outliers percent ratio: 3.0743135799851586\n",
            "floor column outliers percent ratio: 2.0990140994381425\n",
            "state column outliers percent ratio: 0.0\n",
            "max_floor column outliers percent ratio: 0.6148627159970317\n",
            "material column outliers percent ratio: 17.338068482985264\n",
            "num_room column outliers percent ratio: 2.332237888264603\n",
            "kitch_sq column outliers percent ratio: 1.3728400296830277\n",
            "full_all column outliers percent ratio: 8.645181808544471\n",
            "price_doc column outliers percent ratio: 5.941906074419591\n"
          ]
        }
      ]
    },
    {
      "cell_type": "markdown",
      "source": [
        "- Сильных выбросов не наблюдается"
      ],
      "metadata": {
        "id": "LWMJ7pGhcsu4"
      }
    },
    {
      "cell_type": "markdown",
      "source": [
        "### 1.5.2 Набор с макропоказателями"
      ],
      "metadata": {
        "id": "rm7JYv4jjE_I"
      }
    },
    {
      "cell_type": "code",
      "source": [
        "iqr_percent_detection(macro)"
      ],
      "metadata": {
        "id": "c1zA1r5mjFTg",
        "colab": {
          "base_uri": "https://localhost:8080/"
        },
        "outputId": "c540564e-e9ef-4c27-d9b5-a866b6dbc276"
      },
      "execution_count": 55,
      "outputs": [
        {
          "output_type": "stream",
          "name": "stdout",
          "text": [
            "salary column outliers percent ratio: 0.0\n",
            "fixed_basket column outliers percent ratio: 0.0\n",
            "rent_price_3room_eco column outliers percent ratio: 1.247987117552335\n",
            "rent_price_2room_eco column outliers percent ratio: 0.0\n",
            "rent_price_1room_eco column outliers percent ratio: 0.0\n",
            "average_life_exp column outliers percent ratio: 14.69404186795491\n"
          ]
        }
      ]
    },
    {
      "cell_type": "markdown",
      "source": [
        "- Также как и до этого, данный датасет был более чистым по сравнению с первым df, так что проблем не наблюдается\n",
        "- Только в колонне average_life_exp есть что-то похожее на выброс, но как видно из предыдущей визуализации, данное значение в принципе адекватное"
      ],
      "metadata": {
        "id": "7tu4YqzBc1kH"
      }
    },
    {
      "cell_type": "markdown",
      "source": [
        "## 1.6 Создайте не менее 5 новых признаков на основе существующих данных. Опишите текстом обоснование создания каждой. Признаки должны привносить некую новую информацию для понимания цены квартиры"
      ],
      "metadata": {
        "id": "ZfLAbkV5jpxZ"
      }
    },
    {
      "cell_type": "code",
      "source": [
        "df_full_backup = df_full.copy()"
      ],
      "metadata": {
        "id": "-iqgDoSx6qmZ"
      },
      "execution_count": 56,
      "outputs": []
    },
    {
      "cell_type": "code",
      "source": [
        "# just to be safe\n",
        "# df_full = df_full_backup.copy()"
      ],
      "metadata": {
        "id": "EdZJvNlEDx8M"
      },
      "execution_count": 57,
      "outputs": []
    },
    {
      "cell_type": "code",
      "source": [
        "df_full.info()"
      ],
      "metadata": {
        "id": "o3Rv6-XcjqJI",
        "colab": {
          "base_uri": "https://localhost:8080/"
        },
        "outputId": "b445468a-37d1-494a-c602-cf13c025f790"
      },
      "execution_count": 58,
      "outputs": [
        {
          "output_type": "stream",
          "name": "stdout",
          "text": [
            "<class 'pandas.core.frame.DataFrame'>\n",
            "Int64Index: 18866 entries, 0 to 18865\n",
            "Data columns (total 20 columns):\n",
            " #   Column                Non-Null Count  Dtype         \n",
            "---  ------                --------------  -----         \n",
            " 0   id                    18866 non-null  int64         \n",
            " 1   timestamp             18866 non-null  datetime64[ns]\n",
            " 2   full_sq               18866 non-null  float64       \n",
            " 3   life_sq               18866 non-null  float64       \n",
            " 4   floor                 18866 non-null  float64       \n",
            " 5   state                 18866 non-null  float64       \n",
            " 6   max_floor             18866 non-null  float64       \n",
            " 7   material              18866 non-null  float64       \n",
            " 8   build_year            15961 non-null  datetime64[ns]\n",
            " 9   num_room              18866 non-null  float64       \n",
            " 10  kitch_sq              18866 non-null  float64       \n",
            " 11  full_all              18866 non-null  float64       \n",
            " 12  sub_area              18866 non-null  object        \n",
            " 13  price_doc             18866 non-null  float64       \n",
            " 14  salary                18866 non-null  float64       \n",
            " 15  fixed_basket          18866 non-null  float64       \n",
            " 16  rent_price_3room_eco  18866 non-null  float64       \n",
            " 17  rent_price_2room_eco  18866 non-null  float64       \n",
            " 18  rent_price_1room_eco  18866 non-null  float64       \n",
            " 19  average_life_exp      18866 non-null  float64       \n",
            "dtypes: datetime64[ns](2), float64(16), int64(1), object(1)\n",
            "memory usage: 3.0+ MB\n"
          ]
        }
      ]
    },
    {
      "cell_type": "code",
      "source": [
        "df_full.describe()"
      ],
      "metadata": {
        "colab": {
          "base_uri": "https://localhost:8080/",
          "height": 364
        },
        "id": "NN_5a12Ndd34",
        "outputId": "d6b4b59d-5502-44be-c15f-919ce63d0bc5"
      },
      "execution_count": 59,
      "outputs": [
        {
          "output_type": "execute_result",
          "data": {
            "text/plain": [
              "               id     full_sq     life_sq       floor       state   max_floor  \\\n",
              "count  18866.0000  18866.0000  18866.0000  18866.0000  18866.0000  18866.0000   \n",
              "mean   18799.7886     53.5985     33.7460      7.2863      2.1993     12.4208   \n",
              "std     7082.4287     21.0011     17.8515      5.1497      0.7399      6.0300   \n",
              "min        9.0000      1.0000      0.0000      0.0000      1.0000      0.0000   \n",
              "25%    13513.2500     38.0000     20.0000      3.0000      2.0000      9.0000   \n",
              "50%    19043.5000     49.0000     31.0000      6.0000      2.1993     12.4208   \n",
              "75%    24748.7500     63.0000     42.0000     10.0000      3.0000     17.0000   \n",
              "max    30473.0000    303.0000    407.0000     37.0000      4.0000     48.0000   \n",
              "\n",
              "         material    num_room    kitch_sq    full_all   price_doc      salary  \\\n",
              "count  18866.0000  18866.0000  18866.0000  1.8866e+04  1.8866e+04  18866.0000   \n",
              "mean       1.8901      1.9321      6.8285  1.5972e+05  7.5673e+06  59882.2021   \n",
              "std        1.4482      0.8100      4.6199  3.0435e+05  4.8533e+06   3718.2141   \n",
              "min        1.0000      0.0000      0.0000  2.6930e+03  5.0000e+05  44898.7000   \n",
              "25%        1.0000      1.0000      5.0000  4.8439e+04  5.1000e+06  55485.2000   \n",
              "50%        1.0000      2.0000      6.8285  8.7713e+04  6.6900e+06  61208.0000   \n",
              "75%        2.0000      2.0000      9.0000  1.2535e+05  8.9000e+06  61208.0000   \n",
              "max        6.0000      9.0000    123.0000  1.7167e+06  7.1200e+07  64310.0000   \n",
              "\n",
              "       fixed_basket  rent_price_3room_eco  rent_price_2room_eco  \\\n",
              "count    18866.0000            18866.0000            18866.0000   \n",
              "mean     16215.5343               49.8407               41.7767   \n",
              "std       1161.5241                1.8440                1.2149   \n",
              "min      12922.9700               43.4200               37.7300   \n",
              "25%      15417.3400               48.7000               41.1700   \n",
              "50%      16165.3000               49.7500               41.9100   \n",
              "75%      16648.7000               50.9300               42.6400   \n",
              "max      18745.2800               53.2100               43.8500   \n",
              "\n",
              "       rent_price_1room_eco  average_life_exp  \n",
              "count            18866.0000        18866.0000  \n",
              "mean                33.5046           76.5993  \n",
              "std                  1.1631            0.2299  \n",
              "min                 30.2900           75.7400  \n",
              "25%                 32.9600           76.3700  \n",
              "50%                 33.6500           76.7000  \n",
              "75%                 34.3500           76.7000  \n",
              "max                 35.3700           76.7700  "
            ],
            "text/html": [
              "\n",
              "  <div id=\"df-28f51a82-6144-4440-948e-2dde1b675381\">\n",
              "    <div class=\"colab-df-container\">\n",
              "      <div>\n",
              "<style scoped>\n",
              "    .dataframe tbody tr th:only-of-type {\n",
              "        vertical-align: middle;\n",
              "    }\n",
              "\n",
              "    .dataframe tbody tr th {\n",
              "        vertical-align: top;\n",
              "    }\n",
              "\n",
              "    .dataframe thead th {\n",
              "        text-align: right;\n",
              "    }\n",
              "</style>\n",
              "<table border=\"1\" class=\"dataframe\">\n",
              "  <thead>\n",
              "    <tr style=\"text-align: right;\">\n",
              "      <th></th>\n",
              "      <th>id</th>\n",
              "      <th>full_sq</th>\n",
              "      <th>life_sq</th>\n",
              "      <th>floor</th>\n",
              "      <th>state</th>\n",
              "      <th>max_floor</th>\n",
              "      <th>material</th>\n",
              "      <th>num_room</th>\n",
              "      <th>kitch_sq</th>\n",
              "      <th>full_all</th>\n",
              "      <th>price_doc</th>\n",
              "      <th>salary</th>\n",
              "      <th>fixed_basket</th>\n",
              "      <th>rent_price_3room_eco</th>\n",
              "      <th>rent_price_2room_eco</th>\n",
              "      <th>rent_price_1room_eco</th>\n",
              "      <th>average_life_exp</th>\n",
              "    </tr>\n",
              "  </thead>\n",
              "  <tbody>\n",
              "    <tr>\n",
              "      <th>count</th>\n",
              "      <td>18866.0000</td>\n",
              "      <td>18866.0000</td>\n",
              "      <td>18866.0000</td>\n",
              "      <td>18866.0000</td>\n",
              "      <td>18866.0000</td>\n",
              "      <td>18866.0000</td>\n",
              "      <td>18866.0000</td>\n",
              "      <td>18866.0000</td>\n",
              "      <td>18866.0000</td>\n",
              "      <td>1.8866e+04</td>\n",
              "      <td>1.8866e+04</td>\n",
              "      <td>18866.0000</td>\n",
              "      <td>18866.0000</td>\n",
              "      <td>18866.0000</td>\n",
              "      <td>18866.0000</td>\n",
              "      <td>18866.0000</td>\n",
              "      <td>18866.0000</td>\n",
              "    </tr>\n",
              "    <tr>\n",
              "      <th>mean</th>\n",
              "      <td>18799.7886</td>\n",
              "      <td>53.5985</td>\n",
              "      <td>33.7460</td>\n",
              "      <td>7.2863</td>\n",
              "      <td>2.1993</td>\n",
              "      <td>12.4208</td>\n",
              "      <td>1.8901</td>\n",
              "      <td>1.9321</td>\n",
              "      <td>6.8285</td>\n",
              "      <td>1.5972e+05</td>\n",
              "      <td>7.5673e+06</td>\n",
              "      <td>59882.2021</td>\n",
              "      <td>16215.5343</td>\n",
              "      <td>49.8407</td>\n",
              "      <td>41.7767</td>\n",
              "      <td>33.5046</td>\n",
              "      <td>76.5993</td>\n",
              "    </tr>\n",
              "    <tr>\n",
              "      <th>std</th>\n",
              "      <td>7082.4287</td>\n",
              "      <td>21.0011</td>\n",
              "      <td>17.8515</td>\n",
              "      <td>5.1497</td>\n",
              "      <td>0.7399</td>\n",
              "      <td>6.0300</td>\n",
              "      <td>1.4482</td>\n",
              "      <td>0.8100</td>\n",
              "      <td>4.6199</td>\n",
              "      <td>3.0435e+05</td>\n",
              "      <td>4.8533e+06</td>\n",
              "      <td>3718.2141</td>\n",
              "      <td>1161.5241</td>\n",
              "      <td>1.8440</td>\n",
              "      <td>1.2149</td>\n",
              "      <td>1.1631</td>\n",
              "      <td>0.2299</td>\n",
              "    </tr>\n",
              "    <tr>\n",
              "      <th>min</th>\n",
              "      <td>9.0000</td>\n",
              "      <td>1.0000</td>\n",
              "      <td>0.0000</td>\n",
              "      <td>0.0000</td>\n",
              "      <td>1.0000</td>\n",
              "      <td>0.0000</td>\n",
              "      <td>1.0000</td>\n",
              "      <td>0.0000</td>\n",
              "      <td>0.0000</td>\n",
              "      <td>2.6930e+03</td>\n",
              "      <td>5.0000e+05</td>\n",
              "      <td>44898.7000</td>\n",
              "      <td>12922.9700</td>\n",
              "      <td>43.4200</td>\n",
              "      <td>37.7300</td>\n",
              "      <td>30.2900</td>\n",
              "      <td>75.7400</td>\n",
              "    </tr>\n",
              "    <tr>\n",
              "      <th>25%</th>\n",
              "      <td>13513.2500</td>\n",
              "      <td>38.0000</td>\n",
              "      <td>20.0000</td>\n",
              "      <td>3.0000</td>\n",
              "      <td>2.0000</td>\n",
              "      <td>9.0000</td>\n",
              "      <td>1.0000</td>\n",
              "      <td>1.0000</td>\n",
              "      <td>5.0000</td>\n",
              "      <td>4.8439e+04</td>\n",
              "      <td>5.1000e+06</td>\n",
              "      <td>55485.2000</td>\n",
              "      <td>15417.3400</td>\n",
              "      <td>48.7000</td>\n",
              "      <td>41.1700</td>\n",
              "      <td>32.9600</td>\n",
              "      <td>76.3700</td>\n",
              "    </tr>\n",
              "    <tr>\n",
              "      <th>50%</th>\n",
              "      <td>19043.5000</td>\n",
              "      <td>49.0000</td>\n",
              "      <td>31.0000</td>\n",
              "      <td>6.0000</td>\n",
              "      <td>2.1993</td>\n",
              "      <td>12.4208</td>\n",
              "      <td>1.0000</td>\n",
              "      <td>2.0000</td>\n",
              "      <td>6.8285</td>\n",
              "      <td>8.7713e+04</td>\n",
              "      <td>6.6900e+06</td>\n",
              "      <td>61208.0000</td>\n",
              "      <td>16165.3000</td>\n",
              "      <td>49.7500</td>\n",
              "      <td>41.9100</td>\n",
              "      <td>33.6500</td>\n",
              "      <td>76.7000</td>\n",
              "    </tr>\n",
              "    <tr>\n",
              "      <th>75%</th>\n",
              "      <td>24748.7500</td>\n",
              "      <td>63.0000</td>\n",
              "      <td>42.0000</td>\n",
              "      <td>10.0000</td>\n",
              "      <td>3.0000</td>\n",
              "      <td>17.0000</td>\n",
              "      <td>2.0000</td>\n",
              "      <td>2.0000</td>\n",
              "      <td>9.0000</td>\n",
              "      <td>1.2535e+05</td>\n",
              "      <td>8.9000e+06</td>\n",
              "      <td>61208.0000</td>\n",
              "      <td>16648.7000</td>\n",
              "      <td>50.9300</td>\n",
              "      <td>42.6400</td>\n",
              "      <td>34.3500</td>\n",
              "      <td>76.7000</td>\n",
              "    </tr>\n",
              "    <tr>\n",
              "      <th>max</th>\n",
              "      <td>30473.0000</td>\n",
              "      <td>303.0000</td>\n",
              "      <td>407.0000</td>\n",
              "      <td>37.0000</td>\n",
              "      <td>4.0000</td>\n",
              "      <td>48.0000</td>\n",
              "      <td>6.0000</td>\n",
              "      <td>9.0000</td>\n",
              "      <td>123.0000</td>\n",
              "      <td>1.7167e+06</td>\n",
              "      <td>7.1200e+07</td>\n",
              "      <td>64310.0000</td>\n",
              "      <td>18745.2800</td>\n",
              "      <td>53.2100</td>\n",
              "      <td>43.8500</td>\n",
              "      <td>35.3700</td>\n",
              "      <td>76.7700</td>\n",
              "    </tr>\n",
              "  </tbody>\n",
              "</table>\n",
              "</div>\n",
              "      <button class=\"colab-df-convert\" onclick=\"convertToInteractive('df-28f51a82-6144-4440-948e-2dde1b675381')\"\n",
              "              title=\"Convert this dataframe to an interactive table.\"\n",
              "              style=\"display:none;\">\n",
              "        \n",
              "  <svg xmlns=\"http://www.w3.org/2000/svg\" height=\"24px\"viewBox=\"0 0 24 24\"\n",
              "       width=\"24px\">\n",
              "    <path d=\"M0 0h24v24H0V0z\" fill=\"none\"/>\n",
              "    <path d=\"M18.56 5.44l.94 2.06.94-2.06 2.06-.94-2.06-.94-.94-2.06-.94 2.06-2.06.94zm-11 1L8.5 8.5l.94-2.06 2.06-.94-2.06-.94L8.5 2.5l-.94 2.06-2.06.94zm10 10l.94 2.06.94-2.06 2.06-.94-2.06-.94-.94-2.06-.94 2.06-2.06.94z\"/><path d=\"M17.41 7.96l-1.37-1.37c-.4-.4-.92-.59-1.43-.59-.52 0-1.04.2-1.43.59L10.3 9.45l-7.72 7.72c-.78.78-.78 2.05 0 2.83L4 21.41c.39.39.9.59 1.41.59.51 0 1.02-.2 1.41-.59l7.78-7.78 2.81-2.81c.8-.78.8-2.07 0-2.86zM5.41 20L4 18.59l7.72-7.72 1.47 1.35L5.41 20z\"/>\n",
              "  </svg>\n",
              "      </button>\n",
              "      \n",
              "  <style>\n",
              "    .colab-df-container {\n",
              "      display:flex;\n",
              "      flex-wrap:wrap;\n",
              "      gap: 12px;\n",
              "    }\n",
              "\n",
              "    .colab-df-convert {\n",
              "      background-color: #E8F0FE;\n",
              "      border: none;\n",
              "      border-radius: 50%;\n",
              "      cursor: pointer;\n",
              "      display: none;\n",
              "      fill: #1967D2;\n",
              "      height: 32px;\n",
              "      padding: 0 0 0 0;\n",
              "      width: 32px;\n",
              "    }\n",
              "\n",
              "    .colab-df-convert:hover {\n",
              "      background-color: #E2EBFA;\n",
              "      box-shadow: 0px 1px 2px rgba(60, 64, 67, 0.3), 0px 1px 3px 1px rgba(60, 64, 67, 0.15);\n",
              "      fill: #174EA6;\n",
              "    }\n",
              "\n",
              "    [theme=dark] .colab-df-convert {\n",
              "      background-color: #3B4455;\n",
              "      fill: #D2E3FC;\n",
              "    }\n",
              "\n",
              "    [theme=dark] .colab-df-convert:hover {\n",
              "      background-color: #434B5C;\n",
              "      box-shadow: 0px 1px 3px 1px rgba(0, 0, 0, 0.15);\n",
              "      filter: drop-shadow(0px 1px 2px rgba(0, 0, 0, 0.3));\n",
              "      fill: #FFFFFF;\n",
              "    }\n",
              "  </style>\n",
              "\n",
              "      <script>\n",
              "        const buttonEl =\n",
              "          document.querySelector('#df-28f51a82-6144-4440-948e-2dde1b675381 button.colab-df-convert');\n",
              "        buttonEl.style.display =\n",
              "          google.colab.kernel.accessAllowed ? 'block' : 'none';\n",
              "\n",
              "        async function convertToInteractive(key) {\n",
              "          const element = document.querySelector('#df-28f51a82-6144-4440-948e-2dde1b675381');\n",
              "          const dataTable =\n",
              "            await google.colab.kernel.invokeFunction('convertToInteractive',\n",
              "                                                     [key], {});\n",
              "          if (!dataTable) return;\n",
              "\n",
              "          const docLinkHtml = 'Like what you see? Visit the ' +\n",
              "            '<a target=\"_blank\" href=https://colab.research.google.com/notebooks/data_table.ipynb>data table notebook</a>'\n",
              "            + ' to learn more about interactive tables.';\n",
              "          element.innerHTML = '';\n",
              "          dataTable['output_type'] = 'display_data';\n",
              "          await google.colab.output.renderOutput(dataTable, element);\n",
              "          const docLink = document.createElement('div');\n",
              "          docLink.innerHTML = docLinkHtml;\n",
              "          element.appendChild(docLink);\n",
              "        }\n",
              "      </script>\n",
              "    </div>\n",
              "  </div>\n",
              "  "
            ]
          },
          "metadata": {},
          "execution_count": 59
        }
      ]
    },
    {
      "cell_type": "code",
      "source": [
        "df_full.sample(5)"
      ],
      "metadata": {
        "id": "Ee3YeJSZmxHu",
        "colab": {
          "base_uri": "https://localhost:8080/",
          "height": 357
        },
        "outputId": "1ca778d2-3acd-4c15-9e44-6cd05cf7fe41"
      },
      "execution_count": 60,
      "outputs": [
        {
          "output_type": "execute_result",
          "data": {
            "text/plain": [
              "          id  timestamp  full_sq  life_sq  floor   state  max_floor  material  \\\n",
              "17286   5499 2012-12-26     60.0     55.0   14.0  2.1993    12.4208    1.8901   \n",
              "12866  25420 2014-11-27     42.0     42.0    1.0  1.0000     7.0000    1.0000   \n",
              "11320  23428 2014-10-09     77.0     43.0    9.0  3.0000    17.0000    1.0000   \n",
              "16824  30420 2015-06-25     50.0     32.0    2.0  2.0000     5.0000    2.0000   \n",
              "13332  26015 2014-12-08     82.0     82.0    8.0  1.0000    17.0000    1.0000   \n",
              "\n",
              "      build_year  num_room  kitch_sq  full_all                 sub_area  \\\n",
              "17286        NaT    1.9321    6.8285    9553.0  Poselenie Voskresenskoe   \n",
              "12866 2014-01-01    1.0000   10.0000   21819.0   Poselenie Desjonovskoe   \n",
              "11320 2003-01-01    3.0000   12.0000  125111.0                 Solncevo   \n",
              "16824 1960-01-01    3.0000    5.0000   19940.0           Nizhegorodskoe   \n",
              "13332 2015-01-01    3.0000   10.0000   13890.0      Poselenie Sosenskoe   \n",
              "\n",
              "        price_doc   salary  fixed_basket  rent_price_3room_eco  \\\n",
              "17286  5.0829e+06  48830.4      13948.20                 46.94   \n",
              "12866  4.4253e+06  61208.0      16648.70                 53.21   \n",
              "11320  1.2000e+07  61208.0      16269.79                 52.82   \n",
              "16824  1.0000e+06  64310.0      18720.65                 49.01   \n",
              "13332  8.8981e+06  61208.0      16910.54                 49.89   \n",
              "\n",
              "       rent_price_2room_eco  rent_price_1room_eco  average_life_exp  \n",
              "17286                 41.01                 33.10             75.74  \n",
              "12866                 43.23                 34.30             76.70  \n",
              "11320                 43.85                 35.37             76.70  \n",
              "16824                 38.91                 30.29             76.77  \n",
              "13332                 42.64                 34.33             76.70  "
            ],
            "text/html": [
              "\n",
              "  <div id=\"df-3c3e294f-cb8b-4987-ab5d-550b0a3ac6d8\">\n",
              "    <div class=\"colab-df-container\">\n",
              "      <div>\n",
              "<style scoped>\n",
              "    .dataframe tbody tr th:only-of-type {\n",
              "        vertical-align: middle;\n",
              "    }\n",
              "\n",
              "    .dataframe tbody tr th {\n",
              "        vertical-align: top;\n",
              "    }\n",
              "\n",
              "    .dataframe thead th {\n",
              "        text-align: right;\n",
              "    }\n",
              "</style>\n",
              "<table border=\"1\" class=\"dataframe\">\n",
              "  <thead>\n",
              "    <tr style=\"text-align: right;\">\n",
              "      <th></th>\n",
              "      <th>id</th>\n",
              "      <th>timestamp</th>\n",
              "      <th>full_sq</th>\n",
              "      <th>life_sq</th>\n",
              "      <th>floor</th>\n",
              "      <th>state</th>\n",
              "      <th>max_floor</th>\n",
              "      <th>material</th>\n",
              "      <th>build_year</th>\n",
              "      <th>num_room</th>\n",
              "      <th>kitch_sq</th>\n",
              "      <th>full_all</th>\n",
              "      <th>sub_area</th>\n",
              "      <th>price_doc</th>\n",
              "      <th>salary</th>\n",
              "      <th>fixed_basket</th>\n",
              "      <th>rent_price_3room_eco</th>\n",
              "      <th>rent_price_2room_eco</th>\n",
              "      <th>rent_price_1room_eco</th>\n",
              "      <th>average_life_exp</th>\n",
              "    </tr>\n",
              "  </thead>\n",
              "  <tbody>\n",
              "    <tr>\n",
              "      <th>17286</th>\n",
              "      <td>5499</td>\n",
              "      <td>2012-12-26</td>\n",
              "      <td>60.0</td>\n",
              "      <td>55.0</td>\n",
              "      <td>14.0</td>\n",
              "      <td>2.1993</td>\n",
              "      <td>12.4208</td>\n",
              "      <td>1.8901</td>\n",
              "      <td>NaT</td>\n",
              "      <td>1.9321</td>\n",
              "      <td>6.8285</td>\n",
              "      <td>9553.0</td>\n",
              "      <td>Poselenie Voskresenskoe</td>\n",
              "      <td>5.0829e+06</td>\n",
              "      <td>48830.4</td>\n",
              "      <td>13948.20</td>\n",
              "      <td>46.94</td>\n",
              "      <td>41.01</td>\n",
              "      <td>33.10</td>\n",
              "      <td>75.74</td>\n",
              "    </tr>\n",
              "    <tr>\n",
              "      <th>12866</th>\n",
              "      <td>25420</td>\n",
              "      <td>2014-11-27</td>\n",
              "      <td>42.0</td>\n",
              "      <td>42.0</td>\n",
              "      <td>1.0</td>\n",
              "      <td>1.0000</td>\n",
              "      <td>7.0000</td>\n",
              "      <td>1.0000</td>\n",
              "      <td>2014-01-01</td>\n",
              "      <td>1.0000</td>\n",
              "      <td>10.0000</td>\n",
              "      <td>21819.0</td>\n",
              "      <td>Poselenie Desjonovskoe</td>\n",
              "      <td>4.4253e+06</td>\n",
              "      <td>61208.0</td>\n",
              "      <td>16648.70</td>\n",
              "      <td>53.21</td>\n",
              "      <td>43.23</td>\n",
              "      <td>34.30</td>\n",
              "      <td>76.70</td>\n",
              "    </tr>\n",
              "    <tr>\n",
              "      <th>11320</th>\n",
              "      <td>23428</td>\n",
              "      <td>2014-10-09</td>\n",
              "      <td>77.0</td>\n",
              "      <td>43.0</td>\n",
              "      <td>9.0</td>\n",
              "      <td>3.0000</td>\n",
              "      <td>17.0000</td>\n",
              "      <td>1.0000</td>\n",
              "      <td>2003-01-01</td>\n",
              "      <td>3.0000</td>\n",
              "      <td>12.0000</td>\n",
              "      <td>125111.0</td>\n",
              "      <td>Solncevo</td>\n",
              "      <td>1.2000e+07</td>\n",
              "      <td>61208.0</td>\n",
              "      <td>16269.79</td>\n",
              "      <td>52.82</td>\n",
              "      <td>43.85</td>\n",
              "      <td>35.37</td>\n",
              "      <td>76.70</td>\n",
              "    </tr>\n",
              "    <tr>\n",
              "      <th>16824</th>\n",
              "      <td>30420</td>\n",
              "      <td>2015-06-25</td>\n",
              "      <td>50.0</td>\n",
              "      <td>32.0</td>\n",
              "      <td>2.0</td>\n",
              "      <td>2.0000</td>\n",
              "      <td>5.0000</td>\n",
              "      <td>2.0000</td>\n",
              "      <td>1960-01-01</td>\n",
              "      <td>3.0000</td>\n",
              "      <td>5.0000</td>\n",
              "      <td>19940.0</td>\n",
              "      <td>Nizhegorodskoe</td>\n",
              "      <td>1.0000e+06</td>\n",
              "      <td>64310.0</td>\n",
              "      <td>18720.65</td>\n",
              "      <td>49.01</td>\n",
              "      <td>38.91</td>\n",
              "      <td>30.29</td>\n",
              "      <td>76.77</td>\n",
              "    </tr>\n",
              "    <tr>\n",
              "      <th>13332</th>\n",
              "      <td>26015</td>\n",
              "      <td>2014-12-08</td>\n",
              "      <td>82.0</td>\n",
              "      <td>82.0</td>\n",
              "      <td>8.0</td>\n",
              "      <td>1.0000</td>\n",
              "      <td>17.0000</td>\n",
              "      <td>1.0000</td>\n",
              "      <td>2015-01-01</td>\n",
              "      <td>3.0000</td>\n",
              "      <td>10.0000</td>\n",
              "      <td>13890.0</td>\n",
              "      <td>Poselenie Sosenskoe</td>\n",
              "      <td>8.8981e+06</td>\n",
              "      <td>61208.0</td>\n",
              "      <td>16910.54</td>\n",
              "      <td>49.89</td>\n",
              "      <td>42.64</td>\n",
              "      <td>34.33</td>\n",
              "      <td>76.70</td>\n",
              "    </tr>\n",
              "  </tbody>\n",
              "</table>\n",
              "</div>\n",
              "      <button class=\"colab-df-convert\" onclick=\"convertToInteractive('df-3c3e294f-cb8b-4987-ab5d-550b0a3ac6d8')\"\n",
              "              title=\"Convert this dataframe to an interactive table.\"\n",
              "              style=\"display:none;\">\n",
              "        \n",
              "  <svg xmlns=\"http://www.w3.org/2000/svg\" height=\"24px\"viewBox=\"0 0 24 24\"\n",
              "       width=\"24px\">\n",
              "    <path d=\"M0 0h24v24H0V0z\" fill=\"none\"/>\n",
              "    <path d=\"M18.56 5.44l.94 2.06.94-2.06 2.06-.94-2.06-.94-.94-2.06-.94 2.06-2.06.94zm-11 1L8.5 8.5l.94-2.06 2.06-.94-2.06-.94L8.5 2.5l-.94 2.06-2.06.94zm10 10l.94 2.06.94-2.06 2.06-.94-2.06-.94-.94-2.06-.94 2.06-2.06.94z\"/><path d=\"M17.41 7.96l-1.37-1.37c-.4-.4-.92-.59-1.43-.59-.52 0-1.04.2-1.43.59L10.3 9.45l-7.72 7.72c-.78.78-.78 2.05 0 2.83L4 21.41c.39.39.9.59 1.41.59.51 0 1.02-.2 1.41-.59l7.78-7.78 2.81-2.81c.8-.78.8-2.07 0-2.86zM5.41 20L4 18.59l7.72-7.72 1.47 1.35L5.41 20z\"/>\n",
              "  </svg>\n",
              "      </button>\n",
              "      \n",
              "  <style>\n",
              "    .colab-df-container {\n",
              "      display:flex;\n",
              "      flex-wrap:wrap;\n",
              "      gap: 12px;\n",
              "    }\n",
              "\n",
              "    .colab-df-convert {\n",
              "      background-color: #E8F0FE;\n",
              "      border: none;\n",
              "      border-radius: 50%;\n",
              "      cursor: pointer;\n",
              "      display: none;\n",
              "      fill: #1967D2;\n",
              "      height: 32px;\n",
              "      padding: 0 0 0 0;\n",
              "      width: 32px;\n",
              "    }\n",
              "\n",
              "    .colab-df-convert:hover {\n",
              "      background-color: #E2EBFA;\n",
              "      box-shadow: 0px 1px 2px rgba(60, 64, 67, 0.3), 0px 1px 3px 1px rgba(60, 64, 67, 0.15);\n",
              "      fill: #174EA6;\n",
              "    }\n",
              "\n",
              "    [theme=dark] .colab-df-convert {\n",
              "      background-color: #3B4455;\n",
              "      fill: #D2E3FC;\n",
              "    }\n",
              "\n",
              "    [theme=dark] .colab-df-convert:hover {\n",
              "      background-color: #434B5C;\n",
              "      box-shadow: 0px 1px 3px 1px rgba(0, 0, 0, 0.15);\n",
              "      filter: drop-shadow(0px 1px 2px rgba(0, 0, 0, 0.3));\n",
              "      fill: #FFFFFF;\n",
              "    }\n",
              "  </style>\n",
              "\n",
              "      <script>\n",
              "        const buttonEl =\n",
              "          document.querySelector('#df-3c3e294f-cb8b-4987-ab5d-550b0a3ac6d8 button.colab-df-convert');\n",
              "        buttonEl.style.display =\n",
              "          google.colab.kernel.accessAllowed ? 'block' : 'none';\n",
              "\n",
              "        async function convertToInteractive(key) {\n",
              "          const element = document.querySelector('#df-3c3e294f-cb8b-4987-ab5d-550b0a3ac6d8');\n",
              "          const dataTable =\n",
              "            await google.colab.kernel.invokeFunction('convertToInteractive',\n",
              "                                                     [key], {});\n",
              "          if (!dataTable) return;\n",
              "\n",
              "          const docLinkHtml = 'Like what you see? Visit the ' +\n",
              "            '<a target=\"_blank\" href=https://colab.research.google.com/notebooks/data_table.ipynb>data table notebook</a>'\n",
              "            + ' to learn more about interactive tables.';\n",
              "          element.innerHTML = '';\n",
              "          dataTable['output_type'] = 'display_data';\n",
              "          await google.colab.output.renderOutput(dataTable, element);\n",
              "          const docLink = document.createElement('div');\n",
              "          docLink.innerHTML = docLinkHtml;\n",
              "          element.appendChild(docLink);\n",
              "        }\n",
              "      </script>\n",
              "    </div>\n",
              "  </div>\n",
              "  "
            ]
          },
          "metadata": {},
          "execution_count": 60
        }
      ]
    },
    {
      "cell_type": "markdown",
      "source": [
        "- 1) признак price_per_square: цена за квадратный метр"
      ],
      "metadata": {
        "id": "vhBSCrWa7I9F"
      }
    },
    {
      "cell_type": "code",
      "source": [
        "df_full['price_per_square'] = df_full['price_doc'] / df_full['full_sq']"
      ],
      "metadata": {
        "id": "y-3tzZJs4iKW"
      },
      "execution_count": 61,
      "outputs": []
    },
    {
      "cell_type": "markdown",
      "source": [
        "- 2) признак material_worth: весомость цены материала из которого изготовлена единица"
      ],
      "metadata": {
        "id": "_HBc1k2g7sLn"
      }
    },
    {
      "cell_type": "code",
      "source": [
        "df_full['material_worth'] = df_full['price_doc'] / df_full['material']"
      ],
      "metadata": {
        "id": "gn4PupJW7Pra"
      },
      "execution_count": 62,
      "outputs": []
    },
    {
      "cell_type": "markdown",
      "source": [
        "- перевод строчного названия района в его числовой эквивалент"
      ],
      "metadata": {
        "id": "UJpkFIs4HVPd"
      }
    },
    {
      "cell_type": "code",
      "source": [
        "from sklearn.preprocessing import LabelEncoder"
      ],
      "metadata": {
        "id": "ZM9M59stEwHF"
      },
      "execution_count": 63,
      "outputs": []
    },
    {
      "cell_type": "code",
      "source": [
        "le = LabelEncoder()\n",
        "label = le.fit_transform(df_full['sub_area'])"
      ],
      "metadata": {
        "id": "MUK156qnEUHm"
      },
      "execution_count": 64,
      "outputs": []
    },
    {
      "cell_type": "code",
      "source": [
        "df_full.drop('sub_area', axis=1, inplace=True)\n",
        "df_full['sub_area'] = label"
      ],
      "metadata": {
        "id": "lPv2wnNUE9hf"
      },
      "execution_count": 65,
      "outputs": []
    },
    {
      "cell_type": "markdown",
      "source": [
        "- 3) sub_area_prestige: престижность района как отношение его локации к стоимости единицы"
      ],
      "metadata": {
        "id": "48DQNNMkIdmM"
      }
    },
    {
      "cell_type": "code",
      "source": [
        "df_full['sub_area_prestige'] = df_full['price_doc'] / df_full['sub_area']"
      ],
      "metadata": {
        "id": "rWqTVoMDIbYw"
      },
      "execution_count": 66,
      "outputs": []
    },
    {
      "cell_type": "markdown",
      "source": [
        "- 4) region_life_cost: зависимость между зарплатой и потребительской корзиной, показывающий общую стоимость проживания"
      ],
      "metadata": {
        "id": "OR4Byln1HBRr"
      }
    },
    {
      "cell_type": "code",
      "source": [
        "df_full['region_life_cost'] = df_full['salary'] / df_full['fixed_basket']"
      ],
      "metadata": {
        "id": "wnMxrzTVGa0Q"
      },
      "execution_count": 67,
      "outputs": []
    },
    {
      "cell_type": "code",
      "source": [
        "sns.boxplot(data=df_full, x='region_life_cost')"
      ],
      "metadata": {
        "colab": {
          "base_uri": "https://localhost:8080/",
          "height": 297
        },
        "id": "2b7hCyaUR6Ty",
        "outputId": "08cbab0d-f05d-42be-871e-6b157cfd5b69"
      },
      "execution_count": 68,
      "outputs": [
        {
          "output_type": "execute_result",
          "data": {
            "text/plain": [
              "<matplotlib.axes._subplots.AxesSubplot at 0x7f3b1f92c6d0>"
            ]
          },
          "metadata": {},
          "execution_count": 68
        },
        {
          "output_type": "display_data",
          "data": {
            "text/plain": [
              "<Figure size 432x288 with 1 Axes>"
            ],
            "image/png": "[encoded data removed]"
          },
          "metadata": {
            "needs_background": "light"
          }
        }
      ]
    },
    {
      "cell_type": "markdown",
      "source": [
        "- Наблюдается небольшой выброс, избавимся на всякий случай"
      ],
      "metadata": {
        "id": "LKyUhj0WSNIH"
      }
    },
    {
      "cell_type": "code",
      "source": [
        "df_full = clear_outliers(df_full, on_columns=['region_life_cost'])"
      ],
      "metadata": {
        "id": "np8PlniLSQp9"
      },
      "execution_count": 69,
      "outputs": []
    },
    {
      "cell_type": "code",
      "source": [
        "sns.boxplot(data=df_full, x='region_life_cost')"
      ],
      "metadata": {
        "colab": {
          "base_uri": "https://localhost:8080/",
          "height": 297
        },
        "id": "JF6yAw8mUasm",
        "outputId": "600142af-bccf-44cc-82cc-c5ec92b46bf0"
      },
      "execution_count": 70,
      "outputs": [
        {
          "output_type": "execute_result",
          "data": {
            "text/plain": [
              "<matplotlib.axes._subplots.AxesSubplot at 0x7f3b1ff92610>"
            ]
          },
          "metadata": {},
          "execution_count": 70
        },
        {
          "output_type": "display_data",
          "data": {
            "text/plain": [
              "<Figure size 432x288 with 1 Axes>"
            ],
            "image/png": "[encoded data removed]"
          },
          "metadata": {
            "needs_background": "light"
          }
        }
      ]
    },
    {
      "cell_type": "markdown",
      "source": [
        "- 5) max_floor_price_impact: зависимость между количеством этажей в здании в котором продается квартира, и ее ценой"
      ],
      "metadata": {
        "id": "ARGWQV2mJHz7"
      }
    },
    {
      "cell_type": "code",
      "source": [
        "df_full['max_floor_price_impact'] = df_full['max_floor'] / df_full['price_doc']"
      ],
      "metadata": {
        "id": "wx2tLn6RJJTd"
      },
      "execution_count": 71,
      "outputs": []
    },
    {
      "cell_type": "code",
      "source": [
        "sns.boxplot(data=df_full, x='max_floor_price_impact')"
      ],
      "metadata": {
        "colab": {
          "base_uri": "https://localhost:8080/",
          "height": 297
        },
        "id": "XcpesnoEUtAp",
        "outputId": "242d443e-61b8-4225-aa62-f5fc5491fe1b"
      },
      "execution_count": 72,
      "outputs": [
        {
          "output_type": "execute_result",
          "data": {
            "text/plain": [
              "<matplotlib.axes._subplots.AxesSubplot at 0x7f3b2016bac0>"
            ]
          },
          "metadata": {},
          "execution_count": 72
        },
        {
          "output_type": "display_data",
          "data": {
            "text/plain": [
              "<Figure size 432x288 with 1 Axes>"
            ],
            "image/png": "[encoded data removed]"
          },
          "metadata": {
            "needs_background": "light"
          }
        }
      ]
    },
    {
      "cell_type": "markdown",
      "source": [
        "- Тоже избавимся от пары выбросов"
      ],
      "metadata": {
        "id": "ylYiwJ1UXhbU"
      }
    },
    {
      "cell_type": "code",
      "source": [
        "df_full = clear_outliers(df_full, on_columns=['max_floor_price_impact'])"
      ],
      "metadata": {
        "id": "HjHlMxy_Xk4Y"
      },
      "execution_count": 73,
      "outputs": []
    },
    {
      "cell_type": "code",
      "source": [
        "sns.boxplot(data=df_full, x='max_floor_price_impact')"
      ],
      "metadata": {
        "colab": {
          "base_uri": "https://localhost:8080/",
          "height": 297
        },
        "id": "sEyLPUUQXrjK",
        "outputId": "1adf219d-ecb3-4ca0-ac15-0a27cc73ebd2"
      },
      "execution_count": 74,
      "outputs": [
        {
          "output_type": "execute_result",
          "data": {
            "text/plain": [
              "<matplotlib.axes._subplots.AxesSubplot at 0x7f3b2007d2b0>"
            ]
          },
          "metadata": {},
          "execution_count": 74
        },
        {
          "output_type": "display_data",
          "data": {
            "text/plain": [
              "<Figure size 432x288 with 1 Axes>"
            ],
            "image/png": "[encoded data removed]"
          },
          "metadata": {
            "needs_background": "light"
          }
        }
      ]
    },
    {
      "cell_type": "markdown",
      "source": [
        "- В поле build_year наблюдается выброс, который я нашел уже под конец выполнения проекта, при шаге 1.7.1.7, скорее всего минимальное значение года не 1691, а 1961, тк большинство домов было построено в 60-х\n",
        "- Поменяю значение, избавившись от выброса"
      ],
      "metadata": {
        "id": "GaI4xV_Cy0XA"
      }
    },
    {
      "cell_type": "code",
      "source": [
        "fig = plt.figure(figsize=(10, 4))\n",
        "plt.hist(df_full['build_year'], bins=20, color='skyblue', alpha=0.5, histtype='bar')\n",
        "plt.show()"
      ],
      "metadata": {
        "colab": {
          "base_uri": "https://localhost:8080/",
          "height": 265
        },
        "id": "zmUrqDiMyifx",
        "outputId": "92e60032-3e7f-468e-b981-4f36a9313ec0"
      },
      "execution_count": 75,
      "outputs": [
        {
          "output_type": "display_data",
          "data": {
            "text/plain": [
              "<Figure size 720x288 with 1 Axes>"
            ],
            "image/png": "[encoded data removed]"
          },
          "metadata": {
            "needs_background": "light"
          }
        }
      ]
    },
    {
      "cell_type": "code",
      "source": [
        "build_year_outlier_index = df_full['build_year'].idxmin()\n",
        "df_full = df_full.drop([build_year_outlier_index])"
      ],
      "metadata": {
        "id": "4L1Rm8OJ8BMI"
      },
      "execution_count": 76,
      "outputs": []
    },
    {
      "cell_type": "code",
      "source": [
        "fig = plt.figure(figsize=(10, 4))\n",
        "plt.hist(df_full['build_year'], bins=20, color='skyblue', alpha=0.5, histtype='bar')\n",
        "plt.show()"
      ],
      "metadata": {
        "colab": {
          "base_uri": "https://localhost:8080/",
          "height": 265
        },
        "id": "mcuJRc-K8JmC",
        "outputId": "26b3d416-3a38-49c3-e223-d4bb21217984"
      },
      "execution_count": 77,
      "outputs": [
        {
          "output_type": "display_data",
          "data": {
            "text/plain": [
              "<Figure size 720x288 with 1 Axes>"
            ],
            "image/png": "[encoded data removed]"
          },
          "metadata": {
            "needs_background": "light"
          }
        }
      ]
    },
    {
      "cell_type": "markdown",
      "source": [
        "- Выглядит лучше"
      ],
      "metadata": {
        "id": "5CfbdDlp8UI9"
      }
    },
    {
      "cell_type": "markdown",
      "source": [
        "- 6) building_novelty: предположение что здание оснащено современными технологиями исходя из года постройки"
      ],
      "metadata": {
        "id": "e9K5-SVuJ91z"
      }
    },
    {
      "cell_type": "code",
      "source": [
        "df_full['building_novelty'] = df_full['build_year'].apply(lambda x: True if x.year > 2010 else False)"
      ],
      "metadata": {
        "id": "sIYK_oxDKHol"
      },
      "execution_count": 78,
      "outputs": []
    },
    {
      "cell_type": "code",
      "source": [
        "df_full.sample(5)"
      ],
      "metadata": {
        "colab": {
          "base_uri": "https://localhost:8080/",
          "height": 357
        },
        "id": "Yewr8XiFHK7D",
        "outputId": "880187e9-ffd8-4e29-b17e-9d19bda31418"
      },
      "execution_count": 79,
      "outputs": [
        {
          "output_type": "execute_result",
          "data": {
            "text/plain": [
              "          id  timestamp  full_sq  life_sq  floor   state  max_floor  material  \\\n",
              "16893  21792 2014-08-22     27.0   33.746    8.0  2.1993       19.0       1.0   \n",
              "2720   12940 2013-12-09     43.0   27.000    5.0  3.0000        5.0       2.0   \n",
              "10581  22505 2014-09-15     58.0   45.000    3.0  3.0000        9.0       1.0   \n",
              "6631   17679 2014-04-22     29.0   17.000    3.0  2.0000        9.0       2.0   \n",
              "8397   19839 2014-06-19     52.0   17.000   13.0  3.0000       27.0       4.0   \n",
              "\n",
              "      build_year  num_room  kitch_sq  full_all  price_doc   salary  \\\n",
              "16893        NaT       1.0       0.0   39873.0  2689984.0  61208.0   \n",
              "2720  1964-01-01       2.0       5.0   57405.0  6400000.0  55485.2   \n",
              "10581 1968-01-01       3.0       5.0   12327.0  7700000.0  61208.0   \n",
              "6631  1969-01-01       1.0       5.0  115352.0  5800000.0  61208.0   \n",
              "8397  2011-01-01       1.0      13.0  155427.0  6000000.0  61208.0   \n",
              "\n",
              "       fixed_basket  rent_price_3room_eco  rent_price_2room_eco  \\\n",
              "16893      16134.39                 52.81                 43.11   \n",
              "2720       15417.34                 48.50                 42.00   \n",
              "10581      16165.30                 51.41                 43.26   \n",
              "6631       16041.58                 49.32                 40.95   \n",
              "8397       16295.00                 48.70                 41.18   \n",
              "\n",
              "       rent_price_1room_eco  average_life_exp  price_per_square  \\\n",
              "16893                 34.83             76.70        99629.0370   \n",
              "2720                  33.97             76.37       148837.2093   \n",
              "10581                 34.52             76.70       132758.6207   \n",
              "6631                  32.96             76.70       200000.0000   \n",
              "8397                  33.06             76.70       115384.6154   \n",
              "\n",
              "       material_worth  sub_area  sub_area_prestige  region_life_cost  \\\n",
              "16893       2689984.0       101         26633.5050            3.7936   \n",
              "2720        3200000.0       106         60377.3585            3.5989   \n",
              "10581       7700000.0        27        285185.1852            3.7864   \n",
              "6631        2900000.0        71         81690.1408            3.8156   \n",
              "8397        1500000.0        30        200000.0000            3.7562   \n",
              "\n",
              "       max_floor_price_impact  building_novelty  \n",
              "16893              7.0632e-06             False  \n",
              "2720               7.8125e-07             False  \n",
              "10581              1.1688e-06             False  \n",
              "6631               1.5517e-06             False  \n",
              "8397               4.5000e-06              True  "
            ],
            "text/html": [
              "\n",
              "  <div id=\"df-b6680f97-1fec-4aa8-9696-093bef94fb42\">\n",
              "    <div class=\"colab-df-container\">\n",
              "      <div>\n",
              "<style scoped>\n",
              "    .dataframe tbody tr th:only-of-type {\n",
              "        vertical-align: middle;\n",
              "    }\n",
              "\n",
              "    .dataframe tbody tr th {\n",
              "        vertical-align: top;\n",
              "    }\n",
              "\n",
              "    .dataframe thead th {\n",
              "        text-align: right;\n",
              "    }\n",
              "</style>\n",
              "<table border=\"1\" class=\"dataframe\">\n",
              "  <thead>\n",
              "    <tr style=\"text-align: right;\">\n",
              "      <th></th>\n",
              "      <th>id</th>\n",
              "      <th>timestamp</th>\n",
              "      <th>full_sq</th>\n",
              "      <th>life_sq</th>\n",
              "      <th>floor</th>\n",
              "      <th>state</th>\n",
              "      <th>max_floor</th>\n",
              "      <th>material</th>\n",
              "      <th>build_year</th>\n",
              "      <th>num_room</th>\n",
              "      <th>kitch_sq</th>\n",
              "      <th>full_all</th>\n",
              "      <th>price_doc</th>\n",
              "      <th>salary</th>\n",
              "      <th>fixed_basket</th>\n",
              "      <th>rent_price_3room_eco</th>\n",
              "      <th>rent_price_2room_eco</th>\n",
              "      <th>rent_price_1room_eco</th>\n",
              "      <th>average_life_exp</th>\n",
              "      <th>price_per_square</th>\n",
              "      <th>material_worth</th>\n",
              "      <th>sub_area</th>\n",
              "      <th>sub_area_prestige</th>\n",
              "      <th>region_life_cost</th>\n",
              "      <th>max_floor_price_impact</th>\n",
              "      <th>building_novelty</th>\n",
              "    </tr>\n",
              "  </thead>\n",
              "  <tbody>\n",
              "    <tr>\n",
              "      <th>16893</th>\n",
              "      <td>21792</td>\n",
              "      <td>2014-08-22</td>\n",
              "      <td>27.0</td>\n",
              "      <td>33.746</td>\n",
              "      <td>8.0</td>\n",
              "      <td>2.1993</td>\n",
              "      <td>19.0</td>\n",
              "      <td>1.0</td>\n",
              "      <td>NaT</td>\n",
              "      <td>1.0</td>\n",
              "      <td>0.0</td>\n",
              "      <td>39873.0</td>\n",
              "      <td>2689984.0</td>\n",
              "      <td>61208.0</td>\n",
              "      <td>16134.39</td>\n",
              "      <td>52.81</td>\n",
              "      <td>43.11</td>\n",
              "      <td>34.83</td>\n",
              "      <td>76.70</td>\n",
              "      <td>99629.0370</td>\n",
              "      <td>2689984.0</td>\n",
              "      <td>101</td>\n",
              "      <td>26633.5050</td>\n",
              "      <td>3.7936</td>\n",
              "      <td>7.0632e-06</td>\n",
              "      <td>False</td>\n",
              "    </tr>\n",
              "    <tr>\n",
              "      <th>2720</th>\n",
              "      <td>12940</td>\n",
              "      <td>2013-12-09</td>\n",
              "      <td>43.0</td>\n",
              "      <td>27.000</td>\n",
              "      <td>5.0</td>\n",
              "      <td>3.0000</td>\n",
              "      <td>5.0</td>\n",
              "      <td>2.0</td>\n",
              "      <td>1964-01-01</td>\n",
              "      <td>2.0</td>\n",
              "      <td>5.0</td>\n",
              "      <td>57405.0</td>\n",
              "      <td>6400000.0</td>\n",
              "      <td>55485.2</td>\n",
              "      <td>15417.34</td>\n",
              "      <td>48.50</td>\n",
              "      <td>42.00</td>\n",
              "      <td>33.97</td>\n",
              "      <td>76.37</td>\n",
              "      <td>148837.2093</td>\n",
              "      <td>3200000.0</td>\n",
              "      <td>106</td>\n",
              "      <td>60377.3585</td>\n",
              "      <td>3.5989</td>\n",
              "      <td>7.8125e-07</td>\n",
              "      <td>False</td>\n",
              "    </tr>\n",
              "    <tr>\n",
              "      <th>10581</th>\n",
              "      <td>22505</td>\n",
              "      <td>2014-09-15</td>\n",
              "      <td>58.0</td>\n",
              "      <td>45.000</td>\n",
              "      <td>3.0</td>\n",
              "      <td>3.0000</td>\n",
              "      <td>9.0</td>\n",
              "      <td>1.0</td>\n",
              "      <td>1968-01-01</td>\n",
              "      <td>3.0</td>\n",
              "      <td>5.0</td>\n",
              "      <td>12327.0</td>\n",
              "      <td>7700000.0</td>\n",
              "      <td>61208.0</td>\n",
              "      <td>16165.30</td>\n",
              "      <td>51.41</td>\n",
              "      <td>43.26</td>\n",
              "      <td>34.52</td>\n",
              "      <td>76.70</td>\n",
              "      <td>132758.6207</td>\n",
              "      <td>7700000.0</td>\n",
              "      <td>27</td>\n",
              "      <td>285185.1852</td>\n",
              "      <td>3.7864</td>\n",
              "      <td>1.1688e-06</td>\n",
              "      <td>False</td>\n",
              "    </tr>\n",
              "    <tr>\n",
              "      <th>6631</th>\n",
              "      <td>17679</td>\n",
              "      <td>2014-04-22</td>\n",
              "      <td>29.0</td>\n",
              "      <td>17.000</td>\n",
              "      <td>3.0</td>\n",
              "      <td>2.0000</td>\n",
              "      <td>9.0</td>\n",
              "      <td>2.0</td>\n",
              "      <td>1969-01-01</td>\n",
              "      <td>1.0</td>\n",
              "      <td>5.0</td>\n",
              "      <td>115352.0</td>\n",
              "      <td>5800000.0</td>\n",
              "      <td>61208.0</td>\n",
              "      <td>16041.58</td>\n",
              "      <td>49.32</td>\n",
              "      <td>40.95</td>\n",
              "      <td>32.96</td>\n",
              "      <td>76.70</td>\n",
              "      <td>200000.0000</td>\n",
              "      <td>2900000.0</td>\n",
              "      <td>71</td>\n",
              "      <td>81690.1408</td>\n",
              "      <td>3.8156</td>\n",
              "      <td>1.5517e-06</td>\n",
              "      <td>False</td>\n",
              "    </tr>\n",
              "    <tr>\n",
              "      <th>8397</th>\n",
              "      <td>19839</td>\n",
              "      <td>2014-06-19</td>\n",
              "      <td>52.0</td>\n",
              "      <td>17.000</td>\n",
              "      <td>13.0</td>\n",
              "      <td>3.0000</td>\n",
              "      <td>27.0</td>\n",
              "      <td>4.0</td>\n",
              "      <td>2011-01-01</td>\n",
              "      <td>1.0</td>\n",
              "      <td>13.0</td>\n",
              "      <td>155427.0</td>\n",
              "      <td>6000000.0</td>\n",
              "      <td>61208.0</td>\n",
              "      <td>16295.00</td>\n",
              "      <td>48.70</td>\n",
              "      <td>41.18</td>\n",
              "      <td>33.06</td>\n",
              "      <td>76.70</td>\n",
              "      <td>115384.6154</td>\n",
              "      <td>1500000.0</td>\n",
              "      <td>30</td>\n",
              "      <td>200000.0000</td>\n",
              "      <td>3.7562</td>\n",
              "      <td>4.5000e-06</td>\n",
              "      <td>True</td>\n",
              "    </tr>\n",
              "  </tbody>\n",
              "</table>\n",
              "</div>\n",
              "      <button class=\"colab-df-convert\" onclick=\"convertToInteractive('df-b6680f97-1fec-4aa8-9696-093bef94fb42')\"\n",
              "              title=\"Convert this dataframe to an interactive table.\"\n",
              "              style=\"display:none;\">\n",
              "        \n",
              "  <svg xmlns=\"http://www.w3.org/2000/svg\" height=\"24px\"viewBox=\"0 0 24 24\"\n",
              "       width=\"24px\">\n",
              "    <path d=\"M0 0h24v24H0V0z\" fill=\"none\"/>\n",
              "    <path d=\"M18.56 5.44l.94 2.06.94-2.06 2.06-.94-2.06-.94-.94-2.06-.94 2.06-2.06.94zm-11 1L8.5 8.5l.94-2.06 2.06-.94-2.06-.94L8.5 2.5l-.94 2.06-2.06.94zm10 10l.94 2.06.94-2.06 2.06-.94-2.06-.94-.94-2.06-.94 2.06-2.06.94z\"/><path d=\"M17.41 7.96l-1.37-1.37c-.4-.4-.92-.59-1.43-.59-.52 0-1.04.2-1.43.59L10.3 9.45l-7.72 7.72c-.78.78-.78 2.05 0 2.83L4 21.41c.39.39.9.59 1.41.59.51 0 1.02-.2 1.41-.59l7.78-7.78 2.81-2.81c.8-.78.8-2.07 0-2.86zM5.41 20L4 18.59l7.72-7.72 1.47 1.35L5.41 20z\"/>\n",
              "  </svg>\n",
              "      </button>\n",
              "      \n",
              "  <style>\n",
              "    .colab-df-container {\n",
              "      display:flex;\n",
              "      flex-wrap:wrap;\n",
              "      gap: 12px;\n",
              "    }\n",
              "\n",
              "    .colab-df-convert {\n",
              "      background-color: #E8F0FE;\n",
              "      border: none;\n",
              "      border-radius: 50%;\n",
              "      cursor: pointer;\n",
              "      display: none;\n",
              "      fill: #1967D2;\n",
              "      height: 32px;\n",
              "      padding: 0 0 0 0;\n",
              "      width: 32px;\n",
              "    }\n",
              "\n",
              "    .colab-df-convert:hover {\n",
              "      background-color: #E2EBFA;\n",
              "      box-shadow: 0px 1px 2px rgba(60, 64, 67, 0.3), 0px 1px 3px 1px rgba(60, 64, 67, 0.15);\n",
              "      fill: #174EA6;\n",
              "    }\n",
              "\n",
              "    [theme=dark] .colab-df-convert {\n",
              "      background-color: #3B4455;\n",
              "      fill: #D2E3FC;\n",
              "    }\n",
              "\n",
              "    [theme=dark] .colab-df-convert:hover {\n",
              "      background-color: #434B5C;\n",
              "      box-shadow: 0px 1px 3px 1px rgba(0, 0, 0, 0.15);\n",
              "      filter: drop-shadow(0px 1px 2px rgba(0, 0, 0, 0.3));\n",
              "      fill: #FFFFFF;\n",
              "    }\n",
              "  </style>\n",
              "\n",
              "      <script>\n",
              "        const buttonEl =\n",
              "          document.querySelector('#df-b6680f97-1fec-4aa8-9696-093bef94fb42 button.colab-df-convert');\n",
              "        buttonEl.style.display =\n",
              "          google.colab.kernel.accessAllowed ? 'block' : 'none';\n",
              "\n",
              "        async function convertToInteractive(key) {\n",
              "          const element = document.querySelector('#df-b6680f97-1fec-4aa8-9696-093bef94fb42');\n",
              "          const dataTable =\n",
              "            await google.colab.kernel.invokeFunction('convertToInteractive',\n",
              "                                                     [key], {});\n",
              "          if (!dataTable) return;\n",
              "\n",
              "          const docLinkHtml = 'Like what you see? Visit the ' +\n",
              "            '<a target=\"_blank\" href=https://colab.research.google.com/notebooks/data_table.ipynb>data table notebook</a>'\n",
              "            + ' to learn more about interactive tables.';\n",
              "          element.innerHTML = '';\n",
              "          dataTable['output_type'] = 'display_data';\n",
              "          await google.colab.output.renderOutput(dataTable, element);\n",
              "          const docLink = document.createElement('div');\n",
              "          docLink.innerHTML = docLinkHtml;\n",
              "          element.appendChild(docLink);\n",
              "        }\n",
              "      </script>\n",
              "    </div>\n",
              "  </div>\n",
              "  "
            ]
          },
          "metadata": {},
          "execution_count": 79
        }
      ]
    },
    {
      "cell_type": "markdown",
      "source": [
        "- Так как я обнулял некоторые выбросы, заменим их значения NaN на среднее"
      ],
      "metadata": {
        "id": "nsO9q-CMYETw"
      }
    },
    {
      "cell_type": "code",
      "source": [
        "count_nan(df_full)"
      ],
      "metadata": {
        "colab": {
          "base_uri": "https://localhost:8080/"
        },
        "id": "bHmyFCg1YS8X",
        "outputId": "572c0d9a-2680-40c6-99e0-6451aaa7f764"
      },
      "execution_count": 80,
      "outputs": [
        {
          "output_type": "stream",
          "name": "stdout",
          "text": [
            "id: 0\n",
            "timestamp: 0\n",
            "full_sq: 0\n",
            "life_sq: 0\n",
            "floor: 0\n",
            "state: 0\n",
            "max_floor: 0\n",
            "material: 0\n",
            "build_year: 2905\n",
            "num_room: 0\n",
            "kitch_sq: 0\n",
            "full_all: 0\n",
            "price_doc: 0\n",
            "salary: 0\n",
            "fixed_basket: 0\n",
            "rent_price_3room_eco: 0\n",
            "rent_price_2room_eco: 0\n",
            "rent_price_1room_eco: 0\n",
            "average_life_exp: 0\n",
            "price_per_square: 0\n",
            "material_worth: 0\n",
            "sub_area: 0\n",
            "sub_area_prestige: 0\n",
            "region_life_cost: 8\n",
            "max_floor_price_impact: 370\n",
            "building_novelty: 0\n"
          ]
        }
      ]
    },
    {
      "cell_type": "code",
      "source": [
        "df_full = fill_nan_data(df_full)"
      ],
      "metadata": {
        "id": "hPvVPM5IYMac"
      },
      "execution_count": 81,
      "outputs": []
    },
    {
      "cell_type": "code",
      "source": [
        "count_nan(df_full)"
      ],
      "metadata": {
        "colab": {
          "base_uri": "https://localhost:8080/"
        },
        "id": "prxLrczaYfG1",
        "outputId": "d281b71b-2167-4a84-94c8-b838ec0ae918"
      },
      "execution_count": 82,
      "outputs": [
        {
          "output_type": "stream",
          "name": "stdout",
          "text": [
            "id: 0\n",
            "timestamp: 0\n",
            "full_sq: 0\n",
            "life_sq: 0\n",
            "floor: 0\n",
            "state: 0\n",
            "max_floor: 0\n",
            "material: 0\n",
            "build_year: 2905\n",
            "num_room: 0\n",
            "kitch_sq: 0\n",
            "full_all: 0\n",
            "price_doc: 0\n",
            "salary: 0\n",
            "fixed_basket: 0\n",
            "rent_price_3room_eco: 0\n",
            "rent_price_2room_eco: 0\n",
            "rent_price_1room_eco: 0\n",
            "average_life_exp: 0\n",
            "price_per_square: 0\n",
            "material_worth: 0\n",
            "sub_area: 0\n",
            "sub_area_prestige: 0\n",
            "region_life_cost: 0\n",
            "max_floor_price_impact: 0\n",
            "building_novelty: 0\n"
          ]
        }
      ]
    },
    {
      "cell_type": "markdown",
      "source": [
        "## 1.7 Провести визуальный анализ всех признаков\n",
        "\n",
        "Ко всем графикам писать выводы текстом. Что вы видите, почему построили именно такую диаграмму"
      ],
      "metadata": {
        "id": "8xe_gJF1GFc-"
      }
    },
    {
      "cell_type": "markdown",
      "source": [
        "### 1.7.1 Анализ признаков по отдельности (где нужно делать группировки, преобразования категориальных типов данных к числовым, смотреть в разрезе других категориальных признаков)"
      ],
      "metadata": {
        "id": "esU3qvLVGF_-"
      }
    },
    {
      "cell_type": "markdown",
      "source": [
        "### Создадим тепловую карту для выделения моментов на которые стоит обратить внимание"
      ],
      "metadata": {
        "id": "wBj66Mkd499r"
      }
    },
    {
      "cell_type": "code",
      "source": [
        "df_full_visual = df_full.copy()\n",
        "df_full_visual.drop(labels=['id'], axis=1, inplace=True)"
      ],
      "metadata": {
        "id": "UsvSLjVFO2Yb"
      },
      "execution_count": 83,
      "outputs": []
    },
    {
      "cell_type": "code",
      "source": [
        "fig, ax = plt.subplots(figsize=(11, 10))\n",
        "sns.heatmap(df_full_visual.corr(), annot=False)\n",
        "plt.show()"
      ],
      "metadata": {
        "colab": {
          "base_uri": "https://localhost:8080/",
          "height": 704
        },
        "id": "8s10O_S1Y3kE",
        "outputId": "0176f4f4-4806-4155-ce98-3145280968f2"
      },
      "execution_count": 84,
      "outputs": [
        {
          "output_type": "display_data",
          "data": {
            "text/plain": [
              "<Figure size 792x720 with 2 Axes>"
            ],
            "image/png": "[encoded data removed]"
          },
          "metadata": {
            "needs_background": "light"
          }
        }
      ]
    },
    {
      "cell_type": "markdown",
      "source": [
        "### Из тепловой карты можно визуально выделить несколько корреляционных моментов:"
      ],
      "metadata": {
        "id": "M7CBKcc_OSeO"
      }
    },
    {
      "cell_type": "markdown",
      "source": [
        "1. full_sq - life_sq: больше общая площадь -> больше жилая площадь\n",
        "2. full_sq - num_room: больше общая площадь -> больше комнат\n",
        "3. full_sq - price_doc: больше общая площадь -> больше цена за объект\n",
        "4. price_doc - num_room: больше цена за объект -> больше комнат\n",
        "5. life_sq - num_room: больше жилая площадь -> больше комнат\n",
        "6. life_sq - price_doc: больше жилая площадь -> больше цена за объект\n",
        "7. max_floor - floor: больше максимальный этаж в котором расположена квартира -> больше шанс что сама квартира будет находиться на более высоком этаже\n",
        "8. material_worth - price_doc: более дорогой материал -> больше цена за объект\n",
        "9. salary - average_life_exp: больше зарпала -> дольше живет человек, и наоборот\n",
        "10. salary - fixed_basket: больше зарплата -> больше человек может потратить на прожиточную корзину\n",
        "11. average_life_exp - fixed_basket: до этого, зарплата выше -> дольше жизнь -> более качественные продукты -> больше цена корзины\n",
        "12. average_life_exp - rent_price_3room_eco: здесь есть корреляция, но нет зависимости, на тепловой карте есть более выделенный участок, но не думаю что одно зависит от другого\n",
        "13. average_life_exp - rent_price_2room_eco: как и предыдущий пункт\n",
        "14. average_life_exp - rent_price_1room_eco: как и предыдущий пункт\n",
        "\n",
        "Некоторые более интересные моменты описаны и визуализированы ниже"
      ],
      "metadata": {
        "id": "XujOENNQPodG"
      }
    },
    {
      "cell_type": "markdown",
      "source": [
        "### Функции для визузации"
      ],
      "metadata": {
        "id": "HMeDLvvIr0i7"
      }
    },
    {
      "cell_type": "code",
      "source": [
        "# function for histogram plotting\n",
        "def hist_plot_columns(dataframe, cols, num=10):\n",
        "    for col in dataframe[cols]:\n",
        "        fig, ax = plt.subplots(figsize=(25,6))\n",
        "        sns.histplot(data=dataframe, x=col, bins=20, kde=True, color='blue')\n",
        "        ax.set_title(col, size=15)\n",
        "        start = dataframe[col].min()\n",
        "        end = dataframe[col].max()\n",
        "        ax.set_xticks(np.linspace(start, end, num))\n",
        "        plt.show()"
      ],
      "metadata": {
        "id": "4EJtWaIaiJZ8"
      },
      "execution_count": 85,
      "outputs": []
    },
    {
      "cell_type": "code",
      "source": [
        "from scipy.stats import linregress\n",
        "\n",
        "\n",
        "# function for scatter plotting and linear regression line\n",
        "def scatter_plot_regr_columns(dataframe, col_a, col_b):\n",
        "    fig = plt.figure(figsize=(14, 6))\n",
        "\n",
        "    plt.scatter(dataframe[col_a], dataframe[col_b])\n",
        "    plt.xlabel(col_a)\n",
        "    plt.ylabel(col_b)\n",
        "\n",
        "    slope, intercept, r_value, p_value, std_err = linregress(dataframe[col_a], dataframe[col_b])\n",
        "    line = [slope*xi + intercept for xi in dataframe[col_a]]\n",
        "    plt.plot(dataframe[col_a], line, 'r-', linewidth=2)\n",
        "\n",
        "    plt.show()"
      ],
      "metadata": {
        "id": "1Rl0X9U0NPw2"
      },
      "execution_count": 86,
      "outputs": []
    },
    {
      "cell_type": "code",
      "source": [
        "def box_plot_columns(dataframe, cols, orientation='h'):\n",
        "    fig, ax = plt.subplots(figsize=(12, 7))\n",
        "    sns.boxplot(data=df_full[cols], orient=orientation)\n",
        "    plt.show()"
      ],
      "metadata": {
        "id": "MZGwGQsUryyH"
      },
      "execution_count": 87,
      "outputs": []
    },
    {
      "cell_type": "markdown",
      "source": [
        "### 1.7.1.1 Выводы между значениями price_doc / full_sq / life_sq / num_room"
      ],
      "metadata": {
        "id": "9oVWBVfmrMOr"
      }
    },
    {
      "cell_type": "code",
      "source": [
        "hist_plot_columns(df_full, ['price_doc'], num = 20)"
      ],
      "metadata": {
        "colab": {
          "base_uri": "https://localhost:8080/",
          "height": 407
        },
        "id": "69UoBUgOGCjb",
        "outputId": "812d2b7c-82f7-463e-f870-467c39b0ae37"
      },
      "execution_count": 88,
      "outputs": [
        {
          "output_type": "display_data",
          "data": {
            "text/plain": [
              "<Figure size 1800x432 with 1 Axes>"
            ],
            "image/png": "[encoded data removed]"
          },
          "metadata": {
            "needs_background": "light"
          }
        }
      ]
    },
    {
      "cell_type": "code",
      "source": [
        "hist_plot_columns(df_full, ['full_sq'], num = 20)"
      ],
      "metadata": {
        "colab": {
          "base_uri": "https://localhost:8080/",
          "height": 407
        },
        "id": "dWcq7U5NSFpC",
        "outputId": "ccaaf047-5a12-4a52-c9f5-7804ed89e1d0"
      },
      "execution_count": 89,
      "outputs": [
        {
          "output_type": "display_data",
          "data": {
            "text/plain": [
              "<Figure size 1800x432 with 1 Axes>"
            ],
            "image/png": "[encoded data removed]"
          },
          "metadata": {
            "needs_background": "light"
          }
        }
      ]
    },
    {
      "cell_type": "code",
      "source": [
        "hist_plot_columns(df_full, ['life_sq'], num = 20)"
      ],
      "metadata": {
        "colab": {
          "base_uri": "https://localhost:8080/",
          "height": 407
        },
        "id": "YW4_Gx99sec9",
        "outputId": "f43573fb-069c-45d7-bd23-4ba2a71eeff7"
      },
      "execution_count": 90,
      "outputs": [
        {
          "output_type": "display_data",
          "data": {
            "text/plain": [
              "<Figure size 1800x432 with 1 Axes>"
            ],
            "image/png": "[encoded data removed]"
          },
          "metadata": {
            "needs_background": "light"
          }
        }
      ]
    },
    {
      "cell_type": "code",
      "source": [
        "hist_plot_columns(df_full, ['num_room'])"
      ],
      "metadata": {
        "colab": {
          "base_uri": "https://localhost:8080/",
          "height": 405
        },
        "id": "_hY81dl3qa86",
        "outputId": "70949519-ffe9-458d-b0ed-711809051239"
      },
      "execution_count": 91,
      "outputs": [
        {
          "output_type": "display_data",
          "data": {
            "text/plain": [
              "<Figure size 1800x432 with 1 Axes>"
            ],
            "image/png": "[encoded data removed]"
          },
          "metadata": {
            "needs_background": "light"
          }
        }
      ]
    },
    {
      "cell_type": "markdown",
      "source": [
        "- На данных графиках можно увидеть, что большинство площадей квартир приходится на 30-60 единиц и при этом большинство жилого пространства имеют площадь 15 - ~45 единиц, из этого можно сделать вывод о том что большинство квартир имеют прямую зависимость - чем больше общая площадь - тем больше жилое пространство, и большинство квартин не очень большие, помимо чего, если приглядеться ближе к значениям от 70 на обоих графиках, то жилая площадь несоизмеримо падает по отношению к общей, скорее всего от того, что общая площадь выделена под что-то другое.\n",
        "- Зависимость между общей площадью и количеством комнат в принципе не нужно объяснять - больше общая площадь - больше комнат, все прямолинейно, изображено двумя отдельными графиками, по причине того что количество значений по оси абсцисс сильно различаются в велиине\n",
        "- Больше цена по документам - больше жилая площадь и количество комнат, логично было бы изобразить две гистограммы одна на другой, но визуализация выглядит слишком плохо из-за разных масштабов в значениях, если можно так сказать"
      ],
      "metadata": {
        "id": "I1Jel8EgVEaZ"
      }
    },
    {
      "cell_type": "markdown",
      "source": [
        "### 1.7.1.2 max_floor - floor"
      ],
      "metadata": {
        "id": "cGNvowiVAnFh"
      }
    },
    {
      "cell_type": "code",
      "source": [
        "fig = plt.figure(figsize=(14, 6))\n",
        "ax = fig.add_axes([0, 0, 1, 1])\n",
        "\n",
        "ax.plot(df_full['max_floor'], lw=3, alpha=1, label='Max floor')\n",
        "ax.plot(df_full['floor'], lw=3, alpha=0.8, label='Current floor')\n",
        "\n",
        "ax.set_xlabel('id')\n",
        "ax.set_ylabel('floor')\n",
        "\n",
        "ax.legend()\n",
        "\n",
        "plt.show()"
      ],
      "metadata": {
        "id": "ptU9sQFfq57C",
        "colab": {
          "base_uri": "https://localhost:8080/",
          "height": 495
        },
        "outputId": "639cffc1-a12f-4f27-fad8-90736f261822"
      },
      "execution_count": 92,
      "outputs": [
        {
          "output_type": "display_data",
          "data": {
            "text/plain": [
              "<Figure size 1008x432 with 1 Axes>"
            ],
            "image/png": "[encoded data removed]"
          },
          "metadata": {
            "needs_background": "light"
          }
        }
      ]
    },
    {
      "cell_type": "markdown",
      "source": [
        "Квартиры на максимальных этажах не всегда популярны из-за большей цены, что видно на графике, примерно в 90% случаях этаж на котором находится квартира меньше чем максимальный этаж здания в котором эта квартира находится"
      ],
      "metadata": {
        "id": "kh_ntz4ZB7SA"
      }
    },
    {
      "cell_type": "markdown",
      "source": [
        "### 1.7.1.3 average_life_exp - salary / fixed_basket"
      ],
      "metadata": {
        "id": "ol5zdulcG-b5"
      }
    },
    {
      "cell_type": "code",
      "source": [
        "scatter_plot_regr_columns(df_full, 'salary', 'average_life_exp')"
      ],
      "metadata": {
        "colab": {
          "base_uri": "https://localhost:8080/",
          "height": 388
        },
        "id": "oFjp5DnoNzSv",
        "outputId": "e6eb1c7e-fdd3-4eb1-bcdf-ea97b5a37228"
      },
      "execution_count": 93,
      "outputs": [
        {
          "output_type": "display_data",
          "data": {
            "text/plain": [
              "<Figure size 1008x432 with 1 Axes>"
            ],
            "image/png": "[encoded data removed]"
          },
          "metadata": {
            "needs_background": "light"
          }
        }
      ]
    },
    {
      "cell_type": "code",
      "source": [
        "scatter_plot_regr_columns(df_full, 'average_life_exp', 'fixed_basket')"
      ],
      "metadata": {
        "colab": {
          "base_uri": "https://localhost:8080/",
          "height": 391
        },
        "id": "Le3xbCfmSZUO",
        "outputId": "33b89e42-32d7-4827-c5e8-96bd8155c09a"
      },
      "execution_count": 94,
      "outputs": [
        {
          "output_type": "display_data",
          "data": {
            "text/plain": [
              "<Figure size 1008x432 with 1 Axes>"
            ],
            "image/png": "[encoded data removed]"
          },
          "metadata": {
            "needs_background": "light"
          }
        }
      ]
    },
    {
      "cell_type": "markdown",
      "source": [
        "Добавил линию линейной регрессии чтобы явно увидеть линейную зависимость между average_life_exp и salary, можно сделать вывод о том что, чем больше человек в среднем зарабатывает, тем дольше живет"
      ],
      "metadata": {
        "id": "N5M7JDAIKmwL"
      }
    },
    {
      "cell_type": "markdown",
      "source": [
        "### 1.7.1.4 salary - fixed_basket"
      ],
      "metadata": {
        "id": "BhcWr0qsMvnQ"
      }
    },
    {
      "cell_type": "code",
      "source": [
        "scatter_plot_regr_columns(df_full, 'salary', 'fixed_basket')"
      ],
      "metadata": {
        "colab": {
          "base_uri": "https://localhost:8080/",
          "height": 389
        },
        "id": "xlnhG0ZrM04e",
        "outputId": "1ac6ed1b-103d-43fe-ab82-97d74b3b3de3"
      },
      "execution_count": 95,
      "outputs": [
        {
          "output_type": "display_data",
          "data": {
            "text/plain": [
              "<Figure size 1008x432 with 1 Axes>"
            ],
            "image/png": "[encoded data removed]"
          },
          "metadata": {
            "needs_background": "light"
          }
        }
      ]
    },
    {
      "cell_type": "markdown",
      "source": [
        "- Здесь тоже наблюдается линейная зависимость между зарплатой и потребительской корзиной, что логично, больше зарабатывает человек - больше может позволить себе купить продуктов или продукты лучшего качества\n",
        "- Однако в точках на графике наблюдается еще какое-то вертикальное поведение, это обуславливается тем что количество значений зарплаты более \"дискретизировано\", что, в принципе, не создает проблем учитывая то что это средняя зарплата по районам/другим факторам, не было бы разбивки по среднему значению, уверен результат сильно бы не отличался"
      ],
      "metadata": {
        "id": "rgjtq8ecOGSv"
      }
    },
    {
      "cell_type": "markdown",
      "source": [
        "### 1.7.1.5 rent_price_1room_eco rent_price_2room_eco rent_price_3room_eco"
      ],
      "metadata": {
        "id": "T_nOXJknn16F"
      }
    },
    {
      "cell_type": "code",
      "source": [
        "box_plot_columns(df_full, ['rent_price_1room_eco','rent_price_2room_eco','rent_price_3room_eco'])"
      ],
      "metadata": {
        "colab": {
          "base_uri": "https://localhost:8080/",
          "height": 428
        },
        "id": "gA8M9FTpqSIh",
        "outputId": "604e6efb-2411-466b-9cef-5d79d54cfd84"
      },
      "execution_count": 96,
      "outputs": [
        {
          "output_type": "display_data",
          "data": {
            "text/plain": [
              "<Figure size 864x504 with 1 Axes>"
            ],
            "image/png": "[encoded data removed]"
          },
          "metadata": {
            "needs_background": "light"
          }
        }
      ]
    },
    {
      "cell_type": "markdown",
      "source": [
        "В принципе ничего особенного, только в редких случаях есть шанс что трехкомнатная квартира может сдаться почти по цене близкой к средней двухкомнатной квартиры"
      ],
      "metadata": {
        "id": "IEjxNpXfrawb"
      }
    },
    {
      "cell_type": "markdown",
      "source": [
        "### 1.7.1.6 state"
      ],
      "metadata": {
        "id": "oZvu85VYrmjR"
      }
    },
    {
      "cell_type": "code",
      "source": [
        "state_data = df_full.state.value_counts()\n",
        "\n",
        "fig = plt.figure(figsize=(4, 4))\n",
        "ax = fig.add_axes([0, 0, 1, 1])\n",
        "ax.pie(state_data, explode = [0.1, 0, 0, 0, 0], autopct='%1.1f%%', textprops={'fontsize': 14})\n",
        "ax.set_title('Building state', size=16)\n",
        "ax.legend(title='State grade', labels=state_data.index, loc='upper right')\n",
        "plt.show()"
      ],
      "metadata": {
        "colab": {
          "base_uri": "https://localhost:8080/",
          "height": 337
        },
        "id": "jQ4tjJLWscMe",
        "outputId": "d9ee0aa6-bdec-4ab4-fb3d-b8149aa11ff3"
      },
      "execution_count": 103,
      "outputs": [
        {
          "output_type": "display_data",
          "data": {
            "text/plain": [
              "<Figure size 288x288 with 1 Axes>"
            ],
            "image/png": "[encoded data removed]"
          },
          "metadata": {}
        }
      ]
    },
    {
      "cell_type": "markdown",
      "source": [
        "- В принципе про количество и типы данных здесь не нужно подробно расписывать, количество - процентное соотношение"
      ],
      "metadata": {
        "id": "5Z0EY73o9Cfy"
      }
    },
    {
      "cell_type": "markdown",
      "source": [
        "### 1.7.1.7 build_year"
      ],
      "metadata": {
        "id": "OLzMQUNzs740"
      }
    },
    {
      "cell_type": "code",
      "source": [
        "fig = plt.figure(figsize=(14, 6))\n",
        "plt.hist(df_full['build_year'], bins=20, color='skyblue', alpha=0.5, histtype='bar')\n",
        "plt.show()"
      ],
      "metadata": {
        "colab": {
          "base_uri": "https://localhost:8080/",
          "height": 374
        },
        "id": "odizJ8A_s-Bf",
        "outputId": "e4af6595-ce43-4d6f-9f0f-5ad1de3c796b"
      },
      "execution_count": 97,
      "outputs": [
        {
          "output_type": "display_data",
          "data": {
            "text/plain": [
              "<Figure size 1008x432 with 1 Axes>"
            ],
            "image/png": "[encoded data removed]"
          },
          "metadata": {
            "needs_background": "light"
          }
        }
      ]
    },
    {
      "cell_type": "markdown",
      "source": [
        "- Из этой гистограммы можно сделать вывод о том что большинство зданий было построено после 60-х годов\n",
        "- Есть какой то выброс в виде 1691 года, мне кажется "
      ],
      "metadata": {
        "id": "CjmOZ8O4vYeK"
      }
    },
    {
      "cell_type": "markdown",
      "source": [
        "### 1.7.2 Анализ совместного влияния признаков и их влияния на целевой признак"
      ],
      "metadata": {
        "id": "_SXlluEpGGR2"
      }
    },
    {
      "cell_type": "code",
      "source": [],
      "metadata": {
        "id": "bSMrXZ5CGHxW"
      },
      "execution_count": 97,
      "outputs": []
    }
  ]
}