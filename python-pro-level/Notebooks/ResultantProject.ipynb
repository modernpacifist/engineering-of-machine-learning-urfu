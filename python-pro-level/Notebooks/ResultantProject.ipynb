{
  "nbformat": 4,
  "nbformat_minor": 0,
  "metadata": {
    "anaconda-cloud": {},
    "kernelspec": {
      "display_name": "Python 3",
      "language": "python",
      "name": "python3"
    },
    "language_info": {
      "codemirror_mode": {
        "name": "ipython",
        "version": 3
      },
      "file_extension": ".py",
      "mimetype": "text/x-python",
      "name": "python",
      "nbconvert_exporter": "python",
      "pygments_lexer": "ipython3",
      "version": "3.7.6"
    },
    "colab": {
      "provenance": []
    }
  },
  "cells": [
    {
      "cell_type": "markdown",
      "metadata": {
        "id": "CXsKzXe_x-t4"
      },
      "source": [
        "**Импорт всех необходимых библиотек**"
      ]
    },
    {
      "cell_type": "code",
      "metadata": {
        "id": "RrSo2OJzx-Pw"
      },
      "source": [
        "import pandas as pd\n",
        "import numpy as np\n",
        "import matplotlib.pyplot as plt\n",
        "import seaborn as sns\n",
        "import re\n",
        "pd.set_option(\"display.max_rows\", 20)\n",
        "pd.set_option(\"display.max_columns\", 40)\n",
        "pd.set_option(\"display.precision\", 4)\n",
        "pd.set_option(\"plotting.backend\", \"matplotlib\")"
      ],
      "execution_count": 1,
      "outputs": []
    },
    {
      "cell_type": "markdown",
      "metadata": {
        "id": "UTKVH3sMutTM"
      },
      "source": [
        "# 1. Исследовательский анализ данных (exploratory data analysis - EDA)"
      ]
    },
    {
      "cell_type": "markdown",
      "metadata": {
        "id": "tiFgQjEcxnu2"
      },
      "source": [
        "## 1.1 Словесное описание признаков"
      ]
    },
    {
      "cell_type": "markdown",
      "source": [
        "<b><p>data.csv</p></b>\n",
        "<ul>\n",
        "<li>id: id транзакции </li>\n",
        "<li>timestamp: дата продажи (транзакции) </li>\n",
        "<li>full_sq: общая площадь  </li>\n",
        "<li>life_sq: жилая площадь  </li>\n",
        "<li>floor: этаж  </li>\n",
        "<li>max_floor: количество этажей в здании </li>\n",
        "<li>material: материал, из которого изговолены стены  </li>\n",
        "<li>build_year: год строительства </li>\n",
        "<li>num_room: количество жилых комнат </li>\n",
        "<li>kitch_sq: площадь кухни </li>\n",
        "<li>full_all: количество населения в регионе </li>\n",
        "<li> state: жилищные условия </li>\n",
        "<li>sub_area: название территории </li>\n",
        "<li>price_doc: цена квартиры (целевая переменная) </li>\n",
        "</ul>\n",
        "\n",
        "<b><p>macro.csv</p></b>\n",
        "<ul>\n",
        "<li>timestamp : дата, на которую актуальны макроэкономические показатели </li>\n",
        "<li>salary : средняя зарплата в регионе </li>\n",
        "<li>fixed_basket: стоимость потребительской корзины </li>\n",
        "<li>rent_price_3room_eco: стоимость аренды 3-х комнатного жилья эконом-класса </li>\n",
        "<li>rent_price_2room_eco: стоимость аренды 2-х комнатного жилья эконом-класса </li>\n",
        "<li>rent_price_1room_eco: стоимость аренды 1-но комнатного жилья эконом-класса </li>\n",
        "<li>average_life_exp: средняя продолжительность жизни в регионе </li>\n",
        "</ul>"
      ],
      "metadata": {
        "id": "5_Jpw5OmX6Oe"
      }
    },
    {
      "cell_type": "markdown",
      "metadata": {
        "id": "qy4yj--r07RL"
      },
      "source": [
        "## 1.2 Загрузка данных общее описание набора данных"
      ]
    },
    {
      "cell_type": "code",
      "metadata": {
        "id": "SJ3LbaoiutTT"
      },
      "source": [
        "df = pd.read_csv(\"https://raw.githubusercontent.com/aksenov7/Kaggle_competition_group/master/data.csv\")\n",
        "macro = pd.read_csv(\"https://raw.githubusercontent.com/aksenov7/Kaggle_competition_group/master/data_macro.csv\")\n",
        "\n",
        "df_backup = df.copy()\n",
        "macro_backup = macro.copy()"
      ],
      "execution_count": 2,
      "outputs": []
    },
    {
      "cell_type": "markdown",
      "source": [
        "### 1.2.1 Базовый датасет"
      ],
      "metadata": {
        "id": "Nz8wzZ6XdD9T"
      }
    },
    {
      "cell_type": "markdown",
      "source": [
        "Вывести пример данных (первые строки и случайные строки)"
      ],
      "metadata": {
        "id": "R_TdSpL5dlJy"
      }
    },
    {
      "cell_type": "code",
      "source": [
        "df.head(10)"
      ],
      "metadata": {
        "id": "gDzP8l3mdlgz",
        "colab": {
          "base_uri": "https://localhost:8080/",
          "height": 363
        },
        "outputId": "019343ca-17de-450b-c766-e387bfbc1ac6"
      },
      "execution_count": 3,
      "outputs": [
        {
          "output_type": "execute_result",
          "data": {
            "text/plain": [
              "     id   timestamp  full_sq  life_sq  floor  state  max_floor  material  \\\n",
              "0  8059  2013-05-21       11     11.0    2.0    3.0        5.0       2.0   \n",
              "1  8138  2013-05-25       53     30.0   10.0    3.0       16.0       1.0   \n",
              "2  8156  2013-05-27       77     41.0    2.0    1.0       17.0       6.0   \n",
              "3  8157  2013-05-27       45     27.0    6.0    3.0        9.0       1.0   \n",
              "4  8178  2013-05-28       38     20.0   15.0    NaN       16.0       1.0   \n",
              "5  8189  2013-05-28       63      NaN   17.0    1.0       17.0       4.0   \n",
              "6  8258  2013-05-30       74     46.0   12.0    3.0       24.0       1.0   \n",
              "7  8271  2013-05-31       93     93.0    3.0    1.0        1.0       1.0   \n",
              "8  8285  2013-06-01       51     30.0    7.0    3.0       17.0       1.0   \n",
              "9  8290  2013-06-03       77     50.0    3.0    2.0        5.0       2.0   \n",
              "\n",
              "  build_year  num_room  kitch_sq  full_all                 sub_area  price_doc  \n",
              "0     1907.0       1.0      12.0     75377                Hamovniki    2750000  \n",
              "1     1980.0       2.0       8.0     68630                Lianozovo    9000000  \n",
              "2     2014.0       3.0      12.0      9553  Poselenie Voskresenskoe    7011550  \n",
              "3     1970.0       2.0       6.0     78616          Severnoe Butovo    7100000  \n",
              "4     1982.0       1.0       8.0    112804           Filevskij Park    6450000  \n",
              "5     2013.0       2.0       1.0    247469               Nekrasovka    5903808  \n",
              "6     2004.0       3.0       9.0     27992       Juzhnoe Medvedkovo   12100000  \n",
              "7     2013.0       3.0       1.0      5740   Poselenie Pervomajskoe    5427640  \n",
              "8     2003.0       2.0       9.0    125111                 Solncevo    7700000  \n",
              "9     1957.0       3.0       8.0   1100773                Ajeroport   11700000  "
            ],
            "text/html": [
              "\n",
              "  <div id=\"df-89f2b9a8-c7fd-48b6-b8a7-15aeb0f0ca31\">\n",
              "    <div class=\"colab-df-container\">\n",
              "      <div>\n",
              "<style scoped>\n",
              "    .dataframe tbody tr th:only-of-type {\n",
              "        vertical-align: middle;\n",
              "    }\n",
              "\n",
              "    .dataframe tbody tr th {\n",
              "        vertical-align: top;\n",
              "    }\n",
              "\n",
              "    .dataframe thead th {\n",
              "        text-align: right;\n",
              "    }\n",
              "</style>\n",
              "<table border=\"1\" class=\"dataframe\">\n",
              "  <thead>\n",
              "    <tr style=\"text-align: right;\">\n",
              "      <th></th>\n",
              "      <th>id</th>\n",
              "      <th>timestamp</th>\n",
              "      <th>full_sq</th>\n",
              "      <th>life_sq</th>\n",
              "      <th>floor</th>\n",
              "      <th>state</th>\n",
              "      <th>max_floor</th>\n",
              "      <th>material</th>\n",
              "      <th>build_year</th>\n",
              "      <th>num_room</th>\n",
              "      <th>kitch_sq</th>\n",
              "      <th>full_all</th>\n",
              "      <th>sub_area</th>\n",
              "      <th>price_doc</th>\n",
              "    </tr>\n",
              "  </thead>\n",
              "  <tbody>\n",
              "    <tr>\n",
              "      <th>0</th>\n",
              "      <td>8059</td>\n",
              "      <td>2013-05-21</td>\n",
              "      <td>11</td>\n",
              "      <td>11.0</td>\n",
              "      <td>2.0</td>\n",
              "      <td>3.0</td>\n",
              "      <td>5.0</td>\n",
              "      <td>2.0</td>\n",
              "      <td>1907.0</td>\n",
              "      <td>1.0</td>\n",
              "      <td>12.0</td>\n",
              "      <td>75377</td>\n",
              "      <td>Hamovniki</td>\n",
              "      <td>2750000</td>\n",
              "    </tr>\n",
              "    <tr>\n",
              "      <th>1</th>\n",
              "      <td>8138</td>\n",
              "      <td>2013-05-25</td>\n",
              "      <td>53</td>\n",
              "      <td>30.0</td>\n",
              "      <td>10.0</td>\n",
              "      <td>3.0</td>\n",
              "      <td>16.0</td>\n",
              "      <td>1.0</td>\n",
              "      <td>1980.0</td>\n",
              "      <td>2.0</td>\n",
              "      <td>8.0</td>\n",
              "      <td>68630</td>\n",
              "      <td>Lianozovo</td>\n",
              "      <td>9000000</td>\n",
              "    </tr>\n",
              "    <tr>\n",
              "      <th>2</th>\n",
              "      <td>8156</td>\n",
              "      <td>2013-05-27</td>\n",
              "      <td>77</td>\n",
              "      <td>41.0</td>\n",
              "      <td>2.0</td>\n",
              "      <td>1.0</td>\n",
              "      <td>17.0</td>\n",
              "      <td>6.0</td>\n",
              "      <td>2014.0</td>\n",
              "      <td>3.0</td>\n",
              "      <td>12.0</td>\n",
              "      <td>9553</td>\n",
              "      <td>Poselenie Voskresenskoe</td>\n",
              "      <td>7011550</td>\n",
              "    </tr>\n",
              "    <tr>\n",
              "      <th>3</th>\n",
              "      <td>8157</td>\n",
              "      <td>2013-05-27</td>\n",
              "      <td>45</td>\n",
              "      <td>27.0</td>\n",
              "      <td>6.0</td>\n",
              "      <td>3.0</td>\n",
              "      <td>9.0</td>\n",
              "      <td>1.0</td>\n",
              "      <td>1970.0</td>\n",
              "      <td>2.0</td>\n",
              "      <td>6.0</td>\n",
              "      <td>78616</td>\n",
              "      <td>Severnoe Butovo</td>\n",
              "      <td>7100000</td>\n",
              "    </tr>\n",
              "    <tr>\n",
              "      <th>4</th>\n",
              "      <td>8178</td>\n",
              "      <td>2013-05-28</td>\n",
              "      <td>38</td>\n",
              "      <td>20.0</td>\n",
              "      <td>15.0</td>\n",
              "      <td>NaN</td>\n",
              "      <td>16.0</td>\n",
              "      <td>1.0</td>\n",
              "      <td>1982.0</td>\n",
              "      <td>1.0</td>\n",
              "      <td>8.0</td>\n",
              "      <td>112804</td>\n",
              "      <td>Filevskij Park</td>\n",
              "      <td>6450000</td>\n",
              "    </tr>\n",
              "    <tr>\n",
              "      <th>5</th>\n",
              "      <td>8189</td>\n",
              "      <td>2013-05-28</td>\n",
              "      <td>63</td>\n",
              "      <td>NaN</td>\n",
              "      <td>17.0</td>\n",
              "      <td>1.0</td>\n",
              "      <td>17.0</td>\n",
              "      <td>4.0</td>\n",
              "      <td>2013.0</td>\n",
              "      <td>2.0</td>\n",
              "      <td>1.0</td>\n",
              "      <td>247469</td>\n",
              "      <td>Nekrasovka</td>\n",
              "      <td>5903808</td>\n",
              "    </tr>\n",
              "    <tr>\n",
              "      <th>6</th>\n",
              "      <td>8258</td>\n",
              "      <td>2013-05-30</td>\n",
              "      <td>74</td>\n",
              "      <td>46.0</td>\n",
              "      <td>12.0</td>\n",
              "      <td>3.0</td>\n",
              "      <td>24.0</td>\n",
              "      <td>1.0</td>\n",
              "      <td>2004.0</td>\n",
              "      <td>3.0</td>\n",
              "      <td>9.0</td>\n",
              "      <td>27992</td>\n",
              "      <td>Juzhnoe Medvedkovo</td>\n",
              "      <td>12100000</td>\n",
              "    </tr>\n",
              "    <tr>\n",
              "      <th>7</th>\n",
              "      <td>8271</td>\n",
              "      <td>2013-05-31</td>\n",
              "      <td>93</td>\n",
              "      <td>93.0</td>\n",
              "      <td>3.0</td>\n",
              "      <td>1.0</td>\n",
              "      <td>1.0</td>\n",
              "      <td>1.0</td>\n",
              "      <td>2013.0</td>\n",
              "      <td>3.0</td>\n",
              "      <td>1.0</td>\n",
              "      <td>5740</td>\n",
              "      <td>Poselenie Pervomajskoe</td>\n",
              "      <td>5427640</td>\n",
              "    </tr>\n",
              "    <tr>\n",
              "      <th>8</th>\n",
              "      <td>8285</td>\n",
              "      <td>2013-06-01</td>\n",
              "      <td>51</td>\n",
              "      <td>30.0</td>\n",
              "      <td>7.0</td>\n",
              "      <td>3.0</td>\n",
              "      <td>17.0</td>\n",
              "      <td>1.0</td>\n",
              "      <td>2003.0</td>\n",
              "      <td>2.0</td>\n",
              "      <td>9.0</td>\n",
              "      <td>125111</td>\n",
              "      <td>Solncevo</td>\n",
              "      <td>7700000</td>\n",
              "    </tr>\n",
              "    <tr>\n",
              "      <th>9</th>\n",
              "      <td>8290</td>\n",
              "      <td>2013-06-03</td>\n",
              "      <td>77</td>\n",
              "      <td>50.0</td>\n",
              "      <td>3.0</td>\n",
              "      <td>2.0</td>\n",
              "      <td>5.0</td>\n",
              "      <td>2.0</td>\n",
              "      <td>1957.0</td>\n",
              "      <td>3.0</td>\n",
              "      <td>8.0</td>\n",
              "      <td>1100773</td>\n",
              "      <td>Ajeroport</td>\n",
              "      <td>11700000</td>\n",
              "    </tr>\n",
              "  </tbody>\n",
              "</table>\n",
              "</div>\n",
              "      <button class=\"colab-df-convert\" onclick=\"convertToInteractive('df-89f2b9a8-c7fd-48b6-b8a7-15aeb0f0ca31')\"\n",
              "              title=\"Convert this dataframe to an interactive table.\"\n",
              "              style=\"display:none;\">\n",
              "        \n",
              "  <svg xmlns=\"http://www.w3.org/2000/svg\" height=\"24px\"viewBox=\"0 0 24 24\"\n",
              "       width=\"24px\">\n",
              "    <path d=\"M0 0h24v24H0V0z\" fill=\"none\"/>\n",
              "    <path d=\"M18.56 5.44l.94 2.06.94-2.06 2.06-.94-2.06-.94-.94-2.06-.94 2.06-2.06.94zm-11 1L8.5 8.5l.94-2.06 2.06-.94-2.06-.94L8.5 2.5l-.94 2.06-2.06.94zm10 10l.94 2.06.94-2.06 2.06-.94-2.06-.94-.94-2.06-.94 2.06-2.06.94z\"/><path d=\"M17.41 7.96l-1.37-1.37c-.4-.4-.92-.59-1.43-.59-.52 0-1.04.2-1.43.59L10.3 9.45l-7.72 7.72c-.78.78-.78 2.05 0 2.83L4 21.41c.39.39.9.59 1.41.59.51 0 1.02-.2 1.41-.59l7.78-7.78 2.81-2.81c.8-.78.8-2.07 0-2.86zM5.41 20L4 18.59l7.72-7.72 1.47 1.35L5.41 20z\"/>\n",
              "  </svg>\n",
              "      </button>\n",
              "      \n",
              "  <style>\n",
              "    .colab-df-container {\n",
              "      display:flex;\n",
              "      flex-wrap:wrap;\n",
              "      gap: 12px;\n",
              "    }\n",
              "\n",
              "    .colab-df-convert {\n",
              "      background-color: #E8F0FE;\n",
              "      border: none;\n",
              "      border-radius: 50%;\n",
              "      cursor: pointer;\n",
              "      display: none;\n",
              "      fill: #1967D2;\n",
              "      height: 32px;\n",
              "      padding: 0 0 0 0;\n",
              "      width: 32px;\n",
              "    }\n",
              "\n",
              "    .colab-df-convert:hover {\n",
              "      background-color: #E2EBFA;\n",
              "      box-shadow: 0px 1px 2px rgba(60, 64, 67, 0.3), 0px 1px 3px 1px rgba(60, 64, 67, 0.15);\n",
              "      fill: #174EA6;\n",
              "    }\n",
              "\n",
              "    [theme=dark] .colab-df-convert {\n",
              "      background-color: #3B4455;\n",
              "      fill: #D2E3FC;\n",
              "    }\n",
              "\n",
              "    [theme=dark] .colab-df-convert:hover {\n",
              "      background-color: #434B5C;\n",
              "      box-shadow: 0px 1px 3px 1px rgba(0, 0, 0, 0.15);\n",
              "      filter: drop-shadow(0px 1px 2px rgba(0, 0, 0, 0.3));\n",
              "      fill: #FFFFFF;\n",
              "    }\n",
              "  </style>\n",
              "\n",
              "      <script>\n",
              "        const buttonEl =\n",
              "          document.querySelector('#df-89f2b9a8-c7fd-48b6-b8a7-15aeb0f0ca31 button.colab-df-convert');\n",
              "        buttonEl.style.display =\n",
              "          google.colab.kernel.accessAllowed ? 'block' : 'none';\n",
              "\n",
              "        async function convertToInteractive(key) {\n",
              "          const element = document.querySelector('#df-89f2b9a8-c7fd-48b6-b8a7-15aeb0f0ca31');\n",
              "          const dataTable =\n",
              "            await google.colab.kernel.invokeFunction('convertToInteractive',\n",
              "                                                     [key], {});\n",
              "          if (!dataTable) return;\n",
              "\n",
              "          const docLinkHtml = 'Like what you see? Visit the ' +\n",
              "            '<a target=\"_blank\" href=https://colab.research.google.com/notebooks/data_table.ipynb>data table notebook</a>'\n",
              "            + ' to learn more about interactive tables.';\n",
              "          element.innerHTML = '';\n",
              "          dataTable['output_type'] = 'display_data';\n",
              "          await google.colab.output.renderOutput(dataTable, element);\n",
              "          const docLink = document.createElement('div');\n",
              "          docLink.innerHTML = docLinkHtml;\n",
              "          element.appendChild(docLink);\n",
              "        }\n",
              "      </script>\n",
              "    </div>\n",
              "  </div>\n",
              "  "
            ]
          },
          "metadata": {},
          "execution_count": 3
        }
      ]
    },
    {
      "cell_type": "code",
      "source": [
        "df.sample(10)"
      ],
      "metadata": {
        "colab": {
          "base_uri": "https://localhost:8080/",
          "height": 363
        },
        "id": "7i18ZzHttlJ9",
        "outputId": "dc591cce-5c26-4407-e220-53f5a8754b35"
      },
      "execution_count": 4,
      "outputs": [
        {
          "output_type": "execute_result",
          "data": {
            "text/plain": [
              "          id   timestamp  full_sq  life_sq  floor  state  max_floor  material  \\\n",
              "8988   20590  2014-07-04       59     34.0    4.0    3.0       22.0       1.0   \n",
              "12222  24623  2014-11-12       54     36.0    4.0    3.0        5.0       2.0   \n",
              "10731  22685  2014-09-19       42     27.0    4.0    2.0        5.0       2.0   \n",
              "628    10322  2013-09-06       51     31.0    9.0    2.0       17.0       1.0   \n",
              "17636  19212  2014-06-02       65      NaN   14.0    NaN       25.0       6.0   \n",
              "18092   5582  2012-12-30       64     64.0   13.0    NaN        NaN       NaN   \n",
              "9954   21719  2014-08-20       65     34.0    2.0    3.0       17.0       1.0   \n",
              "1876   11912  2013-11-07       33     19.0    8.0    NaN        9.0       1.0   \n",
              "7050   18189  2014-05-06       58     41.0    5.0    2.0        5.0       1.0   \n",
              "13647  26413  2014-12-15       62     62.0   21.0    1.0       25.0       4.0   \n",
              "\n",
              "      build_year  num_room  kitch_sq  full_all              sub_area  \\\n",
              "8988      2010.0       2.0      10.0     80917               Marfino   \n",
              "12222     1963.0       3.0       5.0    741887                 Arbat   \n",
              "10731     1974.0       2.0       5.0     13890   Poselenie Sosenskoe   \n",
              "628       1992.0       2.0       8.0     21155                Mitino   \n",
              "17636        NaN       2.0       1.0     17790  Poselenie Vnukovskoe   \n",
              "18092        NaN       NaN       NaN     17790  Poselenie Vnukovskoe   \n",
              "9954      2004.0       2.0      10.0     78616       Severnoe Butovo   \n",
              "1876      1970.0       1.0       6.0    104410             Veshnjaki   \n",
              "7050      1966.0       3.0       5.0   1452550           Bogorodskoe   \n",
              "13647     2015.0       2.0      10.0    247469            Nekrasovka   \n",
              "\n",
              "       price_doc  \n",
              "8988    12800000  \n",
              "12222    4950000  \n",
              "10731    5900000  \n",
              "628      8100000  \n",
              "17636    7687363  \n",
              "18092    5096768  \n",
              "9954    12350000  \n",
              "1876     5200000  \n",
              "7050     7250000  \n",
              "13647    6552000  "
            ],
            "text/html": [
              "\n",
              "  <div id=\"df-7c4559da-223d-4f7b-8ce1-c314c6cbecbe\">\n",
              "    <div class=\"colab-df-container\">\n",
              "      <div>\n",
              "<style scoped>\n",
              "    .dataframe tbody tr th:only-of-type {\n",
              "        vertical-align: middle;\n",
              "    }\n",
              "\n",
              "    .dataframe tbody tr th {\n",
              "        vertical-align: top;\n",
              "    }\n",
              "\n",
              "    .dataframe thead th {\n",
              "        text-align: right;\n",
              "    }\n",
              "</style>\n",
              "<table border=\"1\" class=\"dataframe\">\n",
              "  <thead>\n",
              "    <tr style=\"text-align: right;\">\n",
              "      <th></th>\n",
              "      <th>id</th>\n",
              "      <th>timestamp</th>\n",
              "      <th>full_sq</th>\n",
              "      <th>life_sq</th>\n",
              "      <th>floor</th>\n",
              "      <th>state</th>\n",
              "      <th>max_floor</th>\n",
              "      <th>material</th>\n",
              "      <th>build_year</th>\n",
              "      <th>num_room</th>\n",
              "      <th>kitch_sq</th>\n",
              "      <th>full_all</th>\n",
              "      <th>sub_area</th>\n",
              "      <th>price_doc</th>\n",
              "    </tr>\n",
              "  </thead>\n",
              "  <tbody>\n",
              "    <tr>\n",
              "      <th>8988</th>\n",
              "      <td>20590</td>\n",
              "      <td>2014-07-04</td>\n",
              "      <td>59</td>\n",
              "      <td>34.0</td>\n",
              "      <td>4.0</td>\n",
              "      <td>3.0</td>\n",
              "      <td>22.0</td>\n",
              "      <td>1.0</td>\n",
              "      <td>2010.0</td>\n",
              "      <td>2.0</td>\n",
              "      <td>10.0</td>\n",
              "      <td>80917</td>\n",
              "      <td>Marfino</td>\n",
              "      <td>12800000</td>\n",
              "    </tr>\n",
              "    <tr>\n",
              "      <th>12222</th>\n",
              "      <td>24623</td>\n",
              "      <td>2014-11-12</td>\n",
              "      <td>54</td>\n",
              "      <td>36.0</td>\n",
              "      <td>4.0</td>\n",
              "      <td>3.0</td>\n",
              "      <td>5.0</td>\n",
              "      <td>2.0</td>\n",
              "      <td>1963.0</td>\n",
              "      <td>3.0</td>\n",
              "      <td>5.0</td>\n",
              "      <td>741887</td>\n",
              "      <td>Arbat</td>\n",
              "      <td>4950000</td>\n",
              "    </tr>\n",
              "    <tr>\n",
              "      <th>10731</th>\n",
              "      <td>22685</td>\n",
              "      <td>2014-09-19</td>\n",
              "      <td>42</td>\n",
              "      <td>27.0</td>\n",
              "      <td>4.0</td>\n",
              "      <td>2.0</td>\n",
              "      <td>5.0</td>\n",
              "      <td>2.0</td>\n",
              "      <td>1974.0</td>\n",
              "      <td>2.0</td>\n",
              "      <td>5.0</td>\n",
              "      <td>13890</td>\n",
              "      <td>Poselenie Sosenskoe</td>\n",
              "      <td>5900000</td>\n",
              "    </tr>\n",
              "    <tr>\n",
              "      <th>628</th>\n",
              "      <td>10322</td>\n",
              "      <td>2013-09-06</td>\n",
              "      <td>51</td>\n",
              "      <td>31.0</td>\n",
              "      <td>9.0</td>\n",
              "      <td>2.0</td>\n",
              "      <td>17.0</td>\n",
              "      <td>1.0</td>\n",
              "      <td>1992.0</td>\n",
              "      <td>2.0</td>\n",
              "      <td>8.0</td>\n",
              "      <td>21155</td>\n",
              "      <td>Mitino</td>\n",
              "      <td>8100000</td>\n",
              "    </tr>\n",
              "    <tr>\n",
              "      <th>17636</th>\n",
              "      <td>19212</td>\n",
              "      <td>2014-06-02</td>\n",
              "      <td>65</td>\n",
              "      <td>NaN</td>\n",
              "      <td>14.0</td>\n",
              "      <td>NaN</td>\n",
              "      <td>25.0</td>\n",
              "      <td>6.0</td>\n",
              "      <td>NaN</td>\n",
              "      <td>2.0</td>\n",
              "      <td>1.0</td>\n",
              "      <td>17790</td>\n",
              "      <td>Poselenie Vnukovskoe</td>\n",
              "      <td>7687363</td>\n",
              "    </tr>\n",
              "    <tr>\n",
              "      <th>18092</th>\n",
              "      <td>5582</td>\n",
              "      <td>2012-12-30</td>\n",
              "      <td>64</td>\n",
              "      <td>64.0</td>\n",
              "      <td>13.0</td>\n",
              "      <td>NaN</td>\n",
              "      <td>NaN</td>\n",
              "      <td>NaN</td>\n",
              "      <td>NaN</td>\n",
              "      <td>NaN</td>\n",
              "      <td>NaN</td>\n",
              "      <td>17790</td>\n",
              "      <td>Poselenie Vnukovskoe</td>\n",
              "      <td>5096768</td>\n",
              "    </tr>\n",
              "    <tr>\n",
              "      <th>9954</th>\n",
              "      <td>21719</td>\n",
              "      <td>2014-08-20</td>\n",
              "      <td>65</td>\n",
              "      <td>34.0</td>\n",
              "      <td>2.0</td>\n",
              "      <td>3.0</td>\n",
              "      <td>17.0</td>\n",
              "      <td>1.0</td>\n",
              "      <td>2004.0</td>\n",
              "      <td>2.0</td>\n",
              "      <td>10.0</td>\n",
              "      <td>78616</td>\n",
              "      <td>Severnoe Butovo</td>\n",
              "      <td>12350000</td>\n",
              "    </tr>\n",
              "    <tr>\n",
              "      <th>1876</th>\n",
              "      <td>11912</td>\n",
              "      <td>2013-11-07</td>\n",
              "      <td>33</td>\n",
              "      <td>19.0</td>\n",
              "      <td>8.0</td>\n",
              "      <td>NaN</td>\n",
              "      <td>9.0</td>\n",
              "      <td>1.0</td>\n",
              "      <td>1970.0</td>\n",
              "      <td>1.0</td>\n",
              "      <td>6.0</td>\n",
              "      <td>104410</td>\n",
              "      <td>Veshnjaki</td>\n",
              "      <td>5200000</td>\n",
              "    </tr>\n",
              "    <tr>\n",
              "      <th>7050</th>\n",
              "      <td>18189</td>\n",
              "      <td>2014-05-06</td>\n",
              "      <td>58</td>\n",
              "      <td>41.0</td>\n",
              "      <td>5.0</td>\n",
              "      <td>2.0</td>\n",
              "      <td>5.0</td>\n",
              "      <td>1.0</td>\n",
              "      <td>1966.0</td>\n",
              "      <td>3.0</td>\n",
              "      <td>5.0</td>\n",
              "      <td>1452550</td>\n",
              "      <td>Bogorodskoe</td>\n",
              "      <td>7250000</td>\n",
              "    </tr>\n",
              "    <tr>\n",
              "      <th>13647</th>\n",
              "      <td>26413</td>\n",
              "      <td>2014-12-15</td>\n",
              "      <td>62</td>\n",
              "      <td>62.0</td>\n",
              "      <td>21.0</td>\n",
              "      <td>1.0</td>\n",
              "      <td>25.0</td>\n",
              "      <td>4.0</td>\n",
              "      <td>2015.0</td>\n",
              "      <td>2.0</td>\n",
              "      <td>10.0</td>\n",
              "      <td>247469</td>\n",
              "      <td>Nekrasovka</td>\n",
              "      <td>6552000</td>\n",
              "    </tr>\n",
              "  </tbody>\n",
              "</table>\n",
              "</div>\n",
              "      <button class=\"colab-df-convert\" onclick=\"convertToInteractive('df-7c4559da-223d-4f7b-8ce1-c314c6cbecbe')\"\n",
              "              title=\"Convert this dataframe to an interactive table.\"\n",
              "              style=\"display:none;\">\n",
              "        \n",
              "  <svg xmlns=\"http://www.w3.org/2000/svg\" height=\"24px\"viewBox=\"0 0 24 24\"\n",
              "       width=\"24px\">\n",
              "    <path d=\"M0 0h24v24H0V0z\" fill=\"none\"/>\n",
              "    <path d=\"M18.56 5.44l.94 2.06.94-2.06 2.06-.94-2.06-.94-.94-2.06-.94 2.06-2.06.94zm-11 1L8.5 8.5l.94-2.06 2.06-.94-2.06-.94L8.5 2.5l-.94 2.06-2.06.94zm10 10l.94 2.06.94-2.06 2.06-.94-2.06-.94-.94-2.06-.94 2.06-2.06.94z\"/><path d=\"M17.41 7.96l-1.37-1.37c-.4-.4-.92-.59-1.43-.59-.52 0-1.04.2-1.43.59L10.3 9.45l-7.72 7.72c-.78.78-.78 2.05 0 2.83L4 21.41c.39.39.9.59 1.41.59.51 0 1.02-.2 1.41-.59l7.78-7.78 2.81-2.81c.8-.78.8-2.07 0-2.86zM5.41 20L4 18.59l7.72-7.72 1.47 1.35L5.41 20z\"/>\n",
              "  </svg>\n",
              "      </button>\n",
              "      \n",
              "  <style>\n",
              "    .colab-df-container {\n",
              "      display:flex;\n",
              "      flex-wrap:wrap;\n",
              "      gap: 12px;\n",
              "    }\n",
              "\n",
              "    .colab-df-convert {\n",
              "      background-color: #E8F0FE;\n",
              "      border: none;\n",
              "      border-radius: 50%;\n",
              "      cursor: pointer;\n",
              "      display: none;\n",
              "      fill: #1967D2;\n",
              "      height: 32px;\n",
              "      padding: 0 0 0 0;\n",
              "      width: 32px;\n",
              "    }\n",
              "\n",
              "    .colab-df-convert:hover {\n",
              "      background-color: #E2EBFA;\n",
              "      box-shadow: 0px 1px 2px rgba(60, 64, 67, 0.3), 0px 1px 3px 1px rgba(60, 64, 67, 0.15);\n",
              "      fill: #174EA6;\n",
              "    }\n",
              "\n",
              "    [theme=dark] .colab-df-convert {\n",
              "      background-color: #3B4455;\n",
              "      fill: #D2E3FC;\n",
              "    }\n",
              "\n",
              "    [theme=dark] .colab-df-convert:hover {\n",
              "      background-color: #434B5C;\n",
              "      box-shadow: 0px 1px 3px 1px rgba(0, 0, 0, 0.15);\n",
              "      filter: drop-shadow(0px 1px 2px rgba(0, 0, 0, 0.3));\n",
              "      fill: #FFFFFF;\n",
              "    }\n",
              "  </style>\n",
              "\n",
              "      <script>\n",
              "        const buttonEl =\n",
              "          document.querySelector('#df-7c4559da-223d-4f7b-8ce1-c314c6cbecbe button.colab-df-convert');\n",
              "        buttonEl.style.display =\n",
              "          google.colab.kernel.accessAllowed ? 'block' : 'none';\n",
              "\n",
              "        async function convertToInteractive(key) {\n",
              "          const element = document.querySelector('#df-7c4559da-223d-4f7b-8ce1-c314c6cbecbe');\n",
              "          const dataTable =\n",
              "            await google.colab.kernel.invokeFunction('convertToInteractive',\n",
              "                                                     [key], {});\n",
              "          if (!dataTable) return;\n",
              "\n",
              "          const docLinkHtml = 'Like what you see? Visit the ' +\n",
              "            '<a target=\"_blank\" href=https://colab.research.google.com/notebooks/data_table.ipynb>data table notebook</a>'\n",
              "            + ' to learn more about interactive tables.';\n",
              "          element.innerHTML = '';\n",
              "          dataTable['output_type'] = 'display_data';\n",
              "          await google.colab.output.renderOutput(dataTable, element);\n",
              "          const docLink = document.createElement('div');\n",
              "          docLink.innerHTML = docLinkHtml;\n",
              "          element.appendChild(docLink);\n",
              "        }\n",
              "      </script>\n",
              "    </div>\n",
              "  </div>\n",
              "  "
            ]
          },
          "metadata": {},
          "execution_count": 4
        }
      ]
    },
    {
      "cell_type": "markdown",
      "source": [
        "Размер набора данных"
      ],
      "metadata": {
        "id": "5bIgx3BZWb7W"
      }
    },
    {
      "cell_type": "code",
      "metadata": {
        "id": "8YtRZ5qi0epJ",
        "colab": {
          "base_uri": "https://localhost:8080/"
        },
        "outputId": "6947acb8-5d7a-4529-9b97-7972d744c8a3"
      },
      "source": [
        "df.shape"
      ],
      "execution_count": 5,
      "outputs": [
        {
          "output_type": "execute_result",
          "data": {
            "text/plain": [
              "(18866, 14)"
            ]
          },
          "metadata": {},
          "execution_count": 5
        }
      ]
    },
    {
      "cell_type": "code",
      "source": [
        "df.size"
      ],
      "metadata": {
        "colab": {
          "base_uri": "https://localhost:8080/"
        },
        "id": "IimpNHYxPd2h",
        "outputId": "eb476ae8-11c8-4e32-8641-fd4cbaa166d1"
      },
      "execution_count": 6,
      "outputs": [
        {
          "output_type": "execute_result",
          "data": {
            "text/plain": [
              "264124"
            ]
          },
          "metadata": {},
          "execution_count": 6
        }
      ]
    },
    {
      "cell_type": "markdown",
      "source": [
        "Описание типов данных по признакам"
      ],
      "metadata": {
        "id": "hw0FkRPTT4LQ"
      }
    },
    {
      "cell_type": "markdown",
      "source": [
        "##### TODO: maybe simplify later"
      ],
      "metadata": {
        "id": "Bm5SllwPmfen"
      }
    },
    {
      "cell_type": "code",
      "source": [
        "df['timestamp'] = pd.to_datetime(df['timestamp'])"
      ],
      "metadata": {
        "id": "Nd4dHl_bRkQS"
      },
      "execution_count": 7,
      "outputs": []
    },
    {
      "cell_type": "code",
      "source": [
        "pattern = re.compile(\"^[0-9]{4}\\.[0-9]$\")\n",
        "df['build_year'] = df['build_year'].apply(lambda x: x[:4] if isinstance(x, str) and pattern.match(x) else np.nan)"
      ],
      "metadata": {
        "id": "Pl_gn2TuYwuQ"
      },
      "execution_count": 8,
      "outputs": []
    },
    {
      "cell_type": "code",
      "source": [
        "df['build_year'] = pd.to_numeric(df['build_year'], downcast='integer')"
      ],
      "metadata": {
        "id": "m0a_nI_zjINs"
      },
      "execution_count": 9,
      "outputs": []
    },
    {
      "cell_type": "code",
      "source": [
        "df['build_year'] = pd.to_datetime(df['build_year'], format='%Y', errors='coerce')"
      ],
      "metadata": {
        "id": "leCx6IAymCvO"
      },
      "execution_count": 10,
      "outputs": []
    },
    {
      "cell_type": "code",
      "source": [
        "df.head()"
      ],
      "metadata": {
        "colab": {
          "base_uri": "https://localhost:8080/",
          "height": 206
        },
        "id": "ulgTGK7igU4D",
        "outputId": "70c19c10-c61e-4f19-a65d-50c6b7484157"
      },
      "execution_count": 11,
      "outputs": [
        {
          "output_type": "execute_result",
          "data": {
            "text/plain": [
              "     id  timestamp  full_sq  life_sq  floor  state  max_floor  material  \\\n",
              "0  8059 2013-05-21       11     11.0    2.0    3.0        5.0       2.0   \n",
              "1  8138 2013-05-25       53     30.0   10.0    3.0       16.0       1.0   \n",
              "2  8156 2013-05-27       77     41.0    2.0    1.0       17.0       6.0   \n",
              "3  8157 2013-05-27       45     27.0    6.0    3.0        9.0       1.0   \n",
              "4  8178 2013-05-28       38     20.0   15.0    NaN       16.0       1.0   \n",
              "\n",
              "  build_year  num_room  kitch_sq  full_all                 sub_area  price_doc  \n",
              "0 1907-01-01       1.0      12.0     75377                Hamovniki    2750000  \n",
              "1 1980-01-01       2.0       8.0     68630                Lianozovo    9000000  \n",
              "2 2014-01-01       3.0      12.0      9553  Poselenie Voskresenskoe    7011550  \n",
              "3 1970-01-01       2.0       6.0     78616          Severnoe Butovo    7100000  \n",
              "4 1982-01-01       1.0       8.0    112804           Filevskij Park    6450000  "
            ],
            "text/html": [
              "\n",
              "  <div id=\"df-02b2e23a-b4e5-438e-9c04-9fef5b134637\">\n",
              "    <div class=\"colab-df-container\">\n",
              "      <div>\n",
              "<style scoped>\n",
              "    .dataframe tbody tr th:only-of-type {\n",
              "        vertical-align: middle;\n",
              "    }\n",
              "\n",
              "    .dataframe tbody tr th {\n",
              "        vertical-align: top;\n",
              "    }\n",
              "\n",
              "    .dataframe thead th {\n",
              "        text-align: right;\n",
              "    }\n",
              "</style>\n",
              "<table border=\"1\" class=\"dataframe\">\n",
              "  <thead>\n",
              "    <tr style=\"text-align: right;\">\n",
              "      <th></th>\n",
              "      <th>id</th>\n",
              "      <th>timestamp</th>\n",
              "      <th>full_sq</th>\n",
              "      <th>life_sq</th>\n",
              "      <th>floor</th>\n",
              "      <th>state</th>\n",
              "      <th>max_floor</th>\n",
              "      <th>material</th>\n",
              "      <th>build_year</th>\n",
              "      <th>num_room</th>\n",
              "      <th>kitch_sq</th>\n",
              "      <th>full_all</th>\n",
              "      <th>sub_area</th>\n",
              "      <th>price_doc</th>\n",
              "    </tr>\n",
              "  </thead>\n",
              "  <tbody>\n",
              "    <tr>\n",
              "      <th>0</th>\n",
              "      <td>8059</td>\n",
              "      <td>2013-05-21</td>\n",
              "      <td>11</td>\n",
              "      <td>11.0</td>\n",
              "      <td>2.0</td>\n",
              "      <td>3.0</td>\n",
              "      <td>5.0</td>\n",
              "      <td>2.0</td>\n",
              "      <td>1907-01-01</td>\n",
              "      <td>1.0</td>\n",
              "      <td>12.0</td>\n",
              "      <td>75377</td>\n",
              "      <td>Hamovniki</td>\n",
              "      <td>2750000</td>\n",
              "    </tr>\n",
              "    <tr>\n",
              "      <th>1</th>\n",
              "      <td>8138</td>\n",
              "      <td>2013-05-25</td>\n",
              "      <td>53</td>\n",
              "      <td>30.0</td>\n",
              "      <td>10.0</td>\n",
              "      <td>3.0</td>\n",
              "      <td>16.0</td>\n",
              "      <td>1.0</td>\n",
              "      <td>1980-01-01</td>\n",
              "      <td>2.0</td>\n",
              "      <td>8.0</td>\n",
              "      <td>68630</td>\n",
              "      <td>Lianozovo</td>\n",
              "      <td>9000000</td>\n",
              "    </tr>\n",
              "    <tr>\n",
              "      <th>2</th>\n",
              "      <td>8156</td>\n",
              "      <td>2013-05-27</td>\n",
              "      <td>77</td>\n",
              "      <td>41.0</td>\n",
              "      <td>2.0</td>\n",
              "      <td>1.0</td>\n",
              "      <td>17.0</td>\n",
              "      <td>6.0</td>\n",
              "      <td>2014-01-01</td>\n",
              "      <td>3.0</td>\n",
              "      <td>12.0</td>\n",
              "      <td>9553</td>\n",
              "      <td>Poselenie Voskresenskoe</td>\n",
              "      <td>7011550</td>\n",
              "    </tr>\n",
              "    <tr>\n",
              "      <th>3</th>\n",
              "      <td>8157</td>\n",
              "      <td>2013-05-27</td>\n",
              "      <td>45</td>\n",
              "      <td>27.0</td>\n",
              "      <td>6.0</td>\n",
              "      <td>3.0</td>\n",
              "      <td>9.0</td>\n",
              "      <td>1.0</td>\n",
              "      <td>1970-01-01</td>\n",
              "      <td>2.0</td>\n",
              "      <td>6.0</td>\n",
              "      <td>78616</td>\n",
              "      <td>Severnoe Butovo</td>\n",
              "      <td>7100000</td>\n",
              "    </tr>\n",
              "    <tr>\n",
              "      <th>4</th>\n",
              "      <td>8178</td>\n",
              "      <td>2013-05-28</td>\n",
              "      <td>38</td>\n",
              "      <td>20.0</td>\n",
              "      <td>15.0</td>\n",
              "      <td>NaN</td>\n",
              "      <td>16.0</td>\n",
              "      <td>1.0</td>\n",
              "      <td>1982-01-01</td>\n",
              "      <td>1.0</td>\n",
              "      <td>8.0</td>\n",
              "      <td>112804</td>\n",
              "      <td>Filevskij Park</td>\n",
              "      <td>6450000</td>\n",
              "    </tr>\n",
              "  </tbody>\n",
              "</table>\n",
              "</div>\n",
              "      <button class=\"colab-df-convert\" onclick=\"convertToInteractive('df-02b2e23a-b4e5-438e-9c04-9fef5b134637')\"\n",
              "              title=\"Convert this dataframe to an interactive table.\"\n",
              "              style=\"display:none;\">\n",
              "        \n",
              "  <svg xmlns=\"http://www.w3.org/2000/svg\" height=\"24px\"viewBox=\"0 0 24 24\"\n",
              "       width=\"24px\">\n",
              "    <path d=\"M0 0h24v24H0V0z\" fill=\"none\"/>\n",
              "    <path d=\"M18.56 5.44l.94 2.06.94-2.06 2.06-.94-2.06-.94-.94-2.06-.94 2.06-2.06.94zm-11 1L8.5 8.5l.94-2.06 2.06-.94-2.06-.94L8.5 2.5l-.94 2.06-2.06.94zm10 10l.94 2.06.94-2.06 2.06-.94-2.06-.94-.94-2.06-.94 2.06-2.06.94z\"/><path d=\"M17.41 7.96l-1.37-1.37c-.4-.4-.92-.59-1.43-.59-.52 0-1.04.2-1.43.59L10.3 9.45l-7.72 7.72c-.78.78-.78 2.05 0 2.83L4 21.41c.39.39.9.59 1.41.59.51 0 1.02-.2 1.41-.59l7.78-7.78 2.81-2.81c.8-.78.8-2.07 0-2.86zM5.41 20L4 18.59l7.72-7.72 1.47 1.35L5.41 20z\"/>\n",
              "  </svg>\n",
              "      </button>\n",
              "      \n",
              "  <style>\n",
              "    .colab-df-container {\n",
              "      display:flex;\n",
              "      flex-wrap:wrap;\n",
              "      gap: 12px;\n",
              "    }\n",
              "\n",
              "    .colab-df-convert {\n",
              "      background-color: #E8F0FE;\n",
              "      border: none;\n",
              "      border-radius: 50%;\n",
              "      cursor: pointer;\n",
              "      display: none;\n",
              "      fill: #1967D2;\n",
              "      height: 32px;\n",
              "      padding: 0 0 0 0;\n",
              "      width: 32px;\n",
              "    }\n",
              "\n",
              "    .colab-df-convert:hover {\n",
              "      background-color: #E2EBFA;\n",
              "      box-shadow: 0px 1px 2px rgba(60, 64, 67, 0.3), 0px 1px 3px 1px rgba(60, 64, 67, 0.15);\n",
              "      fill: #174EA6;\n",
              "    }\n",
              "\n",
              "    [theme=dark] .colab-df-convert {\n",
              "      background-color: #3B4455;\n",
              "      fill: #D2E3FC;\n",
              "    }\n",
              "\n",
              "    [theme=dark] .colab-df-convert:hover {\n",
              "      background-color: #434B5C;\n",
              "      box-shadow: 0px 1px 3px 1px rgba(0, 0, 0, 0.15);\n",
              "      filter: drop-shadow(0px 1px 2px rgba(0, 0, 0, 0.3));\n",
              "      fill: #FFFFFF;\n",
              "    }\n",
              "  </style>\n",
              "\n",
              "      <script>\n",
              "        const buttonEl =\n",
              "          document.querySelector('#df-02b2e23a-b4e5-438e-9c04-9fef5b134637 button.colab-df-convert');\n",
              "        buttonEl.style.display =\n",
              "          google.colab.kernel.accessAllowed ? 'block' : 'none';\n",
              "\n",
              "        async function convertToInteractive(key) {\n",
              "          const element = document.querySelector('#df-02b2e23a-b4e5-438e-9c04-9fef5b134637');\n",
              "          const dataTable =\n",
              "            await google.colab.kernel.invokeFunction('convertToInteractive',\n",
              "                                                     [key], {});\n",
              "          if (!dataTable) return;\n",
              "\n",
              "          const docLinkHtml = 'Like what you see? Visit the ' +\n",
              "            '<a target=\"_blank\" href=https://colab.research.google.com/notebooks/data_table.ipynb>data table notebook</a>'\n",
              "            + ' to learn more about interactive tables.';\n",
              "          element.innerHTML = '';\n",
              "          dataTable['output_type'] = 'display_data';\n",
              "          await google.colab.output.renderOutput(dataTable, element);\n",
              "          const docLink = document.createElement('div');\n",
              "          docLink.innerHTML = docLinkHtml;\n",
              "          element.appendChild(docLink);\n",
              "        }\n",
              "      </script>\n",
              "    </div>\n",
              "  </div>\n",
              "  "
            ]
          },
          "metadata": {},
          "execution_count": 11
        }
      ]
    },
    {
      "cell_type": "code",
      "source": [
        "df.info()"
      ],
      "metadata": {
        "colab": {
          "base_uri": "https://localhost:8080/"
        },
        "id": "5lbdE3zgRF6W",
        "outputId": "089003e0-16f2-4173-b563-c9fa44c03608"
      },
      "execution_count": 12,
      "outputs": [
        {
          "output_type": "stream",
          "name": "stdout",
          "text": [
            "<class 'pandas.core.frame.DataFrame'>\n",
            "RangeIndex: 18866 entries, 0 to 18865\n",
            "Data columns (total 14 columns):\n",
            " #   Column      Non-Null Count  Dtype         \n",
            "---  ------      --------------  -----         \n",
            " 0   id          18866 non-null  int64         \n",
            " 1   timestamp   18866 non-null  datetime64[ns]\n",
            " 2   full_sq     18866 non-null  int64         \n",
            " 3   life_sq     17291 non-null  float64       \n",
            " 4   floor       18838 non-null  float64       \n",
            " 5   state       15505 non-null  float64       \n",
            " 6   max_floor   17445 non-null  float64       \n",
            " 7   material    17445 non-null  float64       \n",
            " 8   build_year  15961 non-null  datetime64[ns]\n",
            " 9   num_room    17445 non-null  float64       \n",
            " 10  kitch_sq    17445 non-null  float64       \n",
            " 11  full_all    18866 non-null  int64         \n",
            " 12  sub_area    18866 non-null  object        \n",
            " 13  price_doc   18866 non-null  int64         \n",
            "dtypes: datetime64[ns](2), float64(7), int64(4), object(1)\n",
            "memory usage: 2.0+ MB\n"
          ]
        }
      ]
    },
    {
      "cell_type": "code",
      "source": [
        "df.head()"
      ],
      "metadata": {
        "colab": {
          "base_uri": "https://localhost:8080/",
          "height": 206
        },
        "id": "ZIS4FRwvYdi2",
        "outputId": "b4392a0e-46b4-4c63-ceeb-a6009cfe341d"
      },
      "execution_count": 13,
      "outputs": [
        {
          "output_type": "execute_result",
          "data": {
            "text/plain": [
              "     id  timestamp  full_sq  life_sq  floor  state  max_floor  material  \\\n",
              "0  8059 2013-05-21       11     11.0    2.0    3.0        5.0       2.0   \n",
              "1  8138 2013-05-25       53     30.0   10.0    3.0       16.0       1.0   \n",
              "2  8156 2013-05-27       77     41.0    2.0    1.0       17.0       6.0   \n",
              "3  8157 2013-05-27       45     27.0    6.0    3.0        9.0       1.0   \n",
              "4  8178 2013-05-28       38     20.0   15.0    NaN       16.0       1.0   \n",
              "\n",
              "  build_year  num_room  kitch_sq  full_all                 sub_area  price_doc  \n",
              "0 1907-01-01       1.0      12.0     75377                Hamovniki    2750000  \n",
              "1 1980-01-01       2.0       8.0     68630                Lianozovo    9000000  \n",
              "2 2014-01-01       3.0      12.0      9553  Poselenie Voskresenskoe    7011550  \n",
              "3 1970-01-01       2.0       6.0     78616          Severnoe Butovo    7100000  \n",
              "4 1982-01-01       1.0       8.0    112804           Filevskij Park    6450000  "
            ],
            "text/html": [
              "\n",
              "  <div id=\"df-b3dc40a4-b8ab-46e6-942d-d24608853795\">\n",
              "    <div class=\"colab-df-container\">\n",
              "      <div>\n",
              "<style scoped>\n",
              "    .dataframe tbody tr th:only-of-type {\n",
              "        vertical-align: middle;\n",
              "    }\n",
              "\n",
              "    .dataframe tbody tr th {\n",
              "        vertical-align: top;\n",
              "    }\n",
              "\n",
              "    .dataframe thead th {\n",
              "        text-align: right;\n",
              "    }\n",
              "</style>\n",
              "<table border=\"1\" class=\"dataframe\">\n",
              "  <thead>\n",
              "    <tr style=\"text-align: right;\">\n",
              "      <th></th>\n",
              "      <th>id</th>\n",
              "      <th>timestamp</th>\n",
              "      <th>full_sq</th>\n",
              "      <th>life_sq</th>\n",
              "      <th>floor</th>\n",
              "      <th>state</th>\n",
              "      <th>max_floor</th>\n",
              "      <th>material</th>\n",
              "      <th>build_year</th>\n",
              "      <th>num_room</th>\n",
              "      <th>kitch_sq</th>\n",
              "      <th>full_all</th>\n",
              "      <th>sub_area</th>\n",
              "      <th>price_doc</th>\n",
              "    </tr>\n",
              "  </thead>\n",
              "  <tbody>\n",
              "    <tr>\n",
              "      <th>0</th>\n",
              "      <td>8059</td>\n",
              "      <td>2013-05-21</td>\n",
              "      <td>11</td>\n",
              "      <td>11.0</td>\n",
              "      <td>2.0</td>\n",
              "      <td>3.0</td>\n",
              "      <td>5.0</td>\n",
              "      <td>2.0</td>\n",
              "      <td>1907-01-01</td>\n",
              "      <td>1.0</td>\n",
              "      <td>12.0</td>\n",
              "      <td>75377</td>\n",
              "      <td>Hamovniki</td>\n",
              "      <td>2750000</td>\n",
              "    </tr>\n",
              "    <tr>\n",
              "      <th>1</th>\n",
              "      <td>8138</td>\n",
              "      <td>2013-05-25</td>\n",
              "      <td>53</td>\n",
              "      <td>30.0</td>\n",
              "      <td>10.0</td>\n",
              "      <td>3.0</td>\n",
              "      <td>16.0</td>\n",
              "      <td>1.0</td>\n",
              "      <td>1980-01-01</td>\n",
              "      <td>2.0</td>\n",
              "      <td>8.0</td>\n",
              "      <td>68630</td>\n",
              "      <td>Lianozovo</td>\n",
              "      <td>9000000</td>\n",
              "    </tr>\n",
              "    <tr>\n",
              "      <th>2</th>\n",
              "      <td>8156</td>\n",
              "      <td>2013-05-27</td>\n",
              "      <td>77</td>\n",
              "      <td>41.0</td>\n",
              "      <td>2.0</td>\n",
              "      <td>1.0</td>\n",
              "      <td>17.0</td>\n",
              "      <td>6.0</td>\n",
              "      <td>2014-01-01</td>\n",
              "      <td>3.0</td>\n",
              "      <td>12.0</td>\n",
              "      <td>9553</td>\n",
              "      <td>Poselenie Voskresenskoe</td>\n",
              "      <td>7011550</td>\n",
              "    </tr>\n",
              "    <tr>\n",
              "      <th>3</th>\n",
              "      <td>8157</td>\n",
              "      <td>2013-05-27</td>\n",
              "      <td>45</td>\n",
              "      <td>27.0</td>\n",
              "      <td>6.0</td>\n",
              "      <td>3.0</td>\n",
              "      <td>9.0</td>\n",
              "      <td>1.0</td>\n",
              "      <td>1970-01-01</td>\n",
              "      <td>2.0</td>\n",
              "      <td>6.0</td>\n",
              "      <td>78616</td>\n",
              "      <td>Severnoe Butovo</td>\n",
              "      <td>7100000</td>\n",
              "    </tr>\n",
              "    <tr>\n",
              "      <th>4</th>\n",
              "      <td>8178</td>\n",
              "      <td>2013-05-28</td>\n",
              "      <td>38</td>\n",
              "      <td>20.0</td>\n",
              "      <td>15.0</td>\n",
              "      <td>NaN</td>\n",
              "      <td>16.0</td>\n",
              "      <td>1.0</td>\n",
              "      <td>1982-01-01</td>\n",
              "      <td>1.0</td>\n",
              "      <td>8.0</td>\n",
              "      <td>112804</td>\n",
              "      <td>Filevskij Park</td>\n",
              "      <td>6450000</td>\n",
              "    </tr>\n",
              "  </tbody>\n",
              "</table>\n",
              "</div>\n",
              "      <button class=\"colab-df-convert\" onclick=\"convertToInteractive('df-b3dc40a4-b8ab-46e6-942d-d24608853795')\"\n",
              "              title=\"Convert this dataframe to an interactive table.\"\n",
              "              style=\"display:none;\">\n",
              "        \n",
              "  <svg xmlns=\"http://www.w3.org/2000/svg\" height=\"24px\"viewBox=\"0 0 24 24\"\n",
              "       width=\"24px\">\n",
              "    <path d=\"M0 0h24v24H0V0z\" fill=\"none\"/>\n",
              "    <path d=\"M18.56 5.44l.94 2.06.94-2.06 2.06-.94-2.06-.94-.94-2.06-.94 2.06-2.06.94zm-11 1L8.5 8.5l.94-2.06 2.06-.94-2.06-.94L8.5 2.5l-.94 2.06-2.06.94zm10 10l.94 2.06.94-2.06 2.06-.94-2.06-.94-.94-2.06-.94 2.06-2.06.94z\"/><path d=\"M17.41 7.96l-1.37-1.37c-.4-.4-.92-.59-1.43-.59-.52 0-1.04.2-1.43.59L10.3 9.45l-7.72 7.72c-.78.78-.78 2.05 0 2.83L4 21.41c.39.39.9.59 1.41.59.51 0 1.02-.2 1.41-.59l7.78-7.78 2.81-2.81c.8-.78.8-2.07 0-2.86zM5.41 20L4 18.59l7.72-7.72 1.47 1.35L5.41 20z\"/>\n",
              "  </svg>\n",
              "      </button>\n",
              "      \n",
              "  <style>\n",
              "    .colab-df-container {\n",
              "      display:flex;\n",
              "      flex-wrap:wrap;\n",
              "      gap: 12px;\n",
              "    }\n",
              "\n",
              "    .colab-df-convert {\n",
              "      background-color: #E8F0FE;\n",
              "      border: none;\n",
              "      border-radius: 50%;\n",
              "      cursor: pointer;\n",
              "      display: none;\n",
              "      fill: #1967D2;\n",
              "      height: 32px;\n",
              "      padding: 0 0 0 0;\n",
              "      width: 32px;\n",
              "    }\n",
              "\n",
              "    .colab-df-convert:hover {\n",
              "      background-color: #E2EBFA;\n",
              "      box-shadow: 0px 1px 2px rgba(60, 64, 67, 0.3), 0px 1px 3px 1px rgba(60, 64, 67, 0.15);\n",
              "      fill: #174EA6;\n",
              "    }\n",
              "\n",
              "    [theme=dark] .colab-df-convert {\n",
              "      background-color: #3B4455;\n",
              "      fill: #D2E3FC;\n",
              "    }\n",
              "\n",
              "    [theme=dark] .colab-df-convert:hover {\n",
              "      background-color: #434B5C;\n",
              "      box-shadow: 0px 1px 3px 1px rgba(0, 0, 0, 0.15);\n",
              "      filter: drop-shadow(0px 1px 2px rgba(0, 0, 0, 0.3));\n",
              "      fill: #FFFFFF;\n",
              "    }\n",
              "  </style>\n",
              "\n",
              "      <script>\n",
              "        const buttonEl =\n",
              "          document.querySelector('#df-b3dc40a4-b8ab-46e6-942d-d24608853795 button.colab-df-convert');\n",
              "        buttonEl.style.display =\n",
              "          google.colab.kernel.accessAllowed ? 'block' : 'none';\n",
              "\n",
              "        async function convertToInteractive(key) {\n",
              "          const element = document.querySelector('#df-b3dc40a4-b8ab-46e6-942d-d24608853795');\n",
              "          const dataTable =\n",
              "            await google.colab.kernel.invokeFunction('convertToInteractive',\n",
              "                                                     [key], {});\n",
              "          if (!dataTable) return;\n",
              "\n",
              "          const docLinkHtml = 'Like what you see? Visit the ' +\n",
              "            '<a target=\"_blank\" href=https://colab.research.google.com/notebooks/data_table.ipynb>data table notebook</a>'\n",
              "            + ' to learn more about interactive tables.';\n",
              "          element.innerHTML = '';\n",
              "          dataTable['output_type'] = 'display_data';\n",
              "          await google.colab.output.renderOutput(dataTable, element);\n",
              "          const docLink = document.createElement('div');\n",
              "          docLink.innerHTML = docLinkHtml;\n",
              "          element.appendChild(docLink);\n",
              "        }\n",
              "      </script>\n",
              "    </div>\n",
              "  </div>\n",
              "  "
            ]
          },
          "metadata": {},
          "execution_count": 13
        }
      ]
    },
    {
      "cell_type": "markdown",
      "source": [
        "Базовые статистики по признакам"
      ],
      "metadata": {
        "id": "mgmwOM0EZApF"
      }
    },
    {
      "cell_type": "code",
      "source": [
        "df.describe()"
      ],
      "metadata": {
        "id": "owM-qoo0ZBe9",
        "colab": {
          "base_uri": "https://localhost:8080/",
          "height": 300
        },
        "outputId": "55ca9ede-8a1f-4793-d658-f928c3b4afd9"
      },
      "execution_count": 14,
      "outputs": [
        {
          "output_type": "execute_result",
          "data": {
            "text/plain": [
              "               id     full_sq     life_sq       floor       state   max_floor  \\\n",
              "count  18866.0000  18866.0000  17291.0000  18838.0000  15505.0000  17445.0000   \n",
              "mean   18799.7886     53.9409     34.2592      7.2937      2.2013     12.4233   \n",
              "std     7082.4287     44.1162     59.9446      5.1912      0.8528      6.2798   \n",
              "min        9.0000      0.0000      0.0000      0.0000      1.0000      0.0000   \n",
              "25%    13513.2500     38.0000     20.0000      3.0000      2.0000      9.0000   \n",
              "50%    19043.5000     49.0000     30.0000      6.0000      2.0000     12.0000   \n",
              "75%    24748.7500     63.0000     43.0000     10.0000      3.0000     17.0000   \n",
              "max    30473.0000   5326.0000   7478.0000     77.0000     33.0000     57.0000   \n",
              "\n",
              "         material    num_room    kitch_sq    full_all   price_doc  \n",
              "count  17445.0000  17445.0000  17445.0000  1.8866e+04  1.8866e+04  \n",
              "mean       1.8901      1.9348      7.2064  1.5972e+05  7.5824e+06  \n",
              "std        1.5061      0.8642     26.9816  3.0435e+05  4.9838e+06  \n",
              "min        1.0000      0.0000      0.0000  2.5460e+03  1.0000e+05  \n",
              "25%        1.0000      1.0000      5.0000  4.8439e+04  5.1000e+06  \n",
              "50%        1.0000      2.0000      7.0000  8.7713e+04  6.6855e+06  \n",
              "75%        2.0000      3.0000      9.0000  1.2535e+05  8.9000e+06  \n",
              "max        6.0000     19.0000   2014.0000  1.7167e+06  9.5122e+07  "
            ],
            "text/html": [
              "\n",
              "  <div id=\"df-740cec29-ae25-4a7e-b27a-b4c1122b0551\">\n",
              "    <div class=\"colab-df-container\">\n",
              "      <div>\n",
              "<style scoped>\n",
              "    .dataframe tbody tr th:only-of-type {\n",
              "        vertical-align: middle;\n",
              "    }\n",
              "\n",
              "    .dataframe tbody tr th {\n",
              "        vertical-align: top;\n",
              "    }\n",
              "\n",
              "    .dataframe thead th {\n",
              "        text-align: right;\n",
              "    }\n",
              "</style>\n",
              "<table border=\"1\" class=\"dataframe\">\n",
              "  <thead>\n",
              "    <tr style=\"text-align: right;\">\n",
              "      <th></th>\n",
              "      <th>id</th>\n",
              "      <th>full_sq</th>\n",
              "      <th>life_sq</th>\n",
              "      <th>floor</th>\n",
              "      <th>state</th>\n",
              "      <th>max_floor</th>\n",
              "      <th>material</th>\n",
              "      <th>num_room</th>\n",
              "      <th>kitch_sq</th>\n",
              "      <th>full_all</th>\n",
              "      <th>price_doc</th>\n",
              "    </tr>\n",
              "  </thead>\n",
              "  <tbody>\n",
              "    <tr>\n",
              "      <th>count</th>\n",
              "      <td>18866.0000</td>\n",
              "      <td>18866.0000</td>\n",
              "      <td>17291.0000</td>\n",
              "      <td>18838.0000</td>\n",
              "      <td>15505.0000</td>\n",
              "      <td>17445.0000</td>\n",
              "      <td>17445.0000</td>\n",
              "      <td>17445.0000</td>\n",
              "      <td>17445.0000</td>\n",
              "      <td>1.8866e+04</td>\n",
              "      <td>1.8866e+04</td>\n",
              "    </tr>\n",
              "    <tr>\n",
              "      <th>mean</th>\n",
              "      <td>18799.7886</td>\n",
              "      <td>53.9409</td>\n",
              "      <td>34.2592</td>\n",
              "      <td>7.2937</td>\n",
              "      <td>2.2013</td>\n",
              "      <td>12.4233</td>\n",
              "      <td>1.8901</td>\n",
              "      <td>1.9348</td>\n",
              "      <td>7.2064</td>\n",
              "      <td>1.5972e+05</td>\n",
              "      <td>7.5824e+06</td>\n",
              "    </tr>\n",
              "    <tr>\n",
              "      <th>std</th>\n",
              "      <td>7082.4287</td>\n",
              "      <td>44.1162</td>\n",
              "      <td>59.9446</td>\n",
              "      <td>5.1912</td>\n",
              "      <td>0.8528</td>\n",
              "      <td>6.2798</td>\n",
              "      <td>1.5061</td>\n",
              "      <td>0.8642</td>\n",
              "      <td>26.9816</td>\n",
              "      <td>3.0435e+05</td>\n",
              "      <td>4.9838e+06</td>\n",
              "    </tr>\n",
              "    <tr>\n",
              "      <th>min</th>\n",
              "      <td>9.0000</td>\n",
              "      <td>0.0000</td>\n",
              "      <td>0.0000</td>\n",
              "      <td>0.0000</td>\n",
              "      <td>1.0000</td>\n",
              "      <td>0.0000</td>\n",
              "      <td>1.0000</td>\n",
              "      <td>0.0000</td>\n",
              "      <td>0.0000</td>\n",
              "      <td>2.5460e+03</td>\n",
              "      <td>1.0000e+05</td>\n",
              "    </tr>\n",
              "    <tr>\n",
              "      <th>25%</th>\n",
              "      <td>13513.2500</td>\n",
              "      <td>38.0000</td>\n",
              "      <td>20.0000</td>\n",
              "      <td>3.0000</td>\n",
              "      <td>2.0000</td>\n",
              "      <td>9.0000</td>\n",
              "      <td>1.0000</td>\n",
              "      <td>1.0000</td>\n",
              "      <td>5.0000</td>\n",
              "      <td>4.8439e+04</td>\n",
              "      <td>5.1000e+06</td>\n",
              "    </tr>\n",
              "    <tr>\n",
              "      <th>50%</th>\n",
              "      <td>19043.5000</td>\n",
              "      <td>49.0000</td>\n",
              "      <td>30.0000</td>\n",
              "      <td>6.0000</td>\n",
              "      <td>2.0000</td>\n",
              "      <td>12.0000</td>\n",
              "      <td>1.0000</td>\n",
              "      <td>2.0000</td>\n",
              "      <td>7.0000</td>\n",
              "      <td>8.7713e+04</td>\n",
              "      <td>6.6855e+06</td>\n",
              "    </tr>\n",
              "    <tr>\n",
              "      <th>75%</th>\n",
              "      <td>24748.7500</td>\n",
              "      <td>63.0000</td>\n",
              "      <td>43.0000</td>\n",
              "      <td>10.0000</td>\n",
              "      <td>3.0000</td>\n",
              "      <td>17.0000</td>\n",
              "      <td>2.0000</td>\n",
              "      <td>3.0000</td>\n",
              "      <td>9.0000</td>\n",
              "      <td>1.2535e+05</td>\n",
              "      <td>8.9000e+06</td>\n",
              "    </tr>\n",
              "    <tr>\n",
              "      <th>max</th>\n",
              "      <td>30473.0000</td>\n",
              "      <td>5326.0000</td>\n",
              "      <td>7478.0000</td>\n",
              "      <td>77.0000</td>\n",
              "      <td>33.0000</td>\n",
              "      <td>57.0000</td>\n",
              "      <td>6.0000</td>\n",
              "      <td>19.0000</td>\n",
              "      <td>2014.0000</td>\n",
              "      <td>1.7167e+06</td>\n",
              "      <td>9.5122e+07</td>\n",
              "    </tr>\n",
              "  </tbody>\n",
              "</table>\n",
              "</div>\n",
              "      <button class=\"colab-df-convert\" onclick=\"convertToInteractive('df-740cec29-ae25-4a7e-b27a-b4c1122b0551')\"\n",
              "              title=\"Convert this dataframe to an interactive table.\"\n",
              "              style=\"display:none;\">\n",
              "        \n",
              "  <svg xmlns=\"http://www.w3.org/2000/svg\" height=\"24px\"viewBox=\"0 0 24 24\"\n",
              "       width=\"24px\">\n",
              "    <path d=\"M0 0h24v24H0V0z\" fill=\"none\"/>\n",
              "    <path d=\"M18.56 5.44l.94 2.06.94-2.06 2.06-.94-2.06-.94-.94-2.06-.94 2.06-2.06.94zm-11 1L8.5 8.5l.94-2.06 2.06-.94-2.06-.94L8.5 2.5l-.94 2.06-2.06.94zm10 10l.94 2.06.94-2.06 2.06-.94-2.06-.94-.94-2.06-.94 2.06-2.06.94z\"/><path d=\"M17.41 7.96l-1.37-1.37c-.4-.4-.92-.59-1.43-.59-.52 0-1.04.2-1.43.59L10.3 9.45l-7.72 7.72c-.78.78-.78 2.05 0 2.83L4 21.41c.39.39.9.59 1.41.59.51 0 1.02-.2 1.41-.59l7.78-7.78 2.81-2.81c.8-.78.8-2.07 0-2.86zM5.41 20L4 18.59l7.72-7.72 1.47 1.35L5.41 20z\"/>\n",
              "  </svg>\n",
              "      </button>\n",
              "      \n",
              "  <style>\n",
              "    .colab-df-container {\n",
              "      display:flex;\n",
              "      flex-wrap:wrap;\n",
              "      gap: 12px;\n",
              "    }\n",
              "\n",
              "    .colab-df-convert {\n",
              "      background-color: #E8F0FE;\n",
              "      border: none;\n",
              "      border-radius: 50%;\n",
              "      cursor: pointer;\n",
              "      display: none;\n",
              "      fill: #1967D2;\n",
              "      height: 32px;\n",
              "      padding: 0 0 0 0;\n",
              "      width: 32px;\n",
              "    }\n",
              "\n",
              "    .colab-df-convert:hover {\n",
              "      background-color: #E2EBFA;\n",
              "      box-shadow: 0px 1px 2px rgba(60, 64, 67, 0.3), 0px 1px 3px 1px rgba(60, 64, 67, 0.15);\n",
              "      fill: #174EA6;\n",
              "    }\n",
              "\n",
              "    [theme=dark] .colab-df-convert {\n",
              "      background-color: #3B4455;\n",
              "      fill: #D2E3FC;\n",
              "    }\n",
              "\n",
              "    [theme=dark] .colab-df-convert:hover {\n",
              "      background-color: #434B5C;\n",
              "      box-shadow: 0px 1px 3px 1px rgba(0, 0, 0, 0.15);\n",
              "      filter: drop-shadow(0px 1px 2px rgba(0, 0, 0, 0.3));\n",
              "      fill: #FFFFFF;\n",
              "    }\n",
              "  </style>\n",
              "\n",
              "      <script>\n",
              "        const buttonEl =\n",
              "          document.querySelector('#df-740cec29-ae25-4a7e-b27a-b4c1122b0551 button.colab-df-convert');\n",
              "        buttonEl.style.display =\n",
              "          google.colab.kernel.accessAllowed ? 'block' : 'none';\n",
              "\n",
              "        async function convertToInteractive(key) {\n",
              "          const element = document.querySelector('#df-740cec29-ae25-4a7e-b27a-b4c1122b0551');\n",
              "          const dataTable =\n",
              "            await google.colab.kernel.invokeFunction('convertToInteractive',\n",
              "                                                     [key], {});\n",
              "          if (!dataTable) return;\n",
              "\n",
              "          const docLinkHtml = 'Like what you see? Visit the ' +\n",
              "            '<a target=\"_blank\" href=https://colab.research.google.com/notebooks/data_table.ipynb>data table notebook</a>'\n",
              "            + ' to learn more about interactive tables.';\n",
              "          element.innerHTML = '';\n",
              "          dataTable['output_type'] = 'display_data';\n",
              "          await google.colab.output.renderOutput(dataTable, element);\n",
              "          const docLink = document.createElement('div');\n",
              "          docLink.innerHTML = docLinkHtml;\n",
              "          element.appendChild(docLink);\n",
              "        }\n",
              "      </script>\n",
              "    </div>\n",
              "  </div>\n",
              "  "
            ]
          },
          "metadata": {},
          "execution_count": 14
        }
      ]
    },
    {
      "cell_type": "markdown",
      "source": [
        "Выводы текстом, что вы можете сказать по каждому признаку, на основе базовых статистик"
      ],
      "metadata": {
        "id": "cOAB67VhZGfe"
      }
    },
    {
      "cell_type": "markdown",
      "source": [
        "- Примерно четверть объектов имеют одну жилую комнату, 9 этажей в здании, третий этаж\n",
        "- Самое высокое здание имеет 77 этажей"
      ],
      "metadata": {
        "id": "UgN6nT-aZGfe"
      }
    },
    {
      "cell_type": "markdown",
      "source": [
        "Какие признаки вы считаете полезными для предсказания цены квартиры, а какие по вашему мнению можно убрать. Почему?"
      ],
      "metadata": {
        "id": "H6wWguuMZGof"
      }
    },
    {
      "cell_type": "markdown",
      "source": [
        "- full_sq, life_sq, num_room, floor, kitch_sq, sub_area, max_floor - наиболее подходят для предсказания цены квартиры, именно данными параметрами задается \"престижность\" жилья\n",
        "- sub_area район жилья может влиять на цену, например если район находится в центре города или близок с объектами логистики"
      ],
      "metadata": {
        "id": "GAb01bgZZGof"
      }
    },
    {
      "cell_type": "markdown",
      "source": [
        "Есть ли пропуски в данных? В каких столбцах? Какой процент по каждому столбцу?"
      ],
      "metadata": {
        "id": "oywwEALWZGs2"
      }
    },
    {
      "cell_type": "code",
      "source": [
        "missing_values_quantity = df.isna().sum()\n",
        "missing_values_quantity"
      ],
      "metadata": {
        "id": "oI5jSvEsZGs2",
        "colab": {
          "base_uri": "https://localhost:8080/"
        },
        "outputId": "cde2b1da-e2c6-42bd-b960-586e06bdc125"
      },
      "execution_count": 15,
      "outputs": [
        {
          "output_type": "execute_result",
          "data": {
            "text/plain": [
              "id               0\n",
              "timestamp        0\n",
              "full_sq          0\n",
              "life_sq       1575\n",
              "floor           28\n",
              "state         3361\n",
              "max_floor     1421\n",
              "material      1421\n",
              "build_year    2905\n",
              "num_room      1421\n",
              "kitch_sq      1421\n",
              "full_all         0\n",
              "sub_area         0\n",
              "price_doc        0\n",
              "dtype: int64"
            ]
          },
          "metadata": {},
          "execution_count": 15
        }
      ]
    },
    {
      "cell_type": "code",
      "source": [
        "missing_data_percent_ratio = round(df.isna().mean() * 100, 2)\n",
        "missing_data_percent_ratio"
      ],
      "metadata": {
        "colab": {
          "base_uri": "https://localhost:8080/"
        },
        "id": "xLL7Glz_xJSU",
        "outputId": "9340bc80-1a8f-4f3d-a5b5-8d5048d3d5ff"
      },
      "execution_count": 16,
      "outputs": [
        {
          "output_type": "execute_result",
          "data": {
            "text/plain": [
              "id             0.00\n",
              "timestamp      0.00\n",
              "full_sq        0.00\n",
              "life_sq        8.35\n",
              "floor          0.15\n",
              "state         17.82\n",
              "max_floor      7.53\n",
              "material       7.53\n",
              "build_year    15.40\n",
              "num_room       7.53\n",
              "kitch_sq       7.53\n",
              "full_all       0.00\n",
              "sub_area       0.00\n",
              "price_doc      0.00\n",
              "dtype: float64"
            ]
          },
          "metadata": {},
          "execution_count": 16
        }
      ]
    },
    {
      "cell_type": "markdown",
      "source": [
        "Есть ли аномальные данные в столбцах? Если да, то укажите на них и объясните, почему считаете аномальными"
      ],
      "metadata": {
        "id": "Sc6aZZnsZGvX"
      }
    },
    {
      "cell_type": "markdown",
      "source": [
        "- 0.0 - минимальная общая площадь, жилая площадь, этаж, количество этажей в здании, количество жилых комнат, площадь кухни скорее всего говорит о том что эти данные нужно опустить из таблицы при дальнейшем анализе\n",
        "- Написано что max_floor - количество этажей в здании и floor - этаж на котором находится единица, но в таблице явно видно что max_floor - 57, а floor - 77, похоже что где-то пропуск, или ошибка если единица находится в данном здании\n",
        "- state - максимальное значение 33 похоже на выброс, учитывая то что среднее значение равно 2.2\n",
        "- build_year - некоторые данные были в неправильном формате, много пропусков по отношению с другими столбцами, не стоит учитывать пропуски в дальнейшем анализе, и год не может быть равен нулю\n",
        "- kitch_sq - максимальное значение похоже на выброс"
      ],
      "metadata": {
        "id": "pOVsn-ONbuBM"
      }
    },
    {
      "cell_type": "markdown",
      "source": [
        "### 1.2.2 Макро показатели"
      ],
      "metadata": {
        "id": "G1kXOjYDdRui"
      }
    },
    {
      "cell_type": "markdown",
      "source": [
        "Вывести пример данных (первые строки и случайные строки)"
      ],
      "metadata": {
        "id": "DnZc-rypdvUy"
      }
    },
    {
      "cell_type": "code",
      "source": [
        "macro.head(10)"
      ],
      "metadata": {
        "id": "4AIWc_yWdvUz",
        "colab": {
          "base_uri": "https://localhost:8080/",
          "height": 363
        },
        "outputId": "991830d7-35c3-4dd1-c148-736e383bca20"
      },
      "execution_count": 17,
      "outputs": [
        {
          "output_type": "execute_result",
          "data": {
            "text/plain": [
              "    timestamp   salary  fixed_basket  rent_price_3room_eco  \\\n",
              "0  2010-01-01  38410.5      11443.63                   NaN   \n",
              "1  2010-01-02  38410.5      11443.63                   NaN   \n",
              "2  2010-01-03  38410.5      11443.63                   NaN   \n",
              "3  2010-01-04  38410.5      11443.63                   NaN   \n",
              "4  2010-01-05  38410.5      11443.63                   NaN   \n",
              "5  2010-01-06  38410.5      11443.63                   NaN   \n",
              "6  2010-01-07  38410.5      11443.63                   NaN   \n",
              "7  2010-01-08  38410.5      11443.63                   NaN   \n",
              "8  2010-01-09  38410.5      11443.63                   NaN   \n",
              "9  2010-01-10  38410.5      11443.63                   NaN   \n",
              "\n",
              "   rent_price_2room_eco  rent_price_1room_eco  average_life_exp  \n",
              "0                   NaN                   NaN              74.2  \n",
              "1                   NaN                   NaN              74.2  \n",
              "2                   NaN                   NaN              74.2  \n",
              "3                   NaN                   NaN              74.2  \n",
              "4                   NaN                   NaN              74.2  \n",
              "5                   NaN                   NaN              74.2  \n",
              "6                   NaN                   NaN              74.2  \n",
              "7                   NaN                   NaN              74.2  \n",
              "8                   NaN                   NaN              74.2  \n",
              "9                   NaN                   NaN              74.2  "
            ],
            "text/html": [
              "\n",
              "  <div id=\"df-bcc8903e-6b61-4d7c-8c46-c355710291de\">\n",
              "    <div class=\"colab-df-container\">\n",
              "      <div>\n",
              "<style scoped>\n",
              "    .dataframe tbody tr th:only-of-type {\n",
              "        vertical-align: middle;\n",
              "    }\n",
              "\n",
              "    .dataframe tbody tr th {\n",
              "        vertical-align: top;\n",
              "    }\n",
              "\n",
              "    .dataframe thead th {\n",
              "        text-align: right;\n",
              "    }\n",
              "</style>\n",
              "<table border=\"1\" class=\"dataframe\">\n",
              "  <thead>\n",
              "    <tr style=\"text-align: right;\">\n",
              "      <th></th>\n",
              "      <th>timestamp</th>\n",
              "      <th>salary</th>\n",
              "      <th>fixed_basket</th>\n",
              "      <th>rent_price_3room_eco</th>\n",
              "      <th>rent_price_2room_eco</th>\n",
              "      <th>rent_price_1room_eco</th>\n",
              "      <th>average_life_exp</th>\n",
              "    </tr>\n",
              "  </thead>\n",
              "  <tbody>\n",
              "    <tr>\n",
              "      <th>0</th>\n",
              "      <td>2010-01-01</td>\n",
              "      <td>38410.5</td>\n",
              "      <td>11443.63</td>\n",
              "      <td>NaN</td>\n",
              "      <td>NaN</td>\n",
              "      <td>NaN</td>\n",
              "      <td>74.2</td>\n",
              "    </tr>\n",
              "    <tr>\n",
              "      <th>1</th>\n",
              "      <td>2010-01-02</td>\n",
              "      <td>38410.5</td>\n",
              "      <td>11443.63</td>\n",
              "      <td>NaN</td>\n",
              "      <td>NaN</td>\n",
              "      <td>NaN</td>\n",
              "      <td>74.2</td>\n",
              "    </tr>\n",
              "    <tr>\n",
              "      <th>2</th>\n",
              "      <td>2010-01-03</td>\n",
              "      <td>38410.5</td>\n",
              "      <td>11443.63</td>\n",
              "      <td>NaN</td>\n",
              "      <td>NaN</td>\n",
              "      <td>NaN</td>\n",
              "      <td>74.2</td>\n",
              "    </tr>\n",
              "    <tr>\n",
              "      <th>3</th>\n",
              "      <td>2010-01-04</td>\n",
              "      <td>38410.5</td>\n",
              "      <td>11443.63</td>\n",
              "      <td>NaN</td>\n",
              "      <td>NaN</td>\n",
              "      <td>NaN</td>\n",
              "      <td>74.2</td>\n",
              "    </tr>\n",
              "    <tr>\n",
              "      <th>4</th>\n",
              "      <td>2010-01-05</td>\n",
              "      <td>38410.5</td>\n",
              "      <td>11443.63</td>\n",
              "      <td>NaN</td>\n",
              "      <td>NaN</td>\n",
              "      <td>NaN</td>\n",
              "      <td>74.2</td>\n",
              "    </tr>\n",
              "    <tr>\n",
              "      <th>5</th>\n",
              "      <td>2010-01-06</td>\n",
              "      <td>38410.5</td>\n",
              "      <td>11443.63</td>\n",
              "      <td>NaN</td>\n",
              "      <td>NaN</td>\n",
              "      <td>NaN</td>\n",
              "      <td>74.2</td>\n",
              "    </tr>\n",
              "    <tr>\n",
              "      <th>6</th>\n",
              "      <td>2010-01-07</td>\n",
              "      <td>38410.5</td>\n",
              "      <td>11443.63</td>\n",
              "      <td>NaN</td>\n",
              "      <td>NaN</td>\n",
              "      <td>NaN</td>\n",
              "      <td>74.2</td>\n",
              "    </tr>\n",
              "    <tr>\n",
              "      <th>7</th>\n",
              "      <td>2010-01-08</td>\n",
              "      <td>38410.5</td>\n",
              "      <td>11443.63</td>\n",
              "      <td>NaN</td>\n",
              "      <td>NaN</td>\n",
              "      <td>NaN</td>\n",
              "      <td>74.2</td>\n",
              "    </tr>\n",
              "    <tr>\n",
              "      <th>8</th>\n",
              "      <td>2010-01-09</td>\n",
              "      <td>38410.5</td>\n",
              "      <td>11443.63</td>\n",
              "      <td>NaN</td>\n",
              "      <td>NaN</td>\n",
              "      <td>NaN</td>\n",
              "      <td>74.2</td>\n",
              "    </tr>\n",
              "    <tr>\n",
              "      <th>9</th>\n",
              "      <td>2010-01-10</td>\n",
              "      <td>38410.5</td>\n",
              "      <td>11443.63</td>\n",
              "      <td>NaN</td>\n",
              "      <td>NaN</td>\n",
              "      <td>NaN</td>\n",
              "      <td>74.2</td>\n",
              "    </tr>\n",
              "  </tbody>\n",
              "</table>\n",
              "</div>\n",
              "      <button class=\"colab-df-convert\" onclick=\"convertToInteractive('df-bcc8903e-6b61-4d7c-8c46-c355710291de')\"\n",
              "              title=\"Convert this dataframe to an interactive table.\"\n",
              "              style=\"display:none;\">\n",
              "        \n",
              "  <svg xmlns=\"http://www.w3.org/2000/svg\" height=\"24px\"viewBox=\"0 0 24 24\"\n",
              "       width=\"24px\">\n",
              "    <path d=\"M0 0h24v24H0V0z\" fill=\"none\"/>\n",
              "    <path d=\"M18.56 5.44l.94 2.06.94-2.06 2.06-.94-2.06-.94-.94-2.06-.94 2.06-2.06.94zm-11 1L8.5 8.5l.94-2.06 2.06-.94-2.06-.94L8.5 2.5l-.94 2.06-2.06.94zm10 10l.94 2.06.94-2.06 2.06-.94-2.06-.94-.94-2.06-.94 2.06-2.06.94z\"/><path d=\"M17.41 7.96l-1.37-1.37c-.4-.4-.92-.59-1.43-.59-.52 0-1.04.2-1.43.59L10.3 9.45l-7.72 7.72c-.78.78-.78 2.05 0 2.83L4 21.41c.39.39.9.59 1.41.59.51 0 1.02-.2 1.41-.59l7.78-7.78 2.81-2.81c.8-.78.8-2.07 0-2.86zM5.41 20L4 18.59l7.72-7.72 1.47 1.35L5.41 20z\"/>\n",
              "  </svg>\n",
              "      </button>\n",
              "      \n",
              "  <style>\n",
              "    .colab-df-container {\n",
              "      display:flex;\n",
              "      flex-wrap:wrap;\n",
              "      gap: 12px;\n",
              "    }\n",
              "\n",
              "    .colab-df-convert {\n",
              "      background-color: #E8F0FE;\n",
              "      border: none;\n",
              "      border-radius: 50%;\n",
              "      cursor: pointer;\n",
              "      display: none;\n",
              "      fill: #1967D2;\n",
              "      height: 32px;\n",
              "      padding: 0 0 0 0;\n",
              "      width: 32px;\n",
              "    }\n",
              "\n",
              "    .colab-df-convert:hover {\n",
              "      background-color: #E2EBFA;\n",
              "      box-shadow: 0px 1px 2px rgba(60, 64, 67, 0.3), 0px 1px 3px 1px rgba(60, 64, 67, 0.15);\n",
              "      fill: #174EA6;\n",
              "    }\n",
              "\n",
              "    [theme=dark] .colab-df-convert {\n",
              "      background-color: #3B4455;\n",
              "      fill: #D2E3FC;\n",
              "    }\n",
              "\n",
              "    [theme=dark] .colab-df-convert:hover {\n",
              "      background-color: #434B5C;\n",
              "      box-shadow: 0px 1px 3px 1px rgba(0, 0, 0, 0.15);\n",
              "      filter: drop-shadow(0px 1px 2px rgba(0, 0, 0, 0.3));\n",
              "      fill: #FFFFFF;\n",
              "    }\n",
              "  </style>\n",
              "\n",
              "      <script>\n",
              "        const buttonEl =\n",
              "          document.querySelector('#df-bcc8903e-6b61-4d7c-8c46-c355710291de button.colab-df-convert');\n",
              "        buttonEl.style.display =\n",
              "          google.colab.kernel.accessAllowed ? 'block' : 'none';\n",
              "\n",
              "        async function convertToInteractive(key) {\n",
              "          const element = document.querySelector('#df-bcc8903e-6b61-4d7c-8c46-c355710291de');\n",
              "          const dataTable =\n",
              "            await google.colab.kernel.invokeFunction('convertToInteractive',\n",
              "                                                     [key], {});\n",
              "          if (!dataTable) return;\n",
              "\n",
              "          const docLinkHtml = 'Like what you see? Visit the ' +\n",
              "            '<a target=\"_blank\" href=https://colab.research.google.com/notebooks/data_table.ipynb>data table notebook</a>'\n",
              "            + ' to learn more about interactive tables.';\n",
              "          element.innerHTML = '';\n",
              "          dataTable['output_type'] = 'display_data';\n",
              "          await google.colab.output.renderOutput(dataTable, element);\n",
              "          const docLink = document.createElement('div');\n",
              "          docLink.innerHTML = docLinkHtml;\n",
              "          element.appendChild(docLink);\n",
              "        }\n",
              "      </script>\n",
              "    </div>\n",
              "  </div>\n",
              "  "
            ]
          },
          "metadata": {},
          "execution_count": 17
        }
      ]
    },
    {
      "cell_type": "code",
      "metadata": {
        "id": "XZVhRUZQdaZc",
        "colab": {
          "base_uri": "https://localhost:8080/",
          "height": 363
        },
        "outputId": "f569bf5d-20c2-4471-de6a-bf3268203ef4"
      },
      "source": [
        "macro.sample(10)"
      ],
      "execution_count": 18,
      "outputs": [
        {
          "output_type": "execute_result",
          "data": {
            "text/plain": [
              "       timestamp   salary  fixed_basket  rent_price_3room_eco  \\\n",
              "1423  2013-11-24  55485.2      15367.58                 49.29   \n",
              "229   2010-08-18  38410.5      11814.03                   NaN   \n",
              "132   2010-05-13  38410.5      11702.15                   NaN   \n",
              "149   2010-05-30  38410.5      11702.15                   NaN   \n",
              "541   2011-06-26  44898.7      13040.16                 44.16   \n",
              "665   2011-10-28  44898.7      12922.97                 43.46   \n",
              "364   2010-12-31  38410.5      12225.81                 37.54   \n",
              "770   2012-02-10  48830.4      13166.88                 45.53   \n",
              "2234  2016-02-13      NaN      19544.19                 46.89   \n",
              "2246  2016-02-25      NaN      19544.19                 46.89   \n",
              "\n",
              "      rent_price_2room_eco  rent_price_1room_eco  average_life_exp  \n",
              "1423                 42.02                 34.55             76.37  \n",
              "229                    NaN                   NaN             74.20  \n",
              "132                    NaN                   NaN             74.20  \n",
              "149                    NaN                   NaN             74.20  \n",
              "541                  35.22                 27.73             75.79  \n",
              "665                  38.10                 31.11             75.79  \n",
              "364                  33.38                 28.61             74.20  \n",
              "770                  38.39                 31.12             75.74  \n",
              "2234                 38.11                 29.85               NaN  \n",
              "2246                 38.11                 29.85               NaN  "
            ],
            "text/html": [
              "\n",
              "  <div id=\"df-98b6f515-49fd-4ee6-8430-d0941757d7b7\">\n",
              "    <div class=\"colab-df-container\">\n",
              "      <div>\n",
              "<style scoped>\n",
              "    .dataframe tbody tr th:only-of-type {\n",
              "        vertical-align: middle;\n",
              "    }\n",
              "\n",
              "    .dataframe tbody tr th {\n",
              "        vertical-align: top;\n",
              "    }\n",
              "\n",
              "    .dataframe thead th {\n",
              "        text-align: right;\n",
              "    }\n",
              "</style>\n",
              "<table border=\"1\" class=\"dataframe\">\n",
              "  <thead>\n",
              "    <tr style=\"text-align: right;\">\n",
              "      <th></th>\n",
              "      <th>timestamp</th>\n",
              "      <th>salary</th>\n",
              "      <th>fixed_basket</th>\n",
              "      <th>rent_price_3room_eco</th>\n",
              "      <th>rent_price_2room_eco</th>\n",
              "      <th>rent_price_1room_eco</th>\n",
              "      <th>average_life_exp</th>\n",
              "    </tr>\n",
              "  </thead>\n",
              "  <tbody>\n",
              "    <tr>\n",
              "      <th>1423</th>\n",
              "      <td>2013-11-24</td>\n",
              "      <td>55485.2</td>\n",
              "      <td>15367.58</td>\n",
              "      <td>49.29</td>\n",
              "      <td>42.02</td>\n",
              "      <td>34.55</td>\n",
              "      <td>76.37</td>\n",
              "    </tr>\n",
              "    <tr>\n",
              "      <th>229</th>\n",
              "      <td>2010-08-18</td>\n",
              "      <td>38410.5</td>\n",
              "      <td>11814.03</td>\n",
              "      <td>NaN</td>\n",
              "      <td>NaN</td>\n",
              "      <td>NaN</td>\n",
              "      <td>74.20</td>\n",
              "    </tr>\n",
              "    <tr>\n",
              "      <th>132</th>\n",
              "      <td>2010-05-13</td>\n",
              "      <td>38410.5</td>\n",
              "      <td>11702.15</td>\n",
              "      <td>NaN</td>\n",
              "      <td>NaN</td>\n",
              "      <td>NaN</td>\n",
              "      <td>74.20</td>\n",
              "    </tr>\n",
              "    <tr>\n",
              "      <th>149</th>\n",
              "      <td>2010-05-30</td>\n",
              "      <td>38410.5</td>\n",
              "      <td>11702.15</td>\n",
              "      <td>NaN</td>\n",
              "      <td>NaN</td>\n",
              "      <td>NaN</td>\n",
              "      <td>74.20</td>\n",
              "    </tr>\n",
              "    <tr>\n",
              "      <th>541</th>\n",
              "      <td>2011-06-26</td>\n",
              "      <td>44898.7</td>\n",
              "      <td>13040.16</td>\n",
              "      <td>44.16</td>\n",
              "      <td>35.22</td>\n",
              "      <td>27.73</td>\n",
              "      <td>75.79</td>\n",
              "    </tr>\n",
              "    <tr>\n",
              "      <th>665</th>\n",
              "      <td>2011-10-28</td>\n",
              "      <td>44898.7</td>\n",
              "      <td>12922.97</td>\n",
              "      <td>43.46</td>\n",
              "      <td>38.10</td>\n",
              "      <td>31.11</td>\n",
              "      <td>75.79</td>\n",
              "    </tr>\n",
              "    <tr>\n",
              "      <th>364</th>\n",
              "      <td>2010-12-31</td>\n",
              "      <td>38410.5</td>\n",
              "      <td>12225.81</td>\n",
              "      <td>37.54</td>\n",
              "      <td>33.38</td>\n",
              "      <td>28.61</td>\n",
              "      <td>74.20</td>\n",
              "    </tr>\n",
              "    <tr>\n",
              "      <th>770</th>\n",
              "      <td>2012-02-10</td>\n",
              "      <td>48830.4</td>\n",
              "      <td>13166.88</td>\n",
              "      <td>45.53</td>\n",
              "      <td>38.39</td>\n",
              "      <td>31.12</td>\n",
              "      <td>75.74</td>\n",
              "    </tr>\n",
              "    <tr>\n",
              "      <th>2234</th>\n",
              "      <td>2016-02-13</td>\n",
              "      <td>NaN</td>\n",
              "      <td>19544.19</td>\n",
              "      <td>46.89</td>\n",
              "      <td>38.11</td>\n",
              "      <td>29.85</td>\n",
              "      <td>NaN</td>\n",
              "    </tr>\n",
              "    <tr>\n",
              "      <th>2246</th>\n",
              "      <td>2016-02-25</td>\n",
              "      <td>NaN</td>\n",
              "      <td>19544.19</td>\n",
              "      <td>46.89</td>\n",
              "      <td>38.11</td>\n",
              "      <td>29.85</td>\n",
              "      <td>NaN</td>\n",
              "    </tr>\n",
              "  </tbody>\n",
              "</table>\n",
              "</div>\n",
              "      <button class=\"colab-df-convert\" onclick=\"convertToInteractive('df-98b6f515-49fd-4ee6-8430-d0941757d7b7')\"\n",
              "              title=\"Convert this dataframe to an interactive table.\"\n",
              "              style=\"display:none;\">\n",
              "        \n",
              "  <svg xmlns=\"http://www.w3.org/2000/svg\" height=\"24px\"viewBox=\"0 0 24 24\"\n",
              "       width=\"24px\">\n",
              "    <path d=\"M0 0h24v24H0V0z\" fill=\"none\"/>\n",
              "    <path d=\"M18.56 5.44l.94 2.06.94-2.06 2.06-.94-2.06-.94-.94-2.06-.94 2.06-2.06.94zm-11 1L8.5 8.5l.94-2.06 2.06-.94-2.06-.94L8.5 2.5l-.94 2.06-2.06.94zm10 10l.94 2.06.94-2.06 2.06-.94-2.06-.94-.94-2.06-.94 2.06-2.06.94z\"/><path d=\"M17.41 7.96l-1.37-1.37c-.4-.4-.92-.59-1.43-.59-.52 0-1.04.2-1.43.59L10.3 9.45l-7.72 7.72c-.78.78-.78 2.05 0 2.83L4 21.41c.39.39.9.59 1.41.59.51 0 1.02-.2 1.41-.59l7.78-7.78 2.81-2.81c.8-.78.8-2.07 0-2.86zM5.41 20L4 18.59l7.72-7.72 1.47 1.35L5.41 20z\"/>\n",
              "  </svg>\n",
              "      </button>\n",
              "      \n",
              "  <style>\n",
              "    .colab-df-container {\n",
              "      display:flex;\n",
              "      flex-wrap:wrap;\n",
              "      gap: 12px;\n",
              "    }\n",
              "\n",
              "    .colab-df-convert {\n",
              "      background-color: #E8F0FE;\n",
              "      border: none;\n",
              "      border-radius: 50%;\n",
              "      cursor: pointer;\n",
              "      display: none;\n",
              "      fill: #1967D2;\n",
              "      height: 32px;\n",
              "      padding: 0 0 0 0;\n",
              "      width: 32px;\n",
              "    }\n",
              "\n",
              "    .colab-df-convert:hover {\n",
              "      background-color: #E2EBFA;\n",
              "      box-shadow: 0px 1px 2px rgba(60, 64, 67, 0.3), 0px 1px 3px 1px rgba(60, 64, 67, 0.15);\n",
              "      fill: #174EA6;\n",
              "    }\n",
              "\n",
              "    [theme=dark] .colab-df-convert {\n",
              "      background-color: #3B4455;\n",
              "      fill: #D2E3FC;\n",
              "    }\n",
              "\n",
              "    [theme=dark] .colab-df-convert:hover {\n",
              "      background-color: #434B5C;\n",
              "      box-shadow: 0px 1px 3px 1px rgba(0, 0, 0, 0.15);\n",
              "      filter: drop-shadow(0px 1px 2px rgba(0, 0, 0, 0.3));\n",
              "      fill: #FFFFFF;\n",
              "    }\n",
              "  </style>\n",
              "\n",
              "      <script>\n",
              "        const buttonEl =\n",
              "          document.querySelector('#df-98b6f515-49fd-4ee6-8430-d0941757d7b7 button.colab-df-convert');\n",
              "        buttonEl.style.display =\n",
              "          google.colab.kernel.accessAllowed ? 'block' : 'none';\n",
              "\n",
              "        async function convertToInteractive(key) {\n",
              "          const element = document.querySelector('#df-98b6f515-49fd-4ee6-8430-d0941757d7b7');\n",
              "          const dataTable =\n",
              "            await google.colab.kernel.invokeFunction('convertToInteractive',\n",
              "                                                     [key], {});\n",
              "          if (!dataTable) return;\n",
              "\n",
              "          const docLinkHtml = 'Like what you see? Visit the ' +\n",
              "            '<a target=\"_blank\" href=https://colab.research.google.com/notebooks/data_table.ipynb>data table notebook</a>'\n",
              "            + ' to learn more about interactive tables.';\n",
              "          element.innerHTML = '';\n",
              "          dataTable['output_type'] = 'display_data';\n",
              "          await google.colab.output.renderOutput(dataTable, element);\n",
              "          const docLink = document.createElement('div');\n",
              "          docLink.innerHTML = docLinkHtml;\n",
              "          element.appendChild(docLink);\n",
              "        }\n",
              "      </script>\n",
              "    </div>\n",
              "  </div>\n",
              "  "
            ]
          },
          "metadata": {},
          "execution_count": 18
        }
      ]
    },
    {
      "cell_type": "markdown",
      "source": [
        "Размер набора данных"
      ],
      "metadata": {
        "id": "__V4xxQJdaZb"
      }
    },
    {
      "cell_type": "code",
      "source": [
        "macro.shape"
      ],
      "metadata": {
        "colab": {
          "base_uri": "https://localhost:8080/"
        },
        "id": "e6mHqYiBusj0",
        "outputId": "b302d9d8-a693-455b-a028-a4434a8fe964"
      },
      "execution_count": 19,
      "outputs": [
        {
          "output_type": "execute_result",
          "data": {
            "text/plain": [
              "(2484, 7)"
            ]
          },
          "metadata": {},
          "execution_count": 19
        }
      ]
    },
    {
      "cell_type": "code",
      "source": [
        "macro.size"
      ],
      "metadata": {
        "colab": {
          "base_uri": "https://localhost:8080/"
        },
        "id": "RRt0Y2p7uukX",
        "outputId": "5d38bb3c-d02e-4b76-d309-28ebd5bb5f4f"
      },
      "execution_count": 20,
      "outputs": [
        {
          "output_type": "execute_result",
          "data": {
            "text/plain": [
              "17388"
            ]
          },
          "metadata": {},
          "execution_count": 20
        }
      ]
    },
    {
      "cell_type": "markdown",
      "source": [
        "Описание типов данных по признакам"
      ],
      "metadata": {
        "id": "V8nJDzrqdaZc"
      }
    },
    {
      "cell_type": "code",
      "source": [
        "macro.info()"
      ],
      "metadata": {
        "colab": {
          "base_uri": "https://localhost:8080/"
        },
        "id": "PYyqxi03tHPf",
        "outputId": "07e163e1-4ca6-4fde-9437-24fe797a9f8a"
      },
      "execution_count": 21,
      "outputs": [
        {
          "output_type": "stream",
          "name": "stdout",
          "text": [
            "<class 'pandas.core.frame.DataFrame'>\n",
            "RangeIndex: 2484 entries, 0 to 2483\n",
            "Data columns (total 7 columns):\n",
            " #   Column                Non-Null Count  Dtype  \n",
            "---  ------                --------------  -----  \n",
            " 0   timestamp             2484 non-null   object \n",
            " 1   salary                2191 non-null   float64\n",
            " 2   fixed_basket          2484 non-null   float64\n",
            " 3   rent_price_3room_eco  2211 non-null   float64\n",
            " 4   rent_price_2room_eco  2211 non-null   float64\n",
            " 5   rent_price_1room_eco  2211 non-null   float64\n",
            " 6   average_life_exp      2191 non-null   float64\n",
            "dtypes: float64(6), object(1)\n",
            "memory usage: 136.0+ KB\n"
          ]
        }
      ]
    },
    {
      "cell_type": "markdown",
      "source": [
        "Базовые статистики по признакам"
      ],
      "metadata": {
        "id": "r9KdYUIJdaZc"
      }
    },
    {
      "cell_type": "code",
      "source": [
        "macro['timestamp'] = pd.to_datetime(macro['timestamp'])"
      ],
      "metadata": {
        "id": "m7gBqhedtD1O"
      },
      "execution_count": 22,
      "outputs": []
    },
    {
      "cell_type": "code",
      "source": [
        "macro.describe()"
      ],
      "metadata": {
        "id": "NMVdTHxrdaZc",
        "colab": {
          "base_uri": "https://localhost:8080/",
          "height": 300
        },
        "outputId": "41348c87-e52c-48f9-a00c-e522567e731a"
      },
      "execution_count": 23,
      "outputs": [
        {
          "output_type": "execute_result",
          "data": {
            "text/plain": [
              "           salary  fixed_basket  rent_price_3room_eco  rent_price_2room_eco  \\\n",
              "count   2191.0000     2484.0000             2211.0000             2211.0000   \n",
              "mean   52188.9331    15331.4980               47.2997               38.8954   \n",
              "std     9068.5590     2789.1363                3.0702                5.0352   \n",
              "min    38410.5000    11443.6300               37.5400                0.1000   \n",
              "25%    44898.7000    12992.4400               45.5300               37.9300   \n",
              "50%    48830.4000    14983.9200               47.3500               39.4700   \n",
              "75%    61208.0000    18295.0700               49.3500               41.3000   \n",
              "max    64310.0000    20422.5000               53.2100               43.8500   \n",
              "\n",
              "       rent_price_1room_eco  average_life_exp  \n",
              "count             2211.0000         2191.0000  \n",
              "mean                31.0024           75.9282  \n",
              "std                  3.9841            0.8699  \n",
              "min                  2.3100           74.2000  \n",
              "25%                 29.7800           75.7400  \n",
              "50%                 31.1100           75.7900  \n",
              "75%                 33.0600           76.7000  \n",
              "max                 35.3700           76.7700  "
            ],
            "text/html": [
              "\n",
              "  <div id=\"df-a3c0cd2d-4d99-421e-b1cd-3e0f6e3cf1a0\">\n",
              "    <div class=\"colab-df-container\">\n",
              "      <div>\n",
              "<style scoped>\n",
              "    .dataframe tbody tr th:only-of-type {\n",
              "        vertical-align: middle;\n",
              "    }\n",
              "\n",
              "    .dataframe tbody tr th {\n",
              "        vertical-align: top;\n",
              "    }\n",
              "\n",
              "    .dataframe thead th {\n",
              "        text-align: right;\n",
              "    }\n",
              "</style>\n",
              "<table border=\"1\" class=\"dataframe\">\n",
              "  <thead>\n",
              "    <tr style=\"text-align: right;\">\n",
              "      <th></th>\n",
              "      <th>salary</th>\n",
              "      <th>fixed_basket</th>\n",
              "      <th>rent_price_3room_eco</th>\n",
              "      <th>rent_price_2room_eco</th>\n",
              "      <th>rent_price_1room_eco</th>\n",
              "      <th>average_life_exp</th>\n",
              "    </tr>\n",
              "  </thead>\n",
              "  <tbody>\n",
              "    <tr>\n",
              "      <th>count</th>\n",
              "      <td>2191.0000</td>\n",
              "      <td>2484.0000</td>\n",
              "      <td>2211.0000</td>\n",
              "      <td>2211.0000</td>\n",
              "      <td>2211.0000</td>\n",
              "      <td>2191.0000</td>\n",
              "    </tr>\n",
              "    <tr>\n",
              "      <th>mean</th>\n",
              "      <td>52188.9331</td>\n",
              "      <td>15331.4980</td>\n",
              "      <td>47.2997</td>\n",
              "      <td>38.8954</td>\n",
              "      <td>31.0024</td>\n",
              "      <td>75.9282</td>\n",
              "    </tr>\n",
              "    <tr>\n",
              "      <th>std</th>\n",
              "      <td>9068.5590</td>\n",
              "      <td>2789.1363</td>\n",
              "      <td>3.0702</td>\n",
              "      <td>5.0352</td>\n",
              "      <td>3.9841</td>\n",
              "      <td>0.8699</td>\n",
              "    </tr>\n",
              "    <tr>\n",
              "      <th>min</th>\n",
              "      <td>38410.5000</td>\n",
              "      <td>11443.6300</td>\n",
              "      <td>37.5400</td>\n",
              "      <td>0.1000</td>\n",
              "      <td>2.3100</td>\n",
              "      <td>74.2000</td>\n",
              "    </tr>\n",
              "    <tr>\n",
              "      <th>25%</th>\n",
              "      <td>44898.7000</td>\n",
              "      <td>12992.4400</td>\n",
              "      <td>45.5300</td>\n",
              "      <td>37.9300</td>\n",
              "      <td>29.7800</td>\n",
              "      <td>75.7400</td>\n",
              "    </tr>\n",
              "    <tr>\n",
              "      <th>50%</th>\n",
              "      <td>48830.4000</td>\n",
              "      <td>14983.9200</td>\n",
              "      <td>47.3500</td>\n",
              "      <td>39.4700</td>\n",
              "      <td>31.1100</td>\n",
              "      <td>75.7900</td>\n",
              "    </tr>\n",
              "    <tr>\n",
              "      <th>75%</th>\n",
              "      <td>61208.0000</td>\n",
              "      <td>18295.0700</td>\n",
              "      <td>49.3500</td>\n",
              "      <td>41.3000</td>\n",
              "      <td>33.0600</td>\n",
              "      <td>76.7000</td>\n",
              "    </tr>\n",
              "    <tr>\n",
              "      <th>max</th>\n",
              "      <td>64310.0000</td>\n",
              "      <td>20422.5000</td>\n",
              "      <td>53.2100</td>\n",
              "      <td>43.8500</td>\n",
              "      <td>35.3700</td>\n",
              "      <td>76.7700</td>\n",
              "    </tr>\n",
              "  </tbody>\n",
              "</table>\n",
              "</div>\n",
              "      <button class=\"colab-df-convert\" onclick=\"convertToInteractive('df-a3c0cd2d-4d99-421e-b1cd-3e0f6e3cf1a0')\"\n",
              "              title=\"Convert this dataframe to an interactive table.\"\n",
              "              style=\"display:none;\">\n",
              "        \n",
              "  <svg xmlns=\"http://www.w3.org/2000/svg\" height=\"24px\"viewBox=\"0 0 24 24\"\n",
              "       width=\"24px\">\n",
              "    <path d=\"M0 0h24v24H0V0z\" fill=\"none\"/>\n",
              "    <path d=\"M18.56 5.44l.94 2.06.94-2.06 2.06-.94-2.06-.94-.94-2.06-.94 2.06-2.06.94zm-11 1L8.5 8.5l.94-2.06 2.06-.94-2.06-.94L8.5 2.5l-.94 2.06-2.06.94zm10 10l.94 2.06.94-2.06 2.06-.94-2.06-.94-.94-2.06-.94 2.06-2.06.94z\"/><path d=\"M17.41 7.96l-1.37-1.37c-.4-.4-.92-.59-1.43-.59-.52 0-1.04.2-1.43.59L10.3 9.45l-7.72 7.72c-.78.78-.78 2.05 0 2.83L4 21.41c.39.39.9.59 1.41.59.51 0 1.02-.2 1.41-.59l7.78-7.78 2.81-2.81c.8-.78.8-2.07 0-2.86zM5.41 20L4 18.59l7.72-7.72 1.47 1.35L5.41 20z\"/>\n",
              "  </svg>\n",
              "      </button>\n",
              "      \n",
              "  <style>\n",
              "    .colab-df-container {\n",
              "      display:flex;\n",
              "      flex-wrap:wrap;\n",
              "      gap: 12px;\n",
              "    }\n",
              "\n",
              "    .colab-df-convert {\n",
              "      background-color: #E8F0FE;\n",
              "      border: none;\n",
              "      border-radius: 50%;\n",
              "      cursor: pointer;\n",
              "      display: none;\n",
              "      fill: #1967D2;\n",
              "      height: 32px;\n",
              "      padding: 0 0 0 0;\n",
              "      width: 32px;\n",
              "    }\n",
              "\n",
              "    .colab-df-convert:hover {\n",
              "      background-color: #E2EBFA;\n",
              "      box-shadow: 0px 1px 2px rgba(60, 64, 67, 0.3), 0px 1px 3px 1px rgba(60, 64, 67, 0.15);\n",
              "      fill: #174EA6;\n",
              "    }\n",
              "\n",
              "    [theme=dark] .colab-df-convert {\n",
              "      background-color: #3B4455;\n",
              "      fill: #D2E3FC;\n",
              "    }\n",
              "\n",
              "    [theme=dark] .colab-df-convert:hover {\n",
              "      background-color: #434B5C;\n",
              "      box-shadow: 0px 1px 3px 1px rgba(0, 0, 0, 0.15);\n",
              "      filter: drop-shadow(0px 1px 2px rgba(0, 0, 0, 0.3));\n",
              "      fill: #FFFFFF;\n",
              "    }\n",
              "  </style>\n",
              "\n",
              "      <script>\n",
              "        const buttonEl =\n",
              "          document.querySelector('#df-a3c0cd2d-4d99-421e-b1cd-3e0f6e3cf1a0 button.colab-df-convert');\n",
              "        buttonEl.style.display =\n",
              "          google.colab.kernel.accessAllowed ? 'block' : 'none';\n",
              "\n",
              "        async function convertToInteractive(key) {\n",
              "          const element = document.querySelector('#df-a3c0cd2d-4d99-421e-b1cd-3e0f6e3cf1a0');\n",
              "          const dataTable =\n",
              "            await google.colab.kernel.invokeFunction('convertToInteractive',\n",
              "                                                     [key], {});\n",
              "          if (!dataTable) return;\n",
              "\n",
              "          const docLinkHtml = 'Like what you see? Visit the ' +\n",
              "            '<a target=\"_blank\" href=https://colab.research.google.com/notebooks/data_table.ipynb>data table notebook</a>'\n",
              "            + ' to learn more about interactive tables.';\n",
              "          element.innerHTML = '';\n",
              "          dataTable['output_type'] = 'display_data';\n",
              "          await google.colab.output.renderOutput(dataTable, element);\n",
              "          const docLink = document.createElement('div');\n",
              "          docLink.innerHTML = docLinkHtml;\n",
              "          element.appendChild(docLink);\n",
              "        }\n",
              "      </script>\n",
              "    </div>\n",
              "  </div>\n",
              "  "
            ]
          },
          "metadata": {},
          "execution_count": 23
        }
      ]
    },
    {
      "cell_type": "markdown",
      "source": [
        "Выводы текстом, что вы можете сказать по каждому признаку, на основе базовых статистик"
      ],
      "metadata": {
        "id": "kUF1P7mTdaZc"
      }
    },
    {
      "cell_type": "markdown",
      "source": [
        "- Чем меньше комнат в арендуемом жилье, тем дешевле его арендовать\n",
        "- В жилье в котором две комнаты, сильнее разбрасываются цены за счет наивысшего стандартного отклонения, относительно других арендуемых единиц\n",
        "- Общние показатели не сильно влияют на ожидаемую продолжительность жизни - малое стандартное отклонение"
      ],
      "metadata": {
        "id": "YpRRQQrxdaZc"
      }
    },
    {
      "cell_type": "markdown",
      "source": [
        "Какие признаки вы считаете полезными для предсказания цены квартиры, а какие по вашему мнению можно убрать. Почему?"
      ],
      "metadata": {
        "id": "-fu8HSzAdaZc"
      }
    },
    {
      "cell_type": "markdown",
      "source": [
        "- Количество комнат (rent_price_3room_eco, rent_price_2room_eco, rent_price_1room_eco) - наиболее весомый показатель для предсказания цены арендуемого жилья\n",
        "- timestamp - в зависимости от ситуации в мире и экономики на данный момент цены могут изменяться\n",
        "- average_life_exp - в некоторых случаях может влиять на цену, в зависимости от района и условий жизни, больше average_life_exp - больше цена из-за более благополучных условий проживания"
      ],
      "metadata": {
        "id": "lZxDNxO8daZd"
      }
    },
    {
      "cell_type": "markdown",
      "source": [
        "Есть ли пропуски в данных? В каких столбцах? Какой процент по каждому столбцу?"
      ],
      "metadata": {
        "id": "P1CmjZ2XdaZd"
      }
    },
    {
      "cell_type": "code",
      "source": [
        "# Missing data in units\n",
        "missing_values_quantity = macro.isna().sum()\n",
        "missing_values_quantity"
      ],
      "metadata": {
        "id": "B8DGEnOtdaZd",
        "colab": {
          "base_uri": "https://localhost:8080/"
        },
        "outputId": "5fda233c-8f93-47b0-8b01-2607f12421ce"
      },
      "execution_count": 24,
      "outputs": [
        {
          "output_type": "execute_result",
          "data": {
            "text/plain": [
              "timestamp                 0\n",
              "salary                  293\n",
              "fixed_basket              0\n",
              "rent_price_3room_eco    273\n",
              "rent_price_2room_eco    273\n",
              "rent_price_1room_eco    273\n",
              "average_life_exp        293\n",
              "dtype: int64"
            ]
          },
          "metadata": {},
          "execution_count": 24
        }
      ]
    },
    {
      "cell_type": "code",
      "source": [
        "# Missing data in percentage\n",
        "missing_data_percent_ratio = round(macro.isna().mean() * 100, 2)\n",
        "missing_data_percent_ratio"
      ],
      "metadata": {
        "colab": {
          "base_uri": "https://localhost:8080/"
        },
        "id": "6PYZSxZB2QDc",
        "outputId": "903cb30b-c871-4d53-e4e8-61ee6501dc1b"
      },
      "execution_count": 25,
      "outputs": [
        {
          "output_type": "execute_result",
          "data": {
            "text/plain": [
              "timestamp                0.00\n",
              "salary                  11.80\n",
              "fixed_basket             0.00\n",
              "rent_price_3room_eco    10.99\n",
              "rent_price_2room_eco    10.99\n",
              "rent_price_1room_eco    10.99\n",
              "average_life_exp        11.80\n",
              "dtype: float64"
            ]
          },
          "metadata": {},
          "execution_count": 25
        }
      ]
    },
    {
      "cell_type": "markdown",
      "source": [
        "Есть ли аномальные данные в стoлбцах? Если да, то укажите на них и объясните, почему считаете аномальными\n"
      ],
      "metadata": {
        "id": "ovjCyA8YdaZd"
      }
    },
    {
      "cell_type": "markdown",
      "source": [
        "- Минимальное значение цены аренды rent_price_2room_eco - 0.1\n",
        "- Минимальное значение цены аренды rent_price_1room_eco - 2.3100"
      ],
      "metadata": {
        "id": "Z33oobHSdaZd"
      }
    },
    {
      "cell_type": "markdown",
      "source": [
        "## 1.3 Замените все ранее найденные ошибочные данные на None. Заполните все пропуски в данных: которые были и которые появились. Используйте как стратегии изученные на занятии, так и логику, которая вытекает из самих данных"
      ],
      "metadata": {
        "id": "ac-Ie6LNMsbG"
      }
    },
    {
      "cell_type": "markdown",
      "source": [
        "### 1.3.1 Главный набор данных"
      ],
      "metadata": {
        "id": "YCZtD33vNSjd"
      }
    },
    {
      "cell_type": "markdown",
      "source": [
        "- Решил провизуализировать данные, глазами в таблицу сложно смотреть"
      ],
      "metadata": {
        "id": "7dTJy-KxFj7v"
      }
    },
    {
      "cell_type": "code",
      "source": [
        "def visualize_dataframe(dataframe, ignore_types=['datetime64[ns]', 'object'], ignore_columns=['id'], method='boxplot'):\n",
        "    column_names = dataframe.columns.values\n",
        "    for column_name in column_names:\n",
        "        if dataframe[column_name].dtypes in ignore_types or column_name in ignore_columns:\n",
        "            continue\n",
        "        if method == 'boxplot':\n",
        "            sns.boxplot(x = dataframe[column_name])\n",
        "            plt.show()\n",
        "        if method == 'histplot':\n",
        "            sns.histplot(x = dataframe[column_name])\n",
        "            plt.show()"
      ],
      "metadata": {
        "id": "d2FmAW3yqsnN"
      },
      "execution_count": 26,
      "outputs": []
    },
    {
      "cell_type": "code",
      "source": [
        "visualize_dataframe(df)"
      ],
      "metadata": {
        "colab": {
          "base_uri": "https://localhost:8080/",
          "height": 1000
        },
        "id": "NPGi5gEwx9-2",
        "outputId": "c8ed9a0a-e147-457e-f3ba-31047140fc74"
      },
      "execution_count": 27,
      "outputs": [
        {
          "output_type": "display_data",
          "data": {
            "text/plain": [
              "<Figure size 432x288 with 1 Axes>"
            ],
            "image/png": "[encoded data removed]"
          },
          "metadata": {
            "needs_background": "light"
          }
        },
        {
          "output_type": "display_data",
          "data": {
            "text/plain": [
              "<Figure size 432x288 with 1 Axes>"
            ],
            "image/png": "[encoded data removed]"
          },
          "metadata": {
            "needs_background": "light"
          }
        },
        {
          "output_type": "display_data",
          "data": {
            "text/plain": [
              "<Figure size 432x288 with 1 Axes>"
            ],
            "image/png": "[encoded data removed]"
          },
          "metadata": {
            "needs_background": "light"
          }
        },
        {
          "output_type": "display_data",
          "data": {
            "text/plain": [
              "<Figure size 432x288 with 1 Axes>"
            ],
            "image/png": "[encoded data removed]"
          },
          "metadata": {
            "needs_background": "light"
          }
        },
        {
          "output_type": "display_data",
          "data": {
            "text/plain": [
              "<Figure size 432x288 with 1 Axes>"
            ],
            "image/png": "[encoded data removed]"
          },
          "metadata": {
            "needs_background": "light"
          }
        },
        {
          "output_type": "display_data",
          "data": {
            "text/plain": [
              "<Figure size 432x288 with 1 Axes>"
            ],
            "image/png": "[encoded data removed]"
          },
          "metadata": {
            "needs_background": "light"
          }
        },
        {
          "output_type": "display_data",
          "data": {
            "text/plain": [
              "<Figure size 432x288 with 1 Axes>"
            ],
            "image/png": "[encoded data removed]"
          },
          "metadata": {
            "needs_background": "light"
          }
        },
        {
          "output_type": "display_data",
          "data": {
            "text/plain": [
              "<Figure size 432x288 with 1 Axes>"
            ],
            "image/png": "[encoded data removed]"
          },
          "metadata": {
            "needs_background": "light"
          }
        },
        {
          "output_type": "display_data",
          "data": {
            "text/plain": [
              "<Figure size 432x288 with 1 Axes>"
            ],
            "image/png": "[encoded data removed]"
          },
          "metadata": {
            "needs_background": "light"
          }
        },
        {
          "output_type": "display_data",
          "data": {
            "text/plain": [
              "<Figure size 432x288 with 1 Axes>"
            ],
            "image/png": "[encoded data removed]"
          },
          "metadata": {
            "needs_background": "light"
          }
        }
      ]
    },
    {
      "cell_type": "markdown",
      "source": [
        "- Явно видно что есть выбросы в full_sq, life_sq, floor, state, kitch_sq, остальное выглядит в общей мере адекватно"
      ],
      "metadata": {
        "id": "HKPKLx3Q7hn-"
      }
    },
    {
      "cell_type": "markdown",
      "source": [
        "- Функция которая будет обнулять выбросы, выходящие за 99.99% процентиль\n",
        "- Помимо чего добавлю аргумент в функцию roll_num переменный, чтобы обнуление можно было делать несколько разa, некоторые выбросы например в колонне kitch_sq, обнуляются только после второго раза вызова функции"
      ],
      "metadata": {
        "id": "rdQK1OT0EXFA"
      }
    },
    {
      "cell_type": "code",
      "source": [
        "def clear_outliers(dataframe, roll_num=1, high_quantile=0.99, low_quantile=0.01, on_columns=None, ignore_types=['datetime64[ns]', 'object'], ignore_columns=['id']):\n",
        "    def do_clean(columns_to_clean):\n",
        "        for column_name in columns_to_clean:\n",
        "            if dataframe[column_name].dtypes in ignore_types or column_name in ignore_columns:\n",
        "                continue\n",
        "            for i in range(roll_num):\n",
        "                # 99.99% high percentile\n",
        "                # percentile_high = dataframe[column_name].quantile(0.9999)\n",
        "                percentile_high = dataframe[column_name].quantile(high_quantile)\n",
        "                # 0.001% low percentile\n",
        "                percentile_low = dataframe[column_name].quantile(low_quantile)\n",
        "                # making outliers obsolete \n",
        "                dataframe[column_name] = dataframe[column_name].apply(lambda x: np.nan if x > percentile_high else x)\n",
        "                dataframe[column_name] = dataframe[column_name].apply(lambda x: np.nan if x < percentile_low else x)\n",
        "        return dataframe\n",
        "\n",
        "    if on_columns is not None:\n",
        "        return do_clean(on_columns)\n",
        "\n",
        "    all_column_names = dataframe.columns.values\n",
        "    return do_clean(all_column_names)"
      ],
      "metadata": {
        "id": "U5eg_IbqgwPN"
      },
      "execution_count": 28,
      "outputs": []
    },
    {
      "cell_type": "code",
      "source": [
        "df = clear_outliers(df, high_quantile=0.9999, low_quantile=0.0001, roll_num=2)"
      ],
      "metadata": {
        "id": "lR8RuEGpg_w3"
      },
      "execution_count": 29,
      "outputs": []
    },
    {
      "cell_type": "markdown",
      "source": [
        "- Собственно выбрал 99.99% процентиль потому что выбросов у нас не так много и при этом они больше среднего показателя в 100+ раз"
      ],
      "metadata": {
        "id": "nLeuiYIABcJr"
      }
    },
    {
      "cell_type": "code",
      "source": [
        "visualize_dataframe(df)"
      ],
      "metadata": {
        "colab": {
          "base_uri": "https://localhost:8080/",
          "height": 1000
        },
        "id": "lB2XhyaaAo35",
        "outputId": "1e2dffe7-ac0e-4d84-b5eb-3c9f6037916f"
      },
      "execution_count": 30,
      "outputs": [
        {
          "output_type": "display_data",
          "data": {
            "text/plain": [
              "<Figure size 432x288 with 1 Axes>"
            ],
            "image/png": "[encoded data removed]"
          },
          "metadata": {
            "needs_background": "light"
          }
        },
        {
          "output_type": "display_data",
          "data": {
            "text/plain": [
              "<Figure size 432x288 with 1 Axes>"
            ],
            "image/png": "[encoded data removed]"
          },
          "metadata": {
            "needs_background": "light"
          }
        },
        {
          "output_type": "display_data",
          "data": {
            "text/plain": [
              "<Figure size 432x288 with 1 Axes>"
            ],
            "image/png": "[encoded data removed]"
          },
          "metadata": {
            "needs_background": "light"
          }
        },
        {
          "output_type": "display_data",
          "data": {
            "text/plain": [
              "<Figure size 432x288 with 1 Axes>"
            ],
            "image/png": "[encoded data removed]"
          },
          "metadata": {
            "needs_background": "light"
          }
        },
        {
          "output_type": "display_data",
          "data": {
            "text/plain": [
              "<Figure size 432x288 with 1 Axes>"
            ],
            "image/png": "[encoded data removed]"
          },
          "metadata": {
            "needs_background": "light"
          }
        },
        {
          "output_type": "display_data",
          "data": {
            "text/plain": [
              "<Figure size 432x288 with 1 Axes>"
            ],
            "image/png": "[encoded data removed]"
          },
          "metadata": {
            "needs_background": "light"
          }
        },
        {
          "output_type": "display_data",
          "data": {
            "text/plain": [
              "<Figure size 432x288 with 1 Axes>"
            ],
            "image/png": "[encoded data removed]"
          },
          "metadata": {
            "needs_background": "light"
          }
        },
        {
          "output_type": "display_data",
          "data": {
            "text/plain": [
              "<Figure size 432x288 with 1 Axes>"
            ],
            "image/png": "[encoded data removed]"
          },
          "metadata": {
            "needs_background": "light"
          }
        },
        {
          "output_type": "display_data",
          "data": {
            "text/plain": [
              "<Figure size 432x288 with 1 Axes>"
            ],
            "image/png": "[encoded data removed]"
          },
          "metadata": {
            "needs_background": "light"
          }
        },
        {
          "output_type": "display_data",
          "data": {
            "text/plain": [
              "<Figure size 432x288 with 1 Axes>"
            ],
            "image/png": "[encoded data removed]"
          },
          "metadata": {
            "needs_background": "light"
          }
        }
      ]
    },
    {
      "cell_type": "markdown",
      "source": [
        "- После обнуления выбросов, собственно видно что данные стали более стабильными, если можно так сказать и более сгруппированы вокруг среднего значения"
      ],
      "metadata": {
        "id": "EkS0gh2cCLXN"
      }
    },
    {
      "cell_type": "code",
      "source": [
        "def count_nan(dataframe):\n",
        "    column_names = dataframe.columns.values\n",
        "    for column_name in column_names:\n",
        "        print(f'{column_name}: {dataframe[column_name].isna().sum()}')"
      ],
      "metadata": {
        "id": "L0rJBRLvQUbM"
      },
      "execution_count": 31,
      "outputs": []
    },
    {
      "cell_type": "code",
      "source": [
        "count_nan(df)"
      ],
      "metadata": {
        "colab": {
          "base_uri": "https://localhost:8080/"
        },
        "id": "kgO7vcDmFd_O",
        "outputId": "4325b7a9-b6a3-403d-921f-b0ec87cb259b"
      },
      "execution_count": 32,
      "outputs": [
        {
          "output_type": "stream",
          "name": "stdout",
          "text": [
            "id: 0\n",
            "timestamp: 0\n",
            "full_sq: 6\n",
            "life_sq: 1579\n",
            "floor: 31\n",
            "state: 3362\n",
            "max_floor: 1422\n",
            "material: 1421\n",
            "build_year: 2905\n",
            "num_room: 1425\n",
            "kitch_sq: 1425\n",
            "full_all: 1\n",
            "sub_area: 0\n",
            "price_doc: 7\n"
          ]
        }
      ]
    },
    {
      "cell_type": "markdown",
      "source": [
        "- Замена пустых значений на среднее значение конкретной колонны"
      ],
      "metadata": {
        "id": "nlGX-Q34UGtE"
      }
    },
    {
      "cell_type": "code",
      "source": [
        "def fill_nan_data(dataframe, ignore_types=['datetime64[ns]', 'object'], ignore_columns=['id']):\n",
        "    column_names = dataframe.columns.values\n",
        "    for column_name in column_names:\n",
        "        if dataframe[column_name].dtypes in ignore_types or column_name in ignore_columns:\n",
        "            continue\n",
        "        column_mean = dataframe[column_name].mean()\n",
        "        dataframe[column_name].fillna(column_mean, inplace=True)\n",
        "    return dataframe"
      ],
      "metadata": {
        "id": "Zr9cQmj6Q3SI"
      },
      "execution_count": 33,
      "outputs": []
    },
    {
      "cell_type": "code",
      "source": [
        "df = fill_nan_data(df, ignore_columns=['sub_area'])\n",
        "df.sample(15)"
      ],
      "metadata": {
        "colab": {
          "base_uri": "https://localhost:8080/",
          "height": 520
        },
        "id": "mb87h3D8R6Pf",
        "outputId": "0c2a09fb-30e1-4c58-ecfc-9f0ee01aa9bd"
      },
      "execution_count": 34,
      "outputs": [
        {
          "output_type": "execute_result",
          "data": {
            "text/plain": [
              "          id  timestamp  full_sq  life_sq  floor  state  max_floor  material  \\\n",
              "9817   21542 2014-08-15     38.0   20.000   11.0    1.0       14.0       2.0   \n",
              "3699   14127 2014-01-25     53.0   30.000    7.0    2.0       14.0       1.0   \n",
              "12014  24339 2014-11-05     54.0   41.000    2.0    2.0        5.0       2.0   \n",
              "3676   14100 2014-01-24     65.0   45.000    1.0    3.0        9.0       5.0   \n",
              "12446  24896 2014-11-18     38.0   38.000    9.0    1.0       16.0       1.0   \n",
              "1751   11768 2013-11-01     38.0   33.746    1.0    1.0        1.0       1.0   \n",
              "14006  26857 2014-12-19    109.0   53.000   17.0    3.0       18.0       2.0   \n",
              "6599   17640 2014-04-21     48.0   42.000   11.0    1.0       25.0       1.0   \n",
              "2442   12620 2013-11-28     53.0   32.000    9.0    2.0       16.0       1.0   \n",
              "4814   15468 2014-02-26     49.0   29.000    3.0    2.0        3.0       2.0   \n",
              "14751  27770 2015-02-06     42.0   26.000    5.0    2.0        5.0       1.0   \n",
              "16444  29933 2015-05-26     62.0   34.000    2.0    1.0        9.0       1.0   \n",
              "7305   18509 2014-05-16     39.0   23.000    8.0    3.0       12.0       5.0   \n",
              "3720   14152 2014-01-27     47.0   27.000    9.0    2.0        9.0       1.0   \n",
              "4706   15334 2014-02-24     61.0   61.000   10.0    1.0       17.0       1.0   \n",
              "\n",
              "      build_year  num_room  kitch_sq   full_all                sub_area  \\\n",
              "9817  2014-01-01       1.0      10.0   247469.0              Nekrasovka   \n",
              "3699  1995-01-01       2.0       8.0    43795.0              Pechatniki   \n",
              "12014 1960-01-01       3.0       5.0    78810.0                 Koptevo   \n",
              "3676  1973-01-01       3.0       6.0    76284.0       Nagatinskij Zaton   \n",
              "12446 2014-01-01       1.0       0.0    21819.0  Poselenie Desjonovskoe   \n",
              "1751         NaT       1.0       1.0    21819.0  Poselenie Desjonovskoe   \n",
              "14006 2005-01-01       3.0      11.0   942118.0                 Kurkino   \n",
              "6599  2014-01-01       1.0       1.0   247469.0              Nekrasovka   \n",
              "2442  1976-01-01       2.0       9.0   113897.0      Troparevo-Nikulino   \n",
              "4814  1950-01-01       2.0       7.0   101982.0          Tekstil'shhiki   \n",
              "14751 1964-01-01       2.0       5.0  1452550.0             Bogorodskoe   \n",
              "16444 2016-01-01       2.0      12.0   116742.0                Tverskoe   \n",
              "7305  1964-01-01       2.0       6.0    57999.0             Presnenskoe   \n",
              "3720  1972-01-01       2.0       5.0    81980.0            Jaroslavskoe   \n",
              "4706         NaT       2.0       0.0     7341.0    Poselenie Moskovskij   \n",
              "\n",
              "        price_doc  \n",
              "9817   4.8500e+06  \n",
              "3699   8.2000e+06  \n",
              "12014  8.7000e+06  \n",
              "3676   1.0100e+07  \n",
              "12446  3.8136e+06  \n",
              "1751   3.6817e+06  \n",
              "14006  1.9000e+07  \n",
              "6599   5.3130e+06  \n",
              "2442   1.0000e+06  \n",
              "4814   6.6500e+06  \n",
              "14751  6.3000e+06  \n",
              "16444  8.0213e+06  \n",
              "7305   9.5000e+06  \n",
              "3720   6.2000e+06  \n",
              "4706   5.5258e+06  "
            ],
            "text/html": [
              "\n",
              "  <div id=\"df-05d7de0d-7eb6-4689-bf2d-66721bedda2e\">\n",
              "    <div class=\"colab-df-container\">\n",
              "      <div>\n",
              "<style scoped>\n",
              "    .dataframe tbody tr th:only-of-type {\n",
              "        vertical-align: middle;\n",
              "    }\n",
              "\n",
              "    .dataframe tbody tr th {\n",
              "        vertical-align: top;\n",
              "    }\n",
              "\n",
              "    .dataframe thead th {\n",
              "        text-align: right;\n",
              "    }\n",
              "</style>\n",
              "<table border=\"1\" class=\"dataframe\">\n",
              "  <thead>\n",
              "    <tr style=\"text-align: right;\">\n",
              "      <th></th>\n",
              "      <th>id</th>\n",
              "      <th>timestamp</th>\n",
              "      <th>full_sq</th>\n",
              "      <th>life_sq</th>\n",
              "      <th>floor</th>\n",
              "      <th>state</th>\n",
              "      <th>max_floor</th>\n",
              "      <th>material</th>\n",
              "      <th>build_year</th>\n",
              "      <th>num_room</th>\n",
              "      <th>kitch_sq</th>\n",
              "      <th>full_all</th>\n",
              "      <th>sub_area</th>\n",
              "      <th>price_doc</th>\n",
              "    </tr>\n",
              "  </thead>\n",
              "  <tbody>\n",
              "    <tr>\n",
              "      <th>9817</th>\n",
              "      <td>21542</td>\n",
              "      <td>2014-08-15</td>\n",
              "      <td>38.0</td>\n",
              "      <td>20.000</td>\n",
              "      <td>11.0</td>\n",
              "      <td>1.0</td>\n",
              "      <td>14.0</td>\n",
              "      <td>2.0</td>\n",
              "      <td>2014-01-01</td>\n",
              "      <td>1.0</td>\n",
              "      <td>10.0</td>\n",
              "      <td>247469.0</td>\n",
              "      <td>Nekrasovka</td>\n",
              "      <td>4.8500e+06</td>\n",
              "    </tr>\n",
              "    <tr>\n",
              "      <th>3699</th>\n",
              "      <td>14127</td>\n",
              "      <td>2014-01-25</td>\n",
              "      <td>53.0</td>\n",
              "      <td>30.000</td>\n",
              "      <td>7.0</td>\n",
              "      <td>2.0</td>\n",
              "      <td>14.0</td>\n",
              "      <td>1.0</td>\n",
              "      <td>1995-01-01</td>\n",
              "      <td>2.0</td>\n",
              "      <td>8.0</td>\n",
              "      <td>43795.0</td>\n",
              "      <td>Pechatniki</td>\n",
              "      <td>8.2000e+06</td>\n",
              "    </tr>\n",
              "    <tr>\n",
              "      <th>12014</th>\n",
              "      <td>24339</td>\n",
              "      <td>2014-11-05</td>\n",
              "      <td>54.0</td>\n",
              "      <td>41.000</td>\n",
              "      <td>2.0</td>\n",
              "      <td>2.0</td>\n",
              "      <td>5.0</td>\n",
              "      <td>2.0</td>\n",
              "      <td>1960-01-01</td>\n",
              "      <td>3.0</td>\n",
              "      <td>5.0</td>\n",
              "      <td>78810.0</td>\n",
              "      <td>Koptevo</td>\n",
              "      <td>8.7000e+06</td>\n",
              "    </tr>\n",
              "    <tr>\n",
              "      <th>3676</th>\n",
              "      <td>14100</td>\n",
              "      <td>2014-01-24</td>\n",
              "      <td>65.0</td>\n",
              "      <td>45.000</td>\n",
              "      <td>1.0</td>\n",
              "      <td>3.0</td>\n",
              "      <td>9.0</td>\n",
              "      <td>5.0</td>\n",
              "      <td>1973-01-01</td>\n",
              "      <td>3.0</td>\n",
              "      <td>6.0</td>\n",
              "      <td>76284.0</td>\n",
              "      <td>Nagatinskij Zaton</td>\n",
              "      <td>1.0100e+07</td>\n",
              "    </tr>\n",
              "    <tr>\n",
              "      <th>12446</th>\n",
              "      <td>24896</td>\n",
              "      <td>2014-11-18</td>\n",
              "      <td>38.0</td>\n",
              "      <td>38.000</td>\n",
              "      <td>9.0</td>\n",
              "      <td>1.0</td>\n",
              "      <td>16.0</td>\n",
              "      <td>1.0</td>\n",
              "      <td>2014-01-01</td>\n",
              "      <td>1.0</td>\n",
              "      <td>0.0</td>\n",
              "      <td>21819.0</td>\n",
              "      <td>Poselenie Desjonovskoe</td>\n",
              "      <td>3.8136e+06</td>\n",
              "    </tr>\n",
              "    <tr>\n",
              "      <th>1751</th>\n",
              "      <td>11768</td>\n",
              "      <td>2013-11-01</td>\n",
              "      <td>38.0</td>\n",
              "      <td>33.746</td>\n",
              "      <td>1.0</td>\n",
              "      <td>1.0</td>\n",
              "      <td>1.0</td>\n",
              "      <td>1.0</td>\n",
              "      <td>NaT</td>\n",
              "      <td>1.0</td>\n",
              "      <td>1.0</td>\n",
              "      <td>21819.0</td>\n",
              "      <td>Poselenie Desjonovskoe</td>\n",
              "      <td>3.6817e+06</td>\n",
              "    </tr>\n",
              "    <tr>\n",
              "      <th>14006</th>\n",
              "      <td>26857</td>\n",
              "      <td>2014-12-19</td>\n",
              "      <td>109.0</td>\n",
              "      <td>53.000</td>\n",
              "      <td>17.0</td>\n",
              "      <td>3.0</td>\n",
              "      <td>18.0</td>\n",
              "      <td>2.0</td>\n",
              "      <td>2005-01-01</td>\n",
              "      <td>3.0</td>\n",
              "      <td>11.0</td>\n",
              "      <td>942118.0</td>\n",
              "      <td>Kurkino</td>\n",
              "      <td>1.9000e+07</td>\n",
              "    </tr>\n",
              "    <tr>\n",
              "      <th>6599</th>\n",
              "      <td>17640</td>\n",
              "      <td>2014-04-21</td>\n",
              "      <td>48.0</td>\n",
              "      <td>42.000</td>\n",
              "      <td>11.0</td>\n",
              "      <td>1.0</td>\n",
              "      <td>25.0</td>\n",
              "      <td>1.0</td>\n",
              "      <td>2014-01-01</td>\n",
              "      <td>1.0</td>\n",
              "      <td>1.0</td>\n",
              "      <td>247469.0</td>\n",
              "      <td>Nekrasovka</td>\n",
              "      <td>5.3130e+06</td>\n",
              "    </tr>\n",
              "    <tr>\n",
              "      <th>2442</th>\n",
              "      <td>12620</td>\n",
              "      <td>2013-11-28</td>\n",
              "      <td>53.0</td>\n",
              "      <td>32.000</td>\n",
              "      <td>9.0</td>\n",
              "      <td>2.0</td>\n",
              "      <td>16.0</td>\n",
              "      <td>1.0</td>\n",
              "      <td>1976-01-01</td>\n",
              "      <td>2.0</td>\n",
              "      <td>9.0</td>\n",
              "      <td>113897.0</td>\n",
              "      <td>Troparevo-Nikulino</td>\n",
              "      <td>1.0000e+06</td>\n",
              "    </tr>\n",
              "    <tr>\n",
              "      <th>4814</th>\n",
              "      <td>15468</td>\n",
              "      <td>2014-02-26</td>\n",
              "      <td>49.0</td>\n",
              "      <td>29.000</td>\n",
              "      <td>3.0</td>\n",
              "      <td>2.0</td>\n",
              "      <td>3.0</td>\n",
              "      <td>2.0</td>\n",
              "      <td>1950-01-01</td>\n",
              "      <td>2.0</td>\n",
              "      <td>7.0</td>\n",
              "      <td>101982.0</td>\n",
              "      <td>Tekstil'shhiki</td>\n",
              "      <td>6.6500e+06</td>\n",
              "    </tr>\n",
              "    <tr>\n",
              "      <th>14751</th>\n",
              "      <td>27770</td>\n",
              "      <td>2015-02-06</td>\n",
              "      <td>42.0</td>\n",
              "      <td>26.000</td>\n",
              "      <td>5.0</td>\n",
              "      <td>2.0</td>\n",
              "      <td>5.0</td>\n",
              "      <td>1.0</td>\n",
              "      <td>1964-01-01</td>\n",
              "      <td>2.0</td>\n",
              "      <td>5.0</td>\n",
              "      <td>1452550.0</td>\n",
              "      <td>Bogorodskoe</td>\n",
              "      <td>6.3000e+06</td>\n",
              "    </tr>\n",
              "    <tr>\n",
              "      <th>16444</th>\n",
              "      <td>29933</td>\n",
              "      <td>2015-05-26</td>\n",
              "      <td>62.0</td>\n",
              "      <td>34.000</td>\n",
              "      <td>2.0</td>\n",
              "      <td>1.0</td>\n",
              "      <td>9.0</td>\n",
              "      <td>1.0</td>\n",
              "      <td>2016-01-01</td>\n",
              "      <td>2.0</td>\n",
              "      <td>12.0</td>\n",
              "      <td>116742.0</td>\n",
              "      <td>Tverskoe</td>\n",
              "      <td>8.0213e+06</td>\n",
              "    </tr>\n",
              "    <tr>\n",
              "      <th>7305</th>\n",
              "      <td>18509</td>\n",
              "      <td>2014-05-16</td>\n",
              "      <td>39.0</td>\n",
              "      <td>23.000</td>\n",
              "      <td>8.0</td>\n",
              "      <td>3.0</td>\n",
              "      <td>12.0</td>\n",
              "      <td>5.0</td>\n",
              "      <td>1964-01-01</td>\n",
              "      <td>2.0</td>\n",
              "      <td>6.0</td>\n",
              "      <td>57999.0</td>\n",
              "      <td>Presnenskoe</td>\n",
              "      <td>9.5000e+06</td>\n",
              "    </tr>\n",
              "    <tr>\n",
              "      <th>3720</th>\n",
              "      <td>14152</td>\n",
              "      <td>2014-01-27</td>\n",
              "      <td>47.0</td>\n",
              "      <td>27.000</td>\n",
              "      <td>9.0</td>\n",
              "      <td>2.0</td>\n",
              "      <td>9.0</td>\n",
              "      <td>1.0</td>\n",
              "      <td>1972-01-01</td>\n",
              "      <td>2.0</td>\n",
              "      <td>5.0</td>\n",
              "      <td>81980.0</td>\n",
              "      <td>Jaroslavskoe</td>\n",
              "      <td>6.2000e+06</td>\n",
              "    </tr>\n",
              "    <tr>\n",
              "      <th>4706</th>\n",
              "      <td>15334</td>\n",
              "      <td>2014-02-24</td>\n",
              "      <td>61.0</td>\n",
              "      <td>61.000</td>\n",
              "      <td>10.0</td>\n",
              "      <td>1.0</td>\n",
              "      <td>17.0</td>\n",
              "      <td>1.0</td>\n",
              "      <td>NaT</td>\n",
              "      <td>2.0</td>\n",
              "      <td>0.0</td>\n",
              "      <td>7341.0</td>\n",
              "      <td>Poselenie Moskovskij</td>\n",
              "      <td>5.5258e+06</td>\n",
              "    </tr>\n",
              "  </tbody>\n",
              "</table>\n",
              "</div>\n",
              "      <button class=\"colab-df-convert\" onclick=\"convertToInteractive('df-05d7de0d-7eb6-4689-bf2d-66721bedda2e')\"\n",
              "              title=\"Convert this dataframe to an interactive table.\"\n",
              "              style=\"display:none;\">\n",
              "        \n",
              "  <svg xmlns=\"http://www.w3.org/2000/svg\" height=\"24px\"viewBox=\"0 0 24 24\"\n",
              "       width=\"24px\">\n",
              "    <path d=\"M0 0h24v24H0V0z\" fill=\"none\"/>\n",
              "    <path d=\"M18.56 5.44l.94 2.06.94-2.06 2.06-.94-2.06-.94-.94-2.06-.94 2.06-2.06.94zm-11 1L8.5 8.5l.94-2.06 2.06-.94-2.06-.94L8.5 2.5l-.94 2.06-2.06.94zm10 10l.94 2.06.94-2.06 2.06-.94-2.06-.94-.94-2.06-.94 2.06-2.06.94z\"/><path d=\"M17.41 7.96l-1.37-1.37c-.4-.4-.92-.59-1.43-.59-.52 0-1.04.2-1.43.59L10.3 9.45l-7.72 7.72c-.78.78-.78 2.05 0 2.83L4 21.41c.39.39.9.59 1.41.59.51 0 1.02-.2 1.41-.59l7.78-7.78 2.81-2.81c.8-.78.8-2.07 0-2.86zM5.41 20L4 18.59l7.72-7.72 1.47 1.35L5.41 20z\"/>\n",
              "  </svg>\n",
              "      </button>\n",
              "      \n",
              "  <style>\n",
              "    .colab-df-container {\n",
              "      display:flex;\n",
              "      flex-wrap:wrap;\n",
              "      gap: 12px;\n",
              "    }\n",
              "\n",
              "    .colab-df-convert {\n",
              "      background-color: #E8F0FE;\n",
              "      border: none;\n",
              "      border-radius: 50%;\n",
              "      cursor: pointer;\n",
              "      display: none;\n",
              "      fill: #1967D2;\n",
              "      height: 32px;\n",
              "      padding: 0 0 0 0;\n",
              "      width: 32px;\n",
              "    }\n",
              "\n",
              "    .colab-df-convert:hover {\n",
              "      background-color: #E2EBFA;\n",
              "      box-shadow: 0px 1px 2px rgba(60, 64, 67, 0.3), 0px 1px 3px 1px rgba(60, 64, 67, 0.15);\n",
              "      fill: #174EA6;\n",
              "    }\n",
              "\n",
              "    [theme=dark] .colab-df-convert {\n",
              "      background-color: #3B4455;\n",
              "      fill: #D2E3FC;\n",
              "    }\n",
              "\n",
              "    [theme=dark] .colab-df-convert:hover {\n",
              "      background-color: #434B5C;\n",
              "      box-shadow: 0px 1px 3px 1px rgba(0, 0, 0, 0.15);\n",
              "      filter: drop-shadow(0px 1px 2px rgba(0, 0, 0, 0.3));\n",
              "      fill: #FFFFFF;\n",
              "    }\n",
              "  </style>\n",
              "\n",
              "      <script>\n",
              "        const buttonEl =\n",
              "          document.querySelector('#df-05d7de0d-7eb6-4689-bf2d-66721bedda2e button.colab-df-convert');\n",
              "        buttonEl.style.display =\n",
              "          google.colab.kernel.accessAllowed ? 'block' : 'none';\n",
              "\n",
              "        async function convertToInteractive(key) {\n",
              "          const element = document.querySelector('#df-05d7de0d-7eb6-4689-bf2d-66721bedda2e');\n",
              "          const dataTable =\n",
              "            await google.colab.kernel.invokeFunction('convertToInteractive',\n",
              "                                                     [key], {});\n",
              "          if (!dataTable) return;\n",
              "\n",
              "          const docLinkHtml = 'Like what you see? Visit the ' +\n",
              "            '<a target=\"_blank\" href=https://colab.research.google.com/notebooks/data_table.ipynb>data table notebook</a>'\n",
              "            + ' to learn more about interactive tables.';\n",
              "          element.innerHTML = '';\n",
              "          dataTable['output_type'] = 'display_data';\n",
              "          await google.colab.output.renderOutput(dataTable, element);\n",
              "          const docLink = document.createElement('div');\n",
              "          docLink.innerHTML = docLinkHtml;\n",
              "          element.appendChild(docLink);\n",
              "        }\n",
              "      </script>\n",
              "    </div>\n",
              "  </div>\n",
              "  "
            ]
          },
          "metadata": {},
          "execution_count": 34
        }
      ]
    },
    {
      "cell_type": "markdown",
      "source": [
        "- Количество пустых значений после замены nan на среднее значение конкретной колонны"
      ],
      "metadata": {
        "id": "1PZfKeZ5UdaI"
      }
    },
    {
      "cell_type": "code",
      "source": [
        "count_nan(df)"
      ],
      "metadata": {
        "colab": {
          "base_uri": "https://localhost:8080/"
        },
        "id": "2HiEub2zTQJL",
        "outputId": "471810e4-657c-4747-efea-07dbc7d1e0ff"
      },
      "execution_count": 35,
      "outputs": [
        {
          "output_type": "stream",
          "name": "stdout",
          "text": [
            "id: 0\n",
            "timestamp: 0\n",
            "full_sq: 0\n",
            "life_sq: 0\n",
            "floor: 0\n",
            "state: 0\n",
            "max_floor: 0\n",
            "material: 0\n",
            "build_year: 2905\n",
            "num_room: 0\n",
            "kitch_sq: 0\n",
            "full_all: 0\n",
            "sub_area: 0\n",
            "price_doc: 0\n"
          ]
        }
      ]
    },
    {
      "cell_type": "markdown",
      "source": [
        "- Визуализируем датафрейм еще раз"
      ],
      "metadata": {
        "id": "JTGmqBWwU17E"
      }
    },
    {
      "cell_type": "code",
      "source": [
        "visualize_dataframe(df)"
      ],
      "metadata": {
        "colab": {
          "base_uri": "https://localhost:8080/",
          "height": 1000
        },
        "id": "1Z2LugWQUxPf",
        "outputId": "197052e1-7bb9-414d-b69c-8f82d39b9d00"
      },
      "execution_count": 36,
      "outputs": [
        {
          "output_type": "display_data",
          "data": {
            "text/plain": [
              "<Figure size 432x288 with 1 Axes>"
            ],
            "image/png": "[encoded data removed]"
          },
          "metadata": {
            "needs_background": "light"
          }
        },
        {
          "output_type": "display_data",
          "data": {
            "text/plain": [
              "<Figure size 432x288 with 1 Axes>"
            ],
            "image/png": "[encoded data removed]"
          },
          "metadata": {
            "needs_background": "light"
          }
        },
        {
          "output_type": "display_data",
          "data": {
            "text/plain": [
              "<Figure size 432x288 with 1 Axes>"
            ],
            "image/png": "[encoded data removed]"
          },
          "metadata": {
            "needs_background": "light"
          }
        },
        {
          "output_type": "display_data",
          "data": {
            "text/plain": [
              "<Figure size 432x288 with 1 Axes>"
            ],
            "image/png": "[encoded data removed]"
          },
          "metadata": {
            "needs_background": "light"
          }
        },
        {
          "output_type": "display_data",
          "data": {
            "text/plain": [
              "<Figure size 432x288 with 1 Axes>"
            ],
            "image/png": "[encoded data removed]"
          },
          "metadata": {
            "needs_background": "light"
          }
        },
        {
          "output_type": "display_data",
          "data": {
            "text/plain": [
              "<Figure size 432x288 with 1 Axes>"
            ],
            "image/png": "[encoded data removed]"
          },
          "metadata": {
            "needs_background": "light"
          }
        },
        {
          "output_type": "display_data",
          "data": {
            "text/plain": [
              "<Figure size 432x288 with 1 Axes>"
            ],
            "image/png": "[encoded data removed]"
          },
          "metadata": {
            "needs_background": "light"
          }
        },
        {
          "output_type": "display_data",
          "data": {
            "text/plain": [
              "<Figure size 432x288 with 1 Axes>"
            ],
            "image/png": "[encoded data removed]"
          },
          "metadata": {
            "needs_background": "light"
          }
        },
        {
          "output_type": "display_data",
          "data": {
            "text/plain": [
              "<Figure size 432x288 with 1 Axes>"
            ],
            "image/png": "[encoded data removed]"
          },
          "metadata": {
            "needs_background": "light"
          }
        },
        {
          "output_type": "display_data",
          "data": {
            "text/plain": [
              "<Figure size 432x288 with 1 Axes>"
            ],
            "image/png": "[encoded data removed]"
          },
          "metadata": {
            "needs_background": "light"
          }
        }
      ]
    },
    {
      "cell_type": "markdown",
      "source": [
        "### 1.3.2 Набор с макропоказателями"
      ],
      "metadata": {
        "id": "IzqxQKoTNbNV"
      }
    },
    {
      "cell_type": "markdown",
      "source": [
        "- В визуализации видно что есть небольшое количество выборосов, но ситуация явно лучше чем в первом датасете"
      ],
      "metadata": {
        "id": "CZX5NS8eVJ9K"
      }
    },
    {
      "cell_type": "code",
      "source": [
        "visualize_dataframe(macro)"
      ],
      "metadata": {
        "id": "j3du90RSNSM5",
        "colab": {
          "base_uri": "https://localhost:8080/",
          "height": 1000
        },
        "outputId": "699357b6-7764-4144-a7a9-ef1a28712534"
      },
      "execution_count": 37,
      "outputs": [
        {
          "output_type": "display_data",
          "data": {
            "text/plain": [
              "<Figure size 432x288 with 1 Axes>"
            ],
            "image/png": "[encoded data removed]"
          },
          "metadata": {
            "needs_background": "light"
          }
        },
        {
          "output_type": "display_data",
          "data": {
            "text/plain": [
              "<Figure size 432x288 with 1 Axes>"
            ],
            "image/png": "[encoded data removed]"
          },
          "metadata": {
            "needs_background": "light"
          }
        },
        {
          "output_type": "display_data",
          "data": {
            "text/plain": [
              "<Figure size 432x288 with 1 Axes>"
            ],
            "image/png": "[encoded data removed]"
          },
          "metadata": {
            "needs_background": "light"
          }
        },
        {
          "output_type": "display_data",
          "data": {
            "text/plain": [
              "<Figure size 432x288 with 1 Axes>"
            ],
            "image/png": "[encoded data removed]"
          },
          "metadata": {
            "needs_background": "light"
          }
        },
        {
          "output_type": "display_data",
          "data": {
            "text/plain": [
              "<Figure size 432x288 with 1 Axes>"
            ],
            "image/png": "[encoded data removed]"
          },
          "metadata": {
            "needs_background": "light"
          }
        },
        {
          "output_type": "display_data",
          "data": {
            "text/plain": [
              "<Figure size 432x288 with 1 Axes>"
            ],
            "image/png": "[encoded data removed]"
          },
          "metadata": {
            "needs_background": "light"
          }
        }
      ]
    },
    {
      "cell_type": "markdown",
      "source": [
        "- Уберем некоторые очевидные выбросы, проигнорируя некоторые колонны в которых максимальные значения адекватные"
      ],
      "metadata": {
        "id": "zJwMimseYP5l"
      }
    },
    {
      "cell_type": "code",
      "source": [
        "macro = clear_outliers(macro, low_quantile=0.2, ignore_columns=['rent_price_3room_eco', 'average_life_exp'])"
      ],
      "metadata": {
        "id": "jRPyd7cnVT45"
      },
      "execution_count": 38,
      "outputs": []
    },
    {
      "cell_type": "code",
      "source": [
        "visualize_dataframe(macro)"
      ],
      "metadata": {
        "colab": {
          "base_uri": "https://localhost:8080/",
          "height": 1000
        },
        "id": "QXUk1-1YVqfU",
        "outputId": "932c5e1b-f096-4586-b68f-c6911527dc42"
      },
      "execution_count": 39,
      "outputs": [
        {
          "output_type": "display_data",
          "data": {
            "text/plain": [
              "<Figure size 432x288 with 1 Axes>"
            ],
            "image/png": "[encoded data removed]"
          },
          "metadata": {
            "needs_background": "light"
          }
        },
        {
          "output_type": "display_data",
          "data": {
            "text/plain": [
              "<Figure size 432x288 with 1 Axes>"
            ],
            "image/png": "[encoded data removed]"
          },
          "metadata": {
            "needs_background": "light"
          }
        },
        {
          "output_type": "display_data",
          "data": {
            "text/plain": [
              "<Figure size 432x288 with 1 Axes>"
            ],
            "image/png": "[encoded data removed]"
          },
          "metadata": {
            "needs_background": "light"
          }
        },
        {
          "output_type": "display_data",
          "data": {
            "text/plain": [
              "<Figure size 432x288 with 1 Axes>"
            ],
            "image/png": "[encoded data removed]"
          },
          "metadata": {
            "needs_background": "light"
          }
        },
        {
          "output_type": "display_data",
          "data": {
            "text/plain": [
              "<Figure size 432x288 with 1 Axes>"
            ],
            "image/png": "[encoded data removed]"
          },
          "metadata": {
            "needs_background": "light"
          }
        },
        {
          "output_type": "display_data",
          "data": {
            "text/plain": [
              "<Figure size 432x288 with 1 Axes>"
            ],
            "image/png": "[encoded data removed]"
          },
          "metadata": {
            "needs_background": "light"
          }
        }
      ]
    },
    {
      "cell_type": "code",
      "source": [
        "count_nan(macro)"
      ],
      "metadata": {
        "colab": {
          "base_uri": "https://localhost:8080/"
        },
        "id": "6i7zjCfUYVQV",
        "outputId": "90b09a2b-101c-442f-f81c-b1377fbc7009"
      },
      "execution_count": 40,
      "outputs": [
        {
          "output_type": "stream",
          "name": "stdout",
          "text": [
            "timestamp: 0\n",
            "salary: 658\n",
            "fixed_basket: 485\n",
            "rent_price_3room_eco: 273\n",
            "rent_price_2room_eco: 697\n",
            "rent_price_1room_eco: 700\n",
            "average_life_exp: 293\n"
          ]
        }
      ]
    },
    {
      "cell_type": "code",
      "source": [
        "macro = fill_nan_data(macro)\n",
        "macro.sample(15)"
      ],
      "metadata": {
        "colab": {
          "base_uri": "https://localhost:8080/",
          "height": 520
        },
        "id": "8HV3xP1pYbLi",
        "outputId": "19b5e0de-6e87-45a8-acfc-26e56bdef7c3"
      },
      "execution_count": 41,
      "outputs": [
        {
          "output_type": "execute_result",
          "data": {
            "text/plain": [
              "      timestamp      salary  fixed_basket  rent_price_3room_eco  \\\n",
              "364  2010-12-31  54943.1106    16131.2946               37.5400   \n",
              "1463 2014-01-03  61208.0000    15608.2700               47.0400   \n",
              "2439 2016-09-05  54943.1106    20354.7800               45.7100   \n",
              "1755 2014-10-22  61208.0000    16269.7900               52.8200   \n",
              "2057 2015-08-20  64310.0000    19042.9900               51.2300   \n",
              "2296 2016-04-15  54943.1106    19904.3100               47.9700   \n",
              "244  2010-09-02  54943.1106    16131.2946               47.2997   \n",
              "1067 2012-12-03  48830.4000    13948.2000               46.9400   \n",
              "1856 2015-01-31  64310.0000    17817.4000               52.6400   \n",
              "815  2012-03-26  48830.4000    13243.7700               45.3100   \n",
              "1736 2014-10-03  61208.0000    16269.7900               52.8200   \n",
              "1092 2012-12-28  48830.4000    13948.2000               46.9400   \n",
              "553  2011-07-08  44898.7000    12995.3700               43.4100   \n",
              "1009 2012-10-06  48830.4000    13807.3400               47.1900   \n",
              "926  2012-07-15  48830.4000    13762.4700               43.4200   \n",
              "\n",
              "      rent_price_2room_eco  rent_price_1room_eco  average_life_exp  \n",
              "364                40.2572               32.0755           74.2000  \n",
              "1463               41.4400               33.4900           76.7000  \n",
              "2439               38.4000               29.7800           75.9282  \n",
              "1755               43.8500               35.3700           76.7000  \n",
              "2057               39.9500               30.8900           76.7700  \n",
              "2296               40.2572               32.0755           75.9282  \n",
              "244                40.2572               32.0755           74.2000  \n",
              "1067               41.0100               33.1000           75.7400  \n",
              "1856               43.2900               33.8800           76.7700  \n",
              "815                38.4500               31.6400           75.7400  \n",
              "1736               43.8500               35.3700           76.7000  \n",
              "1092               41.0100               33.1000           75.7400  \n",
              "553                40.2572               32.0755           75.7900  \n",
              "1009               41.1900               32.6900           75.7400  \n",
              "926                38.2500               31.1000           75.7400  "
            ],
            "text/html": [
              "\n",
              "  <div id=\"df-cd803bbf-faed-496d-adf4-ea701fa22429\">\n",
              "    <div class=\"colab-df-container\">\n",
              "      <div>\n",
              "<style scoped>\n",
              "    .dataframe tbody tr th:only-of-type {\n",
              "        vertical-align: middle;\n",
              "    }\n",
              "\n",
              "    .dataframe tbody tr th {\n",
              "        vertical-align: top;\n",
              "    }\n",
              "\n",
              "    .dataframe thead th {\n",
              "        text-align: right;\n",
              "    }\n",
              "</style>\n",
              "<table border=\"1\" class=\"dataframe\">\n",
              "  <thead>\n",
              "    <tr style=\"text-align: right;\">\n",
              "      <th></th>\n",
              "      <th>timestamp</th>\n",
              "      <th>salary</th>\n",
              "      <th>fixed_basket</th>\n",
              "      <th>rent_price_3room_eco</th>\n",
              "      <th>rent_price_2room_eco</th>\n",
              "      <th>rent_price_1room_eco</th>\n",
              "      <th>average_life_exp</th>\n",
              "    </tr>\n",
              "  </thead>\n",
              "  <tbody>\n",
              "    <tr>\n",
              "      <th>364</th>\n",
              "      <td>2010-12-31</td>\n",
              "      <td>54943.1106</td>\n",
              "      <td>16131.2946</td>\n",
              "      <td>37.5400</td>\n",
              "      <td>40.2572</td>\n",
              "      <td>32.0755</td>\n",
              "      <td>74.2000</td>\n",
              "    </tr>\n",
              "    <tr>\n",
              "      <th>1463</th>\n",
              "      <td>2014-01-03</td>\n",
              "      <td>61208.0000</td>\n",
              "      <td>15608.2700</td>\n",
              "      <td>47.0400</td>\n",
              "      <td>41.4400</td>\n",
              "      <td>33.4900</td>\n",
              "      <td>76.7000</td>\n",
              "    </tr>\n",
              "    <tr>\n",
              "      <th>2439</th>\n",
              "      <td>2016-09-05</td>\n",
              "      <td>54943.1106</td>\n",
              "      <td>20354.7800</td>\n",
              "      <td>45.7100</td>\n",
              "      <td>38.4000</td>\n",
              "      <td>29.7800</td>\n",
              "      <td>75.9282</td>\n",
              "    </tr>\n",
              "    <tr>\n",
              "      <th>1755</th>\n",
              "      <td>2014-10-22</td>\n",
              "      <td>61208.0000</td>\n",
              "      <td>16269.7900</td>\n",
              "      <td>52.8200</td>\n",
              "      <td>43.8500</td>\n",
              "      <td>35.3700</td>\n",
              "      <td>76.7000</td>\n",
              "    </tr>\n",
              "    <tr>\n",
              "      <th>2057</th>\n",
              "      <td>2015-08-20</td>\n",
              "      <td>64310.0000</td>\n",
              "      <td>19042.9900</td>\n",
              "      <td>51.2300</td>\n",
              "      <td>39.9500</td>\n",
              "      <td>30.8900</td>\n",
              "      <td>76.7700</td>\n",
              "    </tr>\n",
              "    <tr>\n",
              "      <th>2296</th>\n",
              "      <td>2016-04-15</td>\n",
              "      <td>54943.1106</td>\n",
              "      <td>19904.3100</td>\n",
              "      <td>47.9700</td>\n",
              "      <td>40.2572</td>\n",
              "      <td>32.0755</td>\n",
              "      <td>75.9282</td>\n",
              "    </tr>\n",
              "    <tr>\n",
              "      <th>244</th>\n",
              "      <td>2010-09-02</td>\n",
              "      <td>54943.1106</td>\n",
              "      <td>16131.2946</td>\n",
              "      <td>47.2997</td>\n",
              "      <td>40.2572</td>\n",
              "      <td>32.0755</td>\n",
              "      <td>74.2000</td>\n",
              "    </tr>\n",
              "    <tr>\n",
              "      <th>1067</th>\n",
              "      <td>2012-12-03</td>\n",
              "      <td>48830.4000</td>\n",
              "      <td>13948.2000</td>\n",
              "      <td>46.9400</td>\n",
              "      <td>41.0100</td>\n",
              "      <td>33.1000</td>\n",
              "      <td>75.7400</td>\n",
              "    </tr>\n",
              "    <tr>\n",
              "      <th>1856</th>\n",
              "      <td>2015-01-31</td>\n",
              "      <td>64310.0000</td>\n",
              "      <td>17817.4000</td>\n",
              "      <td>52.6400</td>\n",
              "      <td>43.2900</td>\n",
              "      <td>33.8800</td>\n",
              "      <td>76.7700</td>\n",
              "    </tr>\n",
              "    <tr>\n",
              "      <th>815</th>\n",
              "      <td>2012-03-26</td>\n",
              "      <td>48830.4000</td>\n",
              "      <td>13243.7700</td>\n",
              "      <td>45.3100</td>\n",
              "      <td>38.4500</td>\n",
              "      <td>31.6400</td>\n",
              "      <td>75.7400</td>\n",
              "    </tr>\n",
              "    <tr>\n",
              "      <th>1736</th>\n",
              "      <td>2014-10-03</td>\n",
              "      <td>61208.0000</td>\n",
              "      <td>16269.7900</td>\n",
              "      <td>52.8200</td>\n",
              "      <td>43.8500</td>\n",
              "      <td>35.3700</td>\n",
              "      <td>76.7000</td>\n",
              "    </tr>\n",
              "    <tr>\n",
              "      <th>1092</th>\n",
              "      <td>2012-12-28</td>\n",
              "      <td>48830.4000</td>\n",
              "      <td>13948.2000</td>\n",
              "      <td>46.9400</td>\n",
              "      <td>41.0100</td>\n",
              "      <td>33.1000</td>\n",
              "      <td>75.7400</td>\n",
              "    </tr>\n",
              "    <tr>\n",
              "      <th>553</th>\n",
              "      <td>2011-07-08</td>\n",
              "      <td>44898.7000</td>\n",
              "      <td>12995.3700</td>\n",
              "      <td>43.4100</td>\n",
              "      <td>40.2572</td>\n",
              "      <td>32.0755</td>\n",
              "      <td>75.7900</td>\n",
              "    </tr>\n",
              "    <tr>\n",
              "      <th>1009</th>\n",
              "      <td>2012-10-06</td>\n",
              "      <td>48830.4000</td>\n",
              "      <td>13807.3400</td>\n",
              "      <td>47.1900</td>\n",
              "      <td>41.1900</td>\n",
              "      <td>32.6900</td>\n",
              "      <td>75.7400</td>\n",
              "    </tr>\n",
              "    <tr>\n",
              "      <th>926</th>\n",
              "      <td>2012-07-15</td>\n",
              "      <td>48830.4000</td>\n",
              "      <td>13762.4700</td>\n",
              "      <td>43.4200</td>\n",
              "      <td>38.2500</td>\n",
              "      <td>31.1000</td>\n",
              "      <td>75.7400</td>\n",
              "    </tr>\n",
              "  </tbody>\n",
              "</table>\n",
              "</div>\n",
              "      <button class=\"colab-df-convert\" onclick=\"convertToInteractive('df-cd803bbf-faed-496d-adf4-ea701fa22429')\"\n",
              "              title=\"Convert this dataframe to an interactive table.\"\n",
              "              style=\"display:none;\">\n",
              "        \n",
              "  <svg xmlns=\"http://www.w3.org/2000/svg\" height=\"24px\"viewBox=\"0 0 24 24\"\n",
              "       width=\"24px\">\n",
              "    <path d=\"M0 0h24v24H0V0z\" fill=\"none\"/>\n",
              "    <path d=\"M18.56 5.44l.94 2.06.94-2.06 2.06-.94-2.06-.94-.94-2.06-.94 2.06-2.06.94zm-11 1L8.5 8.5l.94-2.06 2.06-.94-2.06-.94L8.5 2.5l-.94 2.06-2.06.94zm10 10l.94 2.06.94-2.06 2.06-.94-2.06-.94-.94-2.06-.94 2.06-2.06.94z\"/><path d=\"M17.41 7.96l-1.37-1.37c-.4-.4-.92-.59-1.43-.59-.52 0-1.04.2-1.43.59L10.3 9.45l-7.72 7.72c-.78.78-.78 2.05 0 2.83L4 21.41c.39.39.9.59 1.41.59.51 0 1.02-.2 1.41-.59l7.78-7.78 2.81-2.81c.8-.78.8-2.07 0-2.86zM5.41 20L4 18.59l7.72-7.72 1.47 1.35L5.41 20z\"/>\n",
              "  </svg>\n",
              "      </button>\n",
              "      \n",
              "  <style>\n",
              "    .colab-df-container {\n",
              "      display:flex;\n",
              "      flex-wrap:wrap;\n",
              "      gap: 12px;\n",
              "    }\n",
              "\n",
              "    .colab-df-convert {\n",
              "      background-color: #E8F0FE;\n",
              "      border: none;\n",
              "      border-radius: 50%;\n",
              "      cursor: pointer;\n",
              "      display: none;\n",
              "      fill: #1967D2;\n",
              "      height: 32px;\n",
              "      padding: 0 0 0 0;\n",
              "      width: 32px;\n",
              "    }\n",
              "\n",
              "    .colab-df-convert:hover {\n",
              "      background-color: #E2EBFA;\n",
              "      box-shadow: 0px 1px 2px rgba(60, 64, 67, 0.3), 0px 1px 3px 1px rgba(60, 64, 67, 0.15);\n",
              "      fill: #174EA6;\n",
              "    }\n",
              "\n",
              "    [theme=dark] .colab-df-convert {\n",
              "      background-color: #3B4455;\n",
              "      fill: #D2E3FC;\n",
              "    }\n",
              "\n",
              "    [theme=dark] .colab-df-convert:hover {\n",
              "      background-color: #434B5C;\n",
              "      box-shadow: 0px 1px 3px 1px rgba(0, 0, 0, 0.15);\n",
              "      filter: drop-shadow(0px 1px 2px rgba(0, 0, 0, 0.3));\n",
              "      fill: #FFFFFF;\n",
              "    }\n",
              "  </style>\n",
              "\n",
              "      <script>\n",
              "        const buttonEl =\n",
              "          document.querySelector('#df-cd803bbf-faed-496d-adf4-ea701fa22429 button.colab-df-convert');\n",
              "        buttonEl.style.display =\n",
              "          google.colab.kernel.accessAllowed ? 'block' : 'none';\n",
              "\n",
              "        async function convertToInteractive(key) {\n",
              "          const element = document.querySelector('#df-cd803bbf-faed-496d-adf4-ea701fa22429');\n",
              "          const dataTable =\n",
              "            await google.colab.kernel.invokeFunction('convertToInteractive',\n",
              "                                                     [key], {});\n",
              "          if (!dataTable) return;\n",
              "\n",
              "          const docLinkHtml = 'Like what you see? Visit the ' +\n",
              "            '<a target=\"_blank\" href=https://colab.research.google.com/notebooks/data_table.ipynb>data table notebook</a>'\n",
              "            + ' to learn more about interactive tables.';\n",
              "          element.innerHTML = '';\n",
              "          dataTable['output_type'] = 'display_data';\n",
              "          await google.colab.output.renderOutput(dataTable, element);\n",
              "          const docLink = document.createElement('div');\n",
              "          docLink.innerHTML = docLinkHtml;\n",
              "          element.appendChild(docLink);\n",
              "        }\n",
              "      </script>\n",
              "    </div>\n",
              "  </div>\n",
              "  "
            ]
          },
          "metadata": {},
          "execution_count": 41
        }
      ]
    },
    {
      "cell_type": "code",
      "source": [
        "count_nan(macro)"
      ],
      "metadata": {
        "colab": {
          "base_uri": "https://localhost:8080/"
        },
        "id": "Qa1KQkOCYgCw",
        "outputId": "33fb1e0e-ea82-4e9e-f2f5-287edb03190d"
      },
      "execution_count": 42,
      "outputs": [
        {
          "output_type": "stream",
          "name": "stdout",
          "text": [
            "timestamp: 0\n",
            "salary: 0\n",
            "fixed_basket: 0\n",
            "rent_price_3room_eco: 0\n",
            "rent_price_2room_eco: 0\n",
            "rent_price_1room_eco: 0\n",
            "average_life_exp: 0\n"
          ]
        }
      ]
    },
    {
      "cell_type": "code",
      "source": [
        "visualize_dataframe(macro)"
      ],
      "metadata": {
        "colab": {
          "base_uri": "https://localhost:8080/",
          "height": 1000
        },
        "id": "RdXDBkOWYiLY",
        "outputId": "ba469002-3068-4421-a15f-1eb46bc01f72"
      },
      "execution_count": 43,
      "outputs": [
        {
          "output_type": "display_data",
          "data": {
            "text/plain": [
              "<Figure size 432x288 with 1 Axes>"
            ],
            "image/png": "[encoded data removed]"
          },
          "metadata": {
            "needs_background": "light"
          }
        },
        {
          "output_type": "display_data",
          "data": {
            "text/plain": [
              "<Figure size 432x288 with 1 Axes>"
            ],
            "image/png": "[encoded data removed]"
          },
          "metadata": {
            "needs_background": "light"
          }
        },
        {
          "output_type": "display_data",
          "data": {
            "text/plain": [
              "<Figure size 432x288 with 1 Axes>"
            ],
            "image/png": "[encoded data removed]"
          },
          "metadata": {
            "needs_background": "light"
          }
        },
        {
          "output_type": "display_data",
          "data": {
            "text/plain": [
              "<Figure size 432x288 with 1 Axes>"
            ],
            "image/png": "[encoded data removed]"
          },
          "metadata": {
            "needs_background": "light"
          }
        },
        {
          "output_type": "display_data",
          "data": {
            "text/plain": [
              "<Figure size 432x288 with 1 Axes>"
            ],
            "image/png": "[encoded data removed]"
          },
          "metadata": {
            "needs_background": "light"
          }
        },
        {
          "output_type": "display_data",
          "data": {
            "text/plain": [
              "<Figure size 432x288 with 1 Axes>"
            ],
            "image/png": "[encoded data removed]"
          },
          "metadata": {
            "needs_background": "light"
          }
        }
      ]
    },
    {
      "cell_type": "markdown",
      "source": [
        "- После махинаций со средними и пустыми значениями почти ничего не изменилось, только ушли аномальные выбросы"
      ],
      "metadata": {
        "id": "zm0uEhsjYmP3"
      }
    },
    {
      "cell_type": "markdown",
      "source": [
        "## 1.4 Обогатите основной набор данных данными из макропоказателей и поместите в переменную `df_full`"
      ],
      "metadata": {
        "id": "E1ic1LZoSWNx"
      }
    },
    {
      "cell_type": "code",
      "source": [
        "df.head(5)"
      ],
      "metadata": {
        "id": "Q8jFXRrGSlKp",
        "colab": {
          "base_uri": "https://localhost:8080/",
          "height": 206
        },
        "outputId": "f994189b-ff70-45a4-ec22-e55f5a990446"
      },
      "execution_count": 44,
      "outputs": [
        {
          "output_type": "execute_result",
          "data": {
            "text/plain": [
              "     id  timestamp  full_sq  life_sq  floor   state  max_floor  material  \\\n",
              "0  8059 2013-05-21     11.0     11.0    2.0  3.0000        5.0       2.0   \n",
              "1  8138 2013-05-25     53.0     30.0   10.0  3.0000       16.0       1.0   \n",
              "2  8156 2013-05-27     77.0     41.0    2.0  1.0000       17.0       6.0   \n",
              "3  8157 2013-05-27     45.0     27.0    6.0  3.0000        9.0       1.0   \n",
              "4  8178 2013-05-28     38.0     20.0   15.0  2.1993       16.0       1.0   \n",
              "\n",
              "  build_year  num_room  kitch_sq  full_all                 sub_area  price_doc  \n",
              "0 1907-01-01       1.0      12.0   75377.0                Hamovniki  2750000.0  \n",
              "1 1980-01-01       2.0       8.0   68630.0                Lianozovo  9000000.0  \n",
              "2 2014-01-01       3.0      12.0    9553.0  Poselenie Voskresenskoe  7011550.0  \n",
              "3 1970-01-01       2.0       6.0   78616.0          Severnoe Butovo  7100000.0  \n",
              "4 1982-01-01       1.0       8.0  112804.0           Filevskij Park  6450000.0  "
            ],
            "text/html": [
              "\n",
              "  <div id=\"df-5bf5f80b-123b-4459-9fc8-a81008ae704e\">\n",
              "    <div class=\"colab-df-container\">\n",
              "      <div>\n",
              "<style scoped>\n",
              "    .dataframe tbody tr th:only-of-type {\n",
              "        vertical-align: middle;\n",
              "    }\n",
              "\n",
              "    .dataframe tbody tr th {\n",
              "        vertical-align: top;\n",
              "    }\n",
              "\n",
              "    .dataframe thead th {\n",
              "        text-align: right;\n",
              "    }\n",
              "</style>\n",
              "<table border=\"1\" class=\"dataframe\">\n",
              "  <thead>\n",
              "    <tr style=\"text-align: right;\">\n",
              "      <th></th>\n",
              "      <th>id</th>\n",
              "      <th>timestamp</th>\n",
              "      <th>full_sq</th>\n",
              "      <th>life_sq</th>\n",
              "      <th>floor</th>\n",
              "      <th>state</th>\n",
              "      <th>max_floor</th>\n",
              "      <th>material</th>\n",
              "      <th>build_year</th>\n",
              "      <th>num_room</th>\n",
              "      <th>kitch_sq</th>\n",
              "      <th>full_all</th>\n",
              "      <th>sub_area</th>\n",
              "      <th>price_doc</th>\n",
              "    </tr>\n",
              "  </thead>\n",
              "  <tbody>\n",
              "    <tr>\n",
              "      <th>0</th>\n",
              "      <td>8059</td>\n",
              "      <td>2013-05-21</td>\n",
              "      <td>11.0</td>\n",
              "      <td>11.0</td>\n",
              "      <td>2.0</td>\n",
              "      <td>3.0000</td>\n",
              "      <td>5.0</td>\n",
              "      <td>2.0</td>\n",
              "      <td>1907-01-01</td>\n",
              "      <td>1.0</td>\n",
              "      <td>12.0</td>\n",
              "      <td>75377.0</td>\n",
              "      <td>Hamovniki</td>\n",
              "      <td>2750000.0</td>\n",
              "    </tr>\n",
              "    <tr>\n",
              "      <th>1</th>\n",
              "      <td>8138</td>\n",
              "      <td>2013-05-25</td>\n",
              "      <td>53.0</td>\n",
              "      <td>30.0</td>\n",
              "      <td>10.0</td>\n",
              "      <td>3.0000</td>\n",
              "      <td>16.0</td>\n",
              "      <td>1.0</td>\n",
              "      <td>1980-01-01</td>\n",
              "      <td>2.0</td>\n",
              "      <td>8.0</td>\n",
              "      <td>68630.0</td>\n",
              "      <td>Lianozovo</td>\n",
              "      <td>9000000.0</td>\n",
              "    </tr>\n",
              "    <tr>\n",
              "      <th>2</th>\n",
              "      <td>8156</td>\n",
              "      <td>2013-05-27</td>\n",
              "      <td>77.0</td>\n",
              "      <td>41.0</td>\n",
              "      <td>2.0</td>\n",
              "      <td>1.0000</td>\n",
              "      <td>17.0</td>\n",
              "      <td>6.0</td>\n",
              "      <td>2014-01-01</td>\n",
              "      <td>3.0</td>\n",
              "      <td>12.0</td>\n",
              "      <td>9553.0</td>\n",
              "      <td>Poselenie Voskresenskoe</td>\n",
              "      <td>7011550.0</td>\n",
              "    </tr>\n",
              "    <tr>\n",
              "      <th>3</th>\n",
              "      <td>8157</td>\n",
              "      <td>2013-05-27</td>\n",
              "      <td>45.0</td>\n",
              "      <td>27.0</td>\n",
              "      <td>6.0</td>\n",
              "      <td>3.0000</td>\n",
              "      <td>9.0</td>\n",
              "      <td>1.0</td>\n",
              "      <td>1970-01-01</td>\n",
              "      <td>2.0</td>\n",
              "      <td>6.0</td>\n",
              "      <td>78616.0</td>\n",
              "      <td>Severnoe Butovo</td>\n",
              "      <td>7100000.0</td>\n",
              "    </tr>\n",
              "    <tr>\n",
              "      <th>4</th>\n",
              "      <td>8178</td>\n",
              "      <td>2013-05-28</td>\n",
              "      <td>38.0</td>\n",
              "      <td>20.0</td>\n",
              "      <td>15.0</td>\n",
              "      <td>2.1993</td>\n",
              "      <td>16.0</td>\n",
              "      <td>1.0</td>\n",
              "      <td>1982-01-01</td>\n",
              "      <td>1.0</td>\n",
              "      <td>8.0</td>\n",
              "      <td>112804.0</td>\n",
              "      <td>Filevskij Park</td>\n",
              "      <td>6450000.0</td>\n",
              "    </tr>\n",
              "  </tbody>\n",
              "</table>\n",
              "</div>\n",
              "      <button class=\"colab-df-convert\" onclick=\"convertToInteractive('df-5bf5f80b-123b-4459-9fc8-a81008ae704e')\"\n",
              "              title=\"Convert this dataframe to an interactive table.\"\n",
              "              style=\"display:none;\">\n",
              "        \n",
              "  <svg xmlns=\"http://www.w3.org/2000/svg\" height=\"24px\"viewBox=\"0 0 24 24\"\n",
              "       width=\"24px\">\n",
              "    <path d=\"M0 0h24v24H0V0z\" fill=\"none\"/>\n",
              "    <path d=\"M18.56 5.44l.94 2.06.94-2.06 2.06-.94-2.06-.94-.94-2.06-.94 2.06-2.06.94zm-11 1L8.5 8.5l.94-2.06 2.06-.94-2.06-.94L8.5 2.5l-.94 2.06-2.06.94zm10 10l.94 2.06.94-2.06 2.06-.94-2.06-.94-.94-2.06-.94 2.06-2.06.94z\"/><path d=\"M17.41 7.96l-1.37-1.37c-.4-.4-.92-.59-1.43-.59-.52 0-1.04.2-1.43.59L10.3 9.45l-7.72 7.72c-.78.78-.78 2.05 0 2.83L4 21.41c.39.39.9.59 1.41.59.51 0 1.02-.2 1.41-.59l7.78-7.78 2.81-2.81c.8-.78.8-2.07 0-2.86zM5.41 20L4 18.59l7.72-7.72 1.47 1.35L5.41 20z\"/>\n",
              "  </svg>\n",
              "      </button>\n",
              "      \n",
              "  <style>\n",
              "    .colab-df-container {\n",
              "      display:flex;\n",
              "      flex-wrap:wrap;\n",
              "      gap: 12px;\n",
              "    }\n",
              "\n",
              "    .colab-df-convert {\n",
              "      background-color: #E8F0FE;\n",
              "      border: none;\n",
              "      border-radius: 50%;\n",
              "      cursor: pointer;\n",
              "      display: none;\n",
              "      fill: #1967D2;\n",
              "      height: 32px;\n",
              "      padding: 0 0 0 0;\n",
              "      width: 32px;\n",
              "    }\n",
              "\n",
              "    .colab-df-convert:hover {\n",
              "      background-color: #E2EBFA;\n",
              "      box-shadow: 0px 1px 2px rgba(60, 64, 67, 0.3), 0px 1px 3px 1px rgba(60, 64, 67, 0.15);\n",
              "      fill: #174EA6;\n",
              "    }\n",
              "\n",
              "    [theme=dark] .colab-df-convert {\n",
              "      background-color: #3B4455;\n",
              "      fill: #D2E3FC;\n",
              "    }\n",
              "\n",
              "    [theme=dark] .colab-df-convert:hover {\n",
              "      background-color: #434B5C;\n",
              "      box-shadow: 0px 1px 3px 1px rgba(0, 0, 0, 0.15);\n",
              "      filter: drop-shadow(0px 1px 2px rgba(0, 0, 0, 0.3));\n",
              "      fill: #FFFFFF;\n",
              "    }\n",
              "  </style>\n",
              "\n",
              "      <script>\n",
              "        const buttonEl =\n",
              "          document.querySelector('#df-5bf5f80b-123b-4459-9fc8-a81008ae704e button.colab-df-convert');\n",
              "        buttonEl.style.display =\n",
              "          google.colab.kernel.accessAllowed ? 'block' : 'none';\n",
              "\n",
              "        async function convertToInteractive(key) {\n",
              "          const element = document.querySelector('#df-5bf5f80b-123b-4459-9fc8-a81008ae704e');\n",
              "          const dataTable =\n",
              "            await google.colab.kernel.invokeFunction('convertToInteractive',\n",
              "                                                     [key], {});\n",
              "          if (!dataTable) return;\n",
              "\n",
              "          const docLinkHtml = 'Like what you see? Visit the ' +\n",
              "            '<a target=\"_blank\" href=https://colab.research.google.com/notebooks/data_table.ipynb>data table notebook</a>'\n",
              "            + ' to learn more about interactive tables.';\n",
              "          element.innerHTML = '';\n",
              "          dataTable['output_type'] = 'display_data';\n",
              "          await google.colab.output.renderOutput(dataTable, element);\n",
              "          const docLink = document.createElement('div');\n",
              "          docLink.innerHTML = docLinkHtml;\n",
              "          element.appendChild(docLink);\n",
              "        }\n",
              "      </script>\n",
              "    </div>\n",
              "  </div>\n",
              "  "
            ]
          },
          "metadata": {},
          "execution_count": 44
        }
      ]
    },
    {
      "cell_type": "code",
      "source": [
        "df.shape"
      ],
      "metadata": {
        "colab": {
          "base_uri": "https://localhost:8080/"
        },
        "id": "Z2Q-qY3ip3kF",
        "outputId": "eed35eb1-30c5-4ec8-b0a7-0aecf4cdf32c"
      },
      "execution_count": 45,
      "outputs": [
        {
          "output_type": "execute_result",
          "data": {
            "text/plain": [
              "(18866, 14)"
            ]
          },
          "metadata": {},
          "execution_count": 45
        }
      ]
    },
    {
      "cell_type": "code",
      "source": [
        "macro.head(5)"
      ],
      "metadata": {
        "colab": {
          "base_uri": "https://localhost:8080/",
          "height": 206
        },
        "id": "LYNxsZkypISQ",
        "outputId": "1d63138b-95da-46ef-cacf-08e2d9b709a0"
      },
      "execution_count": 46,
      "outputs": [
        {
          "output_type": "execute_result",
          "data": {
            "text/plain": [
              "   timestamp      salary  fixed_basket  rent_price_3room_eco  \\\n",
              "0 2010-01-01  54943.1106    16131.2946               47.2997   \n",
              "1 2010-01-02  54943.1106    16131.2946               47.2997   \n",
              "2 2010-01-03  54943.1106    16131.2946               47.2997   \n",
              "3 2010-01-04  54943.1106    16131.2946               47.2997   \n",
              "4 2010-01-05  54943.1106    16131.2946               47.2997   \n",
              "\n",
              "   rent_price_2room_eco  rent_price_1room_eco  average_life_exp  \n",
              "0               40.2572               32.0755              74.2  \n",
              "1               40.2572               32.0755              74.2  \n",
              "2               40.2572               32.0755              74.2  \n",
              "3               40.2572               32.0755              74.2  \n",
              "4               40.2572               32.0755              74.2  "
            ],
            "text/html": [
              "\n",
              "  <div id=\"df-c40ea09c-ec66-448b-9f37-bde9b0dfd741\">\n",
              "    <div class=\"colab-df-container\">\n",
              "      <div>\n",
              "<style scoped>\n",
              "    .dataframe tbody tr th:only-of-type {\n",
              "        vertical-align: middle;\n",
              "    }\n",
              "\n",
              "    .dataframe tbody tr th {\n",
              "        vertical-align: top;\n",
              "    }\n",
              "\n",
              "    .dataframe thead th {\n",
              "        text-align: right;\n",
              "    }\n",
              "</style>\n",
              "<table border=\"1\" class=\"dataframe\">\n",
              "  <thead>\n",
              "    <tr style=\"text-align: right;\">\n",
              "      <th></th>\n",
              "      <th>timestamp</th>\n",
              "      <th>salary</th>\n",
              "      <th>fixed_basket</th>\n",
              "      <th>rent_price_3room_eco</th>\n",
              "      <th>rent_price_2room_eco</th>\n",
              "      <th>rent_price_1room_eco</th>\n",
              "      <th>average_life_exp</th>\n",
              "    </tr>\n",
              "  </thead>\n",
              "  <tbody>\n",
              "    <tr>\n",
              "      <th>0</th>\n",
              "      <td>2010-01-01</td>\n",
              "      <td>54943.1106</td>\n",
              "      <td>16131.2946</td>\n",
              "      <td>47.2997</td>\n",
              "      <td>40.2572</td>\n",
              "      <td>32.0755</td>\n",
              "      <td>74.2</td>\n",
              "    </tr>\n",
              "    <tr>\n",
              "      <th>1</th>\n",
              "      <td>2010-01-02</td>\n",
              "      <td>54943.1106</td>\n",
              "      <td>16131.2946</td>\n",
              "      <td>47.2997</td>\n",
              "      <td>40.2572</td>\n",
              "      <td>32.0755</td>\n",
              "      <td>74.2</td>\n",
              "    </tr>\n",
              "    <tr>\n",
              "      <th>2</th>\n",
              "      <td>2010-01-03</td>\n",
              "      <td>54943.1106</td>\n",
              "      <td>16131.2946</td>\n",
              "      <td>47.2997</td>\n",
              "      <td>40.2572</td>\n",
              "      <td>32.0755</td>\n",
              "      <td>74.2</td>\n",
              "    </tr>\n",
              "    <tr>\n",
              "      <th>3</th>\n",
              "      <td>2010-01-04</td>\n",
              "      <td>54943.1106</td>\n",
              "      <td>16131.2946</td>\n",
              "      <td>47.2997</td>\n",
              "      <td>40.2572</td>\n",
              "      <td>32.0755</td>\n",
              "      <td>74.2</td>\n",
              "    </tr>\n",
              "    <tr>\n",
              "      <th>4</th>\n",
              "      <td>2010-01-05</td>\n",
              "      <td>54943.1106</td>\n",
              "      <td>16131.2946</td>\n",
              "      <td>47.2997</td>\n",
              "      <td>40.2572</td>\n",
              "      <td>32.0755</td>\n",
              "      <td>74.2</td>\n",
              "    </tr>\n",
              "  </tbody>\n",
              "</table>\n",
              "</div>\n",
              "      <button class=\"colab-df-convert\" onclick=\"convertToInteractive('df-c40ea09c-ec66-448b-9f37-bde9b0dfd741')\"\n",
              "              title=\"Convert this dataframe to an interactive table.\"\n",
              "              style=\"display:none;\">\n",
              "        \n",
              "  <svg xmlns=\"http://www.w3.org/2000/svg\" height=\"24px\"viewBox=\"0 0 24 24\"\n",
              "       width=\"24px\">\n",
              "    <path d=\"M0 0h24v24H0V0z\" fill=\"none\"/>\n",
              "    <path d=\"M18.56 5.44l.94 2.06.94-2.06 2.06-.94-2.06-.94-.94-2.06-.94 2.06-2.06.94zm-11 1L8.5 8.5l.94-2.06 2.06-.94-2.06-.94L8.5 2.5l-.94 2.06-2.06.94zm10 10l.94 2.06.94-2.06 2.06-.94-2.06-.94-.94-2.06-.94 2.06-2.06.94z\"/><path d=\"M17.41 7.96l-1.37-1.37c-.4-.4-.92-.59-1.43-.59-.52 0-1.04.2-1.43.59L10.3 9.45l-7.72 7.72c-.78.78-.78 2.05 0 2.83L4 21.41c.39.39.9.59 1.41.59.51 0 1.02-.2 1.41-.59l7.78-7.78 2.81-2.81c.8-.78.8-2.07 0-2.86zM5.41 20L4 18.59l7.72-7.72 1.47 1.35L5.41 20z\"/>\n",
              "  </svg>\n",
              "      </button>\n",
              "      \n",
              "  <style>\n",
              "    .colab-df-container {\n",
              "      display:flex;\n",
              "      flex-wrap:wrap;\n",
              "      gap: 12px;\n",
              "    }\n",
              "\n",
              "    .colab-df-convert {\n",
              "      background-color: #E8F0FE;\n",
              "      border: none;\n",
              "      border-radius: 50%;\n",
              "      cursor: pointer;\n",
              "      display: none;\n",
              "      fill: #1967D2;\n",
              "      height: 32px;\n",
              "      padding: 0 0 0 0;\n",
              "      width: 32px;\n",
              "    }\n",
              "\n",
              "    .colab-df-convert:hover {\n",
              "      background-color: #E2EBFA;\n",
              "      box-shadow: 0px 1px 2px rgba(60, 64, 67, 0.3), 0px 1px 3px 1px rgba(60, 64, 67, 0.15);\n",
              "      fill: #174EA6;\n",
              "    }\n",
              "\n",
              "    [theme=dark] .colab-df-convert {\n",
              "      background-color: #3B4455;\n",
              "      fill: #D2E3FC;\n",
              "    }\n",
              "\n",
              "    [theme=dark] .colab-df-convert:hover {\n",
              "      background-color: #434B5C;\n",
              "      box-shadow: 0px 1px 3px 1px rgba(0, 0, 0, 0.15);\n",
              "      filter: drop-shadow(0px 1px 2px rgba(0, 0, 0, 0.3));\n",
              "      fill: #FFFFFF;\n",
              "    }\n",
              "  </style>\n",
              "\n",
              "      <script>\n",
              "        const buttonEl =\n",
              "          document.querySelector('#df-c40ea09c-ec66-448b-9f37-bde9b0dfd741 button.colab-df-convert');\n",
              "        buttonEl.style.display =\n",
              "          google.colab.kernel.accessAllowed ? 'block' : 'none';\n",
              "\n",
              "        async function convertToInteractive(key) {\n",
              "          const element = document.querySelector('#df-c40ea09c-ec66-448b-9f37-bde9b0dfd741');\n",
              "          const dataTable =\n",
              "            await google.colab.kernel.invokeFunction('convertToInteractive',\n",
              "                                                     [key], {});\n",
              "          if (!dataTable) return;\n",
              "\n",
              "          const docLinkHtml = 'Like what you see? Visit the ' +\n",
              "            '<a target=\"_blank\" href=https://colab.research.google.com/notebooks/data_table.ipynb>data table notebook</a>'\n",
              "            + ' to learn more about interactive tables.';\n",
              "          element.innerHTML = '';\n",
              "          dataTable['output_type'] = 'display_data';\n",
              "          await google.colab.output.renderOutput(dataTable, element);\n",
              "          const docLink = document.createElement('div');\n",
              "          docLink.innerHTML = docLinkHtml;\n",
              "          element.appendChild(docLink);\n",
              "        }\n",
              "      </script>\n",
              "    </div>\n",
              "  </div>\n",
              "  "
            ]
          },
          "metadata": {},
          "execution_count": 46
        }
      ]
    },
    {
      "cell_type": "code",
      "source": [
        "macro.shape"
      ],
      "metadata": {
        "colab": {
          "base_uri": "https://localhost:8080/"
        },
        "id": "KHKcFSPup5eF",
        "outputId": "272a4c25-03dc-420a-dc2a-ac17590d5121"
      },
      "execution_count": 47,
      "outputs": [
        {
          "output_type": "execute_result",
          "data": {
            "text/plain": [
              "(2484, 7)"
            ]
          },
          "metadata": {},
          "execution_count": 47
        }
      ]
    },
    {
      "cell_type": "code",
      "source": [
        "df_full = df.merge(macro, on='timestamp', how='left')"
      ],
      "metadata": {
        "id": "8eFFD39QpL8L"
      },
      "execution_count": 48,
      "outputs": []
    },
    {
      "cell_type": "code",
      "source": [
        "df_full.head(5)"
      ],
      "metadata": {
        "colab": {
          "base_uri": "https://localhost:8080/",
          "height": 357
        },
        "id": "3bjxgd0EprZb",
        "outputId": "35fbefa1-2363-43aa-fb61-342cf1187aff"
      },
      "execution_count": 49,
      "outputs": [
        {
          "output_type": "execute_result",
          "data": {
            "text/plain": [
              "     id  timestamp  full_sq  life_sq  floor   state  max_floor  material  \\\n",
              "0  8059 2013-05-21     11.0     11.0    2.0  3.0000        5.0       2.0   \n",
              "1  8138 2013-05-25     53.0     30.0   10.0  3.0000       16.0       1.0   \n",
              "2  8156 2013-05-27     77.0     41.0    2.0  1.0000       17.0       6.0   \n",
              "3  8157 2013-05-27     45.0     27.0    6.0  3.0000        9.0       1.0   \n",
              "4  8178 2013-05-28     38.0     20.0   15.0  2.1993       16.0       1.0   \n",
              "\n",
              "  build_year  num_room  kitch_sq  full_all                 sub_area  \\\n",
              "0 1907-01-01       1.0      12.0   75377.0                Hamovniki   \n",
              "1 1980-01-01       2.0       8.0   68630.0                Lianozovo   \n",
              "2 2014-01-01       3.0      12.0    9553.0  Poselenie Voskresenskoe   \n",
              "3 1970-01-01       2.0       6.0   78616.0          Severnoe Butovo   \n",
              "4 1982-01-01       1.0       8.0  112804.0           Filevskij Park   \n",
              "\n",
              "   price_doc   salary  fixed_basket  rent_price_3room_eco  \\\n",
              "0  2750000.0  55485.2      14983.92                 47.35   \n",
              "1  9000000.0  55485.2      14983.92                 47.35   \n",
              "2  7011550.0  55485.2      14983.92                 47.35   \n",
              "3  7100000.0  55485.2      14983.92                 47.35   \n",
              "4  6450000.0  55485.2      14983.92                 47.35   \n",
              "\n",
              "   rent_price_2room_eco  rent_price_1room_eco  average_life_exp  \n",
              "0                 40.77               32.0755             76.37  \n",
              "1                 40.77               32.0755             76.37  \n",
              "2                 40.77               32.0755             76.37  \n",
              "3                 40.77               32.0755             76.37  \n",
              "4                 40.77               32.0755             76.37  "
            ],
            "text/html": [
              "\n",
              "  <div id=\"df-8105dcd3-3e46-4c80-ba82-c0e0585f87b5\">\n",
              "    <div class=\"colab-df-container\">\n",
              "      <div>\n",
              "<style scoped>\n",
              "    .dataframe tbody tr th:only-of-type {\n",
              "        vertical-align: middle;\n",
              "    }\n",
              "\n",
              "    .dataframe tbody tr th {\n",
              "        vertical-align: top;\n",
              "    }\n",
              "\n",
              "    .dataframe thead th {\n",
              "        text-align: right;\n",
              "    }\n",
              "</style>\n",
              "<table border=\"1\" class=\"dataframe\">\n",
              "  <thead>\n",
              "    <tr style=\"text-align: right;\">\n",
              "      <th></th>\n",
              "      <th>id</th>\n",
              "      <th>timestamp</th>\n",
              "      <th>full_sq</th>\n",
              "      <th>life_sq</th>\n",
              "      <th>floor</th>\n",
              "      <th>state</th>\n",
              "      <th>max_floor</th>\n",
              "      <th>material</th>\n",
              "      <th>build_year</th>\n",
              "      <th>num_room</th>\n",
              "      <th>kitch_sq</th>\n",
              "      <th>full_all</th>\n",
              "      <th>sub_area</th>\n",
              "      <th>price_doc</th>\n",
              "      <th>salary</th>\n",
              "      <th>fixed_basket</th>\n",
              "      <th>rent_price_3room_eco</th>\n",
              "      <th>rent_price_2room_eco</th>\n",
              "      <th>rent_price_1room_eco</th>\n",
              "      <th>average_life_exp</th>\n",
              "    </tr>\n",
              "  </thead>\n",
              "  <tbody>\n",
              "    <tr>\n",
              "      <th>0</th>\n",
              "      <td>8059</td>\n",
              "      <td>2013-05-21</td>\n",
              "      <td>11.0</td>\n",
              "      <td>11.0</td>\n",
              "      <td>2.0</td>\n",
              "      <td>3.0000</td>\n",
              "      <td>5.0</td>\n",
              "      <td>2.0</td>\n",
              "      <td>1907-01-01</td>\n",
              "      <td>1.0</td>\n",
              "      <td>12.0</td>\n",
              "      <td>75377.0</td>\n",
              "      <td>Hamovniki</td>\n",
              "      <td>2750000.0</td>\n",
              "      <td>55485.2</td>\n",
              "      <td>14983.92</td>\n",
              "      <td>47.35</td>\n",
              "      <td>40.77</td>\n",
              "      <td>32.0755</td>\n",
              "      <td>76.37</td>\n",
              "    </tr>\n",
              "    <tr>\n",
              "      <th>1</th>\n",
              "      <td>8138</td>\n",
              "      <td>2013-05-25</td>\n",
              "      <td>53.0</td>\n",
              "      <td>30.0</td>\n",
              "      <td>10.0</td>\n",
              "      <td>3.0000</td>\n",
              "      <td>16.0</td>\n",
              "      <td>1.0</td>\n",
              "      <td>1980-01-01</td>\n",
              "      <td>2.0</td>\n",
              "      <td>8.0</td>\n",
              "      <td>68630.0</td>\n",
              "      <td>Lianozovo</td>\n",
              "      <td>9000000.0</td>\n",
              "      <td>55485.2</td>\n",
              "      <td>14983.92</td>\n",
              "      <td>47.35</td>\n",
              "      <td>40.77</td>\n",
              "      <td>32.0755</td>\n",
              "      <td>76.37</td>\n",
              "    </tr>\n",
              "    <tr>\n",
              "      <th>2</th>\n",
              "      <td>8156</td>\n",
              "      <td>2013-05-27</td>\n",
              "      <td>77.0</td>\n",
              "      <td>41.0</td>\n",
              "      <td>2.0</td>\n",
              "      <td>1.0000</td>\n",
              "      <td>17.0</td>\n",
              "      <td>6.0</td>\n",
              "      <td>2014-01-01</td>\n",
              "      <td>3.0</td>\n",
              "      <td>12.0</td>\n",
              "      <td>9553.0</td>\n",
              "      <td>Poselenie Voskresenskoe</td>\n",
              "      <td>7011550.0</td>\n",
              "      <td>55485.2</td>\n",
              "      <td>14983.92</td>\n",
              "      <td>47.35</td>\n",
              "      <td>40.77</td>\n",
              "      <td>32.0755</td>\n",
              "      <td>76.37</td>\n",
              "    </tr>\n",
              "    <tr>\n",
              "      <th>3</th>\n",
              "      <td>8157</td>\n",
              "      <td>2013-05-27</td>\n",
              "      <td>45.0</td>\n",
              "      <td>27.0</td>\n",
              "      <td>6.0</td>\n",
              "      <td>3.0000</td>\n",
              "      <td>9.0</td>\n",
              "      <td>1.0</td>\n",
              "      <td>1970-01-01</td>\n",
              "      <td>2.0</td>\n",
              "      <td>6.0</td>\n",
              "      <td>78616.0</td>\n",
              "      <td>Severnoe Butovo</td>\n",
              "      <td>7100000.0</td>\n",
              "      <td>55485.2</td>\n",
              "      <td>14983.92</td>\n",
              "      <td>47.35</td>\n",
              "      <td>40.77</td>\n",
              "      <td>32.0755</td>\n",
              "      <td>76.37</td>\n",
              "    </tr>\n",
              "    <tr>\n",
              "      <th>4</th>\n",
              "      <td>8178</td>\n",
              "      <td>2013-05-28</td>\n",
              "      <td>38.0</td>\n",
              "      <td>20.0</td>\n",
              "      <td>15.0</td>\n",
              "      <td>2.1993</td>\n",
              "      <td>16.0</td>\n",
              "      <td>1.0</td>\n",
              "      <td>1982-01-01</td>\n",
              "      <td>1.0</td>\n",
              "      <td>8.0</td>\n",
              "      <td>112804.0</td>\n",
              "      <td>Filevskij Park</td>\n",
              "      <td>6450000.0</td>\n",
              "      <td>55485.2</td>\n",
              "      <td>14983.92</td>\n",
              "      <td>47.35</td>\n",
              "      <td>40.77</td>\n",
              "      <td>32.0755</td>\n",
              "      <td>76.37</td>\n",
              "    </tr>\n",
              "  </tbody>\n",
              "</table>\n",
              "</div>\n",
              "      <button class=\"colab-df-convert\" onclick=\"convertToInteractive('df-8105dcd3-3e46-4c80-ba82-c0e0585f87b5')\"\n",
              "              title=\"Convert this dataframe to an interactive table.\"\n",
              "              style=\"display:none;\">\n",
              "        \n",
              "  <svg xmlns=\"http://www.w3.org/2000/svg\" height=\"24px\"viewBox=\"0 0 24 24\"\n",
              "       width=\"24px\">\n",
              "    <path d=\"M0 0h24v24H0V0z\" fill=\"none\"/>\n",
              "    <path d=\"M18.56 5.44l.94 2.06.94-2.06 2.06-.94-2.06-.94-.94-2.06-.94 2.06-2.06.94zm-11 1L8.5 8.5l.94-2.06 2.06-.94-2.06-.94L8.5 2.5l-.94 2.06-2.06.94zm10 10l.94 2.06.94-2.06 2.06-.94-2.06-.94-.94-2.06-.94 2.06-2.06.94z\"/><path d=\"M17.41 7.96l-1.37-1.37c-.4-.4-.92-.59-1.43-.59-.52 0-1.04.2-1.43.59L10.3 9.45l-7.72 7.72c-.78.78-.78 2.05 0 2.83L4 21.41c.39.39.9.59 1.41.59.51 0 1.02-.2 1.41-.59l7.78-7.78 2.81-2.81c.8-.78.8-2.07 0-2.86zM5.41 20L4 18.59l7.72-7.72 1.47 1.35L5.41 20z\"/>\n",
              "  </svg>\n",
              "      </button>\n",
              "      \n",
              "  <style>\n",
              "    .colab-df-container {\n",
              "      display:flex;\n",
              "      flex-wrap:wrap;\n",
              "      gap: 12px;\n",
              "    }\n",
              "\n",
              "    .colab-df-convert {\n",
              "      background-color: #E8F0FE;\n",
              "      border: none;\n",
              "      border-radius: 50%;\n",
              "      cursor: pointer;\n",
              "      display: none;\n",
              "      fill: #1967D2;\n",
              "      height: 32px;\n",
              "      padding: 0 0 0 0;\n",
              "      width: 32px;\n",
              "    }\n",
              "\n",
              "    .colab-df-convert:hover {\n",
              "      background-color: #E2EBFA;\n",
              "      box-shadow: 0px 1px 2px rgba(60, 64, 67, 0.3), 0px 1px 3px 1px rgba(60, 64, 67, 0.15);\n",
              "      fill: #174EA6;\n",
              "    }\n",
              "\n",
              "    [theme=dark] .colab-df-convert {\n",
              "      background-color: #3B4455;\n",
              "      fill: #D2E3FC;\n",
              "    }\n",
              "\n",
              "    [theme=dark] .colab-df-convert:hover {\n",
              "      background-color: #434B5C;\n",
              "      box-shadow: 0px 1px 3px 1px rgba(0, 0, 0, 0.15);\n",
              "      filter: drop-shadow(0px 1px 2px rgba(0, 0, 0, 0.3));\n",
              "      fill: #FFFFFF;\n",
              "    }\n",
              "  </style>\n",
              "\n",
              "      <script>\n",
              "        const buttonEl =\n",
              "          document.querySelector('#df-8105dcd3-3e46-4c80-ba82-c0e0585f87b5 button.colab-df-convert');\n",
              "        buttonEl.style.display =\n",
              "          google.colab.kernel.accessAllowed ? 'block' : 'none';\n",
              "\n",
              "        async function convertToInteractive(key) {\n",
              "          const element = document.querySelector('#df-8105dcd3-3e46-4c80-ba82-c0e0585f87b5');\n",
              "          const dataTable =\n",
              "            await google.colab.kernel.invokeFunction('convertToInteractive',\n",
              "                                                     [key], {});\n",
              "          if (!dataTable) return;\n",
              "\n",
              "          const docLinkHtml = 'Like what you see? Visit the ' +\n",
              "            '<a target=\"_blank\" href=https://colab.research.google.com/notebooks/data_table.ipynb>data table notebook</a>'\n",
              "            + ' to learn more about interactive tables.';\n",
              "          element.innerHTML = '';\n",
              "          dataTable['output_type'] = 'display_data';\n",
              "          await google.colab.output.renderOutput(dataTable, element);\n",
              "          const docLink = document.createElement('div');\n",
              "          docLink.innerHTML = docLinkHtml;\n",
              "          element.appendChild(docLink);\n",
              "        }\n",
              "      </script>\n",
              "    </div>\n",
              "  </div>\n",
              "  "
            ]
          },
          "metadata": {},
          "execution_count": 49
        }
      ]
    },
    {
      "cell_type": "code",
      "source": [
        "df_full.shape"
      ],
      "metadata": {
        "colab": {
          "base_uri": "https://localhost:8080/"
        },
        "id": "x7q1azfZp71O",
        "outputId": "6d53bf2d-e872-465f-d9ab-5ccfa0881090"
      },
      "execution_count": 50,
      "outputs": [
        {
          "output_type": "execute_result",
          "data": {
            "text/plain": [
              "(18866, 20)"
            ]
          },
          "metadata": {},
          "execution_count": 50
        }
      ]
    },
    {
      "cell_type": "code",
      "source": [
        "df_full.describe()"
      ],
      "metadata": {
        "colab": {
          "base_uri": "https://localhost:8080/",
          "height": 364
        },
        "id": "-HxlAuEOp2EU",
        "outputId": "4cc5cfb7-a9b8-4b20-d3bf-637719f4011a"
      },
      "execution_count": 51,
      "outputs": [
        {
          "output_type": "execute_result",
          "data": {
            "text/plain": [
              "               id     full_sq     life_sq       floor       state   max_floor  \\\n",
              "count  18866.0000  18866.0000  18866.0000  18866.0000  18866.0000  18866.0000   \n",
              "mean   18799.7886     53.5985     33.7460      7.2863      2.1993     12.4208   \n",
              "std     7082.4287     21.0011     17.8515      5.1497      0.7399      6.0300   \n",
              "min        9.0000      1.0000      0.0000      0.0000      1.0000      0.0000   \n",
              "25%    13513.2500     38.0000     20.0000      3.0000      2.0000      9.0000   \n",
              "50%    19043.5000     49.0000     31.0000      6.0000      2.1993     12.4208   \n",
              "75%    24748.7500     63.0000     42.0000     10.0000      3.0000     17.0000   \n",
              "max    30473.0000    303.0000    407.0000     37.0000      4.0000     48.0000   \n",
              "\n",
              "         material    num_room    kitch_sq    full_all   price_doc      salary  \\\n",
              "count  18866.0000  18866.0000  18866.0000  1.8866e+04  1.8866e+04  18866.0000   \n",
              "mean       1.8901      1.9321      6.8285  1.5972e+05  7.5673e+06  59882.2021   \n",
              "std        1.4482      0.8100      4.6199  3.0435e+05  4.8533e+06   3718.2141   \n",
              "min        1.0000      0.0000      0.0000  2.6930e+03  5.0000e+05  44898.7000   \n",
              "25%        1.0000      1.0000      5.0000  4.8439e+04  5.1000e+06  55485.2000   \n",
              "50%        1.0000      2.0000      6.8285  8.7713e+04  6.6900e+06  61208.0000   \n",
              "75%        2.0000      2.0000      9.0000  1.2535e+05  8.9000e+06  61208.0000   \n",
              "max        6.0000      9.0000    123.0000  1.7167e+06  7.1200e+07  64310.0000   \n",
              "\n",
              "       fixed_basket  rent_price_3room_eco  rent_price_2room_eco  \\\n",
              "count    18866.0000            18866.0000            18866.0000   \n",
              "mean     16215.5343               49.8407               41.7767   \n",
              "std       1161.5241                1.8440                1.2149   \n",
              "min      12922.9700               43.4200               37.7300   \n",
              "25%      15417.3400               48.7000               41.1700   \n",
              "50%      16165.3000               49.7500               41.9100   \n",
              "75%      16648.7000               50.9300               42.6400   \n",
              "max      18745.2800               53.2100               43.8500   \n",
              "\n",
              "       rent_price_1room_eco  average_life_exp  \n",
              "count            18866.0000        18866.0000  \n",
              "mean                33.5046           76.5993  \n",
              "std                  1.1631            0.2299  \n",
              "min                 30.2900           75.7400  \n",
              "25%                 32.9600           76.3700  \n",
              "50%                 33.6500           76.7000  \n",
              "75%                 34.3500           76.7000  \n",
              "max                 35.3700           76.7700  "
            ],
            "text/html": [
              "\n",
              "  <div id=\"df-eed33ef8-b942-4d02-91ac-c0952069f41e\">\n",
              "    <div class=\"colab-df-container\">\n",
              "      <div>\n",
              "<style scoped>\n",
              "    .dataframe tbody tr th:only-of-type {\n",
              "        vertical-align: middle;\n",
              "    }\n",
              "\n",
              "    .dataframe tbody tr th {\n",
              "        vertical-align: top;\n",
              "    }\n",
              "\n",
              "    .dataframe thead th {\n",
              "        text-align: right;\n",
              "    }\n",
              "</style>\n",
              "<table border=\"1\" class=\"dataframe\">\n",
              "  <thead>\n",
              "    <tr style=\"text-align: right;\">\n",
              "      <th></th>\n",
              "      <th>id</th>\n",
              "      <th>full_sq</th>\n",
              "      <th>life_sq</th>\n",
              "      <th>floor</th>\n",
              "      <th>state</th>\n",
              "      <th>max_floor</th>\n",
              "      <th>material</th>\n",
              "      <th>num_room</th>\n",
              "      <th>kitch_sq</th>\n",
              "      <th>full_all</th>\n",
              "      <th>price_doc</th>\n",
              "      <th>salary</th>\n",
              "      <th>fixed_basket</th>\n",
              "      <th>rent_price_3room_eco</th>\n",
              "      <th>rent_price_2room_eco</th>\n",
              "      <th>rent_price_1room_eco</th>\n",
              "      <th>average_life_exp</th>\n",
              "    </tr>\n",
              "  </thead>\n",
              "  <tbody>\n",
              "    <tr>\n",
              "      <th>count</th>\n",
              "      <td>18866.0000</td>\n",
              "      <td>18866.0000</td>\n",
              "      <td>18866.0000</td>\n",
              "      <td>18866.0000</td>\n",
              "      <td>18866.0000</td>\n",
              "      <td>18866.0000</td>\n",
              "      <td>18866.0000</td>\n",
              "      <td>18866.0000</td>\n",
              "      <td>18866.0000</td>\n",
              "      <td>1.8866e+04</td>\n",
              "      <td>1.8866e+04</td>\n",
              "      <td>18866.0000</td>\n",
              "      <td>18866.0000</td>\n",
              "      <td>18866.0000</td>\n",
              "      <td>18866.0000</td>\n",
              "      <td>18866.0000</td>\n",
              "      <td>18866.0000</td>\n",
              "    </tr>\n",
              "    <tr>\n",
              "      <th>mean</th>\n",
              "      <td>18799.7886</td>\n",
              "      <td>53.5985</td>\n",
              "      <td>33.7460</td>\n",
              "      <td>7.2863</td>\n",
              "      <td>2.1993</td>\n",
              "      <td>12.4208</td>\n",
              "      <td>1.8901</td>\n",
              "      <td>1.9321</td>\n",
              "      <td>6.8285</td>\n",
              "      <td>1.5972e+05</td>\n",
              "      <td>7.5673e+06</td>\n",
              "      <td>59882.2021</td>\n",
              "      <td>16215.5343</td>\n",
              "      <td>49.8407</td>\n",
              "      <td>41.7767</td>\n",
              "      <td>33.5046</td>\n",
              "      <td>76.5993</td>\n",
              "    </tr>\n",
              "    <tr>\n",
              "      <th>std</th>\n",
              "      <td>7082.4287</td>\n",
              "      <td>21.0011</td>\n",
              "      <td>17.8515</td>\n",
              "      <td>5.1497</td>\n",
              "      <td>0.7399</td>\n",
              "      <td>6.0300</td>\n",
              "      <td>1.4482</td>\n",
              "      <td>0.8100</td>\n",
              "      <td>4.6199</td>\n",
              "      <td>3.0435e+05</td>\n",
              "      <td>4.8533e+06</td>\n",
              "      <td>3718.2141</td>\n",
              "      <td>1161.5241</td>\n",
              "      <td>1.8440</td>\n",
              "      <td>1.2149</td>\n",
              "      <td>1.1631</td>\n",
              "      <td>0.2299</td>\n",
              "    </tr>\n",
              "    <tr>\n",
              "      <th>min</th>\n",
              "      <td>9.0000</td>\n",
              "      <td>1.0000</td>\n",
              "      <td>0.0000</td>\n",
              "      <td>0.0000</td>\n",
              "      <td>1.0000</td>\n",
              "      <td>0.0000</td>\n",
              "      <td>1.0000</td>\n",
              "      <td>0.0000</td>\n",
              "      <td>0.0000</td>\n",
              "      <td>2.6930e+03</td>\n",
              "      <td>5.0000e+05</td>\n",
              "      <td>44898.7000</td>\n",
              "      <td>12922.9700</td>\n",
              "      <td>43.4200</td>\n",
              "      <td>37.7300</td>\n",
              "      <td>30.2900</td>\n",
              "      <td>75.7400</td>\n",
              "    </tr>\n",
              "    <tr>\n",
              "      <th>25%</th>\n",
              "      <td>13513.2500</td>\n",
              "      <td>38.0000</td>\n",
              "      <td>20.0000</td>\n",
              "      <td>3.0000</td>\n",
              "      <td>2.0000</td>\n",
              "      <td>9.0000</td>\n",
              "      <td>1.0000</td>\n",
              "      <td>1.0000</td>\n",
              "      <td>5.0000</td>\n",
              "      <td>4.8439e+04</td>\n",
              "      <td>5.1000e+06</td>\n",
              "      <td>55485.2000</td>\n",
              "      <td>15417.3400</td>\n",
              "      <td>48.7000</td>\n",
              "      <td>41.1700</td>\n",
              "      <td>32.9600</td>\n",
              "      <td>76.3700</td>\n",
              "    </tr>\n",
              "    <tr>\n",
              "      <th>50%</th>\n",
              "      <td>19043.5000</td>\n",
              "      <td>49.0000</td>\n",
              "      <td>31.0000</td>\n",
              "      <td>6.0000</td>\n",
              "      <td>2.1993</td>\n",
              "      <td>12.4208</td>\n",
              "      <td>1.0000</td>\n",
              "      <td>2.0000</td>\n",
              "      <td>6.8285</td>\n",
              "      <td>8.7713e+04</td>\n",
              "      <td>6.6900e+06</td>\n",
              "      <td>61208.0000</td>\n",
              "      <td>16165.3000</td>\n",
              "      <td>49.7500</td>\n",
              "      <td>41.9100</td>\n",
              "      <td>33.6500</td>\n",
              "      <td>76.7000</td>\n",
              "    </tr>\n",
              "    <tr>\n",
              "      <th>75%</th>\n",
              "      <td>24748.7500</td>\n",
              "      <td>63.0000</td>\n",
              "      <td>42.0000</td>\n",
              "      <td>10.0000</td>\n",
              "      <td>3.0000</td>\n",
              "      <td>17.0000</td>\n",
              "      <td>2.0000</td>\n",
              "      <td>2.0000</td>\n",
              "      <td>9.0000</td>\n",
              "      <td>1.2535e+05</td>\n",
              "      <td>8.9000e+06</td>\n",
              "      <td>61208.0000</td>\n",
              "      <td>16648.7000</td>\n",
              "      <td>50.9300</td>\n",
              "      <td>42.6400</td>\n",
              "      <td>34.3500</td>\n",
              "      <td>76.7000</td>\n",
              "    </tr>\n",
              "    <tr>\n",
              "      <th>max</th>\n",
              "      <td>30473.0000</td>\n",
              "      <td>303.0000</td>\n",
              "      <td>407.0000</td>\n",
              "      <td>37.0000</td>\n",
              "      <td>4.0000</td>\n",
              "      <td>48.0000</td>\n",
              "      <td>6.0000</td>\n",
              "      <td>9.0000</td>\n",
              "      <td>123.0000</td>\n",
              "      <td>1.7167e+06</td>\n",
              "      <td>7.1200e+07</td>\n",
              "      <td>64310.0000</td>\n",
              "      <td>18745.2800</td>\n",
              "      <td>53.2100</td>\n",
              "      <td>43.8500</td>\n",
              "      <td>35.3700</td>\n",
              "      <td>76.7700</td>\n",
              "    </tr>\n",
              "  </tbody>\n",
              "</table>\n",
              "</div>\n",
              "      <button class=\"colab-df-convert\" onclick=\"convertToInteractive('df-eed33ef8-b942-4d02-91ac-c0952069f41e')\"\n",
              "              title=\"Convert this dataframe to an interactive table.\"\n",
              "              style=\"display:none;\">\n",
              "        \n",
              "  <svg xmlns=\"http://www.w3.org/2000/svg\" height=\"24px\"viewBox=\"0 0 24 24\"\n",
              "       width=\"24px\">\n",
              "    <path d=\"M0 0h24v24H0V0z\" fill=\"none\"/>\n",
              "    <path d=\"M18.56 5.44l.94 2.06.94-2.06 2.06-.94-2.06-.94-.94-2.06-.94 2.06-2.06.94zm-11 1L8.5 8.5l.94-2.06 2.06-.94-2.06-.94L8.5 2.5l-.94 2.06-2.06.94zm10 10l.94 2.06.94-2.06 2.06-.94-2.06-.94-.94-2.06-.94 2.06-2.06.94z\"/><path d=\"M17.41 7.96l-1.37-1.37c-.4-.4-.92-.59-1.43-.59-.52 0-1.04.2-1.43.59L10.3 9.45l-7.72 7.72c-.78.78-.78 2.05 0 2.83L4 21.41c.39.39.9.59 1.41.59.51 0 1.02-.2 1.41-.59l7.78-7.78 2.81-2.81c.8-.78.8-2.07 0-2.86zM5.41 20L4 18.59l7.72-7.72 1.47 1.35L5.41 20z\"/>\n",
              "  </svg>\n",
              "      </button>\n",
              "      \n",
              "  <style>\n",
              "    .colab-df-container {\n",
              "      display:flex;\n",
              "      flex-wrap:wrap;\n",
              "      gap: 12px;\n",
              "    }\n",
              "\n",
              "    .colab-df-convert {\n",
              "      background-color: #E8F0FE;\n",
              "      border: none;\n",
              "      border-radius: 50%;\n",
              "      cursor: pointer;\n",
              "      display: none;\n",
              "      fill: #1967D2;\n",
              "      height: 32px;\n",
              "      padding: 0 0 0 0;\n",
              "      width: 32px;\n",
              "    }\n",
              "\n",
              "    .colab-df-convert:hover {\n",
              "      background-color: #E2EBFA;\n",
              "      box-shadow: 0px 1px 2px rgba(60, 64, 67, 0.3), 0px 1px 3px 1px rgba(60, 64, 67, 0.15);\n",
              "      fill: #174EA6;\n",
              "    }\n",
              "\n",
              "    [theme=dark] .colab-df-convert {\n",
              "      background-color: #3B4455;\n",
              "      fill: #D2E3FC;\n",
              "    }\n",
              "\n",
              "    [theme=dark] .colab-df-convert:hover {\n",
              "      background-color: #434B5C;\n",
              "      box-shadow: 0px 1px 3px 1px rgba(0, 0, 0, 0.15);\n",
              "      filter: drop-shadow(0px 1px 2px rgba(0, 0, 0, 0.3));\n",
              "      fill: #FFFFFF;\n",
              "    }\n",
              "  </style>\n",
              "\n",
              "      <script>\n",
              "        const buttonEl =\n",
              "          document.querySelector('#df-eed33ef8-b942-4d02-91ac-c0952069f41e button.colab-df-convert');\n",
              "        buttonEl.style.display =\n",
              "          google.colab.kernel.accessAllowed ? 'block' : 'none';\n",
              "\n",
              "        async function convertToInteractive(key) {\n",
              "          const element = document.querySelector('#df-eed33ef8-b942-4d02-91ac-c0952069f41e');\n",
              "          const dataTable =\n",
              "            await google.colab.kernel.invokeFunction('convertToInteractive',\n",
              "                                                     [key], {});\n",
              "          if (!dataTable) return;\n",
              "\n",
              "          const docLinkHtml = 'Like what you see? Visit the ' +\n",
              "            '<a target=\"_blank\" href=https://colab.research.google.com/notebooks/data_table.ipynb>data table notebook</a>'\n",
              "            + ' to learn more about interactive tables.';\n",
              "          element.innerHTML = '';\n",
              "          dataTable['output_type'] = 'display_data';\n",
              "          await google.colab.output.renderOutput(dataTable, element);\n",
              "          const docLink = document.createElement('div');\n",
              "          docLink.innerHTML = docLinkHtml;\n",
              "          element.appendChild(docLink);\n",
              "        }\n",
              "      </script>\n",
              "    </div>\n",
              "  </div>\n",
              "  "
            ]
          },
          "metadata": {},
          "execution_count": 51
        }
      ]
    },
    {
      "cell_type": "markdown",
      "source": [
        "## 1.5 Проверьте данные на наличие выбросов. По каждому столбцу. Напишите своё мнение: нужно ли в каждой из ситуаций обрабатывать выбросы, или можно оставить. Если нужно обработать, то примените один из изученных подходов, либо предложите свой"
      ],
      "metadata": {
        "id": "BfJc-PiVinUp"
      }
    },
    {
      "cell_type": "markdown",
      "source": [
        "### 1.5.1 Главный набор данных"
      ],
      "metadata": {
        "id": "_LkLQxltjEbx"
      }
    },
    {
      "cell_type": "markdown",
      "source": [
        "- С выбросами было уже немного работы до этого, но можно на всякий случай посчитать процентное количество информации которая может считаться выбросом"
      ],
      "metadata": {
        "id": "1mr564bIw2Td"
      }
    },
    {
      "cell_type": "code",
      "source": [
        "def iqr_percent_detection(dataframe):\n",
        "    num_column_names = dataframe.select_dtypes('number').columns.values\n",
        "    for col_name in num_column_names:\n",
        "        # skipping id column\n",
        "        if col_name in ['id']:\n",
        "            continue\n",
        "        q1 = dataframe[col_name].quantile(0.25)\n",
        "        q3 = dataframe[col_name].quantile(0.75)\n",
        "        iqr = q3 - q1\n",
        "        outliers = np.where((dataframe[col_name] < (q1 - 1.5 * iqr)) | (dataframe[col_name] > (q3 + 1.5 * iqr)))\n",
        "        print(f\"{col_name} column outliers percent ratio: {len(outliers[0]) / dataframe[col_name].shape[0] * 100}\")"
      ],
      "metadata": {
        "id": "mA32pzU-xvrb"
      },
      "execution_count": 52,
      "outputs": []
    },
    {
      "cell_type": "code",
      "source": [
        "iqr_percent_detection(df)"
      ],
      "metadata": {
        "id": "zj9a1fd0insh",
        "colab": {
          "base_uri": "https://localhost:8080/"
        },
        "outputId": "fab4e57f-9305-4515-ec39-23110536cf83"
      },
      "execution_count": 53,
      "outputs": [
        {
          "output_type": "stream",
          "name": "stdout",
          "text": [
            "full_sq column outliers percent ratio: 2.963002226227075\n",
            "life_sq column outliers percent ratio: 3.0743135799851586\n",
            "floor column outliers percent ratio: 2.0990140994381425\n",
            "state column outliers percent ratio: 0.0\n",
            "max_floor column outliers percent ratio: 0.6148627159970317\n",
            "material column outliers percent ratio: 17.338068482985264\n",
            "num_room column outliers percent ratio: 2.332237888264603\n",
            "kitch_sq column outliers percent ratio: 1.3728400296830277\n",
            "full_all column outliers percent ratio: 8.645181808544471\n",
            "price_doc column outliers percent ratio: 5.941906074419591\n"
          ]
        }
      ]
    },
    {
      "cell_type": "markdown",
      "source": [
        "- Сильных выбросов не наблюдается"
      ],
      "metadata": {
        "id": "LWMJ7pGhcsu4"
      }
    },
    {
      "cell_type": "markdown",
      "source": [
        "### 1.5.2 Набор с макропоказателями"
      ],
      "metadata": {
        "id": "rm7JYv4jjE_I"
      }
    },
    {
      "cell_type": "code",
      "source": [
        "iqr_percent_detection(macro)"
      ],
      "metadata": {
        "id": "c1zA1r5mjFTg",
        "colab": {
          "base_uri": "https://localhost:8080/"
        },
        "outputId": "8867ea9c-e716-426e-c8d0-4591457b93ab"
      },
      "execution_count": 54,
      "outputs": [
        {
          "output_type": "stream",
          "name": "stdout",
          "text": [
            "salary column outliers percent ratio: 0.0\n",
            "fixed_basket column outliers percent ratio: 0.0\n",
            "rent_price_3room_eco column outliers percent ratio: 1.247987117552335\n",
            "rent_price_2room_eco column outliers percent ratio: 0.0\n",
            "rent_price_1room_eco column outliers percent ratio: 0.0\n",
            "average_life_exp column outliers percent ratio: 14.69404186795491\n"
          ]
        }
      ]
    },
    {
      "cell_type": "markdown",
      "source": [
        "- Также как и до этого, данный датасет был более чистым по сравнению с первым df, так что проблем не наблюдается\n",
        "- Только в колонне average_life_exp есть что-то похожее на выброс, но как видно из предыдущей визуализации, данное значение в принципе адекватное"
      ],
      "metadata": {
        "id": "7tu4YqzBc1kH"
      }
    },
    {
      "cell_type": "markdown",
      "source": [
        "## 1.6 Создайте не менее 5 новых признаков на основе существующих данных. Опишите текстом обоснование создания каждой. Признаки должны привносить некую новую информацию для понимания цены квартиры"
      ],
      "metadata": {
        "id": "ZfLAbkV5jpxZ"
      }
    },
    {
      "cell_type": "code",
      "source": [
        "df_full_backup = df_full.copy()"
      ],
      "metadata": {
        "id": "-iqgDoSx6qmZ"
      },
      "execution_count": 55,
      "outputs": []
    },
    {
      "cell_type": "code",
      "source": [
        "# just to be safe\n",
        "# df_full = df_full_backup.copy()"
      ],
      "metadata": {
        "id": "EdZJvNlEDx8M"
      },
      "execution_count": 56,
      "outputs": []
    },
    {
      "cell_type": "code",
      "source": [
        "df_full.info()"
      ],
      "metadata": {
        "id": "o3Rv6-XcjqJI",
        "colab": {
          "base_uri": "https://localhost:8080/"
        },
        "outputId": "5a64f89d-4324-424e-c84e-1509949489b9"
      },
      "execution_count": 57,
      "outputs": [
        {
          "output_type": "stream",
          "name": "stdout",
          "text": [
            "<class 'pandas.core.frame.DataFrame'>\n",
            "Int64Index: 18866 entries, 0 to 18865\n",
            "Data columns (total 20 columns):\n",
            " #   Column                Non-Null Count  Dtype         \n",
            "---  ------                --------------  -----         \n",
            " 0   id                    18866 non-null  int64         \n",
            " 1   timestamp             18866 non-null  datetime64[ns]\n",
            " 2   full_sq               18866 non-null  float64       \n",
            " 3   life_sq               18866 non-null  float64       \n",
            " 4   floor                 18866 non-null  float64       \n",
            " 5   state                 18866 non-null  float64       \n",
            " 6   max_floor             18866 non-null  float64       \n",
            " 7   material              18866 non-null  float64       \n",
            " 8   build_year            15961 non-null  datetime64[ns]\n",
            " 9   num_room              18866 non-null  float64       \n",
            " 10  kitch_sq              18866 non-null  float64       \n",
            " 11  full_all              18866 non-null  float64       \n",
            " 12  sub_area              18866 non-null  object        \n",
            " 13  price_doc             18866 non-null  float64       \n",
            " 14  salary                18866 non-null  float64       \n",
            " 15  fixed_basket          18866 non-null  float64       \n",
            " 16  rent_price_3room_eco  18866 non-null  float64       \n",
            " 17  rent_price_2room_eco  18866 non-null  float64       \n",
            " 18  rent_price_1room_eco  18866 non-null  float64       \n",
            " 19  average_life_exp      18866 non-null  float64       \n",
            "dtypes: datetime64[ns](2), float64(16), int64(1), object(1)\n",
            "memory usage: 3.0+ MB\n"
          ]
        }
      ]
    },
    {
      "cell_type": "code",
      "source": [
        "df_full.describe()"
      ],
      "metadata": {
        "colab": {
          "base_uri": "https://localhost:8080/",
          "height": 364
        },
        "id": "NN_5a12Ndd34",
        "outputId": "18bae530-e330-40d7-91ff-3b95aa2db9ba"
      },
      "execution_count": 58,
      "outputs": [
        {
          "output_type": "execute_result",
          "data": {
            "text/plain": [
              "               id     full_sq     life_sq       floor       state   max_floor  \\\n",
              "count  18866.0000  18866.0000  18866.0000  18866.0000  18866.0000  18866.0000   \n",
              "mean   18799.7886     53.5985     33.7460      7.2863      2.1993     12.4208   \n",
              "std     7082.4287     21.0011     17.8515      5.1497      0.7399      6.0300   \n",
              "min        9.0000      1.0000      0.0000      0.0000      1.0000      0.0000   \n",
              "25%    13513.2500     38.0000     20.0000      3.0000      2.0000      9.0000   \n",
              "50%    19043.5000     49.0000     31.0000      6.0000      2.1993     12.4208   \n",
              "75%    24748.7500     63.0000     42.0000     10.0000      3.0000     17.0000   \n",
              "max    30473.0000    303.0000    407.0000     37.0000      4.0000     48.0000   \n",
              "\n",
              "         material    num_room    kitch_sq    full_all   price_doc      salary  \\\n",
              "count  18866.0000  18866.0000  18866.0000  1.8866e+04  1.8866e+04  18866.0000   \n",
              "mean       1.8901      1.9321      6.8285  1.5972e+05  7.5673e+06  59882.2021   \n",
              "std        1.4482      0.8100      4.6199  3.0435e+05  4.8533e+06   3718.2141   \n",
              "min        1.0000      0.0000      0.0000  2.6930e+03  5.0000e+05  44898.7000   \n",
              "25%        1.0000      1.0000      5.0000  4.8439e+04  5.1000e+06  55485.2000   \n",
              "50%        1.0000      2.0000      6.8285  8.7713e+04  6.6900e+06  61208.0000   \n",
              "75%        2.0000      2.0000      9.0000  1.2535e+05  8.9000e+06  61208.0000   \n",
              "max        6.0000      9.0000    123.0000  1.7167e+06  7.1200e+07  64310.0000   \n",
              "\n",
              "       fixed_basket  rent_price_3room_eco  rent_price_2room_eco  \\\n",
              "count    18866.0000            18866.0000            18866.0000   \n",
              "mean     16215.5343               49.8407               41.7767   \n",
              "std       1161.5241                1.8440                1.2149   \n",
              "min      12922.9700               43.4200               37.7300   \n",
              "25%      15417.3400               48.7000               41.1700   \n",
              "50%      16165.3000               49.7500               41.9100   \n",
              "75%      16648.7000               50.9300               42.6400   \n",
              "max      18745.2800               53.2100               43.8500   \n",
              "\n",
              "       rent_price_1room_eco  average_life_exp  \n",
              "count            18866.0000        18866.0000  \n",
              "mean                33.5046           76.5993  \n",
              "std                  1.1631            0.2299  \n",
              "min                 30.2900           75.7400  \n",
              "25%                 32.9600           76.3700  \n",
              "50%                 33.6500           76.7000  \n",
              "75%                 34.3500           76.7000  \n",
              "max                 35.3700           76.7700  "
            ],
            "text/html": [
              "\n",
              "  <div id=\"df-e15056fd-24b0-4a66-b827-f127dfc46b7a\">\n",
              "    <div class=\"colab-df-container\">\n",
              "      <div>\n",
              "<style scoped>\n",
              "    .dataframe tbody tr th:only-of-type {\n",
              "        vertical-align: middle;\n",
              "    }\n",
              "\n",
              "    .dataframe tbody tr th {\n",
              "        vertical-align: top;\n",
              "    }\n",
              "\n",
              "    .dataframe thead th {\n",
              "        text-align: right;\n",
              "    }\n",
              "</style>\n",
              "<table border=\"1\" class=\"dataframe\">\n",
              "  <thead>\n",
              "    <tr style=\"text-align: right;\">\n",
              "      <th></th>\n",
              "      <th>id</th>\n",
              "      <th>full_sq</th>\n",
              "      <th>life_sq</th>\n",
              "      <th>floor</th>\n",
              "      <th>state</th>\n",
              "      <th>max_floor</th>\n",
              "      <th>material</th>\n",
              "      <th>num_room</th>\n",
              "      <th>kitch_sq</th>\n",
              "      <th>full_all</th>\n",
              "      <th>price_doc</th>\n",
              "      <th>salary</th>\n",
              "      <th>fixed_basket</th>\n",
              "      <th>rent_price_3room_eco</th>\n",
              "      <th>rent_price_2room_eco</th>\n",
              "      <th>rent_price_1room_eco</th>\n",
              "      <th>average_life_exp</th>\n",
              "    </tr>\n",
              "  </thead>\n",
              "  <tbody>\n",
              "    <tr>\n",
              "      <th>count</th>\n",
              "      <td>18866.0000</td>\n",
              "      <td>18866.0000</td>\n",
              "      <td>18866.0000</td>\n",
              "      <td>18866.0000</td>\n",
              "      <td>18866.0000</td>\n",
              "      <td>18866.0000</td>\n",
              "      <td>18866.0000</td>\n",
              "      <td>18866.0000</td>\n",
              "      <td>18866.0000</td>\n",
              "      <td>1.8866e+04</td>\n",
              "      <td>1.8866e+04</td>\n",
              "      <td>18866.0000</td>\n",
              "      <td>18866.0000</td>\n",
              "      <td>18866.0000</td>\n",
              "      <td>18866.0000</td>\n",
              "      <td>18866.0000</td>\n",
              "      <td>18866.0000</td>\n",
              "    </tr>\n",
              "    <tr>\n",
              "      <th>mean</th>\n",
              "      <td>18799.7886</td>\n",
              "      <td>53.5985</td>\n",
              "      <td>33.7460</td>\n",
              "      <td>7.2863</td>\n",
              "      <td>2.1993</td>\n",
              "      <td>12.4208</td>\n",
              "      <td>1.8901</td>\n",
              "      <td>1.9321</td>\n",
              "      <td>6.8285</td>\n",
              "      <td>1.5972e+05</td>\n",
              "      <td>7.5673e+06</td>\n",
              "      <td>59882.2021</td>\n",
              "      <td>16215.5343</td>\n",
              "      <td>49.8407</td>\n",
              "      <td>41.7767</td>\n",
              "      <td>33.5046</td>\n",
              "      <td>76.5993</td>\n",
              "    </tr>\n",
              "    <tr>\n",
              "      <th>std</th>\n",
              "      <td>7082.4287</td>\n",
              "      <td>21.0011</td>\n",
              "      <td>17.8515</td>\n",
              "      <td>5.1497</td>\n",
              "      <td>0.7399</td>\n",
              "      <td>6.0300</td>\n",
              "      <td>1.4482</td>\n",
              "      <td>0.8100</td>\n",
              "      <td>4.6199</td>\n",
              "      <td>3.0435e+05</td>\n",
              "      <td>4.8533e+06</td>\n",
              "      <td>3718.2141</td>\n",
              "      <td>1161.5241</td>\n",
              "      <td>1.8440</td>\n",
              "      <td>1.2149</td>\n",
              "      <td>1.1631</td>\n",
              "      <td>0.2299</td>\n",
              "    </tr>\n",
              "    <tr>\n",
              "      <th>min</th>\n",
              "      <td>9.0000</td>\n",
              "      <td>1.0000</td>\n",
              "      <td>0.0000</td>\n",
              "      <td>0.0000</td>\n",
              "      <td>1.0000</td>\n",
              "      <td>0.0000</td>\n",
              "      <td>1.0000</td>\n",
              "      <td>0.0000</td>\n",
              "      <td>0.0000</td>\n",
              "      <td>2.6930e+03</td>\n",
              "      <td>5.0000e+05</td>\n",
              "      <td>44898.7000</td>\n",
              "      <td>12922.9700</td>\n",
              "      <td>43.4200</td>\n",
              "      <td>37.7300</td>\n",
              "      <td>30.2900</td>\n",
              "      <td>75.7400</td>\n",
              "    </tr>\n",
              "    <tr>\n",
              "      <th>25%</th>\n",
              "      <td>13513.2500</td>\n",
              "      <td>38.0000</td>\n",
              "      <td>20.0000</td>\n",
              "      <td>3.0000</td>\n",
              "      <td>2.0000</td>\n",
              "      <td>9.0000</td>\n",
              "      <td>1.0000</td>\n",
              "      <td>1.0000</td>\n",
              "      <td>5.0000</td>\n",
              "      <td>4.8439e+04</td>\n",
              "      <td>5.1000e+06</td>\n",
              "      <td>55485.2000</td>\n",
              "      <td>15417.3400</td>\n",
              "      <td>48.7000</td>\n",
              "      <td>41.1700</td>\n",
              "      <td>32.9600</td>\n",
              "      <td>76.3700</td>\n",
              "    </tr>\n",
              "    <tr>\n",
              "      <th>50%</th>\n",
              "      <td>19043.5000</td>\n",
              "      <td>49.0000</td>\n",
              "      <td>31.0000</td>\n",
              "      <td>6.0000</td>\n",
              "      <td>2.1993</td>\n",
              "      <td>12.4208</td>\n",
              "      <td>1.0000</td>\n",
              "      <td>2.0000</td>\n",
              "      <td>6.8285</td>\n",
              "      <td>8.7713e+04</td>\n",
              "      <td>6.6900e+06</td>\n",
              "      <td>61208.0000</td>\n",
              "      <td>16165.3000</td>\n",
              "      <td>49.7500</td>\n",
              "      <td>41.9100</td>\n",
              "      <td>33.6500</td>\n",
              "      <td>76.7000</td>\n",
              "    </tr>\n",
              "    <tr>\n",
              "      <th>75%</th>\n",
              "      <td>24748.7500</td>\n",
              "      <td>63.0000</td>\n",
              "      <td>42.0000</td>\n",
              "      <td>10.0000</td>\n",
              "      <td>3.0000</td>\n",
              "      <td>17.0000</td>\n",
              "      <td>2.0000</td>\n",
              "      <td>2.0000</td>\n",
              "      <td>9.0000</td>\n",
              "      <td>1.2535e+05</td>\n",
              "      <td>8.9000e+06</td>\n",
              "      <td>61208.0000</td>\n",
              "      <td>16648.7000</td>\n",
              "      <td>50.9300</td>\n",
              "      <td>42.6400</td>\n",
              "      <td>34.3500</td>\n",
              "      <td>76.7000</td>\n",
              "    </tr>\n",
              "    <tr>\n",
              "      <th>max</th>\n",
              "      <td>30473.0000</td>\n",
              "      <td>303.0000</td>\n",
              "      <td>407.0000</td>\n",
              "      <td>37.0000</td>\n",
              "      <td>4.0000</td>\n",
              "      <td>48.0000</td>\n",
              "      <td>6.0000</td>\n",
              "      <td>9.0000</td>\n",
              "      <td>123.0000</td>\n",
              "      <td>1.7167e+06</td>\n",
              "      <td>7.1200e+07</td>\n",
              "      <td>64310.0000</td>\n",
              "      <td>18745.2800</td>\n",
              "      <td>53.2100</td>\n",
              "      <td>43.8500</td>\n",
              "      <td>35.3700</td>\n",
              "      <td>76.7700</td>\n",
              "    </tr>\n",
              "  </tbody>\n",
              "</table>\n",
              "</div>\n",
              "      <button class=\"colab-df-convert\" onclick=\"convertToInteractive('df-e15056fd-24b0-4a66-b827-f127dfc46b7a')\"\n",
              "              title=\"Convert this dataframe to an interactive table.\"\n",
              "              style=\"display:none;\">\n",
              "        \n",
              "  <svg xmlns=\"http://www.w3.org/2000/svg\" height=\"24px\"viewBox=\"0 0 24 24\"\n",
              "       width=\"24px\">\n",
              "    <path d=\"M0 0h24v24H0V0z\" fill=\"none\"/>\n",
              "    <path d=\"M18.56 5.44l.94 2.06.94-2.06 2.06-.94-2.06-.94-.94-2.06-.94 2.06-2.06.94zm-11 1L8.5 8.5l.94-2.06 2.06-.94-2.06-.94L8.5 2.5l-.94 2.06-2.06.94zm10 10l.94 2.06.94-2.06 2.06-.94-2.06-.94-.94-2.06-.94 2.06-2.06.94z\"/><path d=\"M17.41 7.96l-1.37-1.37c-.4-.4-.92-.59-1.43-.59-.52 0-1.04.2-1.43.59L10.3 9.45l-7.72 7.72c-.78.78-.78 2.05 0 2.83L4 21.41c.39.39.9.59 1.41.59.51 0 1.02-.2 1.41-.59l7.78-7.78 2.81-2.81c.8-.78.8-2.07 0-2.86zM5.41 20L4 18.59l7.72-7.72 1.47 1.35L5.41 20z\"/>\n",
              "  </svg>\n",
              "      </button>\n",
              "      \n",
              "  <style>\n",
              "    .colab-df-container {\n",
              "      display:flex;\n",
              "      flex-wrap:wrap;\n",
              "      gap: 12px;\n",
              "    }\n",
              "\n",
              "    .colab-df-convert {\n",
              "      background-color: #E8F0FE;\n",
              "      border: none;\n",
              "      border-radius: 50%;\n",
              "      cursor: pointer;\n",
              "      display: none;\n",
              "      fill: #1967D2;\n",
              "      height: 32px;\n",
              "      padding: 0 0 0 0;\n",
              "      width: 32px;\n",
              "    }\n",
              "\n",
              "    .colab-df-convert:hover {\n",
              "      background-color: #E2EBFA;\n",
              "      box-shadow: 0px 1px 2px rgba(60, 64, 67, 0.3), 0px 1px 3px 1px rgba(60, 64, 67, 0.15);\n",
              "      fill: #174EA6;\n",
              "    }\n",
              "\n",
              "    [theme=dark] .colab-df-convert {\n",
              "      background-color: #3B4455;\n",
              "      fill: #D2E3FC;\n",
              "    }\n",
              "\n",
              "    [theme=dark] .colab-df-convert:hover {\n",
              "      background-color: #434B5C;\n",
              "      box-shadow: 0px 1px 3px 1px rgba(0, 0, 0, 0.15);\n",
              "      filter: drop-shadow(0px 1px 2px rgba(0, 0, 0, 0.3));\n",
              "      fill: #FFFFFF;\n",
              "    }\n",
              "  </style>\n",
              "\n",
              "      <script>\n",
              "        const buttonEl =\n",
              "          document.querySelector('#df-e15056fd-24b0-4a66-b827-f127dfc46b7a button.colab-df-convert');\n",
              "        buttonEl.style.display =\n",
              "          google.colab.kernel.accessAllowed ? 'block' : 'none';\n",
              "\n",
              "        async function convertToInteractive(key) {\n",
              "          const element = document.querySelector('#df-e15056fd-24b0-4a66-b827-f127dfc46b7a');\n",
              "          const dataTable =\n",
              "            await google.colab.kernel.invokeFunction('convertToInteractive',\n",
              "                                                     [key], {});\n",
              "          if (!dataTable) return;\n",
              "\n",
              "          const docLinkHtml = 'Like what you see? Visit the ' +\n",
              "            '<a target=\"_blank\" href=https://colab.research.google.com/notebooks/data_table.ipynb>data table notebook</a>'\n",
              "            + ' to learn more about interactive tables.';\n",
              "          element.innerHTML = '';\n",
              "          dataTable['output_type'] = 'display_data';\n",
              "          await google.colab.output.renderOutput(dataTable, element);\n",
              "          const docLink = document.createElement('div');\n",
              "          docLink.innerHTML = docLinkHtml;\n",
              "          element.appendChild(docLink);\n",
              "        }\n",
              "      </script>\n",
              "    </div>\n",
              "  </div>\n",
              "  "
            ]
          },
          "metadata": {},
          "execution_count": 58
        }
      ]
    },
    {
      "cell_type": "code",
      "source": [
        "df_full.sample(5)"
      ],
      "metadata": {
        "id": "Ee3YeJSZmxHu",
        "colab": {
          "base_uri": "https://localhost:8080/",
          "height": 357
        },
        "outputId": "6bdb9da0-7d03-4617-89c6-e782392e1405"
      },
      "execution_count": 59,
      "outputs": [
        {
          "output_type": "execute_result",
          "data": {
            "text/plain": [
              "          id  timestamp  full_sq  life_sq  floor  state  max_floor  material  \\\n",
              "10922  22925 2014-09-25     61.0     61.0   14.0    1.0       17.0       4.0   \n",
              "16703  30257 2015-06-15    101.0     53.0   14.0    3.0       21.0       6.0   \n",
              "4433   15014 2014-02-14     53.0     27.0   10.0    2.0       14.0       1.0   \n",
              "6095   17051 2014-04-07    113.0     78.0   14.0    3.0       17.0       1.0   \n",
              "5202   15938 2014-03-12     75.0     43.0    3.0    2.0       17.0       1.0   \n",
              "\n",
              "      build_year  num_room  kitch_sq   full_all              sub_area  \\\n",
              "10922 2014-01-01       2.0       1.0    17790.0  Poselenie Vnukovskoe   \n",
              "16703 2002-01-01       3.0      14.0    78810.0               Koptevo   \n",
              "4433  1982-01-01       2.0      10.0   155572.0             Butyrskoe   \n",
              "6095  1998-01-01       3.0      11.0   102726.0             Jakimanka   \n",
              "5202  1983-01-01       3.0      10.0  1716730.0  Birjulevo Vostochnoe   \n",
              "\n",
              "        price_doc   salary  fixed_basket  rent_price_3room_eco  \\\n",
              "10922  6.9512e+06  61208.0      16165.30                 51.41   \n",
              "16703  1.4499e+07  64310.0      18720.65                 49.01   \n",
              "4433   8.6500e+06  61208.0      15730.81                 49.24   \n",
              "6095   2.7500e+07  61208.0      16041.58                 49.32   \n",
              "5202   8.6000e+06  61208.0      15916.88                 49.75   \n",
              "\n",
              "       rent_price_2room_eco  rent_price_1room_eco  average_life_exp  \n",
              "10922                 43.26                 34.52             76.70  \n",
              "16703                 38.91                 30.29             76.77  \n",
              "4433                  41.79                 33.65             76.70  \n",
              "6095                  40.95                 32.96             76.70  \n",
              "5202                  41.91                 33.26             76.70  "
            ],
            "text/html": [
              "\n",
              "  <div id=\"df-968baffc-6761-48d2-a7e5-881d5a4b6736\">\n",
              "    <div class=\"colab-df-container\">\n",
              "      <div>\n",
              "<style scoped>\n",
              "    .dataframe tbody tr th:only-of-type {\n",
              "        vertical-align: middle;\n",
              "    }\n",
              "\n",
              "    .dataframe tbody tr th {\n",
              "        vertical-align: top;\n",
              "    }\n",
              "\n",
              "    .dataframe thead th {\n",
              "        text-align: right;\n",
              "    }\n",
              "</style>\n",
              "<table border=\"1\" class=\"dataframe\">\n",
              "  <thead>\n",
              "    <tr style=\"text-align: right;\">\n",
              "      <th></th>\n",
              "      <th>id</th>\n",
              "      <th>timestamp</th>\n",
              "      <th>full_sq</th>\n",
              "      <th>life_sq</th>\n",
              "      <th>floor</th>\n",
              "      <th>state</th>\n",
              "      <th>max_floor</th>\n",
              "      <th>material</th>\n",
              "      <th>build_year</th>\n",
              "      <th>num_room</th>\n",
              "      <th>kitch_sq</th>\n",
              "      <th>full_all</th>\n",
              "      <th>sub_area</th>\n",
              "      <th>price_doc</th>\n",
              "      <th>salary</th>\n",
              "      <th>fixed_basket</th>\n",
              "      <th>rent_price_3room_eco</th>\n",
              "      <th>rent_price_2room_eco</th>\n",
              "      <th>rent_price_1room_eco</th>\n",
              "      <th>average_life_exp</th>\n",
              "    </tr>\n",
              "  </thead>\n",
              "  <tbody>\n",
              "    <tr>\n",
              "      <th>10922</th>\n",
              "      <td>22925</td>\n",
              "      <td>2014-09-25</td>\n",
              "      <td>61.0</td>\n",
              "      <td>61.0</td>\n",
              "      <td>14.0</td>\n",
              "      <td>1.0</td>\n",
              "      <td>17.0</td>\n",
              "      <td>4.0</td>\n",
              "      <td>2014-01-01</td>\n",
              "      <td>2.0</td>\n",
              "      <td>1.0</td>\n",
              "      <td>17790.0</td>\n",
              "      <td>Poselenie Vnukovskoe</td>\n",
              "      <td>6.9512e+06</td>\n",
              "      <td>61208.0</td>\n",
              "      <td>16165.30</td>\n",
              "      <td>51.41</td>\n",
              "      <td>43.26</td>\n",
              "      <td>34.52</td>\n",
              "      <td>76.70</td>\n",
              "    </tr>\n",
              "    <tr>\n",
              "      <th>16703</th>\n",
              "      <td>30257</td>\n",
              "      <td>2015-06-15</td>\n",
              "      <td>101.0</td>\n",
              "      <td>53.0</td>\n",
              "      <td>14.0</td>\n",
              "      <td>3.0</td>\n",
              "      <td>21.0</td>\n",
              "      <td>6.0</td>\n",
              "      <td>2002-01-01</td>\n",
              "      <td>3.0</td>\n",
              "      <td>14.0</td>\n",
              "      <td>78810.0</td>\n",
              "      <td>Koptevo</td>\n",
              "      <td>1.4499e+07</td>\n",
              "      <td>64310.0</td>\n",
              "      <td>18720.65</td>\n",
              "      <td>49.01</td>\n",
              "      <td>38.91</td>\n",
              "      <td>30.29</td>\n",
              "      <td>76.77</td>\n",
              "    </tr>\n",
              "    <tr>\n",
              "      <th>4433</th>\n",
              "      <td>15014</td>\n",
              "      <td>2014-02-14</td>\n",
              "      <td>53.0</td>\n",
              "      <td>27.0</td>\n",
              "      <td>10.0</td>\n",
              "      <td>2.0</td>\n",
              "      <td>14.0</td>\n",
              "      <td>1.0</td>\n",
              "      <td>1982-01-01</td>\n",
              "      <td>2.0</td>\n",
              "      <td>10.0</td>\n",
              "      <td>155572.0</td>\n",
              "      <td>Butyrskoe</td>\n",
              "      <td>8.6500e+06</td>\n",
              "      <td>61208.0</td>\n",
              "      <td>15730.81</td>\n",
              "      <td>49.24</td>\n",
              "      <td>41.79</td>\n",
              "      <td>33.65</td>\n",
              "      <td>76.70</td>\n",
              "    </tr>\n",
              "    <tr>\n",
              "      <th>6095</th>\n",
              "      <td>17051</td>\n",
              "      <td>2014-04-07</td>\n",
              "      <td>113.0</td>\n",
              "      <td>78.0</td>\n",
              "      <td>14.0</td>\n",
              "      <td>3.0</td>\n",
              "      <td>17.0</td>\n",
              "      <td>1.0</td>\n",
              "      <td>1998-01-01</td>\n",
              "      <td>3.0</td>\n",
              "      <td>11.0</td>\n",
              "      <td>102726.0</td>\n",
              "      <td>Jakimanka</td>\n",
              "      <td>2.7500e+07</td>\n",
              "      <td>61208.0</td>\n",
              "      <td>16041.58</td>\n",
              "      <td>49.32</td>\n",
              "      <td>40.95</td>\n",
              "      <td>32.96</td>\n",
              "      <td>76.70</td>\n",
              "    </tr>\n",
              "    <tr>\n",
              "      <th>5202</th>\n",
              "      <td>15938</td>\n",
              "      <td>2014-03-12</td>\n",
              "      <td>75.0</td>\n",
              "      <td>43.0</td>\n",
              "      <td>3.0</td>\n",
              "      <td>2.0</td>\n",
              "      <td>17.0</td>\n",
              "      <td>1.0</td>\n",
              "      <td>1983-01-01</td>\n",
              "      <td>3.0</td>\n",
              "      <td>10.0</td>\n",
              "      <td>1716730.0</td>\n",
              "      <td>Birjulevo Vostochnoe</td>\n",
              "      <td>8.6000e+06</td>\n",
              "      <td>61208.0</td>\n",
              "      <td>15916.88</td>\n",
              "      <td>49.75</td>\n",
              "      <td>41.91</td>\n",
              "      <td>33.26</td>\n",
              "      <td>76.70</td>\n",
              "    </tr>\n",
              "  </tbody>\n",
              "</table>\n",
              "</div>\n",
              "      <button class=\"colab-df-convert\" onclick=\"convertToInteractive('df-968baffc-6761-48d2-a7e5-881d5a4b6736')\"\n",
              "              title=\"Convert this dataframe to an interactive table.\"\n",
              "              style=\"display:none;\">\n",
              "        \n",
              "  <svg xmlns=\"http://www.w3.org/2000/svg\" height=\"24px\"viewBox=\"0 0 24 24\"\n",
              "       width=\"24px\">\n",
              "    <path d=\"M0 0h24v24H0V0z\" fill=\"none\"/>\n",
              "    <path d=\"M18.56 5.44l.94 2.06.94-2.06 2.06-.94-2.06-.94-.94-2.06-.94 2.06-2.06.94zm-11 1L8.5 8.5l.94-2.06 2.06-.94-2.06-.94L8.5 2.5l-.94 2.06-2.06.94zm10 10l.94 2.06.94-2.06 2.06-.94-2.06-.94-.94-2.06-.94 2.06-2.06.94z\"/><path d=\"M17.41 7.96l-1.37-1.37c-.4-.4-.92-.59-1.43-.59-.52 0-1.04.2-1.43.59L10.3 9.45l-7.72 7.72c-.78.78-.78 2.05 0 2.83L4 21.41c.39.39.9.59 1.41.59.51 0 1.02-.2 1.41-.59l7.78-7.78 2.81-2.81c.8-.78.8-2.07 0-2.86zM5.41 20L4 18.59l7.72-7.72 1.47 1.35L5.41 20z\"/>\n",
              "  </svg>\n",
              "      </button>\n",
              "      \n",
              "  <style>\n",
              "    .colab-df-container {\n",
              "      display:flex;\n",
              "      flex-wrap:wrap;\n",
              "      gap: 12px;\n",
              "    }\n",
              "\n",
              "    .colab-df-convert {\n",
              "      background-color: #E8F0FE;\n",
              "      border: none;\n",
              "      border-radius: 50%;\n",
              "      cursor: pointer;\n",
              "      display: none;\n",
              "      fill: #1967D2;\n",
              "      height: 32px;\n",
              "      padding: 0 0 0 0;\n",
              "      width: 32px;\n",
              "    }\n",
              "\n",
              "    .colab-df-convert:hover {\n",
              "      background-color: #E2EBFA;\n",
              "      box-shadow: 0px 1px 2px rgba(60, 64, 67, 0.3), 0px 1px 3px 1px rgba(60, 64, 67, 0.15);\n",
              "      fill: #174EA6;\n",
              "    }\n",
              "\n",
              "    [theme=dark] .colab-df-convert {\n",
              "      background-color: #3B4455;\n",
              "      fill: #D2E3FC;\n",
              "    }\n",
              "\n",
              "    [theme=dark] .colab-df-convert:hover {\n",
              "      background-color: #434B5C;\n",
              "      box-shadow: 0px 1px 3px 1px rgba(0, 0, 0, 0.15);\n",
              "      filter: drop-shadow(0px 1px 2px rgba(0, 0, 0, 0.3));\n",
              "      fill: #FFFFFF;\n",
              "    }\n",
              "  </style>\n",
              "\n",
              "      <script>\n",
              "        const buttonEl =\n",
              "          document.querySelector('#df-968baffc-6761-48d2-a7e5-881d5a4b6736 button.colab-df-convert');\n",
              "        buttonEl.style.display =\n",
              "          google.colab.kernel.accessAllowed ? 'block' : 'none';\n",
              "\n",
              "        async function convertToInteractive(key) {\n",
              "          const element = document.querySelector('#df-968baffc-6761-48d2-a7e5-881d5a4b6736');\n",
              "          const dataTable =\n",
              "            await google.colab.kernel.invokeFunction('convertToInteractive',\n",
              "                                                     [key], {});\n",
              "          if (!dataTable) return;\n",
              "\n",
              "          const docLinkHtml = 'Like what you see? Visit the ' +\n",
              "            '<a target=\"_blank\" href=https://colab.research.google.com/notebooks/data_table.ipynb>data table notebook</a>'\n",
              "            + ' to learn more about interactive tables.';\n",
              "          element.innerHTML = '';\n",
              "          dataTable['output_type'] = 'display_data';\n",
              "          await google.colab.output.renderOutput(dataTable, element);\n",
              "          const docLink = document.createElement('div');\n",
              "          docLink.innerHTML = docLinkHtml;\n",
              "          element.appendChild(docLink);\n",
              "        }\n",
              "      </script>\n",
              "    </div>\n",
              "  </div>\n",
              "  "
            ]
          },
          "metadata": {},
          "execution_count": 59
        }
      ]
    },
    {
      "cell_type": "markdown",
      "source": [
        "- 1) признак price_per_square: цена за квадратный метр"
      ],
      "metadata": {
        "id": "vhBSCrWa7I9F"
      }
    },
    {
      "cell_type": "code",
      "source": [
        "df_full['price_per_square'] = df_full['price_doc'] / df_full['full_sq']"
      ],
      "metadata": {
        "id": "y-3tzZJs4iKW"
      },
      "execution_count": 60,
      "outputs": []
    },
    {
      "cell_type": "markdown",
      "source": [
        "- 2) признак material_worth: весомость цены материала из которого изготовлена единица"
      ],
      "metadata": {
        "id": "_HBc1k2g7sLn"
      }
    },
    {
      "cell_type": "code",
      "source": [
        "df_full['material_worth'] = df_full['price_doc'] / df_full['material']"
      ],
      "metadata": {
        "id": "gn4PupJW7Pra"
      },
      "execution_count": 61,
      "outputs": []
    },
    {
      "cell_type": "markdown",
      "source": [
        "- перевод строчного названия района в его числовой эквивалент"
      ],
      "metadata": {
        "id": "UJpkFIs4HVPd"
      }
    },
    {
      "cell_type": "code",
      "source": [
        "from sklearn.preprocessing import LabelEncoder"
      ],
      "metadata": {
        "id": "ZM9M59stEwHF"
      },
      "execution_count": 62,
      "outputs": []
    },
    {
      "cell_type": "code",
      "source": [
        "le = LabelEncoder()\n",
        "label = le.fit_transform(df_full['sub_area'])"
      ],
      "metadata": {
        "id": "MUK156qnEUHm"
      },
      "execution_count": 63,
      "outputs": []
    },
    {
      "cell_type": "code",
      "source": [
        "df_full.drop('sub_area', axis=1, inplace=True)\n",
        "df_full['sub_area'] = label"
      ],
      "metadata": {
        "id": "lPv2wnNUE9hf"
      },
      "execution_count": 64,
      "outputs": []
    },
    {
      "cell_type": "markdown",
      "source": [
        "- 3) sub_area_prestige: престижность района как отношение его локации к стоимости единицы"
      ],
      "metadata": {
        "id": "48DQNNMkIdmM"
      }
    },
    {
      "cell_type": "code",
      "source": [
        "df_full['sub_area_prestige'] = df_full['price_doc'] / df_full['sub_area']"
      ],
      "metadata": {
        "id": "rWqTVoMDIbYw"
      },
      "execution_count": 65,
      "outputs": []
    },
    {
      "cell_type": "markdown",
      "source": [
        "- 4) region_life_cost: зависимость между зарплатой и потребительской корзиной, показывающий общую стоимость проживания"
      ],
      "metadata": {
        "id": "OR4Byln1HBRr"
      }
    },
    {
      "cell_type": "code",
      "source": [
        "df_full['region_life_cost'] = df_full['salary'] / df_full['fixed_basket']"
      ],
      "metadata": {
        "id": "wnMxrzTVGa0Q"
      },
      "execution_count": 66,
      "outputs": []
    },
    {
      "cell_type": "code",
      "source": [
        "sns.boxplot(data=df_full, x='region_life_cost')"
      ],
      "metadata": {
        "colab": {
          "base_uri": "https://localhost:8080/",
          "height": 297
        },
        "id": "2b7hCyaUR6Ty",
        "outputId": "19da8d2a-bbbd-4b53-e9a1-fde6ddd88867"
      },
      "execution_count": 67,
      "outputs": [
        {
          "output_type": "execute_result",
          "data": {
            "text/plain": [
              "<matplotlib.axes._subplots.AxesSubplot at 0x7f07c56a5ac0>"
            ]
          },
          "metadata": {},
          "execution_count": 67
        },
        {
          "output_type": "display_data",
          "data": {
            "text/plain": [
              "<Figure size 432x288 with 1 Axes>"
            ],
            "image/png": "[encoded data removed]"
          },
          "metadata": {
            "needs_background": "light"
          }
        }
      ]
    },
    {
      "cell_type": "markdown",
      "source": [
        "- Наблюдается небольшой выброс, избавимся на всякий случай"
      ],
      "metadata": {
        "id": "LKyUhj0WSNIH"
      }
    },
    {
      "cell_type": "code",
      "source": [
        "df_full = clear_outliers(df_full, on_columns=['region_life_cost'])"
      ],
      "metadata": {
        "id": "np8PlniLSQp9"
      },
      "execution_count": 68,
      "outputs": []
    },
    {
      "cell_type": "code",
      "source": [
        "sns.boxplot(data=df_full, x='region_life_cost')"
      ],
      "metadata": {
        "colab": {
          "base_uri": "https://localhost:8080/",
          "height": 297
        },
        "id": "JF6yAw8mUasm",
        "outputId": "b1d62d44-b664-44b1-a954-792461df7783"
      },
      "execution_count": 69,
      "outputs": [
        {
          "output_type": "execute_result",
          "data": {
            "text/plain": [
              "<matplotlib.axes._subplots.AxesSubplot at 0x7f07c58564c0>"
            ]
          },
          "metadata": {},
          "execution_count": 69
        },
        {
          "output_type": "display_data",
          "data": {
            "text/plain": [
              "<Figure size 432x288 with 1 Axes>"
            ],
            "image/png": "[encoded data removed]"
          },
          "metadata": {
            "needs_background": "light"
          }
        }
      ]
    },
    {
      "cell_type": "markdown",
      "source": [
        "- 5) max_floor_price_impact: зависимость между количеством этажей в здании в котором продается квартира, и ее ценой"
      ],
      "metadata": {
        "id": "ARGWQV2mJHz7"
      }
    },
    {
      "cell_type": "code",
      "source": [
        "df_full['max_floor_price_impact'] = df_full['max_floor'] / df_full['price_doc']"
      ],
      "metadata": {
        "id": "wx2tLn6RJJTd"
      },
      "execution_count": 70,
      "outputs": []
    },
    {
      "cell_type": "code",
      "source": [
        "sns.boxplot(data=df_full, x='max_floor_price_impact')"
      ],
      "metadata": {
        "colab": {
          "base_uri": "https://localhost:8080/",
          "height": 297
        },
        "id": "XcpesnoEUtAp",
        "outputId": "e15e2419-aebb-4a50-f6e4-052e7d00bad1"
      },
      "execution_count": 71,
      "outputs": [
        {
          "output_type": "execute_result",
          "data": {
            "text/plain": [
              "<matplotlib.axes._subplots.AxesSubplot at 0x7f07c5694e80>"
            ]
          },
          "metadata": {},
          "execution_count": 71
        },
        {
          "output_type": "display_data",
          "data": {
            "text/plain": [
              "<Figure size 432x288 with 1 Axes>"
            ],
            "image/png": "[encoded data removed]"
          },
          "metadata": {
            "needs_background": "light"
          }
        }
      ]
    },
    {
      "cell_type": "markdown",
      "source": [
        "- Тоже избавимся от пары выбросов"
      ],
      "metadata": {
        "id": "ylYiwJ1UXhbU"
      }
    },
    {
      "cell_type": "code",
      "source": [
        "df_full = clear_outliers(df_full, on_columns=['max_floor_price_impact'])"
      ],
      "metadata": {
        "id": "HjHlMxy_Xk4Y"
      },
      "execution_count": 72,
      "outputs": []
    },
    {
      "cell_type": "code",
      "source": [
        "sns.boxplot(data=df_full, x='max_floor_price_impact')"
      ],
      "metadata": {
        "colab": {
          "base_uri": "https://localhost:8080/",
          "height": 297
        },
        "id": "sEyLPUUQXrjK",
        "outputId": "511aea3f-b214-4835-d803-9bdbaec30ab9"
      },
      "execution_count": 73,
      "outputs": [
        {
          "output_type": "execute_result",
          "data": {
            "text/plain": [
              "<matplotlib.axes._subplots.AxesSubplot at 0x7f07c57537c0>"
            ]
          },
          "metadata": {},
          "execution_count": 73
        },
        {
          "output_type": "display_data",
          "data": {
            "text/plain": [
              "<Figure size 432x288 with 1 Axes>"
            ],
            "image/png": "[encoded data removed]"
          },
          "metadata": {
            "needs_background": "light"
          }
        }
      ]
    },
    {
      "cell_type": "markdown",
      "source": [
        "- 6) building_novelty: предположение что здание оснащено современными технологиями исходя из года постройки"
      ],
      "metadata": {
        "id": "e9K5-SVuJ91z"
      }
    },
    {
      "cell_type": "code",
      "source": [
        "df_full['building_novelty'] = df_full['build_year'].apply(lambda x: True if x.year > 2010 else False)"
      ],
      "metadata": {
        "id": "sIYK_oxDKHol"
      },
      "execution_count": 74,
      "outputs": []
    },
    {
      "cell_type": "code",
      "source": [
        "df_full.sample(5)"
      ],
      "metadata": {
        "colab": {
          "base_uri": "https://localhost:8080/",
          "height": 357
        },
        "id": "Yewr8XiFHK7D",
        "outputId": "452f9886-bd52-41ff-e82f-d0fa8fc30246"
      },
      "execution_count": 75,
      "outputs": [
        {
          "output_type": "execute_result",
          "data": {
            "text/plain": [
              "          id  timestamp  full_sq  life_sq  floor   state  max_floor  material  \\\n",
              "4428   15009 2014-02-14     63.0   44.000    3.0  3.0000    12.0000    1.0000   \n",
              "11670  23884 2014-10-23     36.0   22.000    1.0  3.0000     9.0000    5.0000   \n",
              "4471   15060 2014-02-15     37.0   19.000    8.0  3.0000    14.0000    1.0000   \n",
              "17786   4432 2012-10-27     39.0   33.746   11.0  2.1993    12.4208    1.8901   \n",
              "9492   21188 2014-07-30     54.0   35.000    3.0  2.0000     9.0000    2.0000   \n",
              "\n",
              "      build_year  num_room  kitch_sq  full_all   price_doc   salary  \\\n",
              "4428  1974-01-01    3.0000    7.0000   57107.0  1.0650e+07  61208.0   \n",
              "11670 1961-01-01    2.0000    7.0000  130396.0  6.2500e+06  61208.0   \n",
              "4471  2000-01-01    1.0000    7.0000  102618.0  5.3000e+06  61208.0   \n",
              "17786        NaT    1.9321    6.8285  156377.0  6.3318e+06  48830.4   \n",
              "9492  1957-01-01    2.0000    8.0000   64317.0  1.3500e+07  61208.0   \n",
              "\n",
              "       fixed_basket  rent_price_3room_eco  rent_price_2room_eco  \\\n",
              "4428       15730.81                 49.24                 41.79   \n",
              "11670      16269.79                 52.82                 43.85   \n",
              "4471       15730.81                 49.24                 41.79   \n",
              "17786      13807.34                 47.19                 41.19   \n",
              "9492       16251.41                 50.93                 41.97   \n",
              "\n",
              "       rent_price_1room_eco  average_life_exp  price_per_square  \\\n",
              "4428                  33.65             76.70       169047.6190   \n",
              "11670                 35.37             76.70       173611.1111   \n",
              "4471                  33.65             76.70       143243.2432   \n",
              "17786                 32.69             75.74       162353.6410   \n",
              "9492                  33.67             76.70       250000.0000   \n",
              "\n",
              "       material_worth  sub_area  sub_area_prestige  region_life_cost  \\\n",
              "4428       1.0650e+07       131         81297.7099            3.8910   \n",
              "11670      1.2500e+06        16        390625.0000            3.7621   \n",
              "4471       5.3000e+06        38        139473.6842            3.8910   \n",
              "17786      3.3500e+06       126         50252.3175            3.5366   \n",
              "9492       6.7500e+06        57        236842.1053            3.7663   \n",
              "\n",
              "       max_floor_price_impact  building_novelty  \n",
              "4428               1.1268e-06             False  \n",
              "11670              1.4400e-06             False  \n",
              "4471               2.6415e-06             False  \n",
              "17786              1.9617e-06             False  \n",
              "9492               6.6667e-07             False  "
            ],
            "text/html": [
              "\n",
              "  <div id=\"df-470ef3f6-aa7c-4750-b8a1-e1920234fb2b\">\n",
              "    <div class=\"colab-df-container\">\n",
              "      <div>\n",
              "<style scoped>\n",
              "    .dataframe tbody tr th:only-of-type {\n",
              "        vertical-align: middle;\n",
              "    }\n",
              "\n",
              "    .dataframe tbody tr th {\n",
              "        vertical-align: top;\n",
              "    }\n",
              "\n",
              "    .dataframe thead th {\n",
              "        text-align: right;\n",
              "    }\n",
              "</style>\n",
              "<table border=\"1\" class=\"dataframe\">\n",
              "  <thead>\n",
              "    <tr style=\"text-align: right;\">\n",
              "      <th></th>\n",
              "      <th>id</th>\n",
              "      <th>timestamp</th>\n",
              "      <th>full_sq</th>\n",
              "      <th>life_sq</th>\n",
              "      <th>floor</th>\n",
              "      <th>state</th>\n",
              "      <th>max_floor</th>\n",
              "      <th>material</th>\n",
              "      <th>build_year</th>\n",
              "      <th>num_room</th>\n",
              "      <th>kitch_sq</th>\n",
              "      <th>full_all</th>\n",
              "      <th>price_doc</th>\n",
              "      <th>salary</th>\n",
              "      <th>fixed_basket</th>\n",
              "      <th>rent_price_3room_eco</th>\n",
              "      <th>rent_price_2room_eco</th>\n",
              "      <th>rent_price_1room_eco</th>\n",
              "      <th>average_life_exp</th>\n",
              "      <th>price_per_square</th>\n",
              "      <th>material_worth</th>\n",
              "      <th>sub_area</th>\n",
              "      <th>sub_area_prestige</th>\n",
              "      <th>region_life_cost</th>\n",
              "      <th>max_floor_price_impact</th>\n",
              "      <th>building_novelty</th>\n",
              "    </tr>\n",
              "  </thead>\n",
              "  <tbody>\n",
              "    <tr>\n",
              "      <th>4428</th>\n",
              "      <td>15009</td>\n",
              "      <td>2014-02-14</td>\n",
              "      <td>63.0</td>\n",
              "      <td>44.000</td>\n",
              "      <td>3.0</td>\n",
              "      <td>3.0000</td>\n",
              "      <td>12.0000</td>\n",
              "      <td>1.0000</td>\n",
              "      <td>1974-01-01</td>\n",
              "      <td>3.0000</td>\n",
              "      <td>7.0000</td>\n",
              "      <td>57107.0</td>\n",
              "      <td>1.0650e+07</td>\n",
              "      <td>61208.0</td>\n",
              "      <td>15730.81</td>\n",
              "      <td>49.24</td>\n",
              "      <td>41.79</td>\n",
              "      <td>33.65</td>\n",
              "      <td>76.70</td>\n",
              "      <td>169047.6190</td>\n",
              "      <td>1.0650e+07</td>\n",
              "      <td>131</td>\n",
              "      <td>81297.7099</td>\n",
              "      <td>3.8910</td>\n",
              "      <td>1.1268e-06</td>\n",
              "      <td>False</td>\n",
              "    </tr>\n",
              "    <tr>\n",
              "      <th>11670</th>\n",
              "      <td>23884</td>\n",
              "      <td>2014-10-23</td>\n",
              "      <td>36.0</td>\n",
              "      <td>22.000</td>\n",
              "      <td>1.0</td>\n",
              "      <td>3.0000</td>\n",
              "      <td>9.0000</td>\n",
              "      <td>5.0000</td>\n",
              "      <td>1961-01-01</td>\n",
              "      <td>2.0000</td>\n",
              "      <td>7.0000</td>\n",
              "      <td>130396.0</td>\n",
              "      <td>6.2500e+06</td>\n",
              "      <td>61208.0</td>\n",
              "      <td>16269.79</td>\n",
              "      <td>52.82</td>\n",
              "      <td>43.85</td>\n",
              "      <td>35.37</td>\n",
              "      <td>76.70</td>\n",
              "      <td>173611.1111</td>\n",
              "      <td>1.2500e+06</td>\n",
              "      <td>16</td>\n",
              "      <td>390625.0000</td>\n",
              "      <td>3.7621</td>\n",
              "      <td>1.4400e-06</td>\n",
              "      <td>False</td>\n",
              "    </tr>\n",
              "    <tr>\n",
              "      <th>4471</th>\n",
              "      <td>15060</td>\n",
              "      <td>2014-02-15</td>\n",
              "      <td>37.0</td>\n",
              "      <td>19.000</td>\n",
              "      <td>8.0</td>\n",
              "      <td>3.0000</td>\n",
              "      <td>14.0000</td>\n",
              "      <td>1.0000</td>\n",
              "      <td>2000-01-01</td>\n",
              "      <td>1.0000</td>\n",
              "      <td>7.0000</td>\n",
              "      <td>102618.0</td>\n",
              "      <td>5.3000e+06</td>\n",
              "      <td>61208.0</td>\n",
              "      <td>15730.81</td>\n",
              "      <td>49.24</td>\n",
              "      <td>41.79</td>\n",
              "      <td>33.65</td>\n",
              "      <td>76.70</td>\n",
              "      <td>143243.2432</td>\n",
              "      <td>5.3000e+06</td>\n",
              "      <td>38</td>\n",
              "      <td>139473.6842</td>\n",
              "      <td>3.8910</td>\n",
              "      <td>2.6415e-06</td>\n",
              "      <td>False</td>\n",
              "    </tr>\n",
              "    <tr>\n",
              "      <th>17786</th>\n",
              "      <td>4432</td>\n",
              "      <td>2012-10-27</td>\n",
              "      <td>39.0</td>\n",
              "      <td>33.746</td>\n",
              "      <td>11.0</td>\n",
              "      <td>2.1993</td>\n",
              "      <td>12.4208</td>\n",
              "      <td>1.8901</td>\n",
              "      <td>NaT</td>\n",
              "      <td>1.9321</td>\n",
              "      <td>6.8285</td>\n",
              "      <td>156377.0</td>\n",
              "      <td>6.3318e+06</td>\n",
              "      <td>48830.4</td>\n",
              "      <td>13807.34</td>\n",
              "      <td>47.19</td>\n",
              "      <td>41.19</td>\n",
              "      <td>32.69</td>\n",
              "      <td>75.74</td>\n",
              "      <td>162353.6410</td>\n",
              "      <td>3.3500e+06</td>\n",
              "      <td>126</td>\n",
              "      <td>50252.3175</td>\n",
              "      <td>3.5366</td>\n",
              "      <td>1.9617e-06</td>\n",
              "      <td>False</td>\n",
              "    </tr>\n",
              "    <tr>\n",
              "      <th>9492</th>\n",
              "      <td>21188</td>\n",
              "      <td>2014-07-30</td>\n",
              "      <td>54.0</td>\n",
              "      <td>35.000</td>\n",
              "      <td>3.0</td>\n",
              "      <td>2.0000</td>\n",
              "      <td>9.0000</td>\n",
              "      <td>2.0000</td>\n",
              "      <td>1957-01-01</td>\n",
              "      <td>2.0000</td>\n",
              "      <td>8.0000</td>\n",
              "      <td>64317.0</td>\n",
              "      <td>1.3500e+07</td>\n",
              "      <td>61208.0</td>\n",
              "      <td>16251.41</td>\n",
              "      <td>50.93</td>\n",
              "      <td>41.97</td>\n",
              "      <td>33.67</td>\n",
              "      <td>76.70</td>\n",
              "      <td>250000.0000</td>\n",
              "      <td>6.7500e+06</td>\n",
              "      <td>57</td>\n",
              "      <td>236842.1053</td>\n",
              "      <td>3.7663</td>\n",
              "      <td>6.6667e-07</td>\n",
              "      <td>False</td>\n",
              "    </tr>\n",
              "  </tbody>\n",
              "</table>\n",
              "</div>\n",
              "      <button class=\"colab-df-convert\" onclick=\"convertToInteractive('df-470ef3f6-aa7c-4750-b8a1-e1920234fb2b')\"\n",
              "              title=\"Convert this dataframe to an interactive table.\"\n",
              "              style=\"display:none;\">\n",
              "        \n",
              "  <svg xmlns=\"http://www.w3.org/2000/svg\" height=\"24px\"viewBox=\"0 0 24 24\"\n",
              "       width=\"24px\">\n",
              "    <path d=\"M0 0h24v24H0V0z\" fill=\"none\"/>\n",
              "    <path d=\"M18.56 5.44l.94 2.06.94-2.06 2.06-.94-2.06-.94-.94-2.06-.94 2.06-2.06.94zm-11 1L8.5 8.5l.94-2.06 2.06-.94-2.06-.94L8.5 2.5l-.94 2.06-2.06.94zm10 10l.94 2.06.94-2.06 2.06-.94-2.06-.94-.94-2.06-.94 2.06-2.06.94z\"/><path d=\"M17.41 7.96l-1.37-1.37c-.4-.4-.92-.59-1.43-.59-.52 0-1.04.2-1.43.59L10.3 9.45l-7.72 7.72c-.78.78-.78 2.05 0 2.83L4 21.41c.39.39.9.59 1.41.59.51 0 1.02-.2 1.41-.59l7.78-7.78 2.81-2.81c.8-.78.8-2.07 0-2.86zM5.41 20L4 18.59l7.72-7.72 1.47 1.35L5.41 20z\"/>\n",
              "  </svg>\n",
              "      </button>\n",
              "      \n",
              "  <style>\n",
              "    .colab-df-container {\n",
              "      display:flex;\n",
              "      flex-wrap:wrap;\n",
              "      gap: 12px;\n",
              "    }\n",
              "\n",
              "    .colab-df-convert {\n",
              "      background-color: #E8F0FE;\n",
              "      border: none;\n",
              "      border-radius: 50%;\n",
              "      cursor: pointer;\n",
              "      display: none;\n",
              "      fill: #1967D2;\n",
              "      height: 32px;\n",
              "      padding: 0 0 0 0;\n",
              "      width: 32px;\n",
              "    }\n",
              "\n",
              "    .colab-df-convert:hover {\n",
              "      background-color: #E2EBFA;\n",
              "      box-shadow: 0px 1px 2px rgba(60, 64, 67, 0.3), 0px 1px 3px 1px rgba(60, 64, 67, 0.15);\n",
              "      fill: #174EA6;\n",
              "    }\n",
              "\n",
              "    [theme=dark] .colab-df-convert {\n",
              "      background-color: #3B4455;\n",
              "      fill: #D2E3FC;\n",
              "    }\n",
              "\n",
              "    [theme=dark] .colab-df-convert:hover {\n",
              "      background-color: #434B5C;\n",
              "      box-shadow: 0px 1px 3px 1px rgba(0, 0, 0, 0.15);\n",
              "      filter: drop-shadow(0px 1px 2px rgba(0, 0, 0, 0.3));\n",
              "      fill: #FFFFFF;\n",
              "    }\n",
              "  </style>\n",
              "\n",
              "      <script>\n",
              "        const buttonEl =\n",
              "          document.querySelector('#df-470ef3f6-aa7c-4750-b8a1-e1920234fb2b button.colab-df-convert');\n",
              "        buttonEl.style.display =\n",
              "          google.colab.kernel.accessAllowed ? 'block' : 'none';\n",
              "\n",
              "        async function convertToInteractive(key) {\n",
              "          const element = document.querySelector('#df-470ef3f6-aa7c-4750-b8a1-e1920234fb2b');\n",
              "          const dataTable =\n",
              "            await google.colab.kernel.invokeFunction('convertToInteractive',\n",
              "                                                     [key], {});\n",
              "          if (!dataTable) return;\n",
              "\n",
              "          const docLinkHtml = 'Like what you see? Visit the ' +\n",
              "            '<a target=\"_blank\" href=https://colab.research.google.com/notebooks/data_table.ipynb>data table notebook</a>'\n",
              "            + ' to learn more about interactive tables.';\n",
              "          element.innerHTML = '';\n",
              "          dataTable['output_type'] = 'display_data';\n",
              "          await google.colab.output.renderOutput(dataTable, element);\n",
              "          const docLink = document.createElement('div');\n",
              "          docLink.innerHTML = docLinkHtml;\n",
              "          element.appendChild(docLink);\n",
              "        }\n",
              "      </script>\n",
              "    </div>\n",
              "  </div>\n",
              "  "
            ]
          },
          "metadata": {},
          "execution_count": 75
        }
      ]
    },
    {
      "cell_type": "markdown",
      "source": [
        "- Так как я обнулял некоторые выбросы, заменим их значения NaN на среднее"
      ],
      "metadata": {
        "id": "nsO9q-CMYETw"
      }
    },
    {
      "cell_type": "code",
      "source": [
        "count_nan(df_full)"
      ],
      "metadata": {
        "colab": {
          "base_uri": "https://localhost:8080/"
        },
        "id": "bHmyFCg1YS8X",
        "outputId": "77c11a7b-19b5-4f3f-a10c-230494a68a8a"
      },
      "execution_count": 76,
      "outputs": [
        {
          "output_type": "stream",
          "name": "stdout",
          "text": [
            "id: 0\n",
            "timestamp: 0\n",
            "full_sq: 0\n",
            "life_sq: 0\n",
            "floor: 0\n",
            "state: 0\n",
            "max_floor: 0\n",
            "material: 0\n",
            "build_year: 2905\n",
            "num_room: 0\n",
            "kitch_sq: 0\n",
            "full_all: 0\n",
            "price_doc: 0\n",
            "salary: 0\n",
            "fixed_basket: 0\n",
            "rent_price_3room_eco: 0\n",
            "rent_price_2room_eco: 0\n",
            "rent_price_1room_eco: 0\n",
            "average_life_exp: 0\n",
            "price_per_square: 0\n",
            "material_worth: 0\n",
            "sub_area: 0\n",
            "sub_area_prestige: 0\n",
            "region_life_cost: 8\n",
            "max_floor_price_impact: 370\n",
            "building_novelty: 0\n"
          ]
        }
      ]
    },
    {
      "cell_type": "code",
      "source": [
        "df_full = fill_nan_data(df_full)"
      ],
      "metadata": {
        "id": "hPvVPM5IYMac"
      },
      "execution_count": 77,
      "outputs": []
    },
    {
      "cell_type": "code",
      "source": [
        "count_nan(df_full)"
      ],
      "metadata": {
        "colab": {
          "base_uri": "https://localhost:8080/"
        },
        "id": "prxLrczaYfG1",
        "outputId": "9a82598f-aab1-4807-e820-7bac75ef51a0"
      },
      "execution_count": 78,
      "outputs": [
        {
          "output_type": "stream",
          "name": "stdout",
          "text": [
            "id: 0\n",
            "timestamp: 0\n",
            "full_sq: 0\n",
            "life_sq: 0\n",
            "floor: 0\n",
            "state: 0\n",
            "max_floor: 0\n",
            "material: 0\n",
            "build_year: 2905\n",
            "num_room: 0\n",
            "kitch_sq: 0\n",
            "full_all: 0\n",
            "price_doc: 0\n",
            "salary: 0\n",
            "fixed_basket: 0\n",
            "rent_price_3room_eco: 0\n",
            "rent_price_2room_eco: 0\n",
            "rent_price_1room_eco: 0\n",
            "average_life_exp: 0\n",
            "price_per_square: 0\n",
            "material_worth: 0\n",
            "sub_area: 0\n",
            "sub_area_prestige: 0\n",
            "region_life_cost: 0\n",
            "max_floor_price_impact: 0\n",
            "building_novelty: 0\n"
          ]
        }
      ]
    },
    {
      "cell_type": "markdown",
      "source": [
        "## 1.7 Провести визуальный анализ всех признаков\n",
        "\n",
        "Ко всем графикам писать выводы текстом. Что вы видите, почему построили именно такую диаграмму"
      ],
      "metadata": {
        "id": "8xe_gJF1GFc-"
      }
    },
    {
      "cell_type": "markdown",
      "source": [
        "### 1.7.1 Анализ признаков по отдельности (где нужно делать группировки, преобразования категориальных типов данных к числовым, смотреть в разрезе других категориальных признаков)"
      ],
      "metadata": {
        "id": "esU3qvLVGF_-"
      }
    },
    {
      "cell_type": "code",
      "source": [
        "visualize_dataframe(df_full, ignore_columns=['building_novelty'])"
      ],
      "metadata": {
        "id": "AEearcoFGHWH",
        "colab": {
          "base_uri": "https://localhost:8080/",
          "height": 1000
        },
        "outputId": "9c1e8eb4-d387-4399-e629-a5d0b00776e2"
      },
      "execution_count": 79,
      "outputs": [
        {
          "output_type": "display_data",
          "data": {
            "text/plain": [
              "<Figure size 432x288 with 1 Axes>"
            ],
            "image/png": "[encoded data removed]"
          },
          "metadata": {
            "needs_background": "light"
          }
        },
        {
          "output_type": "display_data",
          "data": {
            "text/plain": [
              "<Figure size 432x288 with 1 Axes>"
            ],
            "image/png": "[encoded data removed]"
          },
          "metadata": {
            "needs_background": "light"
          }
        },
        {
          "output_type": "display_data",
          "data": {
            "text/plain": [
              "<Figure size 432x288 with 1 Axes>"
            ],
            "image/png": "[encoded data removed]"
          },
          "metadata": {
            "needs_background": "light"
          }
        },
        {
          "output_type": "display_data",
          "data": {
            "text/plain": [
              "<Figure size 432x288 with 1 Axes>"
            ],
            "image/png": "[encoded data removed]"
          },
          "metadata": {
            "needs_background": "light"
          }
        },
        {
          "output_type": "display_data",
          "data": {
            "text/plain": [
              "<Figure size 432x288 with 1 Axes>"
            ],
            "image/png": "[encoded data removed]"
          },
          "metadata": {
            "needs_background": "light"
          }
        },
        {
          "output_type": "display_data",
          "data": {
            "text/plain": [
              "<Figure size 432x288 with 1 Axes>"
            ],
            "image/png": "[encoded data removed]"
          },
          "metadata": {
            "needs_background": "light"
          }
        },
        {
          "output_type": "display_data",
          "data": {
            "text/plain": [
              "<Figure size 432x288 with 1 Axes>"
            ],
            "image/png": "[encoded data removed]"
          },
          "metadata": {
            "needs_background": "light"
          }
        },
        {
          "output_type": "display_data",
          "data": {
            "text/plain": [
              "<Figure size 432x288 with 1 Axes>"
            ],
            "image/png": "[encoded data removed]"
          },
          "metadata": {
            "needs_background": "light"
          }
        },
        {
          "output_type": "display_data",
          "data": {
            "text/plain": [
              "<Figure size 432x288 with 1 Axes>"
            ],
            "image/png": "[encoded data removed]"
          },
          "metadata": {
            "needs_background": "light"
          }
        },
        {
          "output_type": "display_data",
          "data": {
            "text/plain": [
              "<Figure size 432x288 with 1 Axes>"
            ],
            "image/png": "[encoded data removed]"
          },
          "metadata": {
            "needs_background": "light"
          }
        },
        {
          "output_type": "display_data",
          "data": {
            "text/plain": [
              "<Figure size 432x288 with 1 Axes>"
            ],
            "image/png": "[encoded data removed]"
          },
          "metadata": {
            "needs_background": "light"
          }
        },
        {
          "output_type": "display_data",
          "data": {
            "text/plain": [
              "<Figure size 432x288 with 1 Axes>"
            ],
            "image/png": "[encoded data removed]"
          },
          "metadata": {
            "needs_background": "light"
          }
        },
        {
          "output_type": "display_data",
          "data": {
            "text/plain": [
              "<Figure size 432x288 with 1 Axes>"
            ],
            "image/png": "[encoded data removed]"
          },
          "metadata": {
            "needs_background": "light"
          }
        },
        {
          "output_type": "display_data",
          "data": {
            "text/plain": [
              "<Figure size 432x288 with 1 Axes>"
            ],
            "image/png": "[encoded data removed]"
          },
          "metadata": {
            "needs_background": "light"
          }
        },
        {
          "output_type": "display_data",
          "data": {
            "text/plain": [
              "<Figure size 432x288 with 1 Axes>"
            ],
            "image/png": "[encoded data removed]"
          },
          "metadata": {
            "needs_background": "light"
          }
        },
        {
          "output_type": "display_data",
          "data": {
            "text/plain": [
              "<Figure size 432x288 with 1 Axes>"
            ],
            "image/png": "[encoded data removed]"
          },
          "metadata": {
            "needs_background": "light"
          }
        },
        {
          "output_type": "display_data",
          "data": {
            "text/plain": [
              "<Figure size 432x288 with 1 Axes>"
            ],
            "image/png": "[encoded data removed]"
          },
          "metadata": {
            "needs_background": "light"
          }
        },
        {
          "output_type": "display_data",
          "data": {
            "text/plain": [
              "<Figure size 432x288 with 1 Axes>"
            ],
            "image/png": "[encoded data removed]"
          },
          "metadata": {
            "needs_background": "light"
          }
        },
        {
          "output_type": "display_data",
          "data": {
            "text/plain": [
              "<Figure size 432x288 with 1 Axes>"
            ],
            "image/png": "[encoded data removed]"
          },
          "metadata": {
            "needs_background": "light"
          }
        },
        {
          "output_type": "display_data",
          "data": {
            "text/plain": [
              "<Figure size 432x288 with 1 Axes>"
            ],
            "image/png": "[encoded data removed]"
          },
          "metadata": {
            "needs_background": "light"
          }
        },
        {
          "output_type": "display_data",
          "data": {
            "text/plain": [
              "<Figure size 432x288 with 1 Axes>"
            ],
            "image/png": "[encoded data removed]"
          },
          "metadata": {
            "needs_background": "light"
          }
        },
        {
          "output_type": "display_data",
          "data": {
            "text/plain": [
              "<Figure size 432x288 with 1 Axes>"
            ],
            "image/png": "[encoded data removed]"
          },
          "metadata": {
            "needs_background": "light"
          }
        },
        {
          "output_type": "display_data",
          "data": {
            "text/plain": [
              "<Figure size 432x288 with 1 Axes>"
            ],
            "image/png": "[encoded data removed]"
          },
          "metadata": {
            "needs_background": "light"
          }
        }
      ]
    },
    {
      "cell_type": "code",
      "source": [
        "visualize_dataframe(df_full, ignore_columns=['id', 'building_novelty', 'sub_area_prestige', 'price_per_square', 'kitch_sq', 'num_room', 'material', 'state'], method='histplot')"
      ],
      "metadata": {
        "colab": {
          "base_uri": "https://localhost:8080/",
          "height": 1000
        },
        "id": "XbiSoXXhQwAT",
        "outputId": "2a9be1b9-1e3d-47db-e295-f9886e7e8215"
      },
      "execution_count": 80,
      "outputs": [
        {
          "output_type": "display_data",
          "data": {
            "text/plain": [
              "<Figure size 432x288 with 1 Axes>"
            ],
            "image/png": "[encoded data removed]"
          },
          "metadata": {
            "needs_background": "light"
          }
        },
        {
          "output_type": "display_data",
          "data": {
            "text/plain": [
              "<Figure size 432x288 with 1 Axes>"
            ],
            "image/png": "[encoded data removed]"
          },
          "metadata": {
            "needs_background": "light"
          }
        },
        {
          "output_type": "display_data",
          "data": {
            "text/plain": [
              "<Figure size 432x288 with 1 Axes>"
            ],
            "image/png": "[encoded data removed]"
          },
          "metadata": {
            "needs_background": "light"
          }
        },
        {
          "output_type": "display_data",
          "data": {
            "text/plain": [
              "<Figure size 432x288 with 1 Axes>"
            ],
            "image/png": "[encoded data removed]"
          },
          "metadata": {
            "needs_background": "light"
          }
        },
        {
          "output_type": "display_data",
          "data": {
            "text/plain": [
              "<Figure size 432x288 with 1 Axes>"
            ],
            "image/png": "[encoded data removed]"
          },
          "metadata": {
            "needs_background": "light"
          }
        },
        {
          "output_type": "display_data",
          "data": {
            "text/plain": [
              "<Figure size 432x288 with 1 Axes>"
            ],
            "image/png": "[encoded data removed]"
          },
          "metadata": {
            "needs_background": "light"
          }
        },
        {
          "output_type": "display_data",
          "data": {
            "text/plain": [
              "<Figure size 432x288 with 1 Axes>"
            ],
            "image/png": "[encoded data removed]"
          },
          "metadata": {
            "needs_background": "light"
          }
        },
        {
          "output_type": "display_data",
          "data": {
            "text/plain": [
              "<Figure size 432x288 with 1 Axes>"
            ],
            "image/png": "[encoded data removed]"
          },
          "metadata": {
            "needs_background": "light"
          }
        },
        {
          "output_type": "display_data",
          "data": {
            "text/plain": [
              "<Figure size 432x288 with 1 Axes>"
            ],
            "image/png": "[encoded data removed]"
          },
          "metadata": {
            "needs_background": "light"
          }
        },
        {
          "output_type": "display_data",
          "data": {
            "text/plain": [
              "<Figure size 432x288 with 1 Axes>"
            ],
            "image/png": "[encoded data removed]"
          },
          "metadata": {
            "needs_background": "light"
          }
        },
        {
          "output_type": "display_data",
          "data": {
            "text/plain": [
              "<Figure size 432x288 with 1 Axes>"
            ],
            "image/png": "[encoded data removed]"
          },
          "metadata": {
            "needs_background": "light"
          }
        },
        {
          "output_type": "display_data",
          "data": {
            "text/plain": [
              "<Figure size 432x288 with 1 Axes>"
            ],
            "image/png": "[encoded data removed]"
          },
          "metadata": {
            "needs_background": "light"
          }
        },
        {
          "output_type": "display_data",
          "data": {
            "text/plain": [
              "<Figure size 432x288 with 1 Axes>"
            ],
            "image/png": "[encoded data removed]"
          },
          "metadata": {
            "needs_background": "light"
          }
        },
        {
          "output_type": "display_data",
          "data": {
            "text/plain": [
              "<Figure size 432x288 with 1 Axes>"
            ],
            "image/png": "[encoded data removed]"
          },
          "metadata": {
            "needs_background": "light"
          }
        },
        {
          "output_type": "display_data",
          "data": {
            "text/plain": [
              "<Figure size 432x288 with 1 Axes>"
            ],
            "image/png": "[encoded data removed]"
          },
          "metadata": {
            "needs_background": "light"
          }
        },
        {
          "output_type": "display_data",
          "data": {
            "text/plain": [
              "<Figure size 432x288 with 1 Axes>"
            ],
            "image/png": "[encoded data removed]"
          },
          "metadata": {
            "needs_background": "light"
          }
        }
      ]
    },
    {
      "cell_type": "code",
      "source": [
        "fig, ax = plt.subplots(figsize=(9, 8))\n",
        "sns.heatmap(df_full.corr())\n",
        "plt.show()"
      ],
      "metadata": {
        "colab": {
          "base_uri": "https://localhost:8080/",
          "height": 595
        },
        "id": "8s10O_S1Y3kE",
        "outputId": "f4f8c59a-cc37-4873-eb56-b44b0e169822"
      },
      "execution_count": 84,
      "outputs": [
        {
          "output_type": "display_data",
          "data": {
            "text/plain": [
              "<Figure size 648x576 with 2 Axes>"
            ],
            "image/png": "[encoded data removed]"
          },
          "metadata": {
            "needs_background": "light"
          }
        }
      ]
    },
    {
      "cell_type": "markdown",
      "source": [
        "### 1.7.2 Анализ совместного влияния признаков и их влияния на целевой признак"
      ],
      "metadata": {
        "id": "_SXlluEpGGR2"
      }
    },
    {
      "cell_type": "code",
      "source": [],
      "metadata": {
        "id": "bSMrXZ5CGHxW"
      },
      "execution_count": null,
      "outputs": []
    }
  ]
}