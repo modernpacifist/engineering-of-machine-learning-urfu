{
  "nbformat": 4,
  "nbformat_minor": 0,
  "metadata": {
    "anaconda-cloud": {},
    "kernelspec": {
      "display_name": "Python 3",
      "language": "python",
      "name": "python3"
    },
    "language_info": {
      "codemirror_mode": {
        "name": "ipython",
        "version": 3
      },
      "file_extension": ".py",
      "mimetype": "text/x-python",
      "name": "python",
      "nbconvert_exporter": "python",
      "pygments_lexer": "ipython3",
      "version": "3.7.6"
    },
    "colab": {
      "provenance": []
    }
  },
  "cells": [
    {
      "cell_type": "markdown",
      "metadata": {
        "id": "CXsKzXe_x-t4"
      },
      "source": [
        "**Импорт всех необходимых библиотек**"
      ]
    },
    {
      "cell_type": "code",
      "metadata": {
        "id": "RrSo2OJzx-Pw"
      },
      "source": [
        "import pandas as pd\n",
        "import numpy as np\n",
        "import matplotlib.pyplot as plt\n",
        "import seaborn as sns\n",
        "import re\n",
        "pd.set_option(\"display.max_rows\", 20)\n",
        "pd.set_option(\"display.max_columns\", 40)\n",
        "pd.set_option(\"display.precision\", 4)\n",
        "pd.set_option(\"plotting.backend\", \"matplotlib\")"
      ],
      "execution_count": 1,
      "outputs": []
    },
    {
      "cell_type": "markdown",
      "metadata": {
        "id": "UTKVH3sMutTM"
      },
      "source": [
        "# 1. Исследовательский анализ данных (exploratory data analysis - EDA)"
      ]
    },
    {
      "cell_type": "markdown",
      "metadata": {
        "id": "tiFgQjEcxnu2"
      },
      "source": [
        "## 1.1 Словесное описание признаков"
      ]
    },
    {
      "cell_type": "markdown",
      "source": [
        "<b><p>data.csv</p></b>\n",
        "<ul>\n",
        "<li>id: id транзакции </li>\n",
        "<li>timestamp: дата продажи (транзакции) </li>\n",
        "<li>full_sq: общая площадь  </li>\n",
        "<li>life_sq: жилая площадь  </li>\n",
        "<li>floor: этаж  </li>\n",
        "<li>max_floor: количество этажей в здании </li>\n",
        "<li>material: материал, из которого изговолены стены  </li>\n",
        "<li>build_year: год строительства </li>\n",
        "<li>num_room: количество жилых комнат </li>\n",
        "<li>kitch_sq: площадь кухни </li>\n",
        "<li>full_all: количество населения в регионе </li>\n",
        "<li> state: жилищные условия </li>\n",
        "<li>sub_area: название территории </li>\n",
        "<li>price_doc: цена квартиры (целевая переменная) </li>\n",
        "</ul>\n",
        "\n",
        "<b><p>macro.csv</p></b>\n",
        "<ul>\n",
        "<li>timestamp : дата, на которую актуальны макроэкономические показатели </li>\n",
        "<li>salary : средняя зарплата в регионе </li>\n",
        "<li>fixed_basket: стоимость потребительской корзины </li>\n",
        "<li>rent_price_3room_eco: стоимость аренды 3-х комнатного жилья эконом-класса </li>\n",
        "<li>rent_price_2room_eco: стоимость аренды 2-х комнатного жилья эконом-класса </li>\n",
        "<li>rent_price_1room_eco: стоимость аренды 1-но комнатного жилья эконом-класса </li>\n",
        "<li>average_life_exp: средняя продолжительность жизни в регионе </li>\n",
        "</ul>"
      ],
      "metadata": {
        "id": "5_Jpw5OmX6Oe"
      }
    },
    {
      "cell_type": "markdown",
      "metadata": {
        "id": "qy4yj--r07RL"
      },
      "source": [
        "## 1.2 Загрузка данных общее описание набора данных"
      ]
    },
    {
      "cell_type": "code",
      "metadata": {
        "id": "SJ3LbaoiutTT"
      },
      "source": [
        "df = pd.read_csv(\"https://raw.githubusercontent.com/aksenov7/Kaggle_competition_group/master/data.csv\")\n",
        "macro = pd.read_csv(\"https://raw.githubusercontent.com/aksenov7/Kaggle_competition_group/master/data_macro.csv\")\n",
        "\n",
        "df_backup = df.copy()\n",
        "macro_backup = macro.copy()"
      ],
      "execution_count": 2,
      "outputs": []
    },
    {
      "cell_type": "markdown",
      "source": [
        "### 1.2.1 Базовый датасет"
      ],
      "metadata": {
        "id": "Nz8wzZ6XdD9T"
      }
    },
    {
      "cell_type": "markdown",
      "source": [
        "Вывести пример данных (первые строки и случайные строки)"
      ],
      "metadata": {
        "id": "R_TdSpL5dlJy"
      }
    },
    {
      "cell_type": "code",
      "source": [
        "df.head(10)"
      ],
      "metadata": {
        "id": "gDzP8l3mdlgz",
        "colab": {
          "base_uri": "https://localhost:8080/",
          "height": 363
        },
        "outputId": "bd241732-a435-44eb-87bf-b7e6da0d27b3"
      },
      "execution_count": 3,
      "outputs": [
        {
          "output_type": "execute_result",
          "data": {
            "text/plain": [
              "     id   timestamp  full_sq  life_sq  floor  state  max_floor  material  \\\n",
              "0  8059  2013-05-21       11     11.0    2.0    3.0        5.0       2.0   \n",
              "1  8138  2013-05-25       53     30.0   10.0    3.0       16.0       1.0   \n",
              "2  8156  2013-05-27       77     41.0    2.0    1.0       17.0       6.0   \n",
              "3  8157  2013-05-27       45     27.0    6.0    3.0        9.0       1.0   \n",
              "4  8178  2013-05-28       38     20.0   15.0    NaN       16.0       1.0   \n",
              "5  8189  2013-05-28       63      NaN   17.0    1.0       17.0       4.0   \n",
              "6  8258  2013-05-30       74     46.0   12.0    3.0       24.0       1.0   \n",
              "7  8271  2013-05-31       93     93.0    3.0    1.0        1.0       1.0   \n",
              "8  8285  2013-06-01       51     30.0    7.0    3.0       17.0       1.0   \n",
              "9  8290  2013-06-03       77     50.0    3.0    2.0        5.0       2.0   \n",
              "\n",
              "  build_year  num_room  kitch_sq  full_all                 sub_area  price_doc  \n",
              "0     1907.0       1.0      12.0     75377                Hamovniki    2750000  \n",
              "1     1980.0       2.0       8.0     68630                Lianozovo    9000000  \n",
              "2     2014.0       3.0      12.0      9553  Poselenie Voskresenskoe    7011550  \n",
              "3     1970.0       2.0       6.0     78616          Severnoe Butovo    7100000  \n",
              "4     1982.0       1.0       8.0    112804           Filevskij Park    6450000  \n",
              "5     2013.0       2.0       1.0    247469               Nekrasovka    5903808  \n",
              "6     2004.0       3.0       9.0     27992       Juzhnoe Medvedkovo   12100000  \n",
              "7     2013.0       3.0       1.0      5740   Poselenie Pervomajskoe    5427640  \n",
              "8     2003.0       2.0       9.0    125111                 Solncevo    7700000  \n",
              "9     1957.0       3.0       8.0   1100773                Ajeroport   11700000  "
            ],
            "text/html": [
              "\n",
              "  <div id=\"df-9a03bb2f-8bd1-4f79-bfec-a7270b88de0e\">\n",
              "    <div class=\"colab-df-container\">\n",
              "      <div>\n",
              "<style scoped>\n",
              "    .dataframe tbody tr th:only-of-type {\n",
              "        vertical-align: middle;\n",
              "    }\n",
              "\n",
              "    .dataframe tbody tr th {\n",
              "        vertical-align: top;\n",
              "    }\n",
              "\n",
              "    .dataframe thead th {\n",
              "        text-align: right;\n",
              "    }\n",
              "</style>\n",
              "<table border=\"1\" class=\"dataframe\">\n",
              "  <thead>\n",
              "    <tr style=\"text-align: right;\">\n",
              "      <th></th>\n",
              "      <th>id</th>\n",
              "      <th>timestamp</th>\n",
              "      <th>full_sq</th>\n",
              "      <th>life_sq</th>\n",
              "      <th>floor</th>\n",
              "      <th>state</th>\n",
              "      <th>max_floor</th>\n",
              "      <th>material</th>\n",
              "      <th>build_year</th>\n",
              "      <th>num_room</th>\n",
              "      <th>kitch_sq</th>\n",
              "      <th>full_all</th>\n",
              "      <th>sub_area</th>\n",
              "      <th>price_doc</th>\n",
              "    </tr>\n",
              "  </thead>\n",
              "  <tbody>\n",
              "    <tr>\n",
              "      <th>0</th>\n",
              "      <td>8059</td>\n",
              "      <td>2013-05-21</td>\n",
              "      <td>11</td>\n",
              "      <td>11.0</td>\n",
              "      <td>2.0</td>\n",
              "      <td>3.0</td>\n",
              "      <td>5.0</td>\n",
              "      <td>2.0</td>\n",
              "      <td>1907.0</td>\n",
              "      <td>1.0</td>\n",
              "      <td>12.0</td>\n",
              "      <td>75377</td>\n",
              "      <td>Hamovniki</td>\n",
              "      <td>2750000</td>\n",
              "    </tr>\n",
              "    <tr>\n",
              "      <th>1</th>\n",
              "      <td>8138</td>\n",
              "      <td>2013-05-25</td>\n",
              "      <td>53</td>\n",
              "      <td>30.0</td>\n",
              "      <td>10.0</td>\n",
              "      <td>3.0</td>\n",
              "      <td>16.0</td>\n",
              "      <td>1.0</td>\n",
              "      <td>1980.0</td>\n",
              "      <td>2.0</td>\n",
              "      <td>8.0</td>\n",
              "      <td>68630</td>\n",
              "      <td>Lianozovo</td>\n",
              "      <td>9000000</td>\n",
              "    </tr>\n",
              "    <tr>\n",
              "      <th>2</th>\n",
              "      <td>8156</td>\n",
              "      <td>2013-05-27</td>\n",
              "      <td>77</td>\n",
              "      <td>41.0</td>\n",
              "      <td>2.0</td>\n",
              "      <td>1.0</td>\n",
              "      <td>17.0</td>\n",
              "      <td>6.0</td>\n",
              "      <td>2014.0</td>\n",
              "      <td>3.0</td>\n",
              "      <td>12.0</td>\n",
              "      <td>9553</td>\n",
              "      <td>Poselenie Voskresenskoe</td>\n",
              "      <td>7011550</td>\n",
              "    </tr>\n",
              "    <tr>\n",
              "      <th>3</th>\n",
              "      <td>8157</td>\n",
              "      <td>2013-05-27</td>\n",
              "      <td>45</td>\n",
              "      <td>27.0</td>\n",
              "      <td>6.0</td>\n",
              "      <td>3.0</td>\n",
              "      <td>9.0</td>\n",
              "      <td>1.0</td>\n",
              "      <td>1970.0</td>\n",
              "      <td>2.0</td>\n",
              "      <td>6.0</td>\n",
              "      <td>78616</td>\n",
              "      <td>Severnoe Butovo</td>\n",
              "      <td>7100000</td>\n",
              "    </tr>\n",
              "    <tr>\n",
              "      <th>4</th>\n",
              "      <td>8178</td>\n",
              "      <td>2013-05-28</td>\n",
              "      <td>38</td>\n",
              "      <td>20.0</td>\n",
              "      <td>15.0</td>\n",
              "      <td>NaN</td>\n",
              "      <td>16.0</td>\n",
              "      <td>1.0</td>\n",
              "      <td>1982.0</td>\n",
              "      <td>1.0</td>\n",
              "      <td>8.0</td>\n",
              "      <td>112804</td>\n",
              "      <td>Filevskij Park</td>\n",
              "      <td>6450000</td>\n",
              "    </tr>\n",
              "    <tr>\n",
              "      <th>5</th>\n",
              "      <td>8189</td>\n",
              "      <td>2013-05-28</td>\n",
              "      <td>63</td>\n",
              "      <td>NaN</td>\n",
              "      <td>17.0</td>\n",
              "      <td>1.0</td>\n",
              "      <td>17.0</td>\n",
              "      <td>4.0</td>\n",
              "      <td>2013.0</td>\n",
              "      <td>2.0</td>\n",
              "      <td>1.0</td>\n",
              "      <td>247469</td>\n",
              "      <td>Nekrasovka</td>\n",
              "      <td>5903808</td>\n",
              "    </tr>\n",
              "    <tr>\n",
              "      <th>6</th>\n",
              "      <td>8258</td>\n",
              "      <td>2013-05-30</td>\n",
              "      <td>74</td>\n",
              "      <td>46.0</td>\n",
              "      <td>12.0</td>\n",
              "      <td>3.0</td>\n",
              "      <td>24.0</td>\n",
              "      <td>1.0</td>\n",
              "      <td>2004.0</td>\n",
              "      <td>3.0</td>\n",
              "      <td>9.0</td>\n",
              "      <td>27992</td>\n",
              "      <td>Juzhnoe Medvedkovo</td>\n",
              "      <td>12100000</td>\n",
              "    </tr>\n",
              "    <tr>\n",
              "      <th>7</th>\n",
              "      <td>8271</td>\n",
              "      <td>2013-05-31</td>\n",
              "      <td>93</td>\n",
              "      <td>93.0</td>\n",
              "      <td>3.0</td>\n",
              "      <td>1.0</td>\n",
              "      <td>1.0</td>\n",
              "      <td>1.0</td>\n",
              "      <td>2013.0</td>\n",
              "      <td>3.0</td>\n",
              "      <td>1.0</td>\n",
              "      <td>5740</td>\n",
              "      <td>Poselenie Pervomajskoe</td>\n",
              "      <td>5427640</td>\n",
              "    </tr>\n",
              "    <tr>\n",
              "      <th>8</th>\n",
              "      <td>8285</td>\n",
              "      <td>2013-06-01</td>\n",
              "      <td>51</td>\n",
              "      <td>30.0</td>\n",
              "      <td>7.0</td>\n",
              "      <td>3.0</td>\n",
              "      <td>17.0</td>\n",
              "      <td>1.0</td>\n",
              "      <td>2003.0</td>\n",
              "      <td>2.0</td>\n",
              "      <td>9.0</td>\n",
              "      <td>125111</td>\n",
              "      <td>Solncevo</td>\n",
              "      <td>7700000</td>\n",
              "    </tr>\n",
              "    <tr>\n",
              "      <th>9</th>\n",
              "      <td>8290</td>\n",
              "      <td>2013-06-03</td>\n",
              "      <td>77</td>\n",
              "      <td>50.0</td>\n",
              "      <td>3.0</td>\n",
              "      <td>2.0</td>\n",
              "      <td>5.0</td>\n",
              "      <td>2.0</td>\n",
              "      <td>1957.0</td>\n",
              "      <td>3.0</td>\n",
              "      <td>8.0</td>\n",
              "      <td>1100773</td>\n",
              "      <td>Ajeroport</td>\n",
              "      <td>11700000</td>\n",
              "    </tr>\n",
              "  </tbody>\n",
              "</table>\n",
              "</div>\n",
              "      <button class=\"colab-df-convert\" onclick=\"convertToInteractive('df-9a03bb2f-8bd1-4f79-bfec-a7270b88de0e')\"\n",
              "              title=\"Convert this dataframe to an interactive table.\"\n",
              "              style=\"display:none;\">\n",
              "        \n",
              "  <svg xmlns=\"http://www.w3.org/2000/svg\" height=\"24px\"viewBox=\"0 0 24 24\"\n",
              "       width=\"24px\">\n",
              "    <path d=\"M0 0h24v24H0V0z\" fill=\"none\"/>\n",
              "    <path d=\"M18.56 5.44l.94 2.06.94-2.06 2.06-.94-2.06-.94-.94-2.06-.94 2.06-2.06.94zm-11 1L8.5 8.5l.94-2.06 2.06-.94-2.06-.94L8.5 2.5l-.94 2.06-2.06.94zm10 10l.94 2.06.94-2.06 2.06-.94-2.06-.94-.94-2.06-.94 2.06-2.06.94z\"/><path d=\"M17.41 7.96l-1.37-1.37c-.4-.4-.92-.59-1.43-.59-.52 0-1.04.2-1.43.59L10.3 9.45l-7.72 7.72c-.78.78-.78 2.05 0 2.83L4 21.41c.39.39.9.59 1.41.59.51 0 1.02-.2 1.41-.59l7.78-7.78 2.81-2.81c.8-.78.8-2.07 0-2.86zM5.41 20L4 18.59l7.72-7.72 1.47 1.35L5.41 20z\"/>\n",
              "  </svg>\n",
              "      </button>\n",
              "      \n",
              "  <style>\n",
              "    .colab-df-container {\n",
              "      display:flex;\n",
              "      flex-wrap:wrap;\n",
              "      gap: 12px;\n",
              "    }\n",
              "\n",
              "    .colab-df-convert {\n",
              "      background-color: #E8F0FE;\n",
              "      border: none;\n",
              "      border-radius: 50%;\n",
              "      cursor: pointer;\n",
              "      display: none;\n",
              "      fill: #1967D2;\n",
              "      height: 32px;\n",
              "      padding: 0 0 0 0;\n",
              "      width: 32px;\n",
              "    }\n",
              "\n",
              "    .colab-df-convert:hover {\n",
              "      background-color: #E2EBFA;\n",
              "      box-shadow: 0px 1px 2px rgba(60, 64, 67, 0.3), 0px 1px 3px 1px rgba(60, 64, 67, 0.15);\n",
              "      fill: #174EA6;\n",
              "    }\n",
              "\n",
              "    [theme=dark] .colab-df-convert {\n",
              "      background-color: #3B4455;\n",
              "      fill: #D2E3FC;\n",
              "    }\n",
              "\n",
              "    [theme=dark] .colab-df-convert:hover {\n",
              "      background-color: #434B5C;\n",
              "      box-shadow: 0px 1px 3px 1px rgba(0, 0, 0, 0.15);\n",
              "      filter: drop-shadow(0px 1px 2px rgba(0, 0, 0, 0.3));\n",
              "      fill: #FFFFFF;\n",
              "    }\n",
              "  </style>\n",
              "\n",
              "      <script>\n",
              "        const buttonEl =\n",
              "          document.querySelector('#df-9a03bb2f-8bd1-4f79-bfec-a7270b88de0e button.colab-df-convert');\n",
              "        buttonEl.style.display =\n",
              "          google.colab.kernel.accessAllowed ? 'block' : 'none';\n",
              "\n",
              "        async function convertToInteractive(key) {\n",
              "          const element = document.querySelector('#df-9a03bb2f-8bd1-4f79-bfec-a7270b88de0e');\n",
              "          const dataTable =\n",
              "            await google.colab.kernel.invokeFunction('convertToInteractive',\n",
              "                                                     [key], {});\n",
              "          if (!dataTable) return;\n",
              "\n",
              "          const docLinkHtml = 'Like what you see? Visit the ' +\n",
              "            '<a target=\"_blank\" href=https://colab.research.google.com/notebooks/data_table.ipynb>data table notebook</a>'\n",
              "            + ' to learn more about interactive tables.';\n",
              "          element.innerHTML = '';\n",
              "          dataTable['output_type'] = 'display_data';\n",
              "          await google.colab.output.renderOutput(dataTable, element);\n",
              "          const docLink = document.createElement('div');\n",
              "          docLink.innerHTML = docLinkHtml;\n",
              "          element.appendChild(docLink);\n",
              "        }\n",
              "      </script>\n",
              "    </div>\n",
              "  </div>\n",
              "  "
            ]
          },
          "metadata": {},
          "execution_count": 3
        }
      ]
    },
    {
      "cell_type": "code",
      "source": [
        "df.sample(10)"
      ],
      "metadata": {
        "colab": {
          "base_uri": "https://localhost:8080/",
          "height": 363
        },
        "id": "7i18ZzHttlJ9",
        "outputId": "cefd273a-4694-4a02-b809-8f5ece926ffc"
      },
      "execution_count": 4,
      "outputs": [
        {
          "output_type": "execute_result",
          "data": {
            "text/plain": [
              "          id   timestamp  full_sq  life_sq  floor  state  max_floor  material  \\\n",
              "2802   13035  2013-12-12       43     24.0    5.0    2.0        5.0       2.0   \n",
              "8797   20359  2014-06-30       56     37.0    5.0    3.0        5.0       1.0   \n",
              "5789   16671  2014-03-28       43     27.0    5.0    3.0        5.0       2.0   \n",
              "11057  23100  2014-09-30       38     20.0   12.0    NaN       22.0       1.0   \n",
              "244     9539  2013-07-31       60     43.0    8.0    NaN        9.0       1.0   \n",
              "126     9069  2013-07-09       33     17.0    6.0    4.0        9.0       2.0   \n",
              "10685  22630  2014-09-18       58     33.0   14.0    2.0       22.0       1.0   \n",
              "2187   12295  2013-11-19       38     20.0    2.0    NaN       14.0       1.0   \n",
              "16666  30212  2015-06-09       34     19.0    6.0    2.0       16.0       1.0   \n",
              "1375   11303  2013-10-17       56     30.0    8.0    3.0       14.0       1.0   \n",
              "\n",
              "      build_year  num_room  kitch_sq  full_all          sub_area  price_doc  \n",
              "2802      1960.0       2.0       5.0    155572         Butyrskoe    6900000  \n",
              "8797      1964.0       3.0       6.0     76670           Zjuzino    8000000  \n",
              "5789      1959.0       2.0       5.0     75377         Hamovniki    7100000  \n",
              "11057     1988.0       1.0      10.0    132349  Novo-Peredelkino    1990000  \n",
              "244       1973.0       3.0       6.0    125111          Solncevo    7500000  \n",
              "126       1964.0       1.0       8.0    142462        Mozhajskoe    6500000  \n",
              "10685     2001.0       2.0      10.0     94564       Golovinskoe    1200000  \n",
              "2187      1986.0       1.0       8.0     85721          Brateevo    5050000  \n",
              "16666     1973.0       1.0       9.0     96959     Levoberezhnoe    7550000  \n",
              "1375      1985.0       2.0      12.0     91100           Donskoe    2345000  "
            ],
            "text/html": [
              "\n",
              "  <div id=\"df-4a6a45b5-d165-422f-8fb9-f24c2131af51\">\n",
              "    <div class=\"colab-df-container\">\n",
              "      <div>\n",
              "<style scoped>\n",
              "    .dataframe tbody tr th:only-of-type {\n",
              "        vertical-align: middle;\n",
              "    }\n",
              "\n",
              "    .dataframe tbody tr th {\n",
              "        vertical-align: top;\n",
              "    }\n",
              "\n",
              "    .dataframe thead th {\n",
              "        text-align: right;\n",
              "    }\n",
              "</style>\n",
              "<table border=\"1\" class=\"dataframe\">\n",
              "  <thead>\n",
              "    <tr style=\"text-align: right;\">\n",
              "      <th></th>\n",
              "      <th>id</th>\n",
              "      <th>timestamp</th>\n",
              "      <th>full_sq</th>\n",
              "      <th>life_sq</th>\n",
              "      <th>floor</th>\n",
              "      <th>state</th>\n",
              "      <th>max_floor</th>\n",
              "      <th>material</th>\n",
              "      <th>build_year</th>\n",
              "      <th>num_room</th>\n",
              "      <th>kitch_sq</th>\n",
              "      <th>full_all</th>\n",
              "      <th>sub_area</th>\n",
              "      <th>price_doc</th>\n",
              "    </tr>\n",
              "  </thead>\n",
              "  <tbody>\n",
              "    <tr>\n",
              "      <th>2802</th>\n",
              "      <td>13035</td>\n",
              "      <td>2013-12-12</td>\n",
              "      <td>43</td>\n",
              "      <td>24.0</td>\n",
              "      <td>5.0</td>\n",
              "      <td>2.0</td>\n",
              "      <td>5.0</td>\n",
              "      <td>2.0</td>\n",
              "      <td>1960.0</td>\n",
              "      <td>2.0</td>\n",
              "      <td>5.0</td>\n",
              "      <td>155572</td>\n",
              "      <td>Butyrskoe</td>\n",
              "      <td>6900000</td>\n",
              "    </tr>\n",
              "    <tr>\n",
              "      <th>8797</th>\n",
              "      <td>20359</td>\n",
              "      <td>2014-06-30</td>\n",
              "      <td>56</td>\n",
              "      <td>37.0</td>\n",
              "      <td>5.0</td>\n",
              "      <td>3.0</td>\n",
              "      <td>5.0</td>\n",
              "      <td>1.0</td>\n",
              "      <td>1964.0</td>\n",
              "      <td>3.0</td>\n",
              "      <td>6.0</td>\n",
              "      <td>76670</td>\n",
              "      <td>Zjuzino</td>\n",
              "      <td>8000000</td>\n",
              "    </tr>\n",
              "    <tr>\n",
              "      <th>5789</th>\n",
              "      <td>16671</td>\n",
              "      <td>2014-03-28</td>\n",
              "      <td>43</td>\n",
              "      <td>27.0</td>\n",
              "      <td>5.0</td>\n",
              "      <td>3.0</td>\n",
              "      <td>5.0</td>\n",
              "      <td>2.0</td>\n",
              "      <td>1959.0</td>\n",
              "      <td>2.0</td>\n",
              "      <td>5.0</td>\n",
              "      <td>75377</td>\n",
              "      <td>Hamovniki</td>\n",
              "      <td>7100000</td>\n",
              "    </tr>\n",
              "    <tr>\n",
              "      <th>11057</th>\n",
              "      <td>23100</td>\n",
              "      <td>2014-09-30</td>\n",
              "      <td>38</td>\n",
              "      <td>20.0</td>\n",
              "      <td>12.0</td>\n",
              "      <td>NaN</td>\n",
              "      <td>22.0</td>\n",
              "      <td>1.0</td>\n",
              "      <td>1988.0</td>\n",
              "      <td>1.0</td>\n",
              "      <td>10.0</td>\n",
              "      <td>132349</td>\n",
              "      <td>Novo-Peredelkino</td>\n",
              "      <td>1990000</td>\n",
              "    </tr>\n",
              "    <tr>\n",
              "      <th>244</th>\n",
              "      <td>9539</td>\n",
              "      <td>2013-07-31</td>\n",
              "      <td>60</td>\n",
              "      <td>43.0</td>\n",
              "      <td>8.0</td>\n",
              "      <td>NaN</td>\n",
              "      <td>9.0</td>\n",
              "      <td>1.0</td>\n",
              "      <td>1973.0</td>\n",
              "      <td>3.0</td>\n",
              "      <td>6.0</td>\n",
              "      <td>125111</td>\n",
              "      <td>Solncevo</td>\n",
              "      <td>7500000</td>\n",
              "    </tr>\n",
              "    <tr>\n",
              "      <th>126</th>\n",
              "      <td>9069</td>\n",
              "      <td>2013-07-09</td>\n",
              "      <td>33</td>\n",
              "      <td>17.0</td>\n",
              "      <td>6.0</td>\n",
              "      <td>4.0</td>\n",
              "      <td>9.0</td>\n",
              "      <td>2.0</td>\n",
              "      <td>1964.0</td>\n",
              "      <td>1.0</td>\n",
              "      <td>8.0</td>\n",
              "      <td>142462</td>\n",
              "      <td>Mozhajskoe</td>\n",
              "      <td>6500000</td>\n",
              "    </tr>\n",
              "    <tr>\n",
              "      <th>10685</th>\n",
              "      <td>22630</td>\n",
              "      <td>2014-09-18</td>\n",
              "      <td>58</td>\n",
              "      <td>33.0</td>\n",
              "      <td>14.0</td>\n",
              "      <td>2.0</td>\n",
              "      <td>22.0</td>\n",
              "      <td>1.0</td>\n",
              "      <td>2001.0</td>\n",
              "      <td>2.0</td>\n",
              "      <td>10.0</td>\n",
              "      <td>94564</td>\n",
              "      <td>Golovinskoe</td>\n",
              "      <td>1200000</td>\n",
              "    </tr>\n",
              "    <tr>\n",
              "      <th>2187</th>\n",
              "      <td>12295</td>\n",
              "      <td>2013-11-19</td>\n",
              "      <td>38</td>\n",
              "      <td>20.0</td>\n",
              "      <td>2.0</td>\n",
              "      <td>NaN</td>\n",
              "      <td>14.0</td>\n",
              "      <td>1.0</td>\n",
              "      <td>1986.0</td>\n",
              "      <td>1.0</td>\n",
              "      <td>8.0</td>\n",
              "      <td>85721</td>\n",
              "      <td>Brateevo</td>\n",
              "      <td>5050000</td>\n",
              "    </tr>\n",
              "    <tr>\n",
              "      <th>16666</th>\n",
              "      <td>30212</td>\n",
              "      <td>2015-06-09</td>\n",
              "      <td>34</td>\n",
              "      <td>19.0</td>\n",
              "      <td>6.0</td>\n",
              "      <td>2.0</td>\n",
              "      <td>16.0</td>\n",
              "      <td>1.0</td>\n",
              "      <td>1973.0</td>\n",
              "      <td>1.0</td>\n",
              "      <td>9.0</td>\n",
              "      <td>96959</td>\n",
              "      <td>Levoberezhnoe</td>\n",
              "      <td>7550000</td>\n",
              "    </tr>\n",
              "    <tr>\n",
              "      <th>1375</th>\n",
              "      <td>11303</td>\n",
              "      <td>2013-10-17</td>\n",
              "      <td>56</td>\n",
              "      <td>30.0</td>\n",
              "      <td>8.0</td>\n",
              "      <td>3.0</td>\n",
              "      <td>14.0</td>\n",
              "      <td>1.0</td>\n",
              "      <td>1985.0</td>\n",
              "      <td>2.0</td>\n",
              "      <td>12.0</td>\n",
              "      <td>91100</td>\n",
              "      <td>Donskoe</td>\n",
              "      <td>2345000</td>\n",
              "    </tr>\n",
              "  </tbody>\n",
              "</table>\n",
              "</div>\n",
              "      <button class=\"colab-df-convert\" onclick=\"convertToInteractive('df-4a6a45b5-d165-422f-8fb9-f24c2131af51')\"\n",
              "              title=\"Convert this dataframe to an interactive table.\"\n",
              "              style=\"display:none;\">\n",
              "        \n",
              "  <svg xmlns=\"http://www.w3.org/2000/svg\" height=\"24px\"viewBox=\"0 0 24 24\"\n",
              "       width=\"24px\">\n",
              "    <path d=\"M0 0h24v24H0V0z\" fill=\"none\"/>\n",
              "    <path d=\"M18.56 5.44l.94 2.06.94-2.06 2.06-.94-2.06-.94-.94-2.06-.94 2.06-2.06.94zm-11 1L8.5 8.5l.94-2.06 2.06-.94-2.06-.94L8.5 2.5l-.94 2.06-2.06.94zm10 10l.94 2.06.94-2.06 2.06-.94-2.06-.94-.94-2.06-.94 2.06-2.06.94z\"/><path d=\"M17.41 7.96l-1.37-1.37c-.4-.4-.92-.59-1.43-.59-.52 0-1.04.2-1.43.59L10.3 9.45l-7.72 7.72c-.78.78-.78 2.05 0 2.83L4 21.41c.39.39.9.59 1.41.59.51 0 1.02-.2 1.41-.59l7.78-7.78 2.81-2.81c.8-.78.8-2.07 0-2.86zM5.41 20L4 18.59l7.72-7.72 1.47 1.35L5.41 20z\"/>\n",
              "  </svg>\n",
              "      </button>\n",
              "      \n",
              "  <style>\n",
              "    .colab-df-container {\n",
              "      display:flex;\n",
              "      flex-wrap:wrap;\n",
              "      gap: 12px;\n",
              "    }\n",
              "\n",
              "    .colab-df-convert {\n",
              "      background-color: #E8F0FE;\n",
              "      border: none;\n",
              "      border-radius: 50%;\n",
              "      cursor: pointer;\n",
              "      display: none;\n",
              "      fill: #1967D2;\n",
              "      height: 32px;\n",
              "      padding: 0 0 0 0;\n",
              "      width: 32px;\n",
              "    }\n",
              "\n",
              "    .colab-df-convert:hover {\n",
              "      background-color: #E2EBFA;\n",
              "      box-shadow: 0px 1px 2px rgba(60, 64, 67, 0.3), 0px 1px 3px 1px rgba(60, 64, 67, 0.15);\n",
              "      fill: #174EA6;\n",
              "    }\n",
              "\n",
              "    [theme=dark] .colab-df-convert {\n",
              "      background-color: #3B4455;\n",
              "      fill: #D2E3FC;\n",
              "    }\n",
              "\n",
              "    [theme=dark] .colab-df-convert:hover {\n",
              "      background-color: #434B5C;\n",
              "      box-shadow: 0px 1px 3px 1px rgba(0, 0, 0, 0.15);\n",
              "      filter: drop-shadow(0px 1px 2px rgba(0, 0, 0, 0.3));\n",
              "      fill: #FFFFFF;\n",
              "    }\n",
              "  </style>\n",
              "\n",
              "      <script>\n",
              "        const buttonEl =\n",
              "          document.querySelector('#df-4a6a45b5-d165-422f-8fb9-f24c2131af51 button.colab-df-convert');\n",
              "        buttonEl.style.display =\n",
              "          google.colab.kernel.accessAllowed ? 'block' : 'none';\n",
              "\n",
              "        async function convertToInteractive(key) {\n",
              "          const element = document.querySelector('#df-4a6a45b5-d165-422f-8fb9-f24c2131af51');\n",
              "          const dataTable =\n",
              "            await google.colab.kernel.invokeFunction('convertToInteractive',\n",
              "                                                     [key], {});\n",
              "          if (!dataTable) return;\n",
              "\n",
              "          const docLinkHtml = 'Like what you see? Visit the ' +\n",
              "            '<a target=\"_blank\" href=https://colab.research.google.com/notebooks/data_table.ipynb>data table notebook</a>'\n",
              "            + ' to learn more about interactive tables.';\n",
              "          element.innerHTML = '';\n",
              "          dataTable['output_type'] = 'display_data';\n",
              "          await google.colab.output.renderOutput(dataTable, element);\n",
              "          const docLink = document.createElement('div');\n",
              "          docLink.innerHTML = docLinkHtml;\n",
              "          element.appendChild(docLink);\n",
              "        }\n",
              "      </script>\n",
              "    </div>\n",
              "  </div>\n",
              "  "
            ]
          },
          "metadata": {},
          "execution_count": 4
        }
      ]
    },
    {
      "cell_type": "markdown",
      "source": [
        "Размер набора данных"
      ],
      "metadata": {
        "id": "5bIgx3BZWb7W"
      }
    },
    {
      "cell_type": "code",
      "metadata": {
        "id": "8YtRZ5qi0epJ",
        "colab": {
          "base_uri": "https://localhost:8080/"
        },
        "outputId": "f845fd0c-6b64-4f89-80c2-f623fc85f231"
      },
      "source": [
        "df.shape"
      ],
      "execution_count": 5,
      "outputs": [
        {
          "output_type": "execute_result",
          "data": {
            "text/plain": [
              "(18866, 14)"
            ]
          },
          "metadata": {},
          "execution_count": 5
        }
      ]
    },
    {
      "cell_type": "code",
      "source": [
        "df.size"
      ],
      "metadata": {
        "colab": {
          "base_uri": "https://localhost:8080/"
        },
        "id": "IimpNHYxPd2h",
        "outputId": "1123bdb9-a8ca-47d8-e490-c0cf64a522bb"
      },
      "execution_count": 6,
      "outputs": [
        {
          "output_type": "execute_result",
          "data": {
            "text/plain": [
              "264124"
            ]
          },
          "metadata": {},
          "execution_count": 6
        }
      ]
    },
    {
      "cell_type": "markdown",
      "source": [
        "Описание типов данных по признакам"
      ],
      "metadata": {
        "id": "hw0FkRPTT4LQ"
      }
    },
    {
      "cell_type": "markdown",
      "source": [
        "##### TODO: maybe simplify later"
      ],
      "metadata": {
        "id": "Bm5SllwPmfen"
      }
    },
    {
      "cell_type": "code",
      "source": [
        "df['timestamp'] = pd.to_datetime(df['timestamp'])"
      ],
      "metadata": {
        "id": "Nd4dHl_bRkQS"
      },
      "execution_count": 7,
      "outputs": []
    },
    {
      "cell_type": "code",
      "source": [
        "pattern = re.compile(\"^[0-9]{4}\\.[0-9]$\")\n",
        "df['build_year'] = df['build_year'].apply(lambda x: x[:4] if isinstance(x, str) and pattern.match(x) else np.nan)"
      ],
      "metadata": {
        "id": "Pl_gn2TuYwuQ"
      },
      "execution_count": 8,
      "outputs": []
    },
    {
      "cell_type": "code",
      "source": [
        "df['build_year'] = pd.to_numeric(df['build_year'], downcast='integer')"
      ],
      "metadata": {
        "id": "m0a_nI_zjINs"
      },
      "execution_count": 9,
      "outputs": []
    },
    {
      "cell_type": "code",
      "source": [
        "df['build_year'] = pd.to_datetime(df['build_year'], format='%Y', errors='coerce')"
      ],
      "metadata": {
        "id": "leCx6IAymCvO"
      },
      "execution_count": 10,
      "outputs": []
    },
    {
      "cell_type": "code",
      "source": [
        "df.head()"
      ],
      "metadata": {
        "colab": {
          "base_uri": "https://localhost:8080/",
          "height": 206
        },
        "id": "ulgTGK7igU4D",
        "outputId": "3257afe9-6ca7-4afd-f2ef-419a0265a79e"
      },
      "execution_count": 11,
      "outputs": [
        {
          "output_type": "execute_result",
          "data": {
            "text/plain": [
              "     id  timestamp  full_sq  life_sq  floor  state  max_floor  material  \\\n",
              "0  8059 2013-05-21       11     11.0    2.0    3.0        5.0       2.0   \n",
              "1  8138 2013-05-25       53     30.0   10.0    3.0       16.0       1.0   \n",
              "2  8156 2013-05-27       77     41.0    2.0    1.0       17.0       6.0   \n",
              "3  8157 2013-05-27       45     27.0    6.0    3.0        9.0       1.0   \n",
              "4  8178 2013-05-28       38     20.0   15.0    NaN       16.0       1.0   \n",
              "\n",
              "  build_year  num_room  kitch_sq  full_all                 sub_area  price_doc  \n",
              "0 1907-01-01       1.0      12.0     75377                Hamovniki    2750000  \n",
              "1 1980-01-01       2.0       8.0     68630                Lianozovo    9000000  \n",
              "2 2014-01-01       3.0      12.0      9553  Poselenie Voskresenskoe    7011550  \n",
              "3 1970-01-01       2.0       6.0     78616          Severnoe Butovo    7100000  \n",
              "4 1982-01-01       1.0       8.0    112804           Filevskij Park    6450000  "
            ],
            "text/html": [
              "\n",
              "  <div id=\"df-c0f56393-d42d-4015-86a8-13f458eb6c0a\">\n",
              "    <div class=\"colab-df-container\">\n",
              "      <div>\n",
              "<style scoped>\n",
              "    .dataframe tbody tr th:only-of-type {\n",
              "        vertical-align: middle;\n",
              "    }\n",
              "\n",
              "    .dataframe tbody tr th {\n",
              "        vertical-align: top;\n",
              "    }\n",
              "\n",
              "    .dataframe thead th {\n",
              "        text-align: right;\n",
              "    }\n",
              "</style>\n",
              "<table border=\"1\" class=\"dataframe\">\n",
              "  <thead>\n",
              "    <tr style=\"text-align: right;\">\n",
              "      <th></th>\n",
              "      <th>id</th>\n",
              "      <th>timestamp</th>\n",
              "      <th>full_sq</th>\n",
              "      <th>life_sq</th>\n",
              "      <th>floor</th>\n",
              "      <th>state</th>\n",
              "      <th>max_floor</th>\n",
              "      <th>material</th>\n",
              "      <th>build_year</th>\n",
              "      <th>num_room</th>\n",
              "      <th>kitch_sq</th>\n",
              "      <th>full_all</th>\n",
              "      <th>sub_area</th>\n",
              "      <th>price_doc</th>\n",
              "    </tr>\n",
              "  </thead>\n",
              "  <tbody>\n",
              "    <tr>\n",
              "      <th>0</th>\n",
              "      <td>8059</td>\n",
              "      <td>2013-05-21</td>\n",
              "      <td>11</td>\n",
              "      <td>11.0</td>\n",
              "      <td>2.0</td>\n",
              "      <td>3.0</td>\n",
              "      <td>5.0</td>\n",
              "      <td>2.0</td>\n",
              "      <td>1907-01-01</td>\n",
              "      <td>1.0</td>\n",
              "      <td>12.0</td>\n",
              "      <td>75377</td>\n",
              "      <td>Hamovniki</td>\n",
              "      <td>2750000</td>\n",
              "    </tr>\n",
              "    <tr>\n",
              "      <th>1</th>\n",
              "      <td>8138</td>\n",
              "      <td>2013-05-25</td>\n",
              "      <td>53</td>\n",
              "      <td>30.0</td>\n",
              "      <td>10.0</td>\n",
              "      <td>3.0</td>\n",
              "      <td>16.0</td>\n",
              "      <td>1.0</td>\n",
              "      <td>1980-01-01</td>\n",
              "      <td>2.0</td>\n",
              "      <td>8.0</td>\n",
              "      <td>68630</td>\n",
              "      <td>Lianozovo</td>\n",
              "      <td>9000000</td>\n",
              "    </tr>\n",
              "    <tr>\n",
              "      <th>2</th>\n",
              "      <td>8156</td>\n",
              "      <td>2013-05-27</td>\n",
              "      <td>77</td>\n",
              "      <td>41.0</td>\n",
              "      <td>2.0</td>\n",
              "      <td>1.0</td>\n",
              "      <td>17.0</td>\n",
              "      <td>6.0</td>\n",
              "      <td>2014-01-01</td>\n",
              "      <td>3.0</td>\n",
              "      <td>12.0</td>\n",
              "      <td>9553</td>\n",
              "      <td>Poselenie Voskresenskoe</td>\n",
              "      <td>7011550</td>\n",
              "    </tr>\n",
              "    <tr>\n",
              "      <th>3</th>\n",
              "      <td>8157</td>\n",
              "      <td>2013-05-27</td>\n",
              "      <td>45</td>\n",
              "      <td>27.0</td>\n",
              "      <td>6.0</td>\n",
              "      <td>3.0</td>\n",
              "      <td>9.0</td>\n",
              "      <td>1.0</td>\n",
              "      <td>1970-01-01</td>\n",
              "      <td>2.0</td>\n",
              "      <td>6.0</td>\n",
              "      <td>78616</td>\n",
              "      <td>Severnoe Butovo</td>\n",
              "      <td>7100000</td>\n",
              "    </tr>\n",
              "    <tr>\n",
              "      <th>4</th>\n",
              "      <td>8178</td>\n",
              "      <td>2013-05-28</td>\n",
              "      <td>38</td>\n",
              "      <td>20.0</td>\n",
              "      <td>15.0</td>\n",
              "      <td>NaN</td>\n",
              "      <td>16.0</td>\n",
              "      <td>1.0</td>\n",
              "      <td>1982-01-01</td>\n",
              "      <td>1.0</td>\n",
              "      <td>8.0</td>\n",
              "      <td>112804</td>\n",
              "      <td>Filevskij Park</td>\n",
              "      <td>6450000</td>\n",
              "    </tr>\n",
              "  </tbody>\n",
              "</table>\n",
              "</div>\n",
              "      <button class=\"colab-df-convert\" onclick=\"convertToInteractive('df-c0f56393-d42d-4015-86a8-13f458eb6c0a')\"\n",
              "              title=\"Convert this dataframe to an interactive table.\"\n",
              "              style=\"display:none;\">\n",
              "        \n",
              "  <svg xmlns=\"http://www.w3.org/2000/svg\" height=\"24px\"viewBox=\"0 0 24 24\"\n",
              "       width=\"24px\">\n",
              "    <path d=\"M0 0h24v24H0V0z\" fill=\"none\"/>\n",
              "    <path d=\"M18.56 5.44l.94 2.06.94-2.06 2.06-.94-2.06-.94-.94-2.06-.94 2.06-2.06.94zm-11 1L8.5 8.5l.94-2.06 2.06-.94-2.06-.94L8.5 2.5l-.94 2.06-2.06.94zm10 10l.94 2.06.94-2.06 2.06-.94-2.06-.94-.94-2.06-.94 2.06-2.06.94z\"/><path d=\"M17.41 7.96l-1.37-1.37c-.4-.4-.92-.59-1.43-.59-.52 0-1.04.2-1.43.59L10.3 9.45l-7.72 7.72c-.78.78-.78 2.05 0 2.83L4 21.41c.39.39.9.59 1.41.59.51 0 1.02-.2 1.41-.59l7.78-7.78 2.81-2.81c.8-.78.8-2.07 0-2.86zM5.41 20L4 18.59l7.72-7.72 1.47 1.35L5.41 20z\"/>\n",
              "  </svg>\n",
              "      </button>\n",
              "      \n",
              "  <style>\n",
              "    .colab-df-container {\n",
              "      display:flex;\n",
              "      flex-wrap:wrap;\n",
              "      gap: 12px;\n",
              "    }\n",
              "\n",
              "    .colab-df-convert {\n",
              "      background-color: #E8F0FE;\n",
              "      border: none;\n",
              "      border-radius: 50%;\n",
              "      cursor: pointer;\n",
              "      display: none;\n",
              "      fill: #1967D2;\n",
              "      height: 32px;\n",
              "      padding: 0 0 0 0;\n",
              "      width: 32px;\n",
              "    }\n",
              "\n",
              "    .colab-df-convert:hover {\n",
              "      background-color: #E2EBFA;\n",
              "      box-shadow: 0px 1px 2px rgba(60, 64, 67, 0.3), 0px 1px 3px 1px rgba(60, 64, 67, 0.15);\n",
              "      fill: #174EA6;\n",
              "    }\n",
              "\n",
              "    [theme=dark] .colab-df-convert {\n",
              "      background-color: #3B4455;\n",
              "      fill: #D2E3FC;\n",
              "    }\n",
              "\n",
              "    [theme=dark] .colab-df-convert:hover {\n",
              "      background-color: #434B5C;\n",
              "      box-shadow: 0px 1px 3px 1px rgba(0, 0, 0, 0.15);\n",
              "      filter: drop-shadow(0px 1px 2px rgba(0, 0, 0, 0.3));\n",
              "      fill: #FFFFFF;\n",
              "    }\n",
              "  </style>\n",
              "\n",
              "      <script>\n",
              "        const buttonEl =\n",
              "          document.querySelector('#df-c0f56393-d42d-4015-86a8-13f458eb6c0a button.colab-df-convert');\n",
              "        buttonEl.style.display =\n",
              "          google.colab.kernel.accessAllowed ? 'block' : 'none';\n",
              "\n",
              "        async function convertToInteractive(key) {\n",
              "          const element = document.querySelector('#df-c0f56393-d42d-4015-86a8-13f458eb6c0a');\n",
              "          const dataTable =\n",
              "            await google.colab.kernel.invokeFunction('convertToInteractive',\n",
              "                                                     [key], {});\n",
              "          if (!dataTable) return;\n",
              "\n",
              "          const docLinkHtml = 'Like what you see? Visit the ' +\n",
              "            '<a target=\"_blank\" href=https://colab.research.google.com/notebooks/data_table.ipynb>data table notebook</a>'\n",
              "            + ' to learn more about interactive tables.';\n",
              "          element.innerHTML = '';\n",
              "          dataTable['output_type'] = 'display_data';\n",
              "          await google.colab.output.renderOutput(dataTable, element);\n",
              "          const docLink = document.createElement('div');\n",
              "          docLink.innerHTML = docLinkHtml;\n",
              "          element.appendChild(docLink);\n",
              "        }\n",
              "      </script>\n",
              "    </div>\n",
              "  </div>\n",
              "  "
            ]
          },
          "metadata": {},
          "execution_count": 11
        }
      ]
    },
    {
      "cell_type": "code",
      "source": [
        "df.info()"
      ],
      "metadata": {
        "colab": {
          "base_uri": "https://localhost:8080/"
        },
        "id": "5lbdE3zgRF6W",
        "outputId": "286bd86e-65ce-4a4f-f6d5-bec347cc485b"
      },
      "execution_count": 12,
      "outputs": [
        {
          "output_type": "stream",
          "name": "stdout",
          "text": [
            "<class 'pandas.core.frame.DataFrame'>\n",
            "RangeIndex: 18866 entries, 0 to 18865\n",
            "Data columns (total 14 columns):\n",
            " #   Column      Non-Null Count  Dtype         \n",
            "---  ------      --------------  -----         \n",
            " 0   id          18866 non-null  int64         \n",
            " 1   timestamp   18866 non-null  datetime64[ns]\n",
            " 2   full_sq     18866 non-null  int64         \n",
            " 3   life_sq     17291 non-null  float64       \n",
            " 4   floor       18838 non-null  float64       \n",
            " 5   state       15505 non-null  float64       \n",
            " 6   max_floor   17445 non-null  float64       \n",
            " 7   material    17445 non-null  float64       \n",
            " 8   build_year  15961 non-null  datetime64[ns]\n",
            " 9   num_room    17445 non-null  float64       \n",
            " 10  kitch_sq    17445 non-null  float64       \n",
            " 11  full_all    18866 non-null  int64         \n",
            " 12  sub_area    18866 non-null  object        \n",
            " 13  price_doc   18866 non-null  int64         \n",
            "dtypes: datetime64[ns](2), float64(7), int64(4), object(1)\n",
            "memory usage: 2.0+ MB\n"
          ]
        }
      ]
    },
    {
      "cell_type": "code",
      "source": [
        "df.head()"
      ],
      "metadata": {
        "colab": {
          "base_uri": "https://localhost:8080/",
          "height": 206
        },
        "id": "ZIS4FRwvYdi2",
        "outputId": "8ff402cb-5c58-4b6e-d245-68650839bccb"
      },
      "execution_count": 13,
      "outputs": [
        {
          "output_type": "execute_result",
          "data": {
            "text/plain": [
              "     id  timestamp  full_sq  life_sq  floor  state  max_floor  material  \\\n",
              "0  8059 2013-05-21       11     11.0    2.0    3.0        5.0       2.0   \n",
              "1  8138 2013-05-25       53     30.0   10.0    3.0       16.0       1.0   \n",
              "2  8156 2013-05-27       77     41.0    2.0    1.0       17.0       6.0   \n",
              "3  8157 2013-05-27       45     27.0    6.0    3.0        9.0       1.0   \n",
              "4  8178 2013-05-28       38     20.0   15.0    NaN       16.0       1.0   \n",
              "\n",
              "  build_year  num_room  kitch_sq  full_all                 sub_area  price_doc  \n",
              "0 1907-01-01       1.0      12.0     75377                Hamovniki    2750000  \n",
              "1 1980-01-01       2.0       8.0     68630                Lianozovo    9000000  \n",
              "2 2014-01-01       3.0      12.0      9553  Poselenie Voskresenskoe    7011550  \n",
              "3 1970-01-01       2.0       6.0     78616          Severnoe Butovo    7100000  \n",
              "4 1982-01-01       1.0       8.0    112804           Filevskij Park    6450000  "
            ],
            "text/html": [
              "\n",
              "  <div id=\"df-8e0dcd46-1aac-4c99-9152-2eb71ae41283\">\n",
              "    <div class=\"colab-df-container\">\n",
              "      <div>\n",
              "<style scoped>\n",
              "    .dataframe tbody tr th:only-of-type {\n",
              "        vertical-align: middle;\n",
              "    }\n",
              "\n",
              "    .dataframe tbody tr th {\n",
              "        vertical-align: top;\n",
              "    }\n",
              "\n",
              "    .dataframe thead th {\n",
              "        text-align: right;\n",
              "    }\n",
              "</style>\n",
              "<table border=\"1\" class=\"dataframe\">\n",
              "  <thead>\n",
              "    <tr style=\"text-align: right;\">\n",
              "      <th></th>\n",
              "      <th>id</th>\n",
              "      <th>timestamp</th>\n",
              "      <th>full_sq</th>\n",
              "      <th>life_sq</th>\n",
              "      <th>floor</th>\n",
              "      <th>state</th>\n",
              "      <th>max_floor</th>\n",
              "      <th>material</th>\n",
              "      <th>build_year</th>\n",
              "      <th>num_room</th>\n",
              "      <th>kitch_sq</th>\n",
              "      <th>full_all</th>\n",
              "      <th>sub_area</th>\n",
              "      <th>price_doc</th>\n",
              "    </tr>\n",
              "  </thead>\n",
              "  <tbody>\n",
              "    <tr>\n",
              "      <th>0</th>\n",
              "      <td>8059</td>\n",
              "      <td>2013-05-21</td>\n",
              "      <td>11</td>\n",
              "      <td>11.0</td>\n",
              "      <td>2.0</td>\n",
              "      <td>3.0</td>\n",
              "      <td>5.0</td>\n",
              "      <td>2.0</td>\n",
              "      <td>1907-01-01</td>\n",
              "      <td>1.0</td>\n",
              "      <td>12.0</td>\n",
              "      <td>75377</td>\n",
              "      <td>Hamovniki</td>\n",
              "      <td>2750000</td>\n",
              "    </tr>\n",
              "    <tr>\n",
              "      <th>1</th>\n",
              "      <td>8138</td>\n",
              "      <td>2013-05-25</td>\n",
              "      <td>53</td>\n",
              "      <td>30.0</td>\n",
              "      <td>10.0</td>\n",
              "      <td>3.0</td>\n",
              "      <td>16.0</td>\n",
              "      <td>1.0</td>\n",
              "      <td>1980-01-01</td>\n",
              "      <td>2.0</td>\n",
              "      <td>8.0</td>\n",
              "      <td>68630</td>\n",
              "      <td>Lianozovo</td>\n",
              "      <td>9000000</td>\n",
              "    </tr>\n",
              "    <tr>\n",
              "      <th>2</th>\n",
              "      <td>8156</td>\n",
              "      <td>2013-05-27</td>\n",
              "      <td>77</td>\n",
              "      <td>41.0</td>\n",
              "      <td>2.0</td>\n",
              "      <td>1.0</td>\n",
              "      <td>17.0</td>\n",
              "      <td>6.0</td>\n",
              "      <td>2014-01-01</td>\n",
              "      <td>3.0</td>\n",
              "      <td>12.0</td>\n",
              "      <td>9553</td>\n",
              "      <td>Poselenie Voskresenskoe</td>\n",
              "      <td>7011550</td>\n",
              "    </tr>\n",
              "    <tr>\n",
              "      <th>3</th>\n",
              "      <td>8157</td>\n",
              "      <td>2013-05-27</td>\n",
              "      <td>45</td>\n",
              "      <td>27.0</td>\n",
              "      <td>6.0</td>\n",
              "      <td>3.0</td>\n",
              "      <td>9.0</td>\n",
              "      <td>1.0</td>\n",
              "      <td>1970-01-01</td>\n",
              "      <td>2.0</td>\n",
              "      <td>6.0</td>\n",
              "      <td>78616</td>\n",
              "      <td>Severnoe Butovo</td>\n",
              "      <td>7100000</td>\n",
              "    </tr>\n",
              "    <tr>\n",
              "      <th>4</th>\n",
              "      <td>8178</td>\n",
              "      <td>2013-05-28</td>\n",
              "      <td>38</td>\n",
              "      <td>20.0</td>\n",
              "      <td>15.0</td>\n",
              "      <td>NaN</td>\n",
              "      <td>16.0</td>\n",
              "      <td>1.0</td>\n",
              "      <td>1982-01-01</td>\n",
              "      <td>1.0</td>\n",
              "      <td>8.0</td>\n",
              "      <td>112804</td>\n",
              "      <td>Filevskij Park</td>\n",
              "      <td>6450000</td>\n",
              "    </tr>\n",
              "  </tbody>\n",
              "</table>\n",
              "</div>\n",
              "      <button class=\"colab-df-convert\" onclick=\"convertToInteractive('df-8e0dcd46-1aac-4c99-9152-2eb71ae41283')\"\n",
              "              title=\"Convert this dataframe to an interactive table.\"\n",
              "              style=\"display:none;\">\n",
              "        \n",
              "  <svg xmlns=\"http://www.w3.org/2000/svg\" height=\"24px\"viewBox=\"0 0 24 24\"\n",
              "       width=\"24px\">\n",
              "    <path d=\"M0 0h24v24H0V0z\" fill=\"none\"/>\n",
              "    <path d=\"M18.56 5.44l.94 2.06.94-2.06 2.06-.94-2.06-.94-.94-2.06-.94 2.06-2.06.94zm-11 1L8.5 8.5l.94-2.06 2.06-.94-2.06-.94L8.5 2.5l-.94 2.06-2.06.94zm10 10l.94 2.06.94-2.06 2.06-.94-2.06-.94-.94-2.06-.94 2.06-2.06.94z\"/><path d=\"M17.41 7.96l-1.37-1.37c-.4-.4-.92-.59-1.43-.59-.52 0-1.04.2-1.43.59L10.3 9.45l-7.72 7.72c-.78.78-.78 2.05 0 2.83L4 21.41c.39.39.9.59 1.41.59.51 0 1.02-.2 1.41-.59l7.78-7.78 2.81-2.81c.8-.78.8-2.07 0-2.86zM5.41 20L4 18.59l7.72-7.72 1.47 1.35L5.41 20z\"/>\n",
              "  </svg>\n",
              "      </button>\n",
              "      \n",
              "  <style>\n",
              "    .colab-df-container {\n",
              "      display:flex;\n",
              "      flex-wrap:wrap;\n",
              "      gap: 12px;\n",
              "    }\n",
              "\n",
              "    .colab-df-convert {\n",
              "      background-color: #E8F0FE;\n",
              "      border: none;\n",
              "      border-radius: 50%;\n",
              "      cursor: pointer;\n",
              "      display: none;\n",
              "      fill: #1967D2;\n",
              "      height: 32px;\n",
              "      padding: 0 0 0 0;\n",
              "      width: 32px;\n",
              "    }\n",
              "\n",
              "    .colab-df-convert:hover {\n",
              "      background-color: #E2EBFA;\n",
              "      box-shadow: 0px 1px 2px rgba(60, 64, 67, 0.3), 0px 1px 3px 1px rgba(60, 64, 67, 0.15);\n",
              "      fill: #174EA6;\n",
              "    }\n",
              "\n",
              "    [theme=dark] .colab-df-convert {\n",
              "      background-color: #3B4455;\n",
              "      fill: #D2E3FC;\n",
              "    }\n",
              "\n",
              "    [theme=dark] .colab-df-convert:hover {\n",
              "      background-color: #434B5C;\n",
              "      box-shadow: 0px 1px 3px 1px rgba(0, 0, 0, 0.15);\n",
              "      filter: drop-shadow(0px 1px 2px rgba(0, 0, 0, 0.3));\n",
              "      fill: #FFFFFF;\n",
              "    }\n",
              "  </style>\n",
              "\n",
              "      <script>\n",
              "        const buttonEl =\n",
              "          document.querySelector('#df-8e0dcd46-1aac-4c99-9152-2eb71ae41283 button.colab-df-convert');\n",
              "        buttonEl.style.display =\n",
              "          google.colab.kernel.accessAllowed ? 'block' : 'none';\n",
              "\n",
              "        async function convertToInteractive(key) {\n",
              "          const element = document.querySelector('#df-8e0dcd46-1aac-4c99-9152-2eb71ae41283');\n",
              "          const dataTable =\n",
              "            await google.colab.kernel.invokeFunction('convertToInteractive',\n",
              "                                                     [key], {});\n",
              "          if (!dataTable) return;\n",
              "\n",
              "          const docLinkHtml = 'Like what you see? Visit the ' +\n",
              "            '<a target=\"_blank\" href=https://colab.research.google.com/notebooks/data_table.ipynb>data table notebook</a>'\n",
              "            + ' to learn more about interactive tables.';\n",
              "          element.innerHTML = '';\n",
              "          dataTable['output_type'] = 'display_data';\n",
              "          await google.colab.output.renderOutput(dataTable, element);\n",
              "          const docLink = document.createElement('div');\n",
              "          docLink.innerHTML = docLinkHtml;\n",
              "          element.appendChild(docLink);\n",
              "        }\n",
              "      </script>\n",
              "    </div>\n",
              "  </div>\n",
              "  "
            ]
          },
          "metadata": {},
          "execution_count": 13
        }
      ]
    },
    {
      "cell_type": "markdown",
      "source": [
        "Базовые статистики по признакам"
      ],
      "metadata": {
        "id": "mgmwOM0EZApF"
      }
    },
    {
      "cell_type": "code",
      "source": [
        "df.describe()"
      ],
      "metadata": {
        "id": "owM-qoo0ZBe9",
        "colab": {
          "base_uri": "https://localhost:8080/",
          "height": 300
        },
        "outputId": "c6a55bd1-71c7-4f25-e016-0bae5ef4b4dd"
      },
      "execution_count": 14,
      "outputs": [
        {
          "output_type": "execute_result",
          "data": {
            "text/plain": [
              "               id     full_sq     life_sq       floor       state   max_floor  \\\n",
              "count  18866.0000  18866.0000  17291.0000  18838.0000  15505.0000  17445.0000   \n",
              "mean   18799.7886     53.9409     34.2592      7.2937      2.2013     12.4233   \n",
              "std     7082.4287     44.1162     59.9446      5.1912      0.8528      6.2798   \n",
              "min        9.0000      0.0000      0.0000      0.0000      1.0000      0.0000   \n",
              "25%    13513.2500     38.0000     20.0000      3.0000      2.0000      9.0000   \n",
              "50%    19043.5000     49.0000     30.0000      6.0000      2.0000     12.0000   \n",
              "75%    24748.7500     63.0000     43.0000     10.0000      3.0000     17.0000   \n",
              "max    30473.0000   5326.0000   7478.0000     77.0000     33.0000     57.0000   \n",
              "\n",
              "         material    num_room    kitch_sq    full_all   price_doc  \n",
              "count  17445.0000  17445.0000  17445.0000  1.8866e+04  1.8866e+04  \n",
              "mean       1.8901      1.9348      7.2064  1.5972e+05  7.5824e+06  \n",
              "std        1.5061      0.8642     26.9816  3.0435e+05  4.9838e+06  \n",
              "min        1.0000      0.0000      0.0000  2.5460e+03  1.0000e+05  \n",
              "25%        1.0000      1.0000      5.0000  4.8439e+04  5.1000e+06  \n",
              "50%        1.0000      2.0000      7.0000  8.7713e+04  6.6855e+06  \n",
              "75%        2.0000      3.0000      9.0000  1.2535e+05  8.9000e+06  \n",
              "max        6.0000     19.0000   2014.0000  1.7167e+06  9.5122e+07  "
            ],
            "text/html": [
              "\n",
              "  <div id=\"df-c299c891-99b4-4574-bc4f-9d5bdfba932a\">\n",
              "    <div class=\"colab-df-container\">\n",
              "      <div>\n",
              "<style scoped>\n",
              "    .dataframe tbody tr th:only-of-type {\n",
              "        vertical-align: middle;\n",
              "    }\n",
              "\n",
              "    .dataframe tbody tr th {\n",
              "        vertical-align: top;\n",
              "    }\n",
              "\n",
              "    .dataframe thead th {\n",
              "        text-align: right;\n",
              "    }\n",
              "</style>\n",
              "<table border=\"1\" class=\"dataframe\">\n",
              "  <thead>\n",
              "    <tr style=\"text-align: right;\">\n",
              "      <th></th>\n",
              "      <th>id</th>\n",
              "      <th>full_sq</th>\n",
              "      <th>life_sq</th>\n",
              "      <th>floor</th>\n",
              "      <th>state</th>\n",
              "      <th>max_floor</th>\n",
              "      <th>material</th>\n",
              "      <th>num_room</th>\n",
              "      <th>kitch_sq</th>\n",
              "      <th>full_all</th>\n",
              "      <th>price_doc</th>\n",
              "    </tr>\n",
              "  </thead>\n",
              "  <tbody>\n",
              "    <tr>\n",
              "      <th>count</th>\n",
              "      <td>18866.0000</td>\n",
              "      <td>18866.0000</td>\n",
              "      <td>17291.0000</td>\n",
              "      <td>18838.0000</td>\n",
              "      <td>15505.0000</td>\n",
              "      <td>17445.0000</td>\n",
              "      <td>17445.0000</td>\n",
              "      <td>17445.0000</td>\n",
              "      <td>17445.0000</td>\n",
              "      <td>1.8866e+04</td>\n",
              "      <td>1.8866e+04</td>\n",
              "    </tr>\n",
              "    <tr>\n",
              "      <th>mean</th>\n",
              "      <td>18799.7886</td>\n",
              "      <td>53.9409</td>\n",
              "      <td>34.2592</td>\n",
              "      <td>7.2937</td>\n",
              "      <td>2.2013</td>\n",
              "      <td>12.4233</td>\n",
              "      <td>1.8901</td>\n",
              "      <td>1.9348</td>\n",
              "      <td>7.2064</td>\n",
              "      <td>1.5972e+05</td>\n",
              "      <td>7.5824e+06</td>\n",
              "    </tr>\n",
              "    <tr>\n",
              "      <th>std</th>\n",
              "      <td>7082.4287</td>\n",
              "      <td>44.1162</td>\n",
              "      <td>59.9446</td>\n",
              "      <td>5.1912</td>\n",
              "      <td>0.8528</td>\n",
              "      <td>6.2798</td>\n",
              "      <td>1.5061</td>\n",
              "      <td>0.8642</td>\n",
              "      <td>26.9816</td>\n",
              "      <td>3.0435e+05</td>\n",
              "      <td>4.9838e+06</td>\n",
              "    </tr>\n",
              "    <tr>\n",
              "      <th>min</th>\n",
              "      <td>9.0000</td>\n",
              "      <td>0.0000</td>\n",
              "      <td>0.0000</td>\n",
              "      <td>0.0000</td>\n",
              "      <td>1.0000</td>\n",
              "      <td>0.0000</td>\n",
              "      <td>1.0000</td>\n",
              "      <td>0.0000</td>\n",
              "      <td>0.0000</td>\n",
              "      <td>2.5460e+03</td>\n",
              "      <td>1.0000e+05</td>\n",
              "    </tr>\n",
              "    <tr>\n",
              "      <th>25%</th>\n",
              "      <td>13513.2500</td>\n",
              "      <td>38.0000</td>\n",
              "      <td>20.0000</td>\n",
              "      <td>3.0000</td>\n",
              "      <td>2.0000</td>\n",
              "      <td>9.0000</td>\n",
              "      <td>1.0000</td>\n",
              "      <td>1.0000</td>\n",
              "      <td>5.0000</td>\n",
              "      <td>4.8439e+04</td>\n",
              "      <td>5.1000e+06</td>\n",
              "    </tr>\n",
              "    <tr>\n",
              "      <th>50%</th>\n",
              "      <td>19043.5000</td>\n",
              "      <td>49.0000</td>\n",
              "      <td>30.0000</td>\n",
              "      <td>6.0000</td>\n",
              "      <td>2.0000</td>\n",
              "      <td>12.0000</td>\n",
              "      <td>1.0000</td>\n",
              "      <td>2.0000</td>\n",
              "      <td>7.0000</td>\n",
              "      <td>8.7713e+04</td>\n",
              "      <td>6.6855e+06</td>\n",
              "    </tr>\n",
              "    <tr>\n",
              "      <th>75%</th>\n",
              "      <td>24748.7500</td>\n",
              "      <td>63.0000</td>\n",
              "      <td>43.0000</td>\n",
              "      <td>10.0000</td>\n",
              "      <td>3.0000</td>\n",
              "      <td>17.0000</td>\n",
              "      <td>2.0000</td>\n",
              "      <td>3.0000</td>\n",
              "      <td>9.0000</td>\n",
              "      <td>1.2535e+05</td>\n",
              "      <td>8.9000e+06</td>\n",
              "    </tr>\n",
              "    <tr>\n",
              "      <th>max</th>\n",
              "      <td>30473.0000</td>\n",
              "      <td>5326.0000</td>\n",
              "      <td>7478.0000</td>\n",
              "      <td>77.0000</td>\n",
              "      <td>33.0000</td>\n",
              "      <td>57.0000</td>\n",
              "      <td>6.0000</td>\n",
              "      <td>19.0000</td>\n",
              "      <td>2014.0000</td>\n",
              "      <td>1.7167e+06</td>\n",
              "      <td>9.5122e+07</td>\n",
              "    </tr>\n",
              "  </tbody>\n",
              "</table>\n",
              "</div>\n",
              "      <button class=\"colab-df-convert\" onclick=\"convertToInteractive('df-c299c891-99b4-4574-bc4f-9d5bdfba932a')\"\n",
              "              title=\"Convert this dataframe to an interactive table.\"\n",
              "              style=\"display:none;\">\n",
              "        \n",
              "  <svg xmlns=\"http://www.w3.org/2000/svg\" height=\"24px\"viewBox=\"0 0 24 24\"\n",
              "       width=\"24px\">\n",
              "    <path d=\"M0 0h24v24H0V0z\" fill=\"none\"/>\n",
              "    <path d=\"M18.56 5.44l.94 2.06.94-2.06 2.06-.94-2.06-.94-.94-2.06-.94 2.06-2.06.94zm-11 1L8.5 8.5l.94-2.06 2.06-.94-2.06-.94L8.5 2.5l-.94 2.06-2.06.94zm10 10l.94 2.06.94-2.06 2.06-.94-2.06-.94-.94-2.06-.94 2.06-2.06.94z\"/><path d=\"M17.41 7.96l-1.37-1.37c-.4-.4-.92-.59-1.43-.59-.52 0-1.04.2-1.43.59L10.3 9.45l-7.72 7.72c-.78.78-.78 2.05 0 2.83L4 21.41c.39.39.9.59 1.41.59.51 0 1.02-.2 1.41-.59l7.78-7.78 2.81-2.81c.8-.78.8-2.07 0-2.86zM5.41 20L4 18.59l7.72-7.72 1.47 1.35L5.41 20z\"/>\n",
              "  </svg>\n",
              "      </button>\n",
              "      \n",
              "  <style>\n",
              "    .colab-df-container {\n",
              "      display:flex;\n",
              "      flex-wrap:wrap;\n",
              "      gap: 12px;\n",
              "    }\n",
              "\n",
              "    .colab-df-convert {\n",
              "      background-color: #E8F0FE;\n",
              "      border: none;\n",
              "      border-radius: 50%;\n",
              "      cursor: pointer;\n",
              "      display: none;\n",
              "      fill: #1967D2;\n",
              "      height: 32px;\n",
              "      padding: 0 0 0 0;\n",
              "      width: 32px;\n",
              "    }\n",
              "\n",
              "    .colab-df-convert:hover {\n",
              "      background-color: #E2EBFA;\n",
              "      box-shadow: 0px 1px 2px rgba(60, 64, 67, 0.3), 0px 1px 3px 1px rgba(60, 64, 67, 0.15);\n",
              "      fill: #174EA6;\n",
              "    }\n",
              "\n",
              "    [theme=dark] .colab-df-convert {\n",
              "      background-color: #3B4455;\n",
              "      fill: #D2E3FC;\n",
              "    }\n",
              "\n",
              "    [theme=dark] .colab-df-convert:hover {\n",
              "      background-color: #434B5C;\n",
              "      box-shadow: 0px 1px 3px 1px rgba(0, 0, 0, 0.15);\n",
              "      filter: drop-shadow(0px 1px 2px rgba(0, 0, 0, 0.3));\n",
              "      fill: #FFFFFF;\n",
              "    }\n",
              "  </style>\n",
              "\n",
              "      <script>\n",
              "        const buttonEl =\n",
              "          document.querySelector('#df-c299c891-99b4-4574-bc4f-9d5bdfba932a button.colab-df-convert');\n",
              "        buttonEl.style.display =\n",
              "          google.colab.kernel.accessAllowed ? 'block' : 'none';\n",
              "\n",
              "        async function convertToInteractive(key) {\n",
              "          const element = document.querySelector('#df-c299c891-99b4-4574-bc4f-9d5bdfba932a');\n",
              "          const dataTable =\n",
              "            await google.colab.kernel.invokeFunction('convertToInteractive',\n",
              "                                                     [key], {});\n",
              "          if (!dataTable) return;\n",
              "\n",
              "          const docLinkHtml = 'Like what you see? Visit the ' +\n",
              "            '<a target=\"_blank\" href=https://colab.research.google.com/notebooks/data_table.ipynb>data table notebook</a>'\n",
              "            + ' to learn more about interactive tables.';\n",
              "          element.innerHTML = '';\n",
              "          dataTable['output_type'] = 'display_data';\n",
              "          await google.colab.output.renderOutput(dataTable, element);\n",
              "          const docLink = document.createElement('div');\n",
              "          docLink.innerHTML = docLinkHtml;\n",
              "          element.appendChild(docLink);\n",
              "        }\n",
              "      </script>\n",
              "    </div>\n",
              "  </div>\n",
              "  "
            ]
          },
          "metadata": {},
          "execution_count": 14
        }
      ]
    },
    {
      "cell_type": "markdown",
      "source": [
        "Выводы текстом, что вы можете сказать по каждому признаку, на основе базовых статистик"
      ],
      "metadata": {
        "id": "cOAB67VhZGfe"
      }
    },
    {
      "cell_type": "markdown",
      "source": [
        "- Примерно четверть объектов имеют одну жилую комнату, 9 этажей в здании, третий этаж\n",
        "- Самое высокое здание имеет 77 этажей"
      ],
      "metadata": {
        "id": "UgN6nT-aZGfe"
      }
    },
    {
      "cell_type": "markdown",
      "source": [
        "Какие признаки вы считаете полезными для предсказания цены квартиры, а какие по вашему мнению можно убрать. Почему?"
      ],
      "metadata": {
        "id": "H6wWguuMZGof"
      }
    },
    {
      "cell_type": "markdown",
      "source": [
        "- full_sq, life_sq, num_room, floor, kitch_sq, sub_area, max_floor - наиболее подходят для предсказания цены квартиры, именно данными параметрами задается \"престижность\" жилья\n",
        "- sub_area район жилья может влиять на цену, например если район находится в центре города или близок с объектами логистики"
      ],
      "metadata": {
        "id": "GAb01bgZZGof"
      }
    },
    {
      "cell_type": "markdown",
      "source": [
        "Есть ли пропуски в данных? В каких столбцах? Какой процент по каждому столбцу?"
      ],
      "metadata": {
        "id": "oywwEALWZGs2"
      }
    },
    {
      "cell_type": "code",
      "source": [
        "missing_values_quantity = df.isna().sum()\n",
        "missing_values_quantity"
      ],
      "metadata": {
        "id": "oI5jSvEsZGs2",
        "colab": {
          "base_uri": "https://localhost:8080/"
        },
        "outputId": "3cb7b394-8b2b-41d4-aa9c-5fd9fde6cfe2"
      },
      "execution_count": 15,
      "outputs": [
        {
          "output_type": "execute_result",
          "data": {
            "text/plain": [
              "id               0\n",
              "timestamp        0\n",
              "full_sq          0\n",
              "life_sq       1575\n",
              "floor           28\n",
              "state         3361\n",
              "max_floor     1421\n",
              "material      1421\n",
              "build_year    2905\n",
              "num_room      1421\n",
              "kitch_sq      1421\n",
              "full_all         0\n",
              "sub_area         0\n",
              "price_doc        0\n",
              "dtype: int64"
            ]
          },
          "metadata": {},
          "execution_count": 15
        }
      ]
    },
    {
      "cell_type": "code",
      "source": [
        "missing_data_percent_ratio = round(df.isna().mean() * 100, 2)\n",
        "missing_data_percent_ratio"
      ],
      "metadata": {
        "colab": {
          "base_uri": "https://localhost:8080/"
        },
        "id": "xLL7Glz_xJSU",
        "outputId": "37269e2c-389d-4994-9683-c0b7731ec909"
      },
      "execution_count": 16,
      "outputs": [
        {
          "output_type": "execute_result",
          "data": {
            "text/plain": [
              "id             0.00\n",
              "timestamp      0.00\n",
              "full_sq        0.00\n",
              "life_sq        8.35\n",
              "floor          0.15\n",
              "state         17.82\n",
              "max_floor      7.53\n",
              "material       7.53\n",
              "build_year    15.40\n",
              "num_room       7.53\n",
              "kitch_sq       7.53\n",
              "full_all       0.00\n",
              "sub_area       0.00\n",
              "price_doc      0.00\n",
              "dtype: float64"
            ]
          },
          "metadata": {},
          "execution_count": 16
        }
      ]
    },
    {
      "cell_type": "markdown",
      "source": [
        "Есть ли аномальные данные в столбцах? Если да, то укажите на них и объясните, почему считаете аномальными"
      ],
      "metadata": {
        "id": "Sc6aZZnsZGvX"
      }
    },
    {
      "cell_type": "markdown",
      "source": [
        "- 0.0 - минимальная общая площадь, жилая площадь, этаж, количество этажей в здании, количество жилых комнат, площадь кухни скорее всего говорит о том что эти данные нужно опустить из таблицы при дальнейшем анализе\n",
        "- Написано что max_floor - количество этажей в здании и floor - этаж на котором находится единица, но в таблице явно видно что max_floor - 57, а floor - 77, похоже что где-то пропуск, или ошибка если единица находится в данном здании\n",
        "- state - максимальное значение 33 похоже на выброс, учитывая то что среднее значение равно 2.2\n",
        "- build_year - некоторые данные были в неправильном формате, много пропусков по отношению с другими столбцами, не стоит учитывать пропуски в дальнейшем анализе, и год не может быть равен нулю\n",
        "- kitch_sq - максимальное значение похоже на выброс"
      ],
      "metadata": {
        "id": "pOVsn-ONbuBM"
      }
    },
    {
      "cell_type": "markdown",
      "source": [
        "### 1.2.2 Макро показатели"
      ],
      "metadata": {
        "id": "G1kXOjYDdRui"
      }
    },
    {
      "cell_type": "markdown",
      "source": [
        "Вывести пример данных (первые строки и случайные строки)"
      ],
      "metadata": {
        "id": "DnZc-rypdvUy"
      }
    },
    {
      "cell_type": "code",
      "source": [
        "macro.head(10)"
      ],
      "metadata": {
        "id": "4AIWc_yWdvUz",
        "colab": {
          "base_uri": "https://localhost:8080/",
          "height": 363
        },
        "outputId": "9dfc985e-987e-4bef-dd13-3095753f77f2"
      },
      "execution_count": 17,
      "outputs": [
        {
          "output_type": "execute_result",
          "data": {
            "text/plain": [
              "    timestamp   salary  fixed_basket  rent_price_3room_eco  \\\n",
              "0  2010-01-01  38410.5      11443.63                   NaN   \n",
              "1  2010-01-02  38410.5      11443.63                   NaN   \n",
              "2  2010-01-03  38410.5      11443.63                   NaN   \n",
              "3  2010-01-04  38410.5      11443.63                   NaN   \n",
              "4  2010-01-05  38410.5      11443.63                   NaN   \n",
              "5  2010-01-06  38410.5      11443.63                   NaN   \n",
              "6  2010-01-07  38410.5      11443.63                   NaN   \n",
              "7  2010-01-08  38410.5      11443.63                   NaN   \n",
              "8  2010-01-09  38410.5      11443.63                   NaN   \n",
              "9  2010-01-10  38410.5      11443.63                   NaN   \n",
              "\n",
              "   rent_price_2room_eco  rent_price_1room_eco  average_life_exp  \n",
              "0                   NaN                   NaN              74.2  \n",
              "1                   NaN                   NaN              74.2  \n",
              "2                   NaN                   NaN              74.2  \n",
              "3                   NaN                   NaN              74.2  \n",
              "4                   NaN                   NaN              74.2  \n",
              "5                   NaN                   NaN              74.2  \n",
              "6                   NaN                   NaN              74.2  \n",
              "7                   NaN                   NaN              74.2  \n",
              "8                   NaN                   NaN              74.2  \n",
              "9                   NaN                   NaN              74.2  "
            ],
            "text/html": [
              "\n",
              "  <div id=\"df-d631e52a-f3e5-4ce0-a280-63eb549dda43\">\n",
              "    <div class=\"colab-df-container\">\n",
              "      <div>\n",
              "<style scoped>\n",
              "    .dataframe tbody tr th:only-of-type {\n",
              "        vertical-align: middle;\n",
              "    }\n",
              "\n",
              "    .dataframe tbody tr th {\n",
              "        vertical-align: top;\n",
              "    }\n",
              "\n",
              "    .dataframe thead th {\n",
              "        text-align: right;\n",
              "    }\n",
              "</style>\n",
              "<table border=\"1\" class=\"dataframe\">\n",
              "  <thead>\n",
              "    <tr style=\"text-align: right;\">\n",
              "      <th></th>\n",
              "      <th>timestamp</th>\n",
              "      <th>salary</th>\n",
              "      <th>fixed_basket</th>\n",
              "      <th>rent_price_3room_eco</th>\n",
              "      <th>rent_price_2room_eco</th>\n",
              "      <th>rent_price_1room_eco</th>\n",
              "      <th>average_life_exp</th>\n",
              "    </tr>\n",
              "  </thead>\n",
              "  <tbody>\n",
              "    <tr>\n",
              "      <th>0</th>\n",
              "      <td>2010-01-01</td>\n",
              "      <td>38410.5</td>\n",
              "      <td>11443.63</td>\n",
              "      <td>NaN</td>\n",
              "      <td>NaN</td>\n",
              "      <td>NaN</td>\n",
              "      <td>74.2</td>\n",
              "    </tr>\n",
              "    <tr>\n",
              "      <th>1</th>\n",
              "      <td>2010-01-02</td>\n",
              "      <td>38410.5</td>\n",
              "      <td>11443.63</td>\n",
              "      <td>NaN</td>\n",
              "      <td>NaN</td>\n",
              "      <td>NaN</td>\n",
              "      <td>74.2</td>\n",
              "    </tr>\n",
              "    <tr>\n",
              "      <th>2</th>\n",
              "      <td>2010-01-03</td>\n",
              "      <td>38410.5</td>\n",
              "      <td>11443.63</td>\n",
              "      <td>NaN</td>\n",
              "      <td>NaN</td>\n",
              "      <td>NaN</td>\n",
              "      <td>74.2</td>\n",
              "    </tr>\n",
              "    <tr>\n",
              "      <th>3</th>\n",
              "      <td>2010-01-04</td>\n",
              "      <td>38410.5</td>\n",
              "      <td>11443.63</td>\n",
              "      <td>NaN</td>\n",
              "      <td>NaN</td>\n",
              "      <td>NaN</td>\n",
              "      <td>74.2</td>\n",
              "    </tr>\n",
              "    <tr>\n",
              "      <th>4</th>\n",
              "      <td>2010-01-05</td>\n",
              "      <td>38410.5</td>\n",
              "      <td>11443.63</td>\n",
              "      <td>NaN</td>\n",
              "      <td>NaN</td>\n",
              "      <td>NaN</td>\n",
              "      <td>74.2</td>\n",
              "    </tr>\n",
              "    <tr>\n",
              "      <th>5</th>\n",
              "      <td>2010-01-06</td>\n",
              "      <td>38410.5</td>\n",
              "      <td>11443.63</td>\n",
              "      <td>NaN</td>\n",
              "      <td>NaN</td>\n",
              "      <td>NaN</td>\n",
              "      <td>74.2</td>\n",
              "    </tr>\n",
              "    <tr>\n",
              "      <th>6</th>\n",
              "      <td>2010-01-07</td>\n",
              "      <td>38410.5</td>\n",
              "      <td>11443.63</td>\n",
              "      <td>NaN</td>\n",
              "      <td>NaN</td>\n",
              "      <td>NaN</td>\n",
              "      <td>74.2</td>\n",
              "    </tr>\n",
              "    <tr>\n",
              "      <th>7</th>\n",
              "      <td>2010-01-08</td>\n",
              "      <td>38410.5</td>\n",
              "      <td>11443.63</td>\n",
              "      <td>NaN</td>\n",
              "      <td>NaN</td>\n",
              "      <td>NaN</td>\n",
              "      <td>74.2</td>\n",
              "    </tr>\n",
              "    <tr>\n",
              "      <th>8</th>\n",
              "      <td>2010-01-09</td>\n",
              "      <td>38410.5</td>\n",
              "      <td>11443.63</td>\n",
              "      <td>NaN</td>\n",
              "      <td>NaN</td>\n",
              "      <td>NaN</td>\n",
              "      <td>74.2</td>\n",
              "    </tr>\n",
              "    <tr>\n",
              "      <th>9</th>\n",
              "      <td>2010-01-10</td>\n",
              "      <td>38410.5</td>\n",
              "      <td>11443.63</td>\n",
              "      <td>NaN</td>\n",
              "      <td>NaN</td>\n",
              "      <td>NaN</td>\n",
              "      <td>74.2</td>\n",
              "    </tr>\n",
              "  </tbody>\n",
              "</table>\n",
              "</div>\n",
              "      <button class=\"colab-df-convert\" onclick=\"convertToInteractive('df-d631e52a-f3e5-4ce0-a280-63eb549dda43')\"\n",
              "              title=\"Convert this dataframe to an interactive table.\"\n",
              "              style=\"display:none;\">\n",
              "        \n",
              "  <svg xmlns=\"http://www.w3.org/2000/svg\" height=\"24px\"viewBox=\"0 0 24 24\"\n",
              "       width=\"24px\">\n",
              "    <path d=\"M0 0h24v24H0V0z\" fill=\"none\"/>\n",
              "    <path d=\"M18.56 5.44l.94 2.06.94-2.06 2.06-.94-2.06-.94-.94-2.06-.94 2.06-2.06.94zm-11 1L8.5 8.5l.94-2.06 2.06-.94-2.06-.94L8.5 2.5l-.94 2.06-2.06.94zm10 10l.94 2.06.94-2.06 2.06-.94-2.06-.94-.94-2.06-.94 2.06-2.06.94z\"/><path d=\"M17.41 7.96l-1.37-1.37c-.4-.4-.92-.59-1.43-.59-.52 0-1.04.2-1.43.59L10.3 9.45l-7.72 7.72c-.78.78-.78 2.05 0 2.83L4 21.41c.39.39.9.59 1.41.59.51 0 1.02-.2 1.41-.59l7.78-7.78 2.81-2.81c.8-.78.8-2.07 0-2.86zM5.41 20L4 18.59l7.72-7.72 1.47 1.35L5.41 20z\"/>\n",
              "  </svg>\n",
              "      </button>\n",
              "      \n",
              "  <style>\n",
              "    .colab-df-container {\n",
              "      display:flex;\n",
              "      flex-wrap:wrap;\n",
              "      gap: 12px;\n",
              "    }\n",
              "\n",
              "    .colab-df-convert {\n",
              "      background-color: #E8F0FE;\n",
              "      border: none;\n",
              "      border-radius: 50%;\n",
              "      cursor: pointer;\n",
              "      display: none;\n",
              "      fill: #1967D2;\n",
              "      height: 32px;\n",
              "      padding: 0 0 0 0;\n",
              "      width: 32px;\n",
              "    }\n",
              "\n",
              "    .colab-df-convert:hover {\n",
              "      background-color: #E2EBFA;\n",
              "      box-shadow: 0px 1px 2px rgba(60, 64, 67, 0.3), 0px 1px 3px 1px rgba(60, 64, 67, 0.15);\n",
              "      fill: #174EA6;\n",
              "    }\n",
              "\n",
              "    [theme=dark] .colab-df-convert {\n",
              "      background-color: #3B4455;\n",
              "      fill: #D2E3FC;\n",
              "    }\n",
              "\n",
              "    [theme=dark] .colab-df-convert:hover {\n",
              "      background-color: #434B5C;\n",
              "      box-shadow: 0px 1px 3px 1px rgba(0, 0, 0, 0.15);\n",
              "      filter: drop-shadow(0px 1px 2px rgba(0, 0, 0, 0.3));\n",
              "      fill: #FFFFFF;\n",
              "    }\n",
              "  </style>\n",
              "\n",
              "      <script>\n",
              "        const buttonEl =\n",
              "          document.querySelector('#df-d631e52a-f3e5-4ce0-a280-63eb549dda43 button.colab-df-convert');\n",
              "        buttonEl.style.display =\n",
              "          google.colab.kernel.accessAllowed ? 'block' : 'none';\n",
              "\n",
              "        async function convertToInteractive(key) {\n",
              "          const element = document.querySelector('#df-d631e52a-f3e5-4ce0-a280-63eb549dda43');\n",
              "          const dataTable =\n",
              "            await google.colab.kernel.invokeFunction('convertToInteractive',\n",
              "                                                     [key], {});\n",
              "          if (!dataTable) return;\n",
              "\n",
              "          const docLinkHtml = 'Like what you see? Visit the ' +\n",
              "            '<a target=\"_blank\" href=https://colab.research.google.com/notebooks/data_table.ipynb>data table notebook</a>'\n",
              "            + ' to learn more about interactive tables.';\n",
              "          element.innerHTML = '';\n",
              "          dataTable['output_type'] = 'display_data';\n",
              "          await google.colab.output.renderOutput(dataTable, element);\n",
              "          const docLink = document.createElement('div');\n",
              "          docLink.innerHTML = docLinkHtml;\n",
              "          element.appendChild(docLink);\n",
              "        }\n",
              "      </script>\n",
              "    </div>\n",
              "  </div>\n",
              "  "
            ]
          },
          "metadata": {},
          "execution_count": 17
        }
      ]
    },
    {
      "cell_type": "code",
      "metadata": {
        "id": "XZVhRUZQdaZc",
        "colab": {
          "base_uri": "https://localhost:8080/",
          "height": 363
        },
        "outputId": "ecc90cd6-7668-4824-d959-9564ca84be32"
      },
      "source": [
        "macro.sample(10)"
      ],
      "execution_count": 18,
      "outputs": [
        {
          "output_type": "execute_result",
          "data": {
            "text/plain": [
              "       timestamp   salary  fixed_basket  rent_price_3room_eco  \\\n",
              "1277  2013-07-01  55485.2      15163.82                 48.08   \n",
              "1755  2014-10-22  61208.0      16269.79                 52.82   \n",
              "1689  2014-08-17  61208.0      16134.39                 52.81   \n",
              "1115  2013-01-20  55485.2      14289.40                 45.20   \n",
              "2108  2015-10-10  64310.0      19140.87                 49.67   \n",
              "913   2012-07-02  48830.4      13762.47                 43.42   \n",
              "2134  2015-11-05  64310.0      19213.32                 49.62   \n",
              "1241  2013-05-26  55485.2      14983.92                 47.35   \n",
              "147   2010-05-28  38410.5      11702.15                   NaN   \n",
              "1634  2014-06-23  61208.0      16295.00                 48.70   \n",
              "\n",
              "      rent_price_2room_eco  rent_price_1room_eco  average_life_exp  \n",
              "1277                 41.42                 32.55             76.37  \n",
              "1755                 43.85                 35.37             76.70  \n",
              "1689                 43.11                 34.83             76.70  \n",
              "1115                 40.25                 32.84             76.37  \n",
              "2108                 38.84                 30.41             76.77  \n",
              "913                  38.25                 31.10             75.74  \n",
              "2134                 39.48                 30.48             76.77  \n",
              "1241                 40.77                  2.31             76.37  \n",
              "147                    NaN                   NaN             74.20  \n",
              "1634                 41.18                 33.06             76.70  "
            ],
            "text/html": [
              "\n",
              "  <div id=\"df-2f67e972-7f1e-437d-bbf3-a67e8470d7f7\">\n",
              "    <div class=\"colab-df-container\">\n",
              "      <div>\n",
              "<style scoped>\n",
              "    .dataframe tbody tr th:only-of-type {\n",
              "        vertical-align: middle;\n",
              "    }\n",
              "\n",
              "    .dataframe tbody tr th {\n",
              "        vertical-align: top;\n",
              "    }\n",
              "\n",
              "    .dataframe thead th {\n",
              "        text-align: right;\n",
              "    }\n",
              "</style>\n",
              "<table border=\"1\" class=\"dataframe\">\n",
              "  <thead>\n",
              "    <tr style=\"text-align: right;\">\n",
              "      <th></th>\n",
              "      <th>timestamp</th>\n",
              "      <th>salary</th>\n",
              "      <th>fixed_basket</th>\n",
              "      <th>rent_price_3room_eco</th>\n",
              "      <th>rent_price_2room_eco</th>\n",
              "      <th>rent_price_1room_eco</th>\n",
              "      <th>average_life_exp</th>\n",
              "    </tr>\n",
              "  </thead>\n",
              "  <tbody>\n",
              "    <tr>\n",
              "      <th>1277</th>\n",
              "      <td>2013-07-01</td>\n",
              "      <td>55485.2</td>\n",
              "      <td>15163.82</td>\n",
              "      <td>48.08</td>\n",
              "      <td>41.42</td>\n",
              "      <td>32.55</td>\n",
              "      <td>76.37</td>\n",
              "    </tr>\n",
              "    <tr>\n",
              "      <th>1755</th>\n",
              "      <td>2014-10-22</td>\n",
              "      <td>61208.0</td>\n",
              "      <td>16269.79</td>\n",
              "      <td>52.82</td>\n",
              "      <td>43.85</td>\n",
              "      <td>35.37</td>\n",
              "      <td>76.70</td>\n",
              "    </tr>\n",
              "    <tr>\n",
              "      <th>1689</th>\n",
              "      <td>2014-08-17</td>\n",
              "      <td>61208.0</td>\n",
              "      <td>16134.39</td>\n",
              "      <td>52.81</td>\n",
              "      <td>43.11</td>\n",
              "      <td>34.83</td>\n",
              "      <td>76.70</td>\n",
              "    </tr>\n",
              "    <tr>\n",
              "      <th>1115</th>\n",
              "      <td>2013-01-20</td>\n",
              "      <td>55485.2</td>\n",
              "      <td>14289.40</td>\n",
              "      <td>45.20</td>\n",
              "      <td>40.25</td>\n",
              "      <td>32.84</td>\n",
              "      <td>76.37</td>\n",
              "    </tr>\n",
              "    <tr>\n",
              "      <th>2108</th>\n",
              "      <td>2015-10-10</td>\n",
              "      <td>64310.0</td>\n",
              "      <td>19140.87</td>\n",
              "      <td>49.67</td>\n",
              "      <td>38.84</td>\n",
              "      <td>30.41</td>\n",
              "      <td>76.77</td>\n",
              "    </tr>\n",
              "    <tr>\n",
              "      <th>913</th>\n",
              "      <td>2012-07-02</td>\n",
              "      <td>48830.4</td>\n",
              "      <td>13762.47</td>\n",
              "      <td>43.42</td>\n",
              "      <td>38.25</td>\n",
              "      <td>31.10</td>\n",
              "      <td>75.74</td>\n",
              "    </tr>\n",
              "    <tr>\n",
              "      <th>2134</th>\n",
              "      <td>2015-11-05</td>\n",
              "      <td>64310.0</td>\n",
              "      <td>19213.32</td>\n",
              "      <td>49.62</td>\n",
              "      <td>39.48</td>\n",
              "      <td>30.48</td>\n",
              "      <td>76.77</td>\n",
              "    </tr>\n",
              "    <tr>\n",
              "      <th>1241</th>\n",
              "      <td>2013-05-26</td>\n",
              "      <td>55485.2</td>\n",
              "      <td>14983.92</td>\n",
              "      <td>47.35</td>\n",
              "      <td>40.77</td>\n",
              "      <td>2.31</td>\n",
              "      <td>76.37</td>\n",
              "    </tr>\n",
              "    <tr>\n",
              "      <th>147</th>\n",
              "      <td>2010-05-28</td>\n",
              "      <td>38410.5</td>\n",
              "      <td>11702.15</td>\n",
              "      <td>NaN</td>\n",
              "      <td>NaN</td>\n",
              "      <td>NaN</td>\n",
              "      <td>74.20</td>\n",
              "    </tr>\n",
              "    <tr>\n",
              "      <th>1634</th>\n",
              "      <td>2014-06-23</td>\n",
              "      <td>61208.0</td>\n",
              "      <td>16295.00</td>\n",
              "      <td>48.70</td>\n",
              "      <td>41.18</td>\n",
              "      <td>33.06</td>\n",
              "      <td>76.70</td>\n",
              "    </tr>\n",
              "  </tbody>\n",
              "</table>\n",
              "</div>\n",
              "      <button class=\"colab-df-convert\" onclick=\"convertToInteractive('df-2f67e972-7f1e-437d-bbf3-a67e8470d7f7')\"\n",
              "              title=\"Convert this dataframe to an interactive table.\"\n",
              "              style=\"display:none;\">\n",
              "        \n",
              "  <svg xmlns=\"http://www.w3.org/2000/svg\" height=\"24px\"viewBox=\"0 0 24 24\"\n",
              "       width=\"24px\">\n",
              "    <path d=\"M0 0h24v24H0V0z\" fill=\"none\"/>\n",
              "    <path d=\"M18.56 5.44l.94 2.06.94-2.06 2.06-.94-2.06-.94-.94-2.06-.94 2.06-2.06.94zm-11 1L8.5 8.5l.94-2.06 2.06-.94-2.06-.94L8.5 2.5l-.94 2.06-2.06.94zm10 10l.94 2.06.94-2.06 2.06-.94-2.06-.94-.94-2.06-.94 2.06-2.06.94z\"/><path d=\"M17.41 7.96l-1.37-1.37c-.4-.4-.92-.59-1.43-.59-.52 0-1.04.2-1.43.59L10.3 9.45l-7.72 7.72c-.78.78-.78 2.05 0 2.83L4 21.41c.39.39.9.59 1.41.59.51 0 1.02-.2 1.41-.59l7.78-7.78 2.81-2.81c.8-.78.8-2.07 0-2.86zM5.41 20L4 18.59l7.72-7.72 1.47 1.35L5.41 20z\"/>\n",
              "  </svg>\n",
              "      </button>\n",
              "      \n",
              "  <style>\n",
              "    .colab-df-container {\n",
              "      display:flex;\n",
              "      flex-wrap:wrap;\n",
              "      gap: 12px;\n",
              "    }\n",
              "\n",
              "    .colab-df-convert {\n",
              "      background-color: #E8F0FE;\n",
              "      border: none;\n",
              "      border-radius: 50%;\n",
              "      cursor: pointer;\n",
              "      display: none;\n",
              "      fill: #1967D2;\n",
              "      height: 32px;\n",
              "      padding: 0 0 0 0;\n",
              "      width: 32px;\n",
              "    }\n",
              "\n",
              "    .colab-df-convert:hover {\n",
              "      background-color: #E2EBFA;\n",
              "      box-shadow: 0px 1px 2px rgba(60, 64, 67, 0.3), 0px 1px 3px 1px rgba(60, 64, 67, 0.15);\n",
              "      fill: #174EA6;\n",
              "    }\n",
              "\n",
              "    [theme=dark] .colab-df-convert {\n",
              "      background-color: #3B4455;\n",
              "      fill: #D2E3FC;\n",
              "    }\n",
              "\n",
              "    [theme=dark] .colab-df-convert:hover {\n",
              "      background-color: #434B5C;\n",
              "      box-shadow: 0px 1px 3px 1px rgba(0, 0, 0, 0.15);\n",
              "      filter: drop-shadow(0px 1px 2px rgba(0, 0, 0, 0.3));\n",
              "      fill: #FFFFFF;\n",
              "    }\n",
              "  </style>\n",
              "\n",
              "      <script>\n",
              "        const buttonEl =\n",
              "          document.querySelector('#df-2f67e972-7f1e-437d-bbf3-a67e8470d7f7 button.colab-df-convert');\n",
              "        buttonEl.style.display =\n",
              "          google.colab.kernel.accessAllowed ? 'block' : 'none';\n",
              "\n",
              "        async function convertToInteractive(key) {\n",
              "          const element = document.querySelector('#df-2f67e972-7f1e-437d-bbf3-a67e8470d7f7');\n",
              "          const dataTable =\n",
              "            await google.colab.kernel.invokeFunction('convertToInteractive',\n",
              "                                                     [key], {});\n",
              "          if (!dataTable) return;\n",
              "\n",
              "          const docLinkHtml = 'Like what you see? Visit the ' +\n",
              "            '<a target=\"_blank\" href=https://colab.research.google.com/notebooks/data_table.ipynb>data table notebook</a>'\n",
              "            + ' to learn more about interactive tables.';\n",
              "          element.innerHTML = '';\n",
              "          dataTable['output_type'] = 'display_data';\n",
              "          await google.colab.output.renderOutput(dataTable, element);\n",
              "          const docLink = document.createElement('div');\n",
              "          docLink.innerHTML = docLinkHtml;\n",
              "          element.appendChild(docLink);\n",
              "        }\n",
              "      </script>\n",
              "    </div>\n",
              "  </div>\n",
              "  "
            ]
          },
          "metadata": {},
          "execution_count": 18
        }
      ]
    },
    {
      "cell_type": "markdown",
      "source": [
        "Размер набора данных"
      ],
      "metadata": {
        "id": "__V4xxQJdaZb"
      }
    },
    {
      "cell_type": "code",
      "source": [
        "macro.shape"
      ],
      "metadata": {
        "colab": {
          "base_uri": "https://localhost:8080/"
        },
        "id": "e6mHqYiBusj0",
        "outputId": "3530647a-8ace-44b0-f282-116b9021201d"
      },
      "execution_count": 19,
      "outputs": [
        {
          "output_type": "execute_result",
          "data": {
            "text/plain": [
              "(2484, 7)"
            ]
          },
          "metadata": {},
          "execution_count": 19
        }
      ]
    },
    {
      "cell_type": "code",
      "source": [
        "macro.size"
      ],
      "metadata": {
        "colab": {
          "base_uri": "https://localhost:8080/"
        },
        "id": "RRt0Y2p7uukX",
        "outputId": "5742ed98-794b-48b2-ae55-811319a4d4b4"
      },
      "execution_count": 20,
      "outputs": [
        {
          "output_type": "execute_result",
          "data": {
            "text/plain": [
              "17388"
            ]
          },
          "metadata": {},
          "execution_count": 20
        }
      ]
    },
    {
      "cell_type": "markdown",
      "source": [
        "Описание типов данных по признакам"
      ],
      "metadata": {
        "id": "V8nJDzrqdaZc"
      }
    },
    {
      "cell_type": "code",
      "source": [
        "macro.info()"
      ],
      "metadata": {
        "colab": {
          "base_uri": "https://localhost:8080/"
        },
        "id": "PYyqxi03tHPf",
        "outputId": "686139be-8339-46b3-b5be-69b438bfc037"
      },
      "execution_count": 21,
      "outputs": [
        {
          "output_type": "stream",
          "name": "stdout",
          "text": [
            "<class 'pandas.core.frame.DataFrame'>\n",
            "RangeIndex: 2484 entries, 0 to 2483\n",
            "Data columns (total 7 columns):\n",
            " #   Column                Non-Null Count  Dtype  \n",
            "---  ------                --------------  -----  \n",
            " 0   timestamp             2484 non-null   object \n",
            " 1   salary                2191 non-null   float64\n",
            " 2   fixed_basket          2484 non-null   float64\n",
            " 3   rent_price_3room_eco  2211 non-null   float64\n",
            " 4   rent_price_2room_eco  2211 non-null   float64\n",
            " 5   rent_price_1room_eco  2211 non-null   float64\n",
            " 6   average_life_exp      2191 non-null   float64\n",
            "dtypes: float64(6), object(1)\n",
            "memory usage: 136.0+ KB\n"
          ]
        }
      ]
    },
    {
      "cell_type": "markdown",
      "source": [
        "Базовые статистики по признакам"
      ],
      "metadata": {
        "id": "r9KdYUIJdaZc"
      }
    },
    {
      "cell_type": "code",
      "source": [
        "macro['timestamp'] = pd.to_datetime(macro['timestamp'])"
      ],
      "metadata": {
        "id": "m7gBqhedtD1O"
      },
      "execution_count": 22,
      "outputs": []
    },
    {
      "cell_type": "code",
      "source": [
        "macro.describe()"
      ],
      "metadata": {
        "id": "NMVdTHxrdaZc",
        "colab": {
          "base_uri": "https://localhost:8080/",
          "height": 300
        },
        "outputId": "8f0e1176-3d98-4712-91e0-bfaf81fe0cca"
      },
      "execution_count": 23,
      "outputs": [
        {
          "output_type": "execute_result",
          "data": {
            "text/plain": [
              "           salary  fixed_basket  rent_price_3room_eco  rent_price_2room_eco  \\\n",
              "count   2191.0000     2484.0000             2211.0000             2211.0000   \n",
              "mean   52188.9331    15331.4980               47.2997               38.8954   \n",
              "std     9068.5590     2789.1363                3.0702                5.0352   \n",
              "min    38410.5000    11443.6300               37.5400                0.1000   \n",
              "25%    44898.7000    12992.4400               45.5300               37.9300   \n",
              "50%    48830.4000    14983.9200               47.3500               39.4700   \n",
              "75%    61208.0000    18295.0700               49.3500               41.3000   \n",
              "max    64310.0000    20422.5000               53.2100               43.8500   \n",
              "\n",
              "       rent_price_1room_eco  average_life_exp  \n",
              "count             2211.0000         2191.0000  \n",
              "mean                31.0024           75.9282  \n",
              "std                  3.9841            0.8699  \n",
              "min                  2.3100           74.2000  \n",
              "25%                 29.7800           75.7400  \n",
              "50%                 31.1100           75.7900  \n",
              "75%                 33.0600           76.7000  \n",
              "max                 35.3700           76.7700  "
            ],
            "text/html": [
              "\n",
              "  <div id=\"df-590cff50-02dd-4476-81f3-2ff3203e0b0a\">\n",
              "    <div class=\"colab-df-container\">\n",
              "      <div>\n",
              "<style scoped>\n",
              "    .dataframe tbody tr th:only-of-type {\n",
              "        vertical-align: middle;\n",
              "    }\n",
              "\n",
              "    .dataframe tbody tr th {\n",
              "        vertical-align: top;\n",
              "    }\n",
              "\n",
              "    .dataframe thead th {\n",
              "        text-align: right;\n",
              "    }\n",
              "</style>\n",
              "<table border=\"1\" class=\"dataframe\">\n",
              "  <thead>\n",
              "    <tr style=\"text-align: right;\">\n",
              "      <th></th>\n",
              "      <th>salary</th>\n",
              "      <th>fixed_basket</th>\n",
              "      <th>rent_price_3room_eco</th>\n",
              "      <th>rent_price_2room_eco</th>\n",
              "      <th>rent_price_1room_eco</th>\n",
              "      <th>average_life_exp</th>\n",
              "    </tr>\n",
              "  </thead>\n",
              "  <tbody>\n",
              "    <tr>\n",
              "      <th>count</th>\n",
              "      <td>2191.0000</td>\n",
              "      <td>2484.0000</td>\n",
              "      <td>2211.0000</td>\n",
              "      <td>2211.0000</td>\n",
              "      <td>2211.0000</td>\n",
              "      <td>2191.0000</td>\n",
              "    </tr>\n",
              "    <tr>\n",
              "      <th>mean</th>\n",
              "      <td>52188.9331</td>\n",
              "      <td>15331.4980</td>\n",
              "      <td>47.2997</td>\n",
              "      <td>38.8954</td>\n",
              "      <td>31.0024</td>\n",
              "      <td>75.9282</td>\n",
              "    </tr>\n",
              "    <tr>\n",
              "      <th>std</th>\n",
              "      <td>9068.5590</td>\n",
              "      <td>2789.1363</td>\n",
              "      <td>3.0702</td>\n",
              "      <td>5.0352</td>\n",
              "      <td>3.9841</td>\n",
              "      <td>0.8699</td>\n",
              "    </tr>\n",
              "    <tr>\n",
              "      <th>min</th>\n",
              "      <td>38410.5000</td>\n",
              "      <td>11443.6300</td>\n",
              "      <td>37.5400</td>\n",
              "      <td>0.1000</td>\n",
              "      <td>2.3100</td>\n",
              "      <td>74.2000</td>\n",
              "    </tr>\n",
              "    <tr>\n",
              "      <th>25%</th>\n",
              "      <td>44898.7000</td>\n",
              "      <td>12992.4400</td>\n",
              "      <td>45.5300</td>\n",
              "      <td>37.9300</td>\n",
              "      <td>29.7800</td>\n",
              "      <td>75.7400</td>\n",
              "    </tr>\n",
              "    <tr>\n",
              "      <th>50%</th>\n",
              "      <td>48830.4000</td>\n",
              "      <td>14983.9200</td>\n",
              "      <td>47.3500</td>\n",
              "      <td>39.4700</td>\n",
              "      <td>31.1100</td>\n",
              "      <td>75.7900</td>\n",
              "    </tr>\n",
              "    <tr>\n",
              "      <th>75%</th>\n",
              "      <td>61208.0000</td>\n",
              "      <td>18295.0700</td>\n",
              "      <td>49.3500</td>\n",
              "      <td>41.3000</td>\n",
              "      <td>33.0600</td>\n",
              "      <td>76.7000</td>\n",
              "    </tr>\n",
              "    <tr>\n",
              "      <th>max</th>\n",
              "      <td>64310.0000</td>\n",
              "      <td>20422.5000</td>\n",
              "      <td>53.2100</td>\n",
              "      <td>43.8500</td>\n",
              "      <td>35.3700</td>\n",
              "      <td>76.7700</td>\n",
              "    </tr>\n",
              "  </tbody>\n",
              "</table>\n",
              "</div>\n",
              "      <button class=\"colab-df-convert\" onclick=\"convertToInteractive('df-590cff50-02dd-4476-81f3-2ff3203e0b0a')\"\n",
              "              title=\"Convert this dataframe to an interactive table.\"\n",
              "              style=\"display:none;\">\n",
              "        \n",
              "  <svg xmlns=\"http://www.w3.org/2000/svg\" height=\"24px\"viewBox=\"0 0 24 24\"\n",
              "       width=\"24px\">\n",
              "    <path d=\"M0 0h24v24H0V0z\" fill=\"none\"/>\n",
              "    <path d=\"M18.56 5.44l.94 2.06.94-2.06 2.06-.94-2.06-.94-.94-2.06-.94 2.06-2.06.94zm-11 1L8.5 8.5l.94-2.06 2.06-.94-2.06-.94L8.5 2.5l-.94 2.06-2.06.94zm10 10l.94 2.06.94-2.06 2.06-.94-2.06-.94-.94-2.06-.94 2.06-2.06.94z\"/><path d=\"M17.41 7.96l-1.37-1.37c-.4-.4-.92-.59-1.43-.59-.52 0-1.04.2-1.43.59L10.3 9.45l-7.72 7.72c-.78.78-.78 2.05 0 2.83L4 21.41c.39.39.9.59 1.41.59.51 0 1.02-.2 1.41-.59l7.78-7.78 2.81-2.81c.8-.78.8-2.07 0-2.86zM5.41 20L4 18.59l7.72-7.72 1.47 1.35L5.41 20z\"/>\n",
              "  </svg>\n",
              "      </button>\n",
              "      \n",
              "  <style>\n",
              "    .colab-df-container {\n",
              "      display:flex;\n",
              "      flex-wrap:wrap;\n",
              "      gap: 12px;\n",
              "    }\n",
              "\n",
              "    .colab-df-convert {\n",
              "      background-color: #E8F0FE;\n",
              "      border: none;\n",
              "      border-radius: 50%;\n",
              "      cursor: pointer;\n",
              "      display: none;\n",
              "      fill: #1967D2;\n",
              "      height: 32px;\n",
              "      padding: 0 0 0 0;\n",
              "      width: 32px;\n",
              "    }\n",
              "\n",
              "    .colab-df-convert:hover {\n",
              "      background-color: #E2EBFA;\n",
              "      box-shadow: 0px 1px 2px rgba(60, 64, 67, 0.3), 0px 1px 3px 1px rgba(60, 64, 67, 0.15);\n",
              "      fill: #174EA6;\n",
              "    }\n",
              "\n",
              "    [theme=dark] .colab-df-convert {\n",
              "      background-color: #3B4455;\n",
              "      fill: #D2E3FC;\n",
              "    }\n",
              "\n",
              "    [theme=dark] .colab-df-convert:hover {\n",
              "      background-color: #434B5C;\n",
              "      box-shadow: 0px 1px 3px 1px rgba(0, 0, 0, 0.15);\n",
              "      filter: drop-shadow(0px 1px 2px rgba(0, 0, 0, 0.3));\n",
              "      fill: #FFFFFF;\n",
              "    }\n",
              "  </style>\n",
              "\n",
              "      <script>\n",
              "        const buttonEl =\n",
              "          document.querySelector('#df-590cff50-02dd-4476-81f3-2ff3203e0b0a button.colab-df-convert');\n",
              "        buttonEl.style.display =\n",
              "          google.colab.kernel.accessAllowed ? 'block' : 'none';\n",
              "\n",
              "        async function convertToInteractive(key) {\n",
              "          const element = document.querySelector('#df-590cff50-02dd-4476-81f3-2ff3203e0b0a');\n",
              "          const dataTable =\n",
              "            await google.colab.kernel.invokeFunction('convertToInteractive',\n",
              "                                                     [key], {});\n",
              "          if (!dataTable) return;\n",
              "\n",
              "          const docLinkHtml = 'Like what you see? Visit the ' +\n",
              "            '<a target=\"_blank\" href=https://colab.research.google.com/notebooks/data_table.ipynb>data table notebook</a>'\n",
              "            + ' to learn more about interactive tables.';\n",
              "          element.innerHTML = '';\n",
              "          dataTable['output_type'] = 'display_data';\n",
              "          await google.colab.output.renderOutput(dataTable, element);\n",
              "          const docLink = document.createElement('div');\n",
              "          docLink.innerHTML = docLinkHtml;\n",
              "          element.appendChild(docLink);\n",
              "        }\n",
              "      </script>\n",
              "    </div>\n",
              "  </div>\n",
              "  "
            ]
          },
          "metadata": {},
          "execution_count": 23
        }
      ]
    },
    {
      "cell_type": "markdown",
      "source": [
        "Выводы текстом, что вы можете сказать по каждому признаку, на основе базовых статистик"
      ],
      "metadata": {
        "id": "kUF1P7mTdaZc"
      }
    },
    {
      "cell_type": "markdown",
      "source": [
        "- Чем меньше комнат в арендуемом жилье, тем дешевле его арендовать\n",
        "- В жилье в котором две комнаты, сильнее разбрасываются цены за счет наивысшего стандартного отклонения, относительно других арендуемых единиц\n",
        "- Общние показатели не сильно влияют на ожидаемую продолжительность жизни - малое стандартное отклонение"
      ],
      "metadata": {
        "id": "YpRRQQrxdaZc"
      }
    },
    {
      "cell_type": "markdown",
      "source": [
        "Какие признаки вы считаете полезными для предсказания цены квартиры, а какие по вашему мнению можно убрать. Почему?"
      ],
      "metadata": {
        "id": "-fu8HSzAdaZc"
      }
    },
    {
      "cell_type": "markdown",
      "source": [
        "- Количество комнат (rent_price_3room_eco, rent_price_2room_eco, rent_price_1room_eco) - наиболее весомый показатель для предсказания цены арендуемого жилья\n",
        "- timestamp - в зависимости от ситуации в мире и экономики на данный момент цены могут изменяться\n",
        "- average_life_exp - в некоторых случаях может влиять на цену, в зависимости от района и условий жизни, больше average_life_exp - больше цена из-за более благополучных условий проживания"
      ],
      "metadata": {
        "id": "lZxDNxO8daZd"
      }
    },
    {
      "cell_type": "markdown",
      "source": [
        "Есть ли пропуски в данных? В каких столбцах? Какой процент по каждому столбцу?"
      ],
      "metadata": {
        "id": "P1CmjZ2XdaZd"
      }
    },
    {
      "cell_type": "code",
      "source": [
        "# Missing data in units\n",
        "missing_values_quantity = macro.isna().sum()\n",
        "missing_values_quantity"
      ],
      "metadata": {
        "id": "B8DGEnOtdaZd",
        "colab": {
          "base_uri": "https://localhost:8080/"
        },
        "outputId": "6eb462c3-c2a1-44a0-f3da-8e32c14ad66a"
      },
      "execution_count": 24,
      "outputs": [
        {
          "output_type": "execute_result",
          "data": {
            "text/plain": [
              "timestamp                 0\n",
              "salary                  293\n",
              "fixed_basket              0\n",
              "rent_price_3room_eco    273\n",
              "rent_price_2room_eco    273\n",
              "rent_price_1room_eco    273\n",
              "average_life_exp        293\n",
              "dtype: int64"
            ]
          },
          "metadata": {},
          "execution_count": 24
        }
      ]
    },
    {
      "cell_type": "code",
      "source": [
        "# Missing data in percentage\n",
        "missing_data_percent_ratio = round(macro.isna().mean() * 100, 2)\n",
        "missing_data_percent_ratio"
      ],
      "metadata": {
        "colab": {
          "base_uri": "https://localhost:8080/"
        },
        "id": "6PYZSxZB2QDc",
        "outputId": "84981f18-21d3-4a0c-b717-fdbd73cf7a04"
      },
      "execution_count": 25,
      "outputs": [
        {
          "output_type": "execute_result",
          "data": {
            "text/plain": [
              "timestamp                0.00\n",
              "salary                  11.80\n",
              "fixed_basket             0.00\n",
              "rent_price_3room_eco    10.99\n",
              "rent_price_2room_eco    10.99\n",
              "rent_price_1room_eco    10.99\n",
              "average_life_exp        11.80\n",
              "dtype: float64"
            ]
          },
          "metadata": {},
          "execution_count": 25
        }
      ]
    },
    {
      "cell_type": "markdown",
      "source": [
        "Есть ли аномальные данные в стoлбцах? Если да, то укажите на них и объясните, почему считаете аномальными\n"
      ],
      "metadata": {
        "id": "ovjCyA8YdaZd"
      }
    },
    {
      "cell_type": "markdown",
      "source": [
        "- Минимальное значение цены аренды rent_price_2room_eco - 0.1\n",
        "- Минимальное значение цены аренды rent_price_1room_eco - 2.3100"
      ],
      "metadata": {
        "id": "Z33oobHSdaZd"
      }
    },
    {
      "cell_type": "markdown",
      "source": [
        "## 1.3 Замените все ранее найденные ошибочные данные на None. Заполните все пропуски в данных: которые были и которые появились. Используйте как стратегии изученные на занятии, так и логику, которая вытекает из самих данных"
      ],
      "metadata": {
        "id": "ac-Ie6LNMsbG"
      }
    },
    {
      "cell_type": "markdown",
      "source": [
        "### 1.3.1 Главный набор данных"
      ],
      "metadata": {
        "id": "YCZtD33vNSjd"
      }
    },
    {
      "cell_type": "markdown",
      "source": [
        "- Решил провизуализировать данные, глазами в таблицу сложно смотреть"
      ],
      "metadata": {
        "id": "7dTJy-KxFj7v"
      }
    },
    {
      "cell_type": "code",
      "source": [
        "def visualize_dataframe(dataframe, ignore_types=['datetime64[ns]', 'object'], ignore_columns=['id'], method='boxplot'):\n",
        "    column_names = dataframe.columns.values\n",
        "    for column_name in column_names:\n",
        "        if dataframe[column_name].dtypes in ignore_types or column_name in ignore_columns:\n",
        "            continue\n",
        "        if method == 'boxplot':\n",
        "            sns.boxplot(x = dataframe[column_name])\n",
        "            plt.show()\n",
        "        if method == 'histplot':\n",
        "            sns.histplot(x = dataframe[column_name])\n",
        "            plt.show()"
      ],
      "metadata": {
        "id": "d2FmAW3yqsnN"
      },
      "execution_count": 26,
      "outputs": []
    },
    {
      "cell_type": "code",
      "source": [
        "visualize_dataframe(df)"
      ],
      "metadata": {
        "colab": {
          "base_uri": "https://localhost:8080/",
          "height": 1000
        },
        "id": "NPGi5gEwx9-2",
        "outputId": "ea4d807f-8f43-426f-8d1b-d745d9ed71bc"
      },
      "execution_count": 27,
      "outputs": [
        {
          "output_type": "display_data",
          "data": {
            "text/plain": [
              "<Figure size 432x288 with 1 Axes>"
            ],
            "image/png": "[encoded data removed]"
          },
          "metadata": {
            "needs_background": "light"
          }
        },
        {
          "output_type": "display_data",
          "data": {
            "text/plain": [
              "<Figure size 432x288 with 1 Axes>"
            ],
            "image/png": "[encoded data removed]"
          },
          "metadata": {
            "needs_background": "light"
          }
        },
        {
          "output_type": "display_data",
          "data": {
            "text/plain": [
              "<Figure size 432x288 with 1 Axes>"
            ],
            "image/png": "[encoded data removed]"
          },
          "metadata": {
            "needs_background": "light"
          }
        },
        {
          "output_type": "display_data",
          "data": {
            "text/plain": [
              "<Figure size 432x288 with 1 Axes>"
            ],
            "image/png": "[encoded data removed]"
          },
          "metadata": {
            "needs_background": "light"
          }
        },
        {
          "output_type": "display_data",
          "data": {
            "text/plain": [
              "<Figure size 432x288 with 1 Axes>"
            ],
            "image/png": "[encoded data removed]"
          },
          "metadata": {
            "needs_background": "light"
          }
        },
        {
          "output_type": "display_data",
          "data": {
            "text/plain": [
              "<Figure size 432x288 with 1 Axes>"
            ],
            "image/png": "[encoded data removed]"
          },
          "metadata": {
            "needs_background": "light"
          }
        },
        {
          "output_type": "display_data",
          "data": {
            "text/plain": [
              "<Figure size 432x288 with 1 Axes>"
            ],
            "image/png": "[encoded data removed]"
          },
          "metadata": {
            "needs_background": "light"
          }
        },
        {
          "output_type": "display_data",
          "data": {
            "text/plain": [
              "<Figure size 432x288 with 1 Axes>"
            ],
            "image/png": "[encoded data removed]"
          },
          "metadata": {
            "needs_background": "light"
          }
        },
        {
          "output_type": "display_data",
          "data": {
            "text/plain": [
              "<Figure size 432x288 with 1 Axes>"
            ],
            "image/png": "[encoded data removed]"
          },
          "metadata": {
            "needs_background": "light"
          }
        },
        {
          "output_type": "display_data",
          "data": {
            "text/plain": [
              "<Figure size 432x288 with 1 Axes>"
            ],
            "image/png": "[encoded data removed]"
          },
          "metadata": {
            "needs_background": "light"
          }
        }
      ]
    },
    {
      "cell_type": "markdown",
      "source": [
        "- Явно видно что есть выбросы в full_sq, life_sq, floor, state, kitch_sq, остальное выглядит в общей мере адекватно"
      ],
      "metadata": {
        "id": "HKPKLx3Q7hn-"
      }
    },
    {
      "cell_type": "markdown",
      "source": [
        "- Функция которая будет обнулять выбросы, выходящие за 99.99% процентиль\n",
        "- Помимо чего добавлю аргумент в функцию roll_num переменный, чтобы обнуление можно было делать несколько разa, некоторые выбросы например в колонне kitch_sq, обнуляются только после второго раза вызова функции"
      ],
      "metadata": {
        "id": "rdQK1OT0EXFA"
      }
    },
    {
      "cell_type": "code",
      "source": [
        "def clear_outliers(dataframe, roll_num=1, high_quantile=0.99, low_quantile=0.01, on_columns=None, ignore_types=['datetime64[ns]', 'object'], ignore_columns=['id']):\n",
        "    def do_clean(columns_to_clean):\n",
        "        for column_name in columns_to_clean:\n",
        "            if dataframe[column_name].dtypes in ignore_types or column_name in ignore_columns:\n",
        "                continue\n",
        "            for i in range(roll_num):\n",
        "                # 99.99% high percentile\n",
        "                # percentile_high = dataframe[column_name].quantile(0.9999)\n",
        "                percentile_high = dataframe[column_name].quantile(high_quantile)\n",
        "                # 0.001% low percentile\n",
        "                percentile_low = dataframe[column_name].quantile(low_quantile)\n",
        "                # making outliers obsolete \n",
        "                dataframe[column_name] = dataframe[column_name].apply(lambda x: np.nan if x > percentile_high else x)\n",
        "                dataframe[column_name] = dataframe[column_name].apply(lambda x: np.nan if x < percentile_low else x)\n",
        "        return dataframe\n",
        "\n",
        "    if on_columns is not None:\n",
        "        return do_clean(on_columns)\n",
        "\n",
        "    all_column_names = dataframe.columns.values\n",
        "    return do_clean(all_column_names)"
      ],
      "metadata": {
        "id": "U5eg_IbqgwPN"
      },
      "execution_count": 28,
      "outputs": []
    },
    {
      "cell_type": "code",
      "source": [
        "df = clear_outliers(df, high_quantile=0.9999, low_quantile=0.0001, roll_num=2)"
      ],
      "metadata": {
        "id": "lR8RuEGpg_w3"
      },
      "execution_count": 29,
      "outputs": []
    },
    {
      "cell_type": "markdown",
      "source": [
        "- Собственно выбрал 99.99% процентиль потому что выбросов у нас не так много и при этом они больше среднего показателя в 100+ раз"
      ],
      "metadata": {
        "id": "nLeuiYIABcJr"
      }
    },
    {
      "cell_type": "code",
      "source": [
        "visualize_dataframe(df)"
      ],
      "metadata": {
        "colab": {
          "base_uri": "https://localhost:8080/",
          "height": 1000
        },
        "id": "lB2XhyaaAo35",
        "outputId": "b8fcb9bb-cfb5-44e1-e999-af47ae20e527"
      },
      "execution_count": 30,
      "outputs": [
        {
          "output_type": "display_data",
          "data": {
            "text/plain": [
              "<Figure size 432x288 with 1 Axes>"
            ],
            "image/png": "[encoded data removed]"
          },
          "metadata": {
            "needs_background": "light"
          }
        },
        {
          "output_type": "display_data",
          "data": {
            "text/plain": [
              "<Figure size 432x288 with 1 Axes>"
            ],
            "image/png": "[encoded data removed]"
          },
          "metadata": {
            "needs_background": "light"
          }
        },
        {
          "output_type": "display_data",
          "data": {
            "text/plain": [
              "<Figure size 432x288 with 1 Axes>"
            ],
            "image/png": "[encoded data removed]"
          },
          "metadata": {
            "needs_background": "light"
          }
        },
        {
          "output_type": "display_data",
          "data": {
            "text/plain": [
              "<Figure size 432x288 with 1 Axes>"
            ],
            "image/png": "[encoded data removed]"
          },
          "metadata": {
            "needs_background": "light"
          }
        },
        {
          "output_type": "display_data",
          "data": {
            "text/plain": [
              "<Figure size 432x288 with 1 Axes>"
            ],
            "image/png": "[encoded data removed]"
          },
          "metadata": {
            "needs_background": "light"
          }
        },
        {
          "output_type": "display_data",
          "data": {
            "text/plain": [
              "<Figure size 432x288 with 1 Axes>"
            ],
            "image/png": "[encoded data removed]"
          },
          "metadata": {
            "needs_background": "light"
          }
        },
        {
          "output_type": "display_data",
          "data": {
            "text/plain": [
              "<Figure size 432x288 with 1 Axes>"
            ],
            "image/png": "[encoded data removed]"
          },
          "metadata": {
            "needs_background": "light"
          }
        },
        {
          "output_type": "display_data",
          "data": {
            "text/plain": [
              "<Figure size 432x288 with 1 Axes>"
            ],
            "image/png": "[encoded data removed]"
          },
          "metadata": {
            "needs_background": "light"
          }
        },
        {
          "output_type": "display_data",
          "data": {
            "text/plain": [
              "<Figure size 432x288 with 1 Axes>"
            ],
            "image/png": "[encoded data removed]"
          },
          "metadata": {
            "needs_background": "light"
          }
        },
        {
          "output_type": "display_data",
          "data": {
            "text/plain": [
              "<Figure size 432x288 with 1 Axes>"
            ],
            "image/png": "[encoded data removed]"
          },
          "metadata": {
            "needs_background": "light"
          }
        }
      ]
    },
    {
      "cell_type": "markdown",
      "source": [
        "- После обнуления выбросов, собственно видно что данные стали более стабильными, если можно так сказать и более сгруппированы вокруг среднего значения"
      ],
      "metadata": {
        "id": "EkS0gh2cCLXN"
      }
    },
    {
      "cell_type": "code",
      "source": [
        "def count_nan(dataframe):\n",
        "    column_names = dataframe.columns.values\n",
        "    for column_name in column_names:\n",
        "        print(f'{column_name}: {dataframe[column_name].isna().sum()}')"
      ],
      "metadata": {
        "id": "L0rJBRLvQUbM"
      },
      "execution_count": 31,
      "outputs": []
    },
    {
      "cell_type": "code",
      "source": [
        "count_nan(df)"
      ],
      "metadata": {
        "colab": {
          "base_uri": "https://localhost:8080/"
        },
        "id": "kgO7vcDmFd_O",
        "outputId": "be01620b-ae93-4c3d-ef4b-6b4ea3c3af04"
      },
      "execution_count": 32,
      "outputs": [
        {
          "output_type": "stream",
          "name": "stdout",
          "text": [
            "id: 0\n",
            "timestamp: 0\n",
            "full_sq: 6\n",
            "life_sq: 1579\n",
            "floor: 31\n",
            "state: 3362\n",
            "max_floor: 1422\n",
            "material: 1421\n",
            "build_year: 2905\n",
            "num_room: 1425\n",
            "kitch_sq: 1425\n",
            "full_all: 1\n",
            "sub_area: 0\n",
            "price_doc: 7\n"
          ]
        }
      ]
    },
    {
      "cell_type": "markdown",
      "source": [
        "- Замена пустых значений на среднее значение конкретной колонны"
      ],
      "metadata": {
        "id": "nlGX-Q34UGtE"
      }
    },
    {
      "cell_type": "code",
      "source": [
        "def fill_nan_data(dataframe, ignore_types=['datetime64[ns]', 'object'], ignore_columns=['id']):\n",
        "    column_names = dataframe.columns.values\n",
        "    for column_name in column_names:\n",
        "        if dataframe[column_name].dtypes in ignore_types or column_name in ignore_columns:\n",
        "            continue\n",
        "        column_mean = dataframe[column_name].mean()\n",
        "        dataframe[column_name].fillna(column_mean, inplace=True)\n",
        "    return dataframe"
      ],
      "metadata": {
        "id": "Zr9cQmj6Q3SI"
      },
      "execution_count": 33,
      "outputs": []
    },
    {
      "cell_type": "code",
      "source": [
        "df = fill_nan_data(df, ignore_columns=['sub_area'])\n",
        "df.sample(15)"
      ],
      "metadata": {
        "colab": {
          "base_uri": "https://localhost:8080/",
          "height": 519
        },
        "id": "mb87h3D8R6Pf",
        "outputId": "862ba160-8c0c-4675-fb01-14ca05da9189"
      },
      "execution_count": 34,
      "outputs": [
        {
          "output_type": "execute_result",
          "data": {
            "text/plain": [
              "          id  timestamp  full_sq  life_sq  floor   state  max_floor  material  \\\n",
              "17129   2473 2012-06-09     73.0   51.000    2.0  2.1993    12.4208    1.8901   \n",
              "1485   11440 2013-10-22     44.0   28.000    6.0  3.0000     6.0000    1.0000   \n",
              "16026  29370 2015-04-24     37.0   17.000   10.0  3.0000    18.0000    1.0000   \n",
              "10826  22805 2014-09-23     37.0   19.000    7.0  2.0000    16.0000    1.0000   \n",
              "9504   21200 2014-07-31     65.0   46.000   11.0  2.0000    16.0000    5.0000   \n",
              "1267   11172 2013-10-11    107.0   64.000   17.0  3.0000    23.0000    1.0000   \n",
              "298     9693 2013-08-07     80.0   35.000    5.0  1.0000    40.0000    4.0000   \n",
              "14501  27476 2015-01-23     72.0   49.000    5.0  2.0000     5.0000    2.0000   \n",
              "5314   16075 2014-03-15     74.0   42.000   12.0  2.1993    17.0000    1.0000   \n",
              "1258   11157 2013-10-10     45.0   29.000    8.0  3.0000    12.0000    1.0000   \n",
              "5595   16427 2014-03-24     52.0   30.000    1.0  3.0000    12.0000    1.0000   \n",
              "12649  25155 2014-11-22     50.0   30.000    3.0  2.0000    17.0000    1.0000   \n",
              "13305  25979 2014-12-08     56.0   33.746    5.0  1.0000    22.0000    4.0000   \n",
              "17711  26386 2014-12-13     62.0   33.746    8.0  1.0000    17.0000    1.0000   \n",
              "16888   6506 2013-03-14     31.0   18.000    3.0  2.1993    12.4208    1.8901   \n",
              "\n",
              "      build_year  num_room  kitch_sq   full_all              sub_area  \\\n",
              "17129        NaT    1.9321    6.8285    55590.0        Krasnosel'skoe   \n",
              "1485  1980-01-01    2.0000    6.0000   165727.0               Mar'ino   \n",
              "16026 1973-01-01    1.0000    8.0000    81887.0               Hovrino   \n",
              "10826 1982-01-01    1.0000    8.0000    65972.0          Ostankinskoe   \n",
              "9504  1977-01-01    3.0000    7.0000  1716730.0  Birjulevo Vostochnoe   \n",
              "1267  2008-01-01    4.0000   11.0000    83369.0            Rjazanskij   \n",
              "298   2012-01-01    2.0000   14.0000  1362363.0        Akademicheskoe   \n",
              "14501 1957-01-01    3.0000    8.0000   111023.0  Ochakovo-Matveevskoe   \n",
              "5314  1997-01-01    3.0000   10.0000    85721.0              Brateevo   \n",
              "1258  1972-01-01    2.0000    6.0000   123000.0              Kon'kovo   \n",
              "5595  1982-01-01    2.0000    8.0000    76284.0     Nagatinskij Zaton   \n",
              "12649 1996-01-01    2.0000    8.0000    85721.0              Brateevo   \n",
              "13305 2014-01-01    2.0000    1.0000    76284.0     Nagatinskij Zaton   \n",
              "17711        NaT    2.0000    1.0000    17790.0  Poselenie Vnukovskoe   \n",
              "16888        NaT    1.9321    6.8285    78810.0               Koptevo   \n",
              "\n",
              "        price_doc  \n",
              "17129  1.3030e+07  \n",
              "1485   6.0000e+06  \n",
              "16026  7.3000e+06  \n",
              "10826  7.9000e+06  \n",
              "9504   7.9000e+06  \n",
              "1267   1.6400e+07  \n",
              "298    1.6738e+07  \n",
              "14501  1.2000e+07  \n",
              "5314   1.1000e+07  \n",
              "1258   8.0000e+06  \n",
              "5595   7.7580e+06  \n",
              "12649  8.3000e+06  \n",
              "13305  1.0634e+07  \n",
              "17711  8.0456e+06  \n",
              "16888  5.1700e+06  "
            ],
            "text/html": [
              "\n",
              "  <div id=\"df-ff23a793-c28d-4018-a73c-c23f485b3397\">\n",
              "    <div class=\"colab-df-container\">\n",
              "      <div>\n",
              "<style scoped>\n",
              "    .dataframe tbody tr th:only-of-type {\n",
              "        vertical-align: middle;\n",
              "    }\n",
              "\n",
              "    .dataframe tbody tr th {\n",
              "        vertical-align: top;\n",
              "    }\n",
              "\n",
              "    .dataframe thead th {\n",
              "        text-align: right;\n",
              "    }\n",
              "</style>\n",
              "<table border=\"1\" class=\"dataframe\">\n",
              "  <thead>\n",
              "    <tr style=\"text-align: right;\">\n",
              "      <th></th>\n",
              "      <th>id</th>\n",
              "      <th>timestamp</th>\n",
              "      <th>full_sq</th>\n",
              "      <th>life_sq</th>\n",
              "      <th>floor</th>\n",
              "      <th>state</th>\n",
              "      <th>max_floor</th>\n",
              "      <th>material</th>\n",
              "      <th>build_year</th>\n",
              "      <th>num_room</th>\n",
              "      <th>kitch_sq</th>\n",
              "      <th>full_all</th>\n",
              "      <th>sub_area</th>\n",
              "      <th>price_doc</th>\n",
              "    </tr>\n",
              "  </thead>\n",
              "  <tbody>\n",
              "    <tr>\n",
              "      <th>17129</th>\n",
              "      <td>2473</td>\n",
              "      <td>2012-06-09</td>\n",
              "      <td>73.0</td>\n",
              "      <td>51.000</td>\n",
              "      <td>2.0</td>\n",
              "      <td>2.1993</td>\n",
              "      <td>12.4208</td>\n",
              "      <td>1.8901</td>\n",
              "      <td>NaT</td>\n",
              "      <td>1.9321</td>\n",
              "      <td>6.8285</td>\n",
              "      <td>55590.0</td>\n",
              "      <td>Krasnosel'skoe</td>\n",
              "      <td>1.3030e+07</td>\n",
              "    </tr>\n",
              "    <tr>\n",
              "      <th>1485</th>\n",
              "      <td>11440</td>\n",
              "      <td>2013-10-22</td>\n",
              "      <td>44.0</td>\n",
              "      <td>28.000</td>\n",
              "      <td>6.0</td>\n",
              "      <td>3.0000</td>\n",
              "      <td>6.0000</td>\n",
              "      <td>1.0000</td>\n",
              "      <td>1980-01-01</td>\n",
              "      <td>2.0000</td>\n",
              "      <td>6.0000</td>\n",
              "      <td>165727.0</td>\n",
              "      <td>Mar'ino</td>\n",
              "      <td>6.0000e+06</td>\n",
              "    </tr>\n",
              "    <tr>\n",
              "      <th>16026</th>\n",
              "      <td>29370</td>\n",
              "      <td>2015-04-24</td>\n",
              "      <td>37.0</td>\n",
              "      <td>17.000</td>\n",
              "      <td>10.0</td>\n",
              "      <td>3.0000</td>\n",
              "      <td>18.0000</td>\n",
              "      <td>1.0000</td>\n",
              "      <td>1973-01-01</td>\n",
              "      <td>1.0000</td>\n",
              "      <td>8.0000</td>\n",
              "      <td>81887.0</td>\n",
              "      <td>Hovrino</td>\n",
              "      <td>7.3000e+06</td>\n",
              "    </tr>\n",
              "    <tr>\n",
              "      <th>10826</th>\n",
              "      <td>22805</td>\n",
              "      <td>2014-09-23</td>\n",
              "      <td>37.0</td>\n",
              "      <td>19.000</td>\n",
              "      <td>7.0</td>\n",
              "      <td>2.0000</td>\n",
              "      <td>16.0000</td>\n",
              "      <td>1.0000</td>\n",
              "      <td>1982-01-01</td>\n",
              "      <td>1.0000</td>\n",
              "      <td>8.0000</td>\n",
              "      <td>65972.0</td>\n",
              "      <td>Ostankinskoe</td>\n",
              "      <td>7.9000e+06</td>\n",
              "    </tr>\n",
              "    <tr>\n",
              "      <th>9504</th>\n",
              "      <td>21200</td>\n",
              "      <td>2014-07-31</td>\n",
              "      <td>65.0</td>\n",
              "      <td>46.000</td>\n",
              "      <td>11.0</td>\n",
              "      <td>2.0000</td>\n",
              "      <td>16.0000</td>\n",
              "      <td>5.0000</td>\n",
              "      <td>1977-01-01</td>\n",
              "      <td>3.0000</td>\n",
              "      <td>7.0000</td>\n",
              "      <td>1716730.0</td>\n",
              "      <td>Birjulevo Vostochnoe</td>\n",
              "      <td>7.9000e+06</td>\n",
              "    </tr>\n",
              "    <tr>\n",
              "      <th>1267</th>\n",
              "      <td>11172</td>\n",
              "      <td>2013-10-11</td>\n",
              "      <td>107.0</td>\n",
              "      <td>64.000</td>\n",
              "      <td>17.0</td>\n",
              "      <td>3.0000</td>\n",
              "      <td>23.0000</td>\n",
              "      <td>1.0000</td>\n",
              "      <td>2008-01-01</td>\n",
              "      <td>4.0000</td>\n",
              "      <td>11.0000</td>\n",
              "      <td>83369.0</td>\n",
              "      <td>Rjazanskij</td>\n",
              "      <td>1.6400e+07</td>\n",
              "    </tr>\n",
              "    <tr>\n",
              "      <th>298</th>\n",
              "      <td>9693</td>\n",
              "      <td>2013-08-07</td>\n",
              "      <td>80.0</td>\n",
              "      <td>35.000</td>\n",
              "      <td>5.0</td>\n",
              "      <td>1.0000</td>\n",
              "      <td>40.0000</td>\n",
              "      <td>4.0000</td>\n",
              "      <td>2012-01-01</td>\n",
              "      <td>2.0000</td>\n",
              "      <td>14.0000</td>\n",
              "      <td>1362363.0</td>\n",
              "      <td>Akademicheskoe</td>\n",
              "      <td>1.6738e+07</td>\n",
              "    </tr>\n",
              "    <tr>\n",
              "      <th>14501</th>\n",
              "      <td>27476</td>\n",
              "      <td>2015-01-23</td>\n",
              "      <td>72.0</td>\n",
              "      <td>49.000</td>\n",
              "      <td>5.0</td>\n",
              "      <td>2.0000</td>\n",
              "      <td>5.0000</td>\n",
              "      <td>2.0000</td>\n",
              "      <td>1957-01-01</td>\n",
              "      <td>3.0000</td>\n",
              "      <td>8.0000</td>\n",
              "      <td>111023.0</td>\n",
              "      <td>Ochakovo-Matveevskoe</td>\n",
              "      <td>1.2000e+07</td>\n",
              "    </tr>\n",
              "    <tr>\n",
              "      <th>5314</th>\n",
              "      <td>16075</td>\n",
              "      <td>2014-03-15</td>\n",
              "      <td>74.0</td>\n",
              "      <td>42.000</td>\n",
              "      <td>12.0</td>\n",
              "      <td>2.1993</td>\n",
              "      <td>17.0000</td>\n",
              "      <td>1.0000</td>\n",
              "      <td>1997-01-01</td>\n",
              "      <td>3.0000</td>\n",
              "      <td>10.0000</td>\n",
              "      <td>85721.0</td>\n",
              "      <td>Brateevo</td>\n",
              "      <td>1.1000e+07</td>\n",
              "    </tr>\n",
              "    <tr>\n",
              "      <th>1258</th>\n",
              "      <td>11157</td>\n",
              "      <td>2013-10-10</td>\n",
              "      <td>45.0</td>\n",
              "      <td>29.000</td>\n",
              "      <td>8.0</td>\n",
              "      <td>3.0000</td>\n",
              "      <td>12.0000</td>\n",
              "      <td>1.0000</td>\n",
              "      <td>1972-01-01</td>\n",
              "      <td>2.0000</td>\n",
              "      <td>6.0000</td>\n",
              "      <td>123000.0</td>\n",
              "      <td>Kon'kovo</td>\n",
              "      <td>8.0000e+06</td>\n",
              "    </tr>\n",
              "    <tr>\n",
              "      <th>5595</th>\n",
              "      <td>16427</td>\n",
              "      <td>2014-03-24</td>\n",
              "      <td>52.0</td>\n",
              "      <td>30.000</td>\n",
              "      <td>1.0</td>\n",
              "      <td>3.0000</td>\n",
              "      <td>12.0000</td>\n",
              "      <td>1.0000</td>\n",
              "      <td>1982-01-01</td>\n",
              "      <td>2.0000</td>\n",
              "      <td>8.0000</td>\n",
              "      <td>76284.0</td>\n",
              "      <td>Nagatinskij Zaton</td>\n",
              "      <td>7.7580e+06</td>\n",
              "    </tr>\n",
              "    <tr>\n",
              "      <th>12649</th>\n",
              "      <td>25155</td>\n",
              "      <td>2014-11-22</td>\n",
              "      <td>50.0</td>\n",
              "      <td>30.000</td>\n",
              "      <td>3.0</td>\n",
              "      <td>2.0000</td>\n",
              "      <td>17.0000</td>\n",
              "      <td>1.0000</td>\n",
              "      <td>1996-01-01</td>\n",
              "      <td>2.0000</td>\n",
              "      <td>8.0000</td>\n",
              "      <td>85721.0</td>\n",
              "      <td>Brateevo</td>\n",
              "      <td>8.3000e+06</td>\n",
              "    </tr>\n",
              "    <tr>\n",
              "      <th>13305</th>\n",
              "      <td>25979</td>\n",
              "      <td>2014-12-08</td>\n",
              "      <td>56.0</td>\n",
              "      <td>33.746</td>\n",
              "      <td>5.0</td>\n",
              "      <td>1.0000</td>\n",
              "      <td>22.0000</td>\n",
              "      <td>4.0000</td>\n",
              "      <td>2014-01-01</td>\n",
              "      <td>2.0000</td>\n",
              "      <td>1.0000</td>\n",
              "      <td>76284.0</td>\n",
              "      <td>Nagatinskij Zaton</td>\n",
              "      <td>1.0634e+07</td>\n",
              "    </tr>\n",
              "    <tr>\n",
              "      <th>17711</th>\n",
              "      <td>26386</td>\n",
              "      <td>2014-12-13</td>\n",
              "      <td>62.0</td>\n",
              "      <td>33.746</td>\n",
              "      <td>8.0</td>\n",
              "      <td>1.0000</td>\n",
              "      <td>17.0000</td>\n",
              "      <td>1.0000</td>\n",
              "      <td>NaT</td>\n",
              "      <td>2.0000</td>\n",
              "      <td>1.0000</td>\n",
              "      <td>17790.0</td>\n",
              "      <td>Poselenie Vnukovskoe</td>\n",
              "      <td>8.0456e+06</td>\n",
              "    </tr>\n",
              "    <tr>\n",
              "      <th>16888</th>\n",
              "      <td>6506</td>\n",
              "      <td>2013-03-14</td>\n",
              "      <td>31.0</td>\n",
              "      <td>18.000</td>\n",
              "      <td>3.0</td>\n",
              "      <td>2.1993</td>\n",
              "      <td>12.4208</td>\n",
              "      <td>1.8901</td>\n",
              "      <td>NaT</td>\n",
              "      <td>1.9321</td>\n",
              "      <td>6.8285</td>\n",
              "      <td>78810.0</td>\n",
              "      <td>Koptevo</td>\n",
              "      <td>5.1700e+06</td>\n",
              "    </tr>\n",
              "  </tbody>\n",
              "</table>\n",
              "</div>\n",
              "      <button class=\"colab-df-convert\" onclick=\"convertToInteractive('df-ff23a793-c28d-4018-a73c-c23f485b3397')\"\n",
              "              title=\"Convert this dataframe to an interactive table.\"\n",
              "              style=\"display:none;\">\n",
              "        \n",
              "  <svg xmlns=\"http://www.w3.org/2000/svg\" height=\"24px\"viewBox=\"0 0 24 24\"\n",
              "       width=\"24px\">\n",
              "    <path d=\"M0 0h24v24H0V0z\" fill=\"none\"/>\n",
              "    <path d=\"M18.56 5.44l.94 2.06.94-2.06 2.06-.94-2.06-.94-.94-2.06-.94 2.06-2.06.94zm-11 1L8.5 8.5l.94-2.06 2.06-.94-2.06-.94L8.5 2.5l-.94 2.06-2.06.94zm10 10l.94 2.06.94-2.06 2.06-.94-2.06-.94-.94-2.06-.94 2.06-2.06.94z\"/><path d=\"M17.41 7.96l-1.37-1.37c-.4-.4-.92-.59-1.43-.59-.52 0-1.04.2-1.43.59L10.3 9.45l-7.72 7.72c-.78.78-.78 2.05 0 2.83L4 21.41c.39.39.9.59 1.41.59.51 0 1.02-.2 1.41-.59l7.78-7.78 2.81-2.81c.8-.78.8-2.07 0-2.86zM5.41 20L4 18.59l7.72-7.72 1.47 1.35L5.41 20z\"/>\n",
              "  </svg>\n",
              "      </button>\n",
              "      \n",
              "  <style>\n",
              "    .colab-df-container {\n",
              "      display:flex;\n",
              "      flex-wrap:wrap;\n",
              "      gap: 12px;\n",
              "    }\n",
              "\n",
              "    .colab-df-convert {\n",
              "      background-color: #E8F0FE;\n",
              "      border: none;\n",
              "      border-radius: 50%;\n",
              "      cursor: pointer;\n",
              "      display: none;\n",
              "      fill: #1967D2;\n",
              "      height: 32px;\n",
              "      padding: 0 0 0 0;\n",
              "      width: 32px;\n",
              "    }\n",
              "\n",
              "    .colab-df-convert:hover {\n",
              "      background-color: #E2EBFA;\n",
              "      box-shadow: 0px 1px 2px rgba(60, 64, 67, 0.3), 0px 1px 3px 1px rgba(60, 64, 67, 0.15);\n",
              "      fill: #174EA6;\n",
              "    }\n",
              "\n",
              "    [theme=dark] .colab-df-convert {\n",
              "      background-color: #3B4455;\n",
              "      fill: #D2E3FC;\n",
              "    }\n",
              "\n",
              "    [theme=dark] .colab-df-convert:hover {\n",
              "      background-color: #434B5C;\n",
              "      box-shadow: 0px 1px 3px 1px rgba(0, 0, 0, 0.15);\n",
              "      filter: drop-shadow(0px 1px 2px rgba(0, 0, 0, 0.3));\n",
              "      fill: #FFFFFF;\n",
              "    }\n",
              "  </style>\n",
              "\n",
              "      <script>\n",
              "        const buttonEl =\n",
              "          document.querySelector('#df-ff23a793-c28d-4018-a73c-c23f485b3397 button.colab-df-convert');\n",
              "        buttonEl.style.display =\n",
              "          google.colab.kernel.accessAllowed ? 'block' : 'none';\n",
              "\n",
              "        async function convertToInteractive(key) {\n",
              "          const element = document.querySelector('#df-ff23a793-c28d-4018-a73c-c23f485b3397');\n",
              "          const dataTable =\n",
              "            await google.colab.kernel.invokeFunction('convertToInteractive',\n",
              "                                                     [key], {});\n",
              "          if (!dataTable) return;\n",
              "\n",
              "          const docLinkHtml = 'Like what you see? Visit the ' +\n",
              "            '<a target=\"_blank\" href=https://colab.research.google.com/notebooks/data_table.ipynb>data table notebook</a>'\n",
              "            + ' to learn more about interactive tables.';\n",
              "          element.innerHTML = '';\n",
              "          dataTable['output_type'] = 'display_data';\n",
              "          await google.colab.output.renderOutput(dataTable, element);\n",
              "          const docLink = document.createElement('div');\n",
              "          docLink.innerHTML = docLinkHtml;\n",
              "          element.appendChild(docLink);\n",
              "        }\n",
              "      </script>\n",
              "    </div>\n",
              "  </div>\n",
              "  "
            ]
          },
          "metadata": {},
          "execution_count": 34
        }
      ]
    },
    {
      "cell_type": "markdown",
      "source": [
        "- Количество пустых значений после замены nan на среднее значение конкретной колонны"
      ],
      "metadata": {
        "id": "1PZfKeZ5UdaI"
      }
    },
    {
      "cell_type": "code",
      "source": [
        "count_nan(df)"
      ],
      "metadata": {
        "colab": {
          "base_uri": "https://localhost:8080/"
        },
        "id": "2HiEub2zTQJL",
        "outputId": "f1f2a2ce-c4e3-4d2c-fd36-0c802c375d63"
      },
      "execution_count": 35,
      "outputs": [
        {
          "output_type": "stream",
          "name": "stdout",
          "text": [
            "id: 0\n",
            "timestamp: 0\n",
            "full_sq: 0\n",
            "life_sq: 0\n",
            "floor: 0\n",
            "state: 0\n",
            "max_floor: 0\n",
            "material: 0\n",
            "build_year: 2905\n",
            "num_room: 0\n",
            "kitch_sq: 0\n",
            "full_all: 0\n",
            "sub_area: 0\n",
            "price_doc: 0\n"
          ]
        }
      ]
    },
    {
      "cell_type": "markdown",
      "source": [
        "- Визуализируем датафрейм еще раз"
      ],
      "metadata": {
        "id": "JTGmqBWwU17E"
      }
    },
    {
      "cell_type": "code",
      "source": [
        "visualize_dataframe(df)"
      ],
      "metadata": {
        "colab": {
          "base_uri": "https://localhost:8080/",
          "height": 1000
        },
        "id": "1Z2LugWQUxPf",
        "outputId": "ba2ad645-3adf-47f1-ed75-1bf01c67183f"
      },
      "execution_count": 36,
      "outputs": [
        {
          "output_type": "display_data",
          "data": {
            "text/plain": [
              "<Figure size 432x288 with 1 Axes>"
            ],
            "image/png": "[encoded data removed]"
          },
          "metadata": {
            "needs_background": "light"
          }
        },
        {
          "output_type": "display_data",
          "data": {
            "text/plain": [
              "<Figure size 432x288 with 1 Axes>"
            ],
            "image/png": "[encoded data removed]"
          },
          "metadata": {
            "needs_background": "light"
          }
        },
        {
          "output_type": "display_data",
          "data": {
            "text/plain": [
              "<Figure size 432x288 with 1 Axes>"
            ],
            "image/png": "[encoded data removed]"
          },
          "metadata": {
            "needs_background": "light"
          }
        },
        {
          "output_type": "display_data",
          "data": {
            "text/plain": [
              "<Figure size 432x288 with 1 Axes>"
            ],
            "image/png": "[encoded data removed]"
          },
          "metadata": {
            "needs_background": "light"
          }
        },
        {
          "output_type": "display_data",
          "data": {
            "text/plain": [
              "<Figure size 432x288 with 1 Axes>"
            ],
            "image/png": "[encoded data removed]"
          },
          "metadata": {
            "needs_background": "light"
          }
        },
        {
          "output_type": "display_data",
          "data": {
            "text/plain": [
              "<Figure size 432x288 with 1 Axes>"
            ],
            "image/png": "[encoded data removed]"
          },
          "metadata": {
            "needs_background": "light"
          }
        },
        {
          "output_type": "display_data",
          "data": {
            "text/plain": [
              "<Figure size 432x288 with 1 Axes>"
            ],
            "image/png": "[encoded data removed]"
          },
          "metadata": {
            "needs_background": "light"
          }
        },
        {
          "output_type": "display_data",
          "data": {
            "text/plain": [
              "<Figure size 432x288 with 1 Axes>"
            ],
            "image/png": "[encoded data removed]"
          },
          "metadata": {
            "needs_background": "light"
          }
        },
        {
          "output_type": "display_data",
          "data": {
            "text/plain": [
              "<Figure size 432x288 with 1 Axes>"
            ],
            "image/png": "[encoded data removed]"
          },
          "metadata": {
            "needs_background": "light"
          }
        },
        {
          "output_type": "display_data",
          "data": {
            "text/plain": [
              "<Figure size 432x288 with 1 Axes>"
            ],
            "image/png": "[encoded data removed]"
          },
          "metadata": {
            "needs_background": "light"
          }
        }
      ]
    },
    {
      "cell_type": "markdown",
      "source": [
        "### 1.3.2 Набор с макропоказателями"
      ],
      "metadata": {
        "id": "IzqxQKoTNbNV"
      }
    },
    {
      "cell_type": "markdown",
      "source": [
        "- В визуализации видно что есть небольшое количество выборосов, но ситуация явно лучше чем в первом датасете"
      ],
      "metadata": {
        "id": "CZX5NS8eVJ9K"
      }
    },
    {
      "cell_type": "code",
      "source": [
        "visualize_dataframe(macro)"
      ],
      "metadata": {
        "id": "j3du90RSNSM5",
        "colab": {
          "base_uri": "https://localhost:8080/",
          "height": 1000
        },
        "outputId": "b3de2195-95bf-4992-813a-3f5819cd392d"
      },
      "execution_count": 37,
      "outputs": [
        {
          "output_type": "display_data",
          "data": {
            "text/plain": [
              "<Figure size 432x288 with 1 Axes>"
            ],
            "image/png": "[encoded data removed]"
          },
          "metadata": {
            "needs_background": "light"
          }
        },
        {
          "output_type": "display_data",
          "data": {
            "text/plain": [
              "<Figure size 432x288 with 1 Axes>"
            ],
            "image/png": "[encoded data removed]"
          },
          "metadata": {
            "needs_background": "light"
          }
        },
        {
          "output_type": "display_data",
          "data": {
            "text/plain": [
              "<Figure size 432x288 with 1 Axes>"
            ],
            "image/png": "[encoded data removed]"
          },
          "metadata": {
            "needs_background": "light"
          }
        },
        {
          "output_type": "display_data",
          "data": {
            "text/plain": [
              "<Figure size 432x288 with 1 Axes>"
            ],
            "image/png": "[encoded data removed]"
          },
          "metadata": {
            "needs_background": "light"
          }
        },
        {
          "output_type": "display_data",
          "data": {
            "text/plain": [
              "<Figure size 432x288 with 1 Axes>"
            ],
            "image/png": "[encoded data removed]"
          },
          "metadata": {
            "needs_background": "light"
          }
        },
        {
          "output_type": "display_data",
          "data": {
            "text/plain": [
              "<Figure size 432x288 with 1 Axes>"
            ],
            "image/png": "[encoded data removed]"
          },
          "metadata": {
            "needs_background": "light"
          }
        }
      ]
    },
    {
      "cell_type": "markdown",
      "source": [
        "- Уберем некоторые очевидные выбросы, проигнорируя некоторые колонны в которых максимальные значения адекватные"
      ],
      "metadata": {
        "id": "zJwMimseYP5l"
      }
    },
    {
      "cell_type": "code",
      "source": [
        "macro = clear_outliers(macro, low_quantile=0.2, ignore_columns=['rent_price_3room_eco', 'average_life_exp'])"
      ],
      "metadata": {
        "id": "jRPyd7cnVT45"
      },
      "execution_count": 38,
      "outputs": []
    },
    {
      "cell_type": "code",
      "source": [
        "visualize_dataframe(macro)"
      ],
      "metadata": {
        "colab": {
          "base_uri": "https://localhost:8080/",
          "height": 1000
        },
        "id": "QXUk1-1YVqfU",
        "outputId": "fc16a7d9-3175-4bc6-833b-1e34dcb3b2ee"
      },
      "execution_count": 39,
      "outputs": [
        {
          "output_type": "display_data",
          "data": {
            "text/plain": [
              "<Figure size 432x288 with 1 Axes>"
            ],
            "image/png": "[encoded data removed]"
          },
          "metadata": {
            "needs_background": "light"
          }
        },
        {
          "output_type": "display_data",
          "data": {
            "text/plain": [
              "<Figure size 432x288 with 1 Axes>"
            ],
            "image/png": "[encoded data removed]"
          },
          "metadata": {
            "needs_background": "light"
          }
        },
        {
          "output_type": "display_data",
          "data": {
            "text/plain": [
              "<Figure size 432x288 with 1 Axes>"
            ],
            "image/png": "[encoded data removed]"
          },
          "metadata": {
            "needs_background": "light"
          }
        },
        {
          "output_type": "display_data",
          "data": {
            "text/plain": [
              "<Figure size 432x288 with 1 Axes>"
            ],
            "image/png": "[encoded data removed]"
          },
          "metadata": {
            "needs_background": "light"
          }
        },
        {
          "output_type": "display_data",
          "data": {
            "text/plain": [
              "<Figure size 432x288 with 1 Axes>"
            ],
            "image/png": "[encoded data removed]"
          },
          "metadata": {
            "needs_background": "light"
          }
        },
        {
          "output_type": "display_data",
          "data": {
            "text/plain": [
              "<Figure size 432x288 with 1 Axes>"
            ],
            "image/png": "[encoded data removed]"
          },
          "metadata": {
            "needs_background": "light"
          }
        }
      ]
    },
    {
      "cell_type": "code",
      "source": [
        "count_nan(macro)"
      ],
      "metadata": {
        "colab": {
          "base_uri": "https://localhost:8080/"
        },
        "id": "6i7zjCfUYVQV",
        "outputId": "152b9777-eebb-4ad8-91ac-82b75ac0aace"
      },
      "execution_count": 40,
      "outputs": [
        {
          "output_type": "stream",
          "name": "stdout",
          "text": [
            "timestamp: 0\n",
            "salary: 658\n",
            "fixed_basket: 485\n",
            "rent_price_3room_eco: 273\n",
            "rent_price_2room_eco: 697\n",
            "rent_price_1room_eco: 700\n",
            "average_life_exp: 293\n"
          ]
        }
      ]
    },
    {
      "cell_type": "code",
      "source": [
        "macro = fill_nan_data(macro)\n",
        "macro.sample(15)"
      ],
      "metadata": {
        "colab": {
          "base_uri": "https://localhost:8080/",
          "height": 519
        },
        "id": "8HV3xP1pYbLi",
        "outputId": "1e4c6144-0a2f-46db-fd85-005e7209870e"
      },
      "execution_count": 41,
      "outputs": [
        {
          "output_type": "execute_result",
          "data": {
            "text/plain": [
              "      timestamp      salary  fixed_basket  rent_price_3room_eco  \\\n",
              "897  2012-06-16  48830.4000    13494.2300               46.2900   \n",
              "2290 2016-04-09  54943.1106    19904.3100               47.9700   \n",
              "1218 2013-05-03  55485.2000    14983.9200               47.3500   \n",
              "2416 2016-08-13  54943.1106    20380.7300               46.4000   \n",
              "2152 2015-11-23  64310.0000    19213.3200               49.6200   \n",
              "401  2011-02-06  44898.7000    16131.2946               44.4100   \n",
              "1732 2014-09-29  61208.0000    16165.3000               51.4100   \n",
              "266  2010-09-24  54943.1106    16131.2946               47.2997   \n",
              "1281 2013-07-05  55485.2000    15163.8200               48.0800   \n",
              "327  2010-11-24  54943.1106    16131.2946               42.0700   \n",
              "330  2010-11-27  54943.1106    16131.2946               42.0700   \n",
              "235  2010-08-24  54943.1106    16131.2946               47.2997   \n",
              "2088 2015-09-20  64310.0000    19088.5300               50.0700   \n",
              "186  2010-07-06  54943.1106    16131.2946               47.2997   \n",
              "2237 2016-02-16  54943.1106    19544.1900               46.8900   \n",
              "\n",
              "      rent_price_2room_eco  rent_price_1room_eco  average_life_exp  \n",
              "897                39.0000               30.4800           75.7400  \n",
              "2290               40.2572               32.0755           75.9282  \n",
              "1218               40.7700               32.0755           76.3700  \n",
              "2416               38.0400               29.6800           75.9282  \n",
              "2152               39.4800               30.4800           76.7700  \n",
              "401                40.2572               32.0755           75.7900  \n",
              "1732               43.2600               34.5200           76.7000  \n",
              "266                40.2572               32.0755           74.2000  \n",
              "1281               41.4200               32.5500           76.3700  \n",
              "327                40.2572               32.0755           74.2000  \n",
              "330                40.2572               32.0755           74.2000  \n",
              "235                40.2572               32.0755           74.2000  \n",
              "2088               39.0600               30.6900           76.7700  \n",
              "186                40.2572               32.0755           74.2000  \n",
              "2237               38.1100               29.8500           75.9282  "
            ],
            "text/html": [
              "\n",
              "  <div id=\"df-fed747fc-d0c8-49d2-b2bc-b9d16df8dd68\">\n",
              "    <div class=\"colab-df-container\">\n",
              "      <div>\n",
              "<style scoped>\n",
              "    .dataframe tbody tr th:only-of-type {\n",
              "        vertical-align: middle;\n",
              "    }\n",
              "\n",
              "    .dataframe tbody tr th {\n",
              "        vertical-align: top;\n",
              "    }\n",
              "\n",
              "    .dataframe thead th {\n",
              "        text-align: right;\n",
              "    }\n",
              "</style>\n",
              "<table border=\"1\" class=\"dataframe\">\n",
              "  <thead>\n",
              "    <tr style=\"text-align: right;\">\n",
              "      <th></th>\n",
              "      <th>timestamp</th>\n",
              "      <th>salary</th>\n",
              "      <th>fixed_basket</th>\n",
              "      <th>rent_price_3room_eco</th>\n",
              "      <th>rent_price_2room_eco</th>\n",
              "      <th>rent_price_1room_eco</th>\n",
              "      <th>average_life_exp</th>\n",
              "    </tr>\n",
              "  </thead>\n",
              "  <tbody>\n",
              "    <tr>\n",
              "      <th>897</th>\n",
              "      <td>2012-06-16</td>\n",
              "      <td>48830.4000</td>\n",
              "      <td>13494.2300</td>\n",
              "      <td>46.2900</td>\n",
              "      <td>39.0000</td>\n",
              "      <td>30.4800</td>\n",
              "      <td>75.7400</td>\n",
              "    </tr>\n",
              "    <tr>\n",
              "      <th>2290</th>\n",
              "      <td>2016-04-09</td>\n",
              "      <td>54943.1106</td>\n",
              "      <td>19904.3100</td>\n",
              "      <td>47.9700</td>\n",
              "      <td>40.2572</td>\n",
              "      <td>32.0755</td>\n",
              "      <td>75.9282</td>\n",
              "    </tr>\n",
              "    <tr>\n",
              "      <th>1218</th>\n",
              "      <td>2013-05-03</td>\n",
              "      <td>55485.2000</td>\n",
              "      <td>14983.9200</td>\n",
              "      <td>47.3500</td>\n",
              "      <td>40.7700</td>\n",
              "      <td>32.0755</td>\n",
              "      <td>76.3700</td>\n",
              "    </tr>\n",
              "    <tr>\n",
              "      <th>2416</th>\n",
              "      <td>2016-08-13</td>\n",
              "      <td>54943.1106</td>\n",
              "      <td>20380.7300</td>\n",
              "      <td>46.4000</td>\n",
              "      <td>38.0400</td>\n",
              "      <td>29.6800</td>\n",
              "      <td>75.9282</td>\n",
              "    </tr>\n",
              "    <tr>\n",
              "      <th>2152</th>\n",
              "      <td>2015-11-23</td>\n",
              "      <td>64310.0000</td>\n",
              "      <td>19213.3200</td>\n",
              "      <td>49.6200</td>\n",
              "      <td>39.4800</td>\n",
              "      <td>30.4800</td>\n",
              "      <td>76.7700</td>\n",
              "    </tr>\n",
              "    <tr>\n",
              "      <th>401</th>\n",
              "      <td>2011-02-06</td>\n",
              "      <td>44898.7000</td>\n",
              "      <td>16131.2946</td>\n",
              "      <td>44.4100</td>\n",
              "      <td>40.2572</td>\n",
              "      <td>32.0755</td>\n",
              "      <td>75.7900</td>\n",
              "    </tr>\n",
              "    <tr>\n",
              "      <th>1732</th>\n",
              "      <td>2014-09-29</td>\n",
              "      <td>61208.0000</td>\n",
              "      <td>16165.3000</td>\n",
              "      <td>51.4100</td>\n",
              "      <td>43.2600</td>\n",
              "      <td>34.5200</td>\n",
              "      <td>76.7000</td>\n",
              "    </tr>\n",
              "    <tr>\n",
              "      <th>266</th>\n",
              "      <td>2010-09-24</td>\n",
              "      <td>54943.1106</td>\n",
              "      <td>16131.2946</td>\n",
              "      <td>47.2997</td>\n",
              "      <td>40.2572</td>\n",
              "      <td>32.0755</td>\n",
              "      <td>74.2000</td>\n",
              "    </tr>\n",
              "    <tr>\n",
              "      <th>1281</th>\n",
              "      <td>2013-07-05</td>\n",
              "      <td>55485.2000</td>\n",
              "      <td>15163.8200</td>\n",
              "      <td>48.0800</td>\n",
              "      <td>41.4200</td>\n",
              "      <td>32.5500</td>\n",
              "      <td>76.3700</td>\n",
              "    </tr>\n",
              "    <tr>\n",
              "      <th>327</th>\n",
              "      <td>2010-11-24</td>\n",
              "      <td>54943.1106</td>\n",
              "      <td>16131.2946</td>\n",
              "      <td>42.0700</td>\n",
              "      <td>40.2572</td>\n",
              "      <td>32.0755</td>\n",
              "      <td>74.2000</td>\n",
              "    </tr>\n",
              "    <tr>\n",
              "      <th>330</th>\n",
              "      <td>2010-11-27</td>\n",
              "      <td>54943.1106</td>\n",
              "      <td>16131.2946</td>\n",
              "      <td>42.0700</td>\n",
              "      <td>40.2572</td>\n",
              "      <td>32.0755</td>\n",
              "      <td>74.2000</td>\n",
              "    </tr>\n",
              "    <tr>\n",
              "      <th>235</th>\n",
              "      <td>2010-08-24</td>\n",
              "      <td>54943.1106</td>\n",
              "      <td>16131.2946</td>\n",
              "      <td>47.2997</td>\n",
              "      <td>40.2572</td>\n",
              "      <td>32.0755</td>\n",
              "      <td>74.2000</td>\n",
              "    </tr>\n",
              "    <tr>\n",
              "      <th>2088</th>\n",
              "      <td>2015-09-20</td>\n",
              "      <td>64310.0000</td>\n",
              "      <td>19088.5300</td>\n",
              "      <td>50.0700</td>\n",
              "      <td>39.0600</td>\n",
              "      <td>30.6900</td>\n",
              "      <td>76.7700</td>\n",
              "    </tr>\n",
              "    <tr>\n",
              "      <th>186</th>\n",
              "      <td>2010-07-06</td>\n",
              "      <td>54943.1106</td>\n",
              "      <td>16131.2946</td>\n",
              "      <td>47.2997</td>\n",
              "      <td>40.2572</td>\n",
              "      <td>32.0755</td>\n",
              "      <td>74.2000</td>\n",
              "    </tr>\n",
              "    <tr>\n",
              "      <th>2237</th>\n",
              "      <td>2016-02-16</td>\n",
              "      <td>54943.1106</td>\n",
              "      <td>19544.1900</td>\n",
              "      <td>46.8900</td>\n",
              "      <td>38.1100</td>\n",
              "      <td>29.8500</td>\n",
              "      <td>75.9282</td>\n",
              "    </tr>\n",
              "  </tbody>\n",
              "</table>\n",
              "</div>\n",
              "      <button class=\"colab-df-convert\" onclick=\"convertToInteractive('df-fed747fc-d0c8-49d2-b2bc-b9d16df8dd68')\"\n",
              "              title=\"Convert this dataframe to an interactive table.\"\n",
              "              style=\"display:none;\">\n",
              "        \n",
              "  <svg xmlns=\"http://www.w3.org/2000/svg\" height=\"24px\"viewBox=\"0 0 24 24\"\n",
              "       width=\"24px\">\n",
              "    <path d=\"M0 0h24v24H0V0z\" fill=\"none\"/>\n",
              "    <path d=\"M18.56 5.44l.94 2.06.94-2.06 2.06-.94-2.06-.94-.94-2.06-.94 2.06-2.06.94zm-11 1L8.5 8.5l.94-2.06 2.06-.94-2.06-.94L8.5 2.5l-.94 2.06-2.06.94zm10 10l.94 2.06.94-2.06 2.06-.94-2.06-.94-.94-2.06-.94 2.06-2.06.94z\"/><path d=\"M17.41 7.96l-1.37-1.37c-.4-.4-.92-.59-1.43-.59-.52 0-1.04.2-1.43.59L10.3 9.45l-7.72 7.72c-.78.78-.78 2.05 0 2.83L4 21.41c.39.39.9.59 1.41.59.51 0 1.02-.2 1.41-.59l7.78-7.78 2.81-2.81c.8-.78.8-2.07 0-2.86zM5.41 20L4 18.59l7.72-7.72 1.47 1.35L5.41 20z\"/>\n",
              "  </svg>\n",
              "      </button>\n",
              "      \n",
              "  <style>\n",
              "    .colab-df-container {\n",
              "      display:flex;\n",
              "      flex-wrap:wrap;\n",
              "      gap: 12px;\n",
              "    }\n",
              "\n",
              "    .colab-df-convert {\n",
              "      background-color: #E8F0FE;\n",
              "      border: none;\n",
              "      border-radius: 50%;\n",
              "      cursor: pointer;\n",
              "      display: none;\n",
              "      fill: #1967D2;\n",
              "      height: 32px;\n",
              "      padding: 0 0 0 0;\n",
              "      width: 32px;\n",
              "    }\n",
              "\n",
              "    .colab-df-convert:hover {\n",
              "      background-color: #E2EBFA;\n",
              "      box-shadow: 0px 1px 2px rgba(60, 64, 67, 0.3), 0px 1px 3px 1px rgba(60, 64, 67, 0.15);\n",
              "      fill: #174EA6;\n",
              "    }\n",
              "\n",
              "    [theme=dark] .colab-df-convert {\n",
              "      background-color: #3B4455;\n",
              "      fill: #D2E3FC;\n",
              "    }\n",
              "\n",
              "    [theme=dark] .colab-df-convert:hover {\n",
              "      background-color: #434B5C;\n",
              "      box-shadow: 0px 1px 3px 1px rgba(0, 0, 0, 0.15);\n",
              "      filter: drop-shadow(0px 1px 2px rgba(0, 0, 0, 0.3));\n",
              "      fill: #FFFFFF;\n",
              "    }\n",
              "  </style>\n",
              "\n",
              "      <script>\n",
              "        const buttonEl =\n",
              "          document.querySelector('#df-fed747fc-d0c8-49d2-b2bc-b9d16df8dd68 button.colab-df-convert');\n",
              "        buttonEl.style.display =\n",
              "          google.colab.kernel.accessAllowed ? 'block' : 'none';\n",
              "\n",
              "        async function convertToInteractive(key) {\n",
              "          const element = document.querySelector('#df-fed747fc-d0c8-49d2-b2bc-b9d16df8dd68');\n",
              "          const dataTable =\n",
              "            await google.colab.kernel.invokeFunction('convertToInteractive',\n",
              "                                                     [key], {});\n",
              "          if (!dataTable) return;\n",
              "\n",
              "          const docLinkHtml = 'Like what you see? Visit the ' +\n",
              "            '<a target=\"_blank\" href=https://colab.research.google.com/notebooks/data_table.ipynb>data table notebook</a>'\n",
              "            + ' to learn more about interactive tables.';\n",
              "          element.innerHTML = '';\n",
              "          dataTable['output_type'] = 'display_data';\n",
              "          await google.colab.output.renderOutput(dataTable, element);\n",
              "          const docLink = document.createElement('div');\n",
              "          docLink.innerHTML = docLinkHtml;\n",
              "          element.appendChild(docLink);\n",
              "        }\n",
              "      </script>\n",
              "    </div>\n",
              "  </div>\n",
              "  "
            ]
          },
          "metadata": {},
          "execution_count": 41
        }
      ]
    },
    {
      "cell_type": "code",
      "source": [
        "count_nan(macro)"
      ],
      "metadata": {
        "colab": {
          "base_uri": "https://localhost:8080/"
        },
        "id": "Qa1KQkOCYgCw",
        "outputId": "a838f4c0-5a9b-48a0-ea60-46243e281f1a"
      },
      "execution_count": 42,
      "outputs": [
        {
          "output_type": "stream",
          "name": "stdout",
          "text": [
            "timestamp: 0\n",
            "salary: 0\n",
            "fixed_basket: 0\n",
            "rent_price_3room_eco: 0\n",
            "rent_price_2room_eco: 0\n",
            "rent_price_1room_eco: 0\n",
            "average_life_exp: 0\n"
          ]
        }
      ]
    },
    {
      "cell_type": "code",
      "source": [
        "visualize_dataframe(macro)"
      ],
      "metadata": {
        "colab": {
          "base_uri": "https://localhost:8080/",
          "height": 1000
        },
        "id": "RdXDBkOWYiLY",
        "outputId": "dc916c64-28a5-43bd-b7cf-2d79ecf1a325"
      },
      "execution_count": 43,
      "outputs": [
        {
          "output_type": "display_data",
          "data": {
            "text/plain": [
              "<Figure size 432x288 with 1 Axes>"
            ],
            "image/png": "[encoded data removed]"
          },
          "metadata": {
            "needs_background": "light"
          }
        },
        {
          "output_type": "display_data",
          "data": {
            "text/plain": [
              "<Figure size 432x288 with 1 Axes>"
            ],
            "image/png": "[encoded data removed]"
          },
          "metadata": {
            "needs_background": "light"
          }
        },
        {
          "output_type": "display_data",
          "data": {
            "text/plain": [
              "<Figure size 432x288 with 1 Axes>"
            ],
            "image/png": "[encoded data removed]"
          },
          "metadata": {
            "needs_background": "light"
          }
        },
        {
          "output_type": "display_data",
          "data": {
            "text/plain": [
              "<Figure size 432x288 with 1 Axes>"
            ],
            "image/png": "[encoded data removed]"
          },
          "metadata": {
            "needs_background": "light"
          }
        },
        {
          "output_type": "display_data",
          "data": {
            "text/plain": [
              "<Figure size 432x288 with 1 Axes>"
            ],
            "image/png": "[encoded data removed]"
          },
          "metadata": {
            "needs_background": "light"
          }
        },
        {
          "output_type": "display_data",
          "data": {
            "text/plain": [
              "<Figure size 432x288 with 1 Axes>"
            ],
            "image/png": "[encoded data removed]"
          },
          "metadata": {
            "needs_background": "light"
          }
        }
      ]
    },
    {
      "cell_type": "markdown",
      "source": [
        "- После махинаций со средними и пустыми значениями почти ничего не изменилось, только ушли аномальные выбросы"
      ],
      "metadata": {
        "id": "zm0uEhsjYmP3"
      }
    },
    {
      "cell_type": "markdown",
      "source": [
        "## 1.4 Обогатите основной набор данных данными из макропоказателей и поместите в переменную `df_full`"
      ],
      "metadata": {
        "id": "E1ic1LZoSWNx"
      }
    },
    {
      "cell_type": "code",
      "source": [
        "df.head(5)"
      ],
      "metadata": {
        "id": "Q8jFXRrGSlKp",
        "colab": {
          "base_uri": "https://localhost:8080/",
          "height": 206
        },
        "outputId": "4fb26bfd-e741-4415-c120-f9c2eb55ad39"
      },
      "execution_count": 44,
      "outputs": [
        {
          "output_type": "execute_result",
          "data": {
            "text/plain": [
              "     id  timestamp  full_sq  life_sq  floor   state  max_floor  material  \\\n",
              "0  8059 2013-05-21     11.0     11.0    2.0  3.0000        5.0       2.0   \n",
              "1  8138 2013-05-25     53.0     30.0   10.0  3.0000       16.0       1.0   \n",
              "2  8156 2013-05-27     77.0     41.0    2.0  1.0000       17.0       6.0   \n",
              "3  8157 2013-05-27     45.0     27.0    6.0  3.0000        9.0       1.0   \n",
              "4  8178 2013-05-28     38.0     20.0   15.0  2.1993       16.0       1.0   \n",
              "\n",
              "  build_year  num_room  kitch_sq  full_all                 sub_area  price_doc  \n",
              "0 1907-01-01       1.0      12.0   75377.0                Hamovniki  2750000.0  \n",
              "1 1980-01-01       2.0       8.0   68630.0                Lianozovo  9000000.0  \n",
              "2 2014-01-01       3.0      12.0    9553.0  Poselenie Voskresenskoe  7011550.0  \n",
              "3 1970-01-01       2.0       6.0   78616.0          Severnoe Butovo  7100000.0  \n",
              "4 1982-01-01       1.0       8.0  112804.0           Filevskij Park  6450000.0  "
            ],
            "text/html": [
              "\n",
              "  <div id=\"df-1e5e8418-7ab6-40cd-9cc3-b3f0a8d5a95a\">\n",
              "    <div class=\"colab-df-container\">\n",
              "      <div>\n",
              "<style scoped>\n",
              "    .dataframe tbody tr th:only-of-type {\n",
              "        vertical-align: middle;\n",
              "    }\n",
              "\n",
              "    .dataframe tbody tr th {\n",
              "        vertical-align: top;\n",
              "    }\n",
              "\n",
              "    .dataframe thead th {\n",
              "        text-align: right;\n",
              "    }\n",
              "</style>\n",
              "<table border=\"1\" class=\"dataframe\">\n",
              "  <thead>\n",
              "    <tr style=\"text-align: right;\">\n",
              "      <th></th>\n",
              "      <th>id</th>\n",
              "      <th>timestamp</th>\n",
              "      <th>full_sq</th>\n",
              "      <th>life_sq</th>\n",
              "      <th>floor</th>\n",
              "      <th>state</th>\n",
              "      <th>max_floor</th>\n",
              "      <th>material</th>\n",
              "      <th>build_year</th>\n",
              "      <th>num_room</th>\n",
              "      <th>kitch_sq</th>\n",
              "      <th>full_all</th>\n",
              "      <th>sub_area</th>\n",
              "      <th>price_doc</th>\n",
              "    </tr>\n",
              "  </thead>\n",
              "  <tbody>\n",
              "    <tr>\n",
              "      <th>0</th>\n",
              "      <td>8059</td>\n",
              "      <td>2013-05-21</td>\n",
              "      <td>11.0</td>\n",
              "      <td>11.0</td>\n",
              "      <td>2.0</td>\n",
              "      <td>3.0000</td>\n",
              "      <td>5.0</td>\n",
              "      <td>2.0</td>\n",
              "      <td>1907-01-01</td>\n",
              "      <td>1.0</td>\n",
              "      <td>12.0</td>\n",
              "      <td>75377.0</td>\n",
              "      <td>Hamovniki</td>\n",
              "      <td>2750000.0</td>\n",
              "    </tr>\n",
              "    <tr>\n",
              "      <th>1</th>\n",
              "      <td>8138</td>\n",
              "      <td>2013-05-25</td>\n",
              "      <td>53.0</td>\n",
              "      <td>30.0</td>\n",
              "      <td>10.0</td>\n",
              "      <td>3.0000</td>\n",
              "      <td>16.0</td>\n",
              "      <td>1.0</td>\n",
              "      <td>1980-01-01</td>\n",
              "      <td>2.0</td>\n",
              "      <td>8.0</td>\n",
              "      <td>68630.0</td>\n",
              "      <td>Lianozovo</td>\n",
              "      <td>9000000.0</td>\n",
              "    </tr>\n",
              "    <tr>\n",
              "      <th>2</th>\n",
              "      <td>8156</td>\n",
              "      <td>2013-05-27</td>\n",
              "      <td>77.0</td>\n",
              "      <td>41.0</td>\n",
              "      <td>2.0</td>\n",
              "      <td>1.0000</td>\n",
              "      <td>17.0</td>\n",
              "      <td>6.0</td>\n",
              "      <td>2014-01-01</td>\n",
              "      <td>3.0</td>\n",
              "      <td>12.0</td>\n",
              "      <td>9553.0</td>\n",
              "      <td>Poselenie Voskresenskoe</td>\n",
              "      <td>7011550.0</td>\n",
              "    </tr>\n",
              "    <tr>\n",
              "      <th>3</th>\n",
              "      <td>8157</td>\n",
              "      <td>2013-05-27</td>\n",
              "      <td>45.0</td>\n",
              "      <td>27.0</td>\n",
              "      <td>6.0</td>\n",
              "      <td>3.0000</td>\n",
              "      <td>9.0</td>\n",
              "      <td>1.0</td>\n",
              "      <td>1970-01-01</td>\n",
              "      <td>2.0</td>\n",
              "      <td>6.0</td>\n",
              "      <td>78616.0</td>\n",
              "      <td>Severnoe Butovo</td>\n",
              "      <td>7100000.0</td>\n",
              "    </tr>\n",
              "    <tr>\n",
              "      <th>4</th>\n",
              "      <td>8178</td>\n",
              "      <td>2013-05-28</td>\n",
              "      <td>38.0</td>\n",
              "      <td>20.0</td>\n",
              "      <td>15.0</td>\n",
              "      <td>2.1993</td>\n",
              "      <td>16.0</td>\n",
              "      <td>1.0</td>\n",
              "      <td>1982-01-01</td>\n",
              "      <td>1.0</td>\n",
              "      <td>8.0</td>\n",
              "      <td>112804.0</td>\n",
              "      <td>Filevskij Park</td>\n",
              "      <td>6450000.0</td>\n",
              "    </tr>\n",
              "  </tbody>\n",
              "</table>\n",
              "</div>\n",
              "      <button class=\"colab-df-convert\" onclick=\"convertToInteractive('df-1e5e8418-7ab6-40cd-9cc3-b3f0a8d5a95a')\"\n",
              "              title=\"Convert this dataframe to an interactive table.\"\n",
              "              style=\"display:none;\">\n",
              "        \n",
              "  <svg xmlns=\"http://www.w3.org/2000/svg\" height=\"24px\"viewBox=\"0 0 24 24\"\n",
              "       width=\"24px\">\n",
              "    <path d=\"M0 0h24v24H0V0z\" fill=\"none\"/>\n",
              "    <path d=\"M18.56 5.44l.94 2.06.94-2.06 2.06-.94-2.06-.94-.94-2.06-.94 2.06-2.06.94zm-11 1L8.5 8.5l.94-2.06 2.06-.94-2.06-.94L8.5 2.5l-.94 2.06-2.06.94zm10 10l.94 2.06.94-2.06 2.06-.94-2.06-.94-.94-2.06-.94 2.06-2.06.94z\"/><path d=\"M17.41 7.96l-1.37-1.37c-.4-.4-.92-.59-1.43-.59-.52 0-1.04.2-1.43.59L10.3 9.45l-7.72 7.72c-.78.78-.78 2.05 0 2.83L4 21.41c.39.39.9.59 1.41.59.51 0 1.02-.2 1.41-.59l7.78-7.78 2.81-2.81c.8-.78.8-2.07 0-2.86zM5.41 20L4 18.59l7.72-7.72 1.47 1.35L5.41 20z\"/>\n",
              "  </svg>\n",
              "      </button>\n",
              "      \n",
              "  <style>\n",
              "    .colab-df-container {\n",
              "      display:flex;\n",
              "      flex-wrap:wrap;\n",
              "      gap: 12px;\n",
              "    }\n",
              "\n",
              "    .colab-df-convert {\n",
              "      background-color: #E8F0FE;\n",
              "      border: none;\n",
              "      border-radius: 50%;\n",
              "      cursor: pointer;\n",
              "      display: none;\n",
              "      fill: #1967D2;\n",
              "      height: 32px;\n",
              "      padding: 0 0 0 0;\n",
              "      width: 32px;\n",
              "    }\n",
              "\n",
              "    .colab-df-convert:hover {\n",
              "      background-color: #E2EBFA;\n",
              "      box-shadow: 0px 1px 2px rgba(60, 64, 67, 0.3), 0px 1px 3px 1px rgba(60, 64, 67, 0.15);\n",
              "      fill: #174EA6;\n",
              "    }\n",
              "\n",
              "    [theme=dark] .colab-df-convert {\n",
              "      background-color: #3B4455;\n",
              "      fill: #D2E3FC;\n",
              "    }\n",
              "\n",
              "    [theme=dark] .colab-df-convert:hover {\n",
              "      background-color: #434B5C;\n",
              "      box-shadow: 0px 1px 3px 1px rgba(0, 0, 0, 0.15);\n",
              "      filter: drop-shadow(0px 1px 2px rgba(0, 0, 0, 0.3));\n",
              "      fill: #FFFFFF;\n",
              "    }\n",
              "  </style>\n",
              "\n",
              "      <script>\n",
              "        const buttonEl =\n",
              "          document.querySelector('#df-1e5e8418-7ab6-40cd-9cc3-b3f0a8d5a95a button.colab-df-convert');\n",
              "        buttonEl.style.display =\n",
              "          google.colab.kernel.accessAllowed ? 'block' : 'none';\n",
              "\n",
              "        async function convertToInteractive(key) {\n",
              "          const element = document.querySelector('#df-1e5e8418-7ab6-40cd-9cc3-b3f0a8d5a95a');\n",
              "          const dataTable =\n",
              "            await google.colab.kernel.invokeFunction('convertToInteractive',\n",
              "                                                     [key], {});\n",
              "          if (!dataTable) return;\n",
              "\n",
              "          const docLinkHtml = 'Like what you see? Visit the ' +\n",
              "            '<a target=\"_blank\" href=https://colab.research.google.com/notebooks/data_table.ipynb>data table notebook</a>'\n",
              "            + ' to learn more about interactive tables.';\n",
              "          element.innerHTML = '';\n",
              "          dataTable['output_type'] = 'display_data';\n",
              "          await google.colab.output.renderOutput(dataTable, element);\n",
              "          const docLink = document.createElement('div');\n",
              "          docLink.innerHTML = docLinkHtml;\n",
              "          element.appendChild(docLink);\n",
              "        }\n",
              "      </script>\n",
              "    </div>\n",
              "  </div>\n",
              "  "
            ]
          },
          "metadata": {},
          "execution_count": 44
        }
      ]
    },
    {
      "cell_type": "code",
      "source": [
        "df.shape"
      ],
      "metadata": {
        "colab": {
          "base_uri": "https://localhost:8080/"
        },
        "id": "Z2Q-qY3ip3kF",
        "outputId": "c600e6e3-48fb-48bc-da27-2f027a1f1ce5"
      },
      "execution_count": 45,
      "outputs": [
        {
          "output_type": "execute_result",
          "data": {
            "text/plain": [
              "(18866, 14)"
            ]
          },
          "metadata": {},
          "execution_count": 45
        }
      ]
    },
    {
      "cell_type": "code",
      "source": [
        "macro.head(5)"
      ],
      "metadata": {
        "colab": {
          "base_uri": "https://localhost:8080/",
          "height": 206
        },
        "id": "LYNxsZkypISQ",
        "outputId": "dc419d9e-e2d6-4b06-ee5f-24a0fc752bd4"
      },
      "execution_count": 46,
      "outputs": [
        {
          "output_type": "execute_result",
          "data": {
            "text/plain": [
              "   timestamp      salary  fixed_basket  rent_price_3room_eco  \\\n",
              "0 2010-01-01  54943.1106    16131.2946               47.2997   \n",
              "1 2010-01-02  54943.1106    16131.2946               47.2997   \n",
              "2 2010-01-03  54943.1106    16131.2946               47.2997   \n",
              "3 2010-01-04  54943.1106    16131.2946               47.2997   \n",
              "4 2010-01-05  54943.1106    16131.2946               47.2997   \n",
              "\n",
              "   rent_price_2room_eco  rent_price_1room_eco  average_life_exp  \n",
              "0               40.2572               32.0755              74.2  \n",
              "1               40.2572               32.0755              74.2  \n",
              "2               40.2572               32.0755              74.2  \n",
              "3               40.2572               32.0755              74.2  \n",
              "4               40.2572               32.0755              74.2  "
            ],
            "text/html": [
              "\n",
              "  <div id=\"df-26b8410d-7573-498e-bae9-43669af69846\">\n",
              "    <div class=\"colab-df-container\">\n",
              "      <div>\n",
              "<style scoped>\n",
              "    .dataframe tbody tr th:only-of-type {\n",
              "        vertical-align: middle;\n",
              "    }\n",
              "\n",
              "    .dataframe tbody tr th {\n",
              "        vertical-align: top;\n",
              "    }\n",
              "\n",
              "    .dataframe thead th {\n",
              "        text-align: right;\n",
              "    }\n",
              "</style>\n",
              "<table border=\"1\" class=\"dataframe\">\n",
              "  <thead>\n",
              "    <tr style=\"text-align: right;\">\n",
              "      <th></th>\n",
              "      <th>timestamp</th>\n",
              "      <th>salary</th>\n",
              "      <th>fixed_basket</th>\n",
              "      <th>rent_price_3room_eco</th>\n",
              "      <th>rent_price_2room_eco</th>\n",
              "      <th>rent_price_1room_eco</th>\n",
              "      <th>average_life_exp</th>\n",
              "    </tr>\n",
              "  </thead>\n",
              "  <tbody>\n",
              "    <tr>\n",
              "      <th>0</th>\n",
              "      <td>2010-01-01</td>\n",
              "      <td>54943.1106</td>\n",
              "      <td>16131.2946</td>\n",
              "      <td>47.2997</td>\n",
              "      <td>40.2572</td>\n",
              "      <td>32.0755</td>\n",
              "      <td>74.2</td>\n",
              "    </tr>\n",
              "    <tr>\n",
              "      <th>1</th>\n",
              "      <td>2010-01-02</td>\n",
              "      <td>54943.1106</td>\n",
              "      <td>16131.2946</td>\n",
              "      <td>47.2997</td>\n",
              "      <td>40.2572</td>\n",
              "      <td>32.0755</td>\n",
              "      <td>74.2</td>\n",
              "    </tr>\n",
              "    <tr>\n",
              "      <th>2</th>\n",
              "      <td>2010-01-03</td>\n",
              "      <td>54943.1106</td>\n",
              "      <td>16131.2946</td>\n",
              "      <td>47.2997</td>\n",
              "      <td>40.2572</td>\n",
              "      <td>32.0755</td>\n",
              "      <td>74.2</td>\n",
              "    </tr>\n",
              "    <tr>\n",
              "      <th>3</th>\n",
              "      <td>2010-01-04</td>\n",
              "      <td>54943.1106</td>\n",
              "      <td>16131.2946</td>\n",
              "      <td>47.2997</td>\n",
              "      <td>40.2572</td>\n",
              "      <td>32.0755</td>\n",
              "      <td>74.2</td>\n",
              "    </tr>\n",
              "    <tr>\n",
              "      <th>4</th>\n",
              "      <td>2010-01-05</td>\n",
              "      <td>54943.1106</td>\n",
              "      <td>16131.2946</td>\n",
              "      <td>47.2997</td>\n",
              "      <td>40.2572</td>\n",
              "      <td>32.0755</td>\n",
              "      <td>74.2</td>\n",
              "    </tr>\n",
              "  </tbody>\n",
              "</table>\n",
              "</div>\n",
              "      <button class=\"colab-df-convert\" onclick=\"convertToInteractive('df-26b8410d-7573-498e-bae9-43669af69846')\"\n",
              "              title=\"Convert this dataframe to an interactive table.\"\n",
              "              style=\"display:none;\">\n",
              "        \n",
              "  <svg xmlns=\"http://www.w3.org/2000/svg\" height=\"24px\"viewBox=\"0 0 24 24\"\n",
              "       width=\"24px\">\n",
              "    <path d=\"M0 0h24v24H0V0z\" fill=\"none\"/>\n",
              "    <path d=\"M18.56 5.44l.94 2.06.94-2.06 2.06-.94-2.06-.94-.94-2.06-.94 2.06-2.06.94zm-11 1L8.5 8.5l.94-2.06 2.06-.94-2.06-.94L8.5 2.5l-.94 2.06-2.06.94zm10 10l.94 2.06.94-2.06 2.06-.94-2.06-.94-.94-2.06-.94 2.06-2.06.94z\"/><path d=\"M17.41 7.96l-1.37-1.37c-.4-.4-.92-.59-1.43-.59-.52 0-1.04.2-1.43.59L10.3 9.45l-7.72 7.72c-.78.78-.78 2.05 0 2.83L4 21.41c.39.39.9.59 1.41.59.51 0 1.02-.2 1.41-.59l7.78-7.78 2.81-2.81c.8-.78.8-2.07 0-2.86zM5.41 20L4 18.59l7.72-7.72 1.47 1.35L5.41 20z\"/>\n",
              "  </svg>\n",
              "      </button>\n",
              "      \n",
              "  <style>\n",
              "    .colab-df-container {\n",
              "      display:flex;\n",
              "      flex-wrap:wrap;\n",
              "      gap: 12px;\n",
              "    }\n",
              "\n",
              "    .colab-df-convert {\n",
              "      background-color: #E8F0FE;\n",
              "      border: none;\n",
              "      border-radius: 50%;\n",
              "      cursor: pointer;\n",
              "      display: none;\n",
              "      fill: #1967D2;\n",
              "      height: 32px;\n",
              "      padding: 0 0 0 0;\n",
              "      width: 32px;\n",
              "    }\n",
              "\n",
              "    .colab-df-convert:hover {\n",
              "      background-color: #E2EBFA;\n",
              "      box-shadow: 0px 1px 2px rgba(60, 64, 67, 0.3), 0px 1px 3px 1px rgba(60, 64, 67, 0.15);\n",
              "      fill: #174EA6;\n",
              "    }\n",
              "\n",
              "    [theme=dark] .colab-df-convert {\n",
              "      background-color: #3B4455;\n",
              "      fill: #D2E3FC;\n",
              "    }\n",
              "\n",
              "    [theme=dark] .colab-df-convert:hover {\n",
              "      background-color: #434B5C;\n",
              "      box-shadow: 0px 1px 3px 1px rgba(0, 0, 0, 0.15);\n",
              "      filter: drop-shadow(0px 1px 2px rgba(0, 0, 0, 0.3));\n",
              "      fill: #FFFFFF;\n",
              "    }\n",
              "  </style>\n",
              "\n",
              "      <script>\n",
              "        const buttonEl =\n",
              "          document.querySelector('#df-26b8410d-7573-498e-bae9-43669af69846 button.colab-df-convert');\n",
              "        buttonEl.style.display =\n",
              "          google.colab.kernel.accessAllowed ? 'block' : 'none';\n",
              "\n",
              "        async function convertToInteractive(key) {\n",
              "          const element = document.querySelector('#df-26b8410d-7573-498e-bae9-43669af69846');\n",
              "          const dataTable =\n",
              "            await google.colab.kernel.invokeFunction('convertToInteractive',\n",
              "                                                     [key], {});\n",
              "          if (!dataTable) return;\n",
              "\n",
              "          const docLinkHtml = 'Like what you see? Visit the ' +\n",
              "            '<a target=\"_blank\" href=https://colab.research.google.com/notebooks/data_table.ipynb>data table notebook</a>'\n",
              "            + ' to learn more about interactive tables.';\n",
              "          element.innerHTML = '';\n",
              "          dataTable['output_type'] = 'display_data';\n",
              "          await google.colab.output.renderOutput(dataTable, element);\n",
              "          const docLink = document.createElement('div');\n",
              "          docLink.innerHTML = docLinkHtml;\n",
              "          element.appendChild(docLink);\n",
              "        }\n",
              "      </script>\n",
              "    </div>\n",
              "  </div>\n",
              "  "
            ]
          },
          "metadata": {},
          "execution_count": 46
        }
      ]
    },
    {
      "cell_type": "code",
      "source": [
        "macro.shape"
      ],
      "metadata": {
        "colab": {
          "base_uri": "https://localhost:8080/"
        },
        "id": "KHKcFSPup5eF",
        "outputId": "017575a3-b9e2-4d46-c116-169796b7f6f9"
      },
      "execution_count": 47,
      "outputs": [
        {
          "output_type": "execute_result",
          "data": {
            "text/plain": [
              "(2484, 7)"
            ]
          },
          "metadata": {},
          "execution_count": 47
        }
      ]
    },
    {
      "cell_type": "code",
      "source": [
        "df_full = df.merge(macro, on='timestamp', how='left')"
      ],
      "metadata": {
        "id": "8eFFD39QpL8L"
      },
      "execution_count": 48,
      "outputs": []
    },
    {
      "cell_type": "code",
      "source": [
        "df_full.head(5)"
      ],
      "metadata": {
        "colab": {
          "base_uri": "https://localhost:8080/",
          "height": 206
        },
        "id": "3bjxgd0EprZb",
        "outputId": "b08d564b-1de7-4f6b-e754-bf743247ecd8"
      },
      "execution_count": 49,
      "outputs": [
        {
          "output_type": "execute_result",
          "data": {
            "text/plain": [
              "     id  timestamp  full_sq  life_sq  floor   state  max_floor  material  \\\n",
              "0  8059 2013-05-21     11.0     11.0    2.0  3.0000        5.0       2.0   \n",
              "1  8138 2013-05-25     53.0     30.0   10.0  3.0000       16.0       1.0   \n",
              "2  8156 2013-05-27     77.0     41.0    2.0  1.0000       17.0       6.0   \n",
              "3  8157 2013-05-27     45.0     27.0    6.0  3.0000        9.0       1.0   \n",
              "4  8178 2013-05-28     38.0     20.0   15.0  2.1993       16.0       1.0   \n",
              "\n",
              "  build_year  num_room  kitch_sq  full_all                 sub_area  \\\n",
              "0 1907-01-01       1.0      12.0   75377.0                Hamovniki   \n",
              "1 1980-01-01       2.0       8.0   68630.0                Lianozovo   \n",
              "2 2014-01-01       3.0      12.0    9553.0  Poselenie Voskresenskoe   \n",
              "3 1970-01-01       2.0       6.0   78616.0          Severnoe Butovo   \n",
              "4 1982-01-01       1.0       8.0  112804.0           Filevskij Park   \n",
              "\n",
              "   price_doc   salary  fixed_basket  rent_price_3room_eco  \\\n",
              "0  2750000.0  55485.2      14983.92                 47.35   \n",
              "1  9000000.0  55485.2      14983.92                 47.35   \n",
              "2  7011550.0  55485.2      14983.92                 47.35   \n",
              "3  7100000.0  55485.2      14983.92                 47.35   \n",
              "4  6450000.0  55485.2      14983.92                 47.35   \n",
              "\n",
              "   rent_price_2room_eco  rent_price_1room_eco  average_life_exp  \n",
              "0                 40.77               32.0755             76.37  \n",
              "1                 40.77               32.0755             76.37  \n",
              "2                 40.77               32.0755             76.37  \n",
              "3                 40.77               32.0755             76.37  \n",
              "4                 40.77               32.0755             76.37  "
            ],
            "text/html": [
              "\n",
              "  <div id=\"df-76430882-45cc-43ab-abdb-d373a97044e8\">\n",
              "    <div class=\"colab-df-container\">\n",
              "      <div>\n",
              "<style scoped>\n",
              "    .dataframe tbody tr th:only-of-type {\n",
              "        vertical-align: middle;\n",
              "    }\n",
              "\n",
              "    .dataframe tbody tr th {\n",
              "        vertical-align: top;\n",
              "    }\n",
              "\n",
              "    .dataframe thead th {\n",
              "        text-align: right;\n",
              "    }\n",
              "</style>\n",
              "<table border=\"1\" class=\"dataframe\">\n",
              "  <thead>\n",
              "    <tr style=\"text-align: right;\">\n",
              "      <th></th>\n",
              "      <th>id</th>\n",
              "      <th>timestamp</th>\n",
              "      <th>full_sq</th>\n",
              "      <th>life_sq</th>\n",
              "      <th>floor</th>\n",
              "      <th>state</th>\n",
              "      <th>max_floor</th>\n",
              "      <th>material</th>\n",
              "      <th>build_year</th>\n",
              "      <th>num_room</th>\n",
              "      <th>kitch_sq</th>\n",
              "      <th>full_all</th>\n",
              "      <th>sub_area</th>\n",
              "      <th>price_doc</th>\n",
              "      <th>salary</th>\n",
              "      <th>fixed_basket</th>\n",
              "      <th>rent_price_3room_eco</th>\n",
              "      <th>rent_price_2room_eco</th>\n",
              "      <th>rent_price_1room_eco</th>\n",
              "      <th>average_life_exp</th>\n",
              "    </tr>\n",
              "  </thead>\n",
              "  <tbody>\n",
              "    <tr>\n",
              "      <th>0</th>\n",
              "      <td>8059</td>\n",
              "      <td>2013-05-21</td>\n",
              "      <td>11.0</td>\n",
              "      <td>11.0</td>\n",
              "      <td>2.0</td>\n",
              "      <td>3.0000</td>\n",
              "      <td>5.0</td>\n",
              "      <td>2.0</td>\n",
              "      <td>1907-01-01</td>\n",
              "      <td>1.0</td>\n",
              "      <td>12.0</td>\n",
              "      <td>75377.0</td>\n",
              "      <td>Hamovniki</td>\n",
              "      <td>2750000.0</td>\n",
              "      <td>55485.2</td>\n",
              "      <td>14983.92</td>\n",
              "      <td>47.35</td>\n",
              "      <td>40.77</td>\n",
              "      <td>32.0755</td>\n",
              "      <td>76.37</td>\n",
              "    </tr>\n",
              "    <tr>\n",
              "      <th>1</th>\n",
              "      <td>8138</td>\n",
              "      <td>2013-05-25</td>\n",
              "      <td>53.0</td>\n",
              "      <td>30.0</td>\n",
              "      <td>10.0</td>\n",
              "      <td>3.0000</td>\n",
              "      <td>16.0</td>\n",
              "      <td>1.0</td>\n",
              "      <td>1980-01-01</td>\n",
              "      <td>2.0</td>\n",
              "      <td>8.0</td>\n",
              "      <td>68630.0</td>\n",
              "      <td>Lianozovo</td>\n",
              "      <td>9000000.0</td>\n",
              "      <td>55485.2</td>\n",
              "      <td>14983.92</td>\n",
              "      <td>47.35</td>\n",
              "      <td>40.77</td>\n",
              "      <td>32.0755</td>\n",
              "      <td>76.37</td>\n",
              "    </tr>\n",
              "    <tr>\n",
              "      <th>2</th>\n",
              "      <td>8156</td>\n",
              "      <td>2013-05-27</td>\n",
              "      <td>77.0</td>\n",
              "      <td>41.0</td>\n",
              "      <td>2.0</td>\n",
              "      <td>1.0000</td>\n",
              "      <td>17.0</td>\n",
              "      <td>6.0</td>\n",
              "      <td>2014-01-01</td>\n",
              "      <td>3.0</td>\n",
              "      <td>12.0</td>\n",
              "      <td>9553.0</td>\n",
              "      <td>Poselenie Voskresenskoe</td>\n",
              "      <td>7011550.0</td>\n",
              "      <td>55485.2</td>\n",
              "      <td>14983.92</td>\n",
              "      <td>47.35</td>\n",
              "      <td>40.77</td>\n",
              "      <td>32.0755</td>\n",
              "      <td>76.37</td>\n",
              "    </tr>\n",
              "    <tr>\n",
              "      <th>3</th>\n",
              "      <td>8157</td>\n",
              "      <td>2013-05-27</td>\n",
              "      <td>45.0</td>\n",
              "      <td>27.0</td>\n",
              "      <td>6.0</td>\n",
              "      <td>3.0000</td>\n",
              "      <td>9.0</td>\n",
              "      <td>1.0</td>\n",
              "      <td>1970-01-01</td>\n",
              "      <td>2.0</td>\n",
              "      <td>6.0</td>\n",
              "      <td>78616.0</td>\n",
              "      <td>Severnoe Butovo</td>\n",
              "      <td>7100000.0</td>\n",
              "      <td>55485.2</td>\n",
              "      <td>14983.92</td>\n",
              "      <td>47.35</td>\n",
              "      <td>40.77</td>\n",
              "      <td>32.0755</td>\n",
              "      <td>76.37</td>\n",
              "    </tr>\n",
              "    <tr>\n",
              "      <th>4</th>\n",
              "      <td>8178</td>\n",
              "      <td>2013-05-28</td>\n",
              "      <td>38.0</td>\n",
              "      <td>20.0</td>\n",
              "      <td>15.0</td>\n",
              "      <td>2.1993</td>\n",
              "      <td>16.0</td>\n",
              "      <td>1.0</td>\n",
              "      <td>1982-01-01</td>\n",
              "      <td>1.0</td>\n",
              "      <td>8.0</td>\n",
              "      <td>112804.0</td>\n",
              "      <td>Filevskij Park</td>\n",
              "      <td>6450000.0</td>\n",
              "      <td>55485.2</td>\n",
              "      <td>14983.92</td>\n",
              "      <td>47.35</td>\n",
              "      <td>40.77</td>\n",
              "      <td>32.0755</td>\n",
              "      <td>76.37</td>\n",
              "    </tr>\n",
              "  </tbody>\n",
              "</table>\n",
              "</div>\n",
              "      <button class=\"colab-df-convert\" onclick=\"convertToInteractive('df-76430882-45cc-43ab-abdb-d373a97044e8')\"\n",
              "              title=\"Convert this dataframe to an interactive table.\"\n",
              "              style=\"display:none;\">\n",
              "        \n",
              "  <svg xmlns=\"http://www.w3.org/2000/svg\" height=\"24px\"viewBox=\"0 0 24 24\"\n",
              "       width=\"24px\">\n",
              "    <path d=\"M0 0h24v24H0V0z\" fill=\"none\"/>\n",
              "    <path d=\"M18.56 5.44l.94 2.06.94-2.06 2.06-.94-2.06-.94-.94-2.06-.94 2.06-2.06.94zm-11 1L8.5 8.5l.94-2.06 2.06-.94-2.06-.94L8.5 2.5l-.94 2.06-2.06.94zm10 10l.94 2.06.94-2.06 2.06-.94-2.06-.94-.94-2.06-.94 2.06-2.06.94z\"/><path d=\"M17.41 7.96l-1.37-1.37c-.4-.4-.92-.59-1.43-.59-.52 0-1.04.2-1.43.59L10.3 9.45l-7.72 7.72c-.78.78-.78 2.05 0 2.83L4 21.41c.39.39.9.59 1.41.59.51 0 1.02-.2 1.41-.59l7.78-7.78 2.81-2.81c.8-.78.8-2.07 0-2.86zM5.41 20L4 18.59l7.72-7.72 1.47 1.35L5.41 20z\"/>\n",
              "  </svg>\n",
              "      </button>\n",
              "      \n",
              "  <style>\n",
              "    .colab-df-container {\n",
              "      display:flex;\n",
              "      flex-wrap:wrap;\n",
              "      gap: 12px;\n",
              "    }\n",
              "\n",
              "    .colab-df-convert {\n",
              "      background-color: #E8F0FE;\n",
              "      border: none;\n",
              "      border-radius: 50%;\n",
              "      cursor: pointer;\n",
              "      display: none;\n",
              "      fill: #1967D2;\n",
              "      height: 32px;\n",
              "      padding: 0 0 0 0;\n",
              "      width: 32px;\n",
              "    }\n",
              "\n",
              "    .colab-df-convert:hover {\n",
              "      background-color: #E2EBFA;\n",
              "      box-shadow: 0px 1px 2px rgba(60, 64, 67, 0.3), 0px 1px 3px 1px rgba(60, 64, 67, 0.15);\n",
              "      fill: #174EA6;\n",
              "    }\n",
              "\n",
              "    [theme=dark] .colab-df-convert {\n",
              "      background-color: #3B4455;\n",
              "      fill: #D2E3FC;\n",
              "    }\n",
              "\n",
              "    [theme=dark] .colab-df-convert:hover {\n",
              "      background-color: #434B5C;\n",
              "      box-shadow: 0px 1px 3px 1px rgba(0, 0, 0, 0.15);\n",
              "      filter: drop-shadow(0px 1px 2px rgba(0, 0, 0, 0.3));\n",
              "      fill: #FFFFFF;\n",
              "    }\n",
              "  </style>\n",
              "\n",
              "      <script>\n",
              "        const buttonEl =\n",
              "          document.querySelector('#df-76430882-45cc-43ab-abdb-d373a97044e8 button.colab-df-convert');\n",
              "        buttonEl.style.display =\n",
              "          google.colab.kernel.accessAllowed ? 'block' : 'none';\n",
              "\n",
              "        async function convertToInteractive(key) {\n",
              "          const element = document.querySelector('#df-76430882-45cc-43ab-abdb-d373a97044e8');\n",
              "          const dataTable =\n",
              "            await google.colab.kernel.invokeFunction('convertToInteractive',\n",
              "                                                     [key], {});\n",
              "          if (!dataTable) return;\n",
              "\n",
              "          const docLinkHtml = 'Like what you see? Visit the ' +\n",
              "            '<a target=\"_blank\" href=https://colab.research.google.com/notebooks/data_table.ipynb>data table notebook</a>'\n",
              "            + ' to learn more about interactive tables.';\n",
              "          element.innerHTML = '';\n",
              "          dataTable['output_type'] = 'display_data';\n",
              "          await google.colab.output.renderOutput(dataTable, element);\n",
              "          const docLink = document.createElement('div');\n",
              "          docLink.innerHTML = docLinkHtml;\n",
              "          element.appendChild(docLink);\n",
              "        }\n",
              "      </script>\n",
              "    </div>\n",
              "  </div>\n",
              "  "
            ]
          },
          "metadata": {},
          "execution_count": 49
        }
      ]
    },
    {
      "cell_type": "code",
      "source": [
        "df_full.shape"
      ],
      "metadata": {
        "colab": {
          "base_uri": "https://localhost:8080/"
        },
        "id": "x7q1azfZp71O",
        "outputId": "e671d361-6d57-4645-91cf-443c6ed8cf64"
      },
      "execution_count": 50,
      "outputs": [
        {
          "output_type": "execute_result",
          "data": {
            "text/plain": [
              "(18866, 20)"
            ]
          },
          "metadata": {},
          "execution_count": 50
        }
      ]
    },
    {
      "cell_type": "code",
      "source": [
        "df_full.describe()"
      ],
      "metadata": {
        "colab": {
          "base_uri": "https://localhost:8080/",
          "height": 300
        },
        "id": "-HxlAuEOp2EU",
        "outputId": "da992509-1cdd-4071-c270-a94754df90d8"
      },
      "execution_count": 51,
      "outputs": [
        {
          "output_type": "execute_result",
          "data": {
            "text/plain": [
              "               id     full_sq     life_sq       floor       state   max_floor  \\\n",
              "count  18866.0000  18866.0000  18866.0000  18866.0000  18866.0000  18866.0000   \n",
              "mean   18799.7886     53.5985     33.7460      7.2863      2.1993     12.4208   \n",
              "std     7082.4287     21.0011     17.8515      5.1497      0.7399      6.0300   \n",
              "min        9.0000      1.0000      0.0000      0.0000      1.0000      0.0000   \n",
              "25%    13513.2500     38.0000     20.0000      3.0000      2.0000      9.0000   \n",
              "50%    19043.5000     49.0000     31.0000      6.0000      2.1993     12.4208   \n",
              "75%    24748.7500     63.0000     42.0000     10.0000      3.0000     17.0000   \n",
              "max    30473.0000    303.0000    407.0000     37.0000      4.0000     48.0000   \n",
              "\n",
              "         material    num_room    kitch_sq    full_all   price_doc      salary  \\\n",
              "count  18866.0000  18866.0000  18866.0000  1.8866e+04  1.8866e+04  18866.0000   \n",
              "mean       1.8901      1.9321      6.8285  1.5972e+05  7.5673e+06  59882.2021   \n",
              "std        1.4482      0.8100      4.6199  3.0435e+05  4.8533e+06   3718.2141   \n",
              "min        1.0000      0.0000      0.0000  2.6930e+03  5.0000e+05  44898.7000   \n",
              "25%        1.0000      1.0000      5.0000  4.8439e+04  5.1000e+06  55485.2000   \n",
              "50%        1.0000      2.0000      6.8285  8.7713e+04  6.6900e+06  61208.0000   \n",
              "75%        2.0000      2.0000      9.0000  1.2535e+05  8.9000e+06  61208.0000   \n",
              "max        6.0000      9.0000    123.0000  1.7167e+06  7.1200e+07  64310.0000   \n",
              "\n",
              "       fixed_basket  rent_price_3room_eco  rent_price_2room_eco  \\\n",
              "count    18866.0000            18866.0000            18866.0000   \n",
              "mean     16215.5343               49.8407               41.7767   \n",
              "std       1161.5241                1.8440                1.2149   \n",
              "min      12922.9700               43.4200               37.7300   \n",
              "25%      15417.3400               48.7000               41.1700   \n",
              "50%      16165.3000               49.7500               41.9100   \n",
              "75%      16648.7000               50.9300               42.6400   \n",
              "max      18745.2800               53.2100               43.8500   \n",
              "\n",
              "       rent_price_1room_eco  average_life_exp  \n",
              "count            18866.0000        18866.0000  \n",
              "mean                33.5046           76.5993  \n",
              "std                  1.1631            0.2299  \n",
              "min                 30.2900           75.7400  \n",
              "25%                 32.9600           76.3700  \n",
              "50%                 33.6500           76.7000  \n",
              "75%                 34.3500           76.7000  \n",
              "max                 35.3700           76.7700  "
            ],
            "text/html": [
              "\n",
              "  <div id=\"df-b596e6c2-17bf-4ed3-b0bc-68e5752c123b\">\n",
              "    <div class=\"colab-df-container\">\n",
              "      <div>\n",
              "<style scoped>\n",
              "    .dataframe tbody tr th:only-of-type {\n",
              "        vertical-align: middle;\n",
              "    }\n",
              "\n",
              "    .dataframe tbody tr th {\n",
              "        vertical-align: top;\n",
              "    }\n",
              "\n",
              "    .dataframe thead th {\n",
              "        text-align: right;\n",
              "    }\n",
              "</style>\n",
              "<table border=\"1\" class=\"dataframe\">\n",
              "  <thead>\n",
              "    <tr style=\"text-align: right;\">\n",
              "      <th></th>\n",
              "      <th>id</th>\n",
              "      <th>full_sq</th>\n",
              "      <th>life_sq</th>\n",
              "      <th>floor</th>\n",
              "      <th>state</th>\n",
              "      <th>max_floor</th>\n",
              "      <th>material</th>\n",
              "      <th>num_room</th>\n",
              "      <th>kitch_sq</th>\n",
              "      <th>full_all</th>\n",
              "      <th>price_doc</th>\n",
              "      <th>salary</th>\n",
              "      <th>fixed_basket</th>\n",
              "      <th>rent_price_3room_eco</th>\n",
              "      <th>rent_price_2room_eco</th>\n",
              "      <th>rent_price_1room_eco</th>\n",
              "      <th>average_life_exp</th>\n",
              "    </tr>\n",
              "  </thead>\n",
              "  <tbody>\n",
              "    <tr>\n",
              "      <th>count</th>\n",
              "      <td>18866.0000</td>\n",
              "      <td>18866.0000</td>\n",
              "      <td>18866.0000</td>\n",
              "      <td>18866.0000</td>\n",
              "      <td>18866.0000</td>\n",
              "      <td>18866.0000</td>\n",
              "      <td>18866.0000</td>\n",
              "      <td>18866.0000</td>\n",
              "      <td>18866.0000</td>\n",
              "      <td>1.8866e+04</td>\n",
              "      <td>1.8866e+04</td>\n",
              "      <td>18866.0000</td>\n",
              "      <td>18866.0000</td>\n",
              "      <td>18866.0000</td>\n",
              "      <td>18866.0000</td>\n",
              "      <td>18866.0000</td>\n",
              "      <td>18866.0000</td>\n",
              "    </tr>\n",
              "    <tr>\n",
              "      <th>mean</th>\n",
              "      <td>18799.7886</td>\n",
              "      <td>53.5985</td>\n",
              "      <td>33.7460</td>\n",
              "      <td>7.2863</td>\n",
              "      <td>2.1993</td>\n",
              "      <td>12.4208</td>\n",
              "      <td>1.8901</td>\n",
              "      <td>1.9321</td>\n",
              "      <td>6.8285</td>\n",
              "      <td>1.5972e+05</td>\n",
              "      <td>7.5673e+06</td>\n",
              "      <td>59882.2021</td>\n",
              "      <td>16215.5343</td>\n",
              "      <td>49.8407</td>\n",
              "      <td>41.7767</td>\n",
              "      <td>33.5046</td>\n",
              "      <td>76.5993</td>\n",
              "    </tr>\n",
              "    <tr>\n",
              "      <th>std</th>\n",
              "      <td>7082.4287</td>\n",
              "      <td>21.0011</td>\n",
              "      <td>17.8515</td>\n",
              "      <td>5.1497</td>\n",
              "      <td>0.7399</td>\n",
              "      <td>6.0300</td>\n",
              "      <td>1.4482</td>\n",
              "      <td>0.8100</td>\n",
              "      <td>4.6199</td>\n",
              "      <td>3.0435e+05</td>\n",
              "      <td>4.8533e+06</td>\n",
              "      <td>3718.2141</td>\n",
              "      <td>1161.5241</td>\n",
              "      <td>1.8440</td>\n",
              "      <td>1.2149</td>\n",
              "      <td>1.1631</td>\n",
              "      <td>0.2299</td>\n",
              "    </tr>\n",
              "    <tr>\n",
              "      <th>min</th>\n",
              "      <td>9.0000</td>\n",
              "      <td>1.0000</td>\n",
              "      <td>0.0000</td>\n",
              "      <td>0.0000</td>\n",
              "      <td>1.0000</td>\n",
              "      <td>0.0000</td>\n",
              "      <td>1.0000</td>\n",
              "      <td>0.0000</td>\n",
              "      <td>0.0000</td>\n",
              "      <td>2.6930e+03</td>\n",
              "      <td>5.0000e+05</td>\n",
              "      <td>44898.7000</td>\n",
              "      <td>12922.9700</td>\n",
              "      <td>43.4200</td>\n",
              "      <td>37.7300</td>\n",
              "      <td>30.2900</td>\n",
              "      <td>75.7400</td>\n",
              "    </tr>\n",
              "    <tr>\n",
              "      <th>25%</th>\n",
              "      <td>13513.2500</td>\n",
              "      <td>38.0000</td>\n",
              "      <td>20.0000</td>\n",
              "      <td>3.0000</td>\n",
              "      <td>2.0000</td>\n",
              "      <td>9.0000</td>\n",
              "      <td>1.0000</td>\n",
              "      <td>1.0000</td>\n",
              "      <td>5.0000</td>\n",
              "      <td>4.8439e+04</td>\n",
              "      <td>5.1000e+06</td>\n",
              "      <td>55485.2000</td>\n",
              "      <td>15417.3400</td>\n",
              "      <td>48.7000</td>\n",
              "      <td>41.1700</td>\n",
              "      <td>32.9600</td>\n",
              "      <td>76.3700</td>\n",
              "    </tr>\n",
              "    <tr>\n",
              "      <th>50%</th>\n",
              "      <td>19043.5000</td>\n",
              "      <td>49.0000</td>\n",
              "      <td>31.0000</td>\n",
              "      <td>6.0000</td>\n",
              "      <td>2.1993</td>\n",
              "      <td>12.4208</td>\n",
              "      <td>1.0000</td>\n",
              "      <td>2.0000</td>\n",
              "      <td>6.8285</td>\n",
              "      <td>8.7713e+04</td>\n",
              "      <td>6.6900e+06</td>\n",
              "      <td>61208.0000</td>\n",
              "      <td>16165.3000</td>\n",
              "      <td>49.7500</td>\n",
              "      <td>41.9100</td>\n",
              "      <td>33.6500</td>\n",
              "      <td>76.7000</td>\n",
              "    </tr>\n",
              "    <tr>\n",
              "      <th>75%</th>\n",
              "      <td>24748.7500</td>\n",
              "      <td>63.0000</td>\n",
              "      <td>42.0000</td>\n",
              "      <td>10.0000</td>\n",
              "      <td>3.0000</td>\n",
              "      <td>17.0000</td>\n",
              "      <td>2.0000</td>\n",
              "      <td>2.0000</td>\n",
              "      <td>9.0000</td>\n",
              "      <td>1.2535e+05</td>\n",
              "      <td>8.9000e+06</td>\n",
              "      <td>61208.0000</td>\n",
              "      <td>16648.7000</td>\n",
              "      <td>50.9300</td>\n",
              "      <td>42.6400</td>\n",
              "      <td>34.3500</td>\n",
              "      <td>76.7000</td>\n",
              "    </tr>\n",
              "    <tr>\n",
              "      <th>max</th>\n",
              "      <td>30473.0000</td>\n",
              "      <td>303.0000</td>\n",
              "      <td>407.0000</td>\n",
              "      <td>37.0000</td>\n",
              "      <td>4.0000</td>\n",
              "      <td>48.0000</td>\n",
              "      <td>6.0000</td>\n",
              "      <td>9.0000</td>\n",
              "      <td>123.0000</td>\n",
              "      <td>1.7167e+06</td>\n",
              "      <td>7.1200e+07</td>\n",
              "      <td>64310.0000</td>\n",
              "      <td>18745.2800</td>\n",
              "      <td>53.2100</td>\n",
              "      <td>43.8500</td>\n",
              "      <td>35.3700</td>\n",
              "      <td>76.7700</td>\n",
              "    </tr>\n",
              "  </tbody>\n",
              "</table>\n",
              "</div>\n",
              "      <button class=\"colab-df-convert\" onclick=\"convertToInteractive('df-b596e6c2-17bf-4ed3-b0bc-68e5752c123b')\"\n",
              "              title=\"Convert this dataframe to an interactive table.\"\n",
              "              style=\"display:none;\">\n",
              "        \n",
              "  <svg xmlns=\"http://www.w3.org/2000/svg\" height=\"24px\"viewBox=\"0 0 24 24\"\n",
              "       width=\"24px\">\n",
              "    <path d=\"M0 0h24v24H0V0z\" fill=\"none\"/>\n",
              "    <path d=\"M18.56 5.44l.94 2.06.94-2.06 2.06-.94-2.06-.94-.94-2.06-.94 2.06-2.06.94zm-11 1L8.5 8.5l.94-2.06 2.06-.94-2.06-.94L8.5 2.5l-.94 2.06-2.06.94zm10 10l.94 2.06.94-2.06 2.06-.94-2.06-.94-.94-2.06-.94 2.06-2.06.94z\"/><path d=\"M17.41 7.96l-1.37-1.37c-.4-.4-.92-.59-1.43-.59-.52 0-1.04.2-1.43.59L10.3 9.45l-7.72 7.72c-.78.78-.78 2.05 0 2.83L4 21.41c.39.39.9.59 1.41.59.51 0 1.02-.2 1.41-.59l7.78-7.78 2.81-2.81c.8-.78.8-2.07 0-2.86zM5.41 20L4 18.59l7.72-7.72 1.47 1.35L5.41 20z\"/>\n",
              "  </svg>\n",
              "      </button>\n",
              "      \n",
              "  <style>\n",
              "    .colab-df-container {\n",
              "      display:flex;\n",
              "      flex-wrap:wrap;\n",
              "      gap: 12px;\n",
              "    }\n",
              "\n",
              "    .colab-df-convert {\n",
              "      background-color: #E8F0FE;\n",
              "      border: none;\n",
              "      border-radius: 50%;\n",
              "      cursor: pointer;\n",
              "      display: none;\n",
              "      fill: #1967D2;\n",
              "      height: 32px;\n",
              "      padding: 0 0 0 0;\n",
              "      width: 32px;\n",
              "    }\n",
              "\n",
              "    .colab-df-convert:hover {\n",
              "      background-color: #E2EBFA;\n",
              "      box-shadow: 0px 1px 2px rgba(60, 64, 67, 0.3), 0px 1px 3px 1px rgba(60, 64, 67, 0.15);\n",
              "      fill: #174EA6;\n",
              "    }\n",
              "\n",
              "    [theme=dark] .colab-df-convert {\n",
              "      background-color: #3B4455;\n",
              "      fill: #D2E3FC;\n",
              "    }\n",
              "\n",
              "    [theme=dark] .colab-df-convert:hover {\n",
              "      background-color: #434B5C;\n",
              "      box-shadow: 0px 1px 3px 1px rgba(0, 0, 0, 0.15);\n",
              "      filter: drop-shadow(0px 1px 2px rgba(0, 0, 0, 0.3));\n",
              "      fill: #FFFFFF;\n",
              "    }\n",
              "  </style>\n",
              "\n",
              "      <script>\n",
              "        const buttonEl =\n",
              "          document.querySelector('#df-b596e6c2-17bf-4ed3-b0bc-68e5752c123b button.colab-df-convert');\n",
              "        buttonEl.style.display =\n",
              "          google.colab.kernel.accessAllowed ? 'block' : 'none';\n",
              "\n",
              "        async function convertToInteractive(key) {\n",
              "          const element = document.querySelector('#df-b596e6c2-17bf-4ed3-b0bc-68e5752c123b');\n",
              "          const dataTable =\n",
              "            await google.colab.kernel.invokeFunction('convertToInteractive',\n",
              "                                                     [key], {});\n",
              "          if (!dataTable) return;\n",
              "\n",
              "          const docLinkHtml = 'Like what you see? Visit the ' +\n",
              "            '<a target=\"_blank\" href=https://colab.research.google.com/notebooks/data_table.ipynb>data table notebook</a>'\n",
              "            + ' to learn more about interactive tables.';\n",
              "          element.innerHTML = '';\n",
              "          dataTable['output_type'] = 'display_data';\n",
              "          await google.colab.output.renderOutput(dataTable, element);\n",
              "          const docLink = document.createElement('div');\n",
              "          docLink.innerHTML = docLinkHtml;\n",
              "          element.appendChild(docLink);\n",
              "        }\n",
              "      </script>\n",
              "    </div>\n",
              "  </div>\n",
              "  "
            ]
          },
          "metadata": {},
          "execution_count": 51
        }
      ]
    },
    {
      "cell_type": "markdown",
      "source": [
        "## 1.5 Проверьте данные на наличие выбросов. По каждому столбцу. Напишите своё мнение: нужно ли в каждой из ситуаций обрабатывать выбросы, или можно оставить. Если нужно обработать, то примените один из изученных подходов, либо предложите свой"
      ],
      "metadata": {
        "id": "BfJc-PiVinUp"
      }
    },
    {
      "cell_type": "markdown",
      "source": [
        "### 1.5.1 Главный набор данных"
      ],
      "metadata": {
        "id": "_LkLQxltjEbx"
      }
    },
    {
      "cell_type": "markdown",
      "source": [
        "- С выбросами было уже немного работы до этого, но можно на всякий случай посчитать процентное количество информации которая может считаться выбросом"
      ],
      "metadata": {
        "id": "1mr564bIw2Td"
      }
    },
    {
      "cell_type": "code",
      "source": [
        "def iqr_percent_detection(dataframe):\n",
        "    num_column_names = dataframe.select_dtypes('number').columns.values\n",
        "    for col_name in num_column_names:\n",
        "        # skipping id column\n",
        "        if col_name in ['id']:\n",
        "            continue\n",
        "        q1 = dataframe[col_name].quantile(0.25)\n",
        "        q3 = dataframe[col_name].quantile(0.75)\n",
        "        iqr = q3 - q1\n",
        "        outliers = np.where((dataframe[col_name] < (q1 - 1.5 * iqr)) | (dataframe[col_name] > (q3 + 1.5 * iqr)))\n",
        "        print(f\"{col_name} column outliers percent ratio: {len(outliers[0]) / dataframe[col_name].shape[0] * 100}\")"
      ],
      "metadata": {
        "id": "mA32pzU-xvrb"
      },
      "execution_count": 52,
      "outputs": []
    },
    {
      "cell_type": "code",
      "source": [
        "iqr_percent_detection(df)"
      ],
      "metadata": {
        "id": "zj9a1fd0insh",
        "colab": {
          "base_uri": "https://localhost:8080/"
        },
        "outputId": "0c7d8bce-d968-4546-fcc1-5f4990b51777"
      },
      "execution_count": 53,
      "outputs": [
        {
          "output_type": "stream",
          "name": "stdout",
          "text": [
            "full_sq column outliers percent ratio: 2.963002226227075\n",
            "life_sq column outliers percent ratio: 3.0743135799851586\n",
            "floor column outliers percent ratio: 2.0990140994381425\n",
            "state column outliers percent ratio: 0.0\n",
            "max_floor column outliers percent ratio: 0.6148627159970317\n",
            "material column outliers percent ratio: 17.338068482985264\n",
            "num_room column outliers percent ratio: 2.332237888264603\n",
            "kitch_sq column outliers percent ratio: 1.3728400296830277\n",
            "full_all column outliers percent ratio: 8.645181808544471\n",
            "price_doc column outliers percent ratio: 5.941906074419591\n"
          ]
        }
      ]
    },
    {
      "cell_type": "markdown",
      "source": [
        "- Сильных выбросов не наблюдается"
      ],
      "metadata": {
        "id": "LWMJ7pGhcsu4"
      }
    },
    {
      "cell_type": "markdown",
      "source": [
        "### 1.5.2 Набор с макропоказателями"
      ],
      "metadata": {
        "id": "rm7JYv4jjE_I"
      }
    },
    {
      "cell_type": "code",
      "source": [
        "iqr_percent_detection(macro)"
      ],
      "metadata": {
        "id": "c1zA1r5mjFTg",
        "colab": {
          "base_uri": "https://localhost:8080/"
        },
        "outputId": "b099ba3b-c9b3-4394-f63c-949362220b50"
      },
      "execution_count": 54,
      "outputs": [
        {
          "output_type": "stream",
          "name": "stdout",
          "text": [
            "salary column outliers percent ratio: 0.0\n",
            "fixed_basket column outliers percent ratio: 0.0\n",
            "rent_price_3room_eco column outliers percent ratio: 1.247987117552335\n",
            "rent_price_2room_eco column outliers percent ratio: 0.0\n",
            "rent_price_1room_eco column outliers percent ratio: 0.0\n",
            "average_life_exp column outliers percent ratio: 14.69404186795491\n"
          ]
        }
      ]
    },
    {
      "cell_type": "markdown",
      "source": [
        "- Также как и до этого, данный датасет был более чистым по сравнению с первым df, так что проблем не наблюдается\n",
        "- Только в колонне average_life_exp есть что-то похожее на выброс, но как видно из предыдущей визуализации, данное значение в принципе адекватное"
      ],
      "metadata": {
        "id": "7tu4YqzBc1kH"
      }
    },
    {
      "cell_type": "markdown",
      "source": [
        "## 1.6 Создайте не менее 5 новых признаков на основе существующих данных. Опишите текстом обоснование создания каждой. Признаки должны привносить некую новую информацию для понимания цены квартиры"
      ],
      "metadata": {
        "id": "ZfLAbkV5jpxZ"
      }
    },
    {
      "cell_type": "code",
      "source": [
        "df_full_backup = df_full.copy()"
      ],
      "metadata": {
        "id": "-iqgDoSx6qmZ"
      },
      "execution_count": 55,
      "outputs": []
    },
    {
      "cell_type": "code",
      "source": [
        "# just to be safe\n",
        "# df_full = df_full_backup.copy()"
      ],
      "metadata": {
        "id": "EdZJvNlEDx8M"
      },
      "execution_count": 56,
      "outputs": []
    },
    {
      "cell_type": "code",
      "source": [
        "df_full.info()"
      ],
      "metadata": {
        "id": "o3Rv6-XcjqJI",
        "colab": {
          "base_uri": "https://localhost:8080/"
        },
        "outputId": "f908c049-93c9-474c-cc33-f6b92af98476"
      },
      "execution_count": 57,
      "outputs": [
        {
          "output_type": "stream",
          "name": "stdout",
          "text": [
            "<class 'pandas.core.frame.DataFrame'>\n",
            "Int64Index: 18866 entries, 0 to 18865\n",
            "Data columns (total 20 columns):\n",
            " #   Column                Non-Null Count  Dtype         \n",
            "---  ------                --------------  -----         \n",
            " 0   id                    18866 non-null  int64         \n",
            " 1   timestamp             18866 non-null  datetime64[ns]\n",
            " 2   full_sq               18866 non-null  float64       \n",
            " 3   life_sq               18866 non-null  float64       \n",
            " 4   floor                 18866 non-null  float64       \n",
            " 5   state                 18866 non-null  float64       \n",
            " 6   max_floor             18866 non-null  float64       \n",
            " 7   material              18866 non-null  float64       \n",
            " 8   build_year            15961 non-null  datetime64[ns]\n",
            " 9   num_room              18866 non-null  float64       \n",
            " 10  kitch_sq              18866 non-null  float64       \n",
            " 11  full_all              18866 non-null  float64       \n",
            " 12  sub_area              18866 non-null  object        \n",
            " 13  price_doc             18866 non-null  float64       \n",
            " 14  salary                18866 non-null  float64       \n",
            " 15  fixed_basket          18866 non-null  float64       \n",
            " 16  rent_price_3room_eco  18866 non-null  float64       \n",
            " 17  rent_price_2room_eco  18866 non-null  float64       \n",
            " 18  rent_price_1room_eco  18866 non-null  float64       \n",
            " 19  average_life_exp      18866 non-null  float64       \n",
            "dtypes: datetime64[ns](2), float64(16), int64(1), object(1)\n",
            "memory usage: 3.0+ MB\n"
          ]
        }
      ]
    },
    {
      "cell_type": "code",
      "source": [
        "df_full.describe()"
      ],
      "metadata": {
        "colab": {
          "base_uri": "https://localhost:8080/",
          "height": 300
        },
        "id": "NN_5a12Ndd34",
        "outputId": "65d42921-91d2-4732-fcfa-87acad20649b"
      },
      "execution_count": 58,
      "outputs": [
        {
          "output_type": "execute_result",
          "data": {
            "text/plain": [
              "               id     full_sq     life_sq       floor       state   max_floor  \\\n",
              "count  18866.0000  18866.0000  18866.0000  18866.0000  18866.0000  18866.0000   \n",
              "mean   18799.7886     53.5985     33.7460      7.2863      2.1993     12.4208   \n",
              "std     7082.4287     21.0011     17.8515      5.1497      0.7399      6.0300   \n",
              "min        9.0000      1.0000      0.0000      0.0000      1.0000      0.0000   \n",
              "25%    13513.2500     38.0000     20.0000      3.0000      2.0000      9.0000   \n",
              "50%    19043.5000     49.0000     31.0000      6.0000      2.1993     12.4208   \n",
              "75%    24748.7500     63.0000     42.0000     10.0000      3.0000     17.0000   \n",
              "max    30473.0000    303.0000    407.0000     37.0000      4.0000     48.0000   \n",
              "\n",
              "         material    num_room    kitch_sq    full_all   price_doc      salary  \\\n",
              "count  18866.0000  18866.0000  18866.0000  1.8866e+04  1.8866e+04  18866.0000   \n",
              "mean       1.8901      1.9321      6.8285  1.5972e+05  7.5673e+06  59882.2021   \n",
              "std        1.4482      0.8100      4.6199  3.0435e+05  4.8533e+06   3718.2141   \n",
              "min        1.0000      0.0000      0.0000  2.6930e+03  5.0000e+05  44898.7000   \n",
              "25%        1.0000      1.0000      5.0000  4.8439e+04  5.1000e+06  55485.2000   \n",
              "50%        1.0000      2.0000      6.8285  8.7713e+04  6.6900e+06  61208.0000   \n",
              "75%        2.0000      2.0000      9.0000  1.2535e+05  8.9000e+06  61208.0000   \n",
              "max        6.0000      9.0000    123.0000  1.7167e+06  7.1200e+07  64310.0000   \n",
              "\n",
              "       fixed_basket  rent_price_3room_eco  rent_price_2room_eco  \\\n",
              "count    18866.0000            18866.0000            18866.0000   \n",
              "mean     16215.5343               49.8407               41.7767   \n",
              "std       1161.5241                1.8440                1.2149   \n",
              "min      12922.9700               43.4200               37.7300   \n",
              "25%      15417.3400               48.7000               41.1700   \n",
              "50%      16165.3000               49.7500               41.9100   \n",
              "75%      16648.7000               50.9300               42.6400   \n",
              "max      18745.2800               53.2100               43.8500   \n",
              "\n",
              "       rent_price_1room_eco  average_life_exp  \n",
              "count            18866.0000        18866.0000  \n",
              "mean                33.5046           76.5993  \n",
              "std                  1.1631            0.2299  \n",
              "min                 30.2900           75.7400  \n",
              "25%                 32.9600           76.3700  \n",
              "50%                 33.6500           76.7000  \n",
              "75%                 34.3500           76.7000  \n",
              "max                 35.3700           76.7700  "
            ],
            "text/html": [
              "\n",
              "  <div id=\"df-7209a6fc-5952-4d30-a58d-cfbf4fa57b07\">\n",
              "    <div class=\"colab-df-container\">\n",
              "      <div>\n",
              "<style scoped>\n",
              "    .dataframe tbody tr th:only-of-type {\n",
              "        vertical-align: middle;\n",
              "    }\n",
              "\n",
              "    .dataframe tbody tr th {\n",
              "        vertical-align: top;\n",
              "    }\n",
              "\n",
              "    .dataframe thead th {\n",
              "        text-align: right;\n",
              "    }\n",
              "</style>\n",
              "<table border=\"1\" class=\"dataframe\">\n",
              "  <thead>\n",
              "    <tr style=\"text-align: right;\">\n",
              "      <th></th>\n",
              "      <th>id</th>\n",
              "      <th>full_sq</th>\n",
              "      <th>life_sq</th>\n",
              "      <th>floor</th>\n",
              "      <th>state</th>\n",
              "      <th>max_floor</th>\n",
              "      <th>material</th>\n",
              "      <th>num_room</th>\n",
              "      <th>kitch_sq</th>\n",
              "      <th>full_all</th>\n",
              "      <th>price_doc</th>\n",
              "      <th>salary</th>\n",
              "      <th>fixed_basket</th>\n",
              "      <th>rent_price_3room_eco</th>\n",
              "      <th>rent_price_2room_eco</th>\n",
              "      <th>rent_price_1room_eco</th>\n",
              "      <th>average_life_exp</th>\n",
              "    </tr>\n",
              "  </thead>\n",
              "  <tbody>\n",
              "    <tr>\n",
              "      <th>count</th>\n",
              "      <td>18866.0000</td>\n",
              "      <td>18866.0000</td>\n",
              "      <td>18866.0000</td>\n",
              "      <td>18866.0000</td>\n",
              "      <td>18866.0000</td>\n",
              "      <td>18866.0000</td>\n",
              "      <td>18866.0000</td>\n",
              "      <td>18866.0000</td>\n",
              "      <td>18866.0000</td>\n",
              "      <td>1.8866e+04</td>\n",
              "      <td>1.8866e+04</td>\n",
              "      <td>18866.0000</td>\n",
              "      <td>18866.0000</td>\n",
              "      <td>18866.0000</td>\n",
              "      <td>18866.0000</td>\n",
              "      <td>18866.0000</td>\n",
              "      <td>18866.0000</td>\n",
              "    </tr>\n",
              "    <tr>\n",
              "      <th>mean</th>\n",
              "      <td>18799.7886</td>\n",
              "      <td>53.5985</td>\n",
              "      <td>33.7460</td>\n",
              "      <td>7.2863</td>\n",
              "      <td>2.1993</td>\n",
              "      <td>12.4208</td>\n",
              "      <td>1.8901</td>\n",
              "      <td>1.9321</td>\n",
              "      <td>6.8285</td>\n",
              "      <td>1.5972e+05</td>\n",
              "      <td>7.5673e+06</td>\n",
              "      <td>59882.2021</td>\n",
              "      <td>16215.5343</td>\n",
              "      <td>49.8407</td>\n",
              "      <td>41.7767</td>\n",
              "      <td>33.5046</td>\n",
              "      <td>76.5993</td>\n",
              "    </tr>\n",
              "    <tr>\n",
              "      <th>std</th>\n",
              "      <td>7082.4287</td>\n",
              "      <td>21.0011</td>\n",
              "      <td>17.8515</td>\n",
              "      <td>5.1497</td>\n",
              "      <td>0.7399</td>\n",
              "      <td>6.0300</td>\n",
              "      <td>1.4482</td>\n",
              "      <td>0.8100</td>\n",
              "      <td>4.6199</td>\n",
              "      <td>3.0435e+05</td>\n",
              "      <td>4.8533e+06</td>\n",
              "      <td>3718.2141</td>\n",
              "      <td>1161.5241</td>\n",
              "      <td>1.8440</td>\n",
              "      <td>1.2149</td>\n",
              "      <td>1.1631</td>\n",
              "      <td>0.2299</td>\n",
              "    </tr>\n",
              "    <tr>\n",
              "      <th>min</th>\n",
              "      <td>9.0000</td>\n",
              "      <td>1.0000</td>\n",
              "      <td>0.0000</td>\n",
              "      <td>0.0000</td>\n",
              "      <td>1.0000</td>\n",
              "      <td>0.0000</td>\n",
              "      <td>1.0000</td>\n",
              "      <td>0.0000</td>\n",
              "      <td>0.0000</td>\n",
              "      <td>2.6930e+03</td>\n",
              "      <td>5.0000e+05</td>\n",
              "      <td>44898.7000</td>\n",
              "      <td>12922.9700</td>\n",
              "      <td>43.4200</td>\n",
              "      <td>37.7300</td>\n",
              "      <td>30.2900</td>\n",
              "      <td>75.7400</td>\n",
              "    </tr>\n",
              "    <tr>\n",
              "      <th>25%</th>\n",
              "      <td>13513.2500</td>\n",
              "      <td>38.0000</td>\n",
              "      <td>20.0000</td>\n",
              "      <td>3.0000</td>\n",
              "      <td>2.0000</td>\n",
              "      <td>9.0000</td>\n",
              "      <td>1.0000</td>\n",
              "      <td>1.0000</td>\n",
              "      <td>5.0000</td>\n",
              "      <td>4.8439e+04</td>\n",
              "      <td>5.1000e+06</td>\n",
              "      <td>55485.2000</td>\n",
              "      <td>15417.3400</td>\n",
              "      <td>48.7000</td>\n",
              "      <td>41.1700</td>\n",
              "      <td>32.9600</td>\n",
              "      <td>76.3700</td>\n",
              "    </tr>\n",
              "    <tr>\n",
              "      <th>50%</th>\n",
              "      <td>19043.5000</td>\n",
              "      <td>49.0000</td>\n",
              "      <td>31.0000</td>\n",
              "      <td>6.0000</td>\n",
              "      <td>2.1993</td>\n",
              "      <td>12.4208</td>\n",
              "      <td>1.0000</td>\n",
              "      <td>2.0000</td>\n",
              "      <td>6.8285</td>\n",
              "      <td>8.7713e+04</td>\n",
              "      <td>6.6900e+06</td>\n",
              "      <td>61208.0000</td>\n",
              "      <td>16165.3000</td>\n",
              "      <td>49.7500</td>\n",
              "      <td>41.9100</td>\n",
              "      <td>33.6500</td>\n",
              "      <td>76.7000</td>\n",
              "    </tr>\n",
              "    <tr>\n",
              "      <th>75%</th>\n",
              "      <td>24748.7500</td>\n",
              "      <td>63.0000</td>\n",
              "      <td>42.0000</td>\n",
              "      <td>10.0000</td>\n",
              "      <td>3.0000</td>\n",
              "      <td>17.0000</td>\n",
              "      <td>2.0000</td>\n",
              "      <td>2.0000</td>\n",
              "      <td>9.0000</td>\n",
              "      <td>1.2535e+05</td>\n",
              "      <td>8.9000e+06</td>\n",
              "      <td>61208.0000</td>\n",
              "      <td>16648.7000</td>\n",
              "      <td>50.9300</td>\n",
              "      <td>42.6400</td>\n",
              "      <td>34.3500</td>\n",
              "      <td>76.7000</td>\n",
              "    </tr>\n",
              "    <tr>\n",
              "      <th>max</th>\n",
              "      <td>30473.0000</td>\n",
              "      <td>303.0000</td>\n",
              "      <td>407.0000</td>\n",
              "      <td>37.0000</td>\n",
              "      <td>4.0000</td>\n",
              "      <td>48.0000</td>\n",
              "      <td>6.0000</td>\n",
              "      <td>9.0000</td>\n",
              "      <td>123.0000</td>\n",
              "      <td>1.7167e+06</td>\n",
              "      <td>7.1200e+07</td>\n",
              "      <td>64310.0000</td>\n",
              "      <td>18745.2800</td>\n",
              "      <td>53.2100</td>\n",
              "      <td>43.8500</td>\n",
              "      <td>35.3700</td>\n",
              "      <td>76.7700</td>\n",
              "    </tr>\n",
              "  </tbody>\n",
              "</table>\n",
              "</div>\n",
              "      <button class=\"colab-df-convert\" onclick=\"convertToInteractive('df-7209a6fc-5952-4d30-a58d-cfbf4fa57b07')\"\n",
              "              title=\"Convert this dataframe to an interactive table.\"\n",
              "              style=\"display:none;\">\n",
              "        \n",
              "  <svg xmlns=\"http://www.w3.org/2000/svg\" height=\"24px\"viewBox=\"0 0 24 24\"\n",
              "       width=\"24px\">\n",
              "    <path d=\"M0 0h24v24H0V0z\" fill=\"none\"/>\n",
              "    <path d=\"M18.56 5.44l.94 2.06.94-2.06 2.06-.94-2.06-.94-.94-2.06-.94 2.06-2.06.94zm-11 1L8.5 8.5l.94-2.06 2.06-.94-2.06-.94L8.5 2.5l-.94 2.06-2.06.94zm10 10l.94 2.06.94-2.06 2.06-.94-2.06-.94-.94-2.06-.94 2.06-2.06.94z\"/><path d=\"M17.41 7.96l-1.37-1.37c-.4-.4-.92-.59-1.43-.59-.52 0-1.04.2-1.43.59L10.3 9.45l-7.72 7.72c-.78.78-.78 2.05 0 2.83L4 21.41c.39.39.9.59 1.41.59.51 0 1.02-.2 1.41-.59l7.78-7.78 2.81-2.81c.8-.78.8-2.07 0-2.86zM5.41 20L4 18.59l7.72-7.72 1.47 1.35L5.41 20z\"/>\n",
              "  </svg>\n",
              "      </button>\n",
              "      \n",
              "  <style>\n",
              "    .colab-df-container {\n",
              "      display:flex;\n",
              "      flex-wrap:wrap;\n",
              "      gap: 12px;\n",
              "    }\n",
              "\n",
              "    .colab-df-convert {\n",
              "      background-color: #E8F0FE;\n",
              "      border: none;\n",
              "      border-radius: 50%;\n",
              "      cursor: pointer;\n",
              "      display: none;\n",
              "      fill: #1967D2;\n",
              "      height: 32px;\n",
              "      padding: 0 0 0 0;\n",
              "      width: 32px;\n",
              "    }\n",
              "\n",
              "    .colab-df-convert:hover {\n",
              "      background-color: #E2EBFA;\n",
              "      box-shadow: 0px 1px 2px rgba(60, 64, 67, 0.3), 0px 1px 3px 1px rgba(60, 64, 67, 0.15);\n",
              "      fill: #174EA6;\n",
              "    }\n",
              "\n",
              "    [theme=dark] .colab-df-convert {\n",
              "      background-color: #3B4455;\n",
              "      fill: #D2E3FC;\n",
              "    }\n",
              "\n",
              "    [theme=dark] .colab-df-convert:hover {\n",
              "      background-color: #434B5C;\n",
              "      box-shadow: 0px 1px 3px 1px rgba(0, 0, 0, 0.15);\n",
              "      filter: drop-shadow(0px 1px 2px rgba(0, 0, 0, 0.3));\n",
              "      fill: #FFFFFF;\n",
              "    }\n",
              "  </style>\n",
              "\n",
              "      <script>\n",
              "        const buttonEl =\n",
              "          document.querySelector('#df-7209a6fc-5952-4d30-a58d-cfbf4fa57b07 button.colab-df-convert');\n",
              "        buttonEl.style.display =\n",
              "          google.colab.kernel.accessAllowed ? 'block' : 'none';\n",
              "\n",
              "        async function convertToInteractive(key) {\n",
              "          const element = document.querySelector('#df-7209a6fc-5952-4d30-a58d-cfbf4fa57b07');\n",
              "          const dataTable =\n",
              "            await google.colab.kernel.invokeFunction('convertToInteractive',\n",
              "                                                     [key], {});\n",
              "          if (!dataTable) return;\n",
              "\n",
              "          const docLinkHtml = 'Like what you see? Visit the ' +\n",
              "            '<a target=\"_blank\" href=https://colab.research.google.com/notebooks/data_table.ipynb>data table notebook</a>'\n",
              "            + ' to learn more about interactive tables.';\n",
              "          element.innerHTML = '';\n",
              "          dataTable['output_type'] = 'display_data';\n",
              "          await google.colab.output.renderOutput(dataTable, element);\n",
              "          const docLink = document.createElement('div');\n",
              "          docLink.innerHTML = docLinkHtml;\n",
              "          element.appendChild(docLink);\n",
              "        }\n",
              "      </script>\n",
              "    </div>\n",
              "  </div>\n",
              "  "
            ]
          },
          "metadata": {},
          "execution_count": 58
        }
      ]
    },
    {
      "cell_type": "code",
      "source": [
        "df_full.sample(5)"
      ],
      "metadata": {
        "id": "Ee3YeJSZmxHu",
        "colab": {
          "base_uri": "https://localhost:8080/",
          "height": 206
        },
        "outputId": "cbdba724-7483-4c0e-a791-b6e4d784b271"
      },
      "execution_count": 59,
      "outputs": [
        {
          "output_type": "execute_result",
          "data": {
            "text/plain": [
              "          id  timestamp  full_sq  life_sq  floor  state  max_floor  material  \\\n",
              "13988  26831 2014-12-18     52.0     30.0   15.0    3.0       17.0       1.0   \n",
              "4560   15165 2014-02-18    112.0      1.0    8.0    1.0        1.0       1.0   \n",
              "13733  26523 2014-12-16     37.0     19.0    5.0    3.0        5.0       2.0   \n",
              "3141   13477 2013-12-26     56.0     31.0    9.0    2.0       14.0       2.0   \n",
              "3039   13344 2013-12-23     51.0     30.0   10.0    3.0       17.0       1.0   \n",
              "\n",
              "      build_year  num_room  kitch_sq  full_all           sub_area   price_doc  \\\n",
              "13988 2007-01-01       2.0       9.0  122873.0           Severnoe  2.3000e+06   \n",
              "4560  2014-01-01       3.0       1.0  122862.0          Izmajlovo  2.0684e+07   \n",
              "13733 1930-01-01       1.0       9.0  142243.0          Lefortovo  6.9000e+06   \n",
              "3141  1972-01-01       2.0       9.0   76284.0  Nagatinskij Zaton  9.3500e+06   \n",
              "3039  1985-01-01       2.0       8.0   67710.0         Krylatskoe  1.1200e+07   \n",
              "\n",
              "        salary  fixed_basket  rent_price_3room_eco  rent_price_2room_eco  \\\n",
              "13988  61208.0      16910.54                 49.89                 42.64   \n",
              "4560   61208.0      15730.81                 49.24                 41.79   \n",
              "13733  61208.0      16910.54                 49.89                 42.64   \n",
              "3141   55485.2      15417.34                 48.50                 42.00   \n",
              "3039   55485.2      15417.34                 48.50                 42.00   \n",
              "\n",
              "       rent_price_1room_eco  average_life_exp  \n",
              "13988                 34.33             76.70  \n",
              "4560                  33.65             76.70  \n",
              "13733                 34.33             76.70  \n",
              "3141                  33.97             76.37  \n",
              "3039                  33.97             76.37  "
            ],
            "text/html": [
              "\n",
              "  <div id=\"df-e0234edc-c89b-445c-98f9-674335515f8e\">\n",
              "    <div class=\"colab-df-container\">\n",
              "      <div>\n",
              "<style scoped>\n",
              "    .dataframe tbody tr th:only-of-type {\n",
              "        vertical-align: middle;\n",
              "    }\n",
              "\n",
              "    .dataframe tbody tr th {\n",
              "        vertical-align: top;\n",
              "    }\n",
              "\n",
              "    .dataframe thead th {\n",
              "        text-align: right;\n",
              "    }\n",
              "</style>\n",
              "<table border=\"1\" class=\"dataframe\">\n",
              "  <thead>\n",
              "    <tr style=\"text-align: right;\">\n",
              "      <th></th>\n",
              "      <th>id</th>\n",
              "      <th>timestamp</th>\n",
              "      <th>full_sq</th>\n",
              "      <th>life_sq</th>\n",
              "      <th>floor</th>\n",
              "      <th>state</th>\n",
              "      <th>max_floor</th>\n",
              "      <th>material</th>\n",
              "      <th>build_year</th>\n",
              "      <th>num_room</th>\n",
              "      <th>kitch_sq</th>\n",
              "      <th>full_all</th>\n",
              "      <th>sub_area</th>\n",
              "      <th>price_doc</th>\n",
              "      <th>salary</th>\n",
              "      <th>fixed_basket</th>\n",
              "      <th>rent_price_3room_eco</th>\n",
              "      <th>rent_price_2room_eco</th>\n",
              "      <th>rent_price_1room_eco</th>\n",
              "      <th>average_life_exp</th>\n",
              "    </tr>\n",
              "  </thead>\n",
              "  <tbody>\n",
              "    <tr>\n",
              "      <th>13988</th>\n",
              "      <td>26831</td>\n",
              "      <td>2014-12-18</td>\n",
              "      <td>52.0</td>\n",
              "      <td>30.0</td>\n",
              "      <td>15.0</td>\n",
              "      <td>3.0</td>\n",
              "      <td>17.0</td>\n",
              "      <td>1.0</td>\n",
              "      <td>2007-01-01</td>\n",
              "      <td>2.0</td>\n",
              "      <td>9.0</td>\n",
              "      <td>122873.0</td>\n",
              "      <td>Severnoe</td>\n",
              "      <td>2.3000e+06</td>\n",
              "      <td>61208.0</td>\n",
              "      <td>16910.54</td>\n",
              "      <td>49.89</td>\n",
              "      <td>42.64</td>\n",
              "      <td>34.33</td>\n",
              "      <td>76.70</td>\n",
              "    </tr>\n",
              "    <tr>\n",
              "      <th>4560</th>\n",
              "      <td>15165</td>\n",
              "      <td>2014-02-18</td>\n",
              "      <td>112.0</td>\n",
              "      <td>1.0</td>\n",
              "      <td>8.0</td>\n",
              "      <td>1.0</td>\n",
              "      <td>1.0</td>\n",
              "      <td>1.0</td>\n",
              "      <td>2014-01-01</td>\n",
              "      <td>3.0</td>\n",
              "      <td>1.0</td>\n",
              "      <td>122862.0</td>\n",
              "      <td>Izmajlovo</td>\n",
              "      <td>2.0684e+07</td>\n",
              "      <td>61208.0</td>\n",
              "      <td>15730.81</td>\n",
              "      <td>49.24</td>\n",
              "      <td>41.79</td>\n",
              "      <td>33.65</td>\n",
              "      <td>76.70</td>\n",
              "    </tr>\n",
              "    <tr>\n",
              "      <th>13733</th>\n",
              "      <td>26523</td>\n",
              "      <td>2014-12-16</td>\n",
              "      <td>37.0</td>\n",
              "      <td>19.0</td>\n",
              "      <td>5.0</td>\n",
              "      <td>3.0</td>\n",
              "      <td>5.0</td>\n",
              "      <td>2.0</td>\n",
              "      <td>1930-01-01</td>\n",
              "      <td>1.0</td>\n",
              "      <td>9.0</td>\n",
              "      <td>142243.0</td>\n",
              "      <td>Lefortovo</td>\n",
              "      <td>6.9000e+06</td>\n",
              "      <td>61208.0</td>\n",
              "      <td>16910.54</td>\n",
              "      <td>49.89</td>\n",
              "      <td>42.64</td>\n",
              "      <td>34.33</td>\n",
              "      <td>76.70</td>\n",
              "    </tr>\n",
              "    <tr>\n",
              "      <th>3141</th>\n",
              "      <td>13477</td>\n",
              "      <td>2013-12-26</td>\n",
              "      <td>56.0</td>\n",
              "      <td>31.0</td>\n",
              "      <td>9.0</td>\n",
              "      <td>2.0</td>\n",
              "      <td>14.0</td>\n",
              "      <td>2.0</td>\n",
              "      <td>1972-01-01</td>\n",
              "      <td>2.0</td>\n",
              "      <td>9.0</td>\n",
              "      <td>76284.0</td>\n",
              "      <td>Nagatinskij Zaton</td>\n",
              "      <td>9.3500e+06</td>\n",
              "      <td>55485.2</td>\n",
              "      <td>15417.34</td>\n",
              "      <td>48.50</td>\n",
              "      <td>42.00</td>\n",
              "      <td>33.97</td>\n",
              "      <td>76.37</td>\n",
              "    </tr>\n",
              "    <tr>\n",
              "      <th>3039</th>\n",
              "      <td>13344</td>\n",
              "      <td>2013-12-23</td>\n",
              "      <td>51.0</td>\n",
              "      <td>30.0</td>\n",
              "      <td>10.0</td>\n",
              "      <td>3.0</td>\n",
              "      <td>17.0</td>\n",
              "      <td>1.0</td>\n",
              "      <td>1985-01-01</td>\n",
              "      <td>2.0</td>\n",
              "      <td>8.0</td>\n",
              "      <td>67710.0</td>\n",
              "      <td>Krylatskoe</td>\n",
              "      <td>1.1200e+07</td>\n",
              "      <td>55485.2</td>\n",
              "      <td>15417.34</td>\n",
              "      <td>48.50</td>\n",
              "      <td>42.00</td>\n",
              "      <td>33.97</td>\n",
              "      <td>76.37</td>\n",
              "    </tr>\n",
              "  </tbody>\n",
              "</table>\n",
              "</div>\n",
              "      <button class=\"colab-df-convert\" onclick=\"convertToInteractive('df-e0234edc-c89b-445c-98f9-674335515f8e')\"\n",
              "              title=\"Convert this dataframe to an interactive table.\"\n",
              "              style=\"display:none;\">\n",
              "        \n",
              "  <svg xmlns=\"http://www.w3.org/2000/svg\" height=\"24px\"viewBox=\"0 0 24 24\"\n",
              "       width=\"24px\">\n",
              "    <path d=\"M0 0h24v24H0V0z\" fill=\"none\"/>\n",
              "    <path d=\"M18.56 5.44l.94 2.06.94-2.06 2.06-.94-2.06-.94-.94-2.06-.94 2.06-2.06.94zm-11 1L8.5 8.5l.94-2.06 2.06-.94-2.06-.94L8.5 2.5l-.94 2.06-2.06.94zm10 10l.94 2.06.94-2.06 2.06-.94-2.06-.94-.94-2.06-.94 2.06-2.06.94z\"/><path d=\"M17.41 7.96l-1.37-1.37c-.4-.4-.92-.59-1.43-.59-.52 0-1.04.2-1.43.59L10.3 9.45l-7.72 7.72c-.78.78-.78 2.05 0 2.83L4 21.41c.39.39.9.59 1.41.59.51 0 1.02-.2 1.41-.59l7.78-7.78 2.81-2.81c.8-.78.8-2.07 0-2.86zM5.41 20L4 18.59l7.72-7.72 1.47 1.35L5.41 20z\"/>\n",
              "  </svg>\n",
              "      </button>\n",
              "      \n",
              "  <style>\n",
              "    .colab-df-container {\n",
              "      display:flex;\n",
              "      flex-wrap:wrap;\n",
              "      gap: 12px;\n",
              "    }\n",
              "\n",
              "    .colab-df-convert {\n",
              "      background-color: #E8F0FE;\n",
              "      border: none;\n",
              "      border-radius: 50%;\n",
              "      cursor: pointer;\n",
              "      display: none;\n",
              "      fill: #1967D2;\n",
              "      height: 32px;\n",
              "      padding: 0 0 0 0;\n",
              "      width: 32px;\n",
              "    }\n",
              "\n",
              "    .colab-df-convert:hover {\n",
              "      background-color: #E2EBFA;\n",
              "      box-shadow: 0px 1px 2px rgba(60, 64, 67, 0.3), 0px 1px 3px 1px rgba(60, 64, 67, 0.15);\n",
              "      fill: #174EA6;\n",
              "    }\n",
              "\n",
              "    [theme=dark] .colab-df-convert {\n",
              "      background-color: #3B4455;\n",
              "      fill: #D2E3FC;\n",
              "    }\n",
              "\n",
              "    [theme=dark] .colab-df-convert:hover {\n",
              "      background-color: #434B5C;\n",
              "      box-shadow: 0px 1px 3px 1px rgba(0, 0, 0, 0.15);\n",
              "      filter: drop-shadow(0px 1px 2px rgba(0, 0, 0, 0.3));\n",
              "      fill: #FFFFFF;\n",
              "    }\n",
              "  </style>\n",
              "\n",
              "      <script>\n",
              "        const buttonEl =\n",
              "          document.querySelector('#df-e0234edc-c89b-445c-98f9-674335515f8e button.colab-df-convert');\n",
              "        buttonEl.style.display =\n",
              "          google.colab.kernel.accessAllowed ? 'block' : 'none';\n",
              "\n",
              "        async function convertToInteractive(key) {\n",
              "          const element = document.querySelector('#df-e0234edc-c89b-445c-98f9-674335515f8e');\n",
              "          const dataTable =\n",
              "            await google.colab.kernel.invokeFunction('convertToInteractive',\n",
              "                                                     [key], {});\n",
              "          if (!dataTable) return;\n",
              "\n",
              "          const docLinkHtml = 'Like what you see? Visit the ' +\n",
              "            '<a target=\"_blank\" href=https://colab.research.google.com/notebooks/data_table.ipynb>data table notebook</a>'\n",
              "            + ' to learn more about interactive tables.';\n",
              "          element.innerHTML = '';\n",
              "          dataTable['output_type'] = 'display_data';\n",
              "          await google.colab.output.renderOutput(dataTable, element);\n",
              "          const docLink = document.createElement('div');\n",
              "          docLink.innerHTML = docLinkHtml;\n",
              "          element.appendChild(docLink);\n",
              "        }\n",
              "      </script>\n",
              "    </div>\n",
              "  </div>\n",
              "  "
            ]
          },
          "metadata": {},
          "execution_count": 59
        }
      ]
    },
    {
      "cell_type": "markdown",
      "source": [
        "- 1) признак price_per_square: цена за квадратный метр"
      ],
      "metadata": {
        "id": "vhBSCrWa7I9F"
      }
    },
    {
      "cell_type": "code",
      "source": [
        "df_full['price_per_square'] = df_full['price_doc'] / df_full['full_sq']"
      ],
      "metadata": {
        "id": "y-3tzZJs4iKW"
      },
      "execution_count": 60,
      "outputs": []
    },
    {
      "cell_type": "markdown",
      "source": [
        "- 2) признак material_worth: весомость цены материала из которого изготовлена единица"
      ],
      "metadata": {
        "id": "_HBc1k2g7sLn"
      }
    },
    {
      "cell_type": "code",
      "source": [
        "df_full['material_worth'] = df_full['price_doc'] / df_full['material']"
      ],
      "metadata": {
        "id": "gn4PupJW7Pra"
      },
      "execution_count": 61,
      "outputs": []
    },
    {
      "cell_type": "markdown",
      "source": [
        "- перевод строчного названия района в его числовой эквивалент"
      ],
      "metadata": {
        "id": "UJpkFIs4HVPd"
      }
    },
    {
      "cell_type": "code",
      "source": [
        "from sklearn.preprocessing import LabelEncoder"
      ],
      "metadata": {
        "id": "ZM9M59stEwHF"
      },
      "execution_count": 62,
      "outputs": []
    },
    {
      "cell_type": "code",
      "source": [
        "le = LabelEncoder()\n",
        "label = le.fit_transform(df_full['sub_area'])"
      ],
      "metadata": {
        "id": "MUK156qnEUHm"
      },
      "execution_count": 63,
      "outputs": []
    },
    {
      "cell_type": "code",
      "source": [
        "df_full.drop('sub_area', axis=1, inplace=True)\n",
        "df_full['sub_area'] = label"
      ],
      "metadata": {
        "id": "lPv2wnNUE9hf"
      },
      "execution_count": 64,
      "outputs": []
    },
    {
      "cell_type": "markdown",
      "source": [
        "- 3) sub_area_prestige: престижность района как отношение его локации к стоимости единицы"
      ],
      "metadata": {
        "id": "48DQNNMkIdmM"
      }
    },
    {
      "cell_type": "code",
      "source": [
        "df_full['sub_area_prestige'] = df_full['price_doc'] / df_full['sub_area']"
      ],
      "metadata": {
        "id": "rWqTVoMDIbYw"
      },
      "execution_count": 65,
      "outputs": []
    },
    {
      "cell_type": "markdown",
      "source": [
        "- 4) region_life_cost: зависимость между зарплатой и потребительской корзиной, показывающий общую стоимость проживания"
      ],
      "metadata": {
        "id": "OR4Byln1HBRr"
      }
    },
    {
      "cell_type": "code",
      "source": [
        "df_full['region_life_cost'] = df_full['salary'] / df_full['fixed_basket']"
      ],
      "metadata": {
        "id": "wnMxrzTVGa0Q"
      },
      "execution_count": 66,
      "outputs": []
    },
    {
      "cell_type": "code",
      "source": [
        "sns.boxplot(data=df_full, x='region_life_cost')"
      ],
      "metadata": {
        "colab": {
          "base_uri": "https://localhost:8080/",
          "height": 298
        },
        "id": "2b7hCyaUR6Ty",
        "outputId": "8362bc39-8996-4b6e-acf2-c0120b79e6dd"
      },
      "execution_count": 67,
      "outputs": [
        {
          "output_type": "execute_result",
          "data": {
            "text/plain": [
              "<matplotlib.axes._subplots.AxesSubplot at 0x7fd4202b4e50>"
            ]
          },
          "metadata": {},
          "execution_count": 67
        },
        {
          "output_type": "display_data",
          "data": {
            "text/plain": [
              "<Figure size 432x288 with 1 Axes>"
            ],
            "image/png": "[encoded data removed]"
          },
          "metadata": {
            "needs_background": "light"
          }
        }
      ]
    },
    {
      "cell_type": "markdown",
      "source": [
        "- Наблюдается небольшой выброс, избавимся на всякий случай"
      ],
      "metadata": {
        "id": "LKyUhj0WSNIH"
      }
    },
    {
      "cell_type": "code",
      "source": [
        "df_full = clear_outliers(df_full, on_columns=['region_life_cost'])"
      ],
      "metadata": {
        "id": "np8PlniLSQp9"
      },
      "execution_count": 68,
      "outputs": []
    },
    {
      "cell_type": "code",
      "source": [
        "sns.boxplot(data=df_full, x='region_life_cost')"
      ],
      "metadata": {
        "colab": {
          "base_uri": "https://localhost:8080/",
          "height": 298
        },
        "id": "JF6yAw8mUasm",
        "outputId": "8d015881-9adc-4214-c2e3-781845afd214"
      },
      "execution_count": 69,
      "outputs": [
        {
          "output_type": "execute_result",
          "data": {
            "text/plain": [
              "<matplotlib.axes._subplots.AxesSubplot at 0x7fd4206d8fa0>"
            ]
          },
          "metadata": {},
          "execution_count": 69
        },
        {
          "output_type": "display_data",
          "data": {
            "text/plain": [
              "<Figure size 432x288 with 1 Axes>"
            ],
            "image/png": "[encoded data removed]"
          },
          "metadata": {
            "needs_background": "light"
          }
        }
      ]
    },
    {
      "cell_type": "markdown",
      "source": [
        "- 5) max_floor_price_impact: зависимость между количеством этажей в здании в котором продается квартира, и ее ценой"
      ],
      "metadata": {
        "id": "ARGWQV2mJHz7"
      }
    },
    {
      "cell_type": "code",
      "source": [
        "df_full['max_floor_price_impact'] = df_full['max_floor'] / df_full['price_doc']"
      ],
      "metadata": {
        "id": "wx2tLn6RJJTd"
      },
      "execution_count": 70,
      "outputs": []
    },
    {
      "cell_type": "code",
      "source": [
        "sns.boxplot(data=df_full, x='max_floor_price_impact')"
      ],
      "metadata": {
        "colab": {
          "base_uri": "https://localhost:8080/",
          "height": 298
        },
        "id": "XcpesnoEUtAp",
        "outputId": "a97b30c1-db51-47c6-fdbb-2f8682d38fba"
      },
      "execution_count": 71,
      "outputs": [
        {
          "output_type": "execute_result",
          "data": {
            "text/plain": [
              "<matplotlib.axes._subplots.AxesSubplot at 0x7fd4202f6bb0>"
            ]
          },
          "metadata": {},
          "execution_count": 71
        },
        {
          "output_type": "display_data",
          "data": {
            "text/plain": [
              "<Figure size 432x288 with 1 Axes>"
            ],
            "image/png": "[encoded data removed]"
          },
          "metadata": {
            "needs_background": "light"
          }
        }
      ]
    },
    {
      "cell_type": "markdown",
      "source": [
        "- Тоже избавимся от пары выбросов"
      ],
      "metadata": {
        "id": "ylYiwJ1UXhbU"
      }
    },
    {
      "cell_type": "code",
      "source": [
        "df_full = clear_outliers(df_full, on_columns=['max_floor_price_impact'])"
      ],
      "metadata": {
        "id": "HjHlMxy_Xk4Y"
      },
      "execution_count": 72,
      "outputs": []
    },
    {
      "cell_type": "code",
      "source": [
        "sns.boxplot(data=df_full, x='max_floor_price_impact')"
      ],
      "metadata": {
        "colab": {
          "base_uri": "https://localhost:8080/",
          "height": 298
        },
        "id": "sEyLPUUQXrjK",
        "outputId": "6eb9b8a3-ef2f-4de6-c990-dcb202cd2ff6"
      },
      "execution_count": 73,
      "outputs": [
        {
          "output_type": "execute_result",
          "data": {
            "text/plain": [
              "<matplotlib.axes._subplots.AxesSubplot at 0x7fd4202a6340>"
            ]
          },
          "metadata": {},
          "execution_count": 73
        },
        {
          "output_type": "display_data",
          "data": {
            "text/plain": [
              "<Figure size 432x288 with 1 Axes>"
            ],
            "image/png": "[encoded data removed]"
          },
          "metadata": {
            "needs_background": "light"
          }
        }
      ]
    },
    {
      "cell_type": "markdown",
      "source": [
        "- 6) building_novelty: предположение что здание оснащено современными технологиями исходя из года постройки"
      ],
      "metadata": {
        "id": "e9K5-SVuJ91z"
      }
    },
    {
      "cell_type": "code",
      "source": [
        "df_full['building_novelty'] = df_full['build_year'].apply(lambda x: True if x.year > 2010 else False)"
      ],
      "metadata": {
        "id": "sIYK_oxDKHol"
      },
      "execution_count": 74,
      "outputs": []
    },
    {
      "cell_type": "code",
      "source": [
        "df_full.sample(5)"
      ],
      "metadata": {
        "colab": {
          "base_uri": "https://localhost:8080/",
          "height": 270
        },
        "id": "Yewr8XiFHK7D",
        "outputId": "bee4bb1b-7612-4078-cc0f-be5ecd243f75"
      },
      "execution_count": 75,
      "outputs": [
        {
          "output_type": "execute_result",
          "data": {
            "text/plain": [
              "          id  timestamp  full_sq  life_sq  floor   state  max_floor  material  \\\n",
              "10575  22494 2014-09-13     51.0     30.0   10.0  4.0000       14.0       1.0   \n",
              "9784   21507 2014-08-13     41.0     41.0    2.0  1.0000        2.0       4.0   \n",
              "228     9494 2013-07-29     32.0     18.0    8.0  4.0000        9.0       1.0   \n",
              "15629  28870 2015-04-03     38.0     38.0    1.0  1.0000        5.0       2.0   \n",
              "12624  25124 2014-11-21     41.0     18.0    1.0  2.1993        5.0       1.0   \n",
              "\n",
              "      build_year  num_room  kitch_sq  full_all  price_doc   salary  \\\n",
              "10575 1995-01-01       2.0       8.0  221709.0  6900000.0  61208.0   \n",
              "9784  2015-01-01       1.0       1.0  112221.0  7375615.0  61208.0   \n",
              "228   1970-01-01       1.0       6.0  111874.0  5200000.0  55485.2   \n",
              "15629        NaT       3.0       0.0  116742.0  5132545.0  64310.0   \n",
              "12624 1967-01-01       2.0      16.0  143661.0  4150000.0  61208.0   \n",
              "\n",
              "       fixed_basket  rent_price_3room_eco  rent_price_2room_eco  \\\n",
              "10575      16165.30                 51.41                 43.26   \n",
              "9784       16134.39                 52.81                 43.11   \n",
              "228        15163.82                 48.08                 41.42   \n",
              "15629      18642.71                 50.36                 39.92   \n",
              "12624      16648.70                 53.21                 43.23   \n",
              "\n",
              "       rent_price_1room_eco  average_life_exp  price_per_square  \\\n",
              "10575                 34.52             76.70       135294.1176   \n",
              "9784                  34.83             76.70       179893.0488   \n",
              "228                   32.55             76.37       162500.0000   \n",
              "15629                 31.41             76.77       135066.9737   \n",
              "12624                 34.30             76.70       101219.5122   \n",
              "\n",
              "       material_worth  sub_area  sub_area_prestige  region_life_cost  \\\n",
              "10575      6.9000e+06        48        143750.0000            3.7864   \n",
              "9784       1.8439e+06        18        409756.3889            3.7936   \n",
              "228        5.2000e+06        17        305882.3529            3.6591   \n",
              "15629      2.5663e+06       134         38302.5746            3.4496   \n",
              "12624      4.1500e+06       132         31439.3939            3.6764   \n",
              "\n",
              "       max_floor_price_impact  building_novelty  \n",
              "10575              2.0290e-06             False  \n",
              "9784               2.7116e-07              True  \n",
              "228                1.7308e-06             False  \n",
              "15629              9.7418e-07             False  \n",
              "12624              1.2048e-06             False  "
            ],
            "text/html": [
              "\n",
              "  <div id=\"df-81e37a42-03ce-4da9-9490-95482343c717\">\n",
              "    <div class=\"colab-df-container\">\n",
              "      <div>\n",
              "<style scoped>\n",
              "    .dataframe tbody tr th:only-of-type {\n",
              "        vertical-align: middle;\n",
              "    }\n",
              "\n",
              "    .dataframe tbody tr th {\n",
              "        vertical-align: top;\n",
              "    }\n",
              "\n",
              "    .dataframe thead th {\n",
              "        text-align: right;\n",
              "    }\n",
              "</style>\n",
              "<table border=\"1\" class=\"dataframe\">\n",
              "  <thead>\n",
              "    <tr style=\"text-align: right;\">\n",
              "      <th></th>\n",
              "      <th>id</th>\n",
              "      <th>timestamp</th>\n",
              "      <th>full_sq</th>\n",
              "      <th>life_sq</th>\n",
              "      <th>floor</th>\n",
              "      <th>state</th>\n",
              "      <th>max_floor</th>\n",
              "      <th>material</th>\n",
              "      <th>build_year</th>\n",
              "      <th>num_room</th>\n",
              "      <th>kitch_sq</th>\n",
              "      <th>full_all</th>\n",
              "      <th>price_doc</th>\n",
              "      <th>salary</th>\n",
              "      <th>fixed_basket</th>\n",
              "      <th>rent_price_3room_eco</th>\n",
              "      <th>rent_price_2room_eco</th>\n",
              "      <th>rent_price_1room_eco</th>\n",
              "      <th>average_life_exp</th>\n",
              "      <th>price_per_square</th>\n",
              "      <th>material_worth</th>\n",
              "      <th>sub_area</th>\n",
              "      <th>sub_area_prestige</th>\n",
              "      <th>region_life_cost</th>\n",
              "      <th>max_floor_price_impact</th>\n",
              "      <th>building_novelty</th>\n",
              "    </tr>\n",
              "  </thead>\n",
              "  <tbody>\n",
              "    <tr>\n",
              "      <th>10575</th>\n",
              "      <td>22494</td>\n",
              "      <td>2014-09-13</td>\n",
              "      <td>51.0</td>\n",
              "      <td>30.0</td>\n",
              "      <td>10.0</td>\n",
              "      <td>4.0000</td>\n",
              "      <td>14.0</td>\n",
              "      <td>1.0</td>\n",
              "      <td>1995-01-01</td>\n",
              "      <td>2.0</td>\n",
              "      <td>8.0</td>\n",
              "      <td>221709.0</td>\n",
              "      <td>6900000.0</td>\n",
              "      <td>61208.0</td>\n",
              "      <td>16165.30</td>\n",
              "      <td>51.41</td>\n",
              "      <td>43.26</td>\n",
              "      <td>34.52</td>\n",
              "      <td>76.70</td>\n",
              "      <td>135294.1176</td>\n",
              "      <td>6.9000e+06</td>\n",
              "      <td>48</td>\n",
              "      <td>143750.0000</td>\n",
              "      <td>3.7864</td>\n",
              "      <td>2.0290e-06</td>\n",
              "      <td>False</td>\n",
              "    </tr>\n",
              "    <tr>\n",
              "      <th>9784</th>\n",
              "      <td>21507</td>\n",
              "      <td>2014-08-13</td>\n",
              "      <td>41.0</td>\n",
              "      <td>41.0</td>\n",
              "      <td>2.0</td>\n",
              "      <td>1.0000</td>\n",
              "      <td>2.0</td>\n",
              "      <td>4.0</td>\n",
              "      <td>2015-01-01</td>\n",
              "      <td>1.0</td>\n",
              "      <td>1.0</td>\n",
              "      <td>112221.0</td>\n",
              "      <td>7375615.0</td>\n",
              "      <td>61208.0</td>\n",
              "      <td>16134.39</td>\n",
              "      <td>52.81</td>\n",
              "      <td>43.11</td>\n",
              "      <td>34.83</td>\n",
              "      <td>76.70</td>\n",
              "      <td>179893.0488</td>\n",
              "      <td>1.8439e+06</td>\n",
              "      <td>18</td>\n",
              "      <td>409756.3889</td>\n",
              "      <td>3.7936</td>\n",
              "      <td>2.7116e-07</td>\n",
              "      <td>True</td>\n",
              "    </tr>\n",
              "    <tr>\n",
              "      <th>228</th>\n",
              "      <td>9494</td>\n",
              "      <td>2013-07-29</td>\n",
              "      <td>32.0</td>\n",
              "      <td>18.0</td>\n",
              "      <td>8.0</td>\n",
              "      <td>4.0000</td>\n",
              "      <td>9.0</td>\n",
              "      <td>1.0</td>\n",
              "      <td>1970-01-01</td>\n",
              "      <td>1.0</td>\n",
              "      <td>6.0</td>\n",
              "      <td>111874.0</td>\n",
              "      <td>5200000.0</td>\n",
              "      <td>55485.2</td>\n",
              "      <td>15163.82</td>\n",
              "      <td>48.08</td>\n",
              "      <td>41.42</td>\n",
              "      <td>32.55</td>\n",
              "      <td>76.37</td>\n",
              "      <td>162500.0000</td>\n",
              "      <td>5.2000e+06</td>\n",
              "      <td>17</td>\n",
              "      <td>305882.3529</td>\n",
              "      <td>3.6591</td>\n",
              "      <td>1.7308e-06</td>\n",
              "      <td>False</td>\n",
              "    </tr>\n",
              "    <tr>\n",
              "      <th>15629</th>\n",
              "      <td>28870</td>\n",
              "      <td>2015-04-03</td>\n",
              "      <td>38.0</td>\n",
              "      <td>38.0</td>\n",
              "      <td>1.0</td>\n",
              "      <td>1.0000</td>\n",
              "      <td>5.0</td>\n",
              "      <td>2.0</td>\n",
              "      <td>NaT</td>\n",
              "      <td>3.0</td>\n",
              "      <td>0.0</td>\n",
              "      <td>116742.0</td>\n",
              "      <td>5132545.0</td>\n",
              "      <td>64310.0</td>\n",
              "      <td>18642.71</td>\n",
              "      <td>50.36</td>\n",
              "      <td>39.92</td>\n",
              "      <td>31.41</td>\n",
              "      <td>76.77</td>\n",
              "      <td>135066.9737</td>\n",
              "      <td>2.5663e+06</td>\n",
              "      <td>134</td>\n",
              "      <td>38302.5746</td>\n",
              "      <td>3.4496</td>\n",
              "      <td>9.7418e-07</td>\n",
              "      <td>False</td>\n",
              "    </tr>\n",
              "    <tr>\n",
              "      <th>12624</th>\n",
              "      <td>25124</td>\n",
              "      <td>2014-11-21</td>\n",
              "      <td>41.0</td>\n",
              "      <td>18.0</td>\n",
              "      <td>1.0</td>\n",
              "      <td>2.1993</td>\n",
              "      <td>5.0</td>\n",
              "      <td>1.0</td>\n",
              "      <td>1967-01-01</td>\n",
              "      <td>2.0</td>\n",
              "      <td>16.0</td>\n",
              "      <td>143661.0</td>\n",
              "      <td>4150000.0</td>\n",
              "      <td>61208.0</td>\n",
              "      <td>16648.70</td>\n",
              "      <td>53.21</td>\n",
              "      <td>43.23</td>\n",
              "      <td>34.30</td>\n",
              "      <td>76.70</td>\n",
              "      <td>101219.5122</td>\n",
              "      <td>4.1500e+06</td>\n",
              "      <td>132</td>\n",
              "      <td>31439.3939</td>\n",
              "      <td>3.6764</td>\n",
              "      <td>1.2048e-06</td>\n",
              "      <td>False</td>\n",
              "    </tr>\n",
              "  </tbody>\n",
              "</table>\n",
              "</div>\n",
              "      <button class=\"colab-df-convert\" onclick=\"convertToInteractive('df-81e37a42-03ce-4da9-9490-95482343c717')\"\n",
              "              title=\"Convert this dataframe to an interactive table.\"\n",
              "              style=\"display:none;\">\n",
              "        \n",
              "  <svg xmlns=\"http://www.w3.org/2000/svg\" height=\"24px\"viewBox=\"0 0 24 24\"\n",
              "       width=\"24px\">\n",
              "    <path d=\"M0 0h24v24H0V0z\" fill=\"none\"/>\n",
              "    <path d=\"M18.56 5.44l.94 2.06.94-2.06 2.06-.94-2.06-.94-.94-2.06-.94 2.06-2.06.94zm-11 1L8.5 8.5l.94-2.06 2.06-.94-2.06-.94L8.5 2.5l-.94 2.06-2.06.94zm10 10l.94 2.06.94-2.06 2.06-.94-2.06-.94-.94-2.06-.94 2.06-2.06.94z\"/><path d=\"M17.41 7.96l-1.37-1.37c-.4-.4-.92-.59-1.43-.59-.52 0-1.04.2-1.43.59L10.3 9.45l-7.72 7.72c-.78.78-.78 2.05 0 2.83L4 21.41c.39.39.9.59 1.41.59.51 0 1.02-.2 1.41-.59l7.78-7.78 2.81-2.81c.8-.78.8-2.07 0-2.86zM5.41 20L4 18.59l7.72-7.72 1.47 1.35L5.41 20z\"/>\n",
              "  </svg>\n",
              "      </button>\n",
              "      \n",
              "  <style>\n",
              "    .colab-df-container {\n",
              "      display:flex;\n",
              "      flex-wrap:wrap;\n",
              "      gap: 12px;\n",
              "    }\n",
              "\n",
              "    .colab-df-convert {\n",
              "      background-color: #E8F0FE;\n",
              "      border: none;\n",
              "      border-radius: 50%;\n",
              "      cursor: pointer;\n",
              "      display: none;\n",
              "      fill: #1967D2;\n",
              "      height: 32px;\n",
              "      padding: 0 0 0 0;\n",
              "      width: 32px;\n",
              "    }\n",
              "\n",
              "    .colab-df-convert:hover {\n",
              "      background-color: #E2EBFA;\n",
              "      box-shadow: 0px 1px 2px rgba(60, 64, 67, 0.3), 0px 1px 3px 1px rgba(60, 64, 67, 0.15);\n",
              "      fill: #174EA6;\n",
              "    }\n",
              "\n",
              "    [theme=dark] .colab-df-convert {\n",
              "      background-color: #3B4455;\n",
              "      fill: #D2E3FC;\n",
              "    }\n",
              "\n",
              "    [theme=dark] .colab-df-convert:hover {\n",
              "      background-color: #434B5C;\n",
              "      box-shadow: 0px 1px 3px 1px rgba(0, 0, 0, 0.15);\n",
              "      filter: drop-shadow(0px 1px 2px rgba(0, 0, 0, 0.3));\n",
              "      fill: #FFFFFF;\n",
              "    }\n",
              "  </style>\n",
              "\n",
              "      <script>\n",
              "        const buttonEl =\n",
              "          document.querySelector('#df-81e37a42-03ce-4da9-9490-95482343c717 button.colab-df-convert');\n",
              "        buttonEl.style.display =\n",
              "          google.colab.kernel.accessAllowed ? 'block' : 'none';\n",
              "\n",
              "        async function convertToInteractive(key) {\n",
              "          const element = document.querySelector('#df-81e37a42-03ce-4da9-9490-95482343c717');\n",
              "          const dataTable =\n",
              "            await google.colab.kernel.invokeFunction('convertToInteractive',\n",
              "                                                     [key], {});\n",
              "          if (!dataTable) return;\n",
              "\n",
              "          const docLinkHtml = 'Like what you see? Visit the ' +\n",
              "            '<a target=\"_blank\" href=https://colab.research.google.com/notebooks/data_table.ipynb>data table notebook</a>'\n",
              "            + ' to learn more about interactive tables.';\n",
              "          element.innerHTML = '';\n",
              "          dataTable['output_type'] = 'display_data';\n",
              "          await google.colab.output.renderOutput(dataTable, element);\n",
              "          const docLink = document.createElement('div');\n",
              "          docLink.innerHTML = docLinkHtml;\n",
              "          element.appendChild(docLink);\n",
              "        }\n",
              "      </script>\n",
              "    </div>\n",
              "  </div>\n",
              "  "
            ]
          },
          "metadata": {},
          "execution_count": 75
        }
      ]
    },
    {
      "cell_type": "markdown",
      "source": [
        "- Так как я обнулял некоторые выбросы, заменим их значения NaN на среднее"
      ],
      "metadata": {
        "id": "nsO9q-CMYETw"
      }
    },
    {
      "cell_type": "code",
      "source": [
        "count_nan(df_full)"
      ],
      "metadata": {
        "colab": {
          "base_uri": "https://localhost:8080/"
        },
        "id": "bHmyFCg1YS8X",
        "outputId": "562754fd-b452-4528-9ec2-d0734d4c8ac7"
      },
      "execution_count": 76,
      "outputs": [
        {
          "output_type": "stream",
          "name": "stdout",
          "text": [
            "id: 0\n",
            "timestamp: 0\n",
            "full_sq: 0\n",
            "life_sq: 0\n",
            "floor: 0\n",
            "state: 0\n",
            "max_floor: 0\n",
            "material: 0\n",
            "build_year: 2905\n",
            "num_room: 0\n",
            "kitch_sq: 0\n",
            "full_all: 0\n",
            "price_doc: 0\n",
            "salary: 0\n",
            "fixed_basket: 0\n",
            "rent_price_3room_eco: 0\n",
            "rent_price_2room_eco: 0\n",
            "rent_price_1room_eco: 0\n",
            "average_life_exp: 0\n",
            "price_per_square: 0\n",
            "material_worth: 0\n",
            "sub_area: 0\n",
            "sub_area_prestige: 0\n",
            "region_life_cost: 8\n",
            "max_floor_price_impact: 370\n",
            "building_novelty: 0\n"
          ]
        }
      ]
    },
    {
      "cell_type": "code",
      "source": [
        "df_full = fill_nan_data(df_full)"
      ],
      "metadata": {
        "id": "hPvVPM5IYMac"
      },
      "execution_count": 77,
      "outputs": []
    },
    {
      "cell_type": "code",
      "source": [
        "count_nan(df_full)"
      ],
      "metadata": {
        "colab": {
          "base_uri": "https://localhost:8080/"
        },
        "id": "prxLrczaYfG1",
        "outputId": "afa2f779-07d5-4f94-e325-fd00638505e1"
      },
      "execution_count": 78,
      "outputs": [
        {
          "output_type": "stream",
          "name": "stdout",
          "text": [
            "id: 0\n",
            "timestamp: 0\n",
            "full_sq: 0\n",
            "life_sq: 0\n",
            "floor: 0\n",
            "state: 0\n",
            "max_floor: 0\n",
            "material: 0\n",
            "build_year: 2905\n",
            "num_room: 0\n",
            "kitch_sq: 0\n",
            "full_all: 0\n",
            "price_doc: 0\n",
            "salary: 0\n",
            "fixed_basket: 0\n",
            "rent_price_3room_eco: 0\n",
            "rent_price_2room_eco: 0\n",
            "rent_price_1room_eco: 0\n",
            "average_life_exp: 0\n",
            "price_per_square: 0\n",
            "material_worth: 0\n",
            "sub_area: 0\n",
            "sub_area_prestige: 0\n",
            "region_life_cost: 0\n",
            "max_floor_price_impact: 0\n",
            "building_novelty: 0\n"
          ]
        }
      ]
    },
    {
      "cell_type": "markdown",
      "source": [
        "## 1.7 Провести визуальный анализ всех признаков\n",
        "\n",
        "Ко всем графикам писать выводы текстом. Что вы видите, почему построили именно такую диаграмму"
      ],
      "metadata": {
        "id": "8xe_gJF1GFc-"
      }
    },
    {
      "cell_type": "markdown",
      "source": [
        "### 1.7.1 Анализ признаков по отдельности (где нужно делать группировки, преобразования категориальных типов данных к числовым, смотреть в разрезе других категориальных признаков)"
      ],
      "metadata": {
        "id": "esU3qvLVGF_-"
      }
    },
    {
      "cell_type": "markdown",
      "source": [
        "### Общая визуализация"
      ],
      "metadata": {
        "id": "ODqAqmxDyiBj"
      }
    },
    {
      "cell_type": "markdown",
      "source": [
        "### Создадим тепловую карту для выделения моментов на которые стоит обратить внимание"
      ],
      "metadata": {
        "id": "wBj66Mkd499r"
      }
    },
    {
      "cell_type": "code",
      "source": [
        "df_full_visual = df_full.copy()\n",
        "df_full_visual.drop(labels=['id'], axis=1, inplace=True)"
      ],
      "metadata": {
        "id": "UsvSLjVFO2Yb"
      },
      "execution_count": 79,
      "outputs": []
    },
    {
      "cell_type": "code",
      "source": [
        "fig, ax = plt.subplots(figsize=(11, 10))\n",
        "sns.heatmap(df_full_visual.corr(), annot=False)\n",
        "plt.show()"
      ],
      "metadata": {
        "colab": {
          "base_uri": "https://localhost:8080/",
          "height": 704
        },
        "id": "8s10O_S1Y3kE",
        "outputId": "cf0445c4-031a-41e1-da28-23037497318d"
      },
      "execution_count": 80,
      "outputs": [
        {
          "output_type": "display_data",
          "data": {
            "text/plain": [
              "<Figure size 792x720 with 2 Axes>"
            ],
            "image/png": "[encoded data removed]"
          },
          "metadata": {
            "needs_background": "light"
          }
        }
      ]
    },
    {
      "cell_type": "markdown",
      "source": [
        "### Из тепловой карты можно визуально выделить несколько моментов:"
      ],
      "metadata": {
        "id": "M7CBKcc_OSeO"
      }
    },
    {
      "cell_type": "markdown",
      "source": [
        "1. full_sq - life_sq\n",
        "2. full_sq - num_room\n",
        "3. full_sq - price_doc\n",
        "4. life_sq - num_room\n",
        "5. life_sq - price_doc\n",
        "6. max_floor - floor\n",
        "7. max_floor_price_impact - max_floor\n",
        "8. material_worth - price_doc\n",
        "9. average_life_exp - salary\n",
        "10. average_life_exp - fixed_basket\n",
        "11. average_life_exp - rent_price_3room_eco\n",
        "12. average_life_exp - rent_price_2room_eco\n",
        "13. average_life_exp - rent_price_1room_eco\n",
        "14. price_doc - num_room\n",
        "15. material_worth - num_room\n",
        "16. salary - fixed_basket\n"
      ],
      "metadata": {
        "id": "XujOENNQPodG"
      }
    },
    {
      "cell_type": "code",
      "source": [
        "# def hist_plot_columns(dataframe, cols, start=0, end=300, num=10):\n",
        "def hist_plot_columns(dataframe, cols, start=0, num=10):\n",
        "    for col in dataframe[cols]:\n",
        "        fig, ax = plt.subplots(figsize=(25,6))\n",
        "        sns.histplot(data=dataframe, x=col, bins=20, kde=True, color='blue')\n",
        "        ax.set_title(col, size=15)\n",
        "        end = dataframe[col].max()\n",
        "        ax.set_xticks(np.linspace(start, end, num))\n",
        "        plt.show()"
      ],
      "metadata": {
        "id": "4EJtWaIaiJZ8"
      },
      "execution_count": 153,
      "outputs": []
    },
    {
      "cell_type": "markdown",
      "source": [
        "### 1. full_sq - life_sq"
      ],
      "metadata": {
        "id": "HImBd1HDPZHj"
      }
    },
    {
      "cell_type": "code",
      "source": [
        "# max_full_square = df_full['full_sq'].max()"
      ],
      "metadata": {
        "id": "C8sANz6ZsXN_"
      },
      "execution_count": 143,
      "outputs": []
    },
    {
      "cell_type": "code",
      "source": [
        "hist_plot_columns(df_full, ['full_sq'], num = 20)"
      ],
      "metadata": {
        "colab": {
          "base_uri": "https://localhost:8080/",
          "height": 407
        },
        "id": "dWcq7U5NSFpC",
        "outputId": "8779a4b8-2aee-4fe2-f635-4b60835d8fa4"
      },
      "execution_count": 154,
      "outputs": [
        {
          "output_type": "display_data",
          "data": {
            "text/plain": [
              "<Figure size 1800x432 with 1 Axes>"
            ],
            "image/png": "[encoded data removed]"
          },
          "metadata": {
            "needs_background": "light"
          }
        }
      ]
    },
    {
      "cell_type": "code",
      "source": [
        "hist_plot_columns(df_full, ['life_sq'], num = 20)"
      ],
      "metadata": {
        "colab": {
          "base_uri": "https://localhost:8080/",
          "height": 407
        },
        "id": "YW4_Gx99sec9",
        "outputId": "049a6a55-dd7b-435a-d6c3-d115a29761d5"
      },
      "execution_count": 157,
      "outputs": [
        {
          "output_type": "display_data",
          "data": {
            "text/plain": [
              "<Figure size 1800x432 with 1 Axes>"
            ],
            "image/png": "[encoded data removed]"
          },
          "metadata": {
            "needs_background": "light"
          }
        }
      ]
    },
    {
      "cell_type": "markdown",
      "source": [
        "На данных графиках можно увидеть, что большинство площадей квартир приходится на 30-60 единиц и при этом большинство жилого пространства имеют площадь 15 - ~45 единиц, из этого можно сделать вывод о том что большинство квартир имеют прямую зависимость - чем больше общая площадь - тем больше жилое пространство, и большинство квартин не очень большие, помимо чего, если приглядеться ближе к значениям от 70 на обоих графиках, то жилая площадь несоизмеримо падает по отношению к общей, скорее всего от того, что общая площадь выделена под что-то другое."
      ],
      "metadata": {
        "id": "I1Jel8EgVEaZ"
      }
    },
    {
      "cell_type": "markdown",
      "source": [
        "### 2. full_sq - num_room"
      ],
      "metadata": {
        "id": "Q4iyqya0qnxq"
      }
    },
    {
      "cell_type": "code",
      "source": [
        "hist_plot_columns(df_full, ['full_sq'])"
      ],
      "metadata": {
        "colab": {
          "base_uri": "https://localhost:8080/",
          "height": 407
        },
        "id": "cfQRGIn_qOv6",
        "outputId": "fbcf21b9-850b-4f09-deef-0ed640300fd2"
      },
      "execution_count": 158,
      "outputs": [
        {
          "output_type": "display_data",
          "data": {
            "text/plain": [
              "<Figure size 1800x432 with 1 Axes>"
            ],
            "image/png": "[encoded data removed]"
          },
          "metadata": {
            "needs_background": "light"
          }
        }
      ]
    },
    {
      "cell_type": "code",
      "source": [
        "hist_plot_columns(df_full, ['num_room'])"
      ],
      "metadata": {
        "colab": {
          "base_uri": "https://localhost:8080/",
          "height": 405
        },
        "id": "_hY81dl3qa86",
        "outputId": "f3e1ae66-0d63-49a0-c9cc-35b2a26cac65"
      },
      "execution_count": 160,
      "outputs": [
        {
          "output_type": "display_data",
          "data": {
            "text/plain": [
              "<Figure size 1800x432 with 1 Axes>"
            ],
            "image/png": "[encoded data removed]"
          },
          "metadata": {
            "needs_background": "light"
          }
        }
      ]
    },
    {
      "cell_type": "markdown",
      "source": [
        "Зависимость между общей площадью и количеством комнат в принципе не нужно объяснять - больше общая площадь - больше комнат, все прямолинейно, изображено двумя отдельными графиками, по причине того что количество значений по оси абсцисс сильно различаются в велиине"
      ],
      "metadata": {
        "id": "Uz87GfNvquTy"
      }
    },
    {
      "cell_type": "markdown",
      "source": [
        "### 3. price_doc - full_sq / num_room"
      ],
      "metadata": {
        "id": "9oVWBVfmrMOr"
      }
    },
    {
      "cell_type": "code",
      "source": [
        "hist_plot_columns(df_full, ['price_doc'])"
      ],
      "metadata": {
        "colab": {
          "base_uri": "https://localhost:8080/",
          "height": 407
        },
        "id": "xxYxU5AvrbN8",
        "outputId": "4c4317e7-cd4b-4eb8-d448-6737ce99eb5b"
      },
      "execution_count": 162,
      "outputs": [
        {
          "output_type": "display_data",
          "data": {
            "text/plain": [
              "<Figure size 1800x432 with 1 Axes>"
            ],
            "image/png": "[encoded data removed]"
          },
          "metadata": {
            "needs_background": "light"
          }
        }
      ]
    },
    {
      "cell_type": "code",
      "source": [
        "hist_plot_columns(df_full, ['full_sq'])"
      ],
      "metadata": {
        "colab": {
          "base_uri": "https://localhost:8080/",
          "height": 407
        },
        "id": "IoGGWOFhrOYe",
        "outputId": "3f46abc3-2d26-454f-dc64-ebc2cf484489"
      },
      "execution_count": 161,
      "outputs": [
        {
          "output_type": "display_data",
          "data": {
            "text/plain": [
              "<Figure size 1800x432 with 1 Axes>"
            ],
            "image/png": "[encoded data removed]"
          },
          "metadata": {
            "needs_background": "light"
          }
        }
      ]
    },
    {
      "cell_type": "code",
      "source": [
        "hist_plot_columns(df_full, ['num_room'])"
      ],
      "metadata": {
        "colab": {
          "base_uri": "https://localhost:8080/",
          "height": 405
        },
        "id": "CBNVVSI1tX9P",
        "outputId": "0ee05cfa-e788-477f-cba7-0daac606c555"
      },
      "execution_count": 163,
      "outputs": [
        {
          "output_type": "display_data",
          "data": {
            "text/plain": [
              "<Figure size 1800x432 with 1 Axes>"
            ],
            "image/png": "[encoded data removed]"
          },
          "metadata": {
            "needs_background": "light"
          }
        }
      ]
    },
    {
      "cell_type": "markdown",
      "source": [
        "Больше цена по документам - больше площадь и комнаты, что и подтверждается предыдущими пунктами"
      ],
      "metadata": {
        "id": "B7kT7fs8sJym"
      }
    },
    {
      "cell_type": "code",
      "source": [],
      "metadata": {
        "id": "vAGAXyperJoC"
      },
      "execution_count": null,
      "outputs": []
    },
    {
      "cell_type": "code",
      "source": [],
      "metadata": {
        "id": "ptU9sQFfq57C"
      },
      "execution_count": null,
      "outputs": []
    },
    {
      "cell_type": "markdown",
      "source": [
        "### 1.7.2 Анализ совместного влияния признаков и их влияния на целевой признак"
      ],
      "metadata": {
        "id": "_SXlluEpGGR2"
      }
    },
    {
      "cell_type": "code",
      "source": [],
      "metadata": {
        "id": "bSMrXZ5CGHxW"
      },
      "execution_count": 82,
      "outputs": []
    }
  ]
}